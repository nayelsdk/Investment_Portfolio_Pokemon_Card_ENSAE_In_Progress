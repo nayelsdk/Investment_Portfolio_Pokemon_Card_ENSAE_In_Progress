{
 "cells": [
  {
   "cell_type": "code",
   "execution_count": 1,
   "metadata": {},
   "outputs": [
    {
     "name": "stdout",
     "output_type": "stream",
     "text": [
      "Intel MKL WARNING: Support of Intel(R) Streaming SIMD Extensions 4.2 (Intel(R) SSE4.2) enabled only processors has been deprecated. Intel oneAPI Math Kernel Library 2025.0 will require Intel(R) Advanced Vector Extensions (Intel(R) AVX) instructions.\n",
      "Intel MKL WARNING: Support of Intel(R) Streaming SIMD Extensions 4.2 (Intel(R) SSE4.2) enabled only processors has been deprecated. Intel oneAPI Math Kernel Library 2025.0 will require Intel(R) Advanced Vector Extensions (Intel(R) AVX) instructions.\n"
     ]
    }
   ],
   "source": [
    "from PokemonCardManager import *\n",
    "from GetHistoricCardPrices import save_historic_prices"
   ]
  },
  {
   "cell_type": "code",
   "execution_count": 2,
   "metadata": {},
   "outputs": [],
   "source": [
    "df=pd.read_csv('pokemon_cards.csv')"
   ]
  },
  {
   "cell_type": "code",
   "execution_count": 3,
   "metadata": {},
   "outputs": [
    {
     "name": "stderr",
     "output_type": "stream",
     "text": [
      "Price Extraction:  22%|██▏       | 824/3821 [14:09<4:49:29,  5.80s/it, Processing dpp-DP28]          "
     ]
    },
    {
     "name": "stdout",
     "output_type": "stream",
     "text": [
      "Click failed for //label[span[text()=\"Near Mint\"]]: Message: \n",
      "Stacktrace:\n",
      "0   chromedriver                        0x0000000100f8ee12 chromedriver + 6696466\n",
      "1   chromedriver                        0x0000000100f86c2a chromedriver + 6663210\n",
      "2   chromedriver                        0x000000010098ee3e chromedriver + 405054\n",
      "3   chromedriver                        0x00000001009df815 chromedriver + 735253\n",
      "4   chromedriver                        0x00000001009dfd11 chromedriver + 736529\n",
      "5   chromedriver                        0x0000000100a2a314 chromedriver + 1041172\n",
      "6   chromedriver                        0x0000000100a0489d chromedriver + 886941\n",
      "7   chromedriver                        0x0000000100a273f4 chromedriver + 1029108\n",
      "8   chromedriver                        0x0000000100a04613 chromedriver + 886291\n",
      "9   chromedriver                        0x00000001009d1950 chromedriver + 678224\n",
      "10  chromedriver                        0x00000001009d234e chromedriver + 680782\n",
      "11  chromedriver                        0x0000000100f5c700 chromedriver + 6489856\n",
      "12  chromedriver                        0x0000000100f5f1a9 chromedriver + 6500777\n",
      "13  chromedriver                        0x0000000100f5eccb chromedriver + 6499531\n",
      "14  chromedriver                        0x0000000100f5f635 chromedriver + 6501941\n",
      "15  chromedriver                        0x0000000100f474b4 chromedriver + 6403252\n",
      "16  chromedriver                        0x0000000100f5f91f chromedriver + 6502687\n",
      "17  chromedriver                        0x0000000100f388e4 chromedriver + 6342884\n",
      "18  chromedriver                        0x0000000100f77308 chromedriver + 6599432\n",
      "19  chromedriver                        0x0000000100f774c5 chromedriver + 6599877\n",
      "20  chromedriver                        0x0000000100f867f8 chromedriver + 6662136\n",
      "21  libsystem_pthread.dylib             0x00007ff80b5b7253 _pthread_start + 99\n",
      "22  libsystem_pthread.dylib             0x00007ff80b5b2bef thread_start + 15\n",
      "\n",
      "Click failed for selector: //label[span[text()=\"Near Mint\"]]\n"
     ]
    },
    {
     "name": "stderr",
     "output_type": "stream",
     "text": [
      "Price Extraction:  49%|████▉     | 1866/3821 [31:30<2:22:26,  4.37s/it, Processing pl4-SH10]          "
     ]
    },
    {
     "name": "stdout",
     "output_type": "stream",
     "text": [
      "Click failed for //label[span[text()=\"Near Mint\"]]: Message: \n",
      "Stacktrace:\n",
      "0   chromedriver                        0x0000000100b4ae12 chromedriver + 6696466\n",
      "1   chromedriver                        0x0000000100b42c2a chromedriver + 6663210\n",
      "2   chromedriver                        0x000000010054ae3e chromedriver + 405054\n",
      "3   chromedriver                        0x000000010059b815 chromedriver + 735253\n",
      "4   chromedriver                        0x000000010059bd11 chromedriver + 736529\n",
      "5   chromedriver                        0x00000001005e6314 chromedriver + 1041172\n",
      "6   chromedriver                        0x00000001005c089d chromedriver + 886941\n",
      "7   chromedriver                        0x00000001005e33f4 chromedriver + 1029108\n",
      "8   chromedriver                        0x00000001005c0613 chromedriver + 886291\n",
      "9   chromedriver                        0x000000010058d950 chromedriver + 678224\n",
      "10  chromedriver                        0x000000010058e34e chromedriver + 680782\n",
      "11  chromedriver                        0x0000000100b18700 chromedriver + 6489856\n",
      "12  chromedriver                        0x0000000100b1b1a9 chromedriver + 6500777\n",
      "13  chromedriver                        0x0000000100b1accb chromedriver + 6499531\n",
      "14  chromedriver                        0x0000000100b1b635 chromedriver + 6501941\n",
      "15  chromedriver                        0x0000000100b034b4 chromedriver + 6403252\n",
      "16  chromedriver                        0x0000000100b1b91f chromedriver + 6502687\n",
      "17  chromedriver                        0x0000000100af48e4 chromedriver + 6342884\n",
      "18  chromedriver                        0x0000000100b33308 chromedriver + 6599432\n",
      "19  chromedriver                        0x0000000100b334c5 chromedriver + 6599877\n",
      "20  chromedriver                        0x0000000100b427f8 chromedriver + 6662136\n",
      "21  libsystem_pthread.dylib             0x00007ff80b5b7253 _pthread_start + 99\n",
      "22  libsystem_pthread.dylib             0x00007ff80b5b2bef thread_start + 15\n",
      "\n",
      "Click failed for selector: //label[span[text()=\"Near Mint\"]]\n"
     ]
    },
    {
     "name": "stderr",
     "output_type": "stream",
     "text": [
      "Price Extraction:  50%|████▉     | 1906/3821 [31:51<1:06:05,  2.07s/it, Processing ex4-96]         "
     ]
    },
    {
     "name": "stdout",
     "output_type": "stream",
     "text": [
      "Click failed for //label[span[text()=\"Near Mint\"]]: Message: \n",
      "Stacktrace:\n",
      "0   chromedriver                        0x0000000101498e12 chromedriver + 6696466\n",
      "1   chromedriver                        0x0000000101490c2a chromedriver + 6663210\n",
      "2   chromedriver                        0x0000000100e98e3e chromedriver + 405054\n",
      "3   chromedriver                        0x0000000100ee9815 chromedriver + 735253\n",
      "4   chromedriver                        0x0000000100ee9d11 chromedriver + 736529\n",
      "5   chromedriver                        0x0000000100f34314 chromedriver + 1041172\n",
      "6   chromedriver                        0x0000000100f0e89d chromedriver + 886941\n",
      "7   chromedriver                        0x0000000100f313f4 chromedriver + 1029108\n",
      "8   chromedriver                        0x0000000100f0e613 chromedriver + 886291\n",
      "9   chromedriver                        0x0000000100edb950 chromedriver + 678224\n",
      "10  chromedriver                        0x0000000100edc34e chromedriver + 680782\n",
      "11  chromedriver                        0x0000000101466700 chromedriver + 6489856\n",
      "12  chromedriver                        0x00000001014691a9 chromedriver + 6500777\n",
      "13  chromedriver                        0x0000000101468ccb chromedriver + 6499531\n",
      "14  chromedriver                        0x0000000101469635 chromedriver + 6501941\n",
      "15  chromedriver                        0x00000001014514b4 chromedriver + 6403252\n",
      "16  chromedriver                        0x000000010146991f chromedriver + 6502687\n",
      "17  chromedriver                        0x00000001014428e4 chromedriver + 6342884\n",
      "18  chromedriver                        0x0000000101481308 chromedriver + 6599432\n",
      "19  chromedriver                        0x00000001014814c5 chromedriver + 6599877\n",
      "20  chromedriver                        0x00000001014907f8 chromedriver + 6662136\n",
      "21  libsystem_pthread.dylib             0x00007ff80b5b7253 _pthread_start + 99\n",
      "22  libsystem_pthread.dylib             0x00007ff80b5b2bef thread_start + 15\n",
      "\n",
      "Click failed for selector: //label[span[text()=\"Near Mint\"]]\n"
     ]
    },
    {
     "name": "stderr",
     "output_type": "stream",
     "text": [
      "Price Extraction:  52%|█████▏    | 1989/3821 [42:51<5:22:54, 10.58s/it, Processing pl2-103]        "
     ]
    },
    {
     "name": "stdout",
     "output_type": "stream",
     "text": [
      "Click failed for //label[span[text()=\"Near Mint\"]]: Message: \n",
      "Stacktrace:\n",
      "0   chromedriver                        0x0000000100dabe12 chromedriver + 6696466\n",
      "1   chromedriver                        0x0000000100da3c2a chromedriver + 6663210\n",
      "2   chromedriver                        0x00000001007abe3e chromedriver + 405054\n",
      "3   chromedriver                        0x00000001007fc815 chromedriver + 735253\n",
      "4   chromedriver                        0x00000001007fcd11 chromedriver + 736529\n",
      "5   chromedriver                        0x0000000100847314 chromedriver + 1041172\n",
      "6   chromedriver                        0x000000010082189d chromedriver + 886941\n",
      "7   chromedriver                        0x00000001008443f4 chromedriver + 1029108\n",
      "8   chromedriver                        0x0000000100821613 chromedriver + 886291\n",
      "9   chromedriver                        0x00000001007ee950 chromedriver + 678224\n",
      "10  chromedriver                        0x00000001007ef34e chromedriver + 680782\n",
      "11  chromedriver                        0x0000000100d79700 chromedriver + 6489856\n",
      "12  chromedriver                        0x0000000100d7c1a9 chromedriver + 6500777\n",
      "13  chromedriver                        0x0000000100d7bccb chromedriver + 6499531\n",
      "14  chromedriver                        0x0000000100d7c635 chromedriver + 6501941\n",
      "15  chromedriver                        0x0000000100d644b4 chromedriver + 6403252\n",
      "16  chromedriver                        0x0000000100d7c91f chromedriver + 6502687\n",
      "17  chromedriver                        0x0000000100d558e4 chromedriver + 6342884\n",
      "18  chromedriver                        0x0000000100d94308 chromedriver + 6599432\n",
      "19  chromedriver                        0x0000000100d944c5 chromedriver + 6599877\n",
      "20  chromedriver                        0x0000000100da37f8 chromedriver + 6662136\n",
      "21  libsystem_pthread.dylib             0x00007ff80b5b7253 _pthread_start + 99\n",
      "22  libsystem_pthread.dylib             0x00007ff80b5b2bef thread_start + 15\n",
      "\n",
      "Click failed for selector: //label[span[text()=\"Near Mint\"]]\n"
     ]
    },
    {
     "name": "stderr",
     "output_type": "stream",
     "text": [
      "Price Extraction:  52%|█████▏    | 2005/3821 [48:20<7:10:54, 14.24s/it, Processing dp5-100]        "
     ]
    },
    {
     "name": "stdout",
     "output_type": "stream",
     "text": [
      "Click failed for //label[span[text()=\"Near Mint\"]]: Message: \n",
      "Stacktrace:\n",
      "0   chromedriver                        0x0000000104dcee12 chromedriver + 6696466\n",
      "1   chromedriver                        0x0000000104dc6c2a chromedriver + 6663210\n",
      "2   chromedriver                        0x00000001047cee3e chromedriver + 405054\n",
      "3   chromedriver                        0x000000010481f815 chromedriver + 735253\n",
      "4   chromedriver                        0x000000010481fd11 chromedriver + 736529\n",
      "5   chromedriver                        0x000000010486a314 chromedriver + 1041172\n",
      "6   chromedriver                        0x000000010484489d chromedriver + 886941\n",
      "7   chromedriver                        0x00000001048673f4 chromedriver + 1029108\n",
      "8   chromedriver                        0x0000000104844613 chromedriver + 886291\n",
      "9   chromedriver                        0x0000000104811950 chromedriver + 678224\n",
      "10  chromedriver                        0x000000010481234e chromedriver + 680782\n",
      "11  chromedriver                        0x0000000104d9c700 chromedriver + 6489856\n",
      "12  chromedriver                        0x0000000104d9f1a9 chromedriver + 6500777\n",
      "13  chromedriver                        0x0000000104d9eccb chromedriver + 6499531\n",
      "14  chromedriver                        0x0000000104d9f635 chromedriver + 6501941\n",
      "15  chromedriver                        0x0000000104d874b4 chromedriver + 6403252\n",
      "16  chromedriver                        0x0000000104d9f91f chromedriver + 6502687\n",
      "17  chromedriver                        0x0000000104d788e4 chromedriver + 6342884\n",
      "18  chromedriver                        0x0000000104db7308 chromedriver + 6599432\n",
      "19  chromedriver                        0x0000000104db74c5 chromedriver + 6599877\n",
      "20  chromedriver                        0x0000000104dc67f8 chromedriver + 6662136\n",
      "21  libsystem_pthread.dylib             0x00007ff80b5b7253 _pthread_start + 99\n",
      "22  libsystem_pthread.dylib             0x00007ff80b5b2bef thread_start + 15\n",
      "\n",
      "Click failed for selector: //label[span[text()=\"Near Mint\"]]\n"
     ]
    },
    {
     "name": "stderr",
     "output_type": "stream",
     "text": [
      "Price Extraction:  53%|█████▎    | 2026/3821 [54:31<7:28:49, 15.00s/it, Processing ex15-93]        "
     ]
    },
    {
     "name": "stdout",
     "output_type": "stream",
     "text": [
      "Click failed for //label[span[text()=\"Near Mint\"]]: Message: \n",
      "Stacktrace:\n",
      "0   chromedriver                        0x0000000104c26e12 chromedriver + 6696466\n",
      "1   chromedriver                        0x0000000104c1ec2a chromedriver + 6663210\n",
      "2   chromedriver                        0x0000000104626e3e chromedriver + 405054\n",
      "3   chromedriver                        0x0000000104677815 chromedriver + 735253\n",
      "4   chromedriver                        0x0000000104677d11 chromedriver + 736529\n",
      "5   chromedriver                        0x00000001046c2314 chromedriver + 1041172\n",
      "6   chromedriver                        0x000000010469c89d chromedriver + 886941\n",
      "7   chromedriver                        0x00000001046bf3f4 chromedriver + 1029108\n",
      "8   chromedriver                        0x000000010469c613 chromedriver + 886291\n",
      "9   chromedriver                        0x0000000104669950 chromedriver + 678224\n",
      "10  chromedriver                        0x000000010466a34e chromedriver + 680782\n",
      "11  chromedriver                        0x0000000104bf4700 chromedriver + 6489856\n",
      "12  chromedriver                        0x0000000104bf71a9 chromedriver + 6500777\n",
      "13  chromedriver                        0x0000000104bf6ccb chromedriver + 6499531\n",
      "14  chromedriver                        0x0000000104bf7635 chromedriver + 6501941\n",
      "15  chromedriver                        0x0000000104bdf4b4 chromedriver + 6403252\n",
      "16  chromedriver                        0x0000000104bf791f chromedriver + 6502687\n",
      "17  chromedriver                        0x0000000104bd08e4 chromedriver + 6342884\n",
      "18  chromedriver                        0x0000000104c0f308 chromedriver + 6599432\n",
      "19  chromedriver                        0x0000000104c0f4c5 chromedriver + 6599877\n",
      "20  chromedriver                        0x0000000104c1e7f8 chromedriver + 6662136\n",
      "21  libsystem_pthread.dylib             0x00007ff80b5b7253 _pthread_start + 99\n",
      "22  libsystem_pthread.dylib             0x00007ff80b5b2bef thread_start + 15\n",
      "\n",
      "Click failed for selector: //label[span[text()=\"Near Mint\"]]\n"
     ]
    },
    {
     "name": "stderr",
     "output_type": "stream",
     "text": [
      "Price Extraction:  55%|█████▌    | 2109/3821 [1:18:09<4:57:20, 10.42s/it, Processing ex7-105]         "
     ]
    },
    {
     "name": "stdout",
     "output_type": "stream",
     "text": [
      "Click failed for //label[span[text()=\"Near Mint\"]]: Message: \n",
      "Stacktrace:\n",
      "0   chromedriver                        0x000000010317ce12 chromedriver + 6696466\n",
      "1   chromedriver                        0x0000000103174c2a chromedriver + 6663210\n",
      "2   chromedriver                        0x0000000102b7ce3e chromedriver + 405054\n",
      "3   chromedriver                        0x0000000102bcd815 chromedriver + 735253\n",
      "4   chromedriver                        0x0000000102bcdd11 chromedriver + 736529\n",
      "5   chromedriver                        0x0000000102c18314 chromedriver + 1041172\n",
      "6   chromedriver                        0x0000000102bf289d chromedriver + 886941\n",
      "7   chromedriver                        0x0000000102c153f4 chromedriver + 1029108\n",
      "8   chromedriver                        0x0000000102bf2613 chromedriver + 886291\n",
      "9   chromedriver                        0x0000000102bbf950 chromedriver + 678224\n",
      "10  chromedriver                        0x0000000102bc034e chromedriver + 680782\n",
      "11  chromedriver                        0x000000010314a700 chromedriver + 6489856\n",
      "12  chromedriver                        0x000000010314d1a9 chromedriver + 6500777\n",
      "13  chromedriver                        0x000000010314cccb chromedriver + 6499531\n",
      "14  chromedriver                        0x000000010314d635 chromedriver + 6501941\n",
      "15  chromedriver                        0x00000001031354b4 chromedriver + 6403252\n",
      "16  chromedriver                        0x000000010314d91f chromedriver + 6502687\n",
      "17  chromedriver                        0x00000001031268e4 chromedriver + 6342884\n",
      "18  chromedriver                        0x0000000103165308 chromedriver + 6599432\n",
      "19  chromedriver                        0x00000001031654c5 chromedriver + 6599877\n",
      "20  chromedriver                        0x00000001031747f8 chromedriver + 6662136\n",
      "21  libsystem_pthread.dylib             0x00007ff80b5b7253 _pthread_start + 99\n",
      "22  libsystem_pthread.dylib             0x00007ff80b5b2bef thread_start + 15\n",
      "\n",
      "Click failed for selector: //label[span[text()=\"Near Mint\"]]\n"
     ]
    },
    {
     "name": "stderr",
     "output_type": "stream",
     "text": [
      "Price Extraction:  55%|█████▌    | 2119/3821 [1:20:20<9:47:54, 20.73s/it, Processing pl2-110]        "
     ]
    },
    {
     "name": "stdout",
     "output_type": "stream",
     "text": [
      "Click failed for //label[span[text()=\"Near Mint\"]]: Message: \n",
      "Stacktrace:\n",
      "0   chromedriver                        0x000000010353fe12 chromedriver + 6696466\n",
      "1   chromedriver                        0x0000000103537c2a chromedriver + 6663210\n",
      "2   chromedriver                        0x0000000102f3fe3e chromedriver + 405054\n",
      "3   chromedriver                        0x0000000102f90815 chromedriver + 735253\n",
      "4   chromedriver                        0x0000000102f90d11 chromedriver + 736529\n",
      "5   chromedriver                        0x0000000102fdb314 chromedriver + 1041172\n",
      "6   chromedriver                        0x0000000102fb589d chromedriver + 886941\n",
      "7   chromedriver                        0x0000000102fd83f4 chromedriver + 1029108\n",
      "8   chromedriver                        0x0000000102fb5613 chromedriver + 886291\n",
      "9   chromedriver                        0x0000000102f82950 chromedriver + 678224\n",
      "10  chromedriver                        0x0000000102f8334e chromedriver + 680782\n",
      "11  chromedriver                        0x000000010350d700 chromedriver + 6489856\n",
      "12  chromedriver                        0x00000001035101a9 chromedriver + 6500777\n",
      "13  chromedriver                        0x000000010350fccb chromedriver + 6499531\n",
      "14  chromedriver                        0x0000000103510635 chromedriver + 6501941\n",
      "15  chromedriver                        0x00000001034f84b4 chromedriver + 6403252\n",
      "16  chromedriver                        0x000000010351091f chromedriver + 6502687\n",
      "17  chromedriver                        0x00000001034e98e4 chromedriver + 6342884\n",
      "18  chromedriver                        0x0000000103528308 chromedriver + 6599432\n",
      "19  chromedriver                        0x00000001035284c5 chromedriver + 6599877\n",
      "20  chromedriver                        0x00000001035377f8 chromedriver + 6662136\n",
      "21  libsystem_pthread.dylib             0x00007ff80b5b7253 _pthread_start + 99\n",
      "22  libsystem_pthread.dylib             0x00007ff80b5b2bef thread_start + 15\n",
      "\n",
      "Click failed for selector: //label[span[text()=\"Near Mint\"]]\n"
     ]
    },
    {
     "name": "stderr",
     "output_type": "stream",
     "text": [
      "Price Extraction:  56%|█████▌    | 2138/3821 [1:23:39<3:25:53,  7.34s/it, Processing dp7-101]        "
     ]
    },
    {
     "name": "stdout",
     "output_type": "stream",
     "text": [
      "Click failed for //label[span[text()=\"Near Mint\"]]: Message: \n",
      "Stacktrace:\n",
      "0   chromedriver                        0x00000001008efe12 chromedriver + 6696466\n",
      "1   chromedriver                        0x00000001008e7c2a chromedriver + 6663210\n",
      "2   chromedriver                        0x00000001002efe3e chromedriver + 405054\n",
      "3   chromedriver                        0x0000000100340815 chromedriver + 735253\n",
      "4   chromedriver                        0x0000000100340d11 chromedriver + 736529\n",
      "5   chromedriver                        0x000000010038b314 chromedriver + 1041172\n",
      "6   chromedriver                        0x000000010036589d chromedriver + 886941\n",
      "7   chromedriver                        0x00000001003883f4 chromedriver + 1029108\n",
      "8   chromedriver                        0x0000000100365613 chromedriver + 886291\n",
      "9   chromedriver                        0x0000000100332950 chromedriver + 678224\n",
      "10  chromedriver                        0x000000010033334e chromedriver + 680782\n",
      "11  chromedriver                        0x00000001008bd700 chromedriver + 6489856\n",
      "12  chromedriver                        0x00000001008c01a9 chromedriver + 6500777\n",
      "13  chromedriver                        0x00000001008bfccb chromedriver + 6499531\n",
      "14  chromedriver                        0x00000001008c0635 chromedriver + 6501941\n",
      "15  chromedriver                        0x00000001008a84b4 chromedriver + 6403252\n",
      "16  chromedriver                        0x00000001008c091f chromedriver + 6502687\n",
      "17  chromedriver                        0x00000001008998e4 chromedriver + 6342884\n",
      "18  chromedriver                        0x00000001008d8308 chromedriver + 6599432\n",
      "19  chromedriver                        0x00000001008d84c5 chromedriver + 6599877\n",
      "20  chromedriver                        0x00000001008e77f8 chromedriver + 6662136\n",
      "21  libsystem_pthread.dylib             0x00007ff80b5b7253 _pthread_start + 99\n",
      "22  libsystem_pthread.dylib             0x00007ff80b5b2bef thread_start + 15\n",
      "\n",
      "Click failed for selector: //label[span[text()=\"Near Mint\"]]\n"
     ]
    },
    {
     "name": "stderr",
     "output_type": "stream",
     "text": [
      "Price Extraction:  56%|█████▌    | 2140/3821 [1:28:36<11:37:18, 24.89s/it, Processing col1-SL11]"
     ]
    },
    {
     "name": "stdout",
     "output_type": "stream",
     "text": [
      "Click failed for //label[span[text()=\"Near Mint\"]]: Message: \n",
      "Stacktrace:\n",
      "0   chromedriver                        0x0000000103146e12 chromedriver + 6696466\n",
      "1   chromedriver                        0x000000010313ec2a chromedriver + 6663210\n",
      "2   chromedriver                        0x0000000102b46e3e chromedriver + 405054\n",
      "3   chromedriver                        0x0000000102b97815 chromedriver + 735253\n",
      "4   chromedriver                        0x0000000102b97d11 chromedriver + 736529\n",
      "5   chromedriver                        0x0000000102be2314 chromedriver + 1041172\n",
      "6   chromedriver                        0x0000000102bbc89d chromedriver + 886941\n",
      "7   chromedriver                        0x0000000102bdf3f4 chromedriver + 1029108\n",
      "8   chromedriver                        0x0000000102bbc613 chromedriver + 886291\n",
      "9   chromedriver                        0x0000000102b89950 chromedriver + 678224\n",
      "10  chromedriver                        0x0000000102b8a34e chromedriver + 680782\n",
      "11  chromedriver                        0x0000000103114700 chromedriver + 6489856\n",
      "12  chromedriver                        0x00000001031171a9 chromedriver + 6500777\n",
      "13  chromedriver                        0x0000000103116ccb chromedriver + 6499531\n",
      "14  chromedriver                        0x0000000103117635 chromedriver + 6501941\n",
      "15  chromedriver                        0x00000001030ff4b4 chromedriver + 6403252\n",
      "16  chromedriver                        0x000000010311791f chromedriver + 6502687\n",
      "17  chromedriver                        0x00000001030f08e4 chromedriver + 6342884\n",
      "18  chromedriver                        0x000000010312f308 chromedriver + 6599432\n",
      "19  chromedriver                        0x000000010312f4c5 chromedriver + 6599877\n",
      "20  chromedriver                        0x000000010313e7f8 chromedriver + 6662136\n",
      "21  libsystem_pthread.dylib             0x00007ff80b5b7253 _pthread_start + 99\n",
      "22  libsystem_pthread.dylib             0x00007ff80b5b2bef thread_start + 15\n",
      "\n",
      "Click failed for selector: //label[span[text()=\"Near Mint\"]]\n"
     ]
    },
    {
     "name": "stderr",
     "output_type": "stream",
     "text": [
      "Price Extraction:  57%|█████▋    | 2160/3821 [1:31:59<7:17:41, 15.81s/it, Processing xyp-XY104]       "
     ]
    },
    {
     "name": "stdout",
     "output_type": "stream",
     "text": [
      "Click failed for //label[span[text()=\"Near Mint\"]]: Message: \n",
      "Stacktrace:\n",
      "0   chromedriver                        0x000000010137ae12 chromedriver + 6696466\n",
      "1   chromedriver                        0x0000000101372c2a chromedriver + 6663210\n",
      "2   chromedriver                        0x0000000100d7ae3e chromedriver + 405054\n",
      "3   chromedriver                        0x0000000100dcb815 chromedriver + 735253\n",
      "4   chromedriver                        0x0000000100dcbd11 chromedriver + 736529\n",
      "5   chromedriver                        0x0000000100e16314 chromedriver + 1041172\n",
      "6   chromedriver                        0x0000000100df089d chromedriver + 886941\n",
      "7   chromedriver                        0x0000000100e133f4 chromedriver + 1029108\n",
      "8   chromedriver                        0x0000000100df0613 chromedriver + 886291\n",
      "9   chromedriver                        0x0000000100dbd950 chromedriver + 678224\n",
      "10  chromedriver                        0x0000000100dbe34e chromedriver + 680782\n",
      "11  chromedriver                        0x0000000101348700 chromedriver + 6489856\n",
      "12  chromedriver                        0x000000010134b1a9 chromedriver + 6500777\n",
      "13  chromedriver                        0x000000010134accb chromedriver + 6499531\n",
      "14  chromedriver                        0x000000010134b635 chromedriver + 6501941\n",
      "15  chromedriver                        0x00000001013334b4 chromedriver + 6403252\n",
      "16  chromedriver                        0x000000010134b91f chromedriver + 6502687\n",
      "17  chromedriver                        0x00000001013248e4 chromedriver + 6342884\n",
      "18  chromedriver                        0x0000000101363308 chromedriver + 6599432\n",
      "19  chromedriver                        0x00000001013634c5 chromedriver + 6599877\n",
      "20  chromedriver                        0x00000001013727f8 chromedriver + 6662136\n",
      "21  libsystem_pthread.dylib             0x00007ff80b5b7253 _pthread_start + 99\n",
      "22  libsystem_pthread.dylib             0x00007ff80b5b2bef thread_start + 15\n",
      "\n",
      "Click failed for selector: //label[span[text()=\"Near Mint\"]]\n"
     ]
    },
    {
     "name": "stderr",
     "output_type": "stream",
     "text": [
      "Price Extraction:  57%|█████▋    | 2173/3821 [1:32:01<6:45:38, 14.77s/it, Processing bw9-111]        "
     ]
    },
    {
     "name": "stdout",
     "output_type": "stream",
     "text": [
      "Click failed for //label[span[text()=\"Near Mint\"]]: Message: \n",
      "Stacktrace:\n",
      "0   chromedriver                        0x0000000100abbe12 chromedriver + 6696466\n",
      "1   chromedriver                        0x0000000100ab3c2a chromedriver + 6663210\n",
      "2   chromedriver                        0x00000001004bbe3e chromedriver + 405054\n",
      "3   chromedriver                        0x000000010050c815 chromedriver + 735253\n",
      "4   chromedriver                        0x000000010050cd11 chromedriver + 736529\n",
      "5   chromedriver                        0x0000000100557314 chromedriver + 1041172\n",
      "6   chromedriver                        0x000000010053189d chromedriver + 886941\n",
      "7   chromedriver                        0x00000001005543f4 chromedriver + 1029108\n",
      "8   chromedriver                        0x0000000100531613 chromedriver + 886291\n",
      "9   chromedriver                        0x00000001004fe950 chromedriver + 678224\n",
      "10  chromedriver                        0x00000001004ff34e chromedriver + 680782\n",
      "11  chromedriver                        0x0000000100a89700 chromedriver + 6489856\n",
      "12  chromedriver                        0x0000000100a8c1a9 chromedriver + 6500777\n",
      "13  chromedriver                        0x0000000100a8bccb chromedriver + 6499531\n",
      "14  chromedriver                        0x0000000100a8c635 chromedriver + 6501941\n",
      "15  chromedriver                        0x0000000100a744b4 chromedriver + 6403252\n",
      "16  chromedriver                        0x0000000100a8c91f chromedriver + 6502687\n",
      "17  chromedriver                        0x0000000100a658e4 chromedriver + 6342884\n",
      "18  chromedriver                        0x0000000100aa4308 chromedriver + 6599432\n",
      "19  chromedriver                        0x0000000100aa44c5 chromedriver + 6599877\n",
      "20  chromedriver                        0x0000000100ab37f8 chromedriver + 6662136\n",
      "21  libsystem_pthread.dylib             0x00007ff80b5b7253 _pthread_start + 99\n",
      "22  libsystem_pthread.dylib             0x00007ff80b5b2bef thread_start + 15\n",
      "\n",
      "Click failed for selector: //label[span[text()=\"Near Mint\"]]\n"
     ]
    },
    {
     "name": "stderr",
     "output_type": "stream",
     "text": [
      "Price Extraction:  58%|█████▊    | 2223/3821 [1:41:43<5:12:32, 11.74s/it, Processing bw5-105]        "
     ]
    },
    {
     "name": "stdout",
     "output_type": "stream",
     "text": [
      "Click failed for //label[span[text()=\"Near Mint\"]]: Message: \n",
      "Stacktrace:\n",
      "0   chromedriver                        0x00000001015a2e12 chromedriver + 6696466\n",
      "1   chromedriver                        0x000000010159ac2a chromedriver + 6663210\n",
      "2   chromedriver                        0x0000000100fa2e3e chromedriver + 405054\n",
      "3   chromedriver                        0x0000000100ff3815 chromedriver + 735253\n",
      "4   chromedriver                        0x0000000100ff3d11 chromedriver + 736529\n",
      "5   chromedriver                        0x000000010103e314 chromedriver + 1041172\n",
      "6   chromedriver                        0x000000010101889d chromedriver + 886941\n",
      "7   chromedriver                        0x000000010103b3f4 chromedriver + 1029108\n",
      "8   chromedriver                        0x0000000101018613 chromedriver + 886291\n",
      "9   chromedriver                        0x0000000100fe5950 chromedriver + 678224\n",
      "10  chromedriver                        0x0000000100fe634e chromedriver + 680782\n",
      "11  chromedriver                        0x0000000101570700 chromedriver + 6489856\n",
      "12  chromedriver                        0x00000001015731a9 chromedriver + 6500777\n",
      "13  chromedriver                        0x0000000101572ccb chromedriver + 6499531\n",
      "14  chromedriver                        0x0000000101573635 chromedriver + 6501941\n",
      "15  chromedriver                        0x000000010155b4b4 chromedriver + 6403252\n",
      "16  chromedriver                        0x000000010157391f chromedriver + 6502687\n",
      "17  chromedriver                        0x000000010154c8e4 chromedriver + 6342884\n",
      "18  chromedriver                        0x000000010158b308 chromedriver + 6599432\n",
      "19  chromedriver                        0x000000010158b4c5 chromedriver + 6599877\n",
      "20  chromedriver                        0x000000010159a7f8 chromedriver + 6662136\n",
      "21  libsystem_pthread.dylib             0x00007ff80b5b7253 _pthread_start + 99\n",
      "22  libsystem_pthread.dylib             0x00007ff80b5b2bef thread_start + 15\n",
      "\n",
      "Click failed for selector: //label[span[text()=\"Near Mint\"]]\n"
     ]
    },
    {
     "name": "stderr",
     "output_type": "stream",
     "text": [
      "Price Extraction:  58%|█████▊    | 2228/3821 [1:46:11<13:35:34, 30.72s/it, Processing dp4-105]       "
     ]
    },
    {
     "name": "stdout",
     "output_type": "stream",
     "text": [
      "Click failed for //label[span[text()=\"Near Mint\"]]: Message: \n",
      "Stacktrace:\n",
      "0   chromedriver                        0x0000000104c8fe12 chromedriver + 6696466\n",
      "1   chromedriver                        0x0000000104c87c2a chromedriver + 6663210\n",
      "2   chromedriver                        0x000000010468fe3e chromedriver + 405054\n",
      "3   chromedriver                        0x00000001046e0815 chromedriver + 735253\n",
      "4   chromedriver                        0x00000001046e0d11 chromedriver + 736529\n",
      "5   chromedriver                        0x000000010472b314 chromedriver + 1041172\n",
      "6   chromedriver                        0x000000010470589d chromedriver + 886941\n",
      "7   chromedriver                        0x00000001047283f4 chromedriver + 1029108\n",
      "8   chromedriver                        0x0000000104705613 chromedriver + 886291\n",
      "9   chromedriver                        0x00000001046d2950 chromedriver + 678224\n",
      "10  chromedriver                        0x00000001046d334e chromedriver + 680782\n",
      "11  chromedriver                        0x0000000104c5d700 chromedriver + 6489856\n",
      "12  chromedriver                        0x0000000104c601a9 chromedriver + 6500777\n",
      "13  chromedriver                        0x0000000104c5fccb chromedriver + 6499531\n",
      "14  chromedriver                        0x0000000104c60635 chromedriver + 6501941\n",
      "15  chromedriver                        0x0000000104c484b4 chromedriver + 6403252\n",
      "16  chromedriver                        0x0000000104c6091f chromedriver + 6502687\n",
      "17  chromedriver                        0x0000000104c398e4 chromedriver + 6342884\n",
      "18  chromedriver                        0x0000000104c78308 chromedriver + 6599432\n",
      "19  chromedriver                        0x0000000104c784c5 chromedriver + 6599877\n",
      "20  chromedriver                        0x0000000104c877f8 chromedriver + 6662136\n",
      "21  libsystem_pthread.dylib             0x00007ff80b5b7253 _pthread_start + 99\n",
      "22  libsystem_pthread.dylib             0x00007ff80b5b2bef thread_start + 15\n",
      "\n",
      "Click failed for selector: //label[span[text()=\"Near Mint\"]]\n"
     ]
    },
    {
     "name": "stderr",
     "output_type": "stream",
     "text": [
      "Price Extraction:  58%|█████▊    | 2228/3821 [1:46:12<13:35:34, 30.72s/it, Processing bw5-106]"
     ]
    },
    {
     "name": "stdout",
     "output_type": "stream",
     "text": [
      "Click failed for //label[span[text()=\"Near Mint\"]]: Message: \n",
      "Stacktrace:\n",
      "0   chromedriver                        0x000000010470ee12 chromedriver + 6696466\n",
      "1   chromedriver                        0x0000000104706c2a chromedriver + 6663210\n",
      "2   chromedriver                        0x000000010410ee3e chromedriver + 405054\n",
      "3   chromedriver                        0x000000010415f815 chromedriver + 735253\n",
      "4   chromedriver                        0x000000010415fd11 chromedriver + 736529\n",
      "5   chromedriver                        0x00000001041aa314 chromedriver + 1041172\n",
      "6   chromedriver                        0x000000010418489d chromedriver + 886941\n",
      "7   chromedriver                        0x00000001041a73f4 chromedriver + 1029108\n",
      "8   chromedriver                        0x0000000104184613 chromedriver + 886291\n",
      "9   chromedriver                        0x0000000104151950 chromedriver + 678224\n",
      "10  chromedriver                        0x000000010415234e chromedriver + 680782\n",
      "11  chromedriver                        0x00000001046dc700 chromedriver + 6489856\n",
      "12  chromedriver                        0x00000001046df1a9 chromedriver + 6500777\n",
      "13  chromedriver                        0x00000001046deccb chromedriver + 6499531\n",
      "14  chromedriver                        0x00000001046df635 chromedriver + 6501941\n",
      "15  chromedriver                        0x00000001046c74b4 chromedriver + 6403252\n",
      "16  chromedriver                        0x00000001046df91f chromedriver + 6502687\n",
      "17  chromedriver                        0x00000001046b88e4 chromedriver + 6342884\n",
      "18  chromedriver                        0x00000001046f7308 chromedriver + 6599432\n",
      "19  chromedriver                        0x00000001046f74c5 chromedriver + 6599877\n",
      "20  chromedriver                        0x00000001047067f8 chromedriver + 6662136\n",
      "21  libsystem_pthread.dylib             0x00007ff80b5b7253 _pthread_start + 99\n",
      "22  libsystem_pthread.dylib             0x00007ff80b5b2bef thread_start + 15\n",
      "\n",
      "Click failed for selector: //label[span[text()=\"Near Mint\"]]\n"
     ]
    },
    {
     "name": "stderr",
     "output_type": "stream",
     "text": [
      "Price Extraction:  58%|█████▊    | 2231/3821 [1:48:43<16:49:00, 38.08s/it, Processing ex15-101]       "
     ]
    },
    {
     "name": "stdout",
     "output_type": "stream",
     "text": [
      "Erreur d'extraction : could not convert string to float: '1,500.00'\n",
      "Erreur d'extraction : Message: no such element: Unable to locate element: {\"method\":\"css selector\",\"selector\":\".text\"}\n",
      "  (Session info: chrome=131.0.6778.140); For documentation on this error, please visit: https://www.selenium.dev/documentation/webdriver/troubleshooting/errors#no-such-element-exception\n",
      "Stacktrace:\n",
      "0   chromedriver                        0x0000000103561e12 chromedriver + 6696466\n",
      "1   chromedriver                        0x0000000103559c2a chromedriver + 6663210\n",
      "2   chromedriver                        0x0000000102f61e3e chromedriver + 405054\n",
      "3   chromedriver                        0x0000000102fb2815 chromedriver + 735253\n",
      "4   chromedriver                        0x0000000102fb2d11 chromedriver + 736529\n",
      "5   chromedriver                        0x0000000102fa62c6 chromedriver + 684742\n",
      "6   chromedriver                        0x0000000102fd789d chromedriver + 886941\n",
      "7   chromedriver                        0x0000000102fa61c8 chromedriver + 684488\n",
      "8   chromedriver                        0x0000000102fd7a2e chromedriver + 887342\n",
      "9   chromedriver                        0x0000000102ffa3f4 chromedriver + 1029108\n",
      "10  chromedriver                        0x0000000102fd7613 chromedriver + 886291\n",
      "11  chromedriver                        0x0000000102fa4950 chromedriver + 678224\n",
      "12  chromedriver                        0x0000000102fa534e chromedriver + 680782\n",
      "13  chromedriver                        0x000000010352f700 chromedriver + 6489856\n",
      "14  chromedriver                        0x00000001035321a9 chromedriver + 6500777\n",
      "15  chromedriver                        0x0000000103531ccb chromedriver + 6499531\n",
      "16  chromedriver                        0x0000000103532635 chromedriver + 6501941\n",
      "17  chromedriver                        0x000000010351a4b4 chromedriver + 6403252\n",
      "18  chromedriver                        0x000000010353291f chromedriver + 6502687\n",
      "19  chromedriver                        0x000000010350b8e4 chromedriver + 6342884\n",
      "20  chromedriver                        0x000000010354a308 chromedriver + 6599432\n",
      "21  chromedriver                        0x000000010354a4c5 chromedriver + 6599877\n",
      "22  chromedriver                        0x00000001035597f8 chromedriver + 6662136\n",
      "23  libsystem_pthread.dylib             0x00007ff80b5b7253 _pthread_start + 99\n",
      "24  libsystem_pthread.dylib             0x00007ff80b5b2bef thread_start + 15\n",
      "\n"
     ]
    },
    {
     "name": "stderr",
     "output_type": "stream",
     "text": [
      "Price Extraction:  59%|█████▉    | 2270/3821 [1:57:32<7:56:04, 18.42s/it, Processing bw9-119]        "
     ]
    },
    {
     "name": "stdout",
     "output_type": "stream",
     "text": [
      "Click failed for //label[span[text()=\"Near Mint\"]]: Message: \n",
      "Stacktrace:\n",
      "0   chromedriver                        0x0000000101194e12 chromedriver + 6696466\n",
      "1   chromedriver                        0x000000010118cc2a chromedriver + 6663210\n",
      "2   chromedriver                        0x0000000100b94e3e chromedriver + 405054\n",
      "3   chromedriver                        0x0000000100be5815 chromedriver + 735253\n",
      "4   chromedriver                        0x0000000100be5d11 chromedriver + 736529\n",
      "5   chromedriver                        0x0000000100c30314 chromedriver + 1041172\n",
      "6   chromedriver                        0x0000000100c0a89d chromedriver + 886941\n",
      "7   chromedriver                        0x0000000100c2d3f4 chromedriver + 1029108\n",
      "8   chromedriver                        0x0000000100c0a613 chromedriver + 886291\n",
      "9   chromedriver                        0x0000000100bd7950 chromedriver + 678224\n",
      "10  chromedriver                        0x0000000100bd834e chromedriver + 680782\n",
      "11  chromedriver                        0x0000000101162700 chromedriver + 6489856\n",
      "12  chromedriver                        0x00000001011651a9 chromedriver + 6500777\n",
      "13  chromedriver                        0x0000000101164ccb chromedriver + 6499531\n",
      "14  chromedriver                        0x0000000101165635 chromedriver + 6501941\n",
      "15  chromedriver                        0x000000010114d4b4 chromedriver + 6403252\n",
      "16  chromedriver                        0x000000010116591f chromedriver + 6502687\n",
      "17  chromedriver                        0x000000010113e8e4 chromedriver + 6342884\n",
      "18  chromedriver                        0x000000010117d308 chromedriver + 6599432\n",
      "19  chromedriver                        0x000000010117d4c5 chromedriver + 6599877\n",
      "20  chromedriver                        0x000000010118c7f8 chromedriver + 6662136\n",
      "21  libsystem_pthread.dylib             0x00007ff80b5b7253 _pthread_start + 99\n",
      "22  libsystem_pthread.dylib             0x00007ff80b5b2bef thread_start + 15\n",
      "\n",
      "Click failed for selector: //label[span[text()=\"Near Mint\"]]\n"
     ]
    },
    {
     "name": "stderr",
     "output_type": "stream",
     "text": [
      "Price Extraction:  60%|█████▉    | 2274/3821 [2:00:42<16:46:38, 39.04s/it, Processing bw5-111]       "
     ]
    },
    {
     "name": "stdout",
     "output_type": "stream",
     "text": [
      "Click failed for //label[span[text()=\"Near Mint\"]]: Message: \n",
      "Stacktrace:\n",
      "0   chromedriver                        0x0000000104fcae12 chromedriver + 6696466\n",
      "1   chromedriver                        0x0000000104fc2c2a chromedriver + 6663210\n",
      "2   chromedriver                        0x00000001049cae3e chromedriver + 405054\n",
      "3   chromedriver                        0x0000000104a1b815 chromedriver + 735253\n",
      "4   chromedriver                        0x0000000104a1bd11 chromedriver + 736529\n",
      "5   chromedriver                        0x0000000104a66314 chromedriver + 1041172\n",
      "6   chromedriver                        0x0000000104a4089d chromedriver + 886941\n",
      "7   chromedriver                        0x0000000104a633f4 chromedriver + 1029108\n",
      "8   chromedriver                        0x0000000104a40613 chromedriver + 886291\n",
      "9   chromedriver                        0x0000000104a0d950 chromedriver + 678224\n",
      "10  chromedriver                        0x0000000104a0e34e chromedriver + 680782\n",
      "11  chromedriver                        0x0000000104f98700 chromedriver + 6489856\n",
      "12  chromedriver                        0x0000000104f9b1a9 chromedriver + 6500777\n",
      "13  chromedriver                        0x0000000104f9accb chromedriver + 6499531\n",
      "14  chromedriver                        0x0000000104f9b635 chromedriver + 6501941\n",
      "15  chromedriver                        0x0000000104f834b4 chromedriver + 6403252\n",
      "16  chromedriver                        0x0000000104f9b91f chromedriver + 6502687\n",
      "17  chromedriver                        0x0000000104f748e4 chromedriver + 6342884\n",
      "18  chromedriver                        0x0000000104fb3308 chromedriver + 6599432\n",
      "19  chromedriver                        0x0000000104fb34c5 chromedriver + 6599877\n",
      "20  chromedriver                        0x0000000104fc27f8 chromedriver + 6662136\n",
      "21  libsystem_pthread.dylib             0x00007ff80b5b7253 _pthread_start + 99\n",
      "22  libsystem_pthread.dylib             0x00007ff80b5b2bef thread_start + 15\n",
      "\n",
      "Click failed for selector: //label[span[text()=\"Near Mint\"]]\n"
     ]
    },
    {
     "name": "stderr",
     "output_type": "stream",
     "text": [
      "Price Extraction:  60%|█████▉    | 2280/3821 [2:03:09<12:48:13, 29.91s/it, Processing bw5-110]        "
     ]
    },
    {
     "name": "stdout",
     "output_type": "stream",
     "text": [
      "Click failed for //label[span[text()=\"Near Mint\"]]: Message: \n",
      "Stacktrace:\n",
      "0   chromedriver                        0x000000010074ae12 chromedriver + 6696466\n",
      "1   chromedriver                        0x0000000100742c2a chromedriver + 6663210\n",
      "2   chromedriver                        0x000000010014ae3e chromedriver + 405054\n",
      "3   chromedriver                        0x000000010019b815 chromedriver + 735253\n",
      "4   chromedriver                        0x000000010019bd11 chromedriver + 736529\n",
      "5   chromedriver                        0x00000001001e6314 chromedriver + 1041172\n",
      "6   chromedriver                        0x00000001001c089d chromedriver + 886941\n",
      "7   chromedriver                        0x00000001001e33f4 chromedriver + 1029108\n",
      "8   chromedriver                        0x00000001001c0613 chromedriver + 886291\n",
      "9   chromedriver                        0x000000010018d950 chromedriver + 678224\n",
      "10  chromedriver                        0x000000010018e34e chromedriver + 680782\n",
      "11  chromedriver                        0x0000000100718700 chromedriver + 6489856\n",
      "12  chromedriver                        0x000000010071b1a9 chromedriver + 6500777\n",
      "13  chromedriver                        0x000000010071accb chromedriver + 6499531\n",
      "14  chromedriver                        0x000000010071b635 chromedriver + 6501941\n",
      "15  chromedriver                        0x00000001007034b4 chromedriver + 6403252\n",
      "16  chromedriver                        0x000000010071b91f chromedriver + 6502687\n",
      "17  chromedriver                        0x00000001006f48e4 chromedriver + 6342884\n",
      "18  chromedriver                        0x0000000100733308 chromedriver + 6599432\n",
      "19  chromedriver                        0x00000001007334c5 chromedriver + 6599877\n",
      "20  chromedriver                        0x00000001007427f8 chromedriver + 6662136\n",
      "21  libsystem_pthread.dylib             0x00007ff80b5b7253 _pthread_start + 99\n",
      "22  libsystem_pthread.dylib             0x00007ff80b5b2bef thread_start + 15\n",
      "\n",
      "Click failed for selector: //label[span[text()=\"Near Mint\"]]\n"
     ]
    },
    {
     "name": "stderr",
     "output_type": "stream",
     "text": [
      "Price Extraction:  60%|██████    | 2302/3821 [2:05:34<4:22:46, 10.38s/it, Processing ex10-117]        "
     ]
    },
    {
     "name": "stdout",
     "output_type": "stream",
     "text": [
      "Click failed for //label[span[text()=\"Near Mint\"]]: Message: \n",
      "Stacktrace:\n",
      "0   chromedriver                        0x000000010136be12 chromedriver + 6696466\n",
      "1   chromedriver                        0x0000000101363c2a chromedriver + 6663210\n",
      "2   chromedriver                        0x0000000100d6be3e chromedriver + 405054\n",
      "3   chromedriver                        0x0000000100dbc815 chromedriver + 735253\n",
      "4   chromedriver                        0x0000000100dbcd11 chromedriver + 736529\n",
      "5   chromedriver                        0x0000000100e07314 chromedriver + 1041172\n",
      "6   chromedriver                        0x0000000100de189d chromedriver + 886941\n",
      "7   chromedriver                        0x0000000100e043f4 chromedriver + 1029108\n",
      "8   chromedriver                        0x0000000100de1613 chromedriver + 886291\n",
      "9   chromedriver                        0x0000000100dae950 chromedriver + 678224\n",
      "10  chromedriver                        0x0000000100daf34e chromedriver + 680782\n",
      "11  chromedriver                        0x0000000101339700 chromedriver + 6489856\n",
      "12  chromedriver                        0x000000010133c1a9 chromedriver + 6500777\n",
      "13  chromedriver                        0x000000010133bccb chromedriver + 6499531\n",
      "14  chromedriver                        0x000000010133c635 chromedriver + 6501941\n",
      "15  chromedriver                        0x00000001013244b4 chromedriver + 6403252\n",
      "16  chromedriver                        0x000000010133c91f chromedriver + 6502687\n",
      "17  chromedriver                        0x00000001013158e4 chromedriver + 6342884\n",
      "18  chromedriver                        0x0000000101354308 chromedriver + 6599432\n",
      "19  chromedriver                        0x00000001013544c5 chromedriver + 6599877\n",
      "20  chromedriver                        0x00000001013637f8 chromedriver + 6662136\n",
      "21  libsystem_pthread.dylib             0x00007ff80b5b7253 _pthread_start + 99\n",
      "22  libsystem_pthread.dylib             0x00007ff80b5b2bef thread_start + 15\n",
      "\n",
      "Click failed for selector: //label[span[text()=\"Near Mint\"]]\n"
     ]
    },
    {
     "name": "stderr",
     "output_type": "stream",
     "text": [
      "Price Extraction:  61%|██████    | 2326/3821 [2:07:38<5:00:02, 12.04s/it, Processing bw6-122]       "
     ]
    },
    {
     "name": "stdout",
     "output_type": "stream",
     "text": [
      "Click failed for //label[span[text()=\"Near Mint\"]]: Message: \n",
      "Stacktrace:\n",
      "0   chromedriver                        0x0000000101539e12 chromedriver + 6696466\n",
      "1   chromedriver                        0x0000000101531c2a chromedriver + 6663210\n",
      "2   chromedriver                        0x0000000100f39e3e chromedriver + 405054\n",
      "3   chromedriver                        0x0000000100f8a815 chromedriver + 735253\n",
      "4   chromedriver                        0x0000000100f8ad11 chromedriver + 736529\n",
      "5   chromedriver                        0x0000000100fd5314 chromedriver + 1041172\n",
      "6   chromedriver                        0x0000000100faf89d chromedriver + 886941\n",
      "7   chromedriver                        0x0000000100fd23f4 chromedriver + 1029108\n",
      "8   chromedriver                        0x0000000100faf613 chromedriver + 886291\n",
      "9   chromedriver                        0x0000000100f7c950 chromedriver + 678224\n",
      "10  chromedriver                        0x0000000100f7d34e chromedriver + 680782\n",
      "11  chromedriver                        0x0000000101507700 chromedriver + 6489856\n",
      "12  chromedriver                        0x000000010150a1a9 chromedriver + 6500777\n",
      "13  chromedriver                        0x0000000101509ccb chromedriver + 6499531\n",
      "14  chromedriver                        0x000000010150a635 chromedriver + 6501941\n",
      "15  chromedriver                        0x00000001014f24b4 chromedriver + 6403252\n",
      "16  chromedriver                        0x000000010150a91f chromedriver + 6502687\n",
      "17  chromedriver                        0x00000001014e38e4 chromedriver + 6342884\n",
      "18  chromedriver                        0x0000000101522308 chromedriver + 6599432\n",
      "19  chromedriver                        0x00000001015224c5 chromedriver + 6599877\n",
      "20  chromedriver                        0x00000001015317f8 chromedriver + 6662136\n",
      "21  libsystem_pthread.dylib             0x00007ff80b5b7253 _pthread_start + 99\n",
      "22  libsystem_pthread.dylib             0x00007ff80b5b2bef thread_start + 15\n",
      "\n",
      "Click failed for selector: //label[span[text()=\"Near Mint\"]]\n"
     ]
    },
    {
     "name": "stderr",
     "output_type": "stream",
     "text": [
      "Price Extraction:  61%|██████    | 2334/3821 [2:10:03<4:01:34,  9.75s/it, Processing pl1-124]        "
     ]
    },
    {
     "name": "stdout",
     "output_type": "stream",
     "text": [
      "Click failed for //label[span[text()=\"Near Mint\"]]: Message: \n",
      "Stacktrace:\n",
      "0   chromedriver                        0x00000001046ade12 chromedriver + 6696466\n",
      "1   chromedriver                        0x00000001046a5c2a chromedriver + 6663210\n",
      "2   chromedriver                        0x00000001040ade3e chromedriver + 405054\n",
      "3   chromedriver                        0x00000001040fe815 chromedriver + 735253\n",
      "4   chromedriver                        0x00000001040fed11 chromedriver + 736529\n",
      "5   chromedriver                        0x0000000104149314 chromedriver + 1041172\n",
      "6   chromedriver                        0x000000010412389d chromedriver + 886941\n",
      "7   chromedriver                        0x00000001041463f4 chromedriver + 1029108\n",
      "8   chromedriver                        0x0000000104123613 chromedriver + 886291\n",
      "9   chromedriver                        0x00000001040f0950 chromedriver + 678224\n",
      "10  chromedriver                        0x00000001040f134e chromedriver + 680782\n",
      "11  chromedriver                        0x000000010467b700 chromedriver + 6489856\n",
      "12  chromedriver                        0x000000010467e1a9 chromedriver + 6500777\n",
      "13  chromedriver                        0x000000010467dccb chromedriver + 6499531\n",
      "14  chromedriver                        0x000000010467e635 chromedriver + 6501941\n",
      "15  chromedriver                        0x00000001046664b4 chromedriver + 6403252\n",
      "16  chromedriver                        0x000000010467e91f chromedriver + 6502687\n",
      "17  chromedriver                        0x00000001046578e4 chromedriver + 6342884\n",
      "18  chromedriver                        0x0000000104696308 chromedriver + 6599432\n",
      "19  chromedriver                        0x00000001046964c5 chromedriver + 6599877\n",
      "20  chromedriver                        0x00000001046a57f8 chromedriver + 6662136\n",
      "21  libsystem_pthread.dylib             0x00007ff80b5b7253 _pthread_start + 99\n",
      "22  libsystem_pthread.dylib             0x00007ff80b5b2bef thread_start + 15\n",
      "\n",
      "Click failed for selector: //label[span[text()=\"Near Mint\"]]\n"
     ]
    },
    {
     "name": "stderr",
     "output_type": "stream",
     "text": [
      "Price Extraction:  61%|██████▏   | 2346/3821 [2:12:28<5:18:03, 12.94s/it, Processing bw6-124]        "
     ]
    },
    {
     "name": "stdout",
     "output_type": "stream",
     "text": [
      "Click failed for //label[span[text()=\"Near Mint\"]]: Message: \n",
      "Stacktrace:\n",
      "0   chromedriver                        0x0000000103255e12 chromedriver + 6696466\n",
      "1   chromedriver                        0x000000010324dc2a chromedriver + 6663210\n",
      "2   chromedriver                        0x0000000102c55e3e chromedriver + 405054\n",
      "3   chromedriver                        0x0000000102ca6815 chromedriver + 735253\n",
      "4   chromedriver                        0x0000000102ca6d11 chromedriver + 736529\n",
      "5   chromedriver                        0x0000000102cf1314 chromedriver + 1041172\n",
      "6   chromedriver                        0x0000000102ccb89d chromedriver + 886941\n",
      "7   chromedriver                        0x0000000102cee3f4 chromedriver + 1029108\n",
      "8   chromedriver                        0x0000000102ccb613 chromedriver + 886291\n",
      "9   chromedriver                        0x0000000102c98950 chromedriver + 678224\n",
      "10  chromedriver                        0x0000000102c9934e chromedriver + 680782\n",
      "11  chromedriver                        0x0000000103223700 chromedriver + 6489856\n",
      "12  chromedriver                        0x00000001032261a9 chromedriver + 6500777\n",
      "13  chromedriver                        0x0000000103225ccb chromedriver + 6499531\n",
      "14  chromedriver                        0x0000000103226635 chromedriver + 6501941\n",
      "15  chromedriver                        0x000000010320e4b4 chromedriver + 6403252\n",
      "16  chromedriver                        0x000000010322691f chromedriver + 6502687\n",
      "17  chromedriver                        0x00000001031ff8e4 chromedriver + 6342884\n",
      "18  chromedriver                        0x000000010323e308 chromedriver + 6599432\n",
      "19  chromedriver                        0x000000010323e4c5 chromedriver + 6599877\n",
      "20  chromedriver                        0x000000010324d7f8 chromedriver + 6662136\n",
      "21  libsystem_pthread.dylib             0x00007ff80b5b7253 _pthread_start + 99\n",
      "22  libsystem_pthread.dylib             0x00007ff80b5b2bef thread_start + 15\n",
      "\n",
      "Click failed for selector: //label[span[text()=\"Near Mint\"]]\n"
     ]
    },
    {
     "name": "stderr",
     "output_type": "stream",
     "text": [
      "Price Extraction:  63%|██████▎   | 2389/3821 [2:17:21<2:19:00,  5.82s/it, Processing bw6-125]        "
     ]
    },
    {
     "name": "stdout",
     "output_type": "stream",
     "text": [
      "Click failed for //label[span[text()=\"Near Mint\"]]: Message: \n",
      "Stacktrace:\n",
      "0   chromedriver                        0x00000001006b3e12 chromedriver + 6696466\n",
      "1   chromedriver                        0x00000001006abc2a chromedriver + 6663210\n",
      "2   chromedriver                        0x00000001000b3e3e chromedriver + 405054\n",
      "3   chromedriver                        0x0000000100104815 chromedriver + 735253\n",
      "4   chromedriver                        0x0000000100104d11 chromedriver + 736529\n",
      "5   chromedriver                        0x000000010014f314 chromedriver + 1041172\n",
      "6   chromedriver                        0x000000010012989d chromedriver + 886941\n",
      "7   chromedriver                        0x000000010014c3f4 chromedriver + 1029108\n",
      "8   chromedriver                        0x0000000100129613 chromedriver + 886291\n",
      "9   chromedriver                        0x00000001000f6950 chromedriver + 678224\n",
      "10  chromedriver                        0x00000001000f734e chromedriver + 680782\n",
      "11  chromedriver                        0x0000000100681700 chromedriver + 6489856\n",
      "12  chromedriver                        0x00000001006841a9 chromedriver + 6500777\n",
      "13  chromedriver                        0x0000000100683ccb chromedriver + 6499531\n",
      "14  chromedriver                        0x0000000100684635 chromedriver + 6501941\n",
      "15  chromedriver                        0x000000010066c4b4 chromedriver + 6403252\n",
      "16  chromedriver                        0x000000010068491f chromedriver + 6502687\n",
      "17  chromedriver                        0x000000010065d8e4 chromedriver + 6342884\n",
      "18  chromedriver                        0x000000010069c308 chromedriver + 6599432\n",
      "19  chromedriver                        0x000000010069c4c5 chromedriver + 6599877\n",
      "20  chromedriver                        0x00000001006ab7f8 chromedriver + 6662136\n",
      "21  libsystem_pthread.dylib             0x00007ff80b5b7253 _pthread_start + 99\n",
      "22  libsystem_pthread.dylib             0x00007ff80b5b2bef thread_start + 15\n",
      "\n",
      "Click failed for selector: //label[span[text()=\"Near Mint\"]]\n"
     ]
    },
    {
     "name": "stderr",
     "output_type": "stream",
     "text": [
      "Price Extraction:  63%|██████▎   | 2409/3821 [2:17:34<2:13:15,  5.66s/it, Processing dp6-140]       "
     ]
    },
    {
     "name": "stdout",
     "output_type": "stream",
     "text": [
      "Click failed for //label[span[text()=\"Near Mint\"]]: Message: \n",
      "Stacktrace:\n",
      "0   chromedriver                        0x0000000100efae12 chromedriver + 6696466\n",
      "1   chromedriver                        0x0000000100ef2c2a chromedriver + 6663210\n",
      "2   chromedriver                        0x00000001008fae3e chromedriver + 405054\n",
      "3   chromedriver                        0x000000010094b815 chromedriver + 735253\n",
      "4   chromedriver                        0x000000010094bd11 chromedriver + 736529\n",
      "5   chromedriver                        0x0000000100996314 chromedriver + 1041172\n",
      "6   chromedriver                        0x000000010097089d chromedriver + 886941\n",
      "7   chromedriver                        0x00000001009933f4 chromedriver + 1029108\n",
      "8   chromedriver                        0x0000000100970613 chromedriver + 886291\n",
      "9   chromedriver                        0x000000010093d950 chromedriver + 678224\n",
      "10  chromedriver                        0x000000010093e34e chromedriver + 680782\n",
      "11  chromedriver                        0x0000000100ec8700 chromedriver + 6489856\n",
      "12  chromedriver                        0x0000000100ecb1a9 chromedriver + 6500777\n",
      "13  chromedriver                        0x0000000100ecaccb chromedriver + 6499531\n",
      "14  chromedriver                        0x0000000100ecb635 chromedriver + 6501941\n",
      "15  chromedriver                        0x0000000100eb34b4 chromedriver + 6403252\n",
      "16  chromedriver                        0x0000000100ecb91f chromedriver + 6502687\n",
      "17  chromedriver                        0x0000000100ea48e4 chromedriver + 6342884\n",
      "18  chromedriver                        0x0000000100ee3308 chromedriver + 6599432\n",
      "19  chromedriver                        0x0000000100ee34c5 chromedriver + 6599877\n",
      "20  chromedriver                        0x0000000100ef27f8 chromedriver + 6662136\n",
      "21  libsystem_pthread.dylib             0x00007ff80b5b7253 _pthread_start + 99\n",
      "22  libsystem_pthread.dylib             0x00007ff80b5b2bef thread_start + 15\n",
      "\n",
      "Click failed for selector: //label[span[text()=\"Near Mint\"]]\n"
     ]
    },
    {
     "name": "stderr",
     "output_type": "stream",
     "text": [
      "Price Extraction:  64%|██████▍   | 2441/3821 [2:22:04<2:05:53,  5.47s/it, Processing xy5-154]        "
     ]
    },
    {
     "name": "stdout",
     "output_type": "stream",
     "text": [
      "Click failed for //label[span[text()=\"Near Mint\"]]: Message: \n",
      "Stacktrace:\n",
      "0   chromedriver                        0x0000000100c07e12 chromedriver + 6696466\n",
      "1   chromedriver                        0x0000000100bffc2a chromedriver + 6663210\n",
      "2   chromedriver                        0x0000000100607e3e chromedriver + 405054\n",
      "3   chromedriver                        0x0000000100658815 chromedriver + 735253\n",
      "4   chromedriver                        0x0000000100658d11 chromedriver + 736529\n",
      "5   chromedriver                        0x00000001006a3314 chromedriver + 1041172\n",
      "6   chromedriver                        0x000000010067d89d chromedriver + 886941\n",
      "7   chromedriver                        0x00000001006a03f4 chromedriver + 1029108\n",
      "8   chromedriver                        0x000000010067d613 chromedriver + 886291\n",
      "9   chromedriver                        0x000000010064a950 chromedriver + 678224\n",
      "10  chromedriver                        0x000000010064b34e chromedriver + 680782\n",
      "11  chromedriver                        0x0000000100bd5700 chromedriver + 6489856\n",
      "12  chromedriver                        0x0000000100bd81a9 chromedriver + 6500777\n",
      "13  chromedriver                        0x0000000100bd7ccb chromedriver + 6499531\n",
      "14  chromedriver                        0x0000000100bd8635 chromedriver + 6501941\n",
      "15  chromedriver                        0x0000000100bc04b4 chromedriver + 6403252\n",
      "16  chromedriver                        0x0000000100bd891f chromedriver + 6502687\n",
      "17  chromedriver                        0x0000000100bb18e4 chromedriver + 6342884\n",
      "18  chromedriver                        0x0000000100bf0308 chromedriver + 6599432\n",
      "19  chromedriver                        0x0000000100bf04c5 chromedriver + 6599877\n",
      "20  chromedriver                        0x0000000100bff7f8 chromedriver + 6662136\n",
      "21  libsystem_pthread.dylib             0x00007ff80b5b7253 _pthread_start + 99\n",
      "22  libsystem_pthread.dylib             0x00007ff80b5b2bef thread_start + 15\n",
      "\n",
      "Click failed for selector: //label[span[text()=\"Near Mint\"]]\n"
     ]
    },
    {
     "name": "stderr",
     "output_type": "stream",
     "text": [
      "Price Extraction:  64%|██████▍   | 2453/3821 [2:22:24<2:01:22,  5.32s/it, Processing bw7-151]         "
     ]
    },
    {
     "name": "stdout",
     "output_type": "stream",
     "text": [
      "Click failed for //label[span[text()=\"Near Mint\"]]: Message: \n",
      "Stacktrace:\n",
      "0   chromedriver                        0x00000001009d8e12 chromedriver + 6696466\n",
      "1   chromedriver                        0x00000001009d0c2a chromedriver + 6663210\n",
      "2   chromedriver                        0x00000001003d8e3e chromedriver + 405054\n",
      "3   chromedriver                        0x0000000100429815 chromedriver + 735253\n",
      "4   chromedriver                        0x0000000100429d11 chromedriver + 736529\n",
      "5   chromedriver                        0x0000000100474314 chromedriver + 1041172\n",
      "6   chromedriver                        0x000000010044e89d chromedriver + 886941\n",
      "7   chromedriver                        0x00000001004713f4 chromedriver + 1029108\n",
      "8   chromedriver                        0x000000010044e613 chromedriver + 886291\n",
      "9   chromedriver                        0x000000010041b950 chromedriver + 678224\n",
      "10  chromedriver                        0x000000010041c34e chromedriver + 680782\n",
      "11  chromedriver                        0x00000001009a6700 chromedriver + 6489856\n",
      "12  chromedriver                        0x00000001009a91a9 chromedriver + 6500777\n",
      "13  chromedriver                        0x00000001009a8ccb chromedriver + 6499531\n",
      "14  chromedriver                        0x00000001009a9635 chromedriver + 6501941\n",
      "15  chromedriver                        0x00000001009914b4 chromedriver + 6403252\n",
      "16  chromedriver                        0x00000001009a991f chromedriver + 6502687\n",
      "17  chromedriver                        0x00000001009828e4 chromedriver + 6342884\n",
      "18  chromedriver                        0x00000001009c1308 chromedriver + 6599432\n",
      "19  chromedriver                        0x00000001009c14c5 chromedriver + 6599877\n",
      "20  chromedriver                        0x00000001009d07f8 chromedriver + 6662136\n",
      "21  libsystem_pthread.dylib             0x00007ff80b5b7253 _pthread_start + 99\n",
      "22  libsystem_pthread.dylib             0x00007ff80b5b2bef thread_start + 15\n",
      "\n",
      "Click failed for selector: //label[span[text()=\"Near Mint\"]]\n"
     ]
    },
    {
     "name": "stderr",
     "output_type": "stream",
     "text": [
      "Price Extraction:  64%|██████▍   | 2462/3821 [2:24:44<2:47:46,  7.41s/it, Processing pl1-SH6]        "
     ]
    },
    {
     "name": "stdout",
     "output_type": "stream",
     "text": [
      "An error occurred: Message: unknown error: cannot determine loading status\n",
      "from disconnected: Unable to receive message from renderer\n",
      "  (Session info: chrome=131.0.6778.140)\n",
      "Stacktrace:\n",
      "0   chromedriver                        0x0000000104ef8e12 chromedriver + 6696466\n",
      "1   chromedriver                        0x0000000104ef0c2a chromedriver + 6663210\n",
      "2   chromedriver                        0x00000001048f8e3e chromedriver + 405054\n",
      "3   chromedriver                        0x00000001048e091a chromedriver + 305434\n",
      "4   chromedriver                        0x00000001048e0638 chromedriver + 304696\n",
      "5   chromedriver                        0x00000001048dea1b chromedriver + 297499\n",
      "6   chromedriver                        0x00000001048def14 chromedriver + 298772\n",
      "7   chromedriver                        0x00000001048eed30 chromedriver + 363824\n",
      "8   chromedriver                        0x0000000104906772 chromedriver + 460658\n",
      "9   chromedriver                        0x000000010490c7ab chromedriver + 485291\n",
      "10  chromedriver                        0x00000001048df600 chromedriver + 300544\n",
      "11  chromedriver                        0x00000001049062d1 chromedriver + 459473\n",
      "12  chromedriver                        0x00000001049917a6 chromedriver + 1030054\n",
      "13  chromedriver                        0x000000010496e613 chromedriver + 886291\n",
      "14  chromedriver                        0x000000010493b950 chromedriver + 678224\n",
      "15  chromedriver                        0x000000010493c34e chromedriver + 680782\n",
      "16  chromedriver                        0x0000000104ec6700 chromedriver + 6489856\n",
      "17  chromedriver                        0x0000000104ec91a9 chromedriver + 6500777\n",
      "18  chromedriver                        0x0000000104ec8ccb chromedriver + 6499531\n",
      "19  chromedriver                        0x0000000104ec9635 chromedriver + 6501941\n",
      "20  chromedriver                        0x0000000104eb14b4 chromedriver + 6403252\n",
      "21  chromedriver                        0x0000000104ec991f chromedriver + 6502687\n",
      "22  chromedriver                        0x0000000104ea28e4 chromedriver + 6342884\n",
      "23  chromedriver                        0x0000000104ee1308 chromedriver + 6599432\n",
      "24  chromedriver                        0x0000000104ee14c5 chromedriver + 6599877\n",
      "25  chromedriver                        0x0000000104ef07f8 chromedriver + 6662136\n",
      "26  libsystem_pthread.dylib             0x00007ff80b5b7253 _pthread_start + 99\n",
      "27  libsystem_pthread.dylib             0x00007ff80b5b2bef thread_start + 15\n",
      "\n"
     ]
    },
    {
     "name": "stderr",
     "output_type": "stream",
     "text": [
      "Price Extraction:  65%|██████▍   | 2481/3821 [2:28:05<3:05:11,  8.29s/it, Processing bw8-137]        "
     ]
    },
    {
     "name": "stdout",
     "output_type": "stream",
     "text": [
      "Click failed for //label[span[text()=\"Near Mint\"]]: Message: \n",
      "Stacktrace:\n",
      "0   chromedriver                        0x0000000101350e12 chromedriver + 6696466\n",
      "1   chromedriver                        0x0000000101348c2a chromedriver + 6663210\n",
      "2   chromedriver                        0x0000000100d50e3e chromedriver + 405054\n",
      "3   chromedriver                        0x0000000100da1815 chromedriver + 735253\n",
      "4   chromedriver                        0x0000000100da1d11 chromedriver + 736529\n",
      "5   chromedriver                        0x0000000100dec314 chromedriver + 1041172\n",
      "6   chromedriver                        0x0000000100dc689d chromedriver + 886941\n",
      "7   chromedriver                        0x0000000100de93f4 chromedriver + 1029108\n",
      "8   chromedriver                        0x0000000100dc6613 chromedriver + 886291\n",
      "9   chromedriver                        0x0000000100d93950 chromedriver + 678224\n",
      "10  chromedriver                        0x0000000100d9434e chromedriver + 680782\n",
      "11  chromedriver                        0x000000010131e700 chromedriver + 6489856\n",
      "12  chromedriver                        0x00000001013211a9 chromedriver + 6500777\n",
      "13  chromedriver                        0x0000000101320ccb chromedriver + 6499531\n",
      "14  chromedriver                        0x0000000101321635 chromedriver + 6501941\n",
      "15  chromedriver                        0x00000001013094b4 chromedriver + 6403252\n",
      "16  chromedriver                        0x000000010132191f chromedriver + 6502687\n",
      "17  chromedriver                        0x00000001012fa8e4 chromedriver + 6342884\n",
      "18  chromedriver                        0x0000000101339308 chromedriver + 6599432\n",
      "19  chromedriver                        0x00000001013394c5 chromedriver + 6599877\n",
      "20  chromedriver                        0x00000001013487f8 chromedriver + 6662136\n",
      "21  libsystem_pthread.dylib             0x00007ff80b5b7253 _pthread_start + 99\n",
      "22  libsystem_pthread.dylib             0x00007ff80b5b2bef thread_start + 15\n",
      "\n",
      "Click failed for selector: //label[span[text()=\"Near Mint\"]]\n"
     ]
    },
    {
     "name": "stderr",
     "output_type": "stream",
     "text": [
      "Price Extraction:  65%|██████▌   | 2484/3821 [2:29:16<4:07:10, 11.09s/it, Processing xy5-156]      "
     ]
    },
    {
     "name": "stdout",
     "output_type": "stream",
     "text": [
      "An error occurred: Message: \n",
      "Stacktrace:\n",
      "0   chromedriver                        0x0000000104bcfe12 chromedriver + 6696466\n",
      "1   chromedriver                        0x0000000104bc7c2a chromedriver + 6663210\n",
      "2   chromedriver                        0x00000001045cfe3e chromedriver + 405054\n",
      "3   chromedriver                        0x0000000104620815 chromedriver + 735253\n",
      "4   chromedriver                        0x0000000104620d11 chromedriver + 736529\n",
      "5   chromedriver                        0x000000010466b314 chromedriver + 1041172\n",
      "6   chromedriver                        0x000000010464589d chromedriver + 886941\n",
      "7   chromedriver                        0x00000001046683f4 chromedriver + 1029108\n",
      "8   chromedriver                        0x0000000104645613 chromedriver + 886291\n",
      "9   chromedriver                        0x0000000104612950 chromedriver + 678224\n",
      "10  chromedriver                        0x000000010461334e chromedriver + 680782\n",
      "11  chromedriver                        0x0000000104b9d700 chromedriver + 6489856\n",
      "12  chromedriver                        0x0000000104ba01a9 chromedriver + 6500777\n",
      "13  chromedriver                        0x0000000104b9fccb chromedriver + 6499531\n",
      "14  chromedriver                        0x0000000104ba0635 chromedriver + 6501941\n",
      "15  chromedriver                        0x0000000104b884b4 chromedriver + 6403252\n",
      "16  chromedriver                        0x0000000104ba091f chromedriver + 6502687\n",
      "17  chromedriver                        0x0000000104b798e4 chromedriver + 6342884\n",
      "18  chromedriver                        0x0000000104bb8308 chromedriver + 6599432\n",
      "19  chromedriver                        0x0000000104bb84c5 chromedriver + 6599877\n",
      "20  chromedriver                        0x0000000104bc77f8 chromedriver + 6662136\n",
      "21  libsystem_pthread.dylib             0x00007ff80b5b7253 _pthread_start + 99\n",
      "22  libsystem_pthread.dylib             0x00007ff80b5b2bef thread_start + 15\n",
      "\n"
     ]
    },
    {
     "name": "stderr",
     "output_type": "stream",
     "text": [
      "Price Extraction:  65%|██████▌   | 2497/3821 [2:29:34<3:47:49, 10.32s/it, Processing xyp-XY133]       "
     ]
    },
    {
     "name": "stdout",
     "output_type": "stream",
     "text": [
      "Click failed for //label[span[text()=\"Near Mint\"]]: Message: \n",
      "Stacktrace:\n",
      "0   chromedriver                        0x0000000102752e12 chromedriver + 6696466\n",
      "1   chromedriver                        0x000000010274ac2a chromedriver + 6663210\n",
      "2   chromedriver                        0x0000000102152e3e chromedriver + 405054\n",
      "3   chromedriver                        0x00000001021a3815 chromedriver + 735253\n",
      "4   chromedriver                        0x00000001021a3d11 chromedriver + 736529\n",
      "5   chromedriver                        0x00000001021ee314 chromedriver + 1041172\n",
      "6   chromedriver                        0x00000001021c889d chromedriver + 886941\n",
      "7   chromedriver                        0x00000001021eb3f4 chromedriver + 1029108\n",
      "8   chromedriver                        0x00000001021c8613 chromedriver + 886291\n",
      "9   chromedriver                        0x0000000102195950 chromedriver + 678224\n",
      "10  chromedriver                        0x000000010219634e chromedriver + 680782\n",
      "11  chromedriver                        0x0000000102720700 chromedriver + 6489856\n",
      "12  chromedriver                        0x00000001027231a9 chromedriver + 6500777\n",
      "13  chromedriver                        0x0000000102722ccb chromedriver + 6499531\n",
      "14  chromedriver                        0x0000000102723635 chromedriver + 6501941\n",
      "15  chromedriver                        0x000000010270b4b4 chromedriver + 6403252\n",
      "16  chromedriver                        0x000000010272391f chromedriver + 6502687\n",
      "17  chromedriver                        0x00000001026fc8e4 chromedriver + 6342884\n",
      "18  chromedriver                        0x000000010273b308 chromedriver + 6599432\n",
      "19  chromedriver                        0x000000010273b4c5 chromedriver + 6599877\n",
      "20  chromedriver                        0x000000010274a7f8 chromedriver + 6662136\n",
      "21  libsystem_pthread.dylib             0x00007ff80b5b7253 _pthread_start + 99\n",
      "22  libsystem_pthread.dylib             0x00007ff80b5b2bef thread_start + 15\n",
      "\n",
      "Click failed for selector: //label[span[text()=\"Near Mint\"]]\n"
     ]
    },
    {
     "name": "stderr",
     "output_type": "stream",
     "text": [
      "Price Extraction:  66%|██████▌   | 2508/3821 [2:33:02<3:45:18, 10.30s/it, Processing bw7-147]        "
     ]
    },
    {
     "name": "stdout",
     "output_type": "stream",
     "text": [
      "Click failed for //label[span[text()=\"Near Mint\"]]: Message: \n",
      "Stacktrace:\n",
      "0   chromedriver                        0x0000000104890e12 chromedriver + 6696466\n",
      "1   chromedriver                        0x0000000104888c2a chromedriver + 6663210\n",
      "2   chromedriver                        0x0000000104290e3e chromedriver + 405054\n",
      "3   chromedriver                        0x00000001042e1815 chromedriver + 735253\n",
      "4   chromedriver                        0x00000001042e1d11 chromedriver + 736529\n",
      "5   chromedriver                        0x000000010432c314 chromedriver + 1041172\n",
      "6   chromedriver                        0x000000010430689d chromedriver + 886941\n",
      "7   chromedriver                        0x00000001043293f4 chromedriver + 1029108\n",
      "8   chromedriver                        0x0000000104306613 chromedriver + 886291\n",
      "9   chromedriver                        0x00000001042d3950 chromedriver + 678224\n",
      "10  chromedriver                        0x00000001042d434e chromedriver + 680782\n",
      "11  chromedriver                        0x000000010485e700 chromedriver + 6489856\n",
      "12  chromedriver                        0x00000001048611a9 chromedriver + 6500777\n",
      "13  chromedriver                        0x0000000104860ccb chromedriver + 6499531\n",
      "14  chromedriver                        0x0000000104861635 chromedriver + 6501941\n",
      "15  chromedriver                        0x00000001048494b4 chromedriver + 6403252\n",
      "16  chromedriver                        0x000000010486191f chromedriver + 6502687\n",
      "17  chromedriver                        0x000000010483a8e4 chromedriver + 6342884\n",
      "18  chromedriver                        0x0000000104879308 chromedriver + 6599432\n",
      "19  chromedriver                        0x00000001048794c5 chromedriver + 6599877\n",
      "20  chromedriver                        0x00000001048887f8 chromedriver + 6662136\n",
      "21  libsystem_pthread.dylib             0x00007ff80b5b7253 _pthread_start + 99\n",
      "22  libsystem_pthread.dylib             0x00007ff80b5b2bef thread_start + 15\n",
      "\n",
      "Click failed for selector: //label[span[text()=\"Near Mint\"]]\n"
     ]
    },
    {
     "name": "stderr",
     "output_type": "stream",
     "text": [
      "Price Extraction:  70%|██████▉   | 2666/3821 [2:41:05<13:31,  1.42it/s, Processing sm9-170]           "
     ]
    },
    {
     "name": "stdout",
     "output_type": "stream",
     "text": [
      "Erreur d'extraction : could not convert string to float: '1,062.29'\n",
      "Erreur d'extraction : Message: no such element: Unable to locate element: {\"method\":\"css selector\",\"selector\":\".text\"}\n",
      "  (Session info: chrome=131.0.6778.140); For documentation on this error, please visit: https://www.selenium.dev/documentation/webdriver/troubleshooting/errors#no-such-element-exception\n",
      "Stacktrace:\n",
      "0   chromedriver                        0x0000000104c51e12 chromedriver + 6696466\n",
      "1   chromedriver                        0x0000000104c49c2a chromedriver + 6663210\n",
      "2   chromedriver                        0x0000000104651e3e chromedriver + 405054\n",
      "3   chromedriver                        0x00000001046a2815 chromedriver + 735253\n",
      "4   chromedriver                        0x00000001046a2d11 chromedriver + 736529\n",
      "5   chromedriver                        0x00000001046962c6 chromedriver + 684742\n",
      "6   chromedriver                        0x00000001046c789d chromedriver + 886941\n",
      "7   chromedriver                        0x00000001046961c8 chromedriver + 684488\n",
      "8   chromedriver                        0x00000001046c7a2e chromedriver + 887342\n",
      "9   chromedriver                        0x00000001046ea3f4 chromedriver + 1029108\n",
      "10  chromedriver                        0x00000001046c7613 chromedriver + 886291\n",
      "11  chromedriver                        0x0000000104694950 chromedriver + 678224\n",
      "12  chromedriver                        0x000000010469534e chromedriver + 680782\n",
      "13  chromedriver                        0x0000000104c1f700 chromedriver + 6489856\n",
      "14  chromedriver                        0x0000000104c221a9 chromedriver + 6500777\n",
      "15  chromedriver                        0x0000000104c21ccb chromedriver + 6499531\n",
      "16  chromedriver                        0x0000000104c22635 chromedriver + 6501941\n",
      "17  chromedriver                        0x0000000104c0a4b4 chromedriver + 6403252\n",
      "18  chromedriver                        0x0000000104c2291f chromedriver + 6502687\n",
      "19  chromedriver                        0x0000000104bfb8e4 chromedriver + 6342884\n",
      "20  chromedriver                        0x0000000104c3a308 chromedriver + 6599432\n",
      "21  chromedriver                        0x0000000104c3a4c5 chromedriver + 6599877\n",
      "22  chromedriver                        0x0000000104c497f8 chromedriver + 6662136\n",
      "23  libsystem_pthread.dylib             0x00007ff80b5b7253 _pthread_start + 99\n",
      "24  libsystem_pthread.dylib             0x00007ff80b5b2bef thread_start + 15\n",
      "\n"
     ]
    },
    {
     "name": "stderr",
     "output_type": "stream",
     "text": [
      "Price Extraction:  74%|███████▍  | 2829/3821 [3:02:16<18:30:58, 67.20s/it, Processing xyp-XY168]      "
     ]
    },
    {
     "name": "stdout",
     "output_type": "stream",
     "text": [
      "Click failed for //label[span[text()=\"Near Mint\"]]: Message: \n",
      "Stacktrace:\n",
      "0   chromedriver                        0x0000000105286e12 chromedriver + 6696466\n",
      "1   chromedriver                        0x000000010527ec2a chromedriver + 6663210\n",
      "2   chromedriver                        0x0000000104c86e3e chromedriver + 405054\n",
      "3   chromedriver                        0x0000000104cd7815 chromedriver + 735253\n",
      "4   chromedriver                        0x0000000104cd7d11 chromedriver + 736529\n",
      "5   chromedriver                        0x0000000104d22314 chromedriver + 1041172\n",
      "6   chromedriver                        0x0000000104cfc89d chromedriver + 886941\n",
      "7   chromedriver                        0x0000000104d1f3f4 chromedriver + 1029108\n",
      "8   chromedriver                        0x0000000104cfc613 chromedriver + 886291\n",
      "9   chromedriver                        0x0000000104cc9950 chromedriver + 678224\n",
      "10  chromedriver                        0x0000000104cca34e chromedriver + 680782\n",
      "11  chromedriver                        0x0000000105254700 chromedriver + 6489856\n",
      "12  chromedriver                        0x00000001052571a9 chromedriver + 6500777\n",
      "13  chromedriver                        0x0000000105256ccb chromedriver + 6499531\n",
      "14  chromedriver                        0x0000000105257635 chromedriver + 6501941\n",
      "15  chromedriver                        0x000000010523f4b4 chromedriver + 6403252\n",
      "16  chromedriver                        0x000000010525791f chromedriver + 6502687\n",
      "17  chromedriver                        0x00000001052308e4 chromedriver + 6342884\n",
      "18  chromedriver                        0x000000010526f308 chromedriver + 6599432\n",
      "19  chromedriver                        0x000000010526f4c5 chromedriver + 6599877\n",
      "20  chromedriver                        0x000000010527e7f8 chromedriver + 6662136\n",
      "21  libsystem_pthread.dylib             0x00007ff80b5b7253 _pthread_start + 99\n",
      "22  libsystem_pthread.dylib             0x00007ff80b5b2bef thread_start + 15\n",
      "\n",
      "Click failed for selector: //label[span[text()=\"Near Mint\"]]\n"
     ]
    },
    {
     "name": "stderr",
     "output_type": "stream",
     "text": [
      "Price Extraction:  74%|███████▍  | 2832/3821 [3:08:30<26:40:37, 97.11s/it, Processing ecard2-149]"
     ]
    },
    {
     "name": "stdout",
     "output_type": "stream",
     "text": [
      "Erreur d'extraction : could not convert string to float: '2,386.00'\n",
      "Erreur d'extraction : Message: no such element: Unable to locate element: {\"method\":\"css selector\",\"selector\":\".text\"}\n",
      "  (Session info: chrome=131.0.6778.140); For documentation on this error, please visit: https://www.selenium.dev/documentation/webdriver/troubleshooting/errors#no-such-element-exception\n",
      "Stacktrace:\n",
      "0   chromedriver                        0x00000001048afe12 chromedriver + 6696466\n",
      "1   chromedriver                        0x00000001048a7c2a chromedriver + 6663210\n",
      "2   chromedriver                        0x00000001042afe3e chromedriver + 405054\n",
      "3   chromedriver                        0x0000000104300815 chromedriver + 735253\n",
      "4   chromedriver                        0x0000000104300d11 chromedriver + 736529\n",
      "5   chromedriver                        0x00000001042f42c6 chromedriver + 684742\n",
      "6   chromedriver                        0x000000010432589d chromedriver + 886941\n",
      "7   chromedriver                        0x00000001042f41c8 chromedriver + 684488\n",
      "8   chromedriver                        0x0000000104325a2e chromedriver + 887342\n",
      "9   chromedriver                        0x00000001043483f4 chromedriver + 1029108\n",
      "10  chromedriver                        0x0000000104325613 chromedriver + 886291\n",
      "11  chromedriver                        0x00000001042f2950 chromedriver + 678224\n",
      "12  chromedriver                        0x00000001042f334e chromedriver + 680782\n",
      "13  chromedriver                        0x000000010487d700 chromedriver + 6489856\n",
      "14  chromedriver                        0x00000001048801a9 chromedriver + 6500777\n",
      "15  chromedriver                        0x000000010487fccb chromedriver + 6499531\n",
      "16  chromedriver                        0x0000000104880635 chromedriver + 6501941\n",
      "17  chromedriver                        0x00000001048684b4 chromedriver + 6403252\n",
      "18  chromedriver                        0x000000010488091f chromedriver + 6502687\n",
      "19  chromedriver                        0x00000001048598e4 chromedriver + 6342884\n",
      "20  chromedriver                        0x0000000104898308 chromedriver + 6599432\n",
      "21  chromedriver                        0x00000001048984c5 chromedriver + 6599877\n",
      "22  chromedriver                        0x00000001048a77f8 chromedriver + 6662136\n",
      "23  libsystem_pthread.dylib             0x00007ff80b5b7253 _pthread_start + 99\n",
      "24  libsystem_pthread.dylib             0x00007ff80b5b2bef thread_start + 15\n",
      "\n"
     ]
    },
    {
     "name": "stderr",
     "output_type": "stream",
     "text": [
      "Price Extraction:  74%|███████▍  | 2839/3821 [3:19:19<23:52:07, 87.50s/it, Processing xyp-XY178] "
     ]
    },
    {
     "name": "stdout",
     "output_type": "stream",
     "text": [
      "Click failed for //label[span[text()=\"Near Mint\"]]: Message: \n",
      "Stacktrace:\n",
      "0   chromedriver                        0x0000000100f28e12 chromedriver + 6696466\n",
      "1   chromedriver                        0x0000000100f20c2a chromedriver + 6663210\n",
      "2   chromedriver                        0x0000000100928e3e chromedriver + 405054\n",
      "3   chromedriver                        0x0000000100979815 chromedriver + 735253\n",
      "4   chromedriver                        0x0000000100979d11 chromedriver + 736529\n",
      "5   chromedriver                        0x00000001009c4314 chromedriver + 1041172\n",
      "6   chromedriver                        0x000000010099e89d chromedriver + 886941\n",
      "7   chromedriver                        0x00000001009c13f4 chromedriver + 1029108\n",
      "8   chromedriver                        0x000000010099e613 chromedriver + 886291\n",
      "9   chromedriver                        0x000000010096b950 chromedriver + 678224\n",
      "10  chromedriver                        0x000000010096c34e chromedriver + 680782\n",
      "11  chromedriver                        0x0000000100ef6700 chromedriver + 6489856\n",
      "12  chromedriver                        0x0000000100ef91a9 chromedriver + 6500777\n",
      "13  chromedriver                        0x0000000100ef8ccb chromedriver + 6499531\n",
      "14  chromedriver                        0x0000000100ef9635 chromedriver + 6501941\n",
      "15  chromedriver                        0x0000000100ee14b4 chromedriver + 6403252\n",
      "16  chromedriver                        0x0000000100ef991f chromedriver + 6502687\n",
      "17  chromedriver                        0x0000000100ed28e4 chromedriver + 6342884\n",
      "18  chromedriver                        0x0000000100f11308 chromedriver + 6599432\n",
      "19  chromedriver                        0x0000000100f114c5 chromedriver + 6599877\n",
      "20  chromedriver                        0x0000000100f207f8 chromedriver + 6662136\n",
      "21  libsystem_pthread.dylib             0x00007ff80b5b7253 _pthread_start + 99\n",
      "22  libsystem_pthread.dylib             0x00007ff80b5b2bef thread_start + 15\n",
      "\n",
      "Click failed for selector: //label[span[text()=\"Near Mint\"]]\n"
     ]
    },
    {
     "name": "stderr",
     "output_type": "stream",
     "text": [
      "Price Extraction:  76%|███████▌  | 2891/3821 [4:54:34<30:32:06, 118.20s/it, Processing xyp-XY192]"
     ]
    },
    {
     "name": "stdout",
     "output_type": "stream",
     "text": [
      "Click failed for //label[span[text()=\"Near Mint\"]]: Message: \n",
      "Stacktrace:\n",
      "0   chromedriver                        0x0000000102c69e12 chromedriver + 6696466\n",
      "1   chromedriver                        0x0000000102c61c2a chromedriver + 6663210\n",
      "2   chromedriver                        0x0000000102669e3e chromedriver + 405054\n",
      "3   chromedriver                        0x00000001026ba815 chromedriver + 735253\n",
      "4   chromedriver                        0x00000001026bad11 chromedriver + 736529\n",
      "5   chromedriver                        0x0000000102705314 chromedriver + 1041172\n",
      "6   chromedriver                        0x00000001026df89d chromedriver + 886941\n",
      "7   chromedriver                        0x00000001027023f4 chromedriver + 1029108\n",
      "8   chromedriver                        0x00000001026df613 chromedriver + 886291\n",
      "9   chromedriver                        0x00000001026ac950 chromedriver + 678224\n",
      "10  chromedriver                        0x00000001026ad34e chromedriver + 680782\n",
      "11  chromedriver                        0x0000000102c37700 chromedriver + 6489856\n",
      "12  chromedriver                        0x0000000102c3a1a9 chromedriver + 6500777\n",
      "13  chromedriver                        0x0000000102c39ccb chromedriver + 6499531\n",
      "14  chromedriver                        0x0000000102c3a635 chromedriver + 6501941\n",
      "15  chromedriver                        0x0000000102c224b4 chromedriver + 6403252\n",
      "16  chromedriver                        0x0000000102c3a91f chromedriver + 6502687\n",
      "17  chromedriver                        0x0000000102c138e4 chromedriver + 6342884\n",
      "18  chromedriver                        0x0000000102c52308 chromedriver + 6599432\n",
      "19  chromedriver                        0x0000000102c524c5 chromedriver + 6599877\n",
      "20  chromedriver                        0x0000000102c617f8 chromedriver + 6662136\n",
      "21  libsystem_pthread.dylib             0x00007ff80b5b7253 _pthread_start + 99\n",
      "22  libsystem_pthread.dylib             0x00007ff80b5b2bef thread_start + 15\n",
      "\n",
      "Click failed for selector: //label[span[text()=\"Near Mint\"]]\n"
     ]
    },
    {
     "name": "stderr",
     "output_type": "stream",
     "text": [
      "Price Extraction:  79%|███████▊  | 3001/3821 [7:53:46<19:42:29, 86.52s/it, Processing xyp-XY207] "
     ]
    },
    {
     "name": "stdout",
     "output_type": "stream",
     "text": [
      "An error occurred: Message: \n",
      "Stacktrace:\n",
      "0   chromedriver                        0x0000000100b34e12 chromedriver + 6696466\n",
      "1   chromedriver                        0x0000000100b2cc2a chromedriver + 6663210\n",
      "2   chromedriver                        0x0000000100534e3e chromedriver + 405054\n",
      "3   chromedriver                        0x0000000100585815 chromedriver + 735253\n",
      "4   chromedriver                        0x0000000100585d11 chromedriver + 736529\n",
      "5   chromedriver                        0x00000001005d0314 chromedriver + 1041172\n",
      "6   chromedriver                        0x00000001005aa89d chromedriver + 886941\n",
      "7   chromedriver                        0x00000001005cd3f4 chromedriver + 1029108\n",
      "8   chromedriver                        0x00000001005aa613 chromedriver + 886291\n",
      "9   chromedriver                        0x0000000100577950 chromedriver + 678224\n",
      "10  chromedriver                        0x000000010057834e chromedriver + 680782\n",
      "11  chromedriver                        0x0000000100b02700 chromedriver + 6489856\n",
      "12  chromedriver                        0x0000000100b051a9 chromedriver + 6500777\n",
      "13  chromedriver                        0x0000000100b04ccb chromedriver + 6499531\n",
      "14  chromedriver                        0x0000000100b05635 chromedriver + 6501941\n",
      "15  chromedriver                        0x0000000100aed4b4 chromedriver + 6403252\n",
      "16  chromedriver                        0x0000000100b0591f chromedriver + 6502687\n",
      "17  chromedriver                        0x0000000100ade8e4 chromedriver + 6342884\n",
      "18  chromedriver                        0x0000000100b1d308 chromedriver + 6599432\n",
      "19  chromedriver                        0x0000000100b1d4c5 chromedriver + 6599877\n",
      "20  chromedriver                        0x0000000100b2c7f8 chromedriver + 6662136\n",
      "21  libsystem_pthread.dylib             0x00007ff80b5b7253 _pthread_start + 99\n",
      "22  libsystem_pthread.dylib             0x00007ff80b5b2bef thread_start + 15\n",
      "\n"
     ]
    },
    {
     "name": "stderr",
     "output_type": "stream",
     "text": [
      "Price Extraction:  82%|████████▏ | 3140/3821 [11:31:02<16:38:06, 87.94s/it, Processing swsh7-215]     "
     ]
    },
    {
     "name": "stdout",
     "output_type": "stream",
     "text": [
      "Erreur d'extraction : could not convert string to float: '1,381.35'\n",
      "Erreur d'extraction : Message: no such element: Unable to locate element: {\"method\":\"css selector\",\"selector\":\".text\"}\n",
      "  (Session info: chrome=131.0.6778.140); For documentation on this error, please visit: https://www.selenium.dev/documentation/webdriver/troubleshooting/errors#no-such-element-exception\n",
      "Stacktrace:\n",
      "0   chromedriver                        0x00000001046afe12 chromedriver + 6696466\n",
      "1   chromedriver                        0x00000001046a7c2a chromedriver + 6663210\n",
      "2   chromedriver                        0x00000001040afe3e chromedriver + 405054\n",
      "3   chromedriver                        0x0000000104100815 chromedriver + 735253\n",
      "4   chromedriver                        0x0000000104100d11 chromedriver + 736529\n",
      "5   chromedriver                        0x00000001040f42c6 chromedriver + 684742\n",
      "6   chromedriver                        0x000000010412589d chromedriver + 886941\n",
      "7   chromedriver                        0x00000001040f41c8 chromedriver + 684488\n",
      "8   chromedriver                        0x0000000104125a2e chromedriver + 887342\n",
      "9   chromedriver                        0x00000001041483f4 chromedriver + 1029108\n",
      "10  chromedriver                        0x0000000104125613 chromedriver + 886291\n",
      "11  chromedriver                        0x00000001040f2950 chromedriver + 678224\n",
      "12  chromedriver                        0x00000001040f334e chromedriver + 680782\n",
      "13  chromedriver                        0x000000010467d700 chromedriver + 6489856\n",
      "14  chromedriver                        0x00000001046801a9 chromedriver + 6500777\n",
      "15  chromedriver                        0x000000010467fccb chromedriver + 6499531\n",
      "16  chromedriver                        0x0000000104680635 chromedriver + 6501941\n",
      "17  chromedriver                        0x00000001046684b4 chromedriver + 6403252\n",
      "18  chromedriver                        0x000000010468091f chromedriver + 6502687\n",
      "19  chromedriver                        0x00000001046598e4 chromedriver + 6342884\n",
      "20  chromedriver                        0x0000000104698308 chromedriver + 6599432\n",
      "21  chromedriver                        0x00000001046984c5 chromedriver + 6599877\n",
      "22  chromedriver                        0x00000001046a77f8 chromedriver + 6662136\n",
      "23  libsystem_pthread.dylib             0x00007ff80b5b7253 _pthread_start + 99\n",
      "24  libsystem_pthread.dylib             0x00007ff80b5b2bef thread_start + 15\n",
      "\n"
     ]
    },
    {
     "name": "stderr",
     "output_type": "stream",
     "text": [
      "Price Extraction:  85%|████████▌ | 3252/3821 [14:39:35<16:21:36, 103.51s/it, Processing swsh9tg-TG17] "
     ]
    },
    {
     "name": "stdout",
     "output_type": "stream",
     "text": [
      "An error occurred: Message: \n",
      "Stacktrace:\n",
      "0   chromedriver                        0x0000000100919e12 chromedriver + 6696466\n",
      "1   chromedriver                        0x0000000100911c2a chromedriver + 6663210\n",
      "2   chromedriver                        0x0000000100319e3e chromedriver + 405054\n",
      "3   chromedriver                        0x000000010036a815 chromedriver + 735253\n",
      "4   chromedriver                        0x000000010036ad11 chromedriver + 736529\n",
      "5   chromedriver                        0x00000001003b5314 chromedriver + 1041172\n",
      "6   chromedriver                        0x000000010038f89d chromedriver + 886941\n",
      "7   chromedriver                        0x00000001003b23f4 chromedriver + 1029108\n",
      "8   chromedriver                        0x000000010038f613 chromedriver + 886291\n",
      "9   chromedriver                        0x000000010035c950 chromedriver + 678224\n",
      "10  chromedriver                        0x000000010035d34e chromedriver + 680782\n",
      "11  chromedriver                        0x00000001008e7700 chromedriver + 6489856\n",
      "12  chromedriver                        0x00000001008ea1a9 chromedriver + 6500777\n",
      "13  chromedriver                        0x00000001008e9ccb chromedriver + 6499531\n",
      "14  chromedriver                        0x00000001008ea635 chromedriver + 6501941\n",
      "15  chromedriver                        0x00000001008d24b4 chromedriver + 6403252\n",
      "16  chromedriver                        0x00000001008ea91f chromedriver + 6502687\n",
      "17  chromedriver                        0x00000001008c38e4 chromedriver + 6342884\n",
      "18  chromedriver                        0x0000000100902308 chromedriver + 6599432\n",
      "19  chromedriver                        0x00000001009024c5 chromedriver + 6599877\n",
      "20  chromedriver                        0x00000001009117f8 chromedriver + 6662136\n",
      "21  libsystem_pthread.dylib             0x00007ff80b5b7253 _pthread_start + 99\n",
      "22  libsystem_pthread.dylib             0x00007ff80b5b2bef thread_start + 15\n",
      "\n"
     ]
    },
    {
     "name": "stderr",
     "output_type": "stream",
     "text": [
      "Price Extraction:  87%|████████▋ | 3338/3821 [17:06:42<11:48:27, 88.01s/it, Processing swsh12tg-TG14] "
     ]
    },
    {
     "name": "stdout",
     "output_type": "stream",
     "text": [
      "An error occurred: Message: \n",
      "Stacktrace:\n",
      "0   chromedriver                        0x0000000104852e12 chromedriver + 6696466\n",
      "1   chromedriver                        0x000000010484ac2a chromedriver + 6663210\n",
      "2   chromedriver                        0x0000000104252e3e chromedriver + 405054\n",
      "3   chromedriver                        0x00000001042a3815 chromedriver + 735253\n",
      "4   chromedriver                        0x00000001042a3d11 chromedriver + 736529\n",
      "5   chromedriver                        0x00000001042ee314 chromedriver + 1041172\n",
      "6   chromedriver                        0x00000001042c889d chromedriver + 886941\n",
      "7   chromedriver                        0x00000001042eb3f4 chromedriver + 1029108\n",
      "8   chromedriver                        0x00000001042c8613 chromedriver + 886291\n",
      "9   chromedriver                        0x0000000104295950 chromedriver + 678224\n",
      "10  chromedriver                        0x000000010429634e chromedriver + 680782\n",
      "11  chromedriver                        0x0000000104820700 chromedriver + 6489856\n",
      "12  chromedriver                        0x00000001048231a9 chromedriver + 6500777\n",
      "13  chromedriver                        0x0000000104822ccb chromedriver + 6499531\n",
      "14  chromedriver                        0x0000000104823635 chromedriver + 6501941\n",
      "15  chromedriver                        0x000000010480b4b4 chromedriver + 6403252\n",
      "16  chromedriver                        0x000000010482391f chromedriver + 6502687\n",
      "17  chromedriver                        0x00000001047fc8e4 chromedriver + 6342884\n",
      "18  chromedriver                        0x000000010483b308 chromedriver + 6599432\n",
      "19  chromedriver                        0x000000010483b4c5 chromedriver + 6599877\n",
      "20  chromedriver                        0x000000010484a7f8 chromedriver + 6662136\n",
      "21  libsystem_pthread.dylib             0x00007ff80b5b7253 _pthread_start + 99\n",
      "22  libsystem_pthread.dylib             0x00007ff80b5b2bef thread_start + 15\n",
      "\n"
     ]
    },
    {
     "name": "stderr",
     "output_type": "stream",
     "text": [
      "Price Extraction:  87%|████████▋ | 3339/3821 [17:07:53<11:05:37, 82.86s/it, Processing swsh12tg-TG15]"
     ]
    },
    {
     "name": "stdout",
     "output_type": "stream",
     "text": [
      "An error occurred: Message: \n",
      "Stacktrace:\n",
      "0   chromedriver                        0x0000000102da0e12 chromedriver + 6696466\n",
      "1   chromedriver                        0x0000000102d98c2a chromedriver + 6663210\n",
      "2   chromedriver                        0x00000001027a0e3e chromedriver + 405054\n",
      "3   chromedriver                        0x00000001027f1815 chromedriver + 735253\n",
      "4   chromedriver                        0x00000001027f1d11 chromedriver + 736529\n",
      "5   chromedriver                        0x000000010283c314 chromedriver + 1041172\n",
      "6   chromedriver                        0x000000010281689d chromedriver + 886941\n",
      "7   chromedriver                        0x00000001028393f4 chromedriver + 1029108\n",
      "8   chromedriver                        0x0000000102816613 chromedriver + 886291\n",
      "9   chromedriver                        0x00000001027e3950 chromedriver + 678224\n",
      "10  chromedriver                        0x00000001027e434e chromedriver + 680782\n",
      "11  chromedriver                        0x0000000102d6e700 chromedriver + 6489856\n",
      "12  chromedriver                        0x0000000102d711a9 chromedriver + 6500777\n",
      "13  chromedriver                        0x0000000102d70ccb chromedriver + 6499531\n",
      "14  chromedriver                        0x0000000102d71635 chromedriver + 6501941\n",
      "15  chromedriver                        0x0000000102d594b4 chromedriver + 6403252\n",
      "16  chromedriver                        0x0000000102d7191f chromedriver + 6502687\n",
      "17  chromedriver                        0x0000000102d4a8e4 chromedriver + 6342884\n",
      "18  chromedriver                        0x0000000102d89308 chromedriver + 6599432\n",
      "19  chromedriver                        0x0000000102d894c5 chromedriver + 6599877\n",
      "20  chromedriver                        0x0000000102d987f8 chromedriver + 6662136\n",
      "21  libsystem_pthread.dylib             0x00007ff80b5b7253 _pthread_start + 99\n",
      "22  libsystem_pthread.dylib             0x00007ff80b5b2bef thread_start + 15\n",
      "\n"
     ]
    },
    {
     "name": "stderr",
     "output_type": "stream",
     "text": [
      "Price Extraction:  87%|████████▋ | 3340/3821 [17:09:04<10:37:28, 79.52s/it, Processing swsh12-197]   "
     ]
    },
    {
     "name": "stdout",
     "output_type": "stream",
     "text": [
      "An error occurred: Message: \n",
      "Stacktrace:\n",
      "0   chromedriver                        0x00000001007a7e12 chromedriver + 6696466\n",
      "1   chromedriver                        0x000000010079fc2a chromedriver + 6663210\n",
      "2   chromedriver                        0x00000001001a7e3e chromedriver + 405054\n",
      "3   chromedriver                        0x00000001001f8815 chromedriver + 735253\n",
      "4   chromedriver                        0x00000001001f8d11 chromedriver + 736529\n",
      "5   chromedriver                        0x0000000100243314 chromedriver + 1041172\n",
      "6   chromedriver                        0x000000010021d89d chromedriver + 886941\n",
      "7   chromedriver                        0x00000001002403f4 chromedriver + 1029108\n",
      "8   chromedriver                        0x000000010021d613 chromedriver + 886291\n",
      "9   chromedriver                        0x00000001001ea950 chromedriver + 678224\n",
      "10  chromedriver                        0x00000001001eb34e chromedriver + 680782\n",
      "11  chromedriver                        0x0000000100775700 chromedriver + 6489856\n",
      "12  chromedriver                        0x00000001007781a9 chromedriver + 6500777\n",
      "13  chromedriver                        0x0000000100777ccb chromedriver + 6499531\n",
      "14  chromedriver                        0x0000000100778635 chromedriver + 6501941\n",
      "15  chromedriver                        0x00000001007604b4 chromedriver + 6403252\n",
      "16  chromedriver                        0x000000010077891f chromedriver + 6502687\n",
      "17  chromedriver                        0x00000001007518e4 chromedriver + 6342884\n",
      "18  chromedriver                        0x0000000100790308 chromedriver + 6599432\n",
      "19  chromedriver                        0x00000001007904c5 chromedriver + 6599877\n",
      "20  chromedriver                        0x000000010079f7f8 chromedriver + 6662136\n",
      "21  libsystem_pthread.dylib             0x00007ff80b5b7253 _pthread_start + 99\n",
      "22  libsystem_pthread.dylib             0x00007ff80b5b2bef thread_start + 15\n",
      "\n"
     ]
    },
    {
     "name": "stderr",
     "output_type": "stream",
     "text": [
      "Price Extraction:  87%|████████▋ | 3341/3821 [17:10:16<10:17:30, 77.19s/it, Processing swsh12-200]"
     ]
    },
    {
     "name": "stdout",
     "output_type": "stream",
     "text": [
      "An error occurred: Message: \n",
      "Stacktrace:\n",
      "0   chromedriver                        0x0000000102976e12 chromedriver + 6696466\n",
      "1   chromedriver                        0x000000010296ec2a chromedriver + 6663210\n",
      "2   chromedriver                        0x0000000102376e3e chromedriver + 405054\n",
      "3   chromedriver                        0x00000001023c7815 chromedriver + 735253\n",
      "4   chromedriver                        0x00000001023c7d11 chromedriver + 736529\n",
      "5   chromedriver                        0x0000000102412314 chromedriver + 1041172\n",
      "6   chromedriver                        0x00000001023ec89d chromedriver + 886941\n",
      "7   chromedriver                        0x000000010240f3f4 chromedriver + 1029108\n",
      "8   chromedriver                        0x00000001023ec613 chromedriver + 886291\n",
      "9   chromedriver                        0x00000001023b9950 chromedriver + 678224\n",
      "10  chromedriver                        0x00000001023ba34e chromedriver + 680782\n",
      "11  chromedriver                        0x0000000102944700 chromedriver + 6489856\n",
      "12  chromedriver                        0x00000001029471a9 chromedriver + 6500777\n",
      "13  chromedriver                        0x0000000102946ccb chromedriver + 6499531\n",
      "14  chromedriver                        0x0000000102947635 chromedriver + 6501941\n",
      "15  chromedriver                        0x000000010292f4b4 chromedriver + 6403252\n",
      "16  chromedriver                        0x000000010294791f chromedriver + 6502687\n",
      "17  chromedriver                        0x00000001029208e4 chromedriver + 6342884\n",
      "18  chromedriver                        0x000000010295f308 chromedriver + 6599432\n",
      "19  chromedriver                        0x000000010295f4c5 chromedriver + 6599877\n",
      "20  chromedriver                        0x000000010296e7f8 chromedriver + 6662136\n",
      "21  libsystem_pthread.dylib             0x00007ff80b5b7253 _pthread_start + 99\n",
      "22  libsystem_pthread.dylib             0x00007ff80b5b2bef thread_start + 15\n",
      "\n"
     ]
    },
    {
     "name": "stderr",
     "output_type": "stream",
     "text": [
      "Price Extraction:  87%|████████▋ | 3342/3821 [17:11:27<10:01:21, 75.33s/it, Processing swsh12tg-TG13]"
     ]
    },
    {
     "name": "stdout",
     "output_type": "stream",
     "text": [
      "An error occurred: Message: \n",
      "Stacktrace:\n",
      "0   chromedriver                        0x0000000105061e12 chromedriver + 6696466\n",
      "1   chromedriver                        0x0000000105059c2a chromedriver + 6663210\n",
      "2   chromedriver                        0x0000000104a61e3e chromedriver + 405054\n",
      "3   chromedriver                        0x0000000104ab2815 chromedriver + 735253\n",
      "4   chromedriver                        0x0000000104ab2d11 chromedriver + 736529\n",
      "5   chromedriver                        0x0000000104afd314 chromedriver + 1041172\n",
      "6   chromedriver                        0x0000000104ad789d chromedriver + 886941\n",
      "7   chromedriver                        0x0000000104afa3f4 chromedriver + 1029108\n",
      "8   chromedriver                        0x0000000104ad7613 chromedriver + 886291\n",
      "9   chromedriver                        0x0000000104aa4950 chromedriver + 678224\n",
      "10  chromedriver                        0x0000000104aa534e chromedriver + 680782\n",
      "11  chromedriver                        0x000000010502f700 chromedriver + 6489856\n",
      "12  chromedriver                        0x00000001050321a9 chromedriver + 6500777\n",
      "13  chromedriver                        0x0000000105031ccb chromedriver + 6499531\n",
      "14  chromedriver                        0x0000000105032635 chromedriver + 6501941\n",
      "15  chromedriver                        0x000000010501a4b4 chromedriver + 6403252\n",
      "16  chromedriver                        0x000000010503291f chromedriver + 6502687\n",
      "17  chromedriver                        0x000000010500b8e4 chromedriver + 6342884\n",
      "18  chromedriver                        0x000000010504a308 chromedriver + 6599432\n",
      "19  chromedriver                        0x000000010504a4c5 chromedriver + 6599877\n",
      "20  chromedriver                        0x00000001050597f8 chromedriver + 6662136\n",
      "21  libsystem_pthread.dylib             0x00007ff80b5b7253 _pthread_start + 99\n",
      "22  libsystem_pthread.dylib             0x00007ff80b5b2bef thread_start + 15\n",
      "\n"
     ]
    },
    {
     "name": "stderr",
     "output_type": "stream",
     "text": [
      "Price Extraction:  87%|████████▋ | 3343/3821 [17:12:39<9:51:25, 74.24s/it, Processing swsh12-184]    "
     ]
    },
    {
     "name": "stdout",
     "output_type": "stream",
     "text": [
      "An error occurred: Message: \n",
      "Stacktrace:\n",
      "0   chromedriver                        0x0000000104ceee12 chromedriver + 6696466\n",
      "1   chromedriver                        0x0000000104ce6c2a chromedriver + 6663210\n",
      "2   chromedriver                        0x00000001046eee3e chromedriver + 405054\n",
      "3   chromedriver                        0x000000010473f815 chromedriver + 735253\n",
      "4   chromedriver                        0x000000010473fd11 chromedriver + 736529\n",
      "5   chromedriver                        0x000000010478a314 chromedriver + 1041172\n",
      "6   chromedriver                        0x000000010476489d chromedriver + 886941\n",
      "7   chromedriver                        0x00000001047873f4 chromedriver + 1029108\n",
      "8   chromedriver                        0x0000000104764613 chromedriver + 886291\n",
      "9   chromedriver                        0x0000000104731950 chromedriver + 678224\n",
      "10  chromedriver                        0x000000010473234e chromedriver + 680782\n",
      "11  chromedriver                        0x0000000104cbc700 chromedriver + 6489856\n",
      "12  chromedriver                        0x0000000104cbf1a9 chromedriver + 6500777\n",
      "13  chromedriver                        0x0000000104cbeccb chromedriver + 6499531\n",
      "14  chromedriver                        0x0000000104cbf635 chromedriver + 6501941\n",
      "15  chromedriver                        0x0000000104ca74b4 chromedriver + 6403252\n",
      "16  chromedriver                        0x0000000104cbf91f chromedriver + 6502687\n",
      "17  chromedriver                        0x0000000104c988e4 chromedriver + 6342884\n",
      "18  chromedriver                        0x0000000104cd7308 chromedriver + 6599432\n",
      "19  chromedriver                        0x0000000104cd74c5 chromedriver + 6599877\n",
      "20  chromedriver                        0x0000000104ce67f8 chromedriver + 6662136\n",
      "21  libsystem_pthread.dylib             0x00007ff80b5b7253 _pthread_start + 99\n",
      "22  libsystem_pthread.dylib             0x00007ff80b5b2bef thread_start + 15\n",
      "\n"
     ]
    },
    {
     "name": "stderr",
     "output_type": "stream",
     "text": [
      "Price Extraction:  88%|████████▊ | 3344/3821 [17:13:50<9:42:25, 73.26s/it, Processing swsh12-185]"
     ]
    },
    {
     "name": "stdout",
     "output_type": "stream",
     "text": [
      "An error occurred: Message: \n",
      "Stacktrace:\n",
      "0   chromedriver                        0x000000010156be12 chromedriver + 6696466\n",
      "1   chromedriver                        0x0000000101563c2a chromedriver + 6663210\n",
      "2   chromedriver                        0x0000000100f6be3e chromedriver + 405054\n",
      "3   chromedriver                        0x0000000100fbc815 chromedriver + 735253\n",
      "4   chromedriver                        0x0000000100fbcd11 chromedriver + 736529\n",
      "5   chromedriver                        0x0000000101007314 chromedriver + 1041172\n",
      "6   chromedriver                        0x0000000100fe189d chromedriver + 886941\n",
      "7   chromedriver                        0x00000001010043f4 chromedriver + 1029108\n",
      "8   chromedriver                        0x0000000100fe1613 chromedriver + 886291\n",
      "9   chromedriver                        0x0000000100fae950 chromedriver + 678224\n",
      "10  chromedriver                        0x0000000100faf34e chromedriver + 680782\n",
      "11  chromedriver                        0x0000000101539700 chromedriver + 6489856\n",
      "12  chromedriver                        0x000000010153c1a9 chromedriver + 6500777\n",
      "13  chromedriver                        0x000000010153bccb chromedriver + 6499531\n",
      "14  chromedriver                        0x000000010153c635 chromedriver + 6501941\n",
      "15  chromedriver                        0x00000001015244b4 chromedriver + 6403252\n",
      "16  chromedriver                        0x000000010153c91f chromedriver + 6502687\n",
      "17  chromedriver                        0x00000001015158e4 chromedriver + 6342884\n",
      "18  chromedriver                        0x0000000101554308 chromedriver + 6599432\n",
      "19  chromedriver                        0x00000001015544c5 chromedriver + 6599877\n",
      "20  chromedriver                        0x00000001015637f8 chromedriver + 6662136\n",
      "21  libsystem_pthread.dylib             0x00007ff80b5b7253 _pthread_start + 99\n",
      "22  libsystem_pthread.dylib             0x00007ff80b5b2bef thread_start + 15\n",
      "\n"
     ]
    },
    {
     "name": "stderr",
     "output_type": "stream",
     "text": [
      "Price Extraction:  88%|████████▊ | 3345/3821 [17:15:01<9:35:53, 72.59s/it, Processing swsh12-186]"
     ]
    },
    {
     "name": "stdout",
     "output_type": "stream",
     "text": [
      "An error occurred: Message: \n",
      "Stacktrace:\n",
      "0   chromedriver                        0x0000000100acde12 chromedriver + 6696466\n",
      "1   chromedriver                        0x0000000100ac5c2a chromedriver + 6663210\n",
      "2   chromedriver                        0x00000001004cde3e chromedriver + 405054\n",
      "3   chromedriver                        0x000000010051e815 chromedriver + 735253\n",
      "4   chromedriver                        0x000000010051ed11 chromedriver + 736529\n",
      "5   chromedriver                        0x0000000100569314 chromedriver + 1041172\n",
      "6   chromedriver                        0x000000010054389d chromedriver + 886941\n",
      "7   chromedriver                        0x00000001005663f4 chromedriver + 1029108\n",
      "8   chromedriver                        0x0000000100543613 chromedriver + 886291\n",
      "9   chromedriver                        0x0000000100510950 chromedriver + 678224\n",
      "10  chromedriver                        0x000000010051134e chromedriver + 680782\n",
      "11  chromedriver                        0x0000000100a9b700 chromedriver + 6489856\n",
      "12  chromedriver                        0x0000000100a9e1a9 chromedriver + 6500777\n",
      "13  chromedriver                        0x0000000100a9dccb chromedriver + 6499531\n",
      "14  chromedriver                        0x0000000100a9e635 chromedriver + 6501941\n",
      "15  chromedriver                        0x0000000100a864b4 chromedriver + 6403252\n",
      "16  chromedriver                        0x0000000100a9e91f chromedriver + 6502687\n",
      "17  chromedriver                        0x0000000100a778e4 chromedriver + 6342884\n",
      "18  chromedriver                        0x0000000100ab6308 chromedriver + 6599432\n",
      "19  chromedriver                        0x0000000100ab64c5 chromedriver + 6599877\n",
      "20  chromedriver                        0x0000000100ac57f8 chromedriver + 6662136\n",
      "21  libsystem_pthread.dylib             0x00007ff80b5b7253 _pthread_start + 99\n",
      "22  libsystem_pthread.dylib             0x00007ff80b5b2bef thread_start + 15\n",
      "\n"
     ]
    },
    {
     "name": "stderr",
     "output_type": "stream",
     "text": [
      "Price Extraction:  88%|████████▊ | 3346/3821 [17:16:12<9:31:56, 72.25s/it, Processing swsh12-196]"
     ]
    },
    {
     "name": "stdout",
     "output_type": "stream",
     "text": [
      "An error occurred: Message: \n",
      "Stacktrace:\n",
      "0   chromedriver                        0x00000001055d8e12 chromedriver + 6696466\n",
      "1   chromedriver                        0x00000001055d0c2a chromedriver + 6663210\n",
      "2   chromedriver                        0x0000000104fd8e3e chromedriver + 405054\n",
      "3   chromedriver                        0x0000000105029815 chromedriver + 735253\n",
      "4   chromedriver                        0x0000000105029d11 chromedriver + 736529\n",
      "5   chromedriver                        0x0000000105074314 chromedriver + 1041172\n",
      "6   chromedriver                        0x000000010504e89d chromedriver + 886941\n",
      "7   chromedriver                        0x00000001050713f4 chromedriver + 1029108\n",
      "8   chromedriver                        0x000000010504e613 chromedriver + 886291\n",
      "9   chromedriver                        0x000000010501b950 chromedriver + 678224\n",
      "10  chromedriver                        0x000000010501c34e chromedriver + 680782\n",
      "11  chromedriver                        0x00000001055a6700 chromedriver + 6489856\n",
      "12  chromedriver                        0x00000001055a91a9 chromedriver + 6500777\n",
      "13  chromedriver                        0x00000001055a8ccb chromedriver + 6499531\n",
      "14  chromedriver                        0x00000001055a9635 chromedriver + 6501941\n",
      "15  chromedriver                        0x00000001055914b4 chromedriver + 6403252\n",
      "16  chromedriver                        0x00000001055a991f chromedriver + 6502687\n",
      "17  chromedriver                        0x00000001055828e4 chromedriver + 6342884\n",
      "18  chromedriver                        0x00000001055c1308 chromedriver + 6599432\n",
      "19  chromedriver                        0x00000001055c14c5 chromedriver + 6599877\n",
      "20  chromedriver                        0x00000001055d07f8 chromedriver + 6662136\n",
      "21  libsystem_pthread.dylib             0x00007ff80b5b7253 _pthread_start + 99\n",
      "22  libsystem_pthread.dylib             0x00007ff80b5b2bef thread_start + 15\n",
      "\n"
     ]
    },
    {
     "name": "stderr",
     "output_type": "stream",
     "text": [
      "Price Extraction:  88%|████████▊ | 3347/3821 [17:17:23<9:27:28, 71.83s/it, Processing swsh12-198]"
     ]
    },
    {
     "name": "stdout",
     "output_type": "stream",
     "text": [
      "An error occurred: Message: \n",
      "Stacktrace:\n",
      "0   chromedriver                        0x0000000102f73e12 chromedriver + 6696466\n",
      "1   chromedriver                        0x0000000102f6bc2a chromedriver + 6663210\n",
      "2   chromedriver                        0x0000000102973e3e chromedriver + 405054\n",
      "3   chromedriver                        0x00000001029c4815 chromedriver + 735253\n",
      "4   chromedriver                        0x00000001029c4d11 chromedriver + 736529\n",
      "5   chromedriver                        0x0000000102a0f314 chromedriver + 1041172\n",
      "6   chromedriver                        0x00000001029e989d chromedriver + 886941\n",
      "7   chromedriver                        0x0000000102a0c3f4 chromedriver + 1029108\n",
      "8   chromedriver                        0x00000001029e9613 chromedriver + 886291\n",
      "9   chromedriver                        0x00000001029b6950 chromedriver + 678224\n",
      "10  chromedriver                        0x00000001029b734e chromedriver + 680782\n",
      "11  chromedriver                        0x0000000102f41700 chromedriver + 6489856\n",
      "12  chromedriver                        0x0000000102f441a9 chromedriver + 6500777\n",
      "13  chromedriver                        0x0000000102f43ccb chromedriver + 6499531\n",
      "14  chromedriver                        0x0000000102f44635 chromedriver + 6501941\n",
      "15  chromedriver                        0x0000000102f2c4b4 chromedriver + 6403252\n",
      "16  chromedriver                        0x0000000102f4491f chromedriver + 6502687\n",
      "17  chromedriver                        0x0000000102f1d8e4 chromedriver + 6342884\n",
      "18  chromedriver                        0x0000000102f5c308 chromedriver + 6599432\n",
      "19  chromedriver                        0x0000000102f5c4c5 chromedriver + 6599877\n",
      "20  chromedriver                        0x0000000102f6b7f8 chromedriver + 6662136\n",
      "21  libsystem_pthread.dylib             0x00007ff80b5b7253 _pthread_start + 99\n",
      "22  libsystem_pthread.dylib             0x00007ff80b5b2bef thread_start + 15\n",
      "\n"
     ]
    },
    {
     "name": "stderr",
     "output_type": "stream",
     "text": [
      "Price Extraction:  88%|████████▊ | 3348/3821 [17:18:35<9:25:49, 71.77s/it, Processing swsh12-199]"
     ]
    },
    {
     "name": "stdout",
     "output_type": "stream",
     "text": [
      "An error occurred: Message: \n",
      "Stacktrace:\n",
      "0   chromedriver                        0x000000010328ae12 chromedriver + 6696466\n",
      "1   chromedriver                        0x0000000103282c2a chromedriver + 6663210\n",
      "2   chromedriver                        0x0000000102c8ae3e chromedriver + 405054\n",
      "3   chromedriver                        0x0000000102cdb815 chromedriver + 735253\n",
      "4   chromedriver                        0x0000000102cdbd11 chromedriver + 736529\n",
      "5   chromedriver                        0x0000000102d26314 chromedriver + 1041172\n",
      "6   chromedriver                        0x0000000102d0089d chromedriver + 886941\n",
      "7   chromedriver                        0x0000000102d233f4 chromedriver + 1029108\n",
      "8   chromedriver                        0x0000000102d00613 chromedriver + 886291\n",
      "9   chromedriver                        0x0000000102ccd950 chromedriver + 678224\n",
      "10  chromedriver                        0x0000000102cce34e chromedriver + 680782\n",
      "11  chromedriver                        0x0000000103258700 chromedriver + 6489856\n",
      "12  chromedriver                        0x000000010325b1a9 chromedriver + 6500777\n",
      "13  chromedriver                        0x000000010325accb chromedriver + 6499531\n",
      "14  chromedriver                        0x000000010325b635 chromedriver + 6501941\n",
      "15  chromedriver                        0x00000001032434b4 chromedriver + 6403252\n",
      "16  chromedriver                        0x000000010325b91f chromedriver + 6502687\n",
      "17  chromedriver                        0x00000001032348e4 chromedriver + 6342884\n",
      "18  chromedriver                        0x0000000103273308 chromedriver + 6599432\n",
      "19  chromedriver                        0x00000001032734c5 chromedriver + 6599877\n",
      "20  chromedriver                        0x00000001032827f8 chromedriver + 6662136\n",
      "21  libsystem_pthread.dylib             0x00007ff80b5b7253 _pthread_start + 99\n",
      "22  libsystem_pthread.dylib             0x00007ff80b5b2bef thread_start + 15\n",
      "\n"
     ]
    },
    {
     "name": "stderr",
     "output_type": "stream",
     "text": [
      "Price Extraction:  88%|████████▊ | 3349/3821 [17:19:46<9:23:49, 71.67s/it, Processing swsh12-136]"
     ]
    },
    {
     "name": "stdout",
     "output_type": "stream",
     "text": [
      "An error occurred: Message: \n",
      "Stacktrace:\n",
      "0   chromedriver                        0x00000001048bae12 chromedriver + 6696466\n",
      "1   chromedriver                        0x00000001048b2c2a chromedriver + 6663210\n",
      "2   chromedriver                        0x00000001042bae3e chromedriver + 405054\n",
      "3   chromedriver                        0x000000010430b815 chromedriver + 735253\n",
      "4   chromedriver                        0x000000010430bd11 chromedriver + 736529\n",
      "5   chromedriver                        0x0000000104356314 chromedriver + 1041172\n",
      "6   chromedriver                        0x000000010433089d chromedriver + 886941\n",
      "7   chromedriver                        0x00000001043533f4 chromedriver + 1029108\n",
      "8   chromedriver                        0x0000000104330613 chromedriver + 886291\n",
      "9   chromedriver                        0x00000001042fd950 chromedriver + 678224\n",
      "10  chromedriver                        0x00000001042fe34e chromedriver + 680782\n",
      "11  chromedriver                        0x0000000104888700 chromedriver + 6489856\n",
      "12  chromedriver                        0x000000010488b1a9 chromedriver + 6500777\n",
      "13  chromedriver                        0x000000010488accb chromedriver + 6499531\n",
      "14  chromedriver                        0x000000010488b635 chromedriver + 6501941\n",
      "15  chromedriver                        0x00000001048734b4 chromedriver + 6403252\n",
      "16  chromedriver                        0x000000010488b91f chromedriver + 6502687\n",
      "17  chromedriver                        0x00000001048648e4 chromedriver + 6342884\n",
      "18  chromedriver                        0x00000001048a3308 chromedriver + 6599432\n",
      "19  chromedriver                        0x00000001048a34c5 chromedriver + 6599877\n",
      "20  chromedriver                        0x00000001048b27f8 chromedriver + 6662136\n",
      "21  libsystem_pthread.dylib             0x00007ff80b5b7253 _pthread_start + 99\n",
      "22  libsystem_pthread.dylib             0x00007ff80b5b2bef thread_start + 15\n",
      "\n"
     ]
    },
    {
     "name": "stderr",
     "output_type": "stream",
     "text": [
      "Price Extraction:  88%|████████▊ | 3350/3821 [17:20:57<9:21:53, 71.58s/it, Processing swsh12-202]"
     ]
    },
    {
     "name": "stdout",
     "output_type": "stream",
     "text": [
      "An error occurred: Message: \n",
      "Stacktrace:\n",
      "0   chromedriver                        0x0000000102b2ae12 chromedriver + 6696466\n",
      "1   chromedriver                        0x0000000102b22c2a chromedriver + 6663210\n",
      "2   chromedriver                        0x000000010252ae3e chromedriver + 405054\n",
      "3   chromedriver                        0x000000010257b815 chromedriver + 735253\n",
      "4   chromedriver                        0x000000010257bd11 chromedriver + 736529\n",
      "5   chromedriver                        0x00000001025c6314 chromedriver + 1041172\n",
      "6   chromedriver                        0x00000001025a089d chromedriver + 886941\n",
      "7   chromedriver                        0x00000001025c33f4 chromedriver + 1029108\n",
      "8   chromedriver                        0x00000001025a0613 chromedriver + 886291\n",
      "9   chromedriver                        0x000000010256d950 chromedriver + 678224\n",
      "10  chromedriver                        0x000000010256e34e chromedriver + 680782\n",
      "11  chromedriver                        0x0000000102af8700 chromedriver + 6489856\n",
      "12  chromedriver                        0x0000000102afb1a9 chromedriver + 6500777\n",
      "13  chromedriver                        0x0000000102afaccb chromedriver + 6499531\n",
      "14  chromedriver                        0x0000000102afb635 chromedriver + 6501941\n",
      "15  chromedriver                        0x0000000102ae34b4 chromedriver + 6403252\n",
      "16  chromedriver                        0x0000000102afb91f chromedriver + 6502687\n",
      "17  chromedriver                        0x0000000102ad48e4 chromedriver + 6342884\n",
      "18  chromedriver                        0x0000000102b13308 chromedriver + 6599432\n",
      "19  chromedriver                        0x0000000102b134c5 chromedriver + 6599877\n",
      "20  chromedriver                        0x0000000102b227f8 chromedriver + 6662136\n",
      "21  libsystem_pthread.dylib             0x00007ff80b5b7253 _pthread_start + 99\n",
      "22  libsystem_pthread.dylib             0x00007ff80b5b2bef thread_start + 15\n",
      "\n"
     ]
    },
    {
     "name": "stderr",
     "output_type": "stream",
     "text": [
      "Price Extraction:  88%|████████▊ | 3351/3821 [17:22:09<9:19:53, 71.48s/it, Processing swsh12-205]"
     ]
    },
    {
     "name": "stdout",
     "output_type": "stream",
     "text": [
      "An error occurred: Message: \n",
      "Stacktrace:\n",
      "0   chromedriver                        0x0000000104cf6e12 chromedriver + 6696466\n",
      "1   chromedriver                        0x0000000104ceec2a chromedriver + 6663210\n",
      "2   chromedriver                        0x00000001046f6e3e chromedriver + 405054\n",
      "3   chromedriver                        0x0000000104747815 chromedriver + 735253\n",
      "4   chromedriver                        0x0000000104747d11 chromedriver + 736529\n",
      "5   chromedriver                        0x0000000104792314 chromedriver + 1041172\n",
      "6   chromedriver                        0x000000010476c89d chromedriver + 886941\n",
      "7   chromedriver                        0x000000010478f3f4 chromedriver + 1029108\n",
      "8   chromedriver                        0x000000010476c613 chromedriver + 886291\n",
      "9   chromedriver                        0x0000000104739950 chromedriver + 678224\n",
      "10  chromedriver                        0x000000010473a34e chromedriver + 680782\n",
      "11  chromedriver                        0x0000000104cc4700 chromedriver + 6489856\n",
      "12  chromedriver                        0x0000000104cc71a9 chromedriver + 6500777\n",
      "13  chromedriver                        0x0000000104cc6ccb chromedriver + 6499531\n",
      "14  chromedriver                        0x0000000104cc7635 chromedriver + 6501941\n",
      "15  chromedriver                        0x0000000104caf4b4 chromedriver + 6403252\n",
      "16  chromedriver                        0x0000000104cc791f chromedriver + 6502687\n",
      "17  chromedriver                        0x0000000104ca08e4 chromedriver + 6342884\n",
      "18  chromedriver                        0x0000000104cdf308 chromedriver + 6599432\n",
      "19  chromedriver                        0x0000000104cdf4c5 chromedriver + 6599877\n",
      "20  chromedriver                        0x0000000104cee7f8 chromedriver + 6662136\n",
      "21  libsystem_pthread.dylib             0x00007ff80b5b7253 _pthread_start + 99\n",
      "22  libsystem_pthread.dylib             0x00007ff80b5b2bef thread_start + 15\n",
      "\n"
     ]
    },
    {
     "name": "stderr",
     "output_type": "stream",
     "text": [
      "Price Extraction:  88%|████████▊ | 3352/3821 [17:23:21<9:20:11, 71.67s/it, Processing swsh12-207]"
     ]
    },
    {
     "name": "stdout",
     "output_type": "stream",
     "text": [
      "An error occurred: Message: \n",
      "Stacktrace:\n",
      "0   chromedriver                        0x00000001032a1e12 chromedriver + 6696466\n",
      "1   chromedriver                        0x0000000103299c2a chromedriver + 6663210\n",
      "2   chromedriver                        0x0000000102ca1e3e chromedriver + 405054\n",
      "3   chromedriver                        0x0000000102cf2815 chromedriver + 735253\n",
      "4   chromedriver                        0x0000000102cf2d11 chromedriver + 736529\n",
      "5   chromedriver                        0x0000000102d3d314 chromedriver + 1041172\n",
      "6   chromedriver                        0x0000000102d1789d chromedriver + 886941\n",
      "7   chromedriver                        0x0000000102d3a3f4 chromedriver + 1029108\n",
      "8   chromedriver                        0x0000000102d17613 chromedriver + 886291\n",
      "9   chromedriver                        0x0000000102ce4950 chromedriver + 678224\n",
      "10  chromedriver                        0x0000000102ce534e chromedriver + 680782\n",
      "11  chromedriver                        0x000000010326f700 chromedriver + 6489856\n",
      "12  chromedriver                        0x00000001032721a9 chromedriver + 6500777\n",
      "13  chromedriver                        0x0000000103271ccb chromedriver + 6499531\n",
      "14  chromedriver                        0x0000000103272635 chromedriver + 6501941\n",
      "15  chromedriver                        0x000000010325a4b4 chromedriver + 6403252\n",
      "16  chromedriver                        0x000000010327291f chromedriver + 6502687\n",
      "17  chromedriver                        0x000000010324b8e4 chromedriver + 6342884\n",
      "18  chromedriver                        0x000000010328a308 chromedriver + 6599432\n",
      "19  chromedriver                        0x000000010328a4c5 chromedriver + 6599877\n",
      "20  chromedriver                        0x00000001032997f8 chromedriver + 6662136\n",
      "21  libsystem_pthread.dylib             0x00007ff80b5b7253 _pthread_start + 99\n",
      "22  libsystem_pthread.dylib             0x00007ff80b5b2bef thread_start + 15\n",
      "\n"
     ]
    },
    {
     "name": "stderr",
     "output_type": "stream",
     "text": [
      "Price Extraction:  91%|█████████ | 3461/3821 [20:23:50<9:25:57, 94.33s/it, Processing sv3-202]           "
     ]
    },
    {
     "name": "stdout",
     "output_type": "stream",
     "text": [
      "An error occurred: Message: \n",
      "Stacktrace:\n",
      "0   chromedriver                        0x0000000102a14e12 chromedriver + 6696466\n",
      "1   chromedriver                        0x0000000102a0cc2a chromedriver + 6663210\n",
      "2   chromedriver                        0x0000000102414e3e chromedriver + 405054\n",
      "3   chromedriver                        0x0000000102465815 chromedriver + 735253\n",
      "4   chromedriver                        0x0000000102465d11 chromedriver + 736529\n",
      "5   chromedriver                        0x00000001024b0314 chromedriver + 1041172\n",
      "6   chromedriver                        0x000000010248a89d chromedriver + 886941\n",
      "7   chromedriver                        0x00000001024ad3f4 chromedriver + 1029108\n",
      "8   chromedriver                        0x000000010248a613 chromedriver + 886291\n",
      "9   chromedriver                        0x0000000102457950 chromedriver + 678224\n",
      "10  chromedriver                        0x000000010245834e chromedriver + 680782\n",
      "11  chromedriver                        0x00000001029e2700 chromedriver + 6489856\n",
      "12  chromedriver                        0x00000001029e51a9 chromedriver + 6500777\n",
      "13  chromedriver                        0x00000001029e4ccb chromedriver + 6499531\n",
      "14  chromedriver                        0x00000001029e5635 chromedriver + 6501941\n",
      "15  chromedriver                        0x00000001029cd4b4 chromedriver + 6403252\n",
      "16  chromedriver                        0x00000001029e591f chromedriver + 6502687\n",
      "17  chromedriver                        0x00000001029be8e4 chromedriver + 6342884\n",
      "18  chromedriver                        0x00000001029fd308 chromedriver + 6599432\n",
      "19  chromedriver                        0x00000001029fd4c5 chromedriver + 6599877\n",
      "20  chromedriver                        0x0000000102a0c7f8 chromedriver + 6662136\n",
      "21  libsystem_pthread.dylib             0x00007ff80b5b7253 _pthread_start + 99\n",
      "22  libsystem_pthread.dylib             0x00007ff80b5b2bef thread_start + 15\n",
      "\n"
     ]
    },
    {
     "name": "stderr",
     "output_type": "stream",
     "text": [
      "Price Extraction:  94%|█████████▍| 3589/3821 [24:21:44<6:29:44, 100.79s/it, Processing sv4pt5-239] "
     ]
    },
    {
     "name": "stdout",
     "output_type": "stream",
     "text": [
      "An error occurred: Message: \n",
      "Stacktrace:\n",
      "0   chromedriver                        0x0000000105418e12 chromedriver + 6696466\n",
      "1   chromedriver                        0x0000000105410c2a chromedriver + 6663210\n",
      "2   chromedriver                        0x0000000104e18e3e chromedriver + 405054\n",
      "3   chromedriver                        0x0000000104e69815 chromedriver + 735253\n",
      "4   chromedriver                        0x0000000104e69d11 chromedriver + 736529\n",
      "5   chromedriver                        0x0000000104eb4314 chromedriver + 1041172\n",
      "6   chromedriver                        0x0000000104e8e89d chromedriver + 886941\n",
      "7   chromedriver                        0x0000000104eb13f4 chromedriver + 1029108\n",
      "8   chromedriver                        0x0000000104e8e613 chromedriver + 886291\n",
      "9   chromedriver                        0x0000000104e5b950 chromedriver + 678224\n",
      "10  chromedriver                        0x0000000104e5c34e chromedriver + 680782\n",
      "11  chromedriver                        0x00000001053e6700 chromedriver + 6489856\n",
      "12  chromedriver                        0x00000001053e91a9 chromedriver + 6500777\n",
      "13  chromedriver                        0x00000001053e8ccb chromedriver + 6499531\n",
      "14  chromedriver                        0x00000001053e9635 chromedriver + 6501941\n",
      "15  chromedriver                        0x00000001053d14b4 chromedriver + 6403252\n",
      "16  chromedriver                        0x00000001053e991f chromedriver + 6502687\n",
      "17  chromedriver                        0x00000001053c28e4 chromedriver + 6342884\n",
      "18  chromedriver                        0x0000000105401308 chromedriver + 6599432\n",
      "19  chromedriver                        0x00000001054014c5 chromedriver + 6599877\n",
      "20  chromedriver                        0x00000001054107f8 chromedriver + 6662136\n",
      "21  libsystem_pthread.dylib             0x00007ff80b5b7253 _pthread_start + 99\n",
      "22  libsystem_pthread.dylib             0x00007ff80b5b2bef thread_start + 15\n",
      "\n"
     ]
    },
    {
     "name": "stderr",
     "output_type": "stream",
     "text": [
      "Price Extraction:  97%|█████████▋| 3706/3821 [27:38:20<2:47:23, 87.34s/it, Processing sv8-195]    "
     ]
    },
    {
     "name": "stdout",
     "output_type": "stream",
     "text": [
      "An error occurred: Message: \n",
      "Stacktrace:\n",
      "0   chromedriver                        0x00000001007af268 chromedriver + 7098984\n",
      "1   chromedriver                        0x00000001007a713a chromedriver + 7065914\n",
      "2   chromedriver                        0x000000010014bd70 chromedriver + 400752\n",
      "3   chromedriver                        0x000000010019abd3 chromedriver + 723923\n",
      "4   chromedriver                        0x000000010019aed1 chromedriver + 724689\n",
      "5   chromedriver                        0x00000001001e0e74 chromedriver + 1011316\n",
      "6   chromedriver                        0x00000001001bf23d chromedriver + 873021\n",
      "7   chromedriver                        0x00000001001de15e chromedriver + 999774\n",
      "8   chromedriver                        0x00000001001befb3 chromedriver + 872371\n",
      "9   chromedriver                        0x000000010018d5c2 chromedriver + 669122\n",
      "10  chromedriver                        0x000000010018e59e chromedriver + 673182\n",
      "11  chromedriver                        0x0000000100774020 chromedriver + 6856736\n",
      "12  chromedriver                        0x0000000100778050 chromedriver + 6873168\n",
      "13  chromedriver                        0x00000001007563d7 chromedriver + 6734807\n",
      "14  chromedriver                        0x00000001007789ee chromedriver + 6875630\n",
      "15  chromedriver                        0x0000000100745c14 chromedriver + 6667284\n",
      "16  chromedriver                        0x0000000100795778 chromedriver + 6993784\n",
      "17  chromedriver                        0x0000000100795936 chromedriver + 6994230\n",
      "18  chromedriver                        0x00000001007a6d18 chromedriver + 7064856\n",
      "19  libsystem_pthread.dylib             0x00007ff80b5b7253 _pthread_start + 99\n",
      "20  libsystem_pthread.dylib             0x00007ff80b5b2bef thread_start + 15\n",
      "\n"
     ]
    },
    {
     "name": "stderr",
     "output_type": "stream",
     "text": [
      "Price Extraction:  98%|█████████▊| 3763/3821 [29:17:26<1:29:08, 92.21s/it, Processing ex2-42]   "
     ]
    },
    {
     "name": "stdout",
     "output_type": "stream",
     "text": [
      "An error occurred: Message: \n",
      "Stacktrace:\n",
      "0   chromedriver                        0x0000000103692268 chromedriver + 7098984\n",
      "1   chromedriver                        0x000000010368a13a chromedriver + 7065914\n",
      "2   chromedriver                        0x000000010302ed70 chromedriver + 400752\n",
      "3   chromedriver                        0x000000010307dbd3 chromedriver + 723923\n",
      "4   chromedriver                        0x000000010307ded1 chromedriver + 724689\n",
      "5   chromedriver                        0x00000001030c3e74 chromedriver + 1011316\n",
      "6   chromedriver                        0x00000001030a223d chromedriver + 873021\n",
      "7   chromedriver                        0x00000001030c115e chromedriver + 999774\n",
      "8   chromedriver                        0x00000001030a1fb3 chromedriver + 872371\n",
      "9   chromedriver                        0x00000001030705c2 chromedriver + 669122\n",
      "10  chromedriver                        0x000000010307159e chromedriver + 673182\n",
      "11  chromedriver                        0x0000000103657020 chromedriver + 6856736\n",
      "12  chromedriver                        0x000000010365b050 chromedriver + 6873168\n",
      "13  chromedriver                        0x00000001036393d7 chromedriver + 6734807\n",
      "14  chromedriver                        0x000000010365b9ee chromedriver + 6875630\n",
      "15  chromedriver                        0x0000000103628c14 chromedriver + 6667284\n",
      "16  chromedriver                        0x0000000103678778 chromedriver + 6993784\n",
      "17  chromedriver                        0x0000000103678936 chromedriver + 6994230\n",
      "18  chromedriver                        0x0000000103689d18 chromedriver + 7064856\n",
      "19  libsystem_pthread.dylib             0x00007ff80b5b7253 _pthread_start + 99\n",
      "20  libsystem_pthread.dylib             0x00007ff80b5b2bef thread_start + 15\n",
      "\n"
     ]
    },
    {
     "name": "stderr",
     "output_type": "stream",
     "text": [
      "Price Extraction: 100%|██████████| 3821/3821 [30:51:06<00:00, 29.07s/it, Saved sv8-185]               \n"
     ]
    }
   ],
   "source": [
    "save_historic_prices(df)"
   ]
  },
  {
   "cell_type": "code",
   "execution_count": 4,
   "metadata": {},
   "outputs": [],
   "source": []
  },
  {
   "cell_type": "code",
   "execution_count": null,
   "metadata": {},
   "outputs": [],
   "source": []
  }
 ],
 "metadata": {
  "kernelspec": {
   "display_name": "pokemon_card",
   "language": "python",
   "name": "python3"
  },
  "language_info": {
   "codemirror_mode": {
    "name": "ipython",
    "version": 3
   },
   "file_extension": ".py",
   "mimetype": "text/x-python",
   "name": "python",
   "nbconvert_exporter": "python",
   "pygments_lexer": "ipython3",
   "version": "3.9.20"
  }
 },
 "nbformat": 4,
 "nbformat_minor": 2
}
