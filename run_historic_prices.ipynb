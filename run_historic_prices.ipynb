{
 "cells": [
  {
   "cell_type": "code",
   "execution_count": 1,
   "metadata": {},
   "outputs": [
    {
     "name": "stdout",
     "output_type": "stream",
     "text": [
      "Intel MKL WARNING: Support of Intel(R) Streaming SIMD Extensions 4.2 (Intel(R) SSE4.2) enabled only processors has been deprecated. Intel oneAPI Math Kernel Library 2025.0 will require Intel(R) Advanced Vector Extensions (Intel(R) AVX) instructions.\n",
      "Intel MKL WARNING: Support of Intel(R) Streaming SIMD Extensions 4.2 (Intel(R) SSE4.2) enabled only processors has been deprecated. Intel oneAPI Math Kernel Library 2025.0 will require Intel(R) Advanced Vector Extensions (Intel(R) AVX) instructions.\n"
     ]
    }
   ],
   "source": [
    "from PokemonCardManager import *\n",
    "from GetHistoricCardPrices import sequential_price_extraction"
   ]
  },
  {
   "cell_type": "code",
   "execution_count": 2,
   "metadata": {},
   "outputs": [],
   "source": [
    "api=PokemonCardAPI()\n",
    "database=PokemonCardDatabase(api)"
   ]
  },
  {
   "cell_type": "code",
   "execution_count": 3,
   "metadata": {},
   "outputs": [],
   "source": [
    "#df=database.update_database()\n",
    "df=pd.read_csv('test_prix.csv').sample(6)"
   ]
  },
  {
   "cell_type": "code",
   "execution_count": 4,
   "metadata": {},
   "outputs": [
    {
     "data": {
      "text/html": [
       "<div>\n",
       "<style scoped>\n",
       "    .dataframe tbody tr th:only-of-type {\n",
       "        vertical-align: middle;\n",
       "    }\n",
       "\n",
       "    .dataframe tbody tr th {\n",
       "        vertical-align: top;\n",
       "    }\n",
       "\n",
       "    .dataframe thead th {\n",
       "        text-align: right;\n",
       "    }\n",
       "</style>\n",
       "<table border=\"1\" class=\"dataframe\">\n",
       "  <thead>\n",
       "    <tr style=\"text-align: right;\">\n",
       "      <th></th>\n",
       "      <th>id</th>\n",
       "      <th>name</th>\n",
       "      <th>rarity</th>\n",
       "      <th>collection</th>\n",
       "      <th>series</th>\n",
       "      <th>holofoil_price</th>\n",
       "      <th>reverse_holofoil_price</th>\n",
       "      <th>release_date</th>\n",
       "      <th>nationalPokedexNumbers</th>\n",
       "      <th>artist</th>\n",
       "    </tr>\n",
       "  </thead>\n",
       "  <tbody>\n",
       "    <tr>\n",
       "      <th>164</th>\n",
       "      <td>hsp-HGSS08</td>\n",
       "      <td>Meganium</td>\n",
       "      <td>Promo</td>\n",
       "      <td>HGSS Black Star Promos</td>\n",
       "      <td>HeartGold &amp; SoulSilver</td>\n",
       "      <td>15.57</td>\n",
       "      <td>NaN</td>\n",
       "      <td>2010/02/10</td>\n",
       "      <td>[154]</td>\n",
       "      <td>Noriko Hotta</td>\n",
       "    </tr>\n",
       "    <tr>\n",
       "      <th>1408</th>\n",
       "      <td>ex13-97</td>\n",
       "      <td>Dark Metal Energy</td>\n",
       "      <td>Uncommon</td>\n",
       "      <td>Holon Phantoms</td>\n",
       "      <td>EX</td>\n",
       "      <td>NaN</td>\n",
       "      <td>14.27</td>\n",
       "      <td>2006/05/01</td>\n",
       "      <td>NaN</td>\n",
       "      <td>Takumi Akabane</td>\n",
       "    </tr>\n",
       "    <tr>\n",
       "      <th>1624</th>\n",
       "      <td>ex16-99</td>\n",
       "      <td>Walrein ex</td>\n",
       "      <td>Rare Holo EX</td>\n",
       "      <td>Power Keepers</td>\n",
       "      <td>EX</td>\n",
       "      <td>29.24</td>\n",
       "      <td>NaN</td>\n",
       "      <td>2007/02/02</td>\n",
       "      <td>[365]</td>\n",
       "      <td>Ryo Ueda</td>\n",
       "    </tr>\n",
       "    <tr>\n",
       "      <th>2505</th>\n",
       "      <td>sm12-254</td>\n",
       "      <td>Solgaleo &amp; Lunala-GX</td>\n",
       "      <td>Rare Rainbow</td>\n",
       "      <td>Cosmic Eclipse</td>\n",
       "      <td>Sun &amp; Moon</td>\n",
       "      <td>63.25</td>\n",
       "      <td>NaN</td>\n",
       "      <td>2019/11/01</td>\n",
       "      <td>[791, 792]</td>\n",
       "      <td>Hideki Ishikawa</td>\n",
       "    </tr>\n",
       "    <tr>\n",
       "      <th>356</th>\n",
       "      <td>ex14-24</td>\n",
       "      <td>Marshtomp</td>\n",
       "      <td>Rare</td>\n",
       "      <td>Crystal Guardians</td>\n",
       "      <td>EX</td>\n",
       "      <td>NaN</td>\n",
       "      <td>6.48</td>\n",
       "      <td>2006/08/01</td>\n",
       "      <td>[259]</td>\n",
       "      <td>Kagemaru Himeno</td>\n",
       "    </tr>\n",
       "    <tr>\n",
       "      <th>905</th>\n",
       "      <td>bw11-54</td>\n",
       "      <td>Mewtwo-EX</td>\n",
       "      <td>Rare Holo EX</td>\n",
       "      <td>Legendary Treasures</td>\n",
       "      <td>Black &amp; White</td>\n",
       "      <td>6.97</td>\n",
       "      <td>NaN</td>\n",
       "      <td>2013/11/06</td>\n",
       "      <td>[150]</td>\n",
       "      <td>Shizurow</td>\n",
       "    </tr>\n",
       "  </tbody>\n",
       "</table>\n",
       "</div>"
      ],
      "text/plain": [
       "              id                  name        rarity              collection  \\\n",
       "164   hsp-HGSS08              Meganium         Promo  HGSS Black Star Promos   \n",
       "1408     ex13-97     Dark Metal Energy      Uncommon          Holon Phantoms   \n",
       "1624     ex16-99            Walrein ex  Rare Holo EX           Power Keepers   \n",
       "2505    sm12-254  Solgaleo & Lunala-GX  Rare Rainbow          Cosmic Eclipse   \n",
       "356      ex14-24             Marshtomp          Rare       Crystal Guardians   \n",
       "905      bw11-54             Mewtwo-EX  Rare Holo EX     Legendary Treasures   \n",
       "\n",
       "                      series  holofoil_price  reverse_holofoil_price  \\\n",
       "164   HeartGold & SoulSilver           15.57                     NaN   \n",
       "1408                      EX             NaN                   14.27   \n",
       "1624                      EX           29.24                     NaN   \n",
       "2505              Sun & Moon           63.25                     NaN   \n",
       "356                       EX             NaN                    6.48   \n",
       "905            Black & White            6.97                     NaN   \n",
       "\n",
       "     release_date nationalPokedexNumbers           artist  \n",
       "164    2010/02/10                  [154]     Noriko Hotta  \n",
       "1408   2006/05/01                    NaN   Takumi Akabane  \n",
       "1624   2007/02/02                  [365]         Ryo Ueda  \n",
       "2505   2019/11/01             [791, 792]  Hideki Ishikawa  \n",
       "356    2006/08/01                  [259]  Kagemaru Himeno  \n",
       "905    2013/11/06                  [150]         Shizurow  "
      ]
     },
     "execution_count": 4,
     "metadata": {},
     "output_type": "execute_result"
    }
   ],
   "source": [
    "df"
   ]
  },
  {
   "cell_type": "code",
   "execution_count": 5,
   "metadata": {},
   "outputs": [
    {
     "name": "stderr",
     "output_type": "stream",
     "text": [
      "Failed for ex13-97: object of type 'NoneType' has no len():  33%|███▎      | 2/6 [00:38<01:17, 19.32s/it]"
     ]
    },
    {
     "name": "stdout",
     "output_type": "stream",
     "text": [
      "Click failed for button[data-v-0177b97d][class=\"charts-item\"]:last-child: Message: \n",
      "Stacktrace:\n",
      "0   chromedriver                        0x0000000105593e82 chromedriver + 6696578\n",
      "1   chromedriver                        0x000000010558bc9a chromedriver + 6663322\n",
      "2   chromedriver                        0x0000000104f93e3e chromedriver + 405054\n",
      "3   chromedriver                        0x0000000104fe4815 chromedriver + 735253\n",
      "4   chromedriver                        0x0000000104fe4d11 chromedriver + 736529\n",
      "5   chromedriver                        0x000000010502f314 chromedriver + 1041172\n",
      "6   chromedriver                        0x000000010500989d chromedriver + 886941\n",
      "7   chromedriver                        0x000000010502c3f4 chromedriver + 1029108\n",
      "8   chromedriver                        0x0000000105009613 chromedriver + 886291\n",
      "9   chromedriver                        0x0000000104fd6950 chromedriver + 678224\n",
      "10  chromedriver                        0x0000000104fd734e chromedriver + 680782\n",
      "11  chromedriver                        0x0000000105561770 chromedriver + 6489968\n",
      "12  chromedriver                        0x0000000105564219 chromedriver + 6500889\n",
      "13  chromedriver                        0x0000000105563d3b chromedriver + 6499643\n",
      "14  chromedriver                        0x00000001055646a5 chromedriver + 6502053\n",
      "15  chromedriver                        0x000000010554c524 chromedriver + 6403364\n",
      "16  chromedriver                        0x000000010556498f chromedriver + 6502799\n",
      "17  chromedriver                        0x000000010553d954 chromedriver + 6342996\n",
      "18  chromedriver                        0x000000010557c378 chromedriver + 6599544\n",
      "19  chromedriver                        0x000000010557c535 chromedriver + 6599989\n",
      "20  chromedriver                        0x000000010558b868 chromedriver + 6662248\n",
      "21  libsystem_pthread.dylib             0x00007ff81275f253 _pthread_start + 99\n",
      "22  libsystem_pthread.dylib             0x00007ff81275abef thread_start + 15\n",
      "\n",
      "Click failed for selector: button[data-v-0177b97d][class=\"charts-item\"]:last-child\n",
      "Browser session terminated\n"
     ]
    },
    {
     "name": "stderr",
     "output_type": "stream",
     "text": [
      "Extraction successful for ex16-99:  50%|█████     | 3/6 [02:09<02:27, 49.29s/it]                         "
     ]
    },
    {
     "name": "stdout",
     "output_type": "stream",
     "text": [
      "Browser session terminated\n",
      "Click failed for button.sales-history-snapshot__show-filters: Message: stale element reference: stale element not found in the current frame\n",
      "  (Session info: chrome=131.0.6778.109); For documentation on this error, please visit: https://www.selenium.dev/documentation/webdriver/troubleshooting/errors#stale-element-reference-exception\n",
      "Stacktrace:\n",
      "0   chromedriver                        0x0000000100930e82 chromedriver + 6696578\n",
      "1   chromedriver                        0x0000000100928c9a chromedriver + 6663322\n",
      "2   chromedriver                        0x0000000100330e3e chromedriver + 405054\n",
      "3   chromedriver                        0x00000001003370e2 chromedriver + 430306\n",
      "4   chromedriver                        0x00000001003398b8 chromedriver + 440504\n",
      "5   chromedriver                        0x0000000100339984 chromedriver + 440708\n",
      "6   chromedriver                        0x0000000100383894 chromedriver + 743572\n",
      "7   chromedriver                        0x00000001003757cd chromedriver + 686029\n",
      "8   chromedriver                        0x00000001003a6872 chromedriver + 886898\n",
      "9   chromedriver                        0x00000001003751c8 chromedriver + 684488\n",
      "10  chromedriver                        0x00000001003a6a2e chromedriver + 887342\n",
      "11  chromedriver                        0x00000001003c93f4 chromedriver + 1029108\n",
      "12  chromedriver                        0x00000001003a6613 chromedriver + 886291\n",
      "13  chromedriver                        0x0000000100373950 chromedriver + 678224\n",
      "14  chromedriver                        0x000000010037434e chromedriver + 680782\n",
      "15  chromedriver                        0x00000001008fe770 chromedriver + 6489968\n",
      "16  chromedriver                        0x0000000100901219 chromedriver + 6500889\n",
      "17  chromedriver                        0x0000000100900d3b chromedriver + 6499643\n",
      "18  chromedriver                        0x00000001009016a5 chromedriver + 6502053\n",
      "19  chromedriver                        0x00000001008e9524 chromedriver + 6403364\n",
      "20  chromedriver                        0x000000010090198f chromedriver + 6502799\n",
      "21  chromedriver                        0x00000001008da954 chromedriver + 6342996\n",
      "22  chromedriver                        0x0000000100919378 chromedriver + 6599544\n",
      "23  chromedriver                        0x0000000100919535 chromedriver + 6599989\n",
      "24  chromedriver                        0x0000000100928868 chromedriver + 6662248\n",
      "25  libsystem_pthread.dylib             0x00007ff81275f253 _pthread_start + 99\n",
      "26  libsystem_pthread.dylib             0x00007ff81275abef thread_start + 15\n",
      "\n",
      "Click failed for selector: button.sales-history-snapshot__show-filters\n"
     ]
    },
    {
     "name": "stderr",
     "output_type": "stream",
     "text": [
      "Failed for sm12-254: object of type 'NoneType' has no len():  67%|██████▋   | 4/6 [03:30<02:01, 60.99s/it]"
     ]
    },
    {
     "name": "stdout",
     "output_type": "stream",
     "text": [
      "Browser session terminated\n"
     ]
    }
   ],
   "source": [
    "sequential_price_extraction(df)"
   ]
  },
  {
   "cell_type": "code",
   "execution_count": null,
   "metadata": {},
   "outputs": [],
   "source": []
  },
  {
   "cell_type": "code",
   "execution_count": 6,
   "metadata": {},
   "outputs": [],
   "source": [
    "def filter_exclusive_holo_prices(cards_df):\n",
    "    # Garde uniquement les cartes avec un prix holofoil OU reverse holofoil (pas les deux)\n",
    "    filtered_cards = cards_df[\n",
    "        ((~pd.isna(cards_df['holofoil_price']) & (cards_df['holofoil_price'] != 0) & \n",
    "          pd.isna(cards_df['reverse_holofoil_price'])) |\n",
    "         (pd.isna(cards_df['holofoil_price']) & \n",
    "          ~pd.isna(cards_df['reverse_holofoil_price']) & (cards_df['reverse_holofoil_price'] != 0)))\n",
    "    ]\n",
    "    \n",
    "    # Sauvegarder dans un nouveau CSV\n",
    "    filtered_cards.to_csv('test_prix.csv', index=False)\n",
    "    print(f\"CSV créé avec {len(filtered_cards)} cartes ayant exclusivement un type de prix holo\")"
   ]
  },
  {
   "cell_type": "code",
   "execution_count": 7,
   "metadata": {},
   "outputs": [],
   "source": [
    "#filter_exclusive_holo_prices(df)"
   ]
  },
  {
   "cell_type": "code",
   "execution_count": 2,
   "metadata": {},
   "outputs": [
    {
     "name": "stdout",
     "output_type": "stream",
     "text": [
      "                   name     popularite\n",
      "0              Ampharos            #41\n",
      "1            Aerodactyl  Non référencé\n",
      "2             Azumarill  Non référencé\n",
      "3  Celebi & Venusaur-GX            #84\n",
      "4             Blastoise           #106\n"
     ]
    }
   ],
   "source": [
    "import pandas as pd\n",
    "\n",
    "# Charger les données\n",
    "data_popularity = pd.read_csv('pokemon_data_popularity.csv')\n",
    "data_cards = pd.read_csv('pokemon_cards.csv')\n",
    "\n",
    "# Convertir la colonne 'en' en string dans data_popularity\n",
    "data_popularity['en'] = data_popularity['en'].astype(str)\n",
    "\n",
    "# Créer un dictionnaire de correspondance entre les noms et leur classement\n",
    "pokemon_ranks = dict(zip(data_popularity['en'], data_popularity['Classement']))\n",
    "\n",
    "def get_pokemon_rank(card_name):\n",
    "    # S'assurer que card_name est une chaîne de caractères\n",
    "    if not isinstance(card_name, str):\n",
    "        return 'Non référencé'\n",
    "        \n",
    "    # Pour chaque pokémon dans le dictionnaire\n",
    "    for pokemon_name, rank in pokemon_ranks.items():\n",
    "        # Ignorer les valeurs 'nan'\n",
    "        if pokemon_name == 'nan':\n",
    "            continue\n",
    "        # Vérifier si le nom du pokémon est dans le nom de la carte\n",
    "        if pokemon_name in card_name:\n",
    "            return rank\n",
    "    return 'Non référencé'\n",
    "\n",
    "# Ajouter la nouvelle colonne\n",
    "data_cards['popularite'] = data_cards['name'].apply(get_pokemon_rank)\n",
    "\n",
    "# Sauvegarder le fichier mis à jour\n",
    "data_cards.to_csv('pokemon_cards_with_popularity.csv', index=False)\n",
    "\n",
    "# Afficher les 5 premières lignes pour vérification\n",
    "print(data_cards[['name', 'popularite']].head())"
   ]
  },
  {
   "cell_type": "code",
   "execution_count": null,
   "metadata": {},
   "outputs": [],
   "source": []
  }
 ],
 "metadata": {
  "kernelspec": {
   "display_name": "pokemon_card",
   "language": "python",
   "name": "python3"
  },
  "language_info": {
   "codemirror_mode": {
    "name": "ipython",
    "version": 3
   },
   "file_extension": ".py",
   "mimetype": "text/x-python",
   "name": "python",
   "nbconvert_exporter": "python",
   "pygments_lexer": "ipython3",
   "version": "3.9.20"
  }
 },
 "nbformat": 4,
 "nbformat_minor": 2
}
