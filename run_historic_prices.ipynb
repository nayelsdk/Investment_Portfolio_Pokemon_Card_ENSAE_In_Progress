{
 "cells": [
  {
   "cell_type": "code",
   "execution_count": 1,
   "metadata": {},
   "outputs": [
    {
     "name": "stdout",
     "output_type": "stream",
     "text": [
      "Intel MKL WARNING: Support of Intel(R) Streaming SIMD Extensions 4.2 (Intel(R) SSE4.2) enabled only processors has been deprecated. Intel oneAPI Math Kernel Library 2025.0 will require Intel(R) Advanced Vector Extensions (Intel(R) AVX) instructions.\n",
      "Intel MKL WARNING: Support of Intel(R) Streaming SIMD Extensions 4.2 (Intel(R) SSE4.2) enabled only processors has been deprecated. Intel oneAPI Math Kernel Library 2025.0 will require Intel(R) Advanced Vector Extensions (Intel(R) AVX) instructions.\n"
     ]
    }
   ],
   "source": [
    "from PokemonCardManager import *\n",
    "from GetHistoricCardPrices import save_historic_prices"
   ]
  },
  {
   "cell_type": "code",
   "execution_count": 2,
   "metadata": {},
   "outputs": [],
   "source": [
    "df=pd.read_csv('pokemon_cards.csv')"
   ]
  },
  {
   "cell_type": "code",
   "execution_count": 3,
   "metadata": {},
   "outputs": [
    {
     "name": "stderr",
     "output_type": "stream",
     "text": [
      "Price Extraction:  22%|██▏       | 824/3739 [14:51<4:29:59,  5.56s/it, Processing dpp-DP28]           "
     ]
    },
    {
     "name": "stdout",
     "output_type": "stream",
     "text": [
      "Click failed for //label[span[text()=\"Near Mint\"]]: Message: \n",
      "Stacktrace:\n",
      "0   chromedriver                        0x00000001012a7e12 chromedriver + 6696466\n",
      "1   chromedriver                        0x000000010129fc2a chromedriver + 6663210\n",
      "2   chromedriver                        0x0000000100ca7e3e chromedriver + 405054\n",
      "3   chromedriver                        0x0000000100cf8815 chromedriver + 735253\n",
      "4   chromedriver                        0x0000000100cf8d11 chromedriver + 736529\n",
      "5   chromedriver                        0x0000000100d43314 chromedriver + 1041172\n",
      "6   chromedriver                        0x0000000100d1d89d chromedriver + 886941\n",
      "7   chromedriver                        0x0000000100d403f4 chromedriver + 1029108\n",
      "8   chromedriver                        0x0000000100d1d613 chromedriver + 886291\n",
      "9   chromedriver                        0x0000000100cea950 chromedriver + 678224\n",
      "10  chromedriver                        0x0000000100ceb34e chromedriver + 680782\n",
      "11  chromedriver                        0x0000000101275700 chromedriver + 6489856\n",
      "12  chromedriver                        0x00000001012781a9 chromedriver + 6500777\n",
      "13  chromedriver                        0x0000000101277ccb chromedriver + 6499531\n",
      "14  chromedriver                        0x0000000101278635 chromedriver + 6501941\n",
      "15  chromedriver                        0x00000001012604b4 chromedriver + 6403252\n",
      "16  chromedriver                        0x000000010127891f chromedriver + 6502687\n",
      "17  chromedriver                        0x00000001012518e4 chromedriver + 6342884\n",
      "18  chromedriver                        0x0000000101290308 chromedriver + 6599432\n",
      "19  chromedriver                        0x00000001012904c5 chromedriver + 6599877\n",
      "20  chromedriver                        0x000000010129f7f8 chromedriver + 6662136\n",
      "21  libsystem_pthread.dylib             0x00007ff80b5b7253 _pthread_start + 99\n",
      "22  libsystem_pthread.dylib             0x00007ff80b5b2bef thread_start + 15\n",
      "\n",
      "Click failed for selector: //label[span[text()=\"Near Mint\"]]\n"
     ]
    },
    {
     "name": "stderr",
     "output_type": "stream",
     "text": [
      "Price Extraction:  49%|████▉     | 1849/3739 [31:01<1:15:59,  2.41s/it, Processing ex16-92]           "
     ]
    },
    {
     "name": "stdout",
     "output_type": "stream",
     "text": [
      "An error occurred: Message: \n",
      "Stacktrace:\n",
      "0   chromedriver                        0x0000000104b3fe12 chromedriver + 6696466\n",
      "1   chromedriver                        0x0000000104b37c2a chromedriver + 6663210\n",
      "2   chromedriver                        0x000000010453fe3e chromedriver + 405054\n",
      "3   chromedriver                        0x0000000104590815 chromedriver + 735253\n",
      "4   chromedriver                        0x0000000104590d11 chromedriver + 736529\n",
      "5   chromedriver                        0x00000001045db314 chromedriver + 1041172\n",
      "6   chromedriver                        0x00000001045b589d chromedriver + 886941\n",
      "7   chromedriver                        0x00000001045d83f4 chromedriver + 1029108\n",
      "8   chromedriver                        0x00000001045b5613 chromedriver + 886291\n",
      "9   chromedriver                        0x0000000104582950 chromedriver + 678224\n",
      "10  chromedriver                        0x000000010458334e chromedriver + 680782\n",
      "11  chromedriver                        0x0000000104b0d700 chromedriver + 6489856\n",
      "12  chromedriver                        0x0000000104b101a9 chromedriver + 6500777\n",
      "13  chromedriver                        0x0000000104b0fccb chromedriver + 6499531\n",
      "14  chromedriver                        0x0000000104b10635 chromedriver + 6501941\n",
      "15  chromedriver                        0x0000000104af84b4 chromedriver + 6403252\n",
      "16  chromedriver                        0x0000000104b1091f chromedriver + 6502687\n",
      "17  chromedriver                        0x0000000104ae98e4 chromedriver + 6342884\n",
      "18  chromedriver                        0x0000000104b28308 chromedriver + 6599432\n",
      "19  chromedriver                        0x0000000104b284c5 chromedriver + 6599877\n",
      "20  chromedriver                        0x0000000104b377f8 chromedriver + 6662136\n",
      "21  libsystem_pthread.dylib             0x00007ff80b5b7253 _pthread_start + 99\n",
      "22  libsystem_pthread.dylib             0x00007ff80b5b2bef thread_start + 15\n",
      "\n"
     ]
    },
    {
     "name": "stderr",
     "output_type": "stream",
     "text": [
      "Price Extraction:  50%|████▉     | 1866/3739 [33:30<2:38:16,  5.07s/it, Processing pl4-SH10]       "
     ]
    },
    {
     "name": "stdout",
     "output_type": "stream",
     "text": [
      "Click failed for //label[span[text()=\"Near Mint\"]]: Message: \n",
      "Stacktrace:\n",
      "0   chromedriver                        0x0000000102d71e12 chromedriver + 6696466\n",
      "1   chromedriver                        0x0000000102d69c2a chromedriver + 6663210\n",
      "2   chromedriver                        0x0000000102771e3e chromedriver + 405054\n",
      "3   chromedriver                        0x00000001027c2815 chromedriver + 735253\n",
      "4   chromedriver                        0x00000001027c2d11 chromedriver + 736529\n",
      "5   chromedriver                        0x000000010280d314 chromedriver + 1041172\n",
      "6   chromedriver                        0x00000001027e789d chromedriver + 886941\n",
      "7   chromedriver                        0x000000010280a3f4 chromedriver + 1029108\n",
      "8   chromedriver                        0x00000001027e7613 chromedriver + 886291\n",
      "9   chromedriver                        0x00000001027b4950 chromedriver + 678224\n",
      "10  chromedriver                        0x00000001027b534e chromedriver + 680782\n",
      "11  chromedriver                        0x0000000102d3f700 chromedriver + 6489856\n",
      "12  chromedriver                        0x0000000102d421a9 chromedriver + 6500777\n",
      "13  chromedriver                        0x0000000102d41ccb chromedriver + 6499531\n",
      "14  chromedriver                        0x0000000102d42635 chromedriver + 6501941\n",
      "15  chromedriver                        0x0000000102d2a4b4 chromedriver + 6403252\n",
      "16  chromedriver                        0x0000000102d4291f chromedriver + 6502687\n",
      "17  chromedriver                        0x0000000102d1b8e4 chromedriver + 6342884\n",
      "18  chromedriver                        0x0000000102d5a308 chromedriver + 6599432\n",
      "19  chromedriver                        0x0000000102d5a4c5 chromedriver + 6599877\n",
      "20  chromedriver                        0x0000000102d697f8 chromedriver + 6662136\n",
      "21  libsystem_pthread.dylib             0x00007ff80b5b7253 _pthread_start + 99\n",
      "22  libsystem_pthread.dylib             0x00007ff80b5b2bef thread_start + 15\n",
      "\n",
      "Click failed for selector: //label[span[text()=\"Near Mint\"]]\n"
     ]
    },
    {
     "name": "stderr",
     "output_type": "stream",
     "text": [
      "Price Extraction:  51%|█████     | 1907/3739 [35:42<2:12:30,  4.34s/it, Processing ex4-96]         "
     ]
    },
    {
     "name": "stdout",
     "output_type": "stream",
     "text": [
      "Click failed for //label[span[text()=\"Near Mint\"]]: Message: \n",
      "Stacktrace:\n",
      "0   chromedriver                        0x0000000100e69e12 chromedriver + 6696466\n",
      "1   chromedriver                        0x0000000100e61c2a chromedriver + 6663210\n",
      "2   chromedriver                        0x0000000100869e3e chromedriver + 405054\n",
      "3   chromedriver                        0x00000001008ba815 chromedriver + 735253\n",
      "4   chromedriver                        0x00000001008bad11 chromedriver + 736529\n",
      "5   chromedriver                        0x0000000100905314 chromedriver + 1041172\n",
      "6   chromedriver                        0x00000001008df89d chromedriver + 886941\n",
      "7   chromedriver                        0x00000001009023f4 chromedriver + 1029108\n",
      "8   chromedriver                        0x00000001008df613 chromedriver + 886291\n",
      "9   chromedriver                        0x00000001008ac950 chromedriver + 678224\n",
      "10  chromedriver                        0x00000001008ad34e chromedriver + 680782\n",
      "11  chromedriver                        0x0000000100e37700 chromedriver + 6489856\n",
      "12  chromedriver                        0x0000000100e3a1a9 chromedriver + 6500777\n",
      "13  chromedriver                        0x0000000100e39ccb chromedriver + 6499531\n",
      "14  chromedriver                        0x0000000100e3a635 chromedriver + 6501941\n",
      "15  chromedriver                        0x0000000100e224b4 chromedriver + 6403252\n",
      "16  chromedriver                        0x0000000100e3a91f chromedriver + 6502687\n",
      "17  chromedriver                        0x0000000100e138e4 chromedriver + 6342884\n",
      "18  chromedriver                        0x0000000100e52308 chromedriver + 6599432\n",
      "19  chromedriver                        0x0000000100e524c5 chromedriver + 6599877\n",
      "20  chromedriver                        0x0000000100e617f8 chromedriver + 6662136\n",
      "21  libsystem_pthread.dylib             0x00007ff80b5b7253 _pthread_start + 99\n",
      "22  libsystem_pthread.dylib             0x00007ff80b5b2bef thread_start + 15\n",
      "\n",
      "Click failed for selector: //label[span[text()=\"Near Mint\"]]\n"
     ]
    },
    {
     "name": "stderr",
     "output_type": "stream",
     "text": [
      "Price Extraction:  52%|█████▏    | 1938/3739 [40:13<5:14:04, 10.46s/it, Processing bwp-BW88]       "
     ]
    },
    {
     "name": "stdout",
     "output_type": "stream",
     "text": [
      "Click failed for //label[span[text()=\"Near Mint\"]]: Message: \n",
      "Stacktrace:\n",
      "0   chromedriver                        0x0000000103367e12 chromedriver + 6696466\n",
      "1   chromedriver                        0x000000010335fc2a chromedriver + 6663210\n",
      "2   chromedriver                        0x0000000102d67e3e chromedriver + 405054\n",
      "3   chromedriver                        0x0000000102db8815 chromedriver + 735253\n",
      "4   chromedriver                        0x0000000102db8d11 chromedriver + 736529\n",
      "5   chromedriver                        0x0000000102e03314 chromedriver + 1041172\n",
      "6   chromedriver                        0x0000000102ddd89d chromedriver + 886941\n",
      "7   chromedriver                        0x0000000102e003f4 chromedriver + 1029108\n",
      "8   chromedriver                        0x0000000102ddd613 chromedriver + 886291\n",
      "9   chromedriver                        0x0000000102daa950 chromedriver + 678224\n",
      "10  chromedriver                        0x0000000102dab34e chromedriver + 680782\n",
      "11  chromedriver                        0x0000000103335700 chromedriver + 6489856\n",
      "12  chromedriver                        0x00000001033381a9 chromedriver + 6500777\n",
      "13  chromedriver                        0x0000000103337ccb chromedriver + 6499531\n",
      "14  chromedriver                        0x0000000103338635 chromedriver + 6501941\n",
      "15  chromedriver                        0x00000001033204b4 chromedriver + 6403252\n",
      "16  chromedriver                        0x000000010333891f chromedriver + 6502687\n",
      "17  chromedriver                        0x00000001033118e4 chromedriver + 6342884\n",
      "18  chromedriver                        0x0000000103350308 chromedriver + 6599432\n",
      "19  chromedriver                        0x00000001033504c5 chromedriver + 6599877\n",
      "20  chromedriver                        0x000000010335f7f8 chromedriver + 6662136\n",
      "21  libsystem_pthread.dylib             0x00007ff80b5b7253 _pthread_start + 99\n",
      "22  libsystem_pthread.dylib             0x00007ff80b5b2bef thread_start + 15\n",
      "\n",
      "Click failed for selector: //label[span[text()=\"Near Mint\"]]\n"
     ]
    },
    {
     "name": "stderr",
     "output_type": "stream",
     "text": [
      "Price Extraction:  53%|█████▎    | 1990/3739 [47:19<5:34:20, 11.47s/it, Processing pl2-103]        "
     ]
    },
    {
     "name": "stdout",
     "output_type": "stream",
     "text": [
      "Click failed for //label[span[text()=\"Near Mint\"]]: Message: \n",
      "Stacktrace:\n",
      "0   chromedriver                        0x0000000102c76e12 chromedriver + 6696466\n",
      "1   chromedriver                        0x0000000102c6ec2a chromedriver + 6663210\n",
      "2   chromedriver                        0x0000000102676e3e chromedriver + 405054\n",
      "3   chromedriver                        0x00000001026c7815 chromedriver + 735253\n",
      "4   chromedriver                        0x00000001026c7d11 chromedriver + 736529\n",
      "5   chromedriver                        0x0000000102712314 chromedriver + 1041172\n",
      "6   chromedriver                        0x00000001026ec89d chromedriver + 886941\n",
      "7   chromedriver                        0x000000010270f3f4 chromedriver + 1029108\n",
      "8   chromedriver                        0x00000001026ec613 chromedriver + 886291\n",
      "9   chromedriver                        0x00000001026b9950 chromedriver + 678224\n",
      "10  chromedriver                        0x00000001026ba34e chromedriver + 680782\n",
      "11  chromedriver                        0x0000000102c44700 chromedriver + 6489856\n",
      "12  chromedriver                        0x0000000102c471a9 chromedriver + 6500777\n",
      "13  chromedriver                        0x0000000102c46ccb chromedriver + 6499531\n",
      "14  chromedriver                        0x0000000102c47635 chromedriver + 6501941\n",
      "15  chromedriver                        0x0000000102c2f4b4 chromedriver + 6403252\n",
      "16  chromedriver                        0x0000000102c4791f chromedriver + 6502687\n",
      "17  chromedriver                        0x0000000102c208e4 chromedriver + 6342884\n",
      "18  chromedriver                        0x0000000102c5f308 chromedriver + 6599432\n",
      "19  chromedriver                        0x0000000102c5f4c5 chromedriver + 6599877\n",
      "20  chromedriver                        0x0000000102c6e7f8 chromedriver + 6662136\n",
      "21  libsystem_pthread.dylib             0x00007ff80b5b7253 _pthread_start + 99\n",
      "22  libsystem_pthread.dylib             0x00007ff80b5b2bef thread_start + 15\n",
      "\n",
      "Click failed for selector: //label[span[text()=\"Near Mint\"]]\n"
     ]
    },
    {
     "name": "stderr",
     "output_type": "stream",
     "text": [
      "Price Extraction:  53%|█████▎    | 1994/3739 [47:20<5:13:49, 10.79s/it, Processing bwp-BW93]       "
     ]
    },
    {
     "name": "stdout",
     "output_type": "stream",
     "text": [
      "Click failed for //label[span[text()=\"Near Mint\"]]: Message: \n",
      "Stacktrace:\n",
      "0   chromedriver                        0x00000001009d3e12 chromedriver + 6696466\n",
      "1   chromedriver                        0x00000001009cbc2a chromedriver + 6663210\n",
      "2   chromedriver                        0x00000001003d3e3e chromedriver + 405054\n",
      "3   chromedriver                        0x0000000100424815 chromedriver + 735253\n",
      "4   chromedriver                        0x0000000100424d11 chromedriver + 736529\n",
      "5   chromedriver                        0x000000010046f314 chromedriver + 1041172\n",
      "6   chromedriver                        0x000000010044989d chromedriver + 886941\n",
      "7   chromedriver                        0x000000010046c3f4 chromedriver + 1029108\n",
      "8   chromedriver                        0x0000000100449613 chromedriver + 886291\n",
      "9   chromedriver                        0x0000000100416950 chromedriver + 678224\n",
      "10  chromedriver                        0x000000010041734e chromedriver + 680782\n",
      "11  chromedriver                        0x00000001009a1700 chromedriver + 6489856\n",
      "12  chromedriver                        0x00000001009a41a9 chromedriver + 6500777\n",
      "13  chromedriver                        0x00000001009a3ccb chromedriver + 6499531\n",
      "14  chromedriver                        0x00000001009a4635 chromedriver + 6501941\n",
      "15  chromedriver                        0x000000010098c4b4 chromedriver + 6403252\n",
      "16  chromedriver                        0x00000001009a491f chromedriver + 6502687\n",
      "17  chromedriver                        0x000000010097d8e4 chromedriver + 6342884\n",
      "18  chromedriver                        0x00000001009bc308 chromedriver + 6599432\n",
      "19  chromedriver                        0x00000001009bc4c5 chromedriver + 6599877\n",
      "20  chromedriver                        0x00000001009cb7f8 chromedriver + 6662136\n",
      "21  libsystem_pthread.dylib             0x00007ff80b5b7253 _pthread_start + 99\n",
      "22  libsystem_pthread.dylib             0x00007ff80b5b2bef thread_start + 15\n",
      "\n",
      "Click failed for selector: //label[span[text()=\"Near Mint\"]]\n"
     ]
    },
    {
     "name": "stderr",
     "output_type": "stream",
     "text": [
      "Price Extraction:  54%|█████▎    | 2006/3739 [53:25<10:12:58, 21.22s/it, Processing dp5-100]     "
     ]
    },
    {
     "name": "stdout",
     "output_type": "stream",
     "text": [
      "Click failed for //label[span[text()=\"Near Mint\"]]: Message: \n",
      "Stacktrace:\n",
      "0   chromedriver                        0x0000000105246e12 chromedriver + 6696466\n",
      "1   chromedriver                        0x000000010523ec2a chromedriver + 6663210\n",
      "2   chromedriver                        0x0000000104c46e3e chromedriver + 405054\n",
      "3   chromedriver                        0x0000000104c97815 chromedriver + 735253\n",
      "4   chromedriver                        0x0000000104c97d11 chromedriver + 736529\n",
      "5   chromedriver                        0x0000000104ce2314 chromedriver + 1041172\n",
      "6   chromedriver                        0x0000000104cbc89d chromedriver + 886941\n",
      "7   chromedriver                        0x0000000104cdf3f4 chromedriver + 1029108\n",
      "8   chromedriver                        0x0000000104cbc613 chromedriver + 886291\n",
      "9   chromedriver                        0x0000000104c89950 chromedriver + 678224\n",
      "10  chromedriver                        0x0000000104c8a34e chromedriver + 680782\n",
      "11  chromedriver                        0x0000000105214700 chromedriver + 6489856\n",
      "12  chromedriver                        0x00000001052171a9 chromedriver + 6500777\n",
      "13  chromedriver                        0x0000000105216ccb chromedriver + 6499531\n",
      "14  chromedriver                        0x0000000105217635 chromedriver + 6501941\n",
      "15  chromedriver                        0x00000001051ff4b4 chromedriver + 6403252\n",
      "16  chromedriver                        0x000000010521791f chromedriver + 6502687\n",
      "17  chromedriver                        0x00000001051f08e4 chromedriver + 6342884\n",
      "18  chromedriver                        0x000000010522f308 chromedriver + 6599432\n",
      "19  chromedriver                        0x000000010522f4c5 chromedriver + 6599877\n",
      "20  chromedriver                        0x000000010523e7f8 chromedriver + 6662136\n",
      "21  libsystem_pthread.dylib             0x00007ff80b5b7253 _pthread_start + 99\n",
      "22  libsystem_pthread.dylib             0x00007ff80b5b2bef thread_start + 15\n",
      "\n",
      "Click failed for selector: //label[span[text()=\"Near Mint\"]]\n"
     ]
    },
    {
     "name": "stderr",
     "output_type": "stream",
     "text": [
      "Price Extraction:  54%|█████▍    | 2026/3739 [57:11<7:10:09, 15.07s/it, Processing ex15-93]        "
     ]
    },
    {
     "name": "stdout",
     "output_type": "stream",
     "text": [
      "Click failed for //label[span[text()=\"Near Mint\"]]: Message: \n",
      "Stacktrace:\n",
      "0   chromedriver                        0x0000000105540e12 chromedriver + 6696466\n",
      "1   chromedriver                        0x0000000105538c2a chromedriver + 6663210\n",
      "2   chromedriver                        0x0000000104f40e3e chromedriver + 405054\n",
      "3   chromedriver                        0x0000000104f91815 chromedriver + 735253\n",
      "4   chromedriver                        0x0000000104f91d11 chromedriver + 736529\n",
      "5   chromedriver                        0x0000000104fdc314 chromedriver + 1041172\n",
      "6   chromedriver                        0x0000000104fb689d chromedriver + 886941\n",
      "7   chromedriver                        0x0000000104fd93f4 chromedriver + 1029108\n",
      "8   chromedriver                        0x0000000104fb6613 chromedriver + 886291\n",
      "9   chromedriver                        0x0000000104f83950 chromedriver + 678224\n",
      "10  chromedriver                        0x0000000104f8434e chromedriver + 680782\n",
      "11  chromedriver                        0x000000010550e700 chromedriver + 6489856\n",
      "12  chromedriver                        0x00000001055111a9 chromedriver + 6500777\n",
      "13  chromedriver                        0x0000000105510ccb chromedriver + 6499531\n",
      "14  chromedriver                        0x0000000105511635 chromedriver + 6501941\n",
      "15  chromedriver                        0x00000001054f94b4 chromedriver + 6403252\n",
      "16  chromedriver                        0x000000010551191f chromedriver + 6502687\n",
      "17  chromedriver                        0x00000001054ea8e4 chromedriver + 6342884\n",
      "18  chromedriver                        0x0000000105529308 chromedriver + 6599432\n",
      "19  chromedriver                        0x00000001055294c5 chromedriver + 6599877\n",
      "20  chromedriver                        0x00000001055387f8 chromedriver + 6662136\n",
      "21  libsystem_pthread.dylib             0x00007ff80b5b7253 _pthread_start + 99\n",
      "22  libsystem_pthread.dylib             0x00007ff80b5b2bef thread_start + 15\n",
      "\n",
      "Click failed for selector: //label[span[text()=\"Near Mint\"]]\n"
     ]
    },
    {
     "name": "stderr",
     "output_type": "stream",
     "text": [
      "Price Extraction:  55%|█████▍    | 2052/3739 [1:07:20<14:38:46, 31.25s/it, Processing ex7-101]        "
     ]
    },
    {
     "name": "stdout",
     "output_type": "stream",
     "text": [
      "Click failed for //label[span[text()=\"Near Mint\"]]: Message: \n",
      "Stacktrace:\n",
      "0   chromedriver                        0x0000000100e60e12 chromedriver + 6696466\n",
      "1   chromedriver                        0x0000000100e58c2a chromedriver + 6663210\n",
      "2   chromedriver                        0x0000000100860e3e chromedriver + 405054\n",
      "3   chromedriver                        0x00000001008b1815 chromedriver + 735253\n",
      "4   chromedriver                        0x00000001008b1d11 chromedriver + 736529\n",
      "5   chromedriver                        0x00000001008fc314 chromedriver + 1041172\n",
      "6   chromedriver                        0x00000001008d689d chromedriver + 886941\n",
      "7   chromedriver                        0x00000001008f93f4 chromedriver + 1029108\n",
      "8   chromedriver                        0x00000001008d6613 chromedriver + 886291\n",
      "9   chromedriver                        0x00000001008a3950 chromedriver + 678224\n",
      "10  chromedriver                        0x00000001008a434e chromedriver + 680782\n",
      "11  chromedriver                        0x0000000100e2e700 chromedriver + 6489856\n",
      "12  chromedriver                        0x0000000100e311a9 chromedriver + 6500777\n",
      "13  chromedriver                        0x0000000100e30ccb chromedriver + 6499531\n",
      "14  chromedriver                        0x0000000100e31635 chromedriver + 6501941\n",
      "15  chromedriver                        0x0000000100e194b4 chromedriver + 6403252\n",
      "16  chromedriver                        0x0000000100e3191f chromedriver + 6502687\n",
      "17  chromedriver                        0x0000000100e0a8e4 chromedriver + 6342884\n",
      "18  chromedriver                        0x0000000100e49308 chromedriver + 6599432\n",
      "19  chromedriver                        0x0000000100e494c5 chromedriver + 6599877\n",
      "20  chromedriver                        0x0000000100e587f8 chromedriver + 6662136\n",
      "21  libsystem_pthread.dylib             0x00007ff80b5b7253 _pthread_start + 99\n",
      "22  libsystem_pthread.dylib             0x00007ff80b5b2bef thread_start + 15\n",
      "\n",
      "Click failed for selector: //label[span[text()=\"Near Mint\"]]\n"
     ]
    },
    {
     "name": "stderr",
     "output_type": "stream",
     "text": [
      "Price Extraction:  55%|█████▍    | 2056/3739 [1:09:48<16:43:04, 35.76s/it, Processing bwp-BW94]       "
     ]
    },
    {
     "name": "stdout",
     "output_type": "stream",
     "text": [
      "Click failed for //label[span[text()=\"Near Mint\"]]: Message: \n",
      "Stacktrace:\n",
      "0   chromedriver                        0x0000000102b9fe12 chromedriver + 6696466\n",
      "1   chromedriver                        0x0000000102b97c2a chromedriver + 6663210\n",
      "2   chromedriver                        0x000000010259fe3e chromedriver + 405054\n",
      "3   chromedriver                        0x00000001025f0815 chromedriver + 735253\n",
      "4   chromedriver                        0x00000001025f0d11 chromedriver + 736529\n",
      "5   chromedriver                        0x000000010263b314 chromedriver + 1041172\n",
      "6   chromedriver                        0x000000010261589d chromedriver + 886941\n",
      "7   chromedriver                        0x00000001026383f4 chromedriver + 1029108\n",
      "8   chromedriver                        0x0000000102615613 chromedriver + 886291\n",
      "9   chromedriver                        0x00000001025e2950 chromedriver + 678224\n",
      "10  chromedriver                        0x00000001025e334e chromedriver + 680782\n",
      "11  chromedriver                        0x0000000102b6d700 chromedriver + 6489856\n",
      "12  chromedriver                        0x0000000102b701a9 chromedriver + 6500777\n",
      "13  chromedriver                        0x0000000102b6fccb chromedriver + 6499531\n",
      "14  chromedriver                        0x0000000102b70635 chromedriver + 6501941\n",
      "15  chromedriver                        0x0000000102b584b4 chromedriver + 6403252\n",
      "16  chromedriver                        0x0000000102b7091f chromedriver + 6502687\n",
      "17  chromedriver                        0x0000000102b498e4 chromedriver + 6342884\n",
      "18  chromedriver                        0x0000000102b88308 chromedriver + 6599432\n",
      "19  chromedriver                        0x0000000102b884c5 chromedriver + 6599877\n",
      "20  chromedriver                        0x0000000102b977f8 chromedriver + 6662136\n",
      "21  libsystem_pthread.dylib             0x00007ff80b5b7253 _pthread_start + 99\n",
      "22  libsystem_pthread.dylib             0x00007ff80b5b2bef thread_start + 15\n",
      "\n",
      "Click failed for selector: //label[span[text()=\"Near Mint\"]]\n"
     ]
    },
    {
     "name": "stderr",
     "output_type": "stream",
     "text": [
      "Price Extraction:  55%|█████▌    | 2061/3739 [1:11:08<14:25:21, 30.94s/it, Processing hgss1-114]      "
     ]
    },
    {
     "name": "stdout",
     "output_type": "stream",
     "text": [
      "Click failed for //label[span[text()=\"Near Mint\"]]: Message: \n",
      "Stacktrace:\n",
      "0   chromedriver                        0x000000010347be12 chromedriver + 6696466\n",
      "1   chromedriver                        0x0000000103473c2a chromedriver + 6663210\n",
      "2   chromedriver                        0x0000000102e7be3e chromedriver + 405054\n",
      "3   chromedriver                        0x0000000102ecc815 chromedriver + 735253\n",
      "4   chromedriver                        0x0000000102eccd11 chromedriver + 736529\n",
      "5   chromedriver                        0x0000000102f17314 chromedriver + 1041172\n",
      "6   chromedriver                        0x0000000102ef189d chromedriver + 886941\n",
      "7   chromedriver                        0x0000000102f143f4 chromedriver + 1029108\n",
      "8   chromedriver                        0x0000000102ef1613 chromedriver + 886291\n",
      "9   chromedriver                        0x0000000102ebe950 chromedriver + 678224\n",
      "10  chromedriver                        0x0000000102ebf34e chromedriver + 680782\n",
      "11  chromedriver                        0x0000000103449700 chromedriver + 6489856\n",
      "12  chromedriver                        0x000000010344c1a9 chromedriver + 6500777\n",
      "13  chromedriver                        0x000000010344bccb chromedriver + 6499531\n",
      "14  chromedriver                        0x000000010344c635 chromedriver + 6501941\n",
      "15  chromedriver                        0x00000001034344b4 chromedriver + 6403252\n",
      "16  chromedriver                        0x000000010344c91f chromedriver + 6502687\n",
      "17  chromedriver                        0x00000001034258e4 chromedriver + 6342884\n",
      "18  chromedriver                        0x0000000103464308 chromedriver + 6599432\n",
      "19  chromedriver                        0x00000001034644c5 chromedriver + 6599877\n",
      "20  chromedriver                        0x00000001034737f8 chromedriver + 6662136\n",
      "21  libsystem_pthread.dylib             0x00007ff80b5b7253 _pthread_start + 99\n",
      "22  libsystem_pthread.dylib             0x00007ff80b5b2bef thread_start + 15\n",
      "\n",
      "Click failed for selector: //label[span[text()=\"Near Mint\"]]\n"
     ]
    },
    {
     "name": "stderr",
     "output_type": "stream",
     "text": [
      "Price Extraction:  56%|█████▋    | 2110/3739 [1:26:37<11:14:58, 24.86s/it, Processing ex7-105]        "
     ]
    },
    {
     "name": "stdout",
     "output_type": "stream",
     "text": [
      "Click failed for //label[span[text()=\"Near Mint\"]]: Message: \n",
      "Stacktrace:\n",
      "0   chromedriver                        0x0000000102ca6e12 chromedriver + 6696466\n",
      "1   chromedriver                        0x0000000102c9ec2a chromedriver + 6663210\n",
      "2   chromedriver                        0x00000001026a6e3e chromedriver + 405054\n",
      "3   chromedriver                        0x00000001026f7815 chromedriver + 735253\n",
      "4   chromedriver                        0x00000001026f7d11 chromedriver + 736529\n",
      "5   chromedriver                        0x0000000102742314 chromedriver + 1041172\n",
      "6   chromedriver                        0x000000010271c89d chromedriver + 886941\n",
      "7   chromedriver                        0x000000010273f3f4 chromedriver + 1029108\n",
      "8   chromedriver                        0x000000010271c613 chromedriver + 886291\n",
      "9   chromedriver                        0x00000001026e9950 chromedriver + 678224\n",
      "10  chromedriver                        0x00000001026ea34e chromedriver + 680782\n",
      "11  chromedriver                        0x0000000102c74700 chromedriver + 6489856\n",
      "12  chromedriver                        0x0000000102c771a9 chromedriver + 6500777\n",
      "13  chromedriver                        0x0000000102c76ccb chromedriver + 6499531\n",
      "14  chromedriver                        0x0000000102c77635 chromedriver + 6501941\n",
      "15  chromedriver                        0x0000000102c5f4b4 chromedriver + 6403252\n",
      "16  chromedriver                        0x0000000102c7791f chromedriver + 6502687\n",
      "17  chromedriver                        0x0000000102c508e4 chromedriver + 6342884\n",
      "18  chromedriver                        0x0000000102c8f308 chromedriver + 6599432\n",
      "19  chromedriver                        0x0000000102c8f4c5 chromedriver + 6599877\n",
      "20  chromedriver                        0x0000000102c9e7f8 chromedriver + 6662136\n",
      "21  libsystem_pthread.dylib             0x00007ff80b5b7253 _pthread_start + 99\n",
      "22  libsystem_pthread.dylib             0x00007ff80b5b2bef thread_start + 15\n",
      "\n",
      "Click failed for selector: //label[span[text()=\"Near Mint\"]]\n"
     ]
    },
    {
     "name": "stderr",
     "output_type": "stream",
     "text": [
      "Price Extraction:  57%|█████▋    | 2119/3739 [1:26:39<9:42:43, 21.58s/it, Processing pl2-110]        "
     ]
    },
    {
     "name": "stdout",
     "output_type": "stream",
     "text": [
      "Click failed for //label[span[text()=\"Near Mint\"]]: Message: \n",
      "Stacktrace:\n",
      "0   chromedriver                        0x00000001035b3e12 chromedriver + 6696466\n",
      "1   chromedriver                        0x00000001035abc2a chromedriver + 6663210\n",
      "2   chromedriver                        0x0000000102fb3e3e chromedriver + 405054\n",
      "3   chromedriver                        0x0000000103004815 chromedriver + 735253\n",
      "4   chromedriver                        0x0000000103004d11 chromedriver + 736529\n",
      "5   chromedriver                        0x000000010304f314 chromedriver + 1041172\n",
      "6   chromedriver                        0x000000010302989d chromedriver + 886941\n",
      "7   chromedriver                        0x000000010304c3f4 chromedriver + 1029108\n",
      "8   chromedriver                        0x0000000103029613 chromedriver + 886291\n",
      "9   chromedriver                        0x0000000102ff6950 chromedriver + 678224\n",
      "10  chromedriver                        0x0000000102ff734e chromedriver + 680782\n",
      "11  chromedriver                        0x0000000103581700 chromedriver + 6489856\n",
      "12  chromedriver                        0x00000001035841a9 chromedriver + 6500777\n",
      "13  chromedriver                        0x0000000103583ccb chromedriver + 6499531\n",
      "14  chromedriver                        0x0000000103584635 chromedriver + 6501941\n",
      "15  chromedriver                        0x000000010356c4b4 chromedriver + 6403252\n",
      "16  chromedriver                        0x000000010358491f chromedriver + 6502687\n",
      "17  chromedriver                        0x000000010355d8e4 chromedriver + 6342884\n",
      "18  chromedriver                        0x000000010359c308 chromedriver + 6599432\n",
      "19  chromedriver                        0x000000010359c4c5 chromedriver + 6599877\n",
      "20  chromedriver                        0x00000001035ab7f8 chromedriver + 6662136\n",
      "21  libsystem_pthread.dylib             0x00007ff80b5b7253 _pthread_start + 99\n",
      "22  libsystem_pthread.dylib             0x00007ff80b5b2bef thread_start + 15\n",
      "\n",
      "Click failed for selector: //label[span[text()=\"Near Mint\"]]\n"
     ]
    },
    {
     "name": "stderr",
     "output_type": "stream",
     "text": [
      "Price Extraction:  57%|█████▋    | 2138/3739 [1:29:52<3:16:09,  7.35s/it, Processing dp7-101]        "
     ]
    },
    {
     "name": "stdout",
     "output_type": "stream",
     "text": [
      "Click failed for //label[span[text()=\"Near Mint\"]]: Message: \n",
      "Stacktrace:\n",
      "0   chromedriver                        0x0000000100742e12 chromedriver + 6696466\n",
      "1   chromedriver                        0x000000010073ac2a chromedriver + 6663210\n",
      "2   chromedriver                        0x0000000100142e3e chromedriver + 405054\n",
      "3   chromedriver                        0x0000000100193815 chromedriver + 735253\n",
      "4   chromedriver                        0x0000000100193d11 chromedriver + 736529\n",
      "5   chromedriver                        0x00000001001de314 chromedriver + 1041172\n",
      "6   chromedriver                        0x00000001001b889d chromedriver + 886941\n",
      "7   chromedriver                        0x00000001001db3f4 chromedriver + 1029108\n",
      "8   chromedriver                        0x00000001001b8613 chromedriver + 886291\n",
      "9   chromedriver                        0x0000000100185950 chromedriver + 678224\n",
      "10  chromedriver                        0x000000010018634e chromedriver + 680782\n",
      "11  chromedriver                        0x0000000100710700 chromedriver + 6489856\n",
      "12  chromedriver                        0x00000001007131a9 chromedriver + 6500777\n",
      "13  chromedriver                        0x0000000100712ccb chromedriver + 6499531\n",
      "14  chromedriver                        0x0000000100713635 chromedriver + 6501941\n",
      "15  chromedriver                        0x00000001006fb4b4 chromedriver + 6403252\n",
      "16  chromedriver                        0x000000010071391f chromedriver + 6502687\n",
      "17  chromedriver                        0x00000001006ec8e4 chromedriver + 6342884\n",
      "18  chromedriver                        0x000000010072b308 chromedriver + 6599432\n",
      "19  chromedriver                        0x000000010072b4c5 chromedriver + 6599877\n",
      "20  chromedriver                        0x000000010073a7f8 chromedriver + 6662136\n",
      "21  libsystem_pthread.dylib             0x00007ff80b5b7253 _pthread_start + 99\n",
      "22  libsystem_pthread.dylib             0x00007ff80b5b2bef thread_start + 15\n",
      "\n",
      "Click failed for selector: //label[span[text()=\"Near Mint\"]]\n"
     ]
    },
    {
     "name": "stderr",
     "output_type": "stream",
     "text": [
      "Price Extraction:  57%|█████▋    | 2139/3739 [1:32:25<6:49:22, 15.35s/it, Processing col1-SL11]"
     ]
    },
    {
     "name": "stdout",
     "output_type": "stream",
     "text": [
      "Click failed for //label[span[text()=\"Near Mint\"]]: Message: \n",
      "Stacktrace:\n",
      "0   chromedriver                        0x0000000100f0fe12 chromedriver + 6696466\n",
      "1   chromedriver                        0x0000000100f07c2a chromedriver + 6663210\n",
      "2   chromedriver                        0x000000010090fe3e chromedriver + 405054\n",
      "3   chromedriver                        0x0000000100960815 chromedriver + 735253\n",
      "4   chromedriver                        0x0000000100960d11 chromedriver + 736529\n",
      "5   chromedriver                        0x00000001009ab314 chromedriver + 1041172\n",
      "6   chromedriver                        0x000000010098589d chromedriver + 886941\n",
      "7   chromedriver                        0x00000001009a83f4 chromedriver + 1029108\n",
      "8   chromedriver                        0x0000000100985613 chromedriver + 886291\n",
      "9   chromedriver                        0x0000000100952950 chromedriver + 678224\n",
      "10  chromedriver                        0x000000010095334e chromedriver + 680782\n",
      "11  chromedriver                        0x0000000100edd700 chromedriver + 6489856\n",
      "12  chromedriver                        0x0000000100ee01a9 chromedriver + 6500777\n",
      "13  chromedriver                        0x0000000100edfccb chromedriver + 6499531\n",
      "14  chromedriver                        0x0000000100ee0635 chromedriver + 6501941\n",
      "15  chromedriver                        0x0000000100ec84b4 chromedriver + 6403252\n",
      "16  chromedriver                        0x0000000100ee091f chromedriver + 6502687\n",
      "17  chromedriver                        0x0000000100eb98e4 chromedriver + 6342884\n",
      "18  chromedriver                        0x0000000100ef8308 chromedriver + 6599432\n",
      "19  chromedriver                        0x0000000100ef84c5 chromedriver + 6599877\n",
      "20  chromedriver                        0x0000000100f077f8 chromedriver + 6662136\n",
      "21  libsystem_pthread.dylib             0x00007ff80b5b7253 _pthread_start + 99\n",
      "22  libsystem_pthread.dylib             0x00007ff80b5b2bef thread_start + 15\n",
      "\n",
      "Click failed for selector: //label[span[text()=\"Near Mint\"]]\n"
     ]
    },
    {
     "name": "stderr",
     "output_type": "stream",
     "text": [
      "Price Extraction:  58%|█████▊    | 2160/3739 [1:38:31<7:15:46, 16.56s/it, Processing xyp-XY104]       "
     ]
    },
    {
     "name": "stdout",
     "output_type": "stream",
     "text": [
      "Click failed for //label[span[text()=\"Near Mint\"]]: Message: \n",
      "Stacktrace:\n",
      "0   chromedriver                        0x0000000101580e12 chromedriver + 6696466\n",
      "1   chromedriver                        0x0000000101578c2a chromedriver + 6663210\n",
      "2   chromedriver                        0x0000000100f80e3e chromedriver + 405054\n",
      "3   chromedriver                        0x0000000100fd1815 chromedriver + 735253\n",
      "4   chromedriver                        0x0000000100fd1d11 chromedriver + 736529\n",
      "5   chromedriver                        0x000000010101c314 chromedriver + 1041172\n",
      "6   chromedriver                        0x0000000100ff689d chromedriver + 886941\n",
      "7   chromedriver                        0x00000001010193f4 chromedriver + 1029108\n",
      "8   chromedriver                        0x0000000100ff6613 chromedriver + 886291\n",
      "9   chromedriver                        0x0000000100fc3950 chromedriver + 678224\n",
      "10  chromedriver                        0x0000000100fc434e chromedriver + 680782\n",
      "11  chromedriver                        0x000000010154e700 chromedriver + 6489856\n",
      "12  chromedriver                        0x00000001015511a9 chromedriver + 6500777\n",
      "13  chromedriver                        0x0000000101550ccb chromedriver + 6499531\n",
      "14  chromedriver                        0x0000000101551635 chromedriver + 6501941\n",
      "15  chromedriver                        0x00000001015394b4 chromedriver + 6403252\n",
      "16  chromedriver                        0x000000010155191f chromedriver + 6502687\n",
      "17  chromedriver                        0x000000010152a8e4 chromedriver + 6342884\n",
      "18  chromedriver                        0x0000000101569308 chromedriver + 6599432\n",
      "19  chromedriver                        0x00000001015694c5 chromedriver + 6599877\n",
      "20  chromedriver                        0x00000001015787f8 chromedriver + 6662136\n",
      "21  libsystem_pthread.dylib             0x00007ff80b5b7253 _pthread_start + 99\n",
      "22  libsystem_pthread.dylib             0x00007ff80b5b2bef thread_start + 15\n",
      "\n",
      "Click failed for selector: //label[span[text()=\"Near Mint\"]]\n"
     ]
    },
    {
     "name": "stderr",
     "output_type": "stream",
     "text": [
      "Price Extraction:  58%|█████▊    | 2173/3739 [1:38:32<6:43:36, 15.46s/it, Processing bw9-111]        "
     ]
    },
    {
     "name": "stdout",
     "output_type": "stream",
     "text": [
      "Click failed for //label[span[text()=\"Near Mint\"]]: Message: \n",
      "Stacktrace:\n",
      "0   chromedriver                        0x00000001047d9e12 chromedriver + 6696466\n",
      "1   chromedriver                        0x00000001047d1c2a chromedriver + 6663210\n",
      "2   chromedriver                        0x00000001041d9e3e chromedriver + 405054\n",
      "3   chromedriver                        0x000000010422a815 chromedriver + 735253\n",
      "4   chromedriver                        0x000000010422ad11 chromedriver + 736529\n",
      "5   chromedriver                        0x0000000104275314 chromedriver + 1041172\n",
      "6   chromedriver                        0x000000010424f89d chromedriver + 886941\n",
      "7   chromedriver                        0x00000001042723f4 chromedriver + 1029108\n",
      "8   chromedriver                        0x000000010424f613 chromedriver + 886291\n",
      "9   chromedriver                        0x000000010421c950 chromedriver + 678224\n",
      "10  chromedriver                        0x000000010421d34e chromedriver + 680782\n",
      "11  chromedriver                        0x00000001047a7700 chromedriver + 6489856\n",
      "12  chromedriver                        0x00000001047aa1a9 chromedriver + 6500777\n",
      "13  chromedriver                        0x00000001047a9ccb chromedriver + 6499531\n",
      "14  chromedriver                        0x00000001047aa635 chromedriver + 6501941\n",
      "15  chromedriver                        0x00000001047924b4 chromedriver + 6403252\n",
      "16  chromedriver                        0x00000001047aa91f chromedriver + 6502687\n",
      "17  chromedriver                        0x00000001047838e4 chromedriver + 6342884\n",
      "18  chromedriver                        0x00000001047c2308 chromedriver + 6599432\n",
      "19  chromedriver                        0x00000001047c24c5 chromedriver + 6599877\n",
      "20  chromedriver                        0x00000001047d17f8 chromedriver + 6662136\n",
      "21  libsystem_pthread.dylib             0x00007ff80b5b7253 _pthread_start + 99\n",
      "22  libsystem_pthread.dylib             0x00007ff80b5b2bef thread_start + 15\n",
      "\n",
      "Click failed for selector: //label[span[text()=\"Near Mint\"]]\n"
     ]
    },
    {
     "name": "stderr",
     "output_type": "stream",
     "text": [
      "Price Extraction:  59%|█████▉    | 2199/3739 [1:43:01<3:17:23,  7.69s/it, Processing ex10-111]       "
     ]
    },
    {
     "name": "stdout",
     "output_type": "stream",
     "text": [
      "Click failed for //label[span[text()=\"Near Mint\"]]: Message: \n",
      "Stacktrace:\n",
      "0   chromedriver                        0x00000001007bde12 chromedriver + 6696466\n",
      "1   chromedriver                        0x00000001007b5c2a chromedriver + 6663210\n",
      "2   chromedriver                        0x00000001001bde3e chromedriver + 405054\n",
      "3   chromedriver                        0x000000010020e815 chromedriver + 735253\n",
      "4   chromedriver                        0x000000010020ed11 chromedriver + 736529\n",
      "5   chromedriver                        0x0000000100259314 chromedriver + 1041172\n",
      "6   chromedriver                        0x000000010023389d chromedriver + 886941\n",
      "7   chromedriver                        0x00000001002563f4 chromedriver + 1029108\n",
      "8   chromedriver                        0x0000000100233613 chromedriver + 886291\n",
      "9   chromedriver                        0x0000000100200950 chromedriver + 678224\n",
      "10  chromedriver                        0x000000010020134e chromedriver + 680782\n",
      "11  chromedriver                        0x000000010078b700 chromedriver + 6489856\n",
      "12  chromedriver                        0x000000010078e1a9 chromedriver + 6500777\n",
      "13  chromedriver                        0x000000010078dccb chromedriver + 6499531\n",
      "14  chromedriver                        0x000000010078e635 chromedriver + 6501941\n",
      "15  chromedriver                        0x00000001007764b4 chromedriver + 6403252\n",
      "16  chromedriver                        0x000000010078e91f chromedriver + 6502687\n",
      "17  chromedriver                        0x00000001007678e4 chromedriver + 6342884\n",
      "18  chromedriver                        0x00000001007a6308 chromedriver + 6599432\n",
      "19  chromedriver                        0x00000001007a64c5 chromedriver + 6599877\n",
      "20  chromedriver                        0x00000001007b57f8 chromedriver + 6662136\n",
      "21  libsystem_pthread.dylib             0x00007ff80b5b7253 _pthread_start + 99\n",
      "22  libsystem_pthread.dylib             0x00007ff80b5b2bef thread_start + 15\n",
      "\n",
      "Click failed for selector: //label[span[text()=\"Near Mint\"]]\n"
     ]
    },
    {
     "name": "stderr",
     "output_type": "stream",
     "text": [
      "Price Extraction:  59%|█████▉    | 2223/3739 [1:49:01<4:13:57, 10.05s/it, Processing bw5-105]        "
     ]
    },
    {
     "name": "stdout",
     "output_type": "stream",
     "text": [
      "Click failed for //label[span[text()=\"Near Mint\"]]: Message: \n",
      "Stacktrace:\n",
      "0   chromedriver                        0x0000000101331e12 chromedriver + 6696466\n",
      "1   chromedriver                        0x0000000101329c2a chromedriver + 6663210\n",
      "2   chromedriver                        0x0000000100d31e3e chromedriver + 405054\n",
      "3   chromedriver                        0x0000000100d82815 chromedriver + 735253\n",
      "4   chromedriver                        0x0000000100d82d11 chromedriver + 736529\n",
      "5   chromedriver                        0x0000000100dcd314 chromedriver + 1041172\n",
      "6   chromedriver                        0x0000000100da789d chromedriver + 886941\n",
      "7   chromedriver                        0x0000000100dca3f4 chromedriver + 1029108\n",
      "8   chromedriver                        0x0000000100da7613 chromedriver + 886291\n",
      "9   chromedriver                        0x0000000100d74950 chromedriver + 678224\n",
      "10  chromedriver                        0x0000000100d7534e chromedriver + 680782\n",
      "11  chromedriver                        0x00000001012ff700 chromedriver + 6489856\n",
      "12  chromedriver                        0x00000001013021a9 chromedriver + 6500777\n",
      "13  chromedriver                        0x0000000101301ccb chromedriver + 6499531\n",
      "14  chromedriver                        0x0000000101302635 chromedriver + 6501941\n",
      "15  chromedriver                        0x00000001012ea4b4 chromedriver + 6403252\n",
      "16  chromedriver                        0x000000010130291f chromedriver + 6502687\n",
      "17  chromedriver                        0x00000001012db8e4 chromedriver + 6342884\n",
      "18  chromedriver                        0x000000010131a308 chromedriver + 6599432\n",
      "19  chromedriver                        0x000000010131a4c5 chromedriver + 6599877\n",
      "20  chromedriver                        0x00000001013297f8 chromedriver + 6662136\n",
      "21  libsystem_pthread.dylib             0x00007ff80b5b7253 _pthread_start + 99\n",
      "22  libsystem_pthread.dylib             0x00007ff80b5b2bef thread_start + 15\n",
      "\n",
      "Click failed for selector: //label[span[text()=\"Near Mint\"]]\n"
     ]
    },
    {
     "name": "stderr",
     "output_type": "stream",
     "text": [
      "Price Extraction:  60%|█████▉    | 2227/3739 [1:51:12<7:28:03, 17.78s/it, Processing dp4-105]       "
     ]
    },
    {
     "name": "stdout",
     "output_type": "stream",
     "text": [
      "Click failed for //label[span[text()=\"Near Mint\"]]: Message: \n",
      "Stacktrace:\n",
      "0   chromedriver                        0x000000010088ee12 chromedriver + 6696466\n",
      "1   chromedriver                        0x0000000100886c2a chromedriver + 6663210\n",
      "2   chromedriver                        0x000000010028ee3e chromedriver + 405054\n",
      "3   chromedriver                        0x00000001002df815 chromedriver + 735253\n",
      "4   chromedriver                        0x00000001002dfd11 chromedriver + 736529\n",
      "5   chromedriver                        0x000000010032a314 chromedriver + 1041172\n",
      "6   chromedriver                        0x000000010030489d chromedriver + 886941\n",
      "7   chromedriver                        0x00000001003273f4 chromedriver + 1029108\n",
      "8   chromedriver                        0x0000000100304613 chromedriver + 886291\n",
      "9   chromedriver                        0x00000001002d1950 chromedriver + 678224\n",
      "10  chromedriver                        0x00000001002d234e chromedriver + 680782\n",
      "11  chromedriver                        0x000000010085c700 chromedriver + 6489856\n",
      "12  chromedriver                        0x000000010085f1a9 chromedriver + 6500777\n",
      "13  chromedriver                        0x000000010085eccb chromedriver + 6499531\n",
      "14  chromedriver                        0x000000010085f635 chromedriver + 6501941\n",
      "15  chromedriver                        0x00000001008474b4 chromedriver + 6403252\n",
      "16  chromedriver                        0x000000010085f91f chromedriver + 6502687\n",
      "17  chromedriver                        0x00000001008388e4 chromedriver + 6342884\n",
      "18  chromedriver                        0x0000000100877308 chromedriver + 6599432\n",
      "19  chromedriver                        0x00000001008774c5 chromedriver + 6599877\n",
      "20  chromedriver                        0x00000001008867f8 chromedriver + 6662136\n",
      "21  libsystem_pthread.dylib             0x00007ff80b5b7253 _pthread_start + 99\n",
      "22  libsystem_pthread.dylib             0x00007ff80b5b2bef thread_start + 15\n",
      "\n",
      "Click failed for selector: //label[span[text()=\"Near Mint\"]]\n"
     ]
    },
    {
     "name": "stderr",
     "output_type": "stream",
     "text": [
      "Price Extraction:  60%|█████▉    | 2229/3739 [1:55:35<16:59:50, 40.52s/it, Processing bw5-106]"
     ]
    },
    {
     "name": "stdout",
     "output_type": "stream",
     "text": [
      "Click failed for //label[span[text()=\"Near Mint\"]]: Message: \n",
      "Stacktrace:\n",
      "0   chromedriver                        0x0000000100f7be12 chromedriver + 6696466\n",
      "1   chromedriver                        0x0000000100f73c2a chromedriver + 6663210\n",
      "2   chromedriver                        0x000000010097be3e chromedriver + 405054\n",
      "3   chromedriver                        0x00000001009cc815 chromedriver + 735253\n",
      "4   chromedriver                        0x00000001009ccd11 chromedriver + 736529\n",
      "5   chromedriver                        0x0000000100a17314 chromedriver + 1041172\n",
      "6   chromedriver                        0x00000001009f189d chromedriver + 886941\n",
      "7   chromedriver                        0x0000000100a143f4 chromedriver + 1029108\n",
      "8   chromedriver                        0x00000001009f1613 chromedriver + 886291\n",
      "9   chromedriver                        0x00000001009be950 chromedriver + 678224\n",
      "10  chromedriver                        0x00000001009bf34e chromedriver + 680782\n",
      "11  chromedriver                        0x0000000100f49700 chromedriver + 6489856\n",
      "12  chromedriver                        0x0000000100f4c1a9 chromedriver + 6500777\n",
      "13  chromedriver                        0x0000000100f4bccb chromedriver + 6499531\n",
      "14  chromedriver                        0x0000000100f4c635 chromedriver + 6501941\n",
      "15  chromedriver                        0x0000000100f344b4 chromedriver + 6403252\n",
      "16  chromedriver                        0x0000000100f4c91f chromedriver + 6502687\n",
      "17  chromedriver                        0x0000000100f258e4 chromedriver + 6342884\n",
      "18  chromedriver                        0x0000000100f64308 chromedriver + 6599432\n",
      "19  chromedriver                        0x0000000100f644c5 chromedriver + 6599877\n",
      "20  chromedriver                        0x0000000100f737f8 chromedriver + 6662136\n",
      "21  libsystem_pthread.dylib             0x00007ff80b5b7253 _pthread_start + 99\n",
      "22  libsystem_pthread.dylib             0x00007ff80b5b2bef thread_start + 15\n",
      "\n",
      "Click failed for selector: //label[span[text()=\"Near Mint\"]]\n"
     ]
    },
    {
     "name": "stderr",
     "output_type": "stream",
     "text": [
      "Price Extraction:  61%|██████    | 2270/3739 [2:05:30<7:23:24, 18.11s/it, Processing bw9-119]         "
     ]
    },
    {
     "name": "stdout",
     "output_type": "stream",
     "text": [
      "Click failed for //label[span[text()=\"Near Mint\"]]: Message: \n",
      "Stacktrace:\n",
      "0   chromedriver                        0x0000000102ac9e12 chromedriver + 6696466\n",
      "1   chromedriver                        0x0000000102ac1c2a chromedriver + 6663210\n",
      "2   chromedriver                        0x00000001024c9e3e chromedriver + 405054\n",
      "3   chromedriver                        0x000000010251a815 chromedriver + 735253\n",
      "4   chromedriver                        0x000000010251ad11 chromedriver + 736529\n",
      "5   chromedriver                        0x0000000102565314 chromedriver + 1041172\n",
      "6   chromedriver                        0x000000010253f89d chromedriver + 886941\n",
      "7   chromedriver                        0x00000001025623f4 chromedriver + 1029108\n",
      "8   chromedriver                        0x000000010253f613 chromedriver + 886291\n",
      "9   chromedriver                        0x000000010250c950 chromedriver + 678224\n",
      "10  chromedriver                        0x000000010250d34e chromedriver + 680782\n",
      "11  chromedriver                        0x0000000102a97700 chromedriver + 6489856\n",
      "12  chromedriver                        0x0000000102a9a1a9 chromedriver + 6500777\n",
      "13  chromedriver                        0x0000000102a99ccb chromedriver + 6499531\n",
      "14  chromedriver                        0x0000000102a9a635 chromedriver + 6501941\n",
      "15  chromedriver                        0x0000000102a824b4 chromedriver + 6403252\n",
      "16  chromedriver                        0x0000000102a9a91f chromedriver + 6502687\n",
      "17  chromedriver                        0x0000000102a738e4 chromedriver + 6342884\n",
      "18  chromedriver                        0x0000000102ab2308 chromedriver + 6599432\n",
      "19  chromedriver                        0x0000000102ab24c5 chromedriver + 6599877\n",
      "20  chromedriver                        0x0000000102ac17f8 chromedriver + 6662136\n",
      "21  libsystem_pthread.dylib             0x00007ff80b5b7253 _pthread_start + 99\n",
      "22  libsystem_pthread.dylib             0x00007ff80b5b2bef thread_start + 15\n",
      "\n",
      "Click failed for selector: //label[span[text()=\"Near Mint\"]]\n"
     ]
    },
    {
     "name": "stderr",
     "output_type": "stream",
     "text": [
      "Price Extraction:  61%|██████    | 2273/3739 [2:06:30<7:32:41, 18.53s/it, Processing bw5-111]        "
     ]
    },
    {
     "name": "stdout",
     "output_type": "stream",
     "text": [
      "Click failed for //label[span[text()=\"Near Mint\"]]: Message: \n",
      "Stacktrace:\n",
      "0   chromedriver                        0x00000001010d3e12 chromedriver + 6696466\n",
      "1   chromedriver                        0x00000001010cbc2a chromedriver + 6663210\n",
      "2   chromedriver                        0x0000000100ad3e3e chromedriver + 405054\n",
      "3   chromedriver                        0x0000000100b24815 chromedriver + 735253\n",
      "4   chromedriver                        0x0000000100b24d11 chromedriver + 736529\n",
      "5   chromedriver                        0x0000000100b6f314 chromedriver + 1041172\n",
      "6   chromedriver                        0x0000000100b4989d chromedriver + 886941\n",
      "7   chromedriver                        0x0000000100b6c3f4 chromedriver + 1029108\n",
      "8   chromedriver                        0x0000000100b49613 chromedriver + 886291\n",
      "9   chromedriver                        0x0000000100b16950 chromedriver + 678224\n",
      "10  chromedriver                        0x0000000100b1734e chromedriver + 680782\n",
      "11  chromedriver                        0x00000001010a1700 chromedriver + 6489856\n",
      "12  chromedriver                        0x00000001010a41a9 chromedriver + 6500777\n",
      "13  chromedriver                        0x00000001010a3ccb chromedriver + 6499531\n",
      "14  chromedriver                        0x00000001010a4635 chromedriver + 6501941\n",
      "15  chromedriver                        0x000000010108c4b4 chromedriver + 6403252\n",
      "16  chromedriver                        0x00000001010a491f chromedriver + 6502687\n",
      "17  chromedriver                        0x000000010107d8e4 chromedriver + 6342884\n",
      "18  chromedriver                        0x00000001010bc308 chromedriver + 6599432\n",
      "19  chromedriver                        0x00000001010bc4c5 chromedriver + 6599877\n",
      "20  chromedriver                        0x00000001010cb7f8 chromedriver + 6662136\n",
      "21  libsystem_pthread.dylib             0x00007ff80b5b7253 _pthread_start + 99\n",
      "22  libsystem_pthread.dylib             0x00007ff80b5b2bef thread_start + 15\n",
      "\n",
      "Click failed for selector: //label[span[text()=\"Near Mint\"]]\n"
     ]
    },
    {
     "name": "stderr",
     "output_type": "stream",
     "text": [
      "Price Extraction:  61%|██████    | 2279/3739 [2:08:39<12:37:21, 31.12s/it, Processing bw5-110]        "
     ]
    },
    {
     "name": "stdout",
     "output_type": "stream",
     "text": [
      "Click failed for //label[span[text()=\"Near Mint\"]]: Message: \n",
      "Stacktrace:\n",
      "0   chromedriver                        0x0000000102ee5e12 chromedriver + 6696466\n",
      "1   chromedriver                        0x0000000102eddc2a chromedriver + 6663210\n",
      "2   chromedriver                        0x00000001028e5e3e chromedriver + 405054\n",
      "3   chromedriver                        0x0000000102936815 chromedriver + 735253\n",
      "4   chromedriver                        0x0000000102936d11 chromedriver + 736529\n",
      "5   chromedriver                        0x0000000102981314 chromedriver + 1041172\n",
      "6   chromedriver                        0x000000010295b89d chromedriver + 886941\n",
      "7   chromedriver                        0x000000010297e3f4 chromedriver + 1029108\n",
      "8   chromedriver                        0x000000010295b613 chromedriver + 886291\n",
      "9   chromedriver                        0x0000000102928950 chromedriver + 678224\n",
      "10  chromedriver                        0x000000010292934e chromedriver + 680782\n",
      "11  chromedriver                        0x0000000102eb3700 chromedriver + 6489856\n",
      "12  chromedriver                        0x0000000102eb61a9 chromedriver + 6500777\n",
      "13  chromedriver                        0x0000000102eb5ccb chromedriver + 6499531\n",
      "14  chromedriver                        0x0000000102eb6635 chromedriver + 6501941\n",
      "15  chromedriver                        0x0000000102e9e4b4 chromedriver + 6403252\n",
      "16  chromedriver                        0x0000000102eb691f chromedriver + 6502687\n",
      "17  chromedriver                        0x0000000102e8f8e4 chromedriver + 6342884\n",
      "18  chromedriver                        0x0000000102ece308 chromedriver + 6599432\n",
      "19  chromedriver                        0x0000000102ece4c5 chromedriver + 6599877\n",
      "20  chromedriver                        0x0000000102edd7f8 chromedriver + 6662136\n",
      "21  libsystem_pthread.dylib             0x00007ff80b5b7253 _pthread_start + 99\n",
      "22  libsystem_pthread.dylib             0x00007ff80b5b2bef thread_start + 15\n",
      "\n",
      "Click failed for selector: //label[span[text()=\"Near Mint\"]]\n"
     ]
    },
    {
     "name": "stderr",
     "output_type": "stream",
     "text": [
      "Price Extraction:  62%|██████▏   | 2301/3739 [2:11:15<2:04:17,  5.19s/it, Processing ex10-117]        "
     ]
    },
    {
     "name": "stdout",
     "output_type": "stream",
     "text": [
      "Click failed for //label[span[text()=\"Near Mint\"]]: Message: \n",
      "Stacktrace:\n",
      "0   chromedriver                        0x0000000100f7fe12 chromedriver + 6696466\n",
      "1   chromedriver                        0x0000000100f77c2a chromedriver + 6663210\n",
      "2   chromedriver                        0x000000010097fe3e chromedriver + 405054\n",
      "3   chromedriver                        0x00000001009d0815 chromedriver + 735253\n",
      "4   chromedriver                        0x00000001009d0d11 chromedriver + 736529\n",
      "5   chromedriver                        0x0000000100a1b314 chromedriver + 1041172\n",
      "6   chromedriver                        0x00000001009f589d chromedriver + 886941\n",
      "7   chromedriver                        0x0000000100a183f4 chromedriver + 1029108\n",
      "8   chromedriver                        0x00000001009f5613 chromedriver + 886291\n",
      "9   chromedriver                        0x00000001009c2950 chromedriver + 678224\n",
      "10  chromedriver                        0x00000001009c334e chromedriver + 680782\n",
      "11  chromedriver                        0x0000000100f4d700 chromedriver + 6489856\n",
      "12  chromedriver                        0x0000000100f501a9 chromedriver + 6500777\n",
      "13  chromedriver                        0x0000000100f4fccb chromedriver + 6499531\n",
      "14  chromedriver                        0x0000000100f50635 chromedriver + 6501941\n",
      "15  chromedriver                        0x0000000100f384b4 chromedriver + 6403252\n",
      "16  chromedriver                        0x0000000100f5091f chromedriver + 6502687\n",
      "17  chromedriver                        0x0000000100f298e4 chromedriver + 6342884\n",
      "18  chromedriver                        0x0000000100f68308 chromedriver + 6599432\n",
      "19  chromedriver                        0x0000000100f684c5 chromedriver + 6599877\n",
      "20  chromedriver                        0x0000000100f777f8 chromedriver + 6662136\n",
      "21  libsystem_pthread.dylib             0x00007ff80b5b7253 _pthread_start + 99\n",
      "22  libsystem_pthread.dylib             0x00007ff80b5b2bef thread_start + 15\n",
      "\n",
      "Click failed for selector: //label[span[text()=\"Near Mint\"]]\n"
     ]
    },
    {
     "name": "stderr",
     "output_type": "stream",
     "text": [
      "Price Extraction:  62%|██████▏   | 2327/3739 [2:18:07<4:13:10, 10.76s/it, Processing bw6-122]       "
     ]
    },
    {
     "name": "stdout",
     "output_type": "stream",
     "text": [
      "Click failed for //label[span[text()=\"Near Mint\"]]: Message: \n",
      "Stacktrace:\n",
      "0   chromedriver                        0x00000001055b6e12 chromedriver + 6696466\n",
      "1   chromedriver                        0x00000001055aec2a chromedriver + 6663210\n",
      "2   chromedriver                        0x0000000104fb6e3e chromedriver + 405054\n",
      "3   chromedriver                        0x0000000105007815 chromedriver + 735253\n",
      "4   chromedriver                        0x0000000105007d11 chromedriver + 736529\n",
      "5   chromedriver                        0x0000000105052314 chromedriver + 1041172\n",
      "6   chromedriver                        0x000000010502c89d chromedriver + 886941\n",
      "7   chromedriver                        0x000000010504f3f4 chromedriver + 1029108\n",
      "8   chromedriver                        0x000000010502c613 chromedriver + 886291\n",
      "9   chromedriver                        0x0000000104ff9950 chromedriver + 678224\n",
      "10  chromedriver                        0x0000000104ffa34e chromedriver + 680782\n",
      "11  chromedriver                        0x0000000105584700 chromedriver + 6489856\n",
      "12  chromedriver                        0x00000001055871a9 chromedriver + 6500777\n",
      "13  chromedriver                        0x0000000105586ccb chromedriver + 6499531\n",
      "14  chromedriver                        0x0000000105587635 chromedriver + 6501941\n",
      "15  chromedriver                        0x000000010556f4b4 chromedriver + 6403252\n",
      "16  chromedriver                        0x000000010558791f chromedriver + 6502687\n",
      "17  chromedriver                        0x00000001055608e4 chromedriver + 6342884\n",
      "18  chromedriver                        0x000000010559f308 chromedriver + 6599432\n",
      "19  chromedriver                        0x000000010559f4c5 chromedriver + 6599877\n",
      "20  chromedriver                        0x00000001055ae7f8 chromedriver + 6662136\n",
      "21  libsystem_pthread.dylib             0x00007ff80b5b7253 _pthread_start + 99\n",
      "22  libsystem_pthread.dylib             0x00007ff80b5b2bef thread_start + 15\n",
      "\n",
      "Click failed for selector: //label[span[text()=\"Near Mint\"]]\n"
     ]
    },
    {
     "name": "stderr",
     "output_type": "stream",
     "text": [
      "Price Extraction:  62%|██████▏   | 2335/3739 [2:20:32<5:34:00, 14.27s/it, Processing pl1-124]        "
     ]
    },
    {
     "name": "stdout",
     "output_type": "stream",
     "text": [
      "Click failed for //label[span[text()=\"Near Mint\"]]: Message: \n",
      "Stacktrace:\n",
      "0   chromedriver                        0x000000010091ae12 chromedriver + 6696466\n",
      "1   chromedriver                        0x0000000100912c2a chromedriver + 6663210\n",
      "2   chromedriver                        0x000000010031ae3e chromedriver + 405054\n",
      "3   chromedriver                        0x000000010036b815 chromedriver + 735253\n",
      "4   chromedriver                        0x000000010036bd11 chromedriver + 736529\n",
      "5   chromedriver                        0x00000001003b6314 chromedriver + 1041172\n",
      "6   chromedriver                        0x000000010039089d chromedriver + 886941\n",
      "7   chromedriver                        0x00000001003b33f4 chromedriver + 1029108\n",
      "8   chromedriver                        0x0000000100390613 chromedriver + 886291\n",
      "9   chromedriver                        0x000000010035d950 chromedriver + 678224\n",
      "10  chromedriver                        0x000000010035e34e chromedriver + 680782\n",
      "11  chromedriver                        0x00000001008e8700 chromedriver + 6489856\n",
      "12  chromedriver                        0x00000001008eb1a9 chromedriver + 6500777\n",
      "13  chromedriver                        0x00000001008eaccb chromedriver + 6499531\n",
      "14  chromedriver                        0x00000001008eb635 chromedriver + 6501941\n",
      "15  chromedriver                        0x00000001008d34b4 chromedriver + 6403252\n",
      "16  chromedriver                        0x00000001008eb91f chromedriver + 6502687\n",
      "17  chromedriver                        0x00000001008c48e4 chromedriver + 6342884\n",
      "18  chromedriver                        0x0000000100903308 chromedriver + 6599432\n",
      "19  chromedriver                        0x00000001009034c5 chromedriver + 6599877\n",
      "20  chromedriver                        0x00000001009127f8 chromedriver + 6662136\n",
      "21  libsystem_pthread.dylib             0x00007ff80b5b7253 _pthread_start + 99\n",
      "22  libsystem_pthread.dylib             0x00007ff80b5b2bef thread_start + 15\n",
      "\n",
      "Click failed for selector: //label[span[text()=\"Near Mint\"]]\n"
     ]
    },
    {
     "name": "stderr",
     "output_type": "stream",
     "text": [
      "Price Extraction:  63%|██████▎   | 2347/3739 [2:23:06<5:15:49, 13.61s/it, Processing bw6-124]        "
     ]
    },
    {
     "name": "stdout",
     "output_type": "stream",
     "text": [
      "Click failed for //label[span[text()=\"Near Mint\"]]: Message: \n",
      "Stacktrace:\n",
      "0   chromedriver                        0x00000001055ece12 chromedriver + 6696466\n",
      "1   chromedriver                        0x00000001055e4c2a chromedriver + 6663210\n",
      "2   chromedriver                        0x0000000104fece3e chromedriver + 405054\n",
      "3   chromedriver                        0x000000010503d815 chromedriver + 735253\n",
      "4   chromedriver                        0x000000010503dd11 chromedriver + 736529\n",
      "5   chromedriver                        0x0000000105088314 chromedriver + 1041172\n",
      "6   chromedriver                        0x000000010506289d chromedriver + 886941\n",
      "7   chromedriver                        0x00000001050853f4 chromedriver + 1029108\n",
      "8   chromedriver                        0x0000000105062613 chromedriver + 886291\n",
      "9   chromedriver                        0x000000010502f950 chromedriver + 678224\n",
      "10  chromedriver                        0x000000010503034e chromedriver + 680782\n",
      "11  chromedriver                        0x00000001055ba700 chromedriver + 6489856\n",
      "12  chromedriver                        0x00000001055bd1a9 chromedriver + 6500777\n",
      "13  chromedriver                        0x00000001055bcccb chromedriver + 6499531\n",
      "14  chromedriver                        0x00000001055bd635 chromedriver + 6501941\n",
      "15  chromedriver                        0x00000001055a54b4 chromedriver + 6403252\n",
      "16  chromedriver                        0x00000001055bd91f chromedriver + 6502687\n",
      "17  chromedriver                        0x00000001055968e4 chromedriver + 6342884\n",
      "18  chromedriver                        0x00000001055d5308 chromedriver + 6599432\n",
      "19  chromedriver                        0x00000001055d54c5 chromedriver + 6599877\n",
      "20  chromedriver                        0x00000001055e47f8 chromedriver + 6662136\n",
      "21  libsystem_pthread.dylib             0x00007ff80b5b7253 _pthread_start + 99\n",
      "22  libsystem_pthread.dylib             0x00007ff80b5b2bef thread_start + 15\n",
      "\n",
      "Click failed for selector: //label[span[text()=\"Near Mint\"]]\n"
     ]
    },
    {
     "name": "stderr",
     "output_type": "stream",
     "text": [
      "Price Extraction:  64%|██████▍   | 2388/3739 [3:07:58<36:30:20, 97.28s/it, Processing bw6-125]       "
     ]
    },
    {
     "name": "stdout",
     "output_type": "stream",
     "text": [
      "Click failed for //label[span[text()=\"Near Mint\"]]: Message: \n",
      "Stacktrace:\n",
      "0   chromedriver                        0x0000000104cd6e12 chromedriver + 6696466\n",
      "1   chromedriver                        0x0000000104ccec2a chromedriver + 6663210\n",
      "2   chromedriver                        0x00000001046d6e3e chromedriver + 405054\n",
      "3   chromedriver                        0x0000000104727815 chromedriver + 735253\n",
      "4   chromedriver                        0x0000000104727d11 chromedriver + 736529\n",
      "5   chromedriver                        0x0000000104772314 chromedriver + 1041172\n",
      "6   chromedriver                        0x000000010474c89d chromedriver + 886941\n",
      "7   chromedriver                        0x000000010476f3f4 chromedriver + 1029108\n",
      "8   chromedriver                        0x000000010474c613 chromedriver + 886291\n",
      "9   chromedriver                        0x0000000104719950 chromedriver + 678224\n",
      "10  chromedriver                        0x000000010471a34e chromedriver + 680782\n",
      "11  chromedriver                        0x0000000104ca4700 chromedriver + 6489856\n",
      "12  chromedriver                        0x0000000104ca71a9 chromedriver + 6500777\n",
      "13  chromedriver                        0x0000000104ca6ccb chromedriver + 6499531\n",
      "14  chromedriver                        0x0000000104ca7635 chromedriver + 6501941\n",
      "15  chromedriver                        0x0000000104c8f4b4 chromedriver + 6403252\n",
      "16  chromedriver                        0x0000000104ca791f chromedriver + 6502687\n",
      "17  chromedriver                        0x0000000104c808e4 chromedriver + 6342884\n",
      "18  chromedriver                        0x0000000104cbf308 chromedriver + 6599432\n",
      "19  chromedriver                        0x0000000104cbf4c5 chromedriver + 6599877\n",
      "20  chromedriver                        0x0000000104cce7f8 chromedriver + 6662136\n",
      "21  libsystem_pthread.dylib             0x00007ff80b5b7253 _pthread_start + 99\n",
      "22  libsystem_pthread.dylib             0x00007ff80b5b2bef thread_start + 15\n",
      "\n",
      "Click failed for selector: //label[span[text()=\"Near Mint\"]]\n"
     ]
    },
    {
     "name": "stderr",
     "output_type": "stream",
     "text": [
      "Price Extraction:  64%|██████▍   | 2410/3739 [3:44:29<39:01:35, 105.71s/it, Processing dp6-140]"
     ]
    },
    {
     "name": "stdout",
     "output_type": "stream",
     "text": [
      "Click failed for //label[span[text()=\"Near Mint\"]]: Message: \n",
      "Stacktrace:\n",
      "0   chromedriver                        0x0000000100c5ee12 chromedriver + 6696466\n",
      "1   chromedriver                        0x0000000100c56c2a chromedriver + 6663210\n",
      "2   chromedriver                        0x000000010065ee3e chromedriver + 405054\n",
      "3   chromedriver                        0x00000001006af815 chromedriver + 735253\n",
      "4   chromedriver                        0x00000001006afd11 chromedriver + 736529\n",
      "5   chromedriver                        0x00000001006fa314 chromedriver + 1041172\n",
      "6   chromedriver                        0x00000001006d489d chromedriver + 886941\n",
      "7   chromedriver                        0x00000001006f73f4 chromedriver + 1029108\n",
      "8   chromedriver                        0x00000001006d4613 chromedriver + 886291\n",
      "9   chromedriver                        0x00000001006a1950 chromedriver + 678224\n",
      "10  chromedriver                        0x00000001006a234e chromedriver + 680782\n",
      "11  chromedriver                        0x0000000100c2c700 chromedriver + 6489856\n",
      "12  chromedriver                        0x0000000100c2f1a9 chromedriver + 6500777\n",
      "13  chromedriver                        0x0000000100c2eccb chromedriver + 6499531\n",
      "14  chromedriver                        0x0000000100c2f635 chromedriver + 6501941\n",
      "15  chromedriver                        0x0000000100c174b4 chromedriver + 6403252\n",
      "16  chromedriver                        0x0000000100c2f91f chromedriver + 6502687\n",
      "17  chromedriver                        0x0000000100c088e4 chromedriver + 6342884\n",
      "18  chromedriver                        0x0000000100c47308 chromedriver + 6599432\n",
      "19  chromedriver                        0x0000000100c474c5 chromedriver + 6599877\n",
      "20  chromedriver                        0x0000000100c567f8 chromedriver + 6662136\n",
      "21  libsystem_pthread.dylib             0x00007ff80b5b7253 _pthread_start + 99\n",
      "22  libsystem_pthread.dylib             0x00007ff80b5b2bef thread_start + 15\n",
      "\n",
      "Click failed for selector: //label[span[text()=\"Near Mint\"]]\n"
     ]
    },
    {
     "name": "stderr",
     "output_type": "stream",
     "text": [
      "Price Extraction:  65%|██████▌   | 2440/3739 [4:37:40<39:38:28, 109.86s/it, Processing xy5-154]  "
     ]
    },
    {
     "name": "stdout",
     "output_type": "stream",
     "text": [
      "Click failed for //label[span[text()=\"Near Mint\"]]: Message: \n",
      "Stacktrace:\n",
      "0   chromedriver                        0x0000000105044e12 chromedriver + 6696466\n",
      "1   chromedriver                        0x000000010503cc2a chromedriver + 6663210\n",
      "2   chromedriver                        0x0000000104a44e3e chromedriver + 405054\n",
      "3   chromedriver                        0x0000000104a95815 chromedriver + 735253\n",
      "4   chromedriver                        0x0000000104a95d11 chromedriver + 736529\n",
      "5   chromedriver                        0x0000000104ae0314 chromedriver + 1041172\n",
      "6   chromedriver                        0x0000000104aba89d chromedriver + 886941\n",
      "7   chromedriver                        0x0000000104add3f4 chromedriver + 1029108\n",
      "8   chromedriver                        0x0000000104aba613 chromedriver + 886291\n",
      "9   chromedriver                        0x0000000104a87950 chromedriver + 678224\n",
      "10  chromedriver                        0x0000000104a8834e chromedriver + 680782\n",
      "11  chromedriver                        0x0000000105012700 chromedriver + 6489856\n",
      "12  chromedriver                        0x00000001050151a9 chromedriver + 6500777\n",
      "13  chromedriver                        0x0000000105014ccb chromedriver + 6499531\n",
      "14  chromedriver                        0x0000000105015635 chromedriver + 6501941\n",
      "15  chromedriver                        0x0000000104ffd4b4 chromedriver + 6403252\n",
      "16  chromedriver                        0x000000010501591f chromedriver + 6502687\n",
      "17  chromedriver                        0x0000000104fee8e4 chromedriver + 6342884\n",
      "18  chromedriver                        0x000000010502d308 chromedriver + 6599432\n",
      "19  chromedriver                        0x000000010502d4c5 chromedriver + 6599877\n",
      "20  chromedriver                        0x000000010503c7f8 chromedriver + 6662136\n",
      "21  libsystem_pthread.dylib             0x00007ff80b5b7253 _pthread_start + 99\n",
      "22  libsystem_pthread.dylib             0x00007ff80b5b2bef thread_start + 15\n",
      "\n",
      "Click failed for selector: //label[span[text()=\"Near Mint\"]]\n"
     ]
    },
    {
     "name": "stderr",
     "output_type": "stream",
     "text": [
      "Price Extraction:  66%|██████▌   | 2454/3739 [5:02:36<40:23:57, 113.18s/it, Processing bw7-151]  "
     ]
    },
    {
     "name": "stdout",
     "output_type": "stream",
     "text": [
      "Click failed for //label[span[text()=\"Near Mint\"]]: Message: \n",
      "Stacktrace:\n",
      "0   chromedriver                        0x0000000101022e12 chromedriver + 6696466\n",
      "1   chromedriver                        0x000000010101ac2a chromedriver + 6663210\n",
      "2   chromedriver                        0x0000000100a22e3e chromedriver + 405054\n",
      "3   chromedriver                        0x0000000100a73815 chromedriver + 735253\n",
      "4   chromedriver                        0x0000000100a73d11 chromedriver + 736529\n",
      "5   chromedriver                        0x0000000100abe314 chromedriver + 1041172\n",
      "6   chromedriver                        0x0000000100a9889d chromedriver + 886941\n",
      "7   chromedriver                        0x0000000100abb3f4 chromedriver + 1029108\n",
      "8   chromedriver                        0x0000000100a98613 chromedriver + 886291\n",
      "9   chromedriver                        0x0000000100a65950 chromedriver + 678224\n",
      "10  chromedriver                        0x0000000100a6634e chromedriver + 680782\n",
      "11  chromedriver                        0x0000000100ff0700 chromedriver + 6489856\n",
      "12  chromedriver                        0x0000000100ff31a9 chromedriver + 6500777\n",
      "13  chromedriver                        0x0000000100ff2ccb chromedriver + 6499531\n",
      "14  chromedriver                        0x0000000100ff3635 chromedriver + 6501941\n",
      "15  chromedriver                        0x0000000100fdb4b4 chromedriver + 6403252\n",
      "16  chromedriver                        0x0000000100ff391f chromedriver + 6502687\n",
      "17  chromedriver                        0x0000000100fcc8e4 chromedriver + 6342884\n",
      "18  chromedriver                        0x000000010100b308 chromedriver + 6599432\n",
      "19  chromedriver                        0x000000010100b4c5 chromedriver + 6599877\n",
      "20  chromedriver                        0x000000010101a7f8 chromedriver + 6662136\n",
      "21  libsystem_pthread.dylib             0x00007ff80b5b7253 _pthread_start + 99\n",
      "22  libsystem_pthread.dylib             0x00007ff80b5b2bef thread_start + 15\n",
      "\n",
      "Click failed for selector: //label[span[text()=\"Near Mint\"]]\n"
     ]
    },
    {
     "name": "stderr",
     "output_type": "stream",
     "text": [
      "Price Extraction:  66%|██████▌   | 2463/3739 [5:18:00<39:14:44, 110.72s/it, Processing pl1-SH6]  "
     ]
    },
    {
     "name": "stdout",
     "output_type": "stream",
     "text": [
      "Click failed for //label[span[text()=\"Near Mint\"]]: Message: \n",
      "Stacktrace:\n",
      "0   chromedriver                        0x0000000100a7ae12 chromedriver + 6696466\n",
      "1   chromedriver                        0x0000000100a72c2a chromedriver + 6663210\n",
      "2   chromedriver                        0x000000010047ae3e chromedriver + 405054\n",
      "3   chromedriver                        0x00000001004cb815 chromedriver + 735253\n",
      "4   chromedriver                        0x00000001004cbd11 chromedriver + 736529\n",
      "5   chromedriver                        0x0000000100516314 chromedriver + 1041172\n",
      "6   chromedriver                        0x00000001004f089d chromedriver + 886941\n",
      "7   chromedriver                        0x00000001005133f4 chromedriver + 1029108\n",
      "8   chromedriver                        0x00000001004f0613 chromedriver + 886291\n",
      "9   chromedriver                        0x00000001004bd950 chromedriver + 678224\n",
      "10  chromedriver                        0x00000001004be34e chromedriver + 680782\n",
      "11  chromedriver                        0x0000000100a48700 chromedriver + 6489856\n",
      "12  chromedriver                        0x0000000100a4b1a9 chromedriver + 6500777\n",
      "13  chromedriver                        0x0000000100a4accb chromedriver + 6499531\n",
      "14  chromedriver                        0x0000000100a4b635 chromedriver + 6501941\n",
      "15  chromedriver                        0x0000000100a334b4 chromedriver + 6403252\n",
      "16  chromedriver                        0x0000000100a4b91f chromedriver + 6502687\n",
      "17  chromedriver                        0x0000000100a248e4 chromedriver + 6342884\n",
      "18  chromedriver                        0x0000000100a63308 chromedriver + 6599432\n",
      "19  chromedriver                        0x0000000100a634c5 chromedriver + 6599877\n",
      "20  chromedriver                        0x0000000100a727f8 chromedriver + 6662136\n",
      "21  libsystem_pthread.dylib             0x00007ff80b5b7253 _pthread_start + 99\n",
      "22  libsystem_pthread.dylib             0x00007ff80b5b2bef thread_start + 15\n",
      "\n",
      "Click failed for selector: //label[span[text()=\"Near Mint\"]]\n"
     ]
    },
    {
     "name": "stderr",
     "output_type": "stream",
     "text": [
      "Price Extraction:  66%|██████▋   | 2481/3739 [5:48:25<39:59:19, 114.43s/it, Processing bw8-137]  "
     ]
    },
    {
     "name": "stdout",
     "output_type": "stream",
     "text": [
      "Click failed for //label[span[text()=\"Near Mint\"]]: Message: \n",
      "Stacktrace:\n",
      "0   chromedriver                        0x0000000101605e12 chromedriver + 6696466\n",
      "1   chromedriver                        0x00000001015fdc2a chromedriver + 6663210\n",
      "2   chromedriver                        0x0000000101005e3e chromedriver + 405054\n",
      "3   chromedriver                        0x0000000101056815 chromedriver + 735253\n",
      "4   chromedriver                        0x0000000101056d11 chromedriver + 736529\n",
      "5   chromedriver                        0x00000001010a1314 chromedriver + 1041172\n",
      "6   chromedriver                        0x000000010107b89d chromedriver + 886941\n",
      "7   chromedriver                        0x000000010109e3f4 chromedriver + 1029108\n",
      "8   chromedriver                        0x000000010107b613 chromedriver + 886291\n",
      "9   chromedriver                        0x0000000101048950 chromedriver + 678224\n",
      "10  chromedriver                        0x000000010104934e chromedriver + 680782\n",
      "11  chromedriver                        0x00000001015d3700 chromedriver + 6489856\n",
      "12  chromedriver                        0x00000001015d61a9 chromedriver + 6500777\n",
      "13  chromedriver                        0x00000001015d5ccb chromedriver + 6499531\n",
      "14  chromedriver                        0x00000001015d6635 chromedriver + 6501941\n",
      "15  chromedriver                        0x00000001015be4b4 chromedriver + 6403252\n",
      "16  chromedriver                        0x00000001015d691f chromedriver + 6502687\n",
      "17  chromedriver                        0x00000001015af8e4 chromedriver + 6342884\n",
      "18  chromedriver                        0x00000001015ee308 chromedriver + 6599432\n",
      "19  chromedriver                        0x00000001015ee4c5 chromedriver + 6599877\n",
      "20  chromedriver                        0x00000001015fd7f8 chromedriver + 6662136\n",
      "21  libsystem_pthread.dylib             0x00007ff80b5b7253 _pthread_start + 99\n",
      "22  libsystem_pthread.dylib             0x00007ff80b5b2bef thread_start + 15\n",
      "\n",
      "Click failed for selector: //label[span[text()=\"Near Mint\"]]\n"
     ]
    },
    {
     "name": "stderr",
     "output_type": "stream",
     "text": [
      "Price Extraction:  66%|██████▋   | 2484/3739 [5:54:19<41:56:30, 120.31s/it, Processing xy5-156]"
     ]
    },
    {
     "name": "stdout",
     "output_type": "stream",
     "text": [
      "Click failed for //label[span[text()=\"Near Mint\"]]: Message: \n",
      "Stacktrace:\n",
      "0   chromedriver                        0x0000000101247e12 chromedriver + 6696466\n",
      "1   chromedriver                        0x000000010123fc2a chromedriver + 6663210\n",
      "2   chromedriver                        0x0000000100c47e3e chromedriver + 405054\n",
      "3   chromedriver                        0x0000000100c98815 chromedriver + 735253\n",
      "4   chromedriver                        0x0000000100c98d11 chromedriver + 736529\n",
      "5   chromedriver                        0x0000000100ce3314 chromedriver + 1041172\n",
      "6   chromedriver                        0x0000000100cbd89d chromedriver + 886941\n",
      "7   chromedriver                        0x0000000100ce03f4 chromedriver + 1029108\n",
      "8   chromedriver                        0x0000000100cbd613 chromedriver + 886291\n",
      "9   chromedriver                        0x0000000100c8a950 chromedriver + 678224\n",
      "10  chromedriver                        0x0000000100c8b34e chromedriver + 680782\n",
      "11  chromedriver                        0x0000000101215700 chromedriver + 6489856\n",
      "12  chromedriver                        0x00000001012181a9 chromedriver + 6500777\n",
      "13  chromedriver                        0x0000000101217ccb chromedriver + 6499531\n",
      "14  chromedriver                        0x0000000101218635 chromedriver + 6501941\n",
      "15  chromedriver                        0x00000001012004b4 chromedriver + 6403252\n",
      "16  chromedriver                        0x000000010121891f chromedriver + 6502687\n",
      "17  chromedriver                        0x00000001011f18e4 chromedriver + 6342884\n",
      "18  chromedriver                        0x0000000101230308 chromedriver + 6599432\n",
      "19  chromedriver                        0x00000001012304c5 chromedriver + 6599877\n",
      "20  chromedriver                        0x000000010123f7f8 chromedriver + 6662136\n",
      "21  libsystem_pthread.dylib             0x00007ff80b5b7253 _pthread_start + 99\n",
      "22  libsystem_pthread.dylib             0x00007ff80b5b2bef thread_start + 15\n",
      "\n",
      "Click failed for selector: //label[span[text()=\"Near Mint\"]]\n"
     ]
    },
    {
     "name": "stderr",
     "output_type": "stream",
     "text": [
      "Price Extraction:  67%|██████▋   | 2498/3739 [6:19:05<40:13:24, 116.68s/it, Processing xyp-XY133] "
     ]
    },
    {
     "name": "stdout",
     "output_type": "stream",
     "text": [
      "Click failed for //label[span[text()=\"Near Mint\"]]: Message: \n",
      "Stacktrace:\n",
      "0   chromedriver                        0x00000001034d0e12 chromedriver + 6696466\n",
      "1   chromedriver                        0x00000001034c8c2a chromedriver + 6663210\n",
      "2   chromedriver                        0x0000000102ed0e3e chromedriver + 405054\n",
      "3   chromedriver                        0x0000000102f21815 chromedriver + 735253\n",
      "4   chromedriver                        0x0000000102f21d11 chromedriver + 736529\n",
      "5   chromedriver                        0x0000000102f6c314 chromedriver + 1041172\n",
      "6   chromedriver                        0x0000000102f4689d chromedriver + 886941\n",
      "7   chromedriver                        0x0000000102f693f4 chromedriver + 1029108\n",
      "8   chromedriver                        0x0000000102f46613 chromedriver + 886291\n",
      "9   chromedriver                        0x0000000102f13950 chromedriver + 678224\n",
      "10  chromedriver                        0x0000000102f1434e chromedriver + 680782\n",
      "11  chromedriver                        0x000000010349e700 chromedriver + 6489856\n",
      "12  chromedriver                        0x00000001034a11a9 chromedriver + 6500777\n",
      "13  chromedriver                        0x00000001034a0ccb chromedriver + 6499531\n",
      "14  chromedriver                        0x00000001034a1635 chromedriver + 6501941\n",
      "15  chromedriver                        0x00000001034894b4 chromedriver + 6403252\n",
      "16  chromedriver                        0x00000001034a191f chromedriver + 6502687\n",
      "17  chromedriver                        0x000000010347a8e4 chromedriver + 6342884\n",
      "18  chromedriver                        0x00000001034b9308 chromedriver + 6599432\n",
      "19  chromedriver                        0x00000001034b94c5 chromedriver + 6599877\n",
      "20  chromedriver                        0x00000001034c87f8 chromedriver + 6662136\n",
      "21  libsystem_pthread.dylib             0x00007ff80b5b7253 _pthread_start + 99\n",
      "22  libsystem_pthread.dylib             0x00007ff80b5b2bef thread_start + 15\n",
      "\n",
      "Click failed for selector: //label[span[text()=\"Near Mint\"]]\n"
     ]
    },
    {
     "name": "stderr",
     "output_type": "stream",
     "text": [
      "Price Extraction:  67%|██████▋   | 2509/3739 [6:36:32<36:31:22, 106.90s/it, Processing bw7-147]  "
     ]
    },
    {
     "name": "stdout",
     "output_type": "stream",
     "text": [
      "Click failed for //label[span[text()=\"Near Mint\"]]: Message: \n",
      "Stacktrace:\n",
      "0   chromedriver                        0x0000000100958e12 chromedriver + 6696466\n",
      "1   chromedriver                        0x0000000100950c2a chromedriver + 6663210\n",
      "2   chromedriver                        0x0000000100358e3e chromedriver + 405054\n",
      "3   chromedriver                        0x00000001003a9815 chromedriver + 735253\n",
      "4   chromedriver                        0x00000001003a9d11 chromedriver + 736529\n",
      "5   chromedriver                        0x00000001003f4314 chromedriver + 1041172\n",
      "6   chromedriver                        0x00000001003ce89d chromedriver + 886941\n",
      "7   chromedriver                        0x00000001003f13f4 chromedriver + 1029108\n",
      "8   chromedriver                        0x00000001003ce613 chromedriver + 886291\n",
      "9   chromedriver                        0x000000010039b950 chromedriver + 678224\n",
      "10  chromedriver                        0x000000010039c34e chromedriver + 680782\n",
      "11  chromedriver                        0x0000000100926700 chromedriver + 6489856\n",
      "12  chromedriver                        0x00000001009291a9 chromedriver + 6500777\n",
      "13  chromedriver                        0x0000000100928ccb chromedriver + 6499531\n",
      "14  chromedriver                        0x0000000100929635 chromedriver + 6501941\n",
      "15  chromedriver                        0x00000001009114b4 chromedriver + 6403252\n",
      "16  chromedriver                        0x000000010092991f chromedriver + 6502687\n",
      "17  chromedriver                        0x00000001009028e4 chromedriver + 6342884\n",
      "18  chromedriver                        0x0000000100941308 chromedriver + 6599432\n",
      "19  chromedriver                        0x00000001009414c5 chromedriver + 6599877\n",
      "20  chromedriver                        0x00000001009507f8 chromedriver + 6662136\n",
      "21  libsystem_pthread.dylib             0x00007ff80b5b7253 _pthread_start + 99\n",
      "22  libsystem_pthread.dylib             0x00007ff80b5b2bef thread_start + 15\n",
      "\n",
      "Click failed for selector: //label[span[text()=\"Near Mint\"]]\n"
     ]
    },
    {
     "name": "stderr",
     "output_type": "stream",
     "text": [
      "Price Extraction:  68%|██████▊   | 2535/3739 [7:19:18<36:01:28, 107.71s/it, Processing sm6-137]     "
     ]
    },
    {
     "name": "stdout",
     "output_type": "stream",
     "text": [
      "Click failed for //label[span[text()=\"Near Mint\"]]: Message: \n",
      "Stacktrace:\n",
      "0   chromedriver                        0x000000010080ce12 chromedriver + 6696466\n",
      "1   chromedriver                        0x0000000100804c2a chromedriver + 6663210\n",
      "2   chromedriver                        0x000000010020ce3e chromedriver + 405054\n",
      "3   chromedriver                        0x000000010025d815 chromedriver + 735253\n",
      "4   chromedriver                        0x000000010025dd11 chromedriver + 736529\n",
      "5   chromedriver                        0x00000001002a8314 chromedriver + 1041172\n",
      "6   chromedriver                        0x000000010028289d chromedriver + 886941\n",
      "7   chromedriver                        0x00000001002a53f4 chromedriver + 1029108\n",
      "8   chromedriver                        0x0000000100282613 chromedriver + 886291\n",
      "9   chromedriver                        0x000000010024f950 chromedriver + 678224\n",
      "10  chromedriver                        0x000000010025034e chromedriver + 680782\n",
      "11  chromedriver                        0x00000001007da700 chromedriver + 6489856\n",
      "12  chromedriver                        0x00000001007dd1a9 chromedriver + 6500777\n",
      "13  chromedriver                        0x00000001007dcccb chromedriver + 6499531\n",
      "14  chromedriver                        0x00000001007dd635 chromedriver + 6501941\n",
      "15  chromedriver                        0x00000001007c54b4 chromedriver + 6403252\n",
      "16  chromedriver                        0x00000001007dd91f chromedriver + 6502687\n",
      "17  chromedriver                        0x00000001007b68e4 chromedriver + 6342884\n",
      "18  chromedriver                        0x00000001007f5308 chromedriver + 6599432\n",
      "19  chromedriver                        0x00000001007f54c5 chromedriver + 6599877\n",
      "20  chromedriver                        0x00000001008047f8 chromedriver + 6662136\n",
      "21  libsystem_pthread.dylib             0x00007ff80b5b7253 _pthread_start + 99\n",
      "22  libsystem_pthread.dylib             0x00007ff80b5b2bef thread_start + 15\n",
      "\n",
      "Click failed for selector: //label[span[text()=\"Near Mint\"]]\n"
     ]
    },
    {
     "name": "stderr",
     "output_type": "stream",
     "text": [
      "Price Extraction:  71%|███████▏  | 2667/3739 [10:59:45<26:40:26, 89.58s/it, Processing sm9-170]    "
     ]
    },
    {
     "name": "stdout",
     "output_type": "stream",
     "text": [
      "Erreur d'extraction : could not convert string to float: '1,062.29'\n",
      "Erreur d'extraction : Message: no such element: Unable to locate element: {\"method\":\"css selector\",\"selector\":\".text\"}\n",
      "  (Session info: chrome=131.0.6778.140); For documentation on this error, please visit: https://www.selenium.dev/documentation/webdriver/troubleshooting/errors#no-such-element-exception\n",
      "Stacktrace:\n",
      "0   chromedriver                        0x0000000105640e12 chromedriver + 6696466\n",
      "1   chromedriver                        0x0000000105638c2a chromedriver + 6663210\n",
      "2   chromedriver                        0x0000000105040e3e chromedriver + 405054\n",
      "3   chromedriver                        0x0000000105091815 chromedriver + 735253\n",
      "4   chromedriver                        0x0000000105091d11 chromedriver + 736529\n",
      "5   chromedriver                        0x00000001050852c6 chromedriver + 684742\n",
      "6   chromedriver                        0x00000001050b689d chromedriver + 886941\n",
      "7   chromedriver                        0x00000001050851c8 chromedriver + 684488\n",
      "8   chromedriver                        0x00000001050b6a2e chromedriver + 887342\n",
      "9   chromedriver                        0x00000001050d93f4 chromedriver + 1029108\n",
      "10  chromedriver                        0x00000001050b6613 chromedriver + 886291\n",
      "11  chromedriver                        0x0000000105083950 chromedriver + 678224\n",
      "12  chromedriver                        0x000000010508434e chromedriver + 680782\n",
      "13  chromedriver                        0x000000010560e700 chromedriver + 6489856\n",
      "14  chromedriver                        0x00000001056111a9 chromedriver + 6500777\n",
      "15  chromedriver                        0x0000000105610ccb chromedriver + 6499531\n",
      "16  chromedriver                        0x0000000105611635 chromedriver + 6501941\n",
      "17  chromedriver                        0x00000001055f94b4 chromedriver + 6403252\n",
      "18  chromedriver                        0x000000010561191f chromedriver + 6502687\n",
      "19  chromedriver                        0x00000001055ea8e4 chromedriver + 6342884\n",
      "20  chromedriver                        0x0000000105629308 chromedriver + 6599432\n",
      "21  chromedriver                        0x00000001056294c5 chromedriver + 6599877\n",
      "22  chromedriver                        0x00000001056387f8 chromedriver + 6662136\n",
      "23  libsystem_pthread.dylib             0x00007ff80b5b7253 _pthread_start + 99\n",
      "24  libsystem_pthread.dylib             0x00007ff80b5b2bef thread_start + 15\n",
      "\n"
     ]
    },
    {
     "name": "stderr",
     "output_type": "stream",
     "text": [
      "Price Extraction:  73%|███████▎  | 2720/3739 [12:30:38<27:43:31, 97.95s/it, Processing sm5-170]    "
     ]
    },
    {
     "name": "stdout",
     "output_type": "stream",
     "text": [
      "An error occurred: Message: \n",
      "Stacktrace:\n",
      "0   chromedriver                        0x0000000100da2e12 chromedriver + 6696466\n",
      "1   chromedriver                        0x0000000100d9ac2a chromedriver + 6663210\n",
      "2   chromedriver                        0x00000001007a2e3e chromedriver + 405054\n",
      "3   chromedriver                        0x00000001007f3815 chromedriver + 735253\n",
      "4   chromedriver                        0x00000001007f3d11 chromedriver + 736529\n",
      "5   chromedriver                        0x000000010083e314 chromedriver + 1041172\n",
      "6   chromedriver                        0x000000010081889d chromedriver + 886941\n",
      "7   chromedriver                        0x000000010083b3f4 chromedriver + 1029108\n",
      "8   chromedriver                        0x0000000100818613 chromedriver + 886291\n",
      "9   chromedriver                        0x00000001007e5950 chromedriver + 678224\n",
      "10  chromedriver                        0x00000001007e634e chromedriver + 680782\n",
      "11  chromedriver                        0x0000000100d70700 chromedriver + 6489856\n",
      "12  chromedriver                        0x0000000100d731a9 chromedriver + 6500777\n",
      "13  chromedriver                        0x0000000100d72ccb chromedriver + 6499531\n",
      "14  chromedriver                        0x0000000100d73635 chromedriver + 6501941\n",
      "15  chromedriver                        0x0000000100d5b4b4 chromedriver + 6403252\n",
      "16  chromedriver                        0x0000000100d7391f chromedriver + 6502687\n",
      "17  chromedriver                        0x0000000100d4c8e4 chromedriver + 6342884\n",
      "18  chromedriver                        0x0000000100d8b308 chromedriver + 6599432\n",
      "19  chromedriver                        0x0000000100d8b4c5 chromedriver + 6599877\n",
      "20  chromedriver                        0x0000000100d9a7f8 chromedriver + 6662136\n",
      "21  libsystem_pthread.dylib             0x00007ff80b5b7253 _pthread_start + 99\n",
      "22  libsystem_pthread.dylib             0x00007ff80b5b2bef thread_start + 15\n",
      "\n"
     ]
    },
    {
     "name": "stderr",
     "output_type": "stream",
     "text": [
      "Price Extraction:  73%|███████▎  | 2722/3739 [12:34:05<29:12:15, 103.38s/it, Processing sm7-174] "
     ]
    },
    {
     "name": "stdout",
     "output_type": "stream",
     "text": [
      "Click failed for //label[span[text()=\"Near Mint\"]]: Message: \n",
      "Stacktrace:\n",
      "0   chromedriver                        0x0000000104767e12 chromedriver + 6696466\n",
      "1   chromedriver                        0x000000010475fc2a chromedriver + 6663210\n",
      "2   chromedriver                        0x0000000104167e3e chromedriver + 405054\n",
      "3   chromedriver                        0x00000001041b8815 chromedriver + 735253\n",
      "4   chromedriver                        0x00000001041b8d11 chromedriver + 736529\n",
      "5   chromedriver                        0x0000000104203314 chromedriver + 1041172\n",
      "6   chromedriver                        0x00000001041dd89d chromedriver + 886941\n",
      "7   chromedriver                        0x00000001042003f4 chromedriver + 1029108\n",
      "8   chromedriver                        0x00000001041dd613 chromedriver + 886291\n",
      "9   chromedriver                        0x00000001041aa950 chromedriver + 678224\n",
      "10  chromedriver                        0x00000001041ab34e chromedriver + 680782\n",
      "11  chromedriver                        0x0000000104735700 chromedriver + 6489856\n",
      "12  chromedriver                        0x00000001047381a9 chromedriver + 6500777\n",
      "13  chromedriver                        0x0000000104737ccb chromedriver + 6499531\n",
      "14  chromedriver                        0x0000000104738635 chromedriver + 6501941\n",
      "15  chromedriver                        0x00000001047204b4 chromedriver + 6403252\n",
      "16  chromedriver                        0x000000010473891f chromedriver + 6502687\n",
      "17  chromedriver                        0x00000001047118e4 chromedriver + 6342884\n",
      "18  chromedriver                        0x0000000104750308 chromedriver + 6599432\n",
      "19  chromedriver                        0x00000001047504c5 chromedriver + 6599877\n",
      "20  chromedriver                        0x000000010475f7f8 chromedriver + 6662136\n",
      "21  libsystem_pthread.dylib             0x00007ff80b5b7253 _pthread_start + 99\n",
      "22  libsystem_pthread.dylib             0x00007ff80b5b2bef thread_start + 15\n",
      "\n",
      "Click failed for selector: //label[span[text()=\"Near Mint\"]]\n"
     ]
    },
    {
     "name": "stderr",
     "output_type": "stream",
     "text": [
      "Price Extraction:  75%|███████▌  | 2821/3739 [15:21:42<4:59:56, 19.60s/it, Processing swsh2-195]         \n"
     ]
    },
    {
     "ename": "KeyboardInterrupt",
     "evalue": "",
     "output_type": "error",
     "traceback": [
      "\u001b[0;31m---------------------------------------------------------------------------\u001b[0m",
      "\u001b[0;31mKeyboardInterrupt\u001b[0m                         Traceback (most recent call last)",
      "Cell \u001b[0;32mIn[3], line 1\u001b[0m\n\u001b[0;32m----> 1\u001b[0m \u001b[43msave_historic_prices\u001b[49m\u001b[43m(\u001b[49m\u001b[43mdf\u001b[49m\u001b[43m)\u001b[49m\n",
      "File \u001b[0;32m~/GitProjects/Portfolio_Pokemon_Card/GetHistoricCardPrices.py:372\u001b[0m, in \u001b[0;36msave_historic_prices\u001b[0;34m(cards_df, output_dir)\u001b[0m\n\u001b[1;32m    369\u001b[0m     \u001b[38;5;28;01mcontinue\u001b[39;00m\n\u001b[1;32m    371\u001b[0m \u001b[38;5;28;01mtry\u001b[39;00m:\n\u001b[0;32m--> 372\u001b[0m     html_content, card_state \u001b[38;5;241m=\u001b[39m \u001b[43mget_html_content\u001b[49m\u001b[43m(\u001b[49m\n\u001b[1;32m    373\u001b[0m \u001b[43m        \u001b[49m\u001b[38;5;124;43mf\u001b[39;49m\u001b[38;5;124;43m\"\u001b[39;49m\u001b[38;5;124;43mhttps://prices.pokemontcg.io/tcgplayer/\u001b[39;49m\u001b[38;5;132;43;01m{\u001b[39;49;00m\u001b[43mcard_id\u001b[49m\u001b[38;5;132;43;01m}\u001b[39;49;00m\u001b[38;5;124;43m\"\u001b[39;49m\u001b[43m)\u001b[49m\n\u001b[1;32m    375\u001b[0m     \u001b[38;5;28;01mif\u001b[39;00m html_content \u001b[38;5;129;01mand\u001b[39;00m card_state:\n\u001b[1;32m    376\u001b[0m         price_history \u001b[38;5;241m=\u001b[39m extract_price_history(html_content, card_state)\n",
      "File \u001b[0;32m~/GitProjects/Portfolio_Pokemon_Card/GetHistoricCardPrices.py:236\u001b[0m, in \u001b[0;36mget_html_content\u001b[0;34m(website)\u001b[0m\n\u001b[1;32m    233\u001b[0m         \u001b[38;5;28;01mreturn\u001b[39;00m \u001b[38;5;28;01mNone\u001b[39;00m, \u001b[38;5;28;01mNone\u001b[39;00m\n\u001b[1;32m    235\u001b[0m state_selector \u001b[38;5;241m=\u001b[39m \u001b[38;5;124mf\u001b[39m\u001b[38;5;124m'\u001b[39m\u001b[38;5;124m//span[@class=\u001b[39m\u001b[38;5;124m\"\u001b[39m\u001b[38;5;124mcheckbox__option-value checkbox__option-value-mobile\u001b[39m\u001b[38;5;124m\"\u001b[39m\u001b[38;5;124m and text()=\u001b[39m\u001b[38;5;124m\"\u001b[39m\u001b[38;5;132;01m{\u001b[39;00mselected_state\u001b[38;5;132;01m}\u001b[39;00m\u001b[38;5;124m\"\u001b[39m\u001b[38;5;124m]\u001b[39m\u001b[38;5;124m'\u001b[39m\n\u001b[0;32m--> 236\u001b[0m \u001b[38;5;28;01mif\u001b[39;00m \u001b[38;5;129;01mnot\u001b[39;00m \u001b[43mtest_button_click\u001b[49m\u001b[43m(\u001b[49m\u001b[43mdriver\u001b[49m\u001b[43m,\u001b[49m\u001b[43m \u001b[49m\u001b[43mwait\u001b[49m\u001b[43m,\u001b[49m\u001b[43m \u001b[49m\u001b[43mstate_selector\u001b[49m\u001b[43m,\u001b[49m\u001b[43m \u001b[49m\u001b[43mBy\u001b[49m\u001b[38;5;241;43m.\u001b[39;49m\u001b[43mXPATH\u001b[49m\u001b[43m)\u001b[49m:\n\u001b[1;32m    237\u001b[0m     \u001b[38;5;28mprint\u001b[39m(\u001b[38;5;124mf\u001b[39m\u001b[38;5;124m\"\u001b[39m\u001b[38;5;124mClick failed for state: \u001b[39m\u001b[38;5;132;01m{\u001b[39;00mselected_state\u001b[38;5;132;01m}\u001b[39;00m\u001b[38;5;124m\"\u001b[39m)\n\u001b[1;32m    238\u001b[0m     \u001b[38;5;28;01mreturn\u001b[39;00m \u001b[38;5;28;01mNone\u001b[39;00m, \u001b[38;5;28;01mNone\u001b[39;00m\n",
      "File \u001b[0;32m~/GitProjects/Portfolio_Pokemon_Card/GetHistoricCardPrices.py:71\u001b[0m, in \u001b[0;36mtest_button_click\u001b[0;34m(driver, wait, selector, by)\u001b[0m\n\u001b[1;32m     50\u001b[0m \u001b[38;5;250m\u001b[39m\u001b[38;5;124;03m\"\"\"\u001b[39;00m\n\u001b[1;32m     51\u001b[0m \u001b[38;5;124;03mAttempts to click on a web element using JavaScript with enhanced reliability.\u001b[39;00m\n\u001b[1;32m     52\u001b[0m \u001b[38;5;124;03m\u001b[39;00m\n\u001b[0;32m   (...)\u001b[0m\n\u001b[1;32m     67\u001b[0m \u001b[38;5;124;03m    - Provides detailed error feedback\u001b[39;00m\n\u001b[1;32m     68\u001b[0m \u001b[38;5;124;03m\"\"\"\u001b[39;00m\n\u001b[1;32m     69\u001b[0m \u001b[38;5;28;01mtry\u001b[39;00m:\n\u001b[1;32m     70\u001b[0m     \u001b[38;5;66;03m# Wait for element to be present in DOM\u001b[39;00m\n\u001b[0;32m---> 71\u001b[0m     element \u001b[38;5;241m=\u001b[39m \u001b[43mwait\u001b[49m\u001b[38;5;241;43m.\u001b[39;49m\u001b[43muntil\u001b[49m\u001b[43m(\u001b[49m\u001b[43mEC\u001b[49m\u001b[38;5;241;43m.\u001b[39;49m\u001b[43mpresence_of_element_located\u001b[49m\u001b[43m(\u001b[49m\u001b[43m(\u001b[49m\u001b[43mby\u001b[49m\u001b[43m,\u001b[49m\u001b[43m \u001b[49m\u001b[43mselector\u001b[49m\u001b[43m)\u001b[49m\u001b[43m)\u001b[49m\u001b[43m)\u001b[49m\n\u001b[1;32m     73\u001b[0m     \u001b[38;5;66;03m# Center element in viewport using smooth scrolling\u001b[39;00m\n\u001b[1;32m     74\u001b[0m     driver\u001b[38;5;241m.\u001b[39mexecute_script(\u001b[38;5;124m\"\"\"\u001b[39m\n\u001b[1;32m     75\u001b[0m \u001b[38;5;124m        arguments[0].scrollIntoView(\u001b[39m\u001b[38;5;124m{\u001b[39m\n\u001b[1;32m     76\u001b[0m \u001b[38;5;124m            behavior: \u001b[39m\u001b[38;5;124m'\u001b[39m\u001b[38;5;124minstant\u001b[39m\u001b[38;5;124m'\u001b[39m\u001b[38;5;124m,\u001b[39m\n\u001b[0;32m   (...)\u001b[0m\n\u001b[1;32m     79\u001b[0m \u001b[38;5;124m        });\u001b[39m\n\u001b[1;32m     80\u001b[0m \u001b[38;5;124m    \u001b[39m\u001b[38;5;124m\"\"\"\u001b[39m, element)\n",
      "File \u001b[0;32m~/opt/anaconda3/envs/pokemon_card/lib/python3.9/site-packages/selenium/webdriver/support/wait.py:96\u001b[0m, in \u001b[0;36mWebDriverWait.until\u001b[0;34m(self, method, message)\u001b[0m\n\u001b[1;32m     94\u001b[0m \u001b[38;5;28;01mwhile\u001b[39;00m \u001b[38;5;28;01mTrue\u001b[39;00m:\n\u001b[1;32m     95\u001b[0m     \u001b[38;5;28;01mtry\u001b[39;00m:\n\u001b[0;32m---> 96\u001b[0m         value \u001b[38;5;241m=\u001b[39m \u001b[43mmethod\u001b[49m\u001b[43m(\u001b[49m\u001b[38;5;28;43mself\u001b[39;49m\u001b[38;5;241;43m.\u001b[39;49m\u001b[43m_driver\u001b[49m\u001b[43m)\u001b[49m\n\u001b[1;32m     97\u001b[0m         \u001b[38;5;28;01mif\u001b[39;00m value:\n\u001b[1;32m     98\u001b[0m             \u001b[38;5;28;01mreturn\u001b[39;00m value\n",
      "File \u001b[0;32m~/opt/anaconda3/envs/pokemon_card/lib/python3.9/site-packages/selenium/webdriver/support/expected_conditions.py:84\u001b[0m, in \u001b[0;36mpresence_of_element_located.<locals>._predicate\u001b[0;34m(driver)\u001b[0m\n\u001b[1;32m     83\u001b[0m \u001b[38;5;28;01mdef\u001b[39;00m \u001b[38;5;21m_predicate\u001b[39m(driver: WebDriverOrWebElement):\n\u001b[0;32m---> 84\u001b[0m     \u001b[38;5;28;01mreturn\u001b[39;00m \u001b[43mdriver\u001b[49m\u001b[38;5;241;43m.\u001b[39;49m\u001b[43mfind_element\u001b[49m\u001b[43m(\u001b[49m\u001b[38;5;241;43m*\u001b[39;49m\u001b[43mlocator\u001b[49m\u001b[43m)\u001b[49m\n",
      "File \u001b[0;32m~/opt/anaconda3/envs/pokemon_card/lib/python3.9/site-packages/selenium/webdriver/remote/webdriver.py:770\u001b[0m, in \u001b[0;36mWebDriver.find_element\u001b[0;34m(self, by, value)\u001b[0m\n\u001b[1;32m    767\u001b[0m         \u001b[38;5;28;01mraise\u001b[39;00m NoSuchElementException(\u001b[38;5;124mf\u001b[39m\u001b[38;5;124m\"\u001b[39m\u001b[38;5;124mCannot locate relative element with: \u001b[39m\u001b[38;5;132;01m{\u001b[39;00mby\u001b[38;5;241m.\u001b[39mroot\u001b[38;5;132;01m}\u001b[39;00m\u001b[38;5;124m\"\u001b[39m)\n\u001b[1;32m    768\u001b[0m     \u001b[38;5;28;01mreturn\u001b[39;00m elements[\u001b[38;5;241m0\u001b[39m]\n\u001b[0;32m--> 770\u001b[0m \u001b[38;5;28;01mreturn\u001b[39;00m \u001b[38;5;28;43mself\u001b[39;49m\u001b[38;5;241;43m.\u001b[39;49m\u001b[43mexecute\u001b[49m\u001b[43m(\u001b[49m\u001b[43mCommand\u001b[49m\u001b[38;5;241;43m.\u001b[39;49m\u001b[43mFIND_ELEMENT\u001b[49m\u001b[43m,\u001b[49m\u001b[43m \u001b[49m\u001b[43m{\u001b[49m\u001b[38;5;124;43m\"\u001b[39;49m\u001b[38;5;124;43musing\u001b[39;49m\u001b[38;5;124;43m\"\u001b[39;49m\u001b[43m:\u001b[49m\u001b[43m \u001b[49m\u001b[43mby\u001b[49m\u001b[43m,\u001b[49m\u001b[43m \u001b[49m\u001b[38;5;124;43m\"\u001b[39;49m\u001b[38;5;124;43mvalue\u001b[39;49m\u001b[38;5;124;43m\"\u001b[39;49m\u001b[43m:\u001b[49m\u001b[43m \u001b[49m\u001b[43mvalue\u001b[49m\u001b[43m}\u001b[49m\u001b[43m)\u001b[49m[\u001b[38;5;124m\"\u001b[39m\u001b[38;5;124mvalue\u001b[39m\u001b[38;5;124m\"\u001b[39m]\n",
      "File \u001b[0;32m~/opt/anaconda3/envs/pokemon_card/lib/python3.9/site-packages/selenium/webdriver/remote/webdriver.py:382\u001b[0m, in \u001b[0;36mWebDriver.execute\u001b[0;34m(self, driver_command, params)\u001b[0m\n\u001b[1;32m    379\u001b[0m     \u001b[38;5;28;01melif\u001b[39;00m \u001b[38;5;124m\"\u001b[39m\u001b[38;5;124msessionId\u001b[39m\u001b[38;5;124m\"\u001b[39m \u001b[38;5;129;01mnot\u001b[39;00m \u001b[38;5;129;01min\u001b[39;00m params:\n\u001b[1;32m    380\u001b[0m         params[\u001b[38;5;124m\"\u001b[39m\u001b[38;5;124msessionId\u001b[39m\u001b[38;5;124m\"\u001b[39m] \u001b[38;5;241m=\u001b[39m \u001b[38;5;28mself\u001b[39m\u001b[38;5;241m.\u001b[39msession_id\n\u001b[0;32m--> 382\u001b[0m response \u001b[38;5;241m=\u001b[39m \u001b[38;5;28;43mself\u001b[39;49m\u001b[38;5;241;43m.\u001b[39;49m\u001b[43mcommand_executor\u001b[49m\u001b[38;5;241;43m.\u001b[39;49m\u001b[43mexecute\u001b[49m\u001b[43m(\u001b[49m\u001b[43mdriver_command\u001b[49m\u001b[43m,\u001b[49m\u001b[43m \u001b[49m\u001b[43mparams\u001b[49m\u001b[43m)\u001b[49m\n\u001b[1;32m    383\u001b[0m \u001b[38;5;28;01mif\u001b[39;00m response:\n\u001b[1;32m    384\u001b[0m     \u001b[38;5;28mself\u001b[39m\u001b[38;5;241m.\u001b[39merror_handler\u001b[38;5;241m.\u001b[39mcheck_response(response)\n",
      "File \u001b[0;32m~/opt/anaconda3/envs/pokemon_card/lib/python3.9/site-packages/selenium/webdriver/remote/remote_connection.py:404\u001b[0m, in \u001b[0;36mRemoteConnection.execute\u001b[0;34m(self, command, params)\u001b[0m\n\u001b[1;32m    402\u001b[0m trimmed \u001b[38;5;241m=\u001b[39m \u001b[38;5;28mself\u001b[39m\u001b[38;5;241m.\u001b[39m_trim_large_entries(params)\n\u001b[1;32m    403\u001b[0m LOGGER\u001b[38;5;241m.\u001b[39mdebug(\u001b[38;5;124m\"\u001b[39m\u001b[38;5;132;01m%s\u001b[39;00m\u001b[38;5;124m \u001b[39m\u001b[38;5;132;01m%s\u001b[39;00m\u001b[38;5;124m \u001b[39m\u001b[38;5;132;01m%s\u001b[39;00m\u001b[38;5;124m\"\u001b[39m, command_info[\u001b[38;5;241m0\u001b[39m], url, \u001b[38;5;28mstr\u001b[39m(trimmed))\n\u001b[0;32m--> 404\u001b[0m \u001b[38;5;28;01mreturn\u001b[39;00m \u001b[38;5;28;43mself\u001b[39;49m\u001b[38;5;241;43m.\u001b[39;49m\u001b[43m_request\u001b[49m\u001b[43m(\u001b[49m\u001b[43mcommand_info\u001b[49m\u001b[43m[\u001b[49m\u001b[38;5;241;43m0\u001b[39;49m\u001b[43m]\u001b[49m\u001b[43m,\u001b[49m\u001b[43m \u001b[49m\u001b[43murl\u001b[49m\u001b[43m,\u001b[49m\u001b[43m \u001b[49m\u001b[43mbody\u001b[49m\u001b[38;5;241;43m=\u001b[39;49m\u001b[43mdata\u001b[49m\u001b[43m)\u001b[49m\n",
      "File \u001b[0;32m~/opt/anaconda3/envs/pokemon_card/lib/python3.9/site-packages/selenium/webdriver/remote/remote_connection.py:428\u001b[0m, in \u001b[0;36mRemoteConnection._request\u001b[0;34m(self, method, url, body)\u001b[0m\n\u001b[1;32m    425\u001b[0m     body \u001b[38;5;241m=\u001b[39m \u001b[38;5;28;01mNone\u001b[39;00m\n\u001b[1;32m    427\u001b[0m \u001b[38;5;28;01mif\u001b[39;00m \u001b[38;5;28mself\u001b[39m\u001b[38;5;241m.\u001b[39m_client_config\u001b[38;5;241m.\u001b[39mkeep_alive:\n\u001b[0;32m--> 428\u001b[0m     response \u001b[38;5;241m=\u001b[39m \u001b[38;5;28;43mself\u001b[39;49m\u001b[38;5;241;43m.\u001b[39;49m\u001b[43m_conn\u001b[49m\u001b[38;5;241;43m.\u001b[39;49m\u001b[43mrequest\u001b[49m\u001b[43m(\u001b[49m\u001b[43mmethod\u001b[49m\u001b[43m,\u001b[49m\u001b[43m \u001b[49m\u001b[43murl\u001b[49m\u001b[43m,\u001b[49m\u001b[43m \u001b[49m\u001b[43mbody\u001b[49m\u001b[38;5;241;43m=\u001b[39;49m\u001b[43mbody\u001b[49m\u001b[43m,\u001b[49m\u001b[43m \u001b[49m\u001b[43mheaders\u001b[49m\u001b[38;5;241;43m=\u001b[39;49m\u001b[43mheaders\u001b[49m\u001b[43m,\u001b[49m\u001b[43m \u001b[49m\u001b[43mtimeout\u001b[49m\u001b[38;5;241;43m=\u001b[39;49m\u001b[38;5;28;43mself\u001b[39;49m\u001b[38;5;241;43m.\u001b[39;49m\u001b[43m_client_config\u001b[49m\u001b[38;5;241;43m.\u001b[39;49m\u001b[43mtimeout\u001b[49m\u001b[43m)\u001b[49m\n\u001b[1;32m    429\u001b[0m     statuscode \u001b[38;5;241m=\u001b[39m response\u001b[38;5;241m.\u001b[39mstatus\n\u001b[1;32m    430\u001b[0m \u001b[38;5;28;01melse\u001b[39;00m:\n",
      "File \u001b[0;32m~/opt/anaconda3/envs/pokemon_card/lib/python3.9/site-packages/urllib3/_request_methods.py:143\u001b[0m, in \u001b[0;36mRequestMethods.request\u001b[0;34m(self, method, url, body, fields, headers, json, **urlopen_kw)\u001b[0m\n\u001b[1;32m    135\u001b[0m     \u001b[38;5;28;01mreturn\u001b[39;00m \u001b[38;5;28mself\u001b[39m\u001b[38;5;241m.\u001b[39mrequest_encode_url(\n\u001b[1;32m    136\u001b[0m         method,\n\u001b[1;32m    137\u001b[0m         url,\n\u001b[0;32m   (...)\u001b[0m\n\u001b[1;32m    140\u001b[0m         \u001b[38;5;241m*\u001b[39m\u001b[38;5;241m*\u001b[39murlopen_kw,\n\u001b[1;32m    141\u001b[0m     )\n\u001b[1;32m    142\u001b[0m \u001b[38;5;28;01melse\u001b[39;00m:\n\u001b[0;32m--> 143\u001b[0m     \u001b[38;5;28;01mreturn\u001b[39;00m \u001b[38;5;28;43mself\u001b[39;49m\u001b[38;5;241;43m.\u001b[39;49m\u001b[43mrequest_encode_body\u001b[49m\u001b[43m(\u001b[49m\n\u001b[1;32m    144\u001b[0m \u001b[43m        \u001b[49m\u001b[43mmethod\u001b[49m\u001b[43m,\u001b[49m\u001b[43m \u001b[49m\u001b[43murl\u001b[49m\u001b[43m,\u001b[49m\u001b[43m \u001b[49m\u001b[43mfields\u001b[49m\u001b[38;5;241;43m=\u001b[39;49m\u001b[43mfields\u001b[49m\u001b[43m,\u001b[49m\u001b[43m \u001b[49m\u001b[43mheaders\u001b[49m\u001b[38;5;241;43m=\u001b[39;49m\u001b[43mheaders\u001b[49m\u001b[43m,\u001b[49m\u001b[43m \u001b[49m\u001b[38;5;241;43m*\u001b[39;49m\u001b[38;5;241;43m*\u001b[39;49m\u001b[43murlopen_kw\u001b[49m\n\u001b[1;32m    145\u001b[0m \u001b[43m    \u001b[49m\u001b[43m)\u001b[49m\n",
      "File \u001b[0;32m~/opt/anaconda3/envs/pokemon_card/lib/python3.9/site-packages/urllib3/_request_methods.py:278\u001b[0m, in \u001b[0;36mRequestMethods.request_encode_body\u001b[0;34m(self, method, url, fields, headers, encode_multipart, multipart_boundary, **urlopen_kw)\u001b[0m\n\u001b[1;32m    274\u001b[0m     extra_kw[\u001b[38;5;124m\"\u001b[39m\u001b[38;5;124mheaders\u001b[39m\u001b[38;5;124m\"\u001b[39m]\u001b[38;5;241m.\u001b[39msetdefault(\u001b[38;5;124m\"\u001b[39m\u001b[38;5;124mContent-Type\u001b[39m\u001b[38;5;124m\"\u001b[39m, content_type)\n\u001b[1;32m    276\u001b[0m extra_kw\u001b[38;5;241m.\u001b[39mupdate(urlopen_kw)\n\u001b[0;32m--> 278\u001b[0m \u001b[38;5;28;01mreturn\u001b[39;00m \u001b[38;5;28;43mself\u001b[39;49m\u001b[38;5;241;43m.\u001b[39;49m\u001b[43murlopen\u001b[49m\u001b[43m(\u001b[49m\u001b[43mmethod\u001b[49m\u001b[43m,\u001b[49m\u001b[43m \u001b[49m\u001b[43murl\u001b[49m\u001b[43m,\u001b[49m\u001b[43m \u001b[49m\u001b[38;5;241;43m*\u001b[39;49m\u001b[38;5;241;43m*\u001b[39;49m\u001b[43mextra_kw\u001b[49m\u001b[43m)\u001b[49m\n",
      "File \u001b[0;32m~/opt/anaconda3/envs/pokemon_card/lib/python3.9/site-packages/urllib3/poolmanager.py:443\u001b[0m, in \u001b[0;36mPoolManager.urlopen\u001b[0;34m(self, method, url, redirect, **kw)\u001b[0m\n\u001b[1;32m    441\u001b[0m     response \u001b[38;5;241m=\u001b[39m conn\u001b[38;5;241m.\u001b[39murlopen(method, url, \u001b[38;5;241m*\u001b[39m\u001b[38;5;241m*\u001b[39mkw)\n\u001b[1;32m    442\u001b[0m \u001b[38;5;28;01melse\u001b[39;00m:\n\u001b[0;32m--> 443\u001b[0m     response \u001b[38;5;241m=\u001b[39m \u001b[43mconn\u001b[49m\u001b[38;5;241;43m.\u001b[39;49m\u001b[43murlopen\u001b[49m\u001b[43m(\u001b[49m\u001b[43mmethod\u001b[49m\u001b[43m,\u001b[49m\u001b[43m \u001b[49m\u001b[43mu\u001b[49m\u001b[38;5;241;43m.\u001b[39;49m\u001b[43mrequest_uri\u001b[49m\u001b[43m,\u001b[49m\u001b[43m \u001b[49m\u001b[38;5;241;43m*\u001b[39;49m\u001b[38;5;241;43m*\u001b[39;49m\u001b[43mkw\u001b[49m\u001b[43m)\u001b[49m\n\u001b[1;32m    445\u001b[0m redirect_location \u001b[38;5;241m=\u001b[39m redirect \u001b[38;5;129;01mand\u001b[39;00m response\u001b[38;5;241m.\u001b[39mget_redirect_location()\n\u001b[1;32m    446\u001b[0m \u001b[38;5;28;01mif\u001b[39;00m \u001b[38;5;129;01mnot\u001b[39;00m redirect_location:\n",
      "File \u001b[0;32m~/opt/anaconda3/envs/pokemon_card/lib/python3.9/site-packages/urllib3/connectionpool.py:789\u001b[0m, in \u001b[0;36mHTTPConnectionPool.urlopen\u001b[0;34m(self, method, url, body, headers, retries, redirect, assert_same_host, timeout, pool_timeout, release_conn, chunked, body_pos, preload_content, decode_content, **response_kw)\u001b[0m\n\u001b[1;32m    786\u001b[0m response_conn \u001b[38;5;241m=\u001b[39m conn \u001b[38;5;28;01mif\u001b[39;00m \u001b[38;5;129;01mnot\u001b[39;00m release_conn \u001b[38;5;28;01melse\u001b[39;00m \u001b[38;5;28;01mNone\u001b[39;00m\n\u001b[1;32m    788\u001b[0m \u001b[38;5;66;03m# Make the request on the HTTPConnection object\u001b[39;00m\n\u001b[0;32m--> 789\u001b[0m response \u001b[38;5;241m=\u001b[39m \u001b[38;5;28;43mself\u001b[39;49m\u001b[38;5;241;43m.\u001b[39;49m\u001b[43m_make_request\u001b[49m\u001b[43m(\u001b[49m\n\u001b[1;32m    790\u001b[0m \u001b[43m    \u001b[49m\u001b[43mconn\u001b[49m\u001b[43m,\u001b[49m\n\u001b[1;32m    791\u001b[0m \u001b[43m    \u001b[49m\u001b[43mmethod\u001b[49m\u001b[43m,\u001b[49m\n\u001b[1;32m    792\u001b[0m \u001b[43m    \u001b[49m\u001b[43murl\u001b[49m\u001b[43m,\u001b[49m\n\u001b[1;32m    793\u001b[0m \u001b[43m    \u001b[49m\u001b[43mtimeout\u001b[49m\u001b[38;5;241;43m=\u001b[39;49m\u001b[43mtimeout_obj\u001b[49m\u001b[43m,\u001b[49m\n\u001b[1;32m    794\u001b[0m \u001b[43m    \u001b[49m\u001b[43mbody\u001b[49m\u001b[38;5;241;43m=\u001b[39;49m\u001b[43mbody\u001b[49m\u001b[43m,\u001b[49m\n\u001b[1;32m    795\u001b[0m \u001b[43m    \u001b[49m\u001b[43mheaders\u001b[49m\u001b[38;5;241;43m=\u001b[39;49m\u001b[43mheaders\u001b[49m\u001b[43m,\u001b[49m\n\u001b[1;32m    796\u001b[0m \u001b[43m    \u001b[49m\u001b[43mchunked\u001b[49m\u001b[38;5;241;43m=\u001b[39;49m\u001b[43mchunked\u001b[49m\u001b[43m,\u001b[49m\n\u001b[1;32m    797\u001b[0m \u001b[43m    \u001b[49m\u001b[43mretries\u001b[49m\u001b[38;5;241;43m=\u001b[39;49m\u001b[43mretries\u001b[49m\u001b[43m,\u001b[49m\n\u001b[1;32m    798\u001b[0m \u001b[43m    \u001b[49m\u001b[43mresponse_conn\u001b[49m\u001b[38;5;241;43m=\u001b[39;49m\u001b[43mresponse_conn\u001b[49m\u001b[43m,\u001b[49m\n\u001b[1;32m    799\u001b[0m \u001b[43m    \u001b[49m\u001b[43mpreload_content\u001b[49m\u001b[38;5;241;43m=\u001b[39;49m\u001b[43mpreload_content\u001b[49m\u001b[43m,\u001b[49m\n\u001b[1;32m    800\u001b[0m \u001b[43m    \u001b[49m\u001b[43mdecode_content\u001b[49m\u001b[38;5;241;43m=\u001b[39;49m\u001b[43mdecode_content\u001b[49m\u001b[43m,\u001b[49m\n\u001b[1;32m    801\u001b[0m \u001b[43m    \u001b[49m\u001b[38;5;241;43m*\u001b[39;49m\u001b[38;5;241;43m*\u001b[39;49m\u001b[43mresponse_kw\u001b[49m\u001b[43m,\u001b[49m\n\u001b[1;32m    802\u001b[0m \u001b[43m\u001b[49m\u001b[43m)\u001b[49m\n\u001b[1;32m    804\u001b[0m \u001b[38;5;66;03m# Everything went great!\u001b[39;00m\n\u001b[1;32m    805\u001b[0m clean_exit \u001b[38;5;241m=\u001b[39m \u001b[38;5;28;01mTrue\u001b[39;00m\n",
      "File \u001b[0;32m~/opt/anaconda3/envs/pokemon_card/lib/python3.9/site-packages/urllib3/connectionpool.py:536\u001b[0m, in \u001b[0;36mHTTPConnectionPool._make_request\u001b[0;34m(self, conn, method, url, body, headers, retries, timeout, chunked, response_conn, preload_content, decode_content, enforce_content_length)\u001b[0m\n\u001b[1;32m    534\u001b[0m \u001b[38;5;66;03m# Receive the response from the server\u001b[39;00m\n\u001b[1;32m    535\u001b[0m \u001b[38;5;28;01mtry\u001b[39;00m:\n\u001b[0;32m--> 536\u001b[0m     response \u001b[38;5;241m=\u001b[39m \u001b[43mconn\u001b[49m\u001b[38;5;241;43m.\u001b[39;49m\u001b[43mgetresponse\u001b[49m\u001b[43m(\u001b[49m\u001b[43m)\u001b[49m\n\u001b[1;32m    537\u001b[0m \u001b[38;5;28;01mexcept\u001b[39;00m (BaseSSLError, \u001b[38;5;167;01mOSError\u001b[39;00m) \u001b[38;5;28;01mas\u001b[39;00m e:\n\u001b[1;32m    538\u001b[0m     \u001b[38;5;28mself\u001b[39m\u001b[38;5;241m.\u001b[39m_raise_timeout(err\u001b[38;5;241m=\u001b[39me, url\u001b[38;5;241m=\u001b[39murl, timeout_value\u001b[38;5;241m=\u001b[39mread_timeout)\n",
      "File \u001b[0;32m~/opt/anaconda3/envs/pokemon_card/lib/python3.9/site-packages/urllib3/connection.py:507\u001b[0m, in \u001b[0;36mHTTPConnection.getresponse\u001b[0;34m(self)\u001b[0m\n\u001b[1;32m    504\u001b[0m \u001b[38;5;28;01mfrom\u001b[39;00m \u001b[38;5;21;01m.\u001b[39;00m\u001b[38;5;21;01mresponse\u001b[39;00m \u001b[38;5;28;01mimport\u001b[39;00m HTTPResponse\n\u001b[1;32m    506\u001b[0m \u001b[38;5;66;03m# Get the response from http.client.HTTPConnection\u001b[39;00m\n\u001b[0;32m--> 507\u001b[0m httplib_response \u001b[38;5;241m=\u001b[39m \u001b[38;5;28;43msuper\u001b[39;49m\u001b[43m(\u001b[49m\u001b[43m)\u001b[49m\u001b[38;5;241;43m.\u001b[39;49m\u001b[43mgetresponse\u001b[49m\u001b[43m(\u001b[49m\u001b[43m)\u001b[49m\n\u001b[1;32m    509\u001b[0m \u001b[38;5;28;01mtry\u001b[39;00m:\n\u001b[1;32m    510\u001b[0m     assert_header_parsing(httplib_response\u001b[38;5;241m.\u001b[39mmsg)\n",
      "File \u001b[0;32m~/opt/anaconda3/envs/pokemon_card/lib/python3.9/http/client.py:1377\u001b[0m, in \u001b[0;36mHTTPConnection.getresponse\u001b[0;34m(self)\u001b[0m\n\u001b[1;32m   1375\u001b[0m \u001b[38;5;28;01mtry\u001b[39;00m:\n\u001b[1;32m   1376\u001b[0m     \u001b[38;5;28;01mtry\u001b[39;00m:\n\u001b[0;32m-> 1377\u001b[0m         \u001b[43mresponse\u001b[49m\u001b[38;5;241;43m.\u001b[39;49m\u001b[43mbegin\u001b[49m\u001b[43m(\u001b[49m\u001b[43m)\u001b[49m\n\u001b[1;32m   1378\u001b[0m     \u001b[38;5;28;01mexcept\u001b[39;00m \u001b[38;5;167;01mConnectionError\u001b[39;00m:\n\u001b[1;32m   1379\u001b[0m         \u001b[38;5;28mself\u001b[39m\u001b[38;5;241m.\u001b[39mclose()\n",
      "File \u001b[0;32m~/opt/anaconda3/envs/pokemon_card/lib/python3.9/http/client.py:320\u001b[0m, in \u001b[0;36mHTTPResponse.begin\u001b[0;34m(self)\u001b[0m\n\u001b[1;32m    318\u001b[0m \u001b[38;5;66;03m# read until we get a non-100 response\u001b[39;00m\n\u001b[1;32m    319\u001b[0m \u001b[38;5;28;01mwhile\u001b[39;00m \u001b[38;5;28;01mTrue\u001b[39;00m:\n\u001b[0;32m--> 320\u001b[0m     version, status, reason \u001b[38;5;241m=\u001b[39m \u001b[38;5;28;43mself\u001b[39;49m\u001b[38;5;241;43m.\u001b[39;49m\u001b[43m_read_status\u001b[49m\u001b[43m(\u001b[49m\u001b[43m)\u001b[49m\n\u001b[1;32m    321\u001b[0m     \u001b[38;5;28;01mif\u001b[39;00m status \u001b[38;5;241m!=\u001b[39m CONTINUE:\n\u001b[1;32m    322\u001b[0m         \u001b[38;5;28;01mbreak\u001b[39;00m\n",
      "File \u001b[0;32m~/opt/anaconda3/envs/pokemon_card/lib/python3.9/http/client.py:281\u001b[0m, in \u001b[0;36mHTTPResponse._read_status\u001b[0;34m(self)\u001b[0m\n\u001b[1;32m    280\u001b[0m \u001b[38;5;28;01mdef\u001b[39;00m \u001b[38;5;21m_read_status\u001b[39m(\u001b[38;5;28mself\u001b[39m):\n\u001b[0;32m--> 281\u001b[0m     line \u001b[38;5;241m=\u001b[39m \u001b[38;5;28mstr\u001b[39m(\u001b[38;5;28;43mself\u001b[39;49m\u001b[38;5;241;43m.\u001b[39;49m\u001b[43mfp\u001b[49m\u001b[38;5;241;43m.\u001b[39;49m\u001b[43mreadline\u001b[49m\u001b[43m(\u001b[49m\u001b[43m_MAXLINE\u001b[49m\u001b[43m \u001b[49m\u001b[38;5;241;43m+\u001b[39;49m\u001b[43m \u001b[49m\u001b[38;5;241;43m1\u001b[39;49m\u001b[43m)\u001b[49m, \u001b[38;5;124m\"\u001b[39m\u001b[38;5;124miso-8859-1\u001b[39m\u001b[38;5;124m\"\u001b[39m)\n\u001b[1;32m    282\u001b[0m     \u001b[38;5;28;01mif\u001b[39;00m \u001b[38;5;28mlen\u001b[39m(line) \u001b[38;5;241m>\u001b[39m _MAXLINE:\n\u001b[1;32m    283\u001b[0m         \u001b[38;5;28;01mraise\u001b[39;00m LineTooLong(\u001b[38;5;124m\"\u001b[39m\u001b[38;5;124mstatus line\u001b[39m\u001b[38;5;124m\"\u001b[39m)\n",
      "File \u001b[0;32m~/opt/anaconda3/envs/pokemon_card/lib/python3.9/socket.py:716\u001b[0m, in \u001b[0;36mSocketIO.readinto\u001b[0;34m(self, b)\u001b[0m\n\u001b[1;32m    714\u001b[0m \u001b[38;5;28;01mwhile\u001b[39;00m \u001b[38;5;28;01mTrue\u001b[39;00m:\n\u001b[1;32m    715\u001b[0m     \u001b[38;5;28;01mtry\u001b[39;00m:\n\u001b[0;32m--> 716\u001b[0m         \u001b[38;5;28;01mreturn\u001b[39;00m \u001b[38;5;28;43mself\u001b[39;49m\u001b[38;5;241;43m.\u001b[39;49m\u001b[43m_sock\u001b[49m\u001b[38;5;241;43m.\u001b[39;49m\u001b[43mrecv_into\u001b[49m\u001b[43m(\u001b[49m\u001b[43mb\u001b[49m\u001b[43m)\u001b[49m\n\u001b[1;32m    717\u001b[0m     \u001b[38;5;28;01mexcept\u001b[39;00m timeout:\n\u001b[1;32m    718\u001b[0m         \u001b[38;5;28mself\u001b[39m\u001b[38;5;241m.\u001b[39m_timeout_occurred \u001b[38;5;241m=\u001b[39m \u001b[38;5;28;01mTrue\u001b[39;00m\n",
      "\u001b[0;31mKeyboardInterrupt\u001b[0m: "
     ]
    }
   ],
   "source": [
    "save_historic_prices(df)"
   ]
  },
  {
   "cell_type": "code",
   "execution_count": 4,
   "metadata": {},
   "outputs": [],
   "source": []
  },
  {
   "cell_type": "code",
   "execution_count": null,
   "metadata": {},
   "outputs": [],
   "source": []
  }
 ],
 "metadata": {
  "kernelspec": {
   "display_name": "pokemon_card",
   "language": "python",
   "name": "python3"
  },
  "language_info": {
   "codemirror_mode": {
    "name": "ipython",
    "version": 3
   },
   "file_extension": ".py",
   "mimetype": "text/x-python",
   "name": "python",
   "nbconvert_exporter": "python",
   "pygments_lexer": "ipython3",
   "version": "3.9.20"
  }
 },
 "nbformat": 4,
 "nbformat_minor": 2
}
