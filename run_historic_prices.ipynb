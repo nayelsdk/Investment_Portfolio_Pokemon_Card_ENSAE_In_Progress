{
 "cells": [
  {
   "cell_type": "code",
   "execution_count": 1,
   "metadata": {},
   "outputs": [
    {
     "name": "stdout",
     "output_type": "stream",
     "text": [
      "Intel MKL WARNING: Support of Intel(R) Streaming SIMD Extensions 4.2 (Intel(R) SSE4.2) enabled only processors has been deprecated. Intel oneAPI Math Kernel Library 2025.0 will require Intel(R) Advanced Vector Extensions (Intel(R) AVX) instructions.\n",
      "Intel MKL WARNING: Support of Intel(R) Streaming SIMD Extensions 4.2 (Intel(R) SSE4.2) enabled only processors has been deprecated. Intel oneAPI Math Kernel Library 2025.0 will require Intel(R) Advanced Vector Extensions (Intel(R) AVX) instructions.\n"
     ]
    }
   ],
   "source": [
    "from PokemonCardManager import *\n",
    "from GetHistoricCardPrices import save_historic_prices"
   ]
  },
  {
   "cell_type": "code",
   "execution_count": 2,
   "metadata": {},
   "outputs": [],
   "source": [
    "df=pd.read_csv('pokemon_cards.csv')"
   ]
  },
  {
   "cell_type": "code",
   "execution_count": 3,
   "metadata": {},
   "outputs": [
    {
     "name": "stderr",
     "output_type": "stream",
     "text": [
      "Price Extraction:  22%|██▏       | 823/3739 [12:50<2:52:40,  3.55s/it, Processing dpp-DP28]           "
     ]
    },
    {
     "name": "stdout",
     "output_type": "stream",
     "text": [
      "Click failed for //label[span[text()=\"Near Mint\"]]: Message: \n",
      "Stacktrace:\n",
      "0   chromedriver                        0x0000000104d28e12 chromedriver + 6696466\n",
      "1   chromedriver                        0x0000000104d20c2a chromedriver + 6663210\n",
      "2   chromedriver                        0x0000000104728e3e chromedriver + 405054\n",
      "3   chromedriver                        0x0000000104779815 chromedriver + 735253\n",
      "4   chromedriver                        0x0000000104779d11 chromedriver + 736529\n",
      "5   chromedriver                        0x00000001047c4314 chromedriver + 1041172\n",
      "6   chromedriver                        0x000000010479e89d chromedriver + 886941\n",
      "7   chromedriver                        0x00000001047c13f4 chromedriver + 1029108\n",
      "8   chromedriver                        0x000000010479e613 chromedriver + 886291\n",
      "9   chromedriver                        0x000000010476b950 chromedriver + 678224\n",
      "10  chromedriver                        0x000000010476c34e chromedriver + 680782\n",
      "11  chromedriver                        0x0000000104cf6700 chromedriver + 6489856\n",
      "12  chromedriver                        0x0000000104cf91a9 chromedriver + 6500777\n",
      "13  chromedriver                        0x0000000104cf8ccb chromedriver + 6499531\n",
      "14  chromedriver                        0x0000000104cf9635 chromedriver + 6501941\n",
      "15  chromedriver                        0x0000000104ce14b4 chromedriver + 6403252\n",
      "16  chromedriver                        0x0000000104cf991f chromedriver + 6502687\n",
      "17  chromedriver                        0x0000000104cd28e4 chromedriver + 6342884\n",
      "18  chromedriver                        0x0000000104d11308 chromedriver + 6599432\n",
      "19  chromedriver                        0x0000000104d114c5 chromedriver + 6599877\n",
      "20  chromedriver                        0x0000000104d207f8 chromedriver + 6662136\n",
      "21  libsystem_pthread.dylib             0x00007ff80b5b7253 _pthread_start + 99\n",
      "22  libsystem_pthread.dylib             0x00007ff80b5b2bef thread_start + 15\n",
      "\n",
      "Click failed for selector: //label[span[text()=\"Near Mint\"]]\n"
     ]
    },
    {
     "name": "stderr",
     "output_type": "stream",
     "text": [
      "Price Extraction:  49%|████▉     | 1849/3739 [1:19:17<58:09:55, 110.79s/it, Processing ex16-92]        "
     ]
    },
    {
     "name": "stdout",
     "output_type": "stream",
     "text": [
      "An error occurred: Message: \n",
      "Stacktrace:\n",
      "0   chromedriver                        0x0000000101346e12 chromedriver + 6696466\n",
      "1   chromedriver                        0x000000010133ec2a chromedriver + 6663210\n",
      "2   chromedriver                        0x0000000100d46e3e chromedriver + 405054\n",
      "3   chromedriver                        0x0000000100d97815 chromedriver + 735253\n",
      "4   chromedriver                        0x0000000100d97d11 chromedriver + 736529\n",
      "5   chromedriver                        0x0000000100de2314 chromedriver + 1041172\n",
      "6   chromedriver                        0x0000000100dbc89d chromedriver + 886941\n",
      "7   chromedriver                        0x0000000100ddf3f4 chromedriver + 1029108\n",
      "8   chromedriver                        0x0000000100dbc613 chromedriver + 886291\n",
      "9   chromedriver                        0x0000000100d89950 chromedriver + 678224\n",
      "10  chromedriver                        0x0000000100d8a34e chromedriver + 680782\n",
      "11  chromedriver                        0x0000000101314700 chromedriver + 6489856\n",
      "12  chromedriver                        0x00000001013171a9 chromedriver + 6500777\n",
      "13  chromedriver                        0x0000000101316ccb chromedriver + 6499531\n",
      "14  chromedriver                        0x0000000101317635 chromedriver + 6501941\n",
      "15  chromedriver                        0x00000001012ff4b4 chromedriver + 6403252\n",
      "16  chromedriver                        0x000000010131791f chromedriver + 6502687\n",
      "17  chromedriver                        0x00000001012f08e4 chromedriver + 6342884\n",
      "18  chromedriver                        0x000000010132f308 chromedriver + 6599432\n",
      "19  chromedriver                        0x000000010132f4c5 chromedriver + 6599877\n",
      "20  chromedriver                        0x000000010133e7f8 chromedriver + 6662136\n",
      "21  libsystem_pthread.dylib             0x00007ff80b5b7253 _pthread_start + 99\n",
      "22  libsystem_pthread.dylib             0x00007ff80b5b2bef thread_start + 15\n",
      "\n"
     ]
    },
    {
     "name": "stderr",
     "output_type": "stream",
     "text": [
      "Price Extraction:  50%|████▉     | 1866/3739 [1:58:52<66:12:47, 127.27s/it, Processing pl4-SH10] "
     ]
    },
    {
     "name": "stdout",
     "output_type": "stream",
     "text": [
      "Click failed for //label[span[text()=\"Near Mint\"]]: Message: \n",
      "Stacktrace:\n",
      "0   chromedriver                        0x0000000104f8fe12 chromedriver + 6696466\n",
      "1   chromedriver                        0x0000000104f87c2a chromedriver + 6663210\n",
      "2   chromedriver                        0x000000010498fe3e chromedriver + 405054\n",
      "3   chromedriver                        0x00000001049e0815 chromedriver + 735253\n",
      "4   chromedriver                        0x00000001049e0d11 chromedriver + 736529\n",
      "5   chromedriver                        0x0000000104a2b314 chromedriver + 1041172\n",
      "6   chromedriver                        0x0000000104a0589d chromedriver + 886941\n",
      "7   chromedriver                        0x0000000104a283f4 chromedriver + 1029108\n",
      "8   chromedriver                        0x0000000104a05613 chromedriver + 886291\n",
      "9   chromedriver                        0x00000001049d2950 chromedriver + 678224\n",
      "10  chromedriver                        0x00000001049d334e chromedriver + 680782\n",
      "11  chromedriver                        0x0000000104f5d700 chromedriver + 6489856\n",
      "12  chromedriver                        0x0000000104f601a9 chromedriver + 6500777\n",
      "13  chromedriver                        0x0000000104f5fccb chromedriver + 6499531\n",
      "14  chromedriver                        0x0000000104f60635 chromedriver + 6501941\n",
      "15  chromedriver                        0x0000000104f484b4 chromedriver + 6403252\n",
      "16  chromedriver                        0x0000000104f6091f chromedriver + 6502687\n",
      "17  chromedriver                        0x0000000104f398e4 chromedriver + 6342884\n",
      "18  chromedriver                        0x0000000104f78308 chromedriver + 6599432\n",
      "19  chromedriver                        0x0000000104f784c5 chromedriver + 6599877\n",
      "20  chromedriver                        0x0000000104f877f8 chromedriver + 6662136\n",
      "21  libsystem_pthread.dylib             0x00007ff80b5b7253 _pthread_start + 99\n",
      "22  libsystem_pthread.dylib             0x00007ff80b5b2bef thread_start + 15\n",
      "\n",
      "Click failed for selector: //label[span[text()=\"Near Mint\"]]\n"
     ]
    },
    {
     "name": "stderr",
     "output_type": "stream",
     "text": [
      "Price Extraction:  51%|█████     | 1906/3739 [3:13:24<49:57:31, 98.12s/it, Processing ex4-96]    "
     ]
    },
    {
     "name": "stdout",
     "output_type": "stream",
     "text": [
      "Click failed for //label[span[text()=\"Near Mint\"]]: Message: \n",
      "Stacktrace:\n",
      "0   chromedriver                        0x00000001011cfe12 chromedriver + 6696466\n",
      "1   chromedriver                        0x00000001011c7c2a chromedriver + 6663210\n",
      "2   chromedriver                        0x0000000100bcfe3e chromedriver + 405054\n",
      "3   chromedriver                        0x0000000100c20815 chromedriver + 735253\n",
      "4   chromedriver                        0x0000000100c20d11 chromedriver + 736529\n",
      "5   chromedriver                        0x0000000100c6b314 chromedriver + 1041172\n",
      "6   chromedriver                        0x0000000100c4589d chromedriver + 886941\n",
      "7   chromedriver                        0x0000000100c683f4 chromedriver + 1029108\n",
      "8   chromedriver                        0x0000000100c45613 chromedriver + 886291\n",
      "9   chromedriver                        0x0000000100c12950 chromedriver + 678224\n",
      "10  chromedriver                        0x0000000100c1334e chromedriver + 680782\n",
      "11  chromedriver                        0x000000010119d700 chromedriver + 6489856\n",
      "12  chromedriver                        0x00000001011a01a9 chromedriver + 6500777\n",
      "13  chromedriver                        0x000000010119fccb chromedriver + 6499531\n",
      "14  chromedriver                        0x00000001011a0635 chromedriver + 6501941\n",
      "15  chromedriver                        0x00000001011884b4 chromedriver + 6403252\n",
      "16  chromedriver                        0x00000001011a091f chromedriver + 6502687\n",
      "17  chromedriver                        0x00000001011798e4 chromedriver + 6342884\n",
      "18  chromedriver                        0x00000001011b8308 chromedriver + 6599432\n",
      "19  chromedriver                        0x00000001011b84c5 chromedriver + 6599877\n",
      "20  chromedriver                        0x00000001011c77f8 chromedriver + 6662136\n",
      "21  libsystem_pthread.dylib             0x00007ff80b5b7253 _pthread_start + 99\n",
      "22  libsystem_pthread.dylib             0x00007ff80b5b2bef thread_start + 15\n",
      "\n",
      "Click failed for selector: //label[span[text()=\"Near Mint\"]]\n"
     ]
    },
    {
     "name": "stderr",
     "output_type": "stream",
     "text": [
      "Price Extraction:  52%|█████▏    | 1938/3739 [4:09:29<53:25:44, 106.80s/it, Processing bwp-BW88] "
     ]
    },
    {
     "name": "stdout",
     "output_type": "stream",
     "text": [
      "Click failed for //label[span[text()=\"Near Mint\"]]: Message: \n",
      "Stacktrace:\n",
      "0   chromedriver                        0x0000000102ceee12 chromedriver + 6696466\n",
      "1   chromedriver                        0x0000000102ce6c2a chromedriver + 6663210\n",
      "2   chromedriver                        0x00000001026eee3e chromedriver + 405054\n",
      "3   chromedriver                        0x000000010273f815 chromedriver + 735253\n",
      "4   chromedriver                        0x000000010273fd11 chromedriver + 736529\n",
      "5   chromedriver                        0x000000010278a314 chromedriver + 1041172\n",
      "6   chromedriver                        0x000000010276489d chromedriver + 886941\n",
      "7   chromedriver                        0x00000001027873f4 chromedriver + 1029108\n",
      "8   chromedriver                        0x0000000102764613 chromedriver + 886291\n",
      "9   chromedriver                        0x0000000102731950 chromedriver + 678224\n",
      "10  chromedriver                        0x000000010273234e chromedriver + 680782\n",
      "11  chromedriver                        0x0000000102cbc700 chromedriver + 6489856\n",
      "12  chromedriver                        0x0000000102cbf1a9 chromedriver + 6500777\n",
      "13  chromedriver                        0x0000000102cbeccb chromedriver + 6499531\n",
      "14  chromedriver                        0x0000000102cbf635 chromedriver + 6501941\n",
      "15  chromedriver                        0x0000000102ca74b4 chromedriver + 6403252\n",
      "16  chromedriver                        0x0000000102cbf91f chromedriver + 6502687\n",
      "17  chromedriver                        0x0000000102c988e4 chromedriver + 6342884\n",
      "18  chromedriver                        0x0000000102cd7308 chromedriver + 6599432\n",
      "19  chromedriver                        0x0000000102cd74c5 chromedriver + 6599877\n",
      "20  chromedriver                        0x0000000102ce67f8 chromedriver + 6662136\n",
      "21  libsystem_pthread.dylib             0x00007ff80b5b7253 _pthread_start + 99\n",
      "22  libsystem_pthread.dylib             0x00007ff80b5b2bef thread_start + 15\n",
      "\n",
      "Click failed for selector: //label[span[text()=\"Near Mint\"]]\n"
     ]
    },
    {
     "name": "stderr",
     "output_type": "stream",
     "text": [
      "Price Extraction:  53%|█████▎    | 1990/3739 [5:26:47<52:59:24, 109.07s/it, Processing pl2-103]    "
     ]
    },
    {
     "name": "stdout",
     "output_type": "stream",
     "text": [
      "Click failed for //label[span[text()=\"Near Mint\"]]: Message: \n",
      "Stacktrace:\n",
      "0   chromedriver                        0x0000000100917e12 chromedriver + 6696466\n",
      "1   chromedriver                        0x000000010090fc2a chromedriver + 6663210\n",
      "2   chromedriver                        0x0000000100317e3e chromedriver + 405054\n",
      "3   chromedriver                        0x0000000100368815 chromedriver + 735253\n",
      "4   chromedriver                        0x0000000100368d11 chromedriver + 736529\n",
      "5   chromedriver                        0x00000001003b3314 chromedriver + 1041172\n",
      "6   chromedriver                        0x000000010038d89d chromedriver + 886941\n",
      "7   chromedriver                        0x00000001003b03f4 chromedriver + 1029108\n",
      "8   chromedriver                        0x000000010038d613 chromedriver + 886291\n",
      "9   chromedriver                        0x000000010035a950 chromedriver + 678224\n",
      "10  chromedriver                        0x000000010035b34e chromedriver + 680782\n",
      "11  chromedriver                        0x00000001008e5700 chromedriver + 6489856\n",
      "12  chromedriver                        0x00000001008e81a9 chromedriver + 6500777\n",
      "13  chromedriver                        0x00000001008e7ccb chromedriver + 6499531\n",
      "14  chromedriver                        0x00000001008e8635 chromedriver + 6501941\n",
      "15  chromedriver                        0x00000001008d04b4 chromedriver + 6403252\n",
      "16  chromedriver                        0x00000001008e891f chromedriver + 6502687\n",
      "17  chromedriver                        0x00000001008c18e4 chromedriver + 6342884\n",
      "18  chromedriver                        0x0000000100900308 chromedriver + 6599432\n",
      "19  chromedriver                        0x00000001009004c5 chromedriver + 6599877\n",
      "20  chromedriver                        0x000000010090f7f8 chromedriver + 6662136\n",
      "21  libsystem_pthread.dylib             0x00007ff80b5b7253 _pthread_start + 99\n",
      "22  libsystem_pthread.dylib             0x00007ff80b5b2bef thread_start + 15\n",
      "\n",
      "Click failed for selector: //label[span[text()=\"Near Mint\"]]\n"
     ]
    },
    {
     "name": "stderr",
     "output_type": "stream",
     "text": [
      "Price Extraction:  53%|█████▎    | 1995/3739 [5:35:52<53:34:36, 110.59s/it, Processing bwp-BW93] "
     ]
    },
    {
     "name": "stdout",
     "output_type": "stream",
     "text": [
      "Click failed for button.sales-history-snapshot__show-filters: Message: no such window: target window already closed\n",
      "from unknown error: web view not found\n",
      "  (Session info: chrome=131.0.6778.140)\n",
      "Stacktrace:\n",
      "0   chromedriver                        0x0000000100bdfe12 chromedriver + 6696466\n",
      "1   chromedriver                        0x0000000100bd7c2a chromedriver + 6663210\n",
      "2   chromedriver                        0x00000001005dfe3e chromedriver + 405054\n",
      "3   chromedriver                        0x00000001005b51fa chromedriver + 229882\n",
      "4   chromedriver                        0x000000010065df9d chromedriver + 921501\n",
      "5   chromedriver                        0x0000000100677de4 chromedriver + 1027556\n",
      "6   chromedriver                        0x0000000100655613 chromedriver + 886291\n",
      "7   chromedriver                        0x0000000100622950 chromedriver + 678224\n",
      "8   chromedriver                        0x000000010062334e chromedriver + 680782\n",
      "9   chromedriver                        0x0000000100bad700 chromedriver + 6489856\n",
      "10  chromedriver                        0x0000000100bb01a9 chromedriver + 6500777\n",
      "11  chromedriver                        0x0000000100bafccb chromedriver + 6499531\n",
      "12  chromedriver                        0x0000000100bb0635 chromedriver + 6501941\n",
      "13  chromedriver                        0x0000000100b984b4 chromedriver + 6403252\n",
      "14  chromedriver                        0x0000000100bb091f chromedriver + 6502687\n",
      "15  chromedriver                        0x0000000100b898e4 chromedriver + 6342884\n",
      "16  chromedriver                        0x0000000100bc8308 chromedriver + 6599432\n",
      "17  chromedriver                        0x0000000100bc84c5 chromedriver + 6599877\n",
      "18  chromedriver                        0x0000000100bd77f8 chromedriver + 6662136\n",
      "19  libsystem_pthread.dylib             0x00007ff80b5b7253 _pthread_start + 99\n",
      "20  libsystem_pthread.dylib             0x00007ff80b5b2bef thread_start + 15\n",
      "\n",
      "Click failed for selector: button.sales-history-snapshot__show-filters\n"
     ]
    },
    {
     "name": "stderr",
     "output_type": "stream",
     "text": [
      "Price Extraction:  53%|█████▎    | 1995/3739 [5:36:01<53:34:36, 110.59s/it, Failed ex14-98: Message: session not created: Chrome failed to start: exited normally.\n",
      "  (session not created: DevToolsActivePort file doesn't exist)\n",
      "  (The process started from chrome location /Applications/Google Chrome.app/Contents/MacOS/Google Chrome is no longer running, so ChromeDriver is assuming that Chrome has crashed.)\n",
      "Stacktrace:\n",
      "0   chromedriver                        0x00000001054dce12 chromedriver + 6696466\n",
      "1   chromedriver                        0x00000001054d4c2a chromedriver + 6663210\n",
      "2   chromedriver                        0x0000000104edce3e chromedriver + 405054\n",
      "3   chromedriver                        0x0000000104f1714b chromedriver + 643403\n",
      "4   chromedriver                        0x0000000104f111da chromedriver + 618970\n",
      "5   chromedriver                        0x0000000104f5eee3 chromedriver + 937699\n",
      "6   chromedriver                        0x0000000104f5e5e6 chromedriver + 935398\n",
      "7   chromedriver                        0x0000000104f52613 chromedriver + 886291\n",
      "8   chromedriver                        0x0000000104f1f950 chromedriver + 678224\n",
      "9   chromedriver                        0x0000000104f2034e chromedriver + 680782\n",
      "10  chromedriver                        0x00000001054aa700 chromedriver + 6489856\n",
      "11  chromedriver                        0x00000001054ad1a9 chromedriver + 6500777\n",
      "12  chromedriver                        0x00000001054acccb chromedriver + 6499531\n",
      "13  chromedriver                        0x00000001054ad635 chromedriver + 6501941\n",
      "14  chromedriver                        0x00000001054954b4 chromedriver + 6403252\n",
      "15  chromedriver                        0x00000001054ad91f chromedriver + 6502687\n",
      "16  chromedriver                        0x00000001054868e4 chromedriver + 6342884\n",
      "17  chromedriver                        0x00000001054c5308 chromedriver + 6599432\n",
      "18  chromedriver                        0x00000001054c54c5 chromedriver + 6599877\n",
      "19  chromedriver                        0x00000001054d47f8 chromedriver + 6662136\n",
      "20  libsystem_pthread.dylib             0x00007ff80b5b7253 _pthread_start + 99\n",
      "21  libsystem_pthread.dylib             0x00007ff80b5b2bef thread_start + 15\n",
      "Price Extraction:  53%|█████▎    | 1996/3739 [5:36:01<38:53:25, 80.32s/it, Failed ex14-98: Message: session not created: Chrome failed to start: exited normally.\n",
      "  (session not created: DevToolsActivePort file doesn't exist)\n",
      "  (The process started from chrome location /Applications/Google Chrome.app/Contents/MacOS/Google Chrome is no longer running, so ChromeDriver is assuming that Chrome has crashed.)\n",
      "Stacktrace:\n",
      "0   chromedriver                        0x00000001054dce12 chromedriver + 6696466\n",
      "1   chromedriver                        0x00000001054d4c2a chromedriver + 6663210\n",
      "2   chromedriver                        0x0000000104edce3e chromedriver + 405054\n",
      "3   chromedriver                        0x0000000104f1714b chromedriver + 643403\n",
      "4   chromedriver                        0x0000000104f111da chromedriver + 618970\n",
      "5   chromedriver                        0x0000000104f5eee3 chromedriver + 937699\n",
      "6   chromedriver                        0x0000000104f5e5e6 chromedriver + 935398\n",
      "7   chromedriver                        0x0000000104f52613 chromedriver + 886291\n",
      "8   chromedriver                        0x0000000104f1f950 chromedriver + 678224\n",
      "9   chromedriver                        0x0000000104f2034e chromedriver + 680782\n",
      "10  chromedriver                        0x00000001054aa700 chromedriver + 6489856\n",
      "11  chromedriver                        0x00000001054ad1a9 chromedriver + 6500777\n",
      "12  chromedriver                        0x00000001054acccb chromedriver + 6499531\n",
      "13  chromedriver                        0x00000001054ad635 chromedriver + 6501941\n",
      "14  chromedriver                        0x00000001054954b4 chromedriver + 6403252\n",
      "15  chromedriver                        0x00000001054ad91f chromedriver + 6502687\n",
      "16  chromedriver                        0x00000001054868e4 chromedriver + 6342884\n",
      "17  chromedriver                        0x00000001054c5308 chromedriver + 6599432\n",
      "18  chromedriver                        0x00000001054c54c5 chromedriver + 6599877\n",
      "19  chromedriver                        0x00000001054d47f8 chromedriver + 6662136\n",
      "20  libsystem_pthread.dylib             0x00007ff80b5b7253 _pthread_start + 99\n",
      "21  libsystem_pthread.dylib             0x00007ff80b5b2bef thread_start + 15\n",
      "Price Extraction:  54%|█████▎    | 2006/3739 [5:54:41<59:41:34, 124.00s/it, Processing dp5-100]                                                                                                                                                                                                                                                                                                                                                                                                                                                                                                                                                                                                                                                                                                                                                                                                                                                                                                                                                                                                                                                                                                                                                                                                                                                                                                                                                                                                                                                                                                                                                                                                                                                                                                                                                                                                                                                                                                                                                                                                                                                                                                                                                                                                "
     ]
    },
    {
     "name": "stdout",
     "output_type": "stream",
     "text": [
      "Click failed for //label[span[text()=\"Near Mint\"]]: Message: \n",
      "Stacktrace:\n",
      "0   chromedriver                        0x00000001046dce12 chromedriver + 6696466\n",
      "1   chromedriver                        0x00000001046d4c2a chromedriver + 6663210\n",
      "2   chromedriver                        0x00000001040dce3e chromedriver + 405054\n",
      "3   chromedriver                        0x000000010412d815 chromedriver + 735253\n",
      "4   chromedriver                        0x000000010412dd11 chromedriver + 736529\n",
      "5   chromedriver                        0x0000000104178314 chromedriver + 1041172\n",
      "6   chromedriver                        0x000000010415289d chromedriver + 886941\n",
      "7   chromedriver                        0x00000001041753f4 chromedriver + 1029108\n",
      "8   chromedriver                        0x0000000104152613 chromedriver + 886291\n",
      "9   chromedriver                        0x000000010411f950 chromedriver + 678224\n",
      "10  chromedriver                        0x000000010412034e chromedriver + 680782\n",
      "11  chromedriver                        0x00000001046aa700 chromedriver + 6489856\n",
      "12  chromedriver                        0x00000001046ad1a9 chromedriver + 6500777\n",
      "13  chromedriver                        0x00000001046acccb chromedriver + 6499531\n",
      "14  chromedriver                        0x00000001046ad635 chromedriver + 6501941\n",
      "15  chromedriver                        0x00000001046954b4 chromedriver + 6403252\n",
      "16  chromedriver                        0x00000001046ad91f chromedriver + 6502687\n",
      "17  chromedriver                        0x00000001046868e4 chromedriver + 6342884\n",
      "18  chromedriver                        0x00000001046c5308 chromedriver + 6599432\n",
      "19  chromedriver                        0x00000001046c54c5 chromedriver + 6599877\n",
      "20  chromedriver                        0x00000001046d47f8 chromedriver + 6662136\n",
      "21  libsystem_pthread.dylib             0x00007ff80b5b7253 _pthread_start + 99\n",
      "22  libsystem_pthread.dylib             0x00007ff80b5b2bef thread_start + 15\n",
      "\n",
      "Click failed for selector: //label[span[text()=\"Near Mint\"]]\n"
     ]
    },
    {
     "name": "stderr",
     "output_type": "stream",
     "text": [
      "Price Extraction:  54%|█████▍    | 2025/3739 [6:24:59<45:09:23, 94.84s/it, Processing ex15-93]   "
     ]
    },
    {
     "name": "stdout",
     "output_type": "stream",
     "text": [
      "Click failed for //label[span[text()=\"Near Mint\"]]: Message: \n",
      "Stacktrace:\n",
      "0   chromedriver                        0x000000010145de12 chromedriver + 6696466\n",
      "1   chromedriver                        0x0000000101455c2a chromedriver + 6663210\n",
      "2   chromedriver                        0x0000000100e5de3e chromedriver + 405054\n",
      "3   chromedriver                        0x0000000100eae815 chromedriver + 735253\n",
      "4   chromedriver                        0x0000000100eaed11 chromedriver + 736529\n",
      "5   chromedriver                        0x0000000100ef9314 chromedriver + 1041172\n",
      "6   chromedriver                        0x0000000100ed389d chromedriver + 886941\n",
      "7   chromedriver                        0x0000000100ef63f4 chromedriver + 1029108\n",
      "8   chromedriver                        0x0000000100ed3613 chromedriver + 886291\n",
      "9   chromedriver                        0x0000000100ea0950 chromedriver + 678224\n",
      "10  chromedriver                        0x0000000100ea134e chromedriver + 680782\n",
      "11  chromedriver                        0x000000010142b700 chromedriver + 6489856\n",
      "12  chromedriver                        0x000000010142e1a9 chromedriver + 6500777\n",
      "13  chromedriver                        0x000000010142dccb chromedriver + 6499531\n",
      "14  chromedriver                        0x000000010142e635 chromedriver + 6501941\n",
      "15  chromedriver                        0x00000001014164b4 chromedriver + 6403252\n",
      "16  chromedriver                        0x000000010142e91f chromedriver + 6502687\n",
      "17  chromedriver                        0x00000001014078e4 chromedriver + 6342884\n",
      "18  chromedriver                        0x0000000101446308 chromedriver + 6599432\n",
      "19  chromedriver                        0x00000001014464c5 chromedriver + 6599877\n",
      "20  chromedriver                        0x00000001014557f8 chromedriver + 6662136\n",
      "21  libsystem_pthread.dylib             0x00007ff80b5b7253 _pthread_start + 99\n",
      "22  libsystem_pthread.dylib             0x00007ff80b5b2bef thread_start + 15\n",
      "\n",
      "Click failed for selector: //label[span[text()=\"Near Mint\"]]\n"
     ]
    },
    {
     "name": "stderr",
     "output_type": "stream",
     "text": [
      "Price Extraction:  55%|█████▍    | 2043/3739 [6:56:11<47:06:28, 99.99s/it, Processing bw7-105]  "
     ]
    },
    {
     "name": "stdout",
     "output_type": "stream",
     "text": [
      "Click failed for //label[span[text()=\"Near Mint\"]]: Message: disconnected: Unable to receive message from renderer\n",
      "  (failed to check if window was closed: disconnected: not connected to DevTools)\n",
      "  (Session info: chrome=131.0.6778.140)\n",
      "Stacktrace:\n",
      "0   chromedriver                        0x0000000100f13e12 chromedriver + 6696466\n",
      "1   chromedriver                        0x0000000100f0bc2a chromedriver + 6663210\n",
      "2   chromedriver                        0x0000000100913e3e chromedriver + 405054\n",
      "3   chromedriver                        0x00000001008fb91a chromedriver + 305434\n",
      "4   chromedriver                        0x00000001008fb638 chromedriver + 304696\n",
      "5   chromedriver                        0x00000001008f9a1b chromedriver + 297499\n",
      "6   chromedriver                        0x00000001008f9f14 chromedriver + 298772\n",
      "7   chromedriver                        0x0000000100919b17 chromedriver + 428823\n",
      "8   chromedriver                        0x000000010091cbe3 chromedriver + 441315\n",
      "9   chromedriver                        0x00000001009ad455 chromedriver + 1033301\n",
      "10  chromedriver                        0x0000000100989872 chromedriver + 886898\n",
      "11  chromedriver                        0x00000001009ac3f4 chromedriver + 1029108\n",
      "12  chromedriver                        0x0000000100989613 chromedriver + 886291\n",
      "13  chromedriver                        0x0000000100956950 chromedriver + 678224\n",
      "14  chromedriver                        0x000000010095734e chromedriver + 680782\n",
      "15  chromedriver                        0x0000000100ee1700 chromedriver + 6489856\n",
      "16  chromedriver                        0x0000000100ee41a9 chromedriver + 6500777\n",
      "17  chromedriver                        0x0000000100ee3ccb chromedriver + 6499531\n",
      "18  chromedriver                        0x0000000100ee4635 chromedriver + 6501941\n",
      "19  chromedriver                        0x0000000100ecc4b4 chromedriver + 6403252\n",
      "20  chromedriver                        0x0000000100ee491f chromedriver + 6502687\n",
      "21  chromedriver                        0x0000000100ebd8e4 chromedriver + 6342884\n",
      "22  chromedriver                        0x0000000100efc308 chromedriver + 6599432\n",
      "23  chromedriver                        0x0000000100efc4c5 chromedriver + 6599877\n",
      "24  chromedriver                        0x0000000100f0b7f8 chromedriver + 6662136\n",
      "25  libsystem_pthread.dylib             0x00007ff80b5b7253 _pthread_start + 99\n",
      "26  libsystem_pthread.dylib             0x00007ff80b5b2bef thread_start + 15\n",
      "\n",
      "Click failed for selector: //label[span[text()=\"Near Mint\"]]\n"
     ]
    },
    {
     "name": "stderr",
     "output_type": "stream",
     "text": [
      "Price Extraction:  55%|█████▍    | 2051/3739 [7:09:26<46:26:05, 99.03s/it, Processing ex7-101]   "
     ]
    },
    {
     "name": "stdout",
     "output_type": "stream",
     "text": [
      "Click failed for //label[span[text()=\"Near Mint\"]]: Message: \n",
      "Stacktrace:\n",
      "0   chromedriver                        0x0000000105272e12 chromedriver + 6696466\n",
      "1   chromedriver                        0x000000010526ac2a chromedriver + 6663210\n",
      "2   chromedriver                        0x0000000104c72e3e chromedriver + 405054\n",
      "3   chromedriver                        0x0000000104cc3815 chromedriver + 735253\n",
      "4   chromedriver                        0x0000000104cc3d11 chromedriver + 736529\n",
      "5   chromedriver                        0x0000000104d0e314 chromedriver + 1041172\n",
      "6   chromedriver                        0x0000000104ce889d chromedriver + 886941\n",
      "7   chromedriver                        0x0000000104d0b3f4 chromedriver + 1029108\n",
      "8   chromedriver                        0x0000000104ce8613 chromedriver + 886291\n",
      "9   chromedriver                        0x0000000104cb5950 chromedriver + 678224\n",
      "10  chromedriver                        0x0000000104cb634e chromedriver + 680782\n",
      "11  chromedriver                        0x0000000105240700 chromedriver + 6489856\n",
      "12  chromedriver                        0x00000001052431a9 chromedriver + 6500777\n",
      "13  chromedriver                        0x0000000105242ccb chromedriver + 6499531\n",
      "14  chromedriver                        0x0000000105243635 chromedriver + 6501941\n",
      "15  chromedriver                        0x000000010522b4b4 chromedriver + 6403252\n",
      "16  chromedriver                        0x000000010524391f chromedriver + 6502687\n",
      "17  chromedriver                        0x000000010521c8e4 chromedriver + 6342884\n",
      "18  chromedriver                        0x000000010525b308 chromedriver + 6599432\n",
      "19  chromedriver                        0x000000010525b4c5 chromedriver + 6599877\n",
      "20  chromedriver                        0x000000010526a7f8 chromedriver + 6662136\n",
      "21  libsystem_pthread.dylib             0x00007ff80b5b7253 _pthread_start + 99\n",
      "22  libsystem_pthread.dylib             0x00007ff80b5b2bef thread_start + 15\n",
      "\n",
      "Click failed for selector: //label[span[text()=\"Near Mint\"]]\n"
     ]
    },
    {
     "name": "stderr",
     "output_type": "stream",
     "text": [
      "Price Extraction:  55%|█████▍    | 2056/3739 [7:19:19<54:49:33, 117.27s/it, Processing bwp-BW94] "
     ]
    },
    {
     "name": "stdout",
     "output_type": "stream",
     "text": [
      "Click failed for //label[span[text()=\"Near Mint\"]]: Message: \n",
      "Stacktrace:\n",
      "0   chromedriver                        0x0000000100d0fe12 chromedriver + 6696466\n",
      "1   chromedriver                        0x0000000100d07c2a chromedriver + 6663210\n",
      "2   chromedriver                        0x000000010070fe3e chromedriver + 405054\n",
      "3   chromedriver                        0x0000000100760815 chromedriver + 735253\n",
      "4   chromedriver                        0x0000000100760d11 chromedriver + 736529\n",
      "5   chromedriver                        0x00000001007ab314 chromedriver + 1041172\n",
      "6   chromedriver                        0x000000010078589d chromedriver + 886941\n",
      "7   chromedriver                        0x00000001007a83f4 chromedriver + 1029108\n",
      "8   chromedriver                        0x0000000100785613 chromedriver + 886291\n",
      "9   chromedriver                        0x0000000100752950 chromedriver + 678224\n",
      "10  chromedriver                        0x000000010075334e chromedriver + 680782\n",
      "11  chromedriver                        0x0000000100cdd700 chromedriver + 6489856\n",
      "12  chromedriver                        0x0000000100ce01a9 chromedriver + 6500777\n",
      "13  chromedriver                        0x0000000100cdfccb chromedriver + 6499531\n",
      "14  chromedriver                        0x0000000100ce0635 chromedriver + 6501941\n",
      "15  chromedriver                        0x0000000100cc84b4 chromedriver + 6403252\n",
      "16  chromedriver                        0x0000000100ce091f chromedriver + 6502687\n",
      "17  chromedriver                        0x0000000100cb98e4 chromedriver + 6342884\n",
      "18  chromedriver                        0x0000000100cf8308 chromedriver + 6599432\n",
      "19  chromedriver                        0x0000000100cf84c5 chromedriver + 6599877\n",
      "20  chromedriver                        0x0000000100d077f8 chromedriver + 6662136\n",
      "21  libsystem_pthread.dylib             0x00007ff80b5b7253 _pthread_start + 99\n",
      "22  libsystem_pthread.dylib             0x00007ff80b5b2bef thread_start + 15\n",
      "\n",
      "Click failed for selector: //label[span[text()=\"Near Mint\"]]\n"
     ]
    },
    {
     "name": "stderr",
     "output_type": "stream",
     "text": [
      "Price Extraction:  55%|█████▌    | 2061/3739 [7:27:04<43:45:06, 93.87s/it, Processing hgss1-114] "
     ]
    },
    {
     "name": "stdout",
     "output_type": "stream",
     "text": [
      "Click failed for //label[span[text()=\"Near Mint\"]]: Message: \n",
      "Stacktrace:\n",
      "0   chromedriver                        0x00000001011fde12 chromedriver + 6696466\n",
      "1   chromedriver                        0x00000001011f5c2a chromedriver + 6663210\n",
      "2   chromedriver                        0x0000000100bfde3e chromedriver + 405054\n",
      "3   chromedriver                        0x0000000100c4e815 chromedriver + 735253\n",
      "4   chromedriver                        0x0000000100c4ed11 chromedriver + 736529\n",
      "5   chromedriver                        0x0000000100c99314 chromedriver + 1041172\n",
      "6   chromedriver                        0x0000000100c7389d chromedriver + 886941\n",
      "7   chromedriver                        0x0000000100c963f4 chromedriver + 1029108\n",
      "8   chromedriver                        0x0000000100c73613 chromedriver + 886291\n",
      "9   chromedriver                        0x0000000100c40950 chromedriver + 678224\n",
      "10  chromedriver                        0x0000000100c4134e chromedriver + 680782\n",
      "11  chromedriver                        0x00000001011cb700 chromedriver + 6489856\n",
      "12  chromedriver                        0x00000001011ce1a9 chromedriver + 6500777\n",
      "13  chromedriver                        0x00000001011cdccb chromedriver + 6499531\n",
      "14  chromedriver                        0x00000001011ce635 chromedriver + 6501941\n",
      "15  chromedriver                        0x00000001011b64b4 chromedriver + 6403252\n",
      "16  chromedriver                        0x00000001011ce91f chromedriver + 6502687\n",
      "17  chromedriver                        0x00000001011a78e4 chromedriver + 6342884\n",
      "18  chromedriver                        0x00000001011e6308 chromedriver + 6599432\n",
      "19  chromedriver                        0x00000001011e64c5 chromedriver + 6599877\n",
      "20  chromedriver                        0x00000001011f57f8 chromedriver + 6662136\n",
      "21  libsystem_pthread.dylib             0x00007ff80b5b7253 _pthread_start + 99\n",
      "22  libsystem_pthread.dylib             0x00007ff80b5b2bef thread_start + 15\n",
      "\n",
      "Click failed for selector: //label[span[text()=\"Near Mint\"]]\n"
     ]
    },
    {
     "name": "stderr",
     "output_type": "stream",
     "text": [
      "Price Extraction:  56%|█████▋    | 2110/3739 [8:46:30<43:34:56, 96.31s/it, Processing ex7-105]   "
     ]
    },
    {
     "name": "stdout",
     "output_type": "stream",
     "text": [
      "Click failed for //label[span[text()=\"Near Mint\"]]: Message: \n",
      "Stacktrace:\n",
      "0   chromedriver                        0x00000001026dde12 chromedriver + 6696466\n",
      "1   chromedriver                        0x00000001026d5c2a chromedriver + 6663210\n",
      "2   chromedriver                        0x00000001020dde3e chromedriver + 405054\n",
      "3   chromedriver                        0x000000010212e815 chromedriver + 735253\n",
      "4   chromedriver                        0x000000010212ed11 chromedriver + 736529\n",
      "5   chromedriver                        0x0000000102179314 chromedriver + 1041172\n",
      "6   chromedriver                        0x000000010215389d chromedriver + 886941\n",
      "7   chromedriver                        0x00000001021763f4 chromedriver + 1029108\n",
      "8   chromedriver                        0x0000000102153613 chromedriver + 886291\n",
      "9   chromedriver                        0x0000000102120950 chromedriver + 678224\n",
      "10  chromedriver                        0x000000010212134e chromedriver + 680782\n",
      "11  chromedriver                        0x00000001026ab700 chromedriver + 6489856\n",
      "12  chromedriver                        0x00000001026ae1a9 chromedriver + 6500777\n",
      "13  chromedriver                        0x00000001026adccb chromedriver + 6499531\n",
      "14  chromedriver                        0x00000001026ae635 chromedriver + 6501941\n",
      "15  chromedriver                        0x00000001026964b4 chromedriver + 6403252\n",
      "16  chromedriver                        0x00000001026ae91f chromedriver + 6502687\n",
      "17  chromedriver                        0x00000001026878e4 chromedriver + 6342884\n",
      "18  chromedriver                        0x00000001026c6308 chromedriver + 6599432\n",
      "19  chromedriver                        0x00000001026c64c5 chromedriver + 6599877\n",
      "20  chromedriver                        0x00000001026d57f8 chromedriver + 6662136\n",
      "21  libsystem_pthread.dylib             0x00007ff80b5b7253 _pthread_start + 99\n",
      "22  libsystem_pthread.dylib             0x00007ff80b5b2bef thread_start + 15\n",
      "\n",
      "Click failed for selector: //label[span[text()=\"Near Mint\"]]\n"
     ]
    },
    {
     "name": "stderr",
     "output_type": "stream",
     "text": [
      "Price Extraction:  57%|█████▋    | 2119/3739 [9:02:30<47:11:12, 104.86s/it, Processing pl2-110]  "
     ]
    },
    {
     "name": "stdout",
     "output_type": "stream",
     "text": [
      "Click failed for //label[span[text()=\"Near Mint\"]]: Message: \n",
      "Stacktrace:\n",
      "0   chromedriver                        0x0000000103000e12 chromedriver + 6696466\n",
      "1   chromedriver                        0x0000000102ff8c2a chromedriver + 6663210\n",
      "2   chromedriver                        0x0000000102a00e3e chromedriver + 405054\n",
      "3   chromedriver                        0x0000000102a51815 chromedriver + 735253\n",
      "4   chromedriver                        0x0000000102a51d11 chromedriver + 736529\n",
      "5   chromedriver                        0x0000000102a9c314 chromedriver + 1041172\n",
      "6   chromedriver                        0x0000000102a7689d chromedriver + 886941\n",
      "7   chromedriver                        0x0000000102a993f4 chromedriver + 1029108\n",
      "8   chromedriver                        0x0000000102a76613 chromedriver + 886291\n",
      "9   chromedriver                        0x0000000102a43950 chromedriver + 678224\n",
      "10  chromedriver                        0x0000000102a4434e chromedriver + 680782\n",
      "11  chromedriver                        0x0000000102fce700 chromedriver + 6489856\n",
      "12  chromedriver                        0x0000000102fd11a9 chromedriver + 6500777\n",
      "13  chromedriver                        0x0000000102fd0ccb chromedriver + 6499531\n",
      "14  chromedriver                        0x0000000102fd1635 chromedriver + 6501941\n",
      "15  chromedriver                        0x0000000102fb94b4 chromedriver + 6403252\n",
      "16  chromedriver                        0x0000000102fd191f chromedriver + 6502687\n",
      "17  chromedriver                        0x0000000102faa8e4 chromedriver + 6342884\n",
      "18  chromedriver                        0x0000000102fe9308 chromedriver + 6599432\n",
      "19  chromedriver                        0x0000000102fe94c5 chromedriver + 6599877\n",
      "20  chromedriver                        0x0000000102ff87f8 chromedriver + 6662136\n",
      "21  libsystem_pthread.dylib             0x00007ff80b5b7253 _pthread_start + 99\n",
      "22  libsystem_pthread.dylib             0x00007ff80b5b2bef thread_start + 15\n",
      "\n",
      "Click failed for selector: //label[span[text()=\"Near Mint\"]]\n"
     ]
    },
    {
     "name": "stderr",
     "output_type": "stream",
     "text": [
      "Price Extraction:  57%|█████▋    | 2138/3739 [9:34:46<39:55:30, 89.78s/it, Processing dp7-101]   "
     ]
    },
    {
     "name": "stdout",
     "output_type": "stream",
     "text": [
      "Click failed for //label[span[text()=\"Near Mint\"]]: Message: \n",
      "Stacktrace:\n",
      "0   chromedriver                        0x0000000101406e12 chromedriver + 6696466\n",
      "1   chromedriver                        0x00000001013fec2a chromedriver + 6663210\n",
      "2   chromedriver                        0x0000000100e06e3e chromedriver + 405054\n",
      "3   chromedriver                        0x0000000100e57815 chromedriver + 735253\n",
      "4   chromedriver                        0x0000000100e57d11 chromedriver + 736529\n",
      "5   chromedriver                        0x0000000100ea2314 chromedriver + 1041172\n",
      "6   chromedriver                        0x0000000100e7c89d chromedriver + 886941\n",
      "7   chromedriver                        0x0000000100e9f3f4 chromedriver + 1029108\n",
      "8   chromedriver                        0x0000000100e7c613 chromedriver + 886291\n",
      "9   chromedriver                        0x0000000100e49950 chromedriver + 678224\n",
      "10  chromedriver                        0x0000000100e4a34e chromedriver + 680782\n",
      "11  chromedriver                        0x00000001013d4700 chromedriver + 6489856\n",
      "12  chromedriver                        0x00000001013d71a9 chromedriver + 6500777\n",
      "13  chromedriver                        0x00000001013d6ccb chromedriver + 6499531\n",
      "14  chromedriver                        0x00000001013d7635 chromedriver + 6501941\n",
      "15  chromedriver                        0x00000001013bf4b4 chromedriver + 6403252\n",
      "16  chromedriver                        0x00000001013d791f chromedriver + 6502687\n",
      "17  chromedriver                        0x00000001013b08e4 chromedriver + 6342884\n",
      "18  chromedriver                        0x00000001013ef308 chromedriver + 6599432\n",
      "19  chromedriver                        0x00000001013ef4c5 chromedriver + 6599877\n",
      "20  chromedriver                        0x00000001013fe7f8 chromedriver + 6662136\n",
      "21  libsystem_pthread.dylib             0x00007ff80b5b7253 _pthread_start + 99\n",
      "22  libsystem_pthread.dylib             0x00007ff80b5b2bef thread_start + 15\n",
      "\n",
      "Click failed for selector: //label[span[text()=\"Near Mint\"]]\n"
     ]
    },
    {
     "name": "stderr",
     "output_type": "stream",
     "text": [
      "Price Extraction:  57%|█████▋    | 2139/3739 [9:37:15<47:48:19, 107.56s/it, Processing col1-SL11]"
     ]
    },
    {
     "name": "stdout",
     "output_type": "stream",
     "text": [
      "Click failed for //label[span[text()=\"Near Mint\"]]: Message: \n",
      "Stacktrace:\n",
      "0   chromedriver                        0x0000000100c19e12 chromedriver + 6696466\n",
      "1   chromedriver                        0x0000000100c11c2a chromedriver + 6663210\n",
      "2   chromedriver                        0x0000000100619e3e chromedriver + 405054\n",
      "3   chromedriver                        0x000000010066a815 chromedriver + 735253\n",
      "4   chromedriver                        0x000000010066ad11 chromedriver + 736529\n",
      "5   chromedriver                        0x00000001006b5314 chromedriver + 1041172\n",
      "6   chromedriver                        0x000000010068f89d chromedriver + 886941\n",
      "7   chromedriver                        0x00000001006b23f4 chromedriver + 1029108\n",
      "8   chromedriver                        0x000000010068f613 chromedriver + 886291\n",
      "9   chromedriver                        0x000000010065c950 chromedriver + 678224\n",
      "10  chromedriver                        0x000000010065d34e chromedriver + 680782\n",
      "11  chromedriver                        0x0000000100be7700 chromedriver + 6489856\n",
      "12  chromedriver                        0x0000000100bea1a9 chromedriver + 6500777\n",
      "13  chromedriver                        0x0000000100be9ccb chromedriver + 6499531\n",
      "14  chromedriver                        0x0000000100bea635 chromedriver + 6501941\n",
      "15  chromedriver                        0x0000000100bd24b4 chromedriver + 6403252\n",
      "16  chromedriver                        0x0000000100bea91f chromedriver + 6502687\n",
      "17  chromedriver                        0x0000000100bc38e4 chromedriver + 6342884\n",
      "18  chromedriver                        0x0000000100c02308 chromedriver + 6599432\n",
      "19  chromedriver                        0x0000000100c024c5 chromedriver + 6599877\n",
      "20  chromedriver                        0x0000000100c117f8 chromedriver + 6662136\n",
      "21  libsystem_pthread.dylib             0x00007ff80b5b7253 _pthread_start + 99\n",
      "22  libsystem_pthread.dylib             0x00007ff80b5b2bef thread_start + 15\n",
      "\n",
      "Click failed for selector: //label[span[text()=\"Near Mint\"]]\n"
     ]
    },
    {
     "name": "stderr",
     "output_type": "stream",
     "text": [
      "Price Extraction:  58%|█████▊    | 2159/3739 [10:11:40<44:22:59, 101.13s/it, Processing xyp-XY104]"
     ]
    },
    {
     "name": "stdout",
     "output_type": "stream",
     "text": [
      "Click failed for //label[span[text()=\"Near Mint\"]]: Message: \n",
      "Stacktrace:\n",
      "0   chromedriver                        0x0000000100d1ce12 chromedriver + 6696466\n",
      "1   chromedriver                        0x0000000100d14c2a chromedriver + 6663210\n",
      "2   chromedriver                        0x000000010071ce3e chromedriver + 405054\n",
      "3   chromedriver                        0x000000010076d815 chromedriver + 735253\n",
      "4   chromedriver                        0x000000010076dd11 chromedriver + 736529\n",
      "5   chromedriver                        0x00000001007b8314 chromedriver + 1041172\n",
      "6   chromedriver                        0x000000010079289d chromedriver + 886941\n",
      "7   chromedriver                        0x00000001007b53f4 chromedriver + 1029108\n",
      "8   chromedriver                        0x0000000100792613 chromedriver + 886291\n",
      "9   chromedriver                        0x000000010075f950 chromedriver + 678224\n",
      "10  chromedriver                        0x000000010076034e chromedriver + 680782\n",
      "11  chromedriver                        0x0000000100cea700 chromedriver + 6489856\n",
      "12  chromedriver                        0x0000000100ced1a9 chromedriver + 6500777\n",
      "13  chromedriver                        0x0000000100cecccb chromedriver + 6499531\n",
      "14  chromedriver                        0x0000000100ced635 chromedriver + 6501941\n",
      "15  chromedriver                        0x0000000100cd54b4 chromedriver + 6403252\n",
      "16  chromedriver                        0x0000000100ced91f chromedriver + 6502687\n",
      "17  chromedriver                        0x0000000100cc68e4 chromedriver + 6342884\n",
      "18  chromedriver                        0x0000000100d05308 chromedriver + 6599432\n",
      "19  chromedriver                        0x0000000100d054c5 chromedriver + 6599877\n",
      "20  chromedriver                        0x0000000100d147f8 chromedriver + 6662136\n",
      "21  libsystem_pthread.dylib             0x00007ff80b5b7253 _pthread_start + 99\n",
      "22  libsystem_pthread.dylib             0x00007ff80b5b2bef thread_start + 15\n",
      "\n",
      "Click failed for selector: //label[span[text()=\"Near Mint\"]]\n"
     ]
    },
    {
     "name": "stderr",
     "output_type": "stream",
     "text": [
      "Price Extraction:  58%|█████▊    | 2173/3739 [10:35:44<44:55:33, 103.28s/it, Processing bw9-111]  "
     ]
    },
    {
     "name": "stdout",
     "output_type": "stream",
     "text": [
      "Click failed for //label[span[text()=\"Near Mint\"]]: Message: \n",
      "Stacktrace:\n",
      "0   chromedriver                        0x00000001035e4e12 chromedriver + 6696466\n",
      "1   chromedriver                        0x00000001035dcc2a chromedriver + 6663210\n",
      "2   chromedriver                        0x0000000102fe4e3e chromedriver + 405054\n",
      "3   chromedriver                        0x0000000103035815 chromedriver + 735253\n",
      "4   chromedriver                        0x0000000103035d11 chromedriver + 736529\n",
      "5   chromedriver                        0x0000000103080314 chromedriver + 1041172\n",
      "6   chromedriver                        0x000000010305a89d chromedriver + 886941\n",
      "7   chromedriver                        0x000000010307d3f4 chromedriver + 1029108\n",
      "8   chromedriver                        0x000000010305a613 chromedriver + 886291\n",
      "9   chromedriver                        0x0000000103027950 chromedriver + 678224\n",
      "10  chromedriver                        0x000000010302834e chromedriver + 680782\n",
      "11  chromedriver                        0x00000001035b2700 chromedriver + 6489856\n",
      "12  chromedriver                        0x00000001035b51a9 chromedriver + 6500777\n",
      "13  chromedriver                        0x00000001035b4ccb chromedriver + 6499531\n",
      "14  chromedriver                        0x00000001035b5635 chromedriver + 6501941\n",
      "15  chromedriver                        0x000000010359d4b4 chromedriver + 6403252\n",
      "16  chromedriver                        0x00000001035b591f chromedriver + 6502687\n",
      "17  chromedriver                        0x000000010358e8e4 chromedriver + 6342884\n",
      "18  chromedriver                        0x00000001035cd308 chromedriver + 6599432\n",
      "19  chromedriver                        0x00000001035cd4c5 chromedriver + 6599877\n",
      "20  chromedriver                        0x00000001035dc7f8 chromedriver + 6662136\n",
      "21  libsystem_pthread.dylib             0x00007ff80b5b7253 _pthread_start + 99\n",
      "22  libsystem_pthread.dylib             0x00007ff80b5b2bef thread_start + 15\n",
      "\n",
      "Click failed for selector: //label[span[text()=\"Near Mint\"]]\n"
     ]
    },
    {
     "name": "stderr",
     "output_type": "stream",
     "text": [
      "Price Extraction:  59%|█████▉    | 2200/3739 [11:19:09<44:15:02, 103.51s/it, Processing ex10-111] "
     ]
    },
    {
     "name": "stdout",
     "output_type": "stream",
     "text": [
      "Click failed for //label[span[text()=\"Near Mint\"]]: Message: \n",
      "Stacktrace:\n",
      "0   chromedriver                        0x0000000104cb0e12 chromedriver + 6696466\n",
      "1   chromedriver                        0x0000000104ca8c2a chromedriver + 6663210\n",
      "2   chromedriver                        0x00000001046b0e3e chromedriver + 405054\n",
      "3   chromedriver                        0x0000000104701815 chromedriver + 735253\n",
      "4   chromedriver                        0x0000000104701d11 chromedriver + 736529\n",
      "5   chromedriver                        0x000000010474c314 chromedriver + 1041172\n",
      "6   chromedriver                        0x000000010472689d chromedriver + 886941\n",
      "7   chromedriver                        0x00000001047493f4 chromedriver + 1029108\n",
      "8   chromedriver                        0x0000000104726613 chromedriver + 886291\n",
      "9   chromedriver                        0x00000001046f3950 chromedriver + 678224\n",
      "10  chromedriver                        0x00000001046f434e chromedriver + 680782\n",
      "11  chromedriver                        0x0000000104c7e700 chromedriver + 6489856\n",
      "12  chromedriver                        0x0000000104c811a9 chromedriver + 6500777\n",
      "13  chromedriver                        0x0000000104c80ccb chromedriver + 6499531\n",
      "14  chromedriver                        0x0000000104c81635 chromedriver + 6501941\n",
      "15  chromedriver                        0x0000000104c694b4 chromedriver + 6403252\n",
      "16  chromedriver                        0x0000000104c8191f chromedriver + 6502687\n",
      "17  chromedriver                        0x0000000104c5a8e4 chromedriver + 6342884\n",
      "18  chromedriver                        0x0000000104c99308 chromedriver + 6599432\n",
      "19  chromedriver                        0x0000000104c994c5 chromedriver + 6599877\n",
      "20  chromedriver                        0x0000000104ca87f8 chromedriver + 6662136\n",
      "21  libsystem_pthread.dylib             0x00007ff80b5b7253 _pthread_start + 99\n",
      "22  libsystem_pthread.dylib             0x00007ff80b5b2bef thread_start + 15\n",
      "\n",
      "Click failed for selector: //label[span[text()=\"Near Mint\"]]\n"
     ]
    },
    {
     "name": "stderr",
     "output_type": "stream",
     "text": [
      "Price Extraction:  59%|█████▉    | 2223/3739 [11:53:19<36:58:23, 87.80s/it, Processing bw5-105]  "
     ]
    },
    {
     "name": "stdout",
     "output_type": "stream",
     "text": [
      "Click failed for //label[span[text()=\"Near Mint\"]]: Message: \n",
      "Stacktrace:\n",
      "0   chromedriver                        0x0000000101467e12 chromedriver + 6696466\n",
      "1   chromedriver                        0x000000010145fc2a chromedriver + 6663210\n",
      "2   chromedriver                        0x0000000100e67e3e chromedriver + 405054\n",
      "3   chromedriver                        0x0000000100eb8815 chromedriver + 735253\n",
      "4   chromedriver                        0x0000000100eb8d11 chromedriver + 736529\n",
      "5   chromedriver                        0x0000000100f03314 chromedriver + 1041172\n",
      "6   chromedriver                        0x0000000100edd89d chromedriver + 886941\n",
      "7   chromedriver                        0x0000000100f003f4 chromedriver + 1029108\n",
      "8   chromedriver                        0x0000000100edd613 chromedriver + 886291\n",
      "9   chromedriver                        0x0000000100eaa950 chromedriver + 678224\n",
      "10  chromedriver                        0x0000000100eab34e chromedriver + 680782\n",
      "11  chromedriver                        0x0000000101435700 chromedriver + 6489856\n",
      "12  chromedriver                        0x00000001014381a9 chromedriver + 6500777\n",
      "13  chromedriver                        0x0000000101437ccb chromedriver + 6499531\n",
      "14  chromedriver                        0x0000000101438635 chromedriver + 6501941\n",
      "15  chromedriver                        0x00000001014204b4 chromedriver + 6403252\n",
      "16  chromedriver                        0x000000010143891f chromedriver + 6502687\n",
      "17  chromedriver                        0x00000001014118e4 chromedriver + 6342884\n",
      "18  chromedriver                        0x0000000101450308 chromedriver + 6599432\n",
      "19  chromedriver                        0x00000001014504c5 chromedriver + 6599877\n",
      "20  chromedriver                        0x000000010145f7f8 chromedriver + 6662136\n",
      "21  libsystem_pthread.dylib             0x00007ff80b5b7253 _pthread_start + 99\n",
      "22  libsystem_pthread.dylib             0x00007ff80b5b2bef thread_start + 15\n",
      "\n",
      "Click failed for selector: //label[span[text()=\"Near Mint\"]]\n"
     ]
    },
    {
     "name": "stderr",
     "output_type": "stream",
     "text": [
      "Price Extraction:  60%|█████▉    | 2228/3739 [12:02:07<43:05:14, 102.66s/it, Processing dp4-105] "
     ]
    },
    {
     "name": "stdout",
     "output_type": "stream",
     "text": [
      "Click failed for //label[span[text()=\"Near Mint\"]]: Message: \n",
      "Stacktrace:\n",
      "0   chromedriver                        0x0000000104cc0e12 chromedriver + 6696466\n",
      "1   chromedriver                        0x0000000104cb8c2a chromedriver + 6663210\n",
      "2   chromedriver                        0x00000001046c0e3e chromedriver + 405054\n",
      "3   chromedriver                        0x0000000104711815 chromedriver + 735253\n",
      "4   chromedriver                        0x0000000104711d11 chromedriver + 736529\n",
      "5   chromedriver                        0x000000010475c314 chromedriver + 1041172\n",
      "6   chromedriver                        0x000000010473689d chromedriver + 886941\n",
      "7   chromedriver                        0x00000001047593f4 chromedriver + 1029108\n",
      "8   chromedriver                        0x0000000104736613 chromedriver + 886291\n",
      "9   chromedriver                        0x0000000104703950 chromedriver + 678224\n",
      "10  chromedriver                        0x000000010470434e chromedriver + 680782\n",
      "11  chromedriver                        0x0000000104c8e700 chromedriver + 6489856\n",
      "12  chromedriver                        0x0000000104c911a9 chromedriver + 6500777\n",
      "13  chromedriver                        0x0000000104c90ccb chromedriver + 6499531\n",
      "14  chromedriver                        0x0000000104c91635 chromedriver + 6501941\n",
      "15  chromedriver                        0x0000000104c794b4 chromedriver + 6403252\n",
      "16  chromedriver                        0x0000000104c9191f chromedriver + 6502687\n",
      "17  chromedriver                        0x0000000104c6a8e4 chromedriver + 6342884\n",
      "18  chromedriver                        0x0000000104ca9308 chromedriver + 6599432\n",
      "19  chromedriver                        0x0000000104ca94c5 chromedriver + 6599877\n",
      "20  chromedriver                        0x0000000104cb87f8 chromedriver + 6662136\n",
      "21  libsystem_pthread.dylib             0x00007ff80b5b7253 _pthread_start + 99\n",
      "22  libsystem_pthread.dylib             0x00007ff80b5b2bef thread_start + 15\n",
      "\n",
      "Click failed for selector: //label[span[text()=\"Near Mint\"]]\n"
     ]
    },
    {
     "name": "stderr",
     "output_type": "stream",
     "text": [
      "Price Extraction:  60%|█████▉    | 2228/3739 [12:02:08<43:05:14, 102.66s/it, Processing bw5-106]"
     ]
    },
    {
     "name": "stdout",
     "output_type": "stream",
     "text": [
      "Click failed for //label[span[text()=\"Near Mint\"]]: Message: \n",
      "Stacktrace:\n",
      "0   chromedriver                        0x0000000102e7ae12 chromedriver + 6696466\n",
      "1   chromedriver                        0x0000000102e72c2a chromedriver + 6663210\n",
      "2   chromedriver                        0x000000010287ae3e chromedriver + 405054\n",
      "3   chromedriver                        0x00000001028cb815 chromedriver + 735253\n",
      "4   chromedriver                        0x00000001028cbd11 chromedriver + 736529\n",
      "5   chromedriver                        0x0000000102916314 chromedriver + 1041172\n",
      "6   chromedriver                        0x00000001028f089d chromedriver + 886941\n",
      "7   chromedriver                        0x00000001029133f4 chromedriver + 1029108\n",
      "8   chromedriver                        0x00000001028f0613 chromedriver + 886291\n",
      "9   chromedriver                        0x00000001028bd950 chromedriver + 678224\n",
      "10  chromedriver                        0x00000001028be34e chromedriver + 680782\n",
      "11  chromedriver                        0x0000000102e48700 chromedriver + 6489856\n",
      "12  chromedriver                        0x0000000102e4b1a9 chromedriver + 6500777\n",
      "13  chromedriver                        0x0000000102e4accb chromedriver + 6499531\n",
      "14  chromedriver                        0x0000000102e4b635 chromedriver + 6501941\n",
      "15  chromedriver                        0x0000000102e334b4 chromedriver + 6403252\n",
      "16  chromedriver                        0x0000000102e4b91f chromedriver + 6502687\n",
      "17  chromedriver                        0x0000000102e248e4 chromedriver + 6342884\n",
      "18  chromedriver                        0x0000000102e63308 chromedriver + 6599432\n",
      "19  chromedriver                        0x0000000102e634c5 chromedriver + 6599877\n",
      "20  chromedriver                        0x0000000102e727f8 chromedriver + 6662136\n",
      "21  libsystem_pthread.dylib             0x00007ff80b5b7253 _pthread_start + 99\n",
      "22  libsystem_pthread.dylib             0x00007ff80b5b2bef thread_start + 15\n",
      "\n",
      "Click failed for selector: //label[span[text()=\"Near Mint\"]]\n"
     ]
    },
    {
     "name": "stderr",
     "output_type": "stream",
     "text": [
      "Price Extraction:  61%|██████    | 2269/3739 [13:04:20<40:18:42, 98.72s/it, Processing bw9-119]   "
     ]
    },
    {
     "name": "stdout",
     "output_type": "stream",
     "text": [
      "Click failed for //label[span[text()=\"Near Mint\"]]: Message: \n",
      "Stacktrace:\n",
      "0   chromedriver                        0x0000000104b24e12 chromedriver + 6696466\n",
      "1   chromedriver                        0x0000000104b1cc2a chromedriver + 6663210\n",
      "2   chromedriver                        0x0000000104524e3e chromedriver + 405054\n",
      "3   chromedriver                        0x0000000104575815 chromedriver + 735253\n",
      "4   chromedriver                        0x0000000104575d11 chromedriver + 736529\n",
      "5   chromedriver                        0x00000001045c0314 chromedriver + 1041172\n",
      "6   chromedriver                        0x000000010459a89d chromedriver + 886941\n",
      "7   chromedriver                        0x00000001045bd3f4 chromedriver + 1029108\n",
      "8   chromedriver                        0x000000010459a613 chromedriver + 886291\n",
      "9   chromedriver                        0x0000000104567950 chromedriver + 678224\n",
      "10  chromedriver                        0x000000010456834e chromedriver + 680782\n",
      "11  chromedriver                        0x0000000104af2700 chromedriver + 6489856\n",
      "12  chromedriver                        0x0000000104af51a9 chromedriver + 6500777\n",
      "13  chromedriver                        0x0000000104af4ccb chromedriver + 6499531\n",
      "14  chromedriver                        0x0000000104af5635 chromedriver + 6501941\n",
      "15  chromedriver                        0x0000000104add4b4 chromedriver + 6403252\n",
      "16  chromedriver                        0x0000000104af591f chromedriver + 6502687\n",
      "17  chromedriver                        0x0000000104ace8e4 chromedriver + 6342884\n",
      "18  chromedriver                        0x0000000104b0d308 chromedriver + 6599432\n",
      "19  chromedriver                        0x0000000104b0d4c5 chromedriver + 6599877\n",
      "20  chromedriver                        0x0000000104b1c7f8 chromedriver + 6662136\n",
      "21  libsystem_pthread.dylib             0x00007ff80b5b7253 _pthread_start + 99\n",
      "22  libsystem_pthread.dylib             0x00007ff80b5b2bef thread_start + 15\n",
      "\n",
      "Click failed for selector: //label[span[text()=\"Near Mint\"]]\n"
     ]
    },
    {
     "name": "stderr",
     "output_type": "stream",
     "text": [
      "Price Extraction:  61%|██████    | 2274/3739 [13:12:34<40:26:20, 99.37s/it, Processing bw5-111]  "
     ]
    },
    {
     "name": "stdout",
     "output_type": "stream",
     "text": [
      "Click failed for //label[span[text()=\"Near Mint\"]]: Message: \n",
      "Stacktrace:\n",
      "0   chromedriver                        0x00000001050e5e12 chromedriver + 6696466\n",
      "1   chromedriver                        0x00000001050ddc2a chromedriver + 6663210\n",
      "2   chromedriver                        0x0000000104ae5e3e chromedriver + 405054\n",
      "3   chromedriver                        0x0000000104b36815 chromedriver + 735253\n",
      "4   chromedriver                        0x0000000104b36d11 chromedriver + 736529\n",
      "5   chromedriver                        0x0000000104b81314 chromedriver + 1041172\n",
      "6   chromedriver                        0x0000000104b5b89d chromedriver + 886941\n",
      "7   chromedriver                        0x0000000104b7e3f4 chromedriver + 1029108\n",
      "8   chromedriver                        0x0000000104b5b613 chromedriver + 886291\n",
      "9   chromedriver                        0x0000000104b28950 chromedriver + 678224\n",
      "10  chromedriver                        0x0000000104b2934e chromedriver + 680782\n",
      "11  chromedriver                        0x00000001050b3700 chromedriver + 6489856\n",
      "12  chromedriver                        0x00000001050b61a9 chromedriver + 6500777\n",
      "13  chromedriver                        0x00000001050b5ccb chromedriver + 6499531\n",
      "14  chromedriver                        0x00000001050b6635 chromedriver + 6501941\n",
      "15  chromedriver                        0x000000010509e4b4 chromedriver + 6403252\n",
      "16  chromedriver                        0x00000001050b691f chromedriver + 6502687\n",
      "17  chromedriver                        0x000000010508f8e4 chromedriver + 6342884\n",
      "18  chromedriver                        0x00000001050ce308 chromedriver + 6599432\n",
      "19  chromedriver                        0x00000001050ce4c5 chromedriver + 6599877\n",
      "20  chromedriver                        0x00000001050dd7f8 chromedriver + 6662136\n",
      "21  libsystem_pthread.dylib             0x00007ff80b5b7253 _pthread_start + 99\n",
      "22  libsystem_pthread.dylib             0x00007ff80b5b2bef thread_start + 15\n",
      "\n",
      "Click failed for selector: //label[span[text()=\"Near Mint\"]]\n"
     ]
    },
    {
     "name": "stderr",
     "output_type": "stream",
     "text": [
      "Price Extraction:  61%|██████    | 2279/3739 [13:20:53<40:05:40, 98.86s/it, Processing bw5-110]   "
     ]
    },
    {
     "name": "stdout",
     "output_type": "stream",
     "text": [
      "Click failed for //label[span[text()=\"Near Mint\"]]: Message: \n",
      "Stacktrace:\n",
      "0   chromedriver                        0x0000000104d17e12 chromedriver + 6696466\n",
      "1   chromedriver                        0x0000000104d0fc2a chromedriver + 6663210\n",
      "2   chromedriver                        0x0000000104717e3e chromedriver + 405054\n",
      "3   chromedriver                        0x0000000104768815 chromedriver + 735253\n",
      "4   chromedriver                        0x0000000104768d11 chromedriver + 736529\n",
      "5   chromedriver                        0x00000001047b3314 chromedriver + 1041172\n",
      "6   chromedriver                        0x000000010478d89d chromedriver + 886941\n",
      "7   chromedriver                        0x00000001047b03f4 chromedriver + 1029108\n",
      "8   chromedriver                        0x000000010478d613 chromedriver + 886291\n",
      "9   chromedriver                        0x000000010475a950 chromedriver + 678224\n",
      "10  chromedriver                        0x000000010475b34e chromedriver + 680782\n",
      "11  chromedriver                        0x0000000104ce5700 chromedriver + 6489856\n",
      "12  chromedriver                        0x0000000104ce81a9 chromedriver + 6500777\n",
      "13  chromedriver                        0x0000000104ce7ccb chromedriver + 6499531\n",
      "14  chromedriver                        0x0000000104ce8635 chromedriver + 6501941\n",
      "15  chromedriver                        0x0000000104cd04b4 chromedriver + 6403252\n",
      "16  chromedriver                        0x0000000104ce891f chromedriver + 6502687\n",
      "17  chromedriver                        0x0000000104cc18e4 chromedriver + 6342884\n",
      "18  chromedriver                        0x0000000104d00308 chromedriver + 6599432\n",
      "19  chromedriver                        0x0000000104d004c5 chromedriver + 6599877\n",
      "20  chromedriver                        0x0000000104d0f7f8 chromedriver + 6662136\n",
      "21  libsystem_pthread.dylib             0x00007ff80b5b7253 _pthread_start + 99\n",
      "22  libsystem_pthread.dylib             0x00007ff80b5b2bef thread_start + 15\n",
      "\n",
      "Click failed for selector: //label[span[text()=\"Near Mint\"]]\n"
     ]
    },
    {
     "name": "stderr",
     "output_type": "stream",
     "text": [
      "Price Extraction:  62%|██████▏   | 2301/3739 [13:56:22<38:43:15, 96.94s/it, Processing ex10-117]  "
     ]
    },
    {
     "name": "stdout",
     "output_type": "stream",
     "text": [
      "Click failed for //label[span[text()=\"Near Mint\"]]: Message: \n",
      "Stacktrace:\n",
      "0   chromedriver                        0x0000000104c73e12 chromedriver + 6696466\n",
      "1   chromedriver                        0x0000000104c6bc2a chromedriver + 6663210\n",
      "2   chromedriver                        0x0000000104673e3e chromedriver + 405054\n",
      "3   chromedriver                        0x00000001046c4815 chromedriver + 735253\n",
      "4   chromedriver                        0x00000001046c4d11 chromedriver + 736529\n",
      "5   chromedriver                        0x000000010470f314 chromedriver + 1041172\n",
      "6   chromedriver                        0x00000001046e989d chromedriver + 886941\n",
      "7   chromedriver                        0x000000010470c3f4 chromedriver + 1029108\n",
      "8   chromedriver                        0x00000001046e9613 chromedriver + 886291\n",
      "9   chromedriver                        0x00000001046b6950 chromedriver + 678224\n",
      "10  chromedriver                        0x00000001046b734e chromedriver + 680782\n",
      "11  chromedriver                        0x0000000104c41700 chromedriver + 6489856\n",
      "12  chromedriver                        0x0000000104c441a9 chromedriver + 6500777\n",
      "13  chromedriver                        0x0000000104c43ccb chromedriver + 6499531\n",
      "14  chromedriver                        0x0000000104c44635 chromedriver + 6501941\n",
      "15  chromedriver                        0x0000000104c2c4b4 chromedriver + 6403252\n",
      "16  chromedriver                        0x0000000104c4491f chromedriver + 6502687\n",
      "17  chromedriver                        0x0000000104c1d8e4 chromedriver + 6342884\n",
      "18  chromedriver                        0x0000000104c5c308 chromedriver + 6599432\n",
      "19  chromedriver                        0x0000000104c5c4c5 chromedriver + 6599877\n",
      "20  chromedriver                        0x0000000104c6b7f8 chromedriver + 6662136\n",
      "21  libsystem_pthread.dylib             0x00007ff80b5b7253 _pthread_start + 99\n",
      "22  libsystem_pthread.dylib             0x00007ff80b5b2bef thread_start + 15\n",
      "\n",
      "Click failed for selector: //label[span[text()=\"Near Mint\"]]\n"
     ]
    },
    {
     "name": "stderr",
     "output_type": "stream",
     "text": [
      "Price Extraction:  62%|██████▏   | 2326/3739 [14:34:25<38:07:29, 97.13s/it, Processing bw6-122]  "
     ]
    },
    {
     "name": "stdout",
     "output_type": "stream",
     "text": [
      "Click failed for //label[span[text()=\"Near Mint\"]]: Message: \n",
      "Stacktrace:\n",
      "0   chromedriver                        0x00000001014eae12 chromedriver + 6696466\n",
      "1   chromedriver                        0x00000001014e2c2a chromedriver + 6663210\n",
      "2   chromedriver                        0x0000000100eeae3e chromedriver + 405054\n",
      "3   chromedriver                        0x0000000100f3b815 chromedriver + 735253\n",
      "4   chromedriver                        0x0000000100f3bd11 chromedriver + 736529\n",
      "5   chromedriver                        0x0000000100f86314 chromedriver + 1041172\n",
      "6   chromedriver                        0x0000000100f6089d chromedriver + 886941\n",
      "7   chromedriver                        0x0000000100f833f4 chromedriver + 1029108\n",
      "8   chromedriver                        0x0000000100f60613 chromedriver + 886291\n",
      "9   chromedriver                        0x0000000100f2d950 chromedriver + 678224\n",
      "10  chromedriver                        0x0000000100f2e34e chromedriver + 680782\n",
      "11  chromedriver                        0x00000001014b8700 chromedriver + 6489856\n",
      "12  chromedriver                        0x00000001014bb1a9 chromedriver + 6500777\n",
      "13  chromedriver                        0x00000001014baccb chromedriver + 6499531\n",
      "14  chromedriver                        0x00000001014bb635 chromedriver + 6501941\n",
      "15  chromedriver                        0x00000001014a34b4 chromedriver + 6403252\n",
      "16  chromedriver                        0x00000001014bb91f chromedriver + 6502687\n",
      "17  chromedriver                        0x00000001014948e4 chromedriver + 6342884\n",
      "18  chromedriver                        0x00000001014d3308 chromedriver + 6599432\n",
      "19  chromedriver                        0x00000001014d34c5 chromedriver + 6599877\n",
      "20  chromedriver                        0x00000001014e27f8 chromedriver + 6662136\n",
      "21  libsystem_pthread.dylib             0x00007ff80b5b7253 _pthread_start + 99\n",
      "22  libsystem_pthread.dylib             0x00007ff80b5b2bef thread_start + 15\n",
      "\n",
      "Click failed for selector: //label[span[text()=\"Near Mint\"]]\n"
     ]
    },
    {
     "name": "stderr",
     "output_type": "stream",
     "text": [
      "Price Extraction:  62%|██████▏   | 2335/3739 [14:50:52<44:11:33, 113.31s/it, Processing pl1-124]  "
     ]
    },
    {
     "name": "stdout",
     "output_type": "stream",
     "text": [
      "Click failed for //label[span[text()=\"Near Mint\"]]: Message: \n",
      "Stacktrace:\n",
      "0   chromedriver                        0x0000000100e81e12 chromedriver + 6696466\n",
      "1   chromedriver                        0x0000000100e79c2a chromedriver + 6663210\n",
      "2   chromedriver                        0x0000000100881e3e chromedriver + 405054\n",
      "3   chromedriver                        0x00000001008d2815 chromedriver + 735253\n",
      "4   chromedriver                        0x00000001008d2d11 chromedriver + 736529\n",
      "5   chromedriver                        0x000000010091d314 chromedriver + 1041172\n",
      "6   chromedriver                        0x00000001008f789d chromedriver + 886941\n",
      "7   chromedriver                        0x000000010091a3f4 chromedriver + 1029108\n",
      "8   chromedriver                        0x00000001008f7613 chromedriver + 886291\n",
      "9   chromedriver                        0x00000001008c4950 chromedriver + 678224\n",
      "10  chromedriver                        0x00000001008c534e chromedriver + 680782\n",
      "11  chromedriver                        0x0000000100e4f700 chromedriver + 6489856\n",
      "12  chromedriver                        0x0000000100e521a9 chromedriver + 6500777\n",
      "13  chromedriver                        0x0000000100e51ccb chromedriver + 6499531\n",
      "14  chromedriver                        0x0000000100e52635 chromedriver + 6501941\n",
      "15  chromedriver                        0x0000000100e3a4b4 chromedriver + 6403252\n",
      "16  chromedriver                        0x0000000100e5291f chromedriver + 6502687\n",
      "17  chromedriver                        0x0000000100e2b8e4 chromedriver + 6342884\n",
      "18  chromedriver                        0x0000000100e6a308 chromedriver + 6599432\n",
      "19  chromedriver                        0x0000000100e6a4c5 chromedriver + 6599877\n",
      "20  chromedriver                        0x0000000100e797f8 chromedriver + 6662136\n",
      "21  libsystem_pthread.dylib             0x00007ff80b5b7253 _pthread_start + 99\n",
      "22  libsystem_pthread.dylib             0x00007ff80b5b2bef thread_start + 15\n",
      "\n",
      "Click failed for selector: //label[span[text()=\"Near Mint\"]]\n"
     ]
    },
    {
     "name": "stderr",
     "output_type": "stream",
     "text": [
      "Price Extraction:  63%|██████▎   | 2346/3739 [15:07:59<37:01:22, 95.68s/it, Processing bw6-124]  "
     ]
    },
    {
     "name": "stdout",
     "output_type": "stream",
     "text": [
      "Click failed for //label[span[text()=\"Near Mint\"]]: Message: \n",
      "Stacktrace:\n",
      "0   chromedriver                        0x0000000100f77e12 chromedriver + 6696466\n",
      "1   chromedriver                        0x0000000100f6fc2a chromedriver + 6663210\n",
      "2   chromedriver                        0x0000000100977e3e chromedriver + 405054\n",
      "3   chromedriver                        0x00000001009c8815 chromedriver + 735253\n",
      "4   chromedriver                        0x00000001009c8d11 chromedriver + 736529\n",
      "5   chromedriver                        0x0000000100a13314 chromedriver + 1041172\n",
      "6   chromedriver                        0x00000001009ed89d chromedriver + 886941\n",
      "7   chromedriver                        0x0000000100a103f4 chromedriver + 1029108\n",
      "8   chromedriver                        0x00000001009ed613 chromedriver + 886291\n",
      "9   chromedriver                        0x00000001009ba950 chromedriver + 678224\n",
      "10  chromedriver                        0x00000001009bb34e chromedriver + 680782\n",
      "11  chromedriver                        0x0000000100f45700 chromedriver + 6489856\n",
      "12  chromedriver                        0x0000000100f481a9 chromedriver + 6500777\n",
      "13  chromedriver                        0x0000000100f47ccb chromedriver + 6499531\n",
      "14  chromedriver                        0x0000000100f48635 chromedriver + 6501941\n",
      "15  chromedriver                        0x0000000100f304b4 chromedriver + 6403252\n",
      "16  chromedriver                        0x0000000100f4891f chromedriver + 6502687\n",
      "17  chromedriver                        0x0000000100f218e4 chromedriver + 6342884\n",
      "18  chromedriver                        0x0000000100f60308 chromedriver + 6599432\n",
      "19  chromedriver                        0x0000000100f604c5 chromedriver + 6599877\n",
      "20  chromedriver                        0x0000000100f6f7f8 chromedriver + 6662136\n",
      "21  libsystem_pthread.dylib             0x00007ff80b5b7253 _pthread_start + 99\n",
      "22  libsystem_pthread.dylib             0x00007ff80b5b2bef thread_start + 15\n",
      "\n",
      "Click failed for selector: //label[span[text()=\"Near Mint\"]]\n"
     ]
    },
    {
     "name": "stderr",
     "output_type": "stream",
     "text": [
      "Price Extraction:  63%|██████▎   | 2359/3739 [15:29:33<37:26:44, 97.68s/it, Processing xy10-122]  "
     ]
    },
    {
     "name": "stdout",
     "output_type": "stream",
     "text": [
      "An error occurred: Message: disconnected: not connected to DevTools\n",
      "  (failed to check if window was closed: disconnected: not connected to DevTools)\n",
      "  (Session info: chrome=131.0.6778.140)\n",
      "Stacktrace:\n",
      "0   chromedriver                        0x00000001007bde12 chromedriver + 6696466\n",
      "1   chromedriver                        0x00000001007b5c2a chromedriver + 6663210\n",
      "2   chromedriver                        0x00000001001bde3e chromedriver + 405054\n",
      "3   chromedriver                        0x00000001001a4481 chromedriver + 300161\n",
      "4   chromedriver                        0x00000001001a4374 chromedriver + 299892\n",
      "5   chromedriver                        0x00000001001c0702 chromedriver + 415490\n",
      "6   chromedriver                        0x0000000100255e0b chromedriver + 1027595\n",
      "7   chromedriver                        0x0000000100233613 chromedriver + 886291\n",
      "8   chromedriver                        0x0000000100200950 chromedriver + 678224\n",
      "9   chromedriver                        0x000000010020134e chromedriver + 680782\n",
      "10  chromedriver                        0x000000010078b700 chromedriver + 6489856\n",
      "11  chromedriver                        0x000000010078e1a9 chromedriver + 6500777\n",
      "12  chromedriver                        0x000000010078dccb chromedriver + 6499531\n",
      "13  chromedriver                        0x000000010078e635 chromedriver + 6501941\n",
      "14  chromedriver                        0x00000001007764b4 chromedriver + 6403252\n",
      "15  chromedriver                        0x000000010078e91f chromedriver + 6502687\n",
      "16  chromedriver                        0x00000001007678e4 chromedriver + 6342884\n",
      "17  chromedriver                        0x00000001007a6308 chromedriver + 6599432\n",
      "18  chromedriver                        0x00000001007a64c5 chromedriver + 6599877\n",
      "19  chromedriver                        0x00000001007b57f8 chromedriver + 6662136\n",
      "20  libsystem_pthread.dylib             0x00007ff80b5b7253 _pthread_start + 99\n",
      "21  libsystem_pthread.dylib             0x00007ff80b5b2bef thread_start + 15\n",
      "\n"
     ]
    },
    {
     "name": "stderr",
     "output_type": "stream",
     "text": [
      "Price Extraction:  63%|██████▎   | 2362/3739 [15:41:54<86:02:43, 224.96s/it, Processing bw6-128] "
     ]
    }
   ],
   "source": [
    "save_historic_prices(df)"
   ]
  },
  {
   "cell_type": "code",
   "execution_count": 4,
   "metadata": {},
   "outputs": [],
   "source": []
  },
  {
   "cell_type": "code",
   "execution_count": null,
   "metadata": {},
   "outputs": [],
   "source": []
  }
 ],
 "metadata": {
  "kernelspec": {
   "display_name": "pokemon_card",
   "language": "python",
   "name": "python3"
  },
  "language_info": {
   "codemirror_mode": {
    "name": "ipython",
    "version": 3
   },
   "file_extension": ".py",
   "mimetype": "text/x-python",
   "name": "python",
   "nbconvert_exporter": "python",
   "pygments_lexer": "ipython3",
   "version": "3.9.20"
  }
 },
 "nbformat": 4,
 "nbformat_minor": 2
}
