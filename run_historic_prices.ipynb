{
 "cells": [
  {
   "cell_type": "code",
   "execution_count": 1,
   "metadata": {},
   "outputs": [
    {
     "name": "stdout",
     "output_type": "stream",
     "text": [
      "Intel MKL WARNING: Support of Intel(R) Streaming SIMD Extensions 4.2 (Intel(R) SSE4.2) enabled only processors has been deprecated. Intel oneAPI Math Kernel Library 2025.0 will require Intel(R) Advanced Vector Extensions (Intel(R) AVX) instructions.\n",
      "Intel MKL WARNING: Support of Intel(R) Streaming SIMD Extensions 4.2 (Intel(R) SSE4.2) enabled only processors has been deprecated. Intel oneAPI Math Kernel Library 2025.0 will require Intel(R) Advanced Vector Extensions (Intel(R) AVX) instructions.\n"
     ]
    }
   ],
   "source": [
    "from PokemonCardManager import *\n",
    "from GetHistoricCardPrices import sequential_price_extraction"
   ]
  },
  {
   "cell_type": "code",
   "execution_count": 2,
   "metadata": {},
   "outputs": [],
   "source": [
    "api=PokemonCardAPI()\n",
    "database=PokemonCardDatabase(api)"
   ]
  },
  {
   "cell_type": "code",
   "execution_count": 3,
   "metadata": {},
   "outputs": [],
   "source": [
    "#df=database.update_database()\n",
    "df=pd.read_csv(\"pokemon_cards.csv\")"
   ]
  },
  {
   "cell_type": "code",
   "execution_count": 4,
   "metadata": {},
   "outputs": [
    {
     "name": "stderr",
     "output_type": "stream",
     "text": [
      "File exists for dp1-1:   1%|          | 38/3739 [00:00<00:02, 1520.30it/s]  "
     ]
    },
    {
     "name": "stdout",
     "output_type": "stream",
     "text": [
      "Click failed for //label[span[text()=\"Near Mint\"]]: Message: \n",
      "Stacktrace:\n",
      "0   chromedriver                        0x00000001007b8e82 chromedriver + 6696578\n",
      "1   chromedriver                        0x00000001007b0c9a chromedriver + 6663322\n",
      "2   chromedriver                        0x00000001001b8e3e chromedriver + 405054\n",
      "3   chromedriver                        0x0000000100209815 chromedriver + 735253\n",
      "4   chromedriver                        0x0000000100209d11 chromedriver + 736529\n",
      "5   chromedriver                        0x0000000100254314 chromedriver + 1041172\n",
      "6   chromedriver                        0x000000010022e89d chromedriver + 886941\n",
      "7   chromedriver                        0x00000001002513f4 chromedriver + 1029108\n",
      "8   chromedriver                        0x000000010022e613 chromedriver + 886291\n",
      "9   chromedriver                        0x00000001001fb950 chromedriver + 678224\n",
      "10  chromedriver                        0x00000001001fc34e chromedriver + 680782\n",
      "11  chromedriver                        0x0000000100786770 chromedriver + 6489968\n",
      "12  chromedriver                        0x0000000100789219 chromedriver + 6500889\n",
      "13  chromedriver                        0x0000000100788d3b chromedriver + 6499643\n",
      "14  chromedriver                        0x00000001007896a5 chromedriver + 6502053\n",
      "15  chromedriver                        0x0000000100771524 chromedriver + 6403364\n",
      "16  chromedriver                        0x000000010078998f chromedriver + 6502799\n",
      "17  chromedriver                        0x0000000100762954 chromedriver + 6342996\n",
      "18  chromedriver                        0x00000001007a1378 chromedriver + 6599544\n",
      "19  chromedriver                        0x00000001007a1535 chromedriver + 6599989\n",
      "20  chromedriver                        0x00000001007b0868 chromedriver + 6662248\n",
      "21  libsystem_pthread.dylib             0x00007ff81275f253 _pthread_start + 99\n",
      "22  libsystem_pthread.dylib             0x00007ff81275abef thread_start + 15\n",
      "\n",
      "Click failed for selector: //label[span[text()=\"Near Mint\"]]\n"
     ]
    },
    {
     "name": "stderr",
     "output_type": "stream",
     "text": [
      "Failed for pop3-1: object of type 'NoneType' has no len():   1%|          | 40/3739 [01:43<2:39:45,  2.59s/it]"
     ]
    },
    {
     "name": "stdout",
     "output_type": "stream",
     "text": [
      "Browser session terminated\n"
     ]
    },
    {
     "name": "stderr",
     "output_type": "stream",
     "text": [
      "File exists for pop1-1:   1%|▏         | 50/3739 [01:44<2:36:00,  2.54s/it]                                   "
     ]
    },
    {
     "name": "stdout",
     "output_type": "stream",
     "text": [
      "Click failed for //label[span[text()=\"Near Mint\"]]: Message: \n",
      "Stacktrace:\n",
      "0   chromedriver                        0x0000000101536e82 chromedriver + 6696578\n",
      "1   chromedriver                        0x000000010152ec9a chromedriver + 6663322\n",
      "2   chromedriver                        0x0000000100f36e3e chromedriver + 405054\n",
      "3   chromedriver                        0x0000000100f87815 chromedriver + 735253\n",
      "4   chromedriver                        0x0000000100f87d11 chromedriver + 736529\n",
      "5   chromedriver                        0x0000000100fd2314 chromedriver + 1041172\n",
      "6   chromedriver                        0x0000000100fac89d chromedriver + 886941\n",
      "7   chromedriver                        0x0000000100fcf3f4 chromedriver + 1029108\n",
      "8   chromedriver                        0x0000000100fac613 chromedriver + 886291\n",
      "9   chromedriver                        0x0000000100f79950 chromedriver + 678224\n",
      "10  chromedriver                        0x0000000100f7a34e chromedriver + 680782\n",
      "11  chromedriver                        0x0000000101504770 chromedriver + 6489968\n",
      "12  chromedriver                        0x0000000101507219 chromedriver + 6500889\n",
      "13  chromedriver                        0x0000000101506d3b chromedriver + 6499643\n",
      "14  chromedriver                        0x00000001015076a5 chromedriver + 6502053\n",
      "15  chromedriver                        0x00000001014ef524 chromedriver + 6403364\n",
      "16  chromedriver                        0x000000010150798f chromedriver + 6502799\n",
      "17  chromedriver                        0x00000001014e0954 chromedriver + 6342996\n",
      "18  chromedriver                        0x000000010151f378 chromedriver + 6599544\n",
      "19  chromedriver                        0x000000010151f535 chromedriver + 6599989\n",
      "20  chromedriver                        0x000000010152e868 chromedriver + 6662248\n",
      "21  libsystem_pthread.dylib             0x00007ff81275f253 _pthread_start + 99\n",
      "22  libsystem_pthread.dylib             0x00007ff81275abef thread_start + 15\n",
      "\n",
      "Click failed for selector: //label[span[text()=\"Near Mint\"]]\n"
     ]
    },
    {
     "name": "stderr",
     "output_type": "stream",
     "text": [
      "Failed for pop7-3: object of type 'NoneType' has no len():   1%|▏         | 52/3739 [03:31<5:10:52,  5.06s/it]"
     ]
    },
    {
     "name": "stdout",
     "output_type": "stream",
     "text": [
      "Browser session terminated\n"
     ]
    },
    {
     "name": "stderr",
     "output_type": "stream",
     "text": [
      "Failed for pop5-3: object of type 'NoneType' has no len():   3%|▎         | 130/3739 [05:23<2:02:28,  2.04s/it]"
     ]
    },
    {
     "name": "stdout",
     "output_type": "stream",
     "text": [
      "Click failed for //label[span[text()=\"Near Mint\"]]: Message: \n",
      "Stacktrace:\n",
      "0   chromedriver                        0x00000001029b8e82 chromedriver + 6696578\n",
      "1   chromedriver                        0x00000001029b0c9a chromedriver + 6663322\n",
      "2   chromedriver                        0x00000001023b8e3e chromedriver + 405054\n",
      "3   chromedriver                        0x0000000102409815 chromedriver + 735253\n",
      "4   chromedriver                        0x0000000102409d11 chromedriver + 736529\n",
      "5   chromedriver                        0x0000000102454314 chromedriver + 1041172\n",
      "6   chromedriver                        0x000000010242e89d chromedriver + 886941\n",
      "7   chromedriver                        0x00000001024513f4 chromedriver + 1029108\n",
      "8   chromedriver                        0x000000010242e613 chromedriver + 886291\n",
      "9   chromedriver                        0x00000001023fb950 chromedriver + 678224\n",
      "10  chromedriver                        0x00000001023fc34e chromedriver + 680782\n",
      "11  chromedriver                        0x0000000102986770 chromedriver + 6489968\n",
      "12  chromedriver                        0x0000000102989219 chromedriver + 6500889\n",
      "13  chromedriver                        0x0000000102988d3b chromedriver + 6499643\n",
      "14  chromedriver                        0x00000001029896a5 chromedriver + 6502053\n",
      "15  chromedriver                        0x0000000102971524 chromedriver + 6403364\n",
      "16  chromedriver                        0x000000010298998f chromedriver + 6502799\n",
      "17  chromedriver                        0x0000000102962954 chromedriver + 6342996\n",
      "18  chromedriver                        0x00000001029a1378 chromedriver + 6599544\n",
      "19  chromedriver                        0x00000001029a1535 chromedriver + 6599989\n",
      "20  chromedriver                        0x00000001029b0868 chromedriver + 6662248\n",
      "21  libsystem_pthread.dylib             0x00007ff81275f253 _pthread_start + 99\n",
      "22  libsystem_pthread.dylib             0x00007ff81275abef thread_start + 15\n",
      "\n",
      "Click failed for selector: //label[span[text()=\"Near Mint\"]]\n",
      "Browser session terminated\n"
     ]
    },
    {
     "name": "stderr",
     "output_type": "stream",
     "text": [
      "File exists for ex7-8:   5%|▌         | 187/3739 [05:24<1:59:38,  2.02s/it]                                    "
     ]
    },
    {
     "name": "stdout",
     "output_type": "stream",
     "text": [
      "Click failed for //label[span[text()=\"Near Mint\"]]: Message: \n",
      "Stacktrace:\n",
      "0   chromedriver                        0x000000010518ee82 chromedriver + 6696578\n",
      "1   chromedriver                        0x0000000105186c9a chromedriver + 6663322\n",
      "2   chromedriver                        0x0000000104b8ee3e chromedriver + 405054\n",
      "3   chromedriver                        0x0000000104bdf815 chromedriver + 735253\n",
      "4   chromedriver                        0x0000000104bdfd11 chromedriver + 736529\n",
      "5   chromedriver                        0x0000000104c2a314 chromedriver + 1041172\n",
      "6   chromedriver                        0x0000000104c0489d chromedriver + 886941\n",
      "7   chromedriver                        0x0000000104c273f4 chromedriver + 1029108\n",
      "8   chromedriver                        0x0000000104c04613 chromedriver + 886291\n",
      "9   chromedriver                        0x0000000104bd1950 chromedriver + 678224\n",
      "10  chromedriver                        0x0000000104bd234e chromedriver + 680782\n",
      "11  chromedriver                        0x000000010515c770 chromedriver + 6489968\n",
      "12  chromedriver                        0x000000010515f219 chromedriver + 6500889\n",
      "13  chromedriver                        0x000000010515ed3b chromedriver + 6499643\n",
      "14  chromedriver                        0x000000010515f6a5 chromedriver + 6502053\n",
      "15  chromedriver                        0x0000000105147524 chromedriver + 6403364\n",
      "16  chromedriver                        0x000000010515f98f chromedriver + 6502799\n",
      "17  chromedriver                        0x0000000105138954 chromedriver + 6342996\n",
      "18  chromedriver                        0x0000000105177378 chromedriver + 6599544\n",
      "19  chromedriver                        0x0000000105177535 chromedriver + 6599989\n",
      "20  chromedriver                        0x0000000105186868 chromedriver + 6662248\n",
      "21  libsystem_pthread.dylib             0x00007ff81275f253 _pthread_start + 99\n",
      "22  libsystem_pthread.dylib             0x00007ff81275abef thread_start + 15\n",
      "\n",
      "Click failed for selector: //label[span[text()=\"Near Mint\"]]\n"
     ]
    },
    {
     "name": "stderr",
     "output_type": "stream",
     "text": [
      "Failed for ex11-9: object of type 'NoneType' has no len():   5%|▌         | 189/3739 [07:10<1:52:52,  1.91s/it]"
     ]
    },
    {
     "name": "stdout",
     "output_type": "stream",
     "text": [
      "Browser session terminated\n"
     ]
    },
    {
     "name": "stderr",
     "output_type": "stream",
     "text": [
      "Failed for ecard2-H11: object of type 'NoneType' has no len():   5%|▌         | 195/3739 [08:57<3:32:38,  3.60s/it]"
     ]
    },
    {
     "name": "stdout",
     "output_type": "stream",
     "text": [
      "Click failed for //label[span[text()=\"Near Mint\"]]: Message: \n",
      "Stacktrace:\n",
      "0   chromedriver                        0x00000001053d3e82 chromedriver + 6696578\n",
      "1   chromedriver                        0x00000001053cbc9a chromedriver + 6663322\n",
      "2   chromedriver                        0x0000000104dd3e3e chromedriver + 405054\n",
      "3   chromedriver                        0x0000000104e24815 chromedriver + 735253\n",
      "4   chromedriver                        0x0000000104e24d11 chromedriver + 736529\n",
      "5   chromedriver                        0x0000000104e6f314 chromedriver + 1041172\n",
      "6   chromedriver                        0x0000000104e4989d chromedriver + 886941\n",
      "7   chromedriver                        0x0000000104e6c3f4 chromedriver + 1029108\n",
      "8   chromedriver                        0x0000000104e49613 chromedriver + 886291\n",
      "9   chromedriver                        0x0000000104e16950 chromedriver + 678224\n",
      "10  chromedriver                        0x0000000104e1734e chromedriver + 680782\n",
      "11  chromedriver                        0x00000001053a1770 chromedriver + 6489968\n",
      "12  chromedriver                        0x00000001053a4219 chromedriver + 6500889\n",
      "13  chromedriver                        0x00000001053a3d3b chromedriver + 6499643\n",
      "14  chromedriver                        0x00000001053a46a5 chromedriver + 6502053\n",
      "15  chromedriver                        0x000000010538c524 chromedriver + 6403364\n",
      "16  chromedriver                        0x00000001053a498f chromedriver + 6502799\n",
      "17  chromedriver                        0x000000010537d954 chromedriver + 6342996\n",
      "18  chromedriver                        0x00000001053bc378 chromedriver + 6599544\n",
      "19  chromedriver                        0x00000001053bc535 chromedriver + 6599989\n",
      "20  chromedriver                        0x00000001053cb868 chromedriver + 6662248\n",
      "21  libsystem_pthread.dylib             0x00007ff81275f253 _pthread_start + 99\n",
      "22  libsystem_pthread.dylib             0x00007ff81275abef thread_start + 15\n",
      "\n",
      "Click failed for selector: //label[span[text()=\"Near Mint\"]]\n",
      "Browser session terminated\n"
     ]
    },
    {
     "name": "stderr",
     "output_type": "stream",
     "text": [
      "Failed for ecard1-5: object of type 'NoneType' has no len():   9%|▉         | 337/3739 [10:43<1:08:53,  1.22s/it]  "
     ]
    },
    {
     "name": "stdout",
     "output_type": "stream",
     "text": [
      "Click failed for //label[span[text()=\"Near Mint\"]]: Message: \n",
      "Stacktrace:\n",
      "0   chromedriver                        0x0000000102f3de82 chromedriver + 6696578\n",
      "1   chromedriver                        0x0000000102f35c9a chromedriver + 6663322\n",
      "2   chromedriver                        0x000000010293de3e chromedriver + 405054\n",
      "3   chromedriver                        0x000000010298e815 chromedriver + 735253\n",
      "4   chromedriver                        0x000000010298ed11 chromedriver + 736529\n",
      "5   chromedriver                        0x00000001029d9314 chromedriver + 1041172\n",
      "6   chromedriver                        0x00000001029b389d chromedriver + 886941\n",
      "7   chromedriver                        0x00000001029d63f4 chromedriver + 1029108\n",
      "8   chromedriver                        0x00000001029b3613 chromedriver + 886291\n",
      "9   chromedriver                        0x0000000102980950 chromedriver + 678224\n",
      "10  chromedriver                        0x000000010298134e chromedriver + 680782\n",
      "11  chromedriver                        0x0000000102f0b770 chromedriver + 6489968\n",
      "12  chromedriver                        0x0000000102f0e219 chromedriver + 6500889\n",
      "13  chromedriver                        0x0000000102f0dd3b chromedriver + 6499643\n",
      "14  chromedriver                        0x0000000102f0e6a5 chromedriver + 6502053\n",
      "15  chromedriver                        0x0000000102ef6524 chromedriver + 6403364\n",
      "16  chromedriver                        0x0000000102f0e98f chromedriver + 6502799\n",
      "17  chromedriver                        0x0000000102ee7954 chromedriver + 6342996\n",
      "18  chromedriver                        0x0000000102f26378 chromedriver + 6599544\n",
      "19  chromedriver                        0x0000000102f26535 chromedriver + 6599989\n",
      "20  chromedriver                        0x0000000102f35868 chromedriver + 6662248\n",
      "21  libsystem_pthread.dylib             0x00007ff81275f253 _pthread_start + 99\n",
      "22  libsystem_pthread.dylib             0x00007ff81275abef thread_start + 15\n",
      "\n",
      "Click failed for selector: //label[span[text()=\"Near Mint\"]]\n",
      "Browser session terminated\n"
     ]
    },
    {
     "name": "stderr",
     "output_type": "stream",
     "text": [
      "Failed for ecard2-H18: object of type 'NoneType' has no len():  11%|█         | 414/3739 [12:25<1:10:13,  1.27s/it]"
     ]
    },
    {
     "name": "stdout",
     "output_type": "stream",
     "text": [
      "Click failed for //label[span[text()=\"Near Mint\"]]: Message: \n",
      "Stacktrace:\n",
      "0   chromedriver                        0x0000000102c77e82 chromedriver + 6696578\n",
      "1   chromedriver                        0x0000000102c6fc9a chromedriver + 6663322\n",
      "2   chromedriver                        0x0000000102677e3e chromedriver + 405054\n",
      "3   chromedriver                        0x00000001026c8815 chromedriver + 735253\n",
      "4   chromedriver                        0x00000001026c8d11 chromedriver + 736529\n",
      "5   chromedriver                        0x0000000102713314 chromedriver + 1041172\n",
      "6   chromedriver                        0x00000001026ed89d chromedriver + 886941\n",
      "7   chromedriver                        0x00000001027103f4 chromedriver + 1029108\n",
      "8   chromedriver                        0x00000001026ed613 chromedriver + 886291\n",
      "9   chromedriver                        0x00000001026ba950 chromedriver + 678224\n",
      "10  chromedriver                        0x00000001026bb34e chromedriver + 680782\n",
      "11  chromedriver                        0x0000000102c45770 chromedriver + 6489968\n",
      "12  chromedriver                        0x0000000102c48219 chromedriver + 6500889\n",
      "13  chromedriver                        0x0000000102c47d3b chromedriver + 6499643\n",
      "14  chromedriver                        0x0000000102c486a5 chromedriver + 6502053\n",
      "15  chromedriver                        0x0000000102c30524 chromedriver + 6403364\n",
      "16  chromedriver                        0x0000000102c4898f chromedriver + 6502799\n",
      "17  chromedriver                        0x0000000102c21954 chromedriver + 6342996\n",
      "18  chromedriver                        0x0000000102c60378 chromedriver + 6599544\n",
      "19  chromedriver                        0x0000000102c60535 chromedriver + 6599989\n",
      "20  chromedriver                        0x0000000102c6f868 chromedriver + 6662248\n",
      "21  libsystem_pthread.dylib             0x00007ff81275f253 _pthread_start + 99\n",
      "22  libsystem_pthread.dylib             0x00007ff81275abef thread_start + 15\n",
      "\n",
      "Click failed for selector: //label[span[text()=\"Near Mint\"]]\n",
      "Browser session terminated\n"
     ]
    },
    {
     "name": "stderr",
     "output_type": "stream",
     "text": [
      "Failed for dpp-DP16: object of type 'NoneType' has no len():  12%|█▏        | 433/3739 [14:10<1:55:57,  2.10s/it]  "
     ]
    },
    {
     "name": "stdout",
     "output_type": "stream",
     "text": [
      "Click failed for //label[span[text()=\"Near Mint\"]]: Message: \n",
      "Stacktrace:\n",
      "0   chromedriver                        0x0000000100a65e82 chromedriver + 6696578\n",
      "1   chromedriver                        0x0000000100a5dc9a chromedriver + 6663322\n",
      "2   chromedriver                        0x0000000100465e3e chromedriver + 405054\n",
      "3   chromedriver                        0x00000001004b6815 chromedriver + 735253\n",
      "4   chromedriver                        0x00000001004b6d11 chromedriver + 736529\n",
      "5   chromedriver                        0x0000000100501314 chromedriver + 1041172\n",
      "6   chromedriver                        0x00000001004db89d chromedriver + 886941\n",
      "7   chromedriver                        0x00000001004fe3f4 chromedriver + 1029108\n",
      "8   chromedriver                        0x00000001004db613 chromedriver + 886291\n",
      "9   chromedriver                        0x00000001004a8950 chromedriver + 678224\n",
      "10  chromedriver                        0x00000001004a934e chromedriver + 680782\n",
      "11  chromedriver                        0x0000000100a33770 chromedriver + 6489968\n",
      "12  chromedriver                        0x0000000100a36219 chromedriver + 6500889\n",
      "13  chromedriver                        0x0000000100a35d3b chromedriver + 6499643\n",
      "14  chromedriver                        0x0000000100a366a5 chromedriver + 6502053\n",
      "15  chromedriver                        0x0000000100a1e524 chromedriver + 6403364\n",
      "16  chromedriver                        0x0000000100a3698f chromedriver + 6502799\n",
      "17  chromedriver                        0x0000000100a0f954 chromedriver + 6342996\n",
      "18  chromedriver                        0x0000000100a4e378 chromedriver + 6599544\n",
      "19  chromedriver                        0x0000000100a4e535 chromedriver + 6599989\n",
      "20  chromedriver                        0x0000000100a5d868 chromedriver + 6662248\n",
      "21  libsystem_pthread.dylib             0x00007ff81275f253 _pthread_start + 99\n",
      "22  libsystem_pthread.dylib             0x00007ff81275abef thread_start + 15\n",
      "\n",
      "Click failed for selector: //label[span[text()=\"Near Mint\"]]\n",
      "Browser session terminated\n"
     ]
    },
    {
     "name": "stderr",
     "output_type": "stream",
     "text": [
      "File exists for ex16-7:  12%|█▏        | 447/3739 [14:11<1:54:36,  2.09s/it]                                     "
     ]
    },
    {
     "name": "stdout",
     "output_type": "stream",
     "text": [
      "Click failed for //label[span[text()=\"Near Mint\"]]: Message: \n",
      "Stacktrace:\n",
      "0   chromedriver                        0x000000010507ce82 chromedriver + 6696578\n",
      "1   chromedriver                        0x0000000105074c9a chromedriver + 6663322\n",
      "2   chromedriver                        0x0000000104a7ce3e chromedriver + 405054\n",
      "3   chromedriver                        0x0000000104acd815 chromedriver + 735253\n",
      "4   chromedriver                        0x0000000104acdd11 chromedriver + 736529\n",
      "5   chromedriver                        0x0000000104b18314 chromedriver + 1041172\n",
      "6   chromedriver                        0x0000000104af289d chromedriver + 886941\n",
      "7   chromedriver                        0x0000000104b153f4 chromedriver + 1029108\n",
      "8   chromedriver                        0x0000000104af2613 chromedriver + 886291\n",
      "9   chromedriver                        0x0000000104abf950 chromedriver + 678224\n",
      "10  chromedriver                        0x0000000104ac034e chromedriver + 680782\n",
      "11  chromedriver                        0x000000010504a770 chromedriver + 6489968\n",
      "12  chromedriver                        0x000000010504d219 chromedriver + 6500889\n",
      "13  chromedriver                        0x000000010504cd3b chromedriver + 6499643\n",
      "14  chromedriver                        0x000000010504d6a5 chromedriver + 6502053\n",
      "15  chromedriver                        0x0000000105035524 chromedriver + 6403364\n",
      "16  chromedriver                        0x000000010504d98f chromedriver + 6502799\n",
      "17  chromedriver                        0x0000000105026954 chromedriver + 6342996\n",
      "18  chromedriver                        0x0000000105065378 chromedriver + 6599544\n",
      "19  chromedriver                        0x0000000105065535 chromedriver + 6599989\n",
      "20  chromedriver                        0x0000000105074868 chromedriver + 6662248\n",
      "21  libsystem_pthread.dylib             0x00007ff81275f253 _pthread_start + 99\n",
      "22  libsystem_pthread.dylib             0x00007ff81275abef thread_start + 15\n",
      "\n",
      "Click failed for selector: //label[span[text()=\"Near Mint\"]]\n"
     ]
    },
    {
     "name": "stderr",
     "output_type": "stream",
     "text": [
      "Failed for np-6: object of type 'NoneType' has no len():  12%|█▏        | 449/3739 [15:37<2:42:14,  2.96s/it]"
     ]
    },
    {
     "name": "stdout",
     "output_type": "stream",
     "text": [
      "Browser session terminated\n"
     ]
    },
    {
     "name": "stderr",
     "output_type": "stream",
     "text": [
      "File exists for base6-17:  14%|█▎        | 513/3739 [15:38<2:36:46,  2.92s/it]                               "
     ]
    },
    {
     "name": "stdout",
     "output_type": "stream",
     "text": [
      "Click failed for //label[span[text()=\"Near Mint\"]]: Message: \n",
      "Stacktrace:\n",
      "0   chromedriver                        0x000000010124de82 chromedriver + 6696578\n",
      "1   chromedriver                        0x0000000101245c9a chromedriver + 6663322\n",
      "2   chromedriver                        0x0000000100c4de3e chromedriver + 405054\n",
      "3   chromedriver                        0x0000000100c9e815 chromedriver + 735253\n",
      "4   chromedriver                        0x0000000100c9ed11 chromedriver + 736529\n",
      "5   chromedriver                        0x0000000100ce9314 chromedriver + 1041172\n",
      "6   chromedriver                        0x0000000100cc389d chromedriver + 886941\n",
      "7   chromedriver                        0x0000000100ce63f4 chromedriver + 1029108\n",
      "8   chromedriver                        0x0000000100cc3613 chromedriver + 886291\n",
      "9   chromedriver                        0x0000000100c90950 chromedriver + 678224\n",
      "10  chromedriver                        0x0000000100c9134e chromedriver + 680782\n",
      "11  chromedriver                        0x000000010121b770 chromedriver + 6489968\n",
      "12  chromedriver                        0x000000010121e219 chromedriver + 6500889\n",
      "13  chromedriver                        0x000000010121dd3b chromedriver + 6499643\n",
      "14  chromedriver                        0x000000010121e6a5 chromedriver + 6502053\n",
      "15  chromedriver                        0x0000000101206524 chromedriver + 6403364\n",
      "16  chromedriver                        0x000000010121e98f chromedriver + 6502799\n",
      "17  chromedriver                        0x00000001011f7954 chromedriver + 6342996\n",
      "18  chromedriver                        0x0000000101236378 chromedriver + 6599544\n",
      "19  chromedriver                        0x0000000101236535 chromedriver + 6599989\n",
      "20  chromedriver                        0x0000000101245868 chromedriver + 6662248\n",
      "21  libsystem_pthread.dylib             0x00007ff81275f253 _pthread_start + 99\n",
      "22  libsystem_pthread.dylib             0x00007ff81275abef thread_start + 15\n",
      "\n",
      "Click failed for selector: //label[span[text()=\"Near Mint\"]]\n"
     ]
    },
    {
     "name": "stderr",
     "output_type": "stream",
     "text": [
      "Failed for dpp-DP18: object of type 'NoneType' has no len():  14%|█▍        | 515/3739 [17:30<1:53:31,  2.11s/it]"
     ]
    },
    {
     "name": "stdout",
     "output_type": "stream",
     "text": [
      "Browser session terminated\n"
     ]
    },
    {
     "name": "stderr",
     "output_type": "stream",
     "text": [
      "File exists for dp5-9:  14%|█▍        | 524/3739 [17:31<1:52:21,  2.10s/it]                                      "
     ]
    },
    {
     "name": "stdout",
     "output_type": "stream",
     "text": [
      "Click failed for //label[span[text()=\"Near Mint\"]]: Message: \n",
      "Stacktrace:\n",
      "0   chromedriver                        0x0000000100f29e82 chromedriver + 6696578\n",
      "1   chromedriver                        0x0000000100f21c9a chromedriver + 6663322\n",
      "2   chromedriver                        0x0000000100929e3e chromedriver + 405054\n",
      "3   chromedriver                        0x000000010097a815 chromedriver + 735253\n",
      "4   chromedriver                        0x000000010097ad11 chromedriver + 736529\n",
      "5   chromedriver                        0x00000001009c5314 chromedriver + 1041172\n",
      "6   chromedriver                        0x000000010099f89d chromedriver + 886941\n",
      "7   chromedriver                        0x00000001009c23f4 chromedriver + 1029108\n",
      "8   chromedriver                        0x000000010099f613 chromedriver + 886291\n",
      "9   chromedriver                        0x000000010096c950 chromedriver + 678224\n",
      "10  chromedriver                        0x000000010096d34e chromedriver + 680782\n",
      "11  chromedriver                        0x0000000100ef7770 chromedriver + 6489968\n",
      "12  chromedriver                        0x0000000100efa219 chromedriver + 6500889\n",
      "13  chromedriver                        0x0000000100ef9d3b chromedriver + 6499643\n",
      "14  chromedriver                        0x0000000100efa6a5 chromedriver + 6502053\n",
      "15  chromedriver                        0x0000000100ee2524 chromedriver + 6403364\n",
      "16  chromedriver                        0x0000000100efa98f chromedriver + 6502799\n",
      "17  chromedriver                        0x0000000100ed3954 chromedriver + 6342996\n",
      "18  chromedriver                        0x0000000100f12378 chromedriver + 6599544\n",
      "19  chromedriver                        0x0000000100f12535 chromedriver + 6599989\n",
      "20  chromedriver                        0x0000000100f21868 chromedriver + 6662248\n",
      "21  libsystem_pthread.dylib             0x00007ff81275f253 _pthread_start + 99\n",
      "22  libsystem_pthread.dylib             0x00007ff81275abef thread_start + 15\n",
      "\n",
      "Click failed for selector: //label[span[text()=\"Near Mint\"]]\n"
     ]
    },
    {
     "name": "stderr",
     "output_type": "stream",
     "text": [
      "Failed for pop1-17: object of type 'NoneType' has no len():  14%|█▍        | 526/3739 [19:19<3:12:09,  3.59s/it]"
     ]
    },
    {
     "name": "stdout",
     "output_type": "stream",
     "text": [
      "Browser session terminated\n"
     ]
    },
    {
     "name": "stderr",
     "output_type": "stream",
     "text": [
      "Failed for bw5-13: object of type 'NoneType' has no len():  14%|█▍        | 529/3739 [21:04<5:55:43,  6.65s/it] "
     ]
    },
    {
     "name": "stdout",
     "output_type": "stream",
     "text": [
      "Click failed for //label[span[text()=\"Near Mint\"]]: Message: \n",
      "Stacktrace:\n",
      "0   chromedriver                        0x0000000102cf1e82 chromedriver + 6696578\n",
      "1   chromedriver                        0x0000000102ce9c9a chromedriver + 6663322\n",
      "2   chromedriver                        0x00000001026f1e3e chromedriver + 405054\n",
      "3   chromedriver                        0x0000000102742815 chromedriver + 735253\n",
      "4   chromedriver                        0x0000000102742d11 chromedriver + 736529\n",
      "5   chromedriver                        0x000000010278d314 chromedriver + 1041172\n",
      "6   chromedriver                        0x000000010276789d chromedriver + 886941\n",
      "7   chromedriver                        0x000000010278a3f4 chromedriver + 1029108\n",
      "8   chromedriver                        0x0000000102767613 chromedriver + 886291\n",
      "9   chromedriver                        0x0000000102734950 chromedriver + 678224\n",
      "10  chromedriver                        0x000000010273534e chromedriver + 680782\n",
      "11  chromedriver                        0x0000000102cbf770 chromedriver + 6489968\n",
      "12  chromedriver                        0x0000000102cc2219 chromedriver + 6500889\n",
      "13  chromedriver                        0x0000000102cc1d3b chromedriver + 6499643\n",
      "14  chromedriver                        0x0000000102cc26a5 chromedriver + 6502053\n",
      "15  chromedriver                        0x0000000102caa524 chromedriver + 6403364\n",
      "16  chromedriver                        0x0000000102cc298f chromedriver + 6502799\n",
      "17  chromedriver                        0x0000000102c9b954 chromedriver + 6342996\n",
      "18  chromedriver                        0x0000000102cda378 chromedriver + 6599544\n",
      "19  chromedriver                        0x0000000102cda535 chromedriver + 6599989\n",
      "20  chromedriver                        0x0000000102ce9868 chromedriver + 6662248\n",
      "21  libsystem_pthread.dylib             0x00007ff81275f253 _pthread_start + 99\n",
      "22  libsystem_pthread.dylib             0x00007ff81275abef thread_start + 15\n",
      "\n",
      "Click failed for selector: //label[span[text()=\"Near Mint\"]]\n",
      "Browser session terminated\n"
     ]
    },
    {
     "name": "stderr",
     "output_type": "stream",
     "text": [
      "File exists for ex15-8:  14%|█▍        | 534/3739 [21:05<5:41:59,  6.40s/it]                                   "
     ]
    },
    {
     "name": "stdout",
     "output_type": "stream",
     "text": [
      "Click failed for //label[span[text()=\"Near Mint\"]]: Message: \n",
      "Stacktrace:\n",
      "0   chromedriver                        0x000000010346ae82 chromedriver + 6696578\n",
      "1   chromedriver                        0x0000000103462c9a chromedriver + 6663322\n",
      "2   chromedriver                        0x0000000102e6ae3e chromedriver + 405054\n",
      "3   chromedriver                        0x0000000102ebb815 chromedriver + 735253\n",
      "4   chromedriver                        0x0000000102ebbd11 chromedriver + 736529\n",
      "5   chromedriver                        0x0000000102f06314 chromedriver + 1041172\n",
      "6   chromedriver                        0x0000000102ee089d chromedriver + 886941\n",
      "7   chromedriver                        0x0000000102f033f4 chromedriver + 1029108\n",
      "8   chromedriver                        0x0000000102ee0613 chromedriver + 886291\n",
      "9   chromedriver                        0x0000000102ead950 chromedriver + 678224\n",
      "10  chromedriver                        0x0000000102eae34e chromedriver + 680782\n",
      "11  chromedriver                        0x0000000103438770 chromedriver + 6489968\n",
      "12  chromedriver                        0x000000010343b219 chromedriver + 6500889\n",
      "13  chromedriver                        0x000000010343ad3b chromedriver + 6499643\n",
      "14  chromedriver                        0x000000010343b6a5 chromedriver + 6502053\n",
      "15  chromedriver                        0x0000000103423524 chromedriver + 6403364\n",
      "16  chromedriver                        0x000000010343b98f chromedriver + 6502799\n",
      "17  chromedriver                        0x0000000103414954 chromedriver + 6342996\n",
      "18  chromedriver                        0x0000000103453378 chromedriver + 6599544\n",
      "19  chromedriver                        0x0000000103453535 chromedriver + 6599989\n",
      "20  chromedriver                        0x0000000103462868 chromedriver + 6662248\n",
      "21  libsystem_pthread.dylib             0x00007ff81275f253 _pthread_start + 99\n",
      "22  libsystem_pthread.dylib             0x00007ff81275abef thread_start + 15\n",
      "\n",
      "Click failed for selector: //label[span[text()=\"Near Mint\"]]\n"
     ]
    },
    {
     "name": "stderr",
     "output_type": "stream",
     "text": [
      "Failed for smp-SM11: object of type 'NoneType' has no len():  14%|█▍        | 536/3739 [22:47<8:14:26,  9.26s/it]"
     ]
    },
    {
     "name": "stdout",
     "output_type": "stream",
     "text": [
      "Browser session terminated\n"
     ]
    },
    {
     "name": "stderr",
     "output_type": "stream",
     "text": [
      "File exists for ecard1-11:  16%|█▌        | 603/3739 [22:48<7:37:47,  8.76s/it]                                  "
     ]
    },
    {
     "name": "stdout",
     "output_type": "stream",
     "text": [
      "Click failed for //span[@class=\"checkbox_option-value checkbox_option-value-mobile\" and text()=\"Reverse Holofoil\"]: Message: \n",
      "Stacktrace:\n",
      "0   chromedriver                        0x0000000105380e82 chromedriver + 6696578\n",
      "1   chromedriver                        0x0000000105378c9a chromedriver + 6663322\n",
      "2   chromedriver                        0x0000000104d80e3e chromedriver + 405054\n",
      "3   chromedriver                        0x0000000104dd1815 chromedriver + 735253\n",
      "4   chromedriver                        0x0000000104dd1d11 chromedriver + 736529\n",
      "5   chromedriver                        0x0000000104e1c314 chromedriver + 1041172\n",
      "6   chromedriver                        0x0000000104df689d chromedriver + 886941\n",
      "7   chromedriver                        0x0000000104e193f4 chromedriver + 1029108\n",
      "8   chromedriver                        0x0000000104df6613 chromedriver + 886291\n",
      "9   chromedriver                        0x0000000104dc3950 chromedriver + 678224\n",
      "10  chromedriver                        0x0000000104dc434e chromedriver + 680782\n",
      "11  chromedriver                        0x000000010534e770 chromedriver + 6489968\n",
      "12  chromedriver                        0x0000000105351219 chromedriver + 6500889\n",
      "13  chromedriver                        0x0000000105350d3b chromedriver + 6499643\n",
      "14  chromedriver                        0x00000001053516a5 chromedriver + 6502053\n",
      "15  chromedriver                        0x0000000105339524 chromedriver + 6403364\n",
      "16  chromedriver                        0x000000010535198f chromedriver + 6502799\n",
      "17  chromedriver                        0x000000010532a954 chromedriver + 6342996\n",
      "18  chromedriver                        0x0000000105369378 chromedriver + 6599544\n",
      "19  chromedriver                        0x0000000105369535 chromedriver + 6599989\n",
      "20  chromedriver                        0x0000000105378868 chromedriver + 6662248\n",
      "21  libsystem_pthread.dylib             0x00007ff81275f253 _pthread_start + 99\n",
      "22  libsystem_pthread.dylib             0x00007ff81275abef thread_start + 15\n",
      "\n"
     ]
    },
    {
     "name": "stderr",
     "output_type": "stream",
     "text": [
      "Extraction successful for ex11-20:  16%|█▌        | 605/3739 [24:38<2:18:30,  2.65s/it]"
     ]
    },
    {
     "name": "stdout",
     "output_type": "stream",
     "text": [
      "Browser session terminated\n",
      "Click failed for //span[@class=\"checkbox_option-value checkbox_option-value-mobile\" and text()=\"Reverse Holofoil\"]: Message: \n",
      "Stacktrace:\n",
      "0   chromedriver                        0x0000000100977e82 chromedriver + 6696578\n",
      "1   chromedriver                        0x000000010096fc9a chromedriver + 6663322\n",
      "2   chromedriver                        0x0000000100377e3e chromedriver + 405054\n",
      "3   chromedriver                        0x00000001003c8815 chromedriver + 735253\n",
      "4   chromedriver                        0x00000001003c8d11 chromedriver + 736529\n",
      "5   chromedriver                        0x0000000100413314 chromedriver + 1041172\n",
      "6   chromedriver                        0x00000001003ed89d chromedriver + 886941\n",
      "7   chromedriver                        0x00000001004103f4 chromedriver + 1029108\n",
      "8   chromedriver                        0x00000001003ed613 chromedriver + 886291\n",
      "9   chromedriver                        0x00000001003ba950 chromedriver + 678224\n",
      "10  chromedriver                        0x00000001003bb34e chromedriver + 680782\n",
      "11  chromedriver                        0x0000000100945770 chromedriver + 6489968\n",
      "12  chromedriver                        0x0000000100948219 chromedriver + 6500889\n",
      "13  chromedriver                        0x0000000100947d3b chromedriver + 6499643\n",
      "14  chromedriver                        0x00000001009486a5 chromedriver + 6502053\n",
      "15  chromedriver                        0x0000000100930524 chromedriver + 6403364\n",
      "16  chromedriver                        0x000000010094898f chromedriver + 6502799\n",
      "17  chromedriver                        0x0000000100921954 chromedriver + 6342996\n",
      "18  chromedriver                        0x0000000100960378 chromedriver + 6599544\n",
      "19  chromedriver                        0x0000000100960535 chromedriver + 6599989\n",
      "20  chromedriver                        0x000000010096f868 chromedriver + 6662248\n",
      "21  libsystem_pthread.dylib             0x00007ff81275f253 _pthread_start + 99\n",
      "22  libsystem_pthread.dylib             0x00007ff81275abef thread_start + 15\n",
      "\n"
     ]
    },
    {
     "name": "stderr",
     "output_type": "stream",
     "text": [
      "Extraction successful for ex4-20:  16%|█▌        | 606/3739 [26:33<4:01:56,  4.63s/it] "
     ]
    },
    {
     "name": "stdout",
     "output_type": "stream",
     "text": [
      "Browser session terminated\n",
      "Click failed for //span[@class=\"checkbox_option-value checkbox_option-value-mobile\" and text()=\"Reverse Holofoil\"]: Message: \n",
      "Stacktrace:\n",
      "0   chromedriver                        0x000000010311fe82 chromedriver + 6696578\n",
      "1   chromedriver                        0x0000000103117c9a chromedriver + 6663322\n",
      "2   chromedriver                        0x0000000102b1fe3e chromedriver + 405054\n",
      "3   chromedriver                        0x0000000102b70815 chromedriver + 735253\n",
      "4   chromedriver                        0x0000000102b70d11 chromedriver + 736529\n",
      "5   chromedriver                        0x0000000102bbb314 chromedriver + 1041172\n",
      "6   chromedriver                        0x0000000102b9589d chromedriver + 886941\n",
      "7   chromedriver                        0x0000000102bb83f4 chromedriver + 1029108\n",
      "8   chromedriver                        0x0000000102b95613 chromedriver + 886291\n",
      "9   chromedriver                        0x0000000102b62950 chromedriver + 678224\n",
      "10  chromedriver                        0x0000000102b6334e chromedriver + 680782\n",
      "11  chromedriver                        0x00000001030ed770 chromedriver + 6489968\n",
      "12  chromedriver                        0x00000001030f0219 chromedriver + 6500889\n",
      "13  chromedriver                        0x00000001030efd3b chromedriver + 6499643\n",
      "14  chromedriver                        0x00000001030f06a5 chromedriver + 6502053\n",
      "15  chromedriver                        0x00000001030d8524 chromedriver + 6403364\n",
      "16  chromedriver                        0x00000001030f098f chromedriver + 6502799\n",
      "17  chromedriver                        0x00000001030c9954 chromedriver + 6342996\n",
      "18  chromedriver                        0x0000000103108378 chromedriver + 6599544\n",
      "19  chromedriver                        0x0000000103108535 chromedriver + 6599989\n",
      "20  chromedriver                        0x0000000103117868 chromedriver + 6662248\n",
      "21  libsystem_pthread.dylib             0x00007ff81275f253 _pthread_start + 99\n",
      "22  libsystem_pthread.dylib             0x00007ff81275abef thread_start + 15\n",
      "\n"
     ]
    },
    {
     "name": "stderr",
     "output_type": "stream",
     "text": [
      "Extraction successful for ex9-20:  16%|█▌        | 607/3739 [28:17<6:10:25,  7.10s/it]"
     ]
    },
    {
     "name": "stdout",
     "output_type": "stream",
     "text": [
      "Browser session terminated\n",
      "Selecting Normal (Holofoil)\n",
      "Click failed for //span[@class=\"checkbox_option-value checkbox_option-value-mobile\" and text()=\"Holofoil\"]: Message: \n",
      "Stacktrace:\n",
      "0   chromedriver                        0x0000000102befe82 chromedriver + 6696578\n",
      "1   chromedriver                        0x0000000102be7c9a chromedriver + 6663322\n",
      "2   chromedriver                        0x00000001025efe3e chromedriver + 405054\n",
      "3   chromedriver                        0x0000000102640815 chromedriver + 735253\n",
      "4   chromedriver                        0x0000000102640d11 chromedriver + 736529\n",
      "5   chromedriver                        0x000000010268b314 chromedriver + 1041172\n",
      "6   chromedriver                        0x000000010266589d chromedriver + 886941\n",
      "7   chromedriver                        0x00000001026883f4 chromedriver + 1029108\n",
      "8   chromedriver                        0x0000000102665613 chromedriver + 886291\n",
      "9   chromedriver                        0x0000000102632950 chromedriver + 678224\n",
      "10  chromedriver                        0x000000010263334e chromedriver + 680782\n",
      "11  chromedriver                        0x0000000102bbd770 chromedriver + 6489968\n",
      "12  chromedriver                        0x0000000102bc0219 chromedriver + 6500889\n",
      "13  chromedriver                        0x0000000102bbfd3b chromedriver + 6499643\n",
      "14  chromedriver                        0x0000000102bc06a5 chromedriver + 6502053\n",
      "15  chromedriver                        0x0000000102ba8524 chromedriver + 6403364\n",
      "16  chromedriver                        0x0000000102bc098f chromedriver + 6502799\n",
      "17  chromedriver                        0x0000000102b99954 chromedriver + 6342996\n",
      "18  chromedriver                        0x0000000102bd8378 chromedriver + 6599544\n",
      "19  chromedriver                        0x0000000102bd8535 chromedriver + 6599989\n",
      "20  chromedriver                        0x0000000102be7868 chromedriver + 6662248\n",
      "21  libsystem_pthread.dylib             0x00007ff81275f253 _pthread_start + 99\n",
      "22  libsystem_pthread.dylib             0x00007ff81275abef thread_start + 15\n",
      "\n"
     ]
    },
    {
     "name": "stderr",
     "output_type": "stream",
     "text": [
      "Extraction successful for dp5-11:  16%|█▋        | 608/3739 [30:08<9:14:02, 10.62s/it]"
     ]
    },
    {
     "name": "stdout",
     "output_type": "stream",
     "text": [
      "Browser session terminated\n",
      "Click failed for //span[@class=\"checkbox_option-value checkbox_option-value-mobile\" and text()=\"Reverse Holofoil\"]: Message: \n",
      "Stacktrace:\n",
      "0   chromedriver                        0x0000000105658e82 chromedriver + 6696578\n",
      "1   chromedriver                        0x0000000105650c9a chromedriver + 6663322\n",
      "2   chromedriver                        0x0000000105058e3e chromedriver + 405054\n",
      "3   chromedriver                        0x00000001050a9815 chromedriver + 735253\n",
      "4   chromedriver                        0x00000001050a9d11 chromedriver + 736529\n",
      "5   chromedriver                        0x00000001050f4314 chromedriver + 1041172\n",
      "6   chromedriver                        0x00000001050ce89d chromedriver + 886941\n",
      "7   chromedriver                        0x00000001050f13f4 chromedriver + 1029108\n",
      "8   chromedriver                        0x00000001050ce613 chromedriver + 886291\n",
      "9   chromedriver                        0x000000010509b950 chromedriver + 678224\n",
      "10  chromedriver                        0x000000010509c34e chromedriver + 680782\n",
      "11  chromedriver                        0x0000000105626770 chromedriver + 6489968\n",
      "12  chromedriver                        0x0000000105629219 chromedriver + 6500889\n",
      "13  chromedriver                        0x0000000105628d3b chromedriver + 6499643\n",
      "14  chromedriver                        0x00000001056296a5 chromedriver + 6502053\n",
      "15  chromedriver                        0x0000000105611524 chromedriver + 6403364\n",
      "16  chromedriver                        0x000000010562998f chromedriver + 6502799\n",
      "17  chromedriver                        0x0000000105602954 chromedriver + 6342996\n",
      "18  chromedriver                        0x0000000105641378 chromedriver + 6599544\n",
      "19  chromedriver                        0x0000000105641535 chromedriver + 6599989\n",
      "20  chromedriver                        0x0000000105650868 chromedriver + 6662248\n",
      "21  libsystem_pthread.dylib             0x00007ff81275f253 _pthread_start + 99\n",
      "22  libsystem_pthread.dylib             0x00007ff81275abef thread_start + 15\n",
      "\n"
     ]
    },
    {
     "name": "stderr",
     "output_type": "stream",
     "text": [
      "Extraction successful for base6-20:  16%|█▋        | 609/3739 [31:54<13:03:50, 15.03s/it]"
     ]
    },
    {
     "name": "stdout",
     "output_type": "stream",
     "text": [
      "Browser session terminated\n",
      "Selecting Reverse Holofoil\n",
      "Click failed for //span[@class=\"checkbox_option-value checkbox_option-value-mobile\" and text()=\"Reverse Holofoil\"]: Message: \n",
      "Stacktrace:\n",
      "0   chromedriver                        0x0000000101651e82 chromedriver + 6696578\n",
      "1   chromedriver                        0x0000000101649c9a chromedriver + 6663322\n",
      "2   chromedriver                        0x0000000101051e3e chromedriver + 405054\n",
      "3   chromedriver                        0x00000001010a2815 chromedriver + 735253\n",
      "4   chromedriver                        0x00000001010a2d11 chromedriver + 736529\n",
      "5   chromedriver                        0x00000001010ed314 chromedriver + 1041172\n",
      "6   chromedriver                        0x00000001010c789d chromedriver + 886941\n",
      "7   chromedriver                        0x00000001010ea3f4 chromedriver + 1029108\n",
      "8   chromedriver                        0x00000001010c7613 chromedriver + 886291\n",
      "9   chromedriver                        0x0000000101094950 chromedriver + 678224\n",
      "10  chromedriver                        0x000000010109534e chromedriver + 680782\n",
      "11  chromedriver                        0x000000010161f770 chromedriver + 6489968\n",
      "12  chromedriver                        0x0000000101622219 chromedriver + 6500889\n",
      "13  chromedriver                        0x0000000101621d3b chromedriver + 6499643\n",
      "14  chromedriver                        0x00000001016226a5 chromedriver + 6502053\n",
      "15  chromedriver                        0x000000010160a524 chromedriver + 6403364\n",
      "16  chromedriver                        0x000000010162298f chromedriver + 6502799\n",
      "17  chromedriver                        0x00000001015fb954 chromedriver + 6342996\n",
      "18  chromedriver                        0x000000010163a378 chromedriver + 6599544\n",
      "19  chromedriver                        0x000000010163a535 chromedriver + 6599989\n",
      "20  chromedriver                        0x0000000101649868 chromedriver + 6662248\n",
      "21  libsystem_pthread.dylib             0x00007ff81275f253 _pthread_start + 99\n",
      "22  libsystem_pthread.dylib             0x00007ff81275abef thread_start + 15\n",
      "\n"
     ]
    },
    {
     "name": "stderr",
     "output_type": "stream",
     "text": [
      "Extraction successful for xy7-21:  16%|█▋        | 610/3739 [33:42<18:02:28, 20.76s/it]  "
     ]
    },
    {
     "name": "stdout",
     "output_type": "stream",
     "text": [
      "Browser session terminated\n",
      "Click failed for //span[@class=\"checkbox_option-value checkbox_option-value-mobile\" and text()=\"Holofoil\"]: Message: \n",
      "Stacktrace:\n",
      "0   chromedriver                        0x0000000105116e82 chromedriver + 6696578\n",
      "1   chromedriver                        0x000000010510ec9a chromedriver + 6663322\n",
      "2   chromedriver                        0x0000000104b16e3e chromedriver + 405054\n",
      "3   chromedriver                        0x0000000104b67815 chromedriver + 735253\n",
      "4   chromedriver                        0x0000000104b67d11 chromedriver + 736529\n",
      "5   chromedriver                        0x0000000104bb2314 chromedriver + 1041172\n",
      "6   chromedriver                        0x0000000104b8c89d chromedriver + 886941\n",
      "7   chromedriver                        0x0000000104baf3f4 chromedriver + 1029108\n",
      "8   chromedriver                        0x0000000104b8c613 chromedriver + 886291\n",
      "9   chromedriver                        0x0000000104b59950 chromedriver + 678224\n",
      "10  chromedriver                        0x0000000104b5a34e chromedriver + 680782\n",
      "11  chromedriver                        0x00000001050e4770 chromedriver + 6489968\n",
      "12  chromedriver                        0x00000001050e7219 chromedriver + 6500889\n",
      "13  chromedriver                        0x00000001050e6d3b chromedriver + 6499643\n",
      "14  chromedriver                        0x00000001050e76a5 chromedriver + 6502053\n",
      "15  chromedriver                        0x00000001050cf524 chromedriver + 6403364\n",
      "16  chromedriver                        0x00000001050e798f chromedriver + 6502799\n",
      "17  chromedriver                        0x00000001050c0954 chromedriver + 6342996\n",
      "18  chromedriver                        0x00000001050ff378 chromedriver + 6599544\n",
      "19  chromedriver                        0x00000001050ff535 chromedriver + 6599989\n",
      "20  chromedriver                        0x000000010510e868 chromedriver + 6662248\n",
      "21  libsystem_pthread.dylib             0x00007ff81275f253 _pthread_start + 99\n",
      "22  libsystem_pthread.dylib             0x00007ff81275abef thread_start + 15\n",
      "\n"
     ]
    },
    {
     "name": "stderr",
     "output_type": "stream",
     "text": [
      "Extraction successful for xy12-13:  16%|█▋        | 611/3739 [35:39<24:52:09, 28.62s/it]"
     ]
    },
    {
     "name": "stdout",
     "output_type": "stream",
     "text": [
      "Browser session terminated\n",
      "Selecting Normal (Holofoil)\n",
      "Click failed for //span[@class=\"checkbox_option-value checkbox_option-value-mobile\" and text()=\"Holofoil\"]: Message: \n",
      "Stacktrace:\n",
      "0   chromedriver                        0x0000000101102e82 chromedriver + 6696578\n",
      "1   chromedriver                        0x00000001010fac9a chromedriver + 6663322\n",
      "2   chromedriver                        0x0000000100b02e3e chromedriver + 405054\n",
      "3   chromedriver                        0x0000000100b53815 chromedriver + 735253\n",
      "4   chromedriver                        0x0000000100b53d11 chromedriver + 736529\n",
      "5   chromedriver                        0x0000000100b9e314 chromedriver + 1041172\n",
      "6   chromedriver                        0x0000000100b7889d chromedriver + 886941\n",
      "7   chromedriver                        0x0000000100b9b3f4 chromedriver + 1029108\n",
      "8   chromedriver                        0x0000000100b78613 chromedriver + 886291\n",
      "9   chromedriver                        0x0000000100b45950 chromedriver + 678224\n",
      "10  chromedriver                        0x0000000100b4634e chromedriver + 680782\n",
      "11  chromedriver                        0x00000001010d0770 chromedriver + 6489968\n",
      "12  chromedriver                        0x00000001010d3219 chromedriver + 6500889\n",
      "13  chromedriver                        0x00000001010d2d3b chromedriver + 6499643\n",
      "14  chromedriver                        0x00000001010d36a5 chromedriver + 6502053\n",
      "15  chromedriver                        0x00000001010bb524 chromedriver + 6403364\n",
      "16  chromedriver                        0x00000001010d398f chromedriver + 6502799\n",
      "17  chromedriver                        0x00000001010ac954 chromedriver + 6342996\n",
      "18  chromedriver                        0x00000001010eb378 chromedriver + 6599544\n",
      "19  chromedriver                        0x00000001010eb535 chromedriver + 6599989\n",
      "20  chromedriver                        0x00000001010fa868 chromedriver + 6662248\n",
      "21  libsystem_pthread.dylib             0x00007ff81275f253 _pthread_start + 99\n",
      "22  libsystem_pthread.dylib             0x00007ff81275abef thread_start + 15\n",
      "\n"
     ]
    },
    {
     "name": "stderr",
     "output_type": "stream",
     "text": [
      "Extraction successful for ecard1-9:  16%|█▋        | 612/3739 [37:34<32:37:50, 37.57s/it]"
     ]
    },
    {
     "name": "stdout",
     "output_type": "stream",
     "text": [
      "Browser session terminated\n",
      "Click failed for //span[@class=\"checkbox_option-value checkbox_option-value-mobile\" and text()=\"Reverse Holofoil\"]: Message: \n",
      "Stacktrace:\n",
      "0   chromedriver                        0x0000000104b05e82 chromedriver + 6696578\n",
      "1   chromedriver                        0x0000000104afdc9a chromedriver + 6663322\n",
      "2   chromedriver                        0x0000000104505e3e chromedriver + 405054\n",
      "3   chromedriver                        0x0000000104556815 chromedriver + 735253\n",
      "4   chromedriver                        0x0000000104556d11 chromedriver + 736529\n",
      "5   chromedriver                        0x00000001045a1314 chromedriver + 1041172\n",
      "6   chromedriver                        0x000000010457b89d chromedriver + 886941\n",
      "7   chromedriver                        0x000000010459e3f4 chromedriver + 1029108\n",
      "8   chromedriver                        0x000000010457b613 chromedriver + 886291\n",
      "9   chromedriver                        0x0000000104548950 chromedriver + 678224\n",
      "10  chromedriver                        0x000000010454934e chromedriver + 680782\n",
      "11  chromedriver                        0x0000000104ad3770 chromedriver + 6489968\n",
      "12  chromedriver                        0x0000000104ad6219 chromedriver + 6500889\n",
      "13  chromedriver                        0x0000000104ad5d3b chromedriver + 6499643\n",
      "14  chromedriver                        0x0000000104ad66a5 chromedriver + 6502053\n",
      "15  chromedriver                        0x0000000104abe524 chromedriver + 6403364\n",
      "16  chromedriver                        0x0000000104ad698f chromedriver + 6502799\n",
      "17  chromedriver                        0x0000000104aaf954 chromedriver + 6342996\n",
      "18  chromedriver                        0x0000000104aee378 chromedriver + 6599544\n",
      "19  chromedriver                        0x0000000104aee535 chromedriver + 6599989\n",
      "20  chromedriver                        0x0000000104afd868 chromedriver + 6662248\n",
      "21  libsystem_pthread.dylib             0x00007ff81275f253 _pthread_start + 99\n",
      "22  libsystem_pthread.dylib             0x00007ff81275abef thread_start + 15\n",
      "\n"
     ]
    },
    {
     "name": "stderr",
     "output_type": "stream",
     "text": [
      "Extraction successful for bw11-21:  16%|█▋        | 613/3739 [39:24<40:49:45, 47.02s/it] "
     ]
    },
    {
     "name": "stdout",
     "output_type": "stream",
     "text": [
      "Browser session terminated\n",
      "Click failed for //span[@class=\"checkbox_option-value checkbox_option-value-mobile\" and text()=\"Reverse Holofoil\"]: Message: \n",
      "Stacktrace:\n",
      "0   chromedriver                        0x00000001054d6e82 chromedriver + 6696578\n",
      "1   chromedriver                        0x00000001054cec9a chromedriver + 6663322\n",
      "2   chromedriver                        0x0000000104ed6e3e chromedriver + 405054\n",
      "3   chromedriver                        0x0000000104f27815 chromedriver + 735253\n",
      "4   chromedriver                        0x0000000104f27d11 chromedriver + 736529\n",
      "5   chromedriver                        0x0000000104f72314 chromedriver + 1041172\n",
      "6   chromedriver                        0x0000000104f4c89d chromedriver + 886941\n",
      "7   chromedriver                        0x0000000104f6f3f4 chromedriver + 1029108\n",
      "8   chromedriver                        0x0000000104f4c613 chromedriver + 886291\n",
      "9   chromedriver                        0x0000000104f19950 chromedriver + 678224\n",
      "10  chromedriver                        0x0000000104f1a34e chromedriver + 680782\n",
      "11  chromedriver                        0x00000001054a4770 chromedriver + 6489968\n",
      "12  chromedriver                        0x00000001054a7219 chromedriver + 6500889\n",
      "13  chromedriver                        0x00000001054a6d3b chromedriver + 6499643\n",
      "14  chromedriver                        0x00000001054a76a5 chromedriver + 6502053\n",
      "15  chromedriver                        0x000000010548f524 chromedriver + 6403364\n",
      "16  chromedriver                        0x00000001054a798f chromedriver + 6502799\n",
      "17  chromedriver                        0x0000000105480954 chromedriver + 6342996\n",
      "18  chromedriver                        0x00000001054bf378 chromedriver + 6599544\n",
      "19  chromedriver                        0x00000001054bf535 chromedriver + 6599989\n",
      "20  chromedriver                        0x00000001054ce868 chromedriver + 6662248\n",
      "21  libsystem_pthread.dylib             0x00007ff81275f253 _pthread_start + 99\n",
      "22  libsystem_pthread.dylib             0x00007ff81275abef thread_start + 15\n",
      "\n"
     ]
    },
    {
     "name": "stderr",
     "output_type": "stream",
     "text": [
      "Extraction successful for ex12-21:  16%|█▋        | 614/3739 [41:19<50:02:32, 57.65s/it]"
     ]
    },
    {
     "name": "stdout",
     "output_type": "stream",
     "text": [
      "Browser session terminated\n",
      "Click failed for //span[@class=\"checkbox_option-value checkbox_option-value-mobile\" and text()=\"Holofoil\"]: Message: \n",
      "Stacktrace:\n",
      "0   chromedriver                        0x0000000102b1be82 chromedriver + 6696578\n",
      "1   chromedriver                        0x0000000102b13c9a chromedriver + 6663322\n",
      "2   chromedriver                        0x000000010251be3e chromedriver + 405054\n",
      "3   chromedriver                        0x000000010256c815 chromedriver + 735253\n",
      "4   chromedriver                        0x000000010256cd11 chromedriver + 736529\n",
      "5   chromedriver                        0x00000001025b7314 chromedriver + 1041172\n",
      "6   chromedriver                        0x000000010259189d chromedriver + 886941\n",
      "7   chromedriver                        0x00000001025b43f4 chromedriver + 1029108\n",
      "8   chromedriver                        0x0000000102591613 chromedriver + 886291\n",
      "9   chromedriver                        0x000000010255e950 chromedriver + 678224\n",
      "10  chromedriver                        0x000000010255f34e chromedriver + 680782\n",
      "11  chromedriver                        0x0000000102ae9770 chromedriver + 6489968\n",
      "12  chromedriver                        0x0000000102aec219 chromedriver + 6500889\n",
      "13  chromedriver                        0x0000000102aebd3b chromedriver + 6499643\n",
      "14  chromedriver                        0x0000000102aec6a5 chromedriver + 6502053\n",
      "15  chromedriver                        0x0000000102ad4524 chromedriver + 6403364\n",
      "16  chromedriver                        0x0000000102aec98f chromedriver + 6502799\n",
      "17  chromedriver                        0x0000000102ac5954 chromedriver + 6342996\n",
      "18  chromedriver                        0x0000000102b04378 chromedriver + 6599544\n",
      "19  chromedriver                        0x0000000102b04535 chromedriver + 6599989\n",
      "20  chromedriver                        0x0000000102b13868 chromedriver + 6662248\n",
      "21  libsystem_pthread.dylib             0x00007ff81275f253 _pthread_start + 99\n",
      "22  libsystem_pthread.dylib             0x00007ff81275abef thread_start + 15\n",
      "\n"
     ]
    },
    {
     "name": "stderr",
     "output_type": "stream",
     "text": [
      "Extraction successful for basep-15:  16%|█▋        | 615/3739 [42:55<56:05:23, 64.64s/it]"
     ]
    },
    {
     "name": "stdout",
     "output_type": "stream",
     "text": [
      "Browser session terminated\n",
      "Click failed for //span[@class=\"checkbox_option-value checkbox_option-value-mobile\" and text()=\"Reverse Holofoil\"]: Message: \n",
      "Stacktrace:\n",
      "0   chromedriver                        0x000000010097de82 chromedriver + 6696578\n",
      "1   chromedriver                        0x0000000100975c9a chromedriver + 6663322\n",
      "2   chromedriver                        0x000000010037de3e chromedriver + 405054\n",
      "3   chromedriver                        0x00000001003ce815 chromedriver + 735253\n",
      "4   chromedriver                        0x00000001003ced11 chromedriver + 736529\n",
      "5   chromedriver                        0x0000000100419314 chromedriver + 1041172\n",
      "6   chromedriver                        0x00000001003f389d chromedriver + 886941\n",
      "7   chromedriver                        0x00000001004163f4 chromedriver + 1029108\n",
      "8   chromedriver                        0x00000001003f3613 chromedriver + 886291\n",
      "9   chromedriver                        0x00000001003c0950 chromedriver + 678224\n",
      "10  chromedriver                        0x00000001003c134e chromedriver + 680782\n",
      "11  chromedriver                        0x000000010094b770 chromedriver + 6489968\n",
      "12  chromedriver                        0x000000010094e219 chromedriver + 6500889\n",
      "13  chromedriver                        0x000000010094dd3b chromedriver + 6499643\n",
      "14  chromedriver                        0x000000010094e6a5 chromedriver + 6502053\n",
      "15  chromedriver                        0x0000000100936524 chromedriver + 6403364\n",
      "16  chromedriver                        0x000000010094e98f chromedriver + 6502799\n",
      "17  chromedriver                        0x0000000100927954 chromedriver + 6342996\n",
      "18  chromedriver                        0x0000000100966378 chromedriver + 6599544\n",
      "19  chromedriver                        0x0000000100966535 chromedriver + 6599989\n",
      "20  chromedriver                        0x0000000100975868 chromedriver + 6662248\n",
      "21  libsystem_pthread.dylib             0x00007ff81275f253 _pthread_start + 99\n",
      "22  libsystem_pthread.dylib             0x00007ff81275abef thread_start + 15\n",
      "\n"
     ]
    },
    {
     "name": "stderr",
     "output_type": "stream",
     "text": [
      "Extraction successful for ex9-19:  16%|█▋        | 616/3739 [44:41<63:22:49, 73.06s/it]  "
     ]
    },
    {
     "name": "stdout",
     "output_type": "stream",
     "text": [
      "Browser session terminated\n",
      "Click failed for //span[@class=\"checkbox_option-value checkbox_option-value-mobile\" and text()=\"Reverse Holofoil\"]: Message: \n",
      "Stacktrace:\n",
      "0   chromedriver                        0x00000001032efe82 chromedriver + 6696578\n",
      "1   chromedriver                        0x00000001032e7c9a chromedriver + 6663322\n",
      "2   chromedriver                        0x0000000102cefe3e chromedriver + 405054\n",
      "3   chromedriver                        0x0000000102d40815 chromedriver + 735253\n",
      "4   chromedriver                        0x0000000102d40d11 chromedriver + 736529\n",
      "5   chromedriver                        0x0000000102d8b314 chromedriver + 1041172\n",
      "6   chromedriver                        0x0000000102d6589d chromedriver + 886941\n",
      "7   chromedriver                        0x0000000102d883f4 chromedriver + 1029108\n",
      "8   chromedriver                        0x0000000102d65613 chromedriver + 886291\n",
      "9   chromedriver                        0x0000000102d32950 chromedriver + 678224\n",
      "10  chromedriver                        0x0000000102d3334e chromedriver + 680782\n",
      "11  chromedriver                        0x00000001032bd770 chromedriver + 6489968\n",
      "12  chromedriver                        0x00000001032c0219 chromedriver + 6500889\n",
      "13  chromedriver                        0x00000001032bfd3b chromedriver + 6499643\n",
      "14  chromedriver                        0x00000001032c06a5 chromedriver + 6502053\n",
      "15  chromedriver                        0x00000001032a8524 chromedriver + 6403364\n",
      "16  chromedriver                        0x00000001032c098f chromedriver + 6502799\n",
      "17  chromedriver                        0x0000000103299954 chromedriver + 6342996\n",
      "18  chromedriver                        0x00000001032d8378 chromedriver + 6599544\n",
      "19  chromedriver                        0x00000001032d8535 chromedriver + 6599989\n",
      "20  chromedriver                        0x00000001032e7868 chromedriver + 6662248\n",
      "21  libsystem_pthread.dylib             0x00007ff81275f253 _pthread_start + 99\n",
      "22  libsystem_pthread.dylib             0x00007ff81275abef thread_start + 15\n",
      "\n"
     ]
    },
    {
     "name": "stderr",
     "output_type": "stream",
     "text": [
      "Extraction successful for ex14-16:  17%|█▋        | 617/3739 [46:30<70:39:13, 81.47s/it]"
     ]
    },
    {
     "name": "stdout",
     "output_type": "stream",
     "text": [
      "Browser session terminated\n",
      "Selecting Reverse Holofoil\n",
      "Click failed for //span[@class=\"checkbox_option-value checkbox_option-value-mobile\" and text()=\"Reverse Holofoil\"]: Message: \n",
      "Stacktrace:\n",
      "0   chromedriver                        0x0000000100b6fe82 chromedriver + 6696578\n",
      "1   chromedriver                        0x0000000100b67c9a chromedriver + 6663322\n",
      "2   chromedriver                        0x000000010056fe3e chromedriver + 405054\n",
      "3   chromedriver                        0x00000001005c0815 chromedriver + 735253\n",
      "4   chromedriver                        0x00000001005c0d11 chromedriver + 736529\n",
      "5   chromedriver                        0x000000010060b314 chromedriver + 1041172\n",
      "6   chromedriver                        0x00000001005e589d chromedriver + 886941\n",
      "7   chromedriver                        0x00000001006083f4 chromedriver + 1029108\n",
      "8   chromedriver                        0x00000001005e5613 chromedriver + 886291\n",
      "9   chromedriver                        0x00000001005b2950 chromedriver + 678224\n",
      "10  chromedriver                        0x00000001005b334e chromedriver + 680782\n",
      "11  chromedriver                        0x0000000100b3d770 chromedriver + 6489968\n",
      "12  chromedriver                        0x0000000100b40219 chromedriver + 6500889\n",
      "13  chromedriver                        0x0000000100b3fd3b chromedriver + 6499643\n",
      "14  chromedriver                        0x0000000100b406a5 chromedriver + 6502053\n",
      "15  chromedriver                        0x0000000100b28524 chromedriver + 6403364\n",
      "16  chromedriver                        0x0000000100b4098f chromedriver + 6502799\n",
      "17  chromedriver                        0x0000000100b19954 chromedriver + 6342996\n",
      "18  chromedriver                        0x0000000100b58378 chromedriver + 6599544\n",
      "19  chromedriver                        0x0000000100b58535 chromedriver + 6599989\n",
      "20  chromedriver                        0x0000000100b67868 chromedriver + 6662248\n",
      "21  libsystem_pthread.dylib             0x00007ff81275f253 _pthread_start + 99\n",
      "22  libsystem_pthread.dylib             0x00007ff81275abef thread_start + 15\n",
      "\n"
     ]
    },
    {
     "name": "stderr",
     "output_type": "stream",
     "text": [
      "Extraction successful for ex15-9:  17%|█▋        | 618/3739 [48:17<76:03:45, 87.74s/it] "
     ]
    },
    {
     "name": "stdout",
     "output_type": "stream",
     "text": [
      "Browser session terminated\n",
      "Click failed for //span[@class=\"checkbox_option-value checkbox_option-value-mobile\" and text()=\"Reverse Holofoil\"]: Message: \n",
      "Stacktrace:\n",
      "0   chromedriver                        0x000000010302ee82 chromedriver + 6696578\n",
      "1   chromedriver                        0x0000000103026c9a chromedriver + 6663322\n",
      "2   chromedriver                        0x0000000102a2ee3e chromedriver + 405054\n",
      "3   chromedriver                        0x0000000102a7f815 chromedriver + 735253\n",
      "4   chromedriver                        0x0000000102a7fd11 chromedriver + 736529\n",
      "5   chromedriver                        0x0000000102aca314 chromedriver + 1041172\n",
      "6   chromedriver                        0x0000000102aa489d chromedriver + 886941\n",
      "7   chromedriver                        0x0000000102ac73f4 chromedriver + 1029108\n",
      "8   chromedriver                        0x0000000102aa4613 chromedriver + 886291\n",
      "9   chromedriver                        0x0000000102a71950 chromedriver + 678224\n",
      "10  chromedriver                        0x0000000102a7234e chromedriver + 680782\n",
      "11  chromedriver                        0x0000000102ffc770 chromedriver + 6489968\n",
      "12  chromedriver                        0x0000000102fff219 chromedriver + 6500889\n",
      "13  chromedriver                        0x0000000102ffed3b chromedriver + 6499643\n",
      "14  chromedriver                        0x0000000102fff6a5 chromedriver + 6502053\n",
      "15  chromedriver                        0x0000000102fe7524 chromedriver + 6403364\n",
      "16  chromedriver                        0x0000000102fff98f chromedriver + 6502799\n",
      "17  chromedriver                        0x0000000102fd8954 chromedriver + 6342996\n",
      "18  chromedriver                        0x0000000103017378 chromedriver + 6599544\n",
      "19  chromedriver                        0x0000000103017535 chromedriver + 6599989\n",
      "20  chromedriver                        0x0000000103026868 chromedriver + 6662248\n",
      "21  libsystem_pthread.dylib             0x00007ff81275f253 _pthread_start + 99\n",
      "22  libsystem_pthread.dylib             0x00007ff81275abef thread_start + 15\n",
      "\n"
     ]
    },
    {
     "name": "stderr",
     "output_type": "stream",
     "text": [
      "Extraction successful for ex8-17:  17%|█▋        | 619/3739 [50:07<80:57:39, 93.42s/it]"
     ]
    },
    {
     "name": "stdout",
     "output_type": "stream",
     "text": [
      "Browser session terminated\n",
      "Click failed for //span[@class=\"checkbox_option-value checkbox_option-value-mobile\" and text()=\"Holofoil\"]: Message: \n",
      "Stacktrace:\n",
      "0   chromedriver                        0x0000000105127e82 chromedriver + 6696578\n",
      "1   chromedriver                        0x000000010511fc9a chromedriver + 6663322\n",
      "2   chromedriver                        0x0000000104b27e3e chromedriver + 405054\n",
      "3   chromedriver                        0x0000000104b78815 chromedriver + 735253\n",
      "4   chromedriver                        0x0000000104b78d11 chromedriver + 736529\n",
      "5   chromedriver                        0x0000000104bc3314 chromedriver + 1041172\n",
      "6   chromedriver                        0x0000000104b9d89d chromedriver + 886941\n",
      "7   chromedriver                        0x0000000104bc03f4 chromedriver + 1029108\n",
      "8   chromedriver                        0x0000000104b9d613 chromedriver + 886291\n",
      "9   chromedriver                        0x0000000104b6a950 chromedriver + 678224\n",
      "10  chromedriver                        0x0000000104b6b34e chromedriver + 680782\n",
      "11  chromedriver                        0x00000001050f5770 chromedriver + 6489968\n",
      "12  chromedriver                        0x00000001050f8219 chromedriver + 6500889\n",
      "13  chromedriver                        0x00000001050f7d3b chromedriver + 6499643\n",
      "14  chromedriver                        0x00000001050f86a5 chromedriver + 6502053\n",
      "15  chromedriver                        0x00000001050e0524 chromedriver + 6403364\n",
      "16  chromedriver                        0x00000001050f898f chromedriver + 6502799\n",
      "17  chromedriver                        0x00000001050d1954 chromedriver + 6342996\n",
      "18  chromedriver                        0x0000000105110378 chromedriver + 6599544\n",
      "19  chromedriver                        0x0000000105110535 chromedriver + 6599989\n",
      "20  chromedriver                        0x000000010511f868 chromedriver + 6662248\n",
      "21  libsystem_pthread.dylib             0x00007ff81275f253 _pthread_start + 99\n",
      "22  libsystem_pthread.dylib             0x00007ff81275abef thread_start + 15\n",
      "\n"
     ]
    },
    {
     "name": "stderr",
     "output_type": "stream",
     "text": [
      "Extraction successful for swshp-SWSH009:  17%|█▋        | 620/3739 [51:54<84:12:45, 97.20s/it]"
     ]
    },
    {
     "name": "stdout",
     "output_type": "stream",
     "text": [
      "Browser session terminated\n",
      "Selecting Reverse Holofoil\n",
      "Click failed for //span[@class=\"checkbox_option-value checkbox_option-value-mobile\" and text()=\"Reverse Holofoil\"]: Message: \n",
      "Stacktrace:\n",
      "0   chromedriver                        0x0000000100f32e82 chromedriver + 6696578\n",
      "1   chromedriver                        0x0000000100f2ac9a chromedriver + 6663322\n",
      "2   chromedriver                        0x0000000100932e3e chromedriver + 405054\n",
      "3   chromedriver                        0x0000000100983815 chromedriver + 735253\n",
      "4   chromedriver                        0x0000000100983d11 chromedriver + 736529\n",
      "5   chromedriver                        0x00000001009ce314 chromedriver + 1041172\n",
      "6   chromedriver                        0x00000001009a889d chromedriver + 886941\n",
      "7   chromedriver                        0x00000001009cb3f4 chromedriver + 1029108\n",
      "8   chromedriver                        0x00000001009a8613 chromedriver + 886291\n",
      "9   chromedriver                        0x0000000100975950 chromedriver + 678224\n",
      "10  chromedriver                        0x000000010097634e chromedriver + 680782\n",
      "11  chromedriver                        0x0000000100f00770 chromedriver + 6489968\n",
      "12  chromedriver                        0x0000000100f03219 chromedriver + 6500889\n",
      "13  chromedriver                        0x0000000100f02d3b chromedriver + 6499643\n",
      "14  chromedriver                        0x0000000100f036a5 chromedriver + 6502053\n",
      "15  chromedriver                        0x0000000100eeb524 chromedriver + 6403364\n",
      "16  chromedriver                        0x0000000100f0398f chromedriver + 6502799\n",
      "17  chromedriver                        0x0000000100edc954 chromedriver + 6342996\n",
      "18  chromedriver                        0x0000000100f1b378 chromedriver + 6599544\n",
      "19  chromedriver                        0x0000000100f1b535 chromedriver + 6599989\n",
      "20  chromedriver                        0x0000000100f2a868 chromedriver + 6662248\n",
      "21  libsystem_pthread.dylib             0x00007ff81275f253 _pthread_start + 99\n",
      "22  libsystem_pthread.dylib             0x00007ff81275abef thread_start + 15\n",
      "\n"
     ]
    },
    {
     "name": "stderr",
     "output_type": "stream",
     "text": [
      "Extraction successful for col1-20:  17%|█▋        | 621/3739 [53:48<88:14:57, 101.89s/it]     "
     ]
    },
    {
     "name": "stdout",
     "output_type": "stream",
     "text": [
      "Browser session terminated\n",
      "Selecting Normal (Holofoil)\n",
      "Click failed for //span[@class=\"checkbox_option-value checkbox_option-value-mobile\" and text()=\"Holofoil\"]: Message: \n",
      "Stacktrace:\n",
      "0   chromedriver                        0x0000000104ef6e82 chromedriver + 6696578\n",
      "1   chromedriver                        0x0000000104eeec9a chromedriver + 6663322\n",
      "2   chromedriver                        0x00000001048f6e3e chromedriver + 405054\n",
      "3   chromedriver                        0x0000000104947815 chromedriver + 735253\n",
      "4   chromedriver                        0x0000000104947d11 chromedriver + 736529\n",
      "5   chromedriver                        0x0000000104992314 chromedriver + 1041172\n",
      "6   chromedriver                        0x000000010496c89d chromedriver + 886941\n",
      "7   chromedriver                        0x000000010498f3f4 chromedriver + 1029108\n",
      "8   chromedriver                        0x000000010496c613 chromedriver + 886291\n",
      "9   chromedriver                        0x0000000104939950 chromedriver + 678224\n",
      "10  chromedriver                        0x000000010493a34e chromedriver + 680782\n",
      "11  chromedriver                        0x0000000104ec4770 chromedriver + 6489968\n",
      "12  chromedriver                        0x0000000104ec7219 chromedriver + 6500889\n",
      "13  chromedriver                        0x0000000104ec6d3b chromedriver + 6499643\n",
      "14  chromedriver                        0x0000000104ec76a5 chromedriver + 6502053\n",
      "15  chromedriver                        0x0000000104eaf524 chromedriver + 6403364\n",
      "16  chromedriver                        0x0000000104ec798f chromedriver + 6502799\n",
      "17  chromedriver                        0x0000000104ea0954 chromedriver + 6342996\n",
      "18  chromedriver                        0x0000000104edf378 chromedriver + 6599544\n",
      "19  chromedriver                        0x0000000104edf535 chromedriver + 6599989\n",
      "20  chromedriver                        0x0000000104eee868 chromedriver + 6662248\n",
      "21  libsystem_pthread.dylib             0x00007ff81275f253 _pthread_start + 99\n",
      "22  libsystem_pthread.dylib             0x00007ff81275abef thread_start + 15\n",
      "\n"
     ]
    },
    {
     "name": "stderr",
     "output_type": "stream",
     "text": [
      "Extraction successful for ex5-13:  17%|█▋        | 622/3739 [55:25<86:47:32, 100.24s/it] "
     ]
    },
    {
     "name": "stdout",
     "output_type": "stream",
     "text": [
      "Browser session terminated\n",
      "Click failed for //span[@class=\"checkbox_option-value checkbox_option-value-mobile\" and text()=\"Holofoil\"]: Message: \n",
      "Stacktrace:\n",
      "0   chromedriver                        0x000000010513de82 chromedriver + 6696578\n",
      "1   chromedriver                        0x0000000105135c9a chromedriver + 6663322\n",
      "2   chromedriver                        0x0000000104b3de3e chromedriver + 405054\n",
      "3   chromedriver                        0x0000000104b8e815 chromedriver + 735253\n",
      "4   chromedriver                        0x0000000104b8ed11 chromedriver + 736529\n",
      "5   chromedriver                        0x0000000104bd9314 chromedriver + 1041172\n",
      "6   chromedriver                        0x0000000104bb389d chromedriver + 886941\n",
      "7   chromedriver                        0x0000000104bd63f4 chromedriver + 1029108\n",
      "8   chromedriver                        0x0000000104bb3613 chromedriver + 886291\n",
      "9   chromedriver                        0x0000000104b80950 chromedriver + 678224\n",
      "10  chromedriver                        0x0000000104b8134e chromedriver + 680782\n",
      "11  chromedriver                        0x000000010510b770 chromedriver + 6489968\n",
      "12  chromedriver                        0x000000010510e219 chromedriver + 6500889\n",
      "13  chromedriver                        0x000000010510dd3b chromedriver + 6499643\n",
      "14  chromedriver                        0x000000010510e6a5 chromedriver + 6502053\n",
      "15  chromedriver                        0x00000001050f6524 chromedriver + 6403364\n",
      "16  chromedriver                        0x000000010510e98f chromedriver + 6502799\n",
      "17  chromedriver                        0x00000001050e7954 chromedriver + 6342996\n",
      "18  chromedriver                        0x0000000105126378 chromedriver + 6599544\n",
      "19  chromedriver                        0x0000000105126535 chromedriver + 6599989\n",
      "20  chromedriver                        0x0000000105135868 chromedriver + 6662248\n",
      "21  libsystem_pthread.dylib             0x00007ff81275f253 _pthread_start + 99\n",
      "22  libsystem_pthread.dylib             0x00007ff81275abef thread_start + 15\n",
      "\n"
     ]
    },
    {
     "name": "stderr",
     "output_type": "stream",
     "text": [
      "Extraction successful for hsp-HGSS11:  17%|█▋        | 623/3739 [57:14<89:01:49, 102.86s/it]"
     ]
    },
    {
     "name": "stdout",
     "output_type": "stream",
     "text": [
      "Browser session terminated\n",
      "Click failed for //span[@class=\"checkbox_option-value checkbox_option-value-mobile\" and text()=\"Reverse Holofoil\"]: Message: \n",
      "Stacktrace:\n",
      "0   chromedriver                        0x00000001007a3e82 chromedriver + 6696578\n",
      "1   chromedriver                        0x000000010079bc9a chromedriver + 6663322\n",
      "2   chromedriver                        0x00000001001a3e3e chromedriver + 405054\n",
      "3   chromedriver                        0x00000001001f4815 chromedriver + 735253\n",
      "4   chromedriver                        0x00000001001f4d11 chromedriver + 736529\n",
      "5   chromedriver                        0x000000010023f314 chromedriver + 1041172\n",
      "6   chromedriver                        0x000000010021989d chromedriver + 886941\n",
      "7   chromedriver                        0x000000010023c3f4 chromedriver + 1029108\n",
      "8   chromedriver                        0x0000000100219613 chromedriver + 886291\n",
      "9   chromedriver                        0x00000001001e6950 chromedriver + 678224\n",
      "10  chromedriver                        0x00000001001e734e chromedriver + 680782\n",
      "11  chromedriver                        0x0000000100771770 chromedriver + 6489968\n",
      "12  chromedriver                        0x0000000100774219 chromedriver + 6500889\n",
      "13  chromedriver                        0x0000000100773d3b chromedriver + 6499643\n",
      "14  chromedriver                        0x00000001007746a5 chromedriver + 6502053\n",
      "15  chromedriver                        0x000000010075c524 chromedriver + 6403364\n",
      "16  chromedriver                        0x000000010077498f chromedriver + 6502799\n",
      "17  chromedriver                        0x000000010074d954 chromedriver + 6342996\n",
      "18  chromedriver                        0x000000010078c378 chromedriver + 6599544\n",
      "19  chromedriver                        0x000000010078c535 chromedriver + 6599989\n",
      "20  chromedriver                        0x000000010079b868 chromedriver + 6662248\n",
      "21  libsystem_pthread.dylib             0x00007ff81275f253 _pthread_start + 99\n",
      "22  libsystem_pthread.dylib             0x00007ff81275abef thread_start + 15\n",
      "\n"
     ]
    },
    {
     "name": "stderr",
     "output_type": "stream",
     "text": [
      "Extraction successful for ex12-22:  17%|█▋        | 624/3739 [59:12<92:46:15, 107.22s/it]   "
     ]
    },
    {
     "name": "stdout",
     "output_type": "stream",
     "text": [
      "Browser session terminated\n",
      "Click failed for //span[@class=\"checkbox_option-value checkbox_option-value-mobile\" and text()=\"Reverse Holofoil\"]: Message: \n",
      "Stacktrace:\n",
      "0   chromedriver                        0x0000000100babe82 chromedriver + 6696578\n",
      "1   chromedriver                        0x0000000100ba3c9a chromedriver + 6663322\n",
      "2   chromedriver                        0x00000001005abe3e chromedriver + 405054\n",
      "3   chromedriver                        0x00000001005fc815 chromedriver + 735253\n",
      "4   chromedriver                        0x00000001005fcd11 chromedriver + 736529\n",
      "5   chromedriver                        0x0000000100647314 chromedriver + 1041172\n",
      "6   chromedriver                        0x000000010062189d chromedriver + 886941\n",
      "7   chromedriver                        0x00000001006443f4 chromedriver + 1029108\n",
      "8   chromedriver                        0x0000000100621613 chromedriver + 886291\n",
      "9   chromedriver                        0x00000001005ee950 chromedriver + 678224\n",
      "10  chromedriver                        0x00000001005ef34e chromedriver + 680782\n",
      "11  chromedriver                        0x0000000100b79770 chromedriver + 6489968\n",
      "12  chromedriver                        0x0000000100b7c219 chromedriver + 6500889\n",
      "13  chromedriver                        0x0000000100b7bd3b chromedriver + 6499643\n",
      "14  chromedriver                        0x0000000100b7c6a5 chromedriver + 6502053\n",
      "15  chromedriver                        0x0000000100b64524 chromedriver + 6403364\n",
      "16  chromedriver                        0x0000000100b7c98f chromedriver + 6502799\n",
      "17  chromedriver                        0x0000000100b55954 chromedriver + 6342996\n",
      "18  chromedriver                        0x0000000100b94378 chromedriver + 6599544\n",
      "19  chromedriver                        0x0000000100b94535 chromedriver + 6599989\n",
      "20  chromedriver                        0x0000000100ba3868 chromedriver + 6662248\n",
      "21  libsystem_pthread.dylib             0x00007ff81275f253 _pthread_start + 99\n",
      "22  libsystem_pthread.dylib             0x00007ff81275abef thread_start + 15\n",
      "\n"
     ]
    },
    {
     "name": "stderr",
     "output_type": "stream",
     "text": [
      "Extraction successful for ex11-21:  17%|█▋        | 625/3739 [1:00:59<92:46:21, 107.25s/it]"
     ]
    },
    {
     "name": "stdout",
     "output_type": "stream",
     "text": [
      "Browser session terminated\n",
      "Selecting Reverse Holofoil\n",
      "Click failed for //span[@class=\"checkbox_option-value checkbox_option-value-mobile\" and text()=\"Reverse Holofoil\"]: Message: \n",
      "Stacktrace:\n",
      "0   chromedriver                        0x0000000100ac7e82 chromedriver + 6696578\n",
      "1   chromedriver                        0x0000000100abfc9a chromedriver + 6663322\n",
      "2   chromedriver                        0x00000001004c7e3e chromedriver + 405054\n",
      "3   chromedriver                        0x0000000100518815 chromedriver + 735253\n",
      "4   chromedriver                        0x0000000100518d11 chromedriver + 736529\n",
      "5   chromedriver                        0x0000000100563314 chromedriver + 1041172\n",
      "6   chromedriver                        0x000000010053d89d chromedriver + 886941\n",
      "7   chromedriver                        0x00000001005603f4 chromedriver + 1029108\n",
      "8   chromedriver                        0x000000010053d613 chromedriver + 886291\n",
      "9   chromedriver                        0x000000010050a950 chromedriver + 678224\n",
      "10  chromedriver                        0x000000010050b34e chromedriver + 680782\n",
      "11  chromedriver                        0x0000000100a95770 chromedriver + 6489968\n",
      "12  chromedriver                        0x0000000100a98219 chromedriver + 6500889\n",
      "13  chromedriver                        0x0000000100a97d3b chromedriver + 6499643\n",
      "14  chromedriver                        0x0000000100a986a5 chromedriver + 6502053\n",
      "15  chromedriver                        0x0000000100a80524 chromedriver + 6403364\n",
      "16  chromedriver                        0x0000000100a9898f chromedriver + 6502799\n",
      "17  chromedriver                        0x0000000100a71954 chromedriver + 6342996\n",
      "18  chromedriver                        0x0000000100ab0378 chromedriver + 6599544\n",
      "19  chromedriver                        0x0000000100ab0535 chromedriver + 6599989\n",
      "20  chromedriver                        0x0000000100abf868 chromedriver + 6662248\n",
      "21  libsystem_pthread.dylib             0x00007ff81275f253 _pthread_start + 99\n",
      "22  libsystem_pthread.dylib             0x00007ff81275abef thread_start + 15\n",
      "\n"
     ]
    },
    {
     "name": "stderr",
     "output_type": "stream",
     "text": [
      "Extraction successful for ex15-11:  17%|█▋        | 626/3739 [1:02:44<92:12:03, 106.63s/it]"
     ]
    },
    {
     "name": "stdout",
     "output_type": "stream",
     "text": [
      "Browser session terminated\n",
      "Selecting Reverse Holofoil\n",
      "Click failed for //span[@class=\"checkbox_option-value checkbox_option-value-mobile\" and text()=\"Reverse Holofoil\"]: Message: \n",
      "Stacktrace:\n",
      "0   chromedriver                        0x00000001054cee82 chromedriver + 6696578\n",
      "1   chromedriver                        0x00000001054c6c9a chromedriver + 6663322\n",
      "2   chromedriver                        0x0000000104ecee3e chromedriver + 405054\n",
      "3   chromedriver                        0x0000000104f1f815 chromedriver + 735253\n",
      "4   chromedriver                        0x0000000104f1fd11 chromedriver + 736529\n",
      "5   chromedriver                        0x0000000104f6a314 chromedriver + 1041172\n",
      "6   chromedriver                        0x0000000104f4489d chromedriver + 886941\n",
      "7   chromedriver                        0x0000000104f673f4 chromedriver + 1029108\n",
      "8   chromedriver                        0x0000000104f44613 chromedriver + 886291\n",
      "9   chromedriver                        0x0000000104f11950 chromedriver + 678224\n",
      "10  chromedriver                        0x0000000104f1234e chromedriver + 680782\n",
      "11  chromedriver                        0x000000010549c770 chromedriver + 6489968\n",
      "12  chromedriver                        0x000000010549f219 chromedriver + 6500889\n",
      "13  chromedriver                        0x000000010549ed3b chromedriver + 6499643\n",
      "14  chromedriver                        0x000000010549f6a5 chromedriver + 6502053\n",
      "15  chromedriver                        0x0000000105487524 chromedriver + 6403364\n",
      "16  chromedriver                        0x000000010549f98f chromedriver + 6502799\n",
      "17  chromedriver                        0x0000000105478954 chromedriver + 6342996\n",
      "18  chromedriver                        0x00000001054b7378 chromedriver + 6599544\n",
      "19  chromedriver                        0x00000001054b7535 chromedriver + 6599989\n",
      "20  chromedriver                        0x00000001054c6868 chromedriver + 6662248\n",
      "21  libsystem_pthread.dylib             0x00007ff81275f253 _pthread_start + 99\n",
      "22  libsystem_pthread.dylib             0x00007ff81275abef thread_start + 15\n",
      "\n"
     ]
    },
    {
     "name": "stderr",
     "output_type": "stream",
     "text": [
      "Extraction successful for dp7-11:  17%|█▋        | 627/3739 [1:04:34<92:52:50, 107.45s/it] "
     ]
    },
    {
     "name": "stdout",
     "output_type": "stream",
     "text": [
      "Browser session terminated\n",
      "Click failed for //span[@class=\"checkbox_option-value checkbox_option-value-mobile\" and text()=\"Reverse Holofoil\"]: Message: \n",
      "Stacktrace:\n",
      "0   chromedriver                        0x0000000103044e82 chromedriver + 6696578\n",
      "1   chromedriver                        0x000000010303cc9a chromedriver + 6663322\n",
      "2   chromedriver                        0x0000000102a44e3e chromedriver + 405054\n",
      "3   chromedriver                        0x0000000102a95815 chromedriver + 735253\n",
      "4   chromedriver                        0x0000000102a95d11 chromedriver + 736529\n",
      "5   chromedriver                        0x0000000102ae0314 chromedriver + 1041172\n",
      "6   chromedriver                        0x0000000102aba89d chromedriver + 886941\n",
      "7   chromedriver                        0x0000000102add3f4 chromedriver + 1029108\n",
      "8   chromedriver                        0x0000000102aba613 chromedriver + 886291\n",
      "9   chromedriver                        0x0000000102a87950 chromedriver + 678224\n",
      "10  chromedriver                        0x0000000102a8834e chromedriver + 680782\n",
      "11  chromedriver                        0x0000000103012770 chromedriver + 6489968\n",
      "12  chromedriver                        0x0000000103015219 chromedriver + 6500889\n",
      "13  chromedriver                        0x0000000103014d3b chromedriver + 6499643\n",
      "14  chromedriver                        0x00000001030156a5 chromedriver + 6502053\n",
      "15  chromedriver                        0x0000000102ffd524 chromedriver + 6403364\n",
      "16  chromedriver                        0x000000010301598f chromedriver + 6502799\n",
      "17  chromedriver                        0x0000000102fee954 chromedriver + 6342996\n",
      "18  chromedriver                        0x000000010302d378 chromedriver + 6599544\n",
      "19  chromedriver                        0x000000010302d535 chromedriver + 6599989\n",
      "20  chromedriver                        0x000000010303c868 chromedriver + 6662248\n",
      "21  libsystem_pthread.dylib             0x00007ff81275f253 _pthread_start + 99\n",
      "22  libsystem_pthread.dylib             0x00007ff81275abef thread_start + 15\n",
      "\n"
     ]
    },
    {
     "name": "stderr",
     "output_type": "stream",
     "text": [
      "Extraction successful for ex7-20:  17%|█▋        | 628/3739 [1:06:23<93:22:49, 108.06s/it]"
     ]
    },
    {
     "name": "stdout",
     "output_type": "stream",
     "text": [
      "Browser session terminated\n",
      "Click failed for //span[@class=\"checkbox_option-value checkbox_option-value-mobile\" and text()=\"Holofoil\"]: Message: \n",
      "Stacktrace:\n",
      "0   chromedriver                        0x0000000100892e82 chromedriver + 6696578\n",
      "1   chromedriver                        0x000000010088ac9a chromedriver + 6663322\n",
      "2   chromedriver                        0x0000000100292e3e chromedriver + 405054\n",
      "3   chromedriver                        0x00000001002e3815 chromedriver + 735253\n",
      "4   chromedriver                        0x00000001002e3d11 chromedriver + 736529\n",
      "5   chromedriver                        0x000000010032e314 chromedriver + 1041172\n",
      "6   chromedriver                        0x000000010030889d chromedriver + 886941\n",
      "7   chromedriver                        0x000000010032b3f4 chromedriver + 1029108\n",
      "8   chromedriver                        0x0000000100308613 chromedriver + 886291\n",
      "9   chromedriver                        0x00000001002d5950 chromedriver + 678224\n",
      "10  chromedriver                        0x00000001002d634e chromedriver + 680782\n",
      "11  chromedriver                        0x0000000100860770 chromedriver + 6489968\n",
      "12  chromedriver                        0x0000000100863219 chromedriver + 6500889\n",
      "13  chromedriver                        0x0000000100862d3b chromedriver + 6499643\n",
      "14  chromedriver                        0x00000001008636a5 chromedriver + 6502053\n",
      "15  chromedriver                        0x000000010084b524 chromedriver + 6403364\n",
      "16  chromedriver                        0x000000010086398f chromedriver + 6502799\n",
      "17  chromedriver                        0x000000010083c954 chromedriver + 6342996\n",
      "18  chromedriver                        0x000000010087b378 chromedriver + 6599544\n",
      "19  chromedriver                        0x000000010087b535 chromedriver + 6599989\n",
      "20  chromedriver                        0x000000010088a868 chromedriver + 6662248\n",
      "21  libsystem_pthread.dylib             0x00007ff81275f253 _pthread_start + 99\n",
      "22  libsystem_pthread.dylib             0x00007ff81275abef thread_start + 15\n",
      "\n"
     ]
    },
    {
     "name": "stderr",
     "output_type": "stream",
     "text": [
      "Extraction successful for g1-10:  17%|█▋        | 629/3739 [1:08:26<97:07:00, 112.42s/it] "
     ]
    },
    {
     "name": "stdout",
     "output_type": "stream",
     "text": [
      "Browser session terminated\n",
      "Selecting Normal (Holofoil)\n",
      "Click failed for //span[@class=\"checkbox_option-value checkbox_option-value-mobile\" and text()=\"Holofoil\"]: Message: \n",
      "Stacktrace:\n",
      "0   chromedriver                        0x0000000102eb0e82 chromedriver + 6696578\n",
      "1   chromedriver                        0x0000000102ea8c9a chromedriver + 6663322\n",
      "2   chromedriver                        0x00000001028b0e3e chromedriver + 405054\n",
      "3   chromedriver                        0x0000000102901815 chromedriver + 735253\n",
      "4   chromedriver                        0x0000000102901d11 chromedriver + 736529\n",
      "5   chromedriver                        0x000000010294c314 chromedriver + 1041172\n",
      "6   chromedriver                        0x000000010292689d chromedriver + 886941\n",
      "7   chromedriver                        0x00000001029493f4 chromedriver + 1029108\n",
      "8   chromedriver                        0x0000000102926613 chromedriver + 886291\n",
      "9   chromedriver                        0x00000001028f3950 chromedriver + 678224\n",
      "10  chromedriver                        0x00000001028f434e chromedriver + 680782\n",
      "11  chromedriver                        0x0000000102e7e770 chromedriver + 6489968\n",
      "12  chromedriver                        0x0000000102e81219 chromedriver + 6500889\n",
      "13  chromedriver                        0x0000000102e80d3b chromedriver + 6499643\n",
      "14  chromedriver                        0x0000000102e816a5 chromedriver + 6502053\n",
      "15  chromedriver                        0x0000000102e69524 chromedriver + 6403364\n",
      "16  chromedriver                        0x0000000102e8198f chromedriver + 6502799\n",
      "17  chromedriver                        0x0000000102e5a954 chromedriver + 6342996\n",
      "18  chromedriver                        0x0000000102e99378 chromedriver + 6599544\n",
      "19  chromedriver                        0x0000000102e99535 chromedriver + 6599989\n",
      "20  chromedriver                        0x0000000102ea8868 chromedriver + 6662248\n",
      "21  libsystem_pthread.dylib             0x00007ff81275f253 _pthread_start + 99\n",
      "22  libsystem_pthread.dylib             0x00007ff81275abef thread_start + 15\n",
      "\n"
     ]
    },
    {
     "name": "stderr",
     "output_type": "stream",
     "text": [
      "Extraction successful for dp6-11:  17%|█▋        | 630/3739 [1:10:17<96:50:11, 112.13s/it]"
     ]
    },
    {
     "name": "stdout",
     "output_type": "stream",
     "text": [
      "Browser session terminated\n",
      "Selecting Reverse Holofoil\n",
      "Click failed for //span[@class=\"checkbox_option-value checkbox_option-value-mobile\" and text()=\"Reverse Holofoil\"]: Message: \n",
      "Stacktrace:\n",
      "0   chromedriver                        0x0000000101397e82 chromedriver + 6696578\n",
      "1   chromedriver                        0x000000010138fc9a chromedriver + 6663322\n",
      "2   chromedriver                        0x0000000100d97e3e chromedriver + 405054\n",
      "3   chromedriver                        0x0000000100de8815 chromedriver + 735253\n",
      "4   chromedriver                        0x0000000100de8d11 chromedriver + 736529\n",
      "5   chromedriver                        0x0000000100e33314 chromedriver + 1041172\n",
      "6   chromedriver                        0x0000000100e0d89d chromedriver + 886941\n",
      "7   chromedriver                        0x0000000100e303f4 chromedriver + 1029108\n",
      "8   chromedriver                        0x0000000100e0d613 chromedriver + 886291\n",
      "9   chromedriver                        0x0000000100dda950 chromedriver + 678224\n",
      "10  chromedriver                        0x0000000100ddb34e chromedriver + 680782\n",
      "11  chromedriver                        0x0000000101365770 chromedriver + 6489968\n",
      "12  chromedriver                        0x0000000101368219 chromedriver + 6500889\n",
      "13  chromedriver                        0x0000000101367d3b chromedriver + 6499643\n",
      "14  chromedriver                        0x00000001013686a5 chromedriver + 6502053\n",
      "15  chromedriver                        0x0000000101350524 chromedriver + 6403364\n",
      "16  chromedriver                        0x000000010136898f chromedriver + 6502799\n",
      "17  chromedriver                        0x0000000101341954 chromedriver + 6342996\n",
      "18  chromedriver                        0x0000000101380378 chromedriver + 6599544\n",
      "19  chromedriver                        0x0000000101380535 chromedriver + 6599989\n",
      "20  chromedriver                        0x000000010138f868 chromedriver + 6662248\n",
      "21  libsystem_pthread.dylib             0x00007ff81275f253 _pthread_start + 99\n",
      "22  libsystem_pthread.dylib             0x00007ff81275abef thread_start + 15\n",
      "\n"
     ]
    },
    {
     "name": "stderr",
     "output_type": "stream",
     "text": [
      "Extraction successful for ex5-14:  17%|█▋        | 631/3739 [1:12:05<95:39:40, 110.80s/it]"
     ]
    },
    {
     "name": "stdout",
     "output_type": "stream",
     "text": [
      "Browser session terminated\n",
      "Selecting Normal (Holofoil)\n",
      "Click failed for //span[@class=\"checkbox_option-value checkbox_option-value-mobile\" and text()=\"Holofoil\"]: Message: \n",
      "Stacktrace:\n",
      "0   chromedriver                        0x000000010305de82 chromedriver + 6696578\n",
      "1   chromedriver                        0x0000000103055c9a chromedriver + 6663322\n",
      "2   chromedriver                        0x0000000102a5de3e chromedriver + 405054\n",
      "3   chromedriver                        0x0000000102aae815 chromedriver + 735253\n",
      "4   chromedriver                        0x0000000102aaed11 chromedriver + 736529\n",
      "5   chromedriver                        0x0000000102af9314 chromedriver + 1041172\n",
      "6   chromedriver                        0x0000000102ad389d chromedriver + 886941\n",
      "7   chromedriver                        0x0000000102af63f4 chromedriver + 1029108\n",
      "8   chromedriver                        0x0000000102ad3613 chromedriver + 886291\n",
      "9   chromedriver                        0x0000000102aa0950 chromedriver + 678224\n",
      "10  chromedriver                        0x0000000102aa134e chromedriver + 680782\n",
      "11  chromedriver                        0x000000010302b770 chromedriver + 6489968\n",
      "12  chromedriver                        0x000000010302e219 chromedriver + 6500889\n",
      "13  chromedriver                        0x000000010302dd3b chromedriver + 6499643\n",
      "14  chromedriver                        0x000000010302e6a5 chromedriver + 6502053\n",
      "15  chromedriver                        0x0000000103016524 chromedriver + 6403364\n",
      "16  chromedriver                        0x000000010302e98f chromedriver + 6502799\n",
      "17  chromedriver                        0x0000000103007954 chromedriver + 6342996\n",
      "18  chromedriver                        0x0000000103046378 chromedriver + 6599544\n",
      "19  chromedriver                        0x0000000103046535 chromedriver + 6599989\n",
      "20  chromedriver                        0x0000000103055868 chromedriver + 6662248\n",
      "21  libsystem_pthread.dylib             0x00007ff81275f253 _pthread_start + 99\n",
      "22  libsystem_pthread.dylib             0x00007ff81275abef thread_start + 15\n",
      "\n"
     ]
    },
    {
     "name": "stderr",
     "output_type": "stream",
     "text": [
      "Extraction successful for ex1-14:  17%|█▋        | 632/3739 [1:13:59<96:24:09, 111.70s/it]"
     ]
    },
    {
     "name": "stdout",
     "output_type": "stream",
     "text": [
      "Browser session terminated\n",
      "Click failed for //span[@class=\"checkbox_option-value checkbox_option-value-mobile\" and text()=\"Holofoil\"]: Message: \n",
      "Stacktrace:\n",
      "0   chromedriver                        0x00000001046a2e82 chromedriver + 6696578\n",
      "1   chromedriver                        0x000000010469ac9a chromedriver + 6663322\n",
      "2   chromedriver                        0x00000001040a2e3e chromedriver + 405054\n",
      "3   chromedriver                        0x00000001040f3815 chromedriver + 735253\n",
      "4   chromedriver                        0x00000001040f3d11 chromedriver + 736529\n",
      "5   chromedriver                        0x000000010413e314 chromedriver + 1041172\n",
      "6   chromedriver                        0x000000010411889d chromedriver + 886941\n",
      "7   chromedriver                        0x000000010413b3f4 chromedriver + 1029108\n",
      "8   chromedriver                        0x0000000104118613 chromedriver + 886291\n",
      "9   chromedriver                        0x00000001040e5950 chromedriver + 678224\n",
      "10  chromedriver                        0x00000001040e634e chromedriver + 680782\n",
      "11  chromedriver                        0x0000000104670770 chromedriver + 6489968\n",
      "12  chromedriver                        0x0000000104673219 chromedriver + 6500889\n",
      "13  chromedriver                        0x0000000104672d3b chromedriver + 6499643\n",
      "14  chromedriver                        0x00000001046736a5 chromedriver + 6502053\n",
      "15  chromedriver                        0x000000010465b524 chromedriver + 6403364\n",
      "16  chromedriver                        0x000000010467398f chromedriver + 6502799\n",
      "17  chromedriver                        0x000000010464c954 chromedriver + 6342996\n",
      "18  chromedriver                        0x000000010468b378 chromedriver + 6599544\n",
      "19  chromedriver                        0x000000010468b535 chromedriver + 6599989\n",
      "20  chromedriver                        0x000000010469a868 chromedriver + 6662248\n",
      "21  libsystem_pthread.dylib             0x00007ff81275f253 _pthread_start + 99\n",
      "22  libsystem_pthread.dylib             0x00007ff81275abef thread_start + 15\n",
      "\n"
     ]
    },
    {
     "name": "stderr",
     "output_type": "stream",
     "text": [
      "Extraction successful for g1-11:  17%|█▋        | 633/3739 [1:15:49<95:57:46, 111.23s/it] "
     ]
    },
    {
     "name": "stdout",
     "output_type": "stream",
     "text": [
      "Browser session terminated\n",
      "Selecting Normal (Holofoil)\n",
      "Click failed for //span[@class=\"checkbox_option-value checkbox_option-value-mobile\" and text()=\"Holofoil\"]: Message: \n",
      "Stacktrace:\n",
      "0   chromedriver                        0x0000000104d05e82 chromedriver + 6696578\n",
      "1   chromedriver                        0x0000000104cfdc9a chromedriver + 6663322\n",
      "2   chromedriver                        0x0000000104705e3e chromedriver + 405054\n",
      "3   chromedriver                        0x0000000104756815 chromedriver + 735253\n",
      "4   chromedriver                        0x0000000104756d11 chromedriver + 736529\n",
      "5   chromedriver                        0x00000001047a1314 chromedriver + 1041172\n",
      "6   chromedriver                        0x000000010477b89d chromedriver + 886941\n",
      "7   chromedriver                        0x000000010479e3f4 chromedriver + 1029108\n",
      "8   chromedriver                        0x000000010477b613 chromedriver + 886291\n",
      "9   chromedriver                        0x0000000104748950 chromedriver + 678224\n",
      "10  chromedriver                        0x000000010474934e chromedriver + 680782\n",
      "11  chromedriver                        0x0000000104cd3770 chromedriver + 6489968\n",
      "12  chromedriver                        0x0000000104cd6219 chromedriver + 6500889\n",
      "13  chromedriver                        0x0000000104cd5d3b chromedriver + 6499643\n",
      "14  chromedriver                        0x0000000104cd66a5 chromedriver + 6502053\n",
      "15  chromedriver                        0x0000000104cbe524 chromedriver + 6403364\n",
      "16  chromedriver                        0x0000000104cd698f chromedriver + 6502799\n",
      "17  chromedriver                        0x0000000104caf954 chromedriver + 6342996\n",
      "18  chromedriver                        0x0000000104cee378 chromedriver + 6599544\n",
      "19  chromedriver                        0x0000000104cee535 chromedriver + 6599989\n",
      "20  chromedriver                        0x0000000104cfd868 chromedriver + 6662248\n",
      "21  libsystem_pthread.dylib             0x00007ff81275f253 _pthread_start + 99\n",
      "22  libsystem_pthread.dylib             0x00007ff81275abef thread_start + 15\n",
      "\n"
     ]
    },
    {
     "name": "stderr",
     "output_type": "stream",
     "text": [
      "Extraction successful for ecard1-12:  17%|█▋        | 634/3739 [1:17:34<94:19:56, 109.37s/it]"
     ]
    },
    {
     "name": "stdout",
     "output_type": "stream",
     "text": [
      "Browser session terminated\n",
      "Selecting Reverse Holofoil\n",
      "Click failed for //span[@class=\"checkbox_option-value checkbox_option-value-mobile\" and text()=\"Reverse Holofoil\"]: Message: \n",
      "Stacktrace:\n",
      "0   chromedriver                        0x0000000104a88e82 chromedriver + 6696578\n",
      "1   chromedriver                        0x0000000104a80c9a chromedriver + 6663322\n",
      "2   chromedriver                        0x0000000104488e3e chromedriver + 405054\n",
      "3   chromedriver                        0x00000001044d9815 chromedriver + 735253\n",
      "4   chromedriver                        0x00000001044d9d11 chromedriver + 736529\n",
      "5   chromedriver                        0x0000000104524314 chromedriver + 1041172\n",
      "6   chromedriver                        0x00000001044fe89d chromedriver + 886941\n",
      "7   chromedriver                        0x00000001045213f4 chromedriver + 1029108\n",
      "8   chromedriver                        0x00000001044fe613 chromedriver + 886291\n",
      "9   chromedriver                        0x00000001044cb950 chromedriver + 678224\n",
      "10  chromedriver                        0x00000001044cc34e chromedriver + 680782\n",
      "11  chromedriver                        0x0000000104a56770 chromedriver + 6489968\n",
      "12  chromedriver                        0x0000000104a59219 chromedriver + 6500889\n",
      "13  chromedriver                        0x0000000104a58d3b chromedriver + 6499643\n",
      "14  chromedriver                        0x0000000104a596a5 chromedriver + 6502053\n",
      "15  chromedriver                        0x0000000104a41524 chromedriver + 6403364\n",
      "16  chromedriver                        0x0000000104a5998f chromedriver + 6502799\n",
      "17  chromedriver                        0x0000000104a32954 chromedriver + 6342996\n",
      "18  chromedriver                        0x0000000104a71378 chromedriver + 6599544\n",
      "19  chromedriver                        0x0000000104a71535 chromedriver + 6599989\n",
      "20  chromedriver                        0x0000000104a80868 chromedriver + 6662248\n",
      "21  libsystem_pthread.dylib             0x00007ff81275f253 _pthread_start + 99\n",
      "22  libsystem_pthread.dylib             0x00007ff81275abef thread_start + 15\n",
      "\n"
     ]
    },
    {
     "name": "stderr",
     "output_type": "stream",
     "text": [
      "Extraction successful for ex16-11:  17%|█▋        | 635/3739 [1:19:24<94:37:09, 109.74s/it]  "
     ]
    },
    {
     "name": "stdout",
     "output_type": "stream",
     "text": [
      "Browser session terminated\n",
      "Selecting Reverse Holofoil\n",
      "Click failed for //span[@class=\"checkbox_option-value checkbox_option-value-mobile\" and text()=\"Reverse Holofoil\"]: Message: \n",
      "Stacktrace:\n",
      "0   chromedriver                        0x0000000102ee3e82 chromedriver + 6696578\n",
      "1   chromedriver                        0x0000000102edbc9a chromedriver + 6663322\n",
      "2   chromedriver                        0x00000001028e3e3e chromedriver + 405054\n",
      "3   chromedriver                        0x0000000102934815 chromedriver + 735253\n",
      "4   chromedriver                        0x0000000102934d11 chromedriver + 736529\n",
      "5   chromedriver                        0x000000010297f314 chromedriver + 1041172\n",
      "6   chromedriver                        0x000000010295989d chromedriver + 886941\n",
      "7   chromedriver                        0x000000010297c3f4 chromedriver + 1029108\n",
      "8   chromedriver                        0x0000000102959613 chromedriver + 886291\n",
      "9   chromedriver                        0x0000000102926950 chromedriver + 678224\n",
      "10  chromedriver                        0x000000010292734e chromedriver + 680782\n",
      "11  chromedriver                        0x0000000102eb1770 chromedriver + 6489968\n",
      "12  chromedriver                        0x0000000102eb4219 chromedriver + 6500889\n",
      "13  chromedriver                        0x0000000102eb3d3b chromedriver + 6499643\n",
      "14  chromedriver                        0x0000000102eb46a5 chromedriver + 6502053\n",
      "15  chromedriver                        0x0000000102e9c524 chromedriver + 6403364\n",
      "16  chromedriver                        0x0000000102eb498f chromedriver + 6502799\n",
      "17  chromedriver                        0x0000000102e8d954 chromedriver + 6342996\n",
      "18  chromedriver                        0x0000000102ecc378 chromedriver + 6599544\n",
      "19  chromedriver                        0x0000000102ecc535 chromedriver + 6599989\n",
      "20  chromedriver                        0x0000000102edb868 chromedriver + 6662248\n",
      "21  libsystem_pthread.dylib             0x00007ff81275f253 _pthread_start + 99\n",
      "22  libsystem_pthread.dylib             0x00007ff81275abef thread_start + 15\n",
      "\n"
     ]
    },
    {
     "name": "stderr",
     "output_type": "stream",
     "text": [
      "Extraction successful for col1-21:  17%|█▋        | 636/3739 [1:21:22<96:30:57, 111.97s/it]"
     ]
    },
    {
     "name": "stdout",
     "output_type": "stream",
     "text": [
      "Browser session terminated\n",
      "Browser session terminated\n"
     ]
    },
    {
     "ename": "KeyboardInterrupt",
     "evalue": "",
     "output_type": "error",
     "traceback": [
      "\u001b[0;31m---------------------------------------------------------------------------\u001b[0m",
      "\u001b[0;31mKeyboardInterrupt\u001b[0m                         Traceback (most recent call last)",
      "Cell \u001b[0;32mIn[4], line 1\u001b[0m\n\u001b[0;32m----> 1\u001b[0m \u001b[43msequential_price_extraction\u001b[49m\u001b[43m(\u001b[49m\u001b[43mdf\u001b[49m\u001b[43m)\u001b[49m\n",
      "File \u001b[0;32m~/GitProjects/Portfolio_Pokemon_Card/GetHistoricCardPrices.py:376\u001b[0m, in \u001b[0;36msequential_price_extraction\u001b[0;34m(cards_df, output_dir)\u001b[0m\n\u001b[1;32m    372\u001b[0m     \u001b[38;5;28;01mcontinue\u001b[39;00m\n\u001b[1;32m    375\u001b[0m \u001b[38;5;28;01mtry\u001b[39;00m:\n\u001b[0;32m--> 376\u001b[0m     html_content \u001b[38;5;241m=\u001b[39m \u001b[43mget_html_content\u001b[49m\u001b[43m(\u001b[49m\n\u001b[1;32m    377\u001b[0m \u001b[43m        \u001b[49m\u001b[38;5;124;43mf\u001b[39;49m\u001b[38;5;124;43m\"\u001b[39;49m\u001b[38;5;124;43mhttps://prices.pokemontcg.io/tcgplayer/\u001b[39;49m\u001b[38;5;132;43;01m{\u001b[39;49;00m\u001b[43mcard_id\u001b[49m\u001b[38;5;132;43;01m}\u001b[39;49;00m\u001b[38;5;124;43m\"\u001b[39;49m\u001b[43m,\u001b[49m\n\u001b[1;32m    378\u001b[0m \u001b[43m        \u001b[49m\u001b[43mprice_holofoil\u001b[49m\u001b[43m,\u001b[49m\n\u001b[1;32m    379\u001b[0m \u001b[43m        \u001b[49m\u001b[43mprice_reverse_holofoil\u001b[49m\n\u001b[1;32m    380\u001b[0m \u001b[43m    \u001b[49m\u001b[43m)\u001b[49m\n\u001b[1;32m    381\u001b[0m     price_history \u001b[38;5;241m=\u001b[39m extract_price_history(html_content)\n\u001b[1;32m    383\u001b[0m     \u001b[38;5;28;01mif\u001b[39;00m price_history \u001b[38;5;129;01mis\u001b[39;00m \u001b[38;5;129;01mnot\u001b[39;00m \u001b[38;5;28;01mNone\u001b[39;00m:\n\u001b[1;32m    384\u001b[0m         \u001b[38;5;66;03m# Calculate total sales\u001b[39;00m\n",
      "File \u001b[0;32m~/GitProjects/Portfolio_Pokemon_Card/GetHistoricCardPrices.py:212\u001b[0m, in \u001b[0;36mget_html_content\u001b[0;34m(website, holofoil_price, reverse_holofoil_price)\u001b[0m\n\u001b[1;32m    208\u001b[0m     test_button_click(driver, wait, \n\u001b[1;32m    209\u001b[0m         holo_selector, By\u001b[38;5;241m.\u001b[39mXPATH)\n\u001b[1;32m    210\u001b[0m \u001b[38;5;28;01melif\u001b[39;00m reverse_valid:\n\u001b[1;32m    211\u001b[0m     \u001b[38;5;66;03m# If the reverse holofoil price is valid\u001b[39;00m\n\u001b[0;32m--> 212\u001b[0m     \u001b[43mtest_button_click\u001b[49m\u001b[43m(\u001b[49m\u001b[43mdriver\u001b[49m\u001b[43m,\u001b[49m\u001b[43m \u001b[49m\u001b[43mwait\u001b[49m\u001b[43m,\u001b[49m\u001b[43m \u001b[49m\n\u001b[1;32m    213\u001b[0m \u001b[43m        \u001b[49m\u001b[43mreverse_holo_selector\u001b[49m\u001b[43m,\u001b[49m\u001b[43m \u001b[49m\u001b[43mBy\u001b[49m\u001b[38;5;241;43m.\u001b[39;49m\u001b[43mXPATH\u001b[49m\u001b[43m)\u001b[49m\n\u001b[1;32m    214\u001b[0m \u001b[38;5;28;01melse\u001b[39;00m:\n\u001b[1;32m    215\u001b[0m     \u001b[38;5;66;03m# No valid prices\u001b[39;00m\n\u001b[1;32m    216\u001b[0m     \u001b[38;5;28mprint\u001b[39m(\u001b[38;5;124m\"\u001b[39m\u001b[38;5;124mNo valid prices found\u001b[39m\u001b[38;5;124m\"\u001b[39m)\n",
      "File \u001b[0;32m~/GitProjects/Portfolio_Pokemon_Card/GetHistoricCardPrices.py:70\u001b[0m, in \u001b[0;36mtest_button_click\u001b[0;34m(driver, wait, selector, by)\u001b[0m\n\u001b[1;32m     50\u001b[0m \u001b[38;5;250m\u001b[39m\u001b[38;5;124;03m\"\"\"\u001b[39;00m\n\u001b[1;32m     51\u001b[0m \u001b[38;5;124;03mAttempts to click on a web element using JavaScript after ensuring it's present and centered.\u001b[39;00m\n\u001b[1;32m     52\u001b[0m \u001b[38;5;124;03m\u001b[39;00m\n\u001b[0;32m   (...)\u001b[0m\n\u001b[1;32m     66\u001b[0m \u001b[38;5;124;03m    - Error handling with detailed feedback\u001b[39;00m\n\u001b[1;32m     67\u001b[0m \u001b[38;5;124;03m\"\"\"\u001b[39;00m\n\u001b[1;32m     68\u001b[0m \u001b[38;5;28;01mtry\u001b[39;00m:\n\u001b[1;32m     69\u001b[0m     \u001b[38;5;66;03m# Wait for element to be present in DOM\u001b[39;00m\n\u001b[0;32m---> 70\u001b[0m     element \u001b[38;5;241m=\u001b[39m \u001b[43mwait\u001b[49m\u001b[38;5;241;43m.\u001b[39;49m\u001b[43muntil\u001b[49m\u001b[43m(\u001b[49m\u001b[43mEC\u001b[49m\u001b[38;5;241;43m.\u001b[39;49m\u001b[43mpresence_of_element_located\u001b[49m\u001b[43m(\u001b[49m\u001b[43m(\u001b[49m\u001b[43mby\u001b[49m\u001b[43m,\u001b[49m\u001b[43m \u001b[49m\u001b[43mselector\u001b[49m\u001b[43m)\u001b[49m\u001b[43m)\u001b[49m\u001b[43m)\u001b[49m\n\u001b[1;32m     72\u001b[0m     \u001b[38;5;66;03m# Center element in viewport using smooth scrolling\u001b[39;00m\n\u001b[1;32m     73\u001b[0m     driver\u001b[38;5;241m.\u001b[39mexecute_script(\u001b[38;5;124m\"\"\"\u001b[39m\n\u001b[1;32m     74\u001b[0m \u001b[38;5;124m        arguments[0].scrollIntoView(\u001b[39m\u001b[38;5;124m{\u001b[39m\n\u001b[1;32m     75\u001b[0m \u001b[38;5;124m            behavior: \u001b[39m\u001b[38;5;124m'\u001b[39m\u001b[38;5;124minstant\u001b[39m\u001b[38;5;124m'\u001b[39m\u001b[38;5;124m,\u001b[39m\n\u001b[0;32m   (...)\u001b[0m\n\u001b[1;32m     78\u001b[0m \u001b[38;5;124m        });\u001b[39m\n\u001b[1;32m     79\u001b[0m \u001b[38;5;124m    \u001b[39m\u001b[38;5;124m\"\"\"\u001b[39m, element)\n",
      "File \u001b[0;32m~/opt/anaconda3/envs/pokemon_card/lib/python3.9/site-packages/selenium/webdriver/support/wait.py:104\u001b[0m, in \u001b[0;36mWebDriverWait.until\u001b[0;34m(self, method, message)\u001b[0m\n\u001b[1;32m    102\u001b[0m     \u001b[38;5;28;01mif\u001b[39;00m time\u001b[38;5;241m.\u001b[39mmonotonic() \u001b[38;5;241m>\u001b[39m end_time:\n\u001b[1;32m    103\u001b[0m         \u001b[38;5;28;01mbreak\u001b[39;00m\n\u001b[0;32m--> 104\u001b[0m     \u001b[43mtime\u001b[49m\u001b[38;5;241;43m.\u001b[39;49m\u001b[43msleep\u001b[49m\u001b[43m(\u001b[49m\u001b[38;5;28;43mself\u001b[39;49m\u001b[38;5;241;43m.\u001b[39;49m\u001b[43m_poll\u001b[49m\u001b[43m)\u001b[49m\n\u001b[1;32m    105\u001b[0m \u001b[38;5;28;01mraise\u001b[39;00m TimeoutException(message, screen, stacktrace)\n",
      "\u001b[0;31mKeyboardInterrupt\u001b[0m: "
     ]
    }
   ],
   "source": [
    "sequential_price_extraction(df)"
   ]
  },
  {
   "cell_type": "code",
   "execution_count": null,
   "metadata": {},
   "outputs": [],
   "source": []
  },
  {
   "cell_type": "code",
   "execution_count": null,
   "metadata": {},
   "outputs": [],
   "source": []
  },
  {
   "cell_type": "code",
   "execution_count": null,
   "metadata": {},
   "outputs": [],
   "source": []
  }
 ],
 "metadata": {
  "kernelspec": {
   "display_name": "pokemon_card",
   "language": "python",
   "name": "python3"
  },
  "language_info": {
   "codemirror_mode": {
    "name": "ipython",
    "version": 3
   },
   "file_extension": ".py",
   "mimetype": "text/x-python",
   "name": "python",
   "nbconvert_exporter": "python",
   "pygments_lexer": "ipython3",
   "version": "3.9.20"
  }
 },
 "nbformat": 4,
 "nbformat_minor": 2
}
