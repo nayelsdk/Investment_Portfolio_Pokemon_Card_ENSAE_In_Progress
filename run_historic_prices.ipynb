{
 "cells": [
  {
   "cell_type": "code",
   "execution_count": 1,
   "metadata": {},
   "outputs": [
    {
     "name": "stdout",
     "output_type": "stream",
     "text": [
      "Intel MKL WARNING: Support of Intel(R) Streaming SIMD Extensions 4.2 (Intel(R) SSE4.2) enabled only processors has been deprecated. Intel oneAPI Math Kernel Library 2025.0 will require Intel(R) Advanced Vector Extensions (Intel(R) AVX) instructions.\n",
      "Intel MKL WARNING: Support of Intel(R) Streaming SIMD Extensions 4.2 (Intel(R) SSE4.2) enabled only processors has been deprecated. Intel oneAPI Math Kernel Library 2025.0 will require Intel(R) Advanced Vector Extensions (Intel(R) AVX) instructions.\n"
     ]
    }
   ],
   "source": [
    "from PokemonCardManager import *\n",
    "from GetHistoricCardPrices import save_historic_prices"
   ]
  },
  {
   "cell_type": "code",
   "execution_count": 2,
   "metadata": {},
   "outputs": [],
   "source": [
    "df=pd.read_csv('pokemon_cards.csv')"
   ]
  },
  {
   "cell_type": "code",
   "execution_count": 3,
   "metadata": {},
   "outputs": [
    {
     "name": "stderr",
     "output_type": "stream",
     "text": [
      "Price Extraction:  22%|██▏       | 824/3739 [15:03<4:35:15,  5.67s/it, Processing dpp-DP28]           "
     ]
    },
    {
     "name": "stdout",
     "output_type": "stream",
     "text": [
      "Click failed for //label[span[text()=\"Near Mint\"]]: Message: \n",
      "Stacktrace:\n",
      "0   chromedriver                        0x0000000104731e12 chromedriver + 6696466\n",
      "1   chromedriver                        0x0000000104729c2a chromedriver + 6663210\n",
      "2   chromedriver                        0x0000000104131e3e chromedriver + 405054\n",
      "3   chromedriver                        0x0000000104182815 chromedriver + 735253\n",
      "4   chromedriver                        0x0000000104182d11 chromedriver + 736529\n",
      "5   chromedriver                        0x00000001041cd314 chromedriver + 1041172\n",
      "6   chromedriver                        0x00000001041a789d chromedriver + 886941\n",
      "7   chromedriver                        0x00000001041ca3f4 chromedriver + 1029108\n",
      "8   chromedriver                        0x00000001041a7613 chromedriver + 886291\n",
      "9   chromedriver                        0x0000000104174950 chromedriver + 678224\n",
      "10  chromedriver                        0x000000010417534e chromedriver + 680782\n",
      "11  chromedriver                        0x00000001046ff700 chromedriver + 6489856\n",
      "12  chromedriver                        0x00000001047021a9 chromedriver + 6500777\n",
      "13  chromedriver                        0x0000000104701ccb chromedriver + 6499531\n",
      "14  chromedriver                        0x0000000104702635 chromedriver + 6501941\n",
      "15  chromedriver                        0x00000001046ea4b4 chromedriver + 6403252\n",
      "16  chromedriver                        0x000000010470291f chromedriver + 6502687\n",
      "17  chromedriver                        0x00000001046db8e4 chromedriver + 6342884\n",
      "18  chromedriver                        0x000000010471a308 chromedriver + 6599432\n",
      "19  chromedriver                        0x000000010471a4c5 chromedriver + 6599877\n",
      "20  chromedriver                        0x00000001047297f8 chromedriver + 6662136\n",
      "21  libsystem_pthread.dylib             0x00007ff80b5b7253 _pthread_start + 99\n",
      "22  libsystem_pthread.dylib             0x00007ff80b5b2bef thread_start + 15\n",
      "\n",
      "Click failed for selector: //label[span[text()=\"Near Mint\"]]\n"
     ]
    },
    {
     "name": "stderr",
     "output_type": "stream",
     "text": [
      "Price Extraction:  50%|████▉     | 1865/3739 [32:41<1:37:33,  3.12s/it, Processing pl4-SH10]           "
     ]
    },
    {
     "name": "stdout",
     "output_type": "stream",
     "text": [
      "Click failed for //label[span[text()=\"Near Mint\"]]: Message: \n",
      "Stacktrace:\n",
      "0   chromedriver                        0x00000001046e1e12 chromedriver + 6696466\n",
      "1   chromedriver                        0x00000001046d9c2a chromedriver + 6663210\n",
      "2   chromedriver                        0x00000001040e1e3e chromedriver + 405054\n",
      "3   chromedriver                        0x0000000104132815 chromedriver + 735253\n",
      "4   chromedriver                        0x0000000104132d11 chromedriver + 736529\n",
      "5   chromedriver                        0x000000010417d314 chromedriver + 1041172\n",
      "6   chromedriver                        0x000000010415789d chromedriver + 886941\n",
      "7   chromedriver                        0x000000010417a3f4 chromedriver + 1029108\n",
      "8   chromedriver                        0x0000000104157613 chromedriver + 886291\n",
      "9   chromedriver                        0x0000000104124950 chromedriver + 678224\n",
      "10  chromedriver                        0x000000010412534e chromedriver + 680782\n",
      "11  chromedriver                        0x00000001046af700 chromedriver + 6489856\n",
      "12  chromedriver                        0x00000001046b21a9 chromedriver + 6500777\n",
      "13  chromedriver                        0x00000001046b1ccb chromedriver + 6499531\n",
      "14  chromedriver                        0x00000001046b2635 chromedriver + 6501941\n",
      "15  chromedriver                        0x000000010469a4b4 chromedriver + 6403252\n",
      "16  chromedriver                        0x00000001046b291f chromedriver + 6502687\n",
      "17  chromedriver                        0x000000010468b8e4 chromedriver + 6342884\n",
      "18  chromedriver                        0x00000001046ca308 chromedriver + 6599432\n",
      "19  chromedriver                        0x00000001046ca4c5 chromedriver + 6599877\n",
      "20  chromedriver                        0x00000001046d97f8 chromedriver + 6662136\n",
      "21  libsystem_pthread.dylib             0x00007ff80b5b7253 _pthread_start + 99\n",
      "22  libsystem_pthread.dylib             0x00007ff80b5b2bef thread_start + 15\n",
      "\n",
      "Click failed for selector: //label[span[text()=\"Near Mint\"]]\n"
     ]
    },
    {
     "name": "stderr",
     "output_type": "stream",
     "text": [
      "Price Extraction:  51%|█████     | 1907/3739 [37:30<2:26:46,  4.81s/it, Processing ex4-96]         "
     ]
    },
    {
     "name": "stdout",
     "output_type": "stream",
     "text": [
      "Click failed for //label[span[text()=\"Near Mint\"]]: Message: \n",
      "Stacktrace:\n",
      "0   chromedriver                        0x0000000103551e12 chromedriver + 6696466\n",
      "1   chromedriver                        0x0000000103549c2a chromedriver + 6663210\n",
      "2   chromedriver                        0x0000000102f51e3e chromedriver + 405054\n",
      "3   chromedriver                        0x0000000102fa2815 chromedriver + 735253\n",
      "4   chromedriver                        0x0000000102fa2d11 chromedriver + 736529\n",
      "5   chromedriver                        0x0000000102fed314 chromedriver + 1041172\n",
      "6   chromedriver                        0x0000000102fc789d chromedriver + 886941\n",
      "7   chromedriver                        0x0000000102fea3f4 chromedriver + 1029108\n",
      "8   chromedriver                        0x0000000102fc7613 chromedriver + 886291\n",
      "9   chromedriver                        0x0000000102f94950 chromedriver + 678224\n",
      "10  chromedriver                        0x0000000102f9534e chromedriver + 680782\n",
      "11  chromedriver                        0x000000010351f700 chromedriver + 6489856\n",
      "12  chromedriver                        0x00000001035221a9 chromedriver + 6500777\n",
      "13  chromedriver                        0x0000000103521ccb chromedriver + 6499531\n",
      "14  chromedriver                        0x0000000103522635 chromedriver + 6501941\n",
      "15  chromedriver                        0x000000010350a4b4 chromedriver + 6403252\n",
      "16  chromedriver                        0x000000010352291f chromedriver + 6502687\n",
      "17  chromedriver                        0x00000001034fb8e4 chromedriver + 6342884\n",
      "18  chromedriver                        0x000000010353a308 chromedriver + 6599432\n",
      "19  chromedriver                        0x000000010353a4c5 chromedriver + 6599877\n",
      "20  chromedriver                        0x00000001035497f8 chromedriver + 6662136\n",
      "21  libsystem_pthread.dylib             0x00007ff80b5b7253 _pthread_start + 99\n",
      "22  libsystem_pthread.dylib             0x00007ff80b5b2bef thread_start + 15\n",
      "\n",
      "Click failed for selector: //label[span[text()=\"Near Mint\"]]\n"
     ]
    },
    {
     "name": "stderr",
     "output_type": "stream",
     "text": [
      "Price Extraction:  52%|█████▏    | 1938/3739 [42:29<5:40:35, 11.35s/it, Processing bwp-BW88]       "
     ]
    },
    {
     "name": "stdout",
     "output_type": "stream",
     "text": [
      "Click failed for //label[span[text()=\"Near Mint\"]]: Message: \n",
      "Stacktrace:\n",
      "0   chromedriver                        0x0000000102feee12 chromedriver + 6696466\n",
      "1   chromedriver                        0x0000000102fe6c2a chromedriver + 6663210\n",
      "2   chromedriver                        0x00000001029eee3e chromedriver + 405054\n",
      "3   chromedriver                        0x0000000102a3f815 chromedriver + 735253\n",
      "4   chromedriver                        0x0000000102a3fd11 chromedriver + 736529\n",
      "5   chromedriver                        0x0000000102a8a314 chromedriver + 1041172\n",
      "6   chromedriver                        0x0000000102a6489d chromedriver + 886941\n",
      "7   chromedriver                        0x0000000102a873f4 chromedriver + 1029108\n",
      "8   chromedriver                        0x0000000102a64613 chromedriver + 886291\n",
      "9   chromedriver                        0x0000000102a31950 chromedriver + 678224\n",
      "10  chromedriver                        0x0000000102a3234e chromedriver + 680782\n",
      "11  chromedriver                        0x0000000102fbc700 chromedriver + 6489856\n",
      "12  chromedriver                        0x0000000102fbf1a9 chromedriver + 6500777\n",
      "13  chromedriver                        0x0000000102fbeccb chromedriver + 6499531\n",
      "14  chromedriver                        0x0000000102fbf635 chromedriver + 6501941\n",
      "15  chromedriver                        0x0000000102fa74b4 chromedriver + 6403252\n",
      "16  chromedriver                        0x0000000102fbf91f chromedriver + 6502687\n",
      "17  chromedriver                        0x0000000102f988e4 chromedriver + 6342884\n",
      "18  chromedriver                        0x0000000102fd7308 chromedriver + 6599432\n",
      "19  chromedriver                        0x0000000102fd74c5 chromedriver + 6599877\n",
      "20  chromedriver                        0x0000000102fe67f8 chromedriver + 6662136\n",
      "21  libsystem_pthread.dylib             0x00007ff80b5b7253 _pthread_start + 99\n",
      "22  libsystem_pthread.dylib             0x00007ff80b5b2bef thread_start + 15\n",
      "\n",
      "Click failed for selector: //label[span[text()=\"Near Mint\"]]\n"
     ]
    },
    {
     "name": "stderr",
     "output_type": "stream",
     "text": [
      "Price Extraction:  53%|█████▎    | 1989/3739 [47:52<5:34:34, 11.47s/it, Processing pl2-103]        "
     ]
    },
    {
     "name": "stdout",
     "output_type": "stream",
     "text": [
      "Click failed for //label[span[text()=\"Near Mint\"]]: Message: \n",
      "Stacktrace:\n",
      "0   chromedriver                        0x0000000104988e12 chromedriver + 6696466\n",
      "1   chromedriver                        0x0000000104980c2a chromedriver + 6663210\n",
      "2   chromedriver                        0x0000000104388e3e chromedriver + 405054\n",
      "3   chromedriver                        0x00000001043d9815 chromedriver + 735253\n",
      "4   chromedriver                        0x00000001043d9d11 chromedriver + 736529\n",
      "5   chromedriver                        0x0000000104424314 chromedriver + 1041172\n",
      "6   chromedriver                        0x00000001043fe89d chromedriver + 886941\n",
      "7   chromedriver                        0x00000001044213f4 chromedriver + 1029108\n",
      "8   chromedriver                        0x00000001043fe613 chromedriver + 886291\n",
      "9   chromedriver                        0x00000001043cb950 chromedriver + 678224\n",
      "10  chromedriver                        0x00000001043cc34e chromedriver + 680782\n",
      "11  chromedriver                        0x0000000104956700 chromedriver + 6489856\n",
      "12  chromedriver                        0x00000001049591a9 chromedriver + 6500777\n",
      "13  chromedriver                        0x0000000104958ccb chromedriver + 6499531\n",
      "14  chromedriver                        0x0000000104959635 chromedriver + 6501941\n",
      "15  chromedriver                        0x00000001049414b4 chromedriver + 6403252\n",
      "16  chromedriver                        0x000000010495991f chromedriver + 6502687\n",
      "17  chromedriver                        0x00000001049328e4 chromedriver + 6342884\n",
      "18  chromedriver                        0x0000000104971308 chromedriver + 6599432\n",
      "19  chromedriver                        0x00000001049714c5 chromedriver + 6599877\n",
      "20  chromedriver                        0x00000001049807f8 chromedriver + 6662136\n",
      "21  libsystem_pthread.dylib             0x00007ff80b5b7253 _pthread_start + 99\n",
      "22  libsystem_pthread.dylib             0x00007ff80b5b2bef thread_start + 15\n",
      "\n",
      "Click failed for selector: //label[span[text()=\"Near Mint\"]]\n"
     ]
    },
    {
     "name": "stderr",
     "output_type": "stream",
     "text": [
      "Price Extraction:  53%|█████▎    | 1995/3739 [52:54<9:12:26, 19.01s/it, Processing bwp-BW93]       "
     ]
    },
    {
     "name": "stdout",
     "output_type": "stream",
     "text": [
      "Click failed for //label[span[text()=\"Near Mint\"]]: Message: \n",
      "Stacktrace:\n",
      "0   chromedriver                        0x000000010161be12 chromedriver + 6696466\n",
      "1   chromedriver                        0x0000000101613c2a chromedriver + 6663210\n",
      "2   chromedriver                        0x000000010101be3e chromedriver + 405054\n",
      "3   chromedriver                        0x000000010106c815 chromedriver + 735253\n",
      "4   chromedriver                        0x000000010106cd11 chromedriver + 736529\n",
      "5   chromedriver                        0x00000001010b7314 chromedriver + 1041172\n",
      "6   chromedriver                        0x000000010109189d chromedriver + 886941\n",
      "7   chromedriver                        0x00000001010b43f4 chromedriver + 1029108\n",
      "8   chromedriver                        0x0000000101091613 chromedriver + 886291\n",
      "9   chromedriver                        0x000000010105e950 chromedriver + 678224\n",
      "10  chromedriver                        0x000000010105f34e chromedriver + 680782\n",
      "11  chromedriver                        0x00000001015e9700 chromedriver + 6489856\n",
      "12  chromedriver                        0x00000001015ec1a9 chromedriver + 6500777\n",
      "13  chromedriver                        0x00000001015ebccb chromedriver + 6499531\n",
      "14  chromedriver                        0x00000001015ec635 chromedriver + 6501941\n",
      "15  chromedriver                        0x00000001015d44b4 chromedriver + 6403252\n",
      "16  chromedriver                        0x00000001015ec91f chromedriver + 6502687\n",
      "17  chromedriver                        0x00000001015c58e4 chromedriver + 6342884\n",
      "18  chromedriver                        0x0000000101604308 chromedriver + 6599432\n",
      "19  chromedriver                        0x00000001016044c5 chromedriver + 6599877\n",
      "20  chromedriver                        0x00000001016137f8 chromedriver + 6662136\n",
      "21  libsystem_pthread.dylib             0x00007ff80b5b7253 _pthread_start + 99\n",
      "22  libsystem_pthread.dylib             0x00007ff80b5b2bef thread_start + 15\n",
      "\n",
      "Click failed for selector: //label[span[text()=\"Near Mint\"]]\n"
     ]
    },
    {
     "name": "stderr",
     "output_type": "stream",
     "text": [
      "Price Extraction:  54%|█████▎    | 2006/3739 [56:46<10:46:14, 22.37s/it, Processing dp5-100]     "
     ]
    },
    {
     "name": "stdout",
     "output_type": "stream",
     "text": [
      "Click failed for //label[span[text()=\"Near Mint\"]]: Message: \n",
      "Stacktrace:\n",
      "0   chromedriver                        0x0000000104982e12 chromedriver + 6696466\n",
      "1   chromedriver                        0x000000010497ac2a chromedriver + 6663210\n",
      "2   chromedriver                        0x0000000104382e3e chromedriver + 405054\n",
      "3   chromedriver                        0x00000001043d3815 chromedriver + 735253\n",
      "4   chromedriver                        0x00000001043d3d11 chromedriver + 736529\n",
      "5   chromedriver                        0x000000010441e314 chromedriver + 1041172\n",
      "6   chromedriver                        0x00000001043f889d chromedriver + 886941\n",
      "7   chromedriver                        0x000000010441b3f4 chromedriver + 1029108\n",
      "8   chromedriver                        0x00000001043f8613 chromedriver + 886291\n",
      "9   chromedriver                        0x00000001043c5950 chromedriver + 678224\n",
      "10  chromedriver                        0x00000001043c634e chromedriver + 680782\n",
      "11  chromedriver                        0x0000000104950700 chromedriver + 6489856\n",
      "12  chromedriver                        0x00000001049531a9 chromedriver + 6500777\n",
      "13  chromedriver                        0x0000000104952ccb chromedriver + 6499531\n",
      "14  chromedriver                        0x0000000104953635 chromedriver + 6501941\n",
      "15  chromedriver                        0x000000010493b4b4 chromedriver + 6403252\n",
      "16  chromedriver                        0x000000010495391f chromedriver + 6502687\n",
      "17  chromedriver                        0x000000010492c8e4 chromedriver + 6342884\n",
      "18  chromedriver                        0x000000010496b308 chromedriver + 6599432\n",
      "19  chromedriver                        0x000000010496b4c5 chromedriver + 6599877\n",
      "20  chromedriver                        0x000000010497a7f8 chromedriver + 6662136\n",
      "21  libsystem_pthread.dylib             0x00007ff80b5b7253 _pthread_start + 99\n",
      "22  libsystem_pthread.dylib             0x00007ff80b5b2bef thread_start + 15\n",
      "\n",
      "Click failed for selector: //label[span[text()=\"Near Mint\"]]\n"
     ]
    },
    {
     "name": "stderr",
     "output_type": "stream",
     "text": [
      "Price Extraction:  54%|█████▍    | 2025/3739 [58:03<5:09:20, 10.83s/it, Processing ex15-93]        "
     ]
    },
    {
     "name": "stdout",
     "output_type": "stream",
     "text": [
      "Click failed for //label[span[text()=\"Near Mint\"]]: Message: \n",
      "Stacktrace:\n",
      "0   chromedriver                        0x0000000100f5fe12 chromedriver + 6696466\n",
      "1   chromedriver                        0x0000000100f57c2a chromedriver + 6663210\n",
      "2   chromedriver                        0x000000010095fe3e chromedriver + 405054\n",
      "3   chromedriver                        0x00000001009b0815 chromedriver + 735253\n",
      "4   chromedriver                        0x00000001009b0d11 chromedriver + 736529\n",
      "5   chromedriver                        0x00000001009fb314 chromedriver + 1041172\n",
      "6   chromedriver                        0x00000001009d589d chromedriver + 886941\n",
      "7   chromedriver                        0x00000001009f83f4 chromedriver + 1029108\n",
      "8   chromedriver                        0x00000001009d5613 chromedriver + 886291\n",
      "9   chromedriver                        0x00000001009a2950 chromedriver + 678224\n",
      "10  chromedriver                        0x00000001009a334e chromedriver + 680782\n",
      "11  chromedriver                        0x0000000100f2d700 chromedriver + 6489856\n",
      "12  chromedriver                        0x0000000100f301a9 chromedriver + 6500777\n",
      "13  chromedriver                        0x0000000100f2fccb chromedriver + 6499531\n",
      "14  chromedriver                        0x0000000100f30635 chromedriver + 6501941\n",
      "15  chromedriver                        0x0000000100f184b4 chromedriver + 6403252\n",
      "16  chromedriver                        0x0000000100f3091f chromedriver + 6502687\n",
      "17  chromedriver                        0x0000000100f098e4 chromedriver + 6342884\n",
      "18  chromedriver                        0x0000000100f48308 chromedriver + 6599432\n",
      "19  chromedriver                        0x0000000100f484c5 chromedriver + 6599877\n",
      "20  chromedriver                        0x0000000100f577f8 chromedriver + 6662136\n",
      "21  libsystem_pthread.dylib             0x00007ff80b5b7253 _pthread_start + 99\n",
      "22  libsystem_pthread.dylib             0x00007ff80b5b2bef thread_start + 15\n",
      "\n",
      "Click failed for selector: //label[span[text()=\"Near Mint\"]]\n"
     ]
    },
    {
     "name": "stderr",
     "output_type": "stream",
     "text": [
      "Price Extraction:  55%|█████▍    | 2051/3739 [1:06:57<5:25:49, 11.58s/it, Processing ex7-101]         "
     ]
    },
    {
     "name": "stdout",
     "output_type": "stream",
     "text": [
      "Click failed for //label[span[text()=\"Near Mint\"]]: Message: \n",
      "Stacktrace:\n",
      "0   chromedriver                        0x00000001031d6e12 chromedriver + 6696466\n",
      "1   chromedriver                        0x00000001031cec2a chromedriver + 6663210\n",
      "2   chromedriver                        0x0000000102bd6e3e chromedriver + 405054\n",
      "3   chromedriver                        0x0000000102c27815 chromedriver + 735253\n",
      "4   chromedriver                        0x0000000102c27d11 chromedriver + 736529\n",
      "5   chromedriver                        0x0000000102c72314 chromedriver + 1041172\n",
      "6   chromedriver                        0x0000000102c4c89d chromedriver + 886941\n",
      "7   chromedriver                        0x0000000102c6f3f4 chromedriver + 1029108\n",
      "8   chromedriver                        0x0000000102c4c613 chromedriver + 886291\n",
      "9   chromedriver                        0x0000000102c19950 chromedriver + 678224\n",
      "10  chromedriver                        0x0000000102c1a34e chromedriver + 680782\n",
      "11  chromedriver                        0x00000001031a4700 chromedriver + 6489856\n",
      "12  chromedriver                        0x00000001031a71a9 chromedriver + 6500777\n",
      "13  chromedriver                        0x00000001031a6ccb chromedriver + 6499531\n",
      "14  chromedriver                        0x00000001031a7635 chromedriver + 6501941\n",
      "15  chromedriver                        0x000000010318f4b4 chromedriver + 6403252\n",
      "16  chromedriver                        0x00000001031a791f chromedriver + 6502687\n",
      "17  chromedriver                        0x00000001031808e4 chromedriver + 6342884\n",
      "18  chromedriver                        0x00000001031bf308 chromedriver + 6599432\n",
      "19  chromedriver                        0x00000001031bf4c5 chromedriver + 6599877\n",
      "20  chromedriver                        0x00000001031ce7f8 chromedriver + 6662136\n",
      "21  libsystem_pthread.dylib             0x00007ff80b5b7253 _pthread_start + 99\n",
      "22  libsystem_pthread.dylib             0x00007ff80b5b2bef thread_start + 15\n",
      "\n",
      "Click failed for selector: //label[span[text()=\"Near Mint\"]]\n"
     ]
    },
    {
     "name": "stderr",
     "output_type": "stream",
     "text": [
      "Price Extraction:  55%|█████▍    | 2056/3739 [1:11:55<15:06:17, 32.31s/it, Processing bwp-BW94]       "
     ]
    },
    {
     "name": "stdout",
     "output_type": "stream",
     "text": [
      "Click failed for //label[span[text()=\"Near Mint\"]]: Message: \n",
      "Stacktrace:\n",
      "0   chromedriver                        0x00000001046f4e12 chromedriver + 6696466\n",
      "1   chromedriver                        0x00000001046ecc2a chromedriver + 6663210\n",
      "2   chromedriver                        0x00000001040f4e3e chromedriver + 405054\n",
      "3   chromedriver                        0x0000000104145815 chromedriver + 735253\n",
      "4   chromedriver                        0x0000000104145d11 chromedriver + 736529\n",
      "5   chromedriver                        0x0000000104190314 chromedriver + 1041172\n",
      "6   chromedriver                        0x000000010416a89d chromedriver + 886941\n",
      "7   chromedriver                        0x000000010418d3f4 chromedriver + 1029108\n",
      "8   chromedriver                        0x000000010416a613 chromedriver + 886291\n",
      "9   chromedriver                        0x0000000104137950 chromedriver + 678224\n",
      "10  chromedriver                        0x000000010413834e chromedriver + 680782\n",
      "11  chromedriver                        0x00000001046c2700 chromedriver + 6489856\n",
      "12  chromedriver                        0x00000001046c51a9 chromedriver + 6500777\n",
      "13  chromedriver                        0x00000001046c4ccb chromedriver + 6499531\n",
      "14  chromedriver                        0x00000001046c5635 chromedriver + 6501941\n",
      "15  chromedriver                        0x00000001046ad4b4 chromedriver + 6403252\n",
      "16  chromedriver                        0x00000001046c591f chromedriver + 6502687\n",
      "17  chromedriver                        0x000000010469e8e4 chromedriver + 6342884\n",
      "18  chromedriver                        0x00000001046dd308 chromedriver + 6599432\n",
      "19  chromedriver                        0x00000001046dd4c5 chromedriver + 6599877\n",
      "20  chromedriver                        0x00000001046ec7f8 chromedriver + 6662136\n",
      "21  libsystem_pthread.dylib             0x00007ff80b5b7253 _pthread_start + 99\n",
      "22  libsystem_pthread.dylib             0x00007ff80b5b2bef thread_start + 15\n",
      "\n",
      "Click failed for selector: //label[span[text()=\"Near Mint\"]]\n"
     ]
    },
    {
     "name": "stderr",
     "output_type": "stream",
     "text": [
      "Price Extraction:  55%|█████▌    | 2062/3739 [1:15:28<17:00:59, 36.53s/it, Processing hgss1-114]      "
     ]
    },
    {
     "name": "stdout",
     "output_type": "stream",
     "text": [
      "Click failed for //label[span[text()=\"Near Mint\"]]: Message: \n",
      "Stacktrace:\n",
      "0   chromedriver                        0x0000000105224e12 chromedriver + 6696466\n",
      "1   chromedriver                        0x000000010521cc2a chromedriver + 6663210\n",
      "2   chromedriver                        0x0000000104c24e3e chromedriver + 405054\n",
      "3   chromedriver                        0x0000000104c75815 chromedriver + 735253\n",
      "4   chromedriver                        0x0000000104c75d11 chromedriver + 736529\n",
      "5   chromedriver                        0x0000000104cc0314 chromedriver + 1041172\n",
      "6   chromedriver                        0x0000000104c9a89d chromedriver + 886941\n",
      "7   chromedriver                        0x0000000104cbd3f4 chromedriver + 1029108\n",
      "8   chromedriver                        0x0000000104c9a613 chromedriver + 886291\n",
      "9   chromedriver                        0x0000000104c67950 chromedriver + 678224\n",
      "10  chromedriver                        0x0000000104c6834e chromedriver + 680782\n",
      "11  chromedriver                        0x00000001051f2700 chromedriver + 6489856\n",
      "12  chromedriver                        0x00000001051f51a9 chromedriver + 6500777\n",
      "13  chromedriver                        0x00000001051f4ccb chromedriver + 6499531\n",
      "14  chromedriver                        0x00000001051f5635 chromedriver + 6501941\n",
      "15  chromedriver                        0x00000001051dd4b4 chromedriver + 6403252\n",
      "16  chromedriver                        0x00000001051f591f chromedriver + 6502687\n",
      "17  chromedriver                        0x00000001051ce8e4 chromedriver + 6342884\n",
      "18  chromedriver                        0x000000010520d308 chromedriver + 6599432\n",
      "19  chromedriver                        0x000000010520d4c5 chromedriver + 6599877\n",
      "20  chromedriver                        0x000000010521c7f8 chromedriver + 6662136\n",
      "21  libsystem_pthread.dylib             0x00007ff80b5b7253 _pthread_start + 99\n",
      "22  libsystem_pthread.dylib             0x00007ff80b5b2bef thread_start + 15\n",
      "\n",
      "Click failed for selector: //label[span[text()=\"Near Mint\"]]\n"
     ]
    },
    {
     "name": "stderr",
     "output_type": "stream",
     "text": [
      "Price Extraction:  56%|█████▋    | 2109/3739 [1:27:04<4:54:06, 10.83s/it, Processing ex7-105]         "
     ]
    },
    {
     "name": "stdout",
     "output_type": "stream",
     "text": [
      "Click failed for //label[span[text()=\"Near Mint\"]]: Message: \n",
      "Stacktrace:\n",
      "0   chromedriver                        0x0000000101603e12 chromedriver + 6696466\n",
      "1   chromedriver                        0x00000001015fbc2a chromedriver + 6663210\n",
      "2   chromedriver                        0x0000000101003e3e chromedriver + 405054\n",
      "3   chromedriver                        0x0000000101054815 chromedriver + 735253\n",
      "4   chromedriver                        0x0000000101054d11 chromedriver + 736529\n",
      "5   chromedriver                        0x000000010109f314 chromedriver + 1041172\n",
      "6   chromedriver                        0x000000010107989d chromedriver + 886941\n",
      "7   chromedriver                        0x000000010109c3f4 chromedriver + 1029108\n",
      "8   chromedriver                        0x0000000101079613 chromedriver + 886291\n",
      "9   chromedriver                        0x0000000101046950 chromedriver + 678224\n",
      "10  chromedriver                        0x000000010104734e chromedriver + 680782\n",
      "11  chromedriver                        0x00000001015d1700 chromedriver + 6489856\n",
      "12  chromedriver                        0x00000001015d41a9 chromedriver + 6500777\n",
      "13  chromedriver                        0x00000001015d3ccb chromedriver + 6499531\n",
      "14  chromedriver                        0x00000001015d4635 chromedriver + 6501941\n",
      "15  chromedriver                        0x00000001015bc4b4 chromedriver + 6403252\n",
      "16  chromedriver                        0x00000001015d491f chromedriver + 6502687\n",
      "17  chromedriver                        0x00000001015ad8e4 chromedriver + 6342884\n",
      "18  chromedriver                        0x00000001015ec308 chromedriver + 6599432\n",
      "19  chromedriver                        0x00000001015ec4c5 chromedriver + 6599877\n",
      "20  chromedriver                        0x00000001015fb7f8 chromedriver + 6662136\n",
      "21  libsystem_pthread.dylib             0x00007ff80b5b7253 _pthread_start + 99\n",
      "22  libsystem_pthread.dylib             0x00007ff80b5b2bef thread_start + 15\n",
      "\n",
      "Click failed for selector: //label[span[text()=\"Near Mint\"]]\n"
     ]
    },
    {
     "name": "stderr",
     "output_type": "stream",
     "text": [
      "Price Extraction:  57%|█████▋    | 2119/3739 [1:29:13<9:22:25, 20.83s/it, Processing pl2-110]        "
     ]
    },
    {
     "name": "stdout",
     "output_type": "stream",
     "text": [
      "Click failed for //label[span[text()=\"Near Mint\"]]: Message: \n",
      "Stacktrace:\n",
      "0   chromedriver                        0x0000000100672e12 chromedriver + 6696466\n",
      "1   chromedriver                        0x000000010066ac2a chromedriver + 6663210\n",
      "2   chromedriver                        0x0000000100072e3e chromedriver + 405054\n",
      "3   chromedriver                        0x00000001000c3815 chromedriver + 735253\n",
      "4   chromedriver                        0x00000001000c3d11 chromedriver + 736529\n",
      "5   chromedriver                        0x000000010010e314 chromedriver + 1041172\n",
      "6   chromedriver                        0x00000001000e889d chromedriver + 886941\n",
      "7   chromedriver                        0x000000010010b3f4 chromedriver + 1029108\n",
      "8   chromedriver                        0x00000001000e8613 chromedriver + 886291\n",
      "9   chromedriver                        0x00000001000b5950 chromedriver + 678224\n",
      "10  chromedriver                        0x00000001000b634e chromedriver + 680782\n",
      "11  chromedriver                        0x0000000100640700 chromedriver + 6489856\n",
      "12  chromedriver                        0x00000001006431a9 chromedriver + 6500777\n",
      "13  chromedriver                        0x0000000100642ccb chromedriver + 6499531\n",
      "14  chromedriver                        0x0000000100643635 chromedriver + 6501941\n",
      "15  chromedriver                        0x000000010062b4b4 chromedriver + 6403252\n",
      "16  chromedriver                        0x000000010064391f chromedriver + 6502687\n",
      "17  chromedriver                        0x000000010061c8e4 chromedriver + 6342884\n",
      "18  chromedriver                        0x000000010065b308 chromedriver + 6599432\n",
      "19  chromedriver                        0x000000010065b4c5 chromedriver + 6599877\n",
      "20  chromedriver                        0x000000010066a7f8 chromedriver + 6662136\n",
      "21  libsystem_pthread.dylib             0x00007ff80b5b7253 _pthread_start + 99\n",
      "22  libsystem_pthread.dylib             0x00007ff80b5b2bef thread_start + 15\n",
      "\n",
      "Click failed for selector: //label[span[text()=\"Near Mint\"]]\n"
     ]
    },
    {
     "name": "stderr",
     "output_type": "stream",
     "text": [
      "Price Extraction:  57%|█████▋    | 2139/3739 [1:35:18<7:05:06, 15.94s/it, Processing dp7-101]        "
     ]
    },
    {
     "name": "stdout",
     "output_type": "stream",
     "text": [
      "Click failed for //label[span[text()=\"Near Mint\"]]: Message: \n",
      "Stacktrace:\n",
      "0   chromedriver                        0x0000000102f0be12 chromedriver + 6696466\n",
      "1   chromedriver                        0x0000000102f03c2a chromedriver + 6663210\n",
      "2   chromedriver                        0x000000010290be3e chromedriver + 405054\n",
      "3   chromedriver                        0x000000010295c815 chromedriver + 735253\n",
      "4   chromedriver                        0x000000010295cd11 chromedriver + 736529\n",
      "5   chromedriver                        0x00000001029a7314 chromedriver + 1041172\n",
      "6   chromedriver                        0x000000010298189d chromedriver + 886941\n",
      "7   chromedriver                        0x00000001029a43f4 chromedriver + 1029108\n",
      "8   chromedriver                        0x0000000102981613 chromedriver + 886291\n",
      "9   chromedriver                        0x000000010294e950 chromedriver + 678224\n",
      "10  chromedriver                        0x000000010294f34e chromedriver + 680782\n",
      "11  chromedriver                        0x0000000102ed9700 chromedriver + 6489856\n",
      "12  chromedriver                        0x0000000102edc1a9 chromedriver + 6500777\n",
      "13  chromedriver                        0x0000000102edbccb chromedriver + 6499531\n",
      "14  chromedriver                        0x0000000102edc635 chromedriver + 6501941\n",
      "15  chromedriver                        0x0000000102ec44b4 chromedriver + 6403252\n",
      "16  chromedriver                        0x0000000102edc91f chromedriver + 6502687\n",
      "17  chromedriver                        0x0000000102eb58e4 chromedriver + 6342884\n",
      "18  chromedriver                        0x0000000102ef4308 chromedriver + 6599432\n",
      "19  chromedriver                        0x0000000102ef44c5 chromedriver + 6599877\n",
      "20  chromedriver                        0x0000000102f037f8 chromedriver + 6662136\n",
      "21  libsystem_pthread.dylib             0x00007ff80b5b7253 _pthread_start + 99\n",
      "22  libsystem_pthread.dylib             0x00007ff80b5b2bef thread_start + 15\n",
      "\n",
      "Click failed for selector: //label[span[text()=\"Near Mint\"]]\n"
     ]
    },
    {
     "name": "stderr",
     "output_type": "stream",
     "text": [
      "Price Extraction:  57%|█████▋    | 2139/3739 [1:35:20<7:05:06, 15.94s/it, Processing col1-SL11]"
     ]
    },
    {
     "name": "stdout",
     "output_type": "stream",
     "text": [
      "Click failed for //label[span[text()=\"Near Mint\"]]: Message: \n",
      "Stacktrace:\n",
      "0   chromedriver                        0x000000010280fe12 chromedriver + 6696466\n",
      "1   chromedriver                        0x0000000102807c2a chromedriver + 6663210\n",
      "2   chromedriver                        0x000000010220fe3e chromedriver + 405054\n",
      "3   chromedriver                        0x0000000102260815 chromedriver + 735253\n",
      "4   chromedriver                        0x0000000102260d11 chromedriver + 736529\n",
      "5   chromedriver                        0x00000001022ab314 chromedriver + 1041172\n",
      "6   chromedriver                        0x000000010228589d chromedriver + 886941\n",
      "7   chromedriver                        0x00000001022a83f4 chromedriver + 1029108\n",
      "8   chromedriver                        0x0000000102285613 chromedriver + 886291\n",
      "9   chromedriver                        0x0000000102252950 chromedriver + 678224\n",
      "10  chromedriver                        0x000000010225334e chromedriver + 680782\n",
      "11  chromedriver                        0x00000001027dd700 chromedriver + 6489856\n",
      "12  chromedriver                        0x00000001027e01a9 chromedriver + 6500777\n",
      "13  chromedriver                        0x00000001027dfccb chromedriver + 6499531\n",
      "14  chromedriver                        0x00000001027e0635 chromedriver + 6501941\n",
      "15  chromedriver                        0x00000001027c84b4 chromedriver + 6403252\n",
      "16  chromedriver                        0x00000001027e091f chromedriver + 6502687\n",
      "17  chromedriver                        0x00000001027b98e4 chromedriver + 6342884\n",
      "18  chromedriver                        0x00000001027f8308 chromedriver + 6599432\n",
      "19  chromedriver                        0x00000001027f84c5 chromedriver + 6599877\n",
      "20  chromedriver                        0x00000001028077f8 chromedriver + 6662136\n",
      "21  libsystem_pthread.dylib             0x00007ff80b5b7253 _pthread_start + 99\n",
      "22  libsystem_pthread.dylib             0x00007ff80b5b2bef thread_start + 15\n",
      "\n",
      "Click failed for selector: //label[span[text()=\"Near Mint\"]]\n"
     ]
    },
    {
     "name": "stderr",
     "output_type": "stream",
     "text": [
      "Price Extraction:  58%|█████▊    | 2159/3739 [1:40:51<1:13:48,  2.80s/it, Processing xyp-XY104]       \n"
     ]
    },
    {
     "ename": "KeyboardInterrupt",
     "evalue": "",
     "output_type": "error",
     "traceback": [
      "\u001b[0;31m---------------------------------------------------------------------------\u001b[0m",
      "\u001b[0;31mKeyboardInterrupt\u001b[0m                         Traceback (most recent call last)",
      "Cell \u001b[0;32mIn[3], line 1\u001b[0m\n\u001b[0;32m----> 1\u001b[0m \u001b[43msave_historic_prices\u001b[49m\u001b[43m(\u001b[49m\u001b[43mdf\u001b[49m\u001b[43m)\u001b[49m\n",
      "File \u001b[0;32m~/GitProjects/Portfolio_Pokemon_Card/GetHistoricCardPrices.py:372\u001b[0m, in \u001b[0;36msave_historic_prices\u001b[0;34m(cards_df, output_dir)\u001b[0m\n\u001b[1;32m    369\u001b[0m     \u001b[38;5;28;01mcontinue\u001b[39;00m\n\u001b[1;32m    371\u001b[0m \u001b[38;5;28;01mtry\u001b[39;00m:\n\u001b[0;32m--> 372\u001b[0m     html_content, card_state \u001b[38;5;241m=\u001b[39m \u001b[43mget_html_content\u001b[49m\u001b[43m(\u001b[49m\n\u001b[1;32m    373\u001b[0m \u001b[43m        \u001b[49m\u001b[38;5;124;43mf\u001b[39;49m\u001b[38;5;124;43m\"\u001b[39;49m\u001b[38;5;124;43mhttps://prices.pokemontcg.io/tcgplayer/\u001b[39;49m\u001b[38;5;132;43;01m{\u001b[39;49;00m\u001b[43mcard_id\u001b[49m\u001b[38;5;132;43;01m}\u001b[39;49;00m\u001b[38;5;124;43m\"\u001b[39;49m\u001b[43m)\u001b[49m\n\u001b[1;32m    375\u001b[0m     \u001b[38;5;28;01mif\u001b[39;00m html_content \u001b[38;5;129;01mand\u001b[39;00m card_state:\n\u001b[1;32m    376\u001b[0m         price_history \u001b[38;5;241m=\u001b[39m extract_price_history(html_content, card_state)\n",
      "File \u001b[0;32m~/GitProjects/Portfolio_Pokemon_Card/GetHistoricCardPrices.py:231\u001b[0m, in \u001b[0;36mget_html_content\u001b[0;34m(website)\u001b[0m\n\u001b[1;32m    229\u001b[0m \u001b[38;5;28;01mfor\u001b[39;00m selector_type, selector \u001b[38;5;129;01min\u001b[39;00m initial_clicks:\n\u001b[1;32m    230\u001b[0m     by_type \u001b[38;5;241m=\u001b[39m By\u001b[38;5;241m.\u001b[39mCSS_SELECTOR \u001b[38;5;28;01mif\u001b[39;00m selector_type \u001b[38;5;241m==\u001b[39m \u001b[38;5;124m'\u001b[39m\u001b[38;5;124mCSS_SELECTOR\u001b[39m\u001b[38;5;124m'\u001b[39m \u001b[38;5;28;01melse\u001b[39;00m By\u001b[38;5;241m.\u001b[39mXPATH\n\u001b[0;32m--> 231\u001b[0m     \u001b[38;5;28;01mif\u001b[39;00m \u001b[38;5;129;01mnot\u001b[39;00m \u001b[43mtest_button_click\u001b[49m\u001b[43m(\u001b[49m\u001b[43mdriver\u001b[49m\u001b[43m,\u001b[49m\u001b[43m \u001b[49m\u001b[43mwait\u001b[49m\u001b[43m,\u001b[49m\u001b[43m \u001b[49m\u001b[43mselector\u001b[49m\u001b[43m,\u001b[49m\u001b[43m \u001b[49m\u001b[43mby\u001b[49m\u001b[38;5;241;43m=\u001b[39;49m\u001b[43mby_type\u001b[49m\u001b[43m)\u001b[49m:\n\u001b[1;32m    232\u001b[0m         \u001b[38;5;28mprint\u001b[39m(\u001b[38;5;124mf\u001b[39m\u001b[38;5;124m\"\u001b[39m\u001b[38;5;124mClick failed for selector: \u001b[39m\u001b[38;5;132;01m{\u001b[39;00mselector\u001b[38;5;132;01m}\u001b[39;00m\u001b[38;5;124m\"\u001b[39m)\n\u001b[1;32m    233\u001b[0m         \u001b[38;5;28;01mreturn\u001b[39;00m \u001b[38;5;28;01mNone\u001b[39;00m, \u001b[38;5;28;01mNone\u001b[39;00m\n",
      "File \u001b[0;32m~/GitProjects/Portfolio_Pokemon_Card/GetHistoricCardPrices.py:71\u001b[0m, in \u001b[0;36mtest_button_click\u001b[0;34m(driver, wait, selector, by)\u001b[0m\n\u001b[1;32m     50\u001b[0m \u001b[38;5;250m\u001b[39m\u001b[38;5;124;03m\"\"\"\u001b[39;00m\n\u001b[1;32m     51\u001b[0m \u001b[38;5;124;03mAttempts to click on a web element using JavaScript with enhanced reliability.\u001b[39;00m\n\u001b[1;32m     52\u001b[0m \u001b[38;5;124;03m\u001b[39;00m\n\u001b[0;32m   (...)\u001b[0m\n\u001b[1;32m     67\u001b[0m \u001b[38;5;124;03m    - Provides detailed error feedback\u001b[39;00m\n\u001b[1;32m     68\u001b[0m \u001b[38;5;124;03m\"\"\"\u001b[39;00m\n\u001b[1;32m     69\u001b[0m \u001b[38;5;28;01mtry\u001b[39;00m:\n\u001b[1;32m     70\u001b[0m     \u001b[38;5;66;03m# Wait for element to be present in DOM\u001b[39;00m\n\u001b[0;32m---> 71\u001b[0m     element \u001b[38;5;241m=\u001b[39m \u001b[43mwait\u001b[49m\u001b[38;5;241;43m.\u001b[39;49m\u001b[43muntil\u001b[49m\u001b[43m(\u001b[49m\u001b[43mEC\u001b[49m\u001b[38;5;241;43m.\u001b[39;49m\u001b[43mpresence_of_element_located\u001b[49m\u001b[43m(\u001b[49m\u001b[43m(\u001b[49m\u001b[43mby\u001b[49m\u001b[43m,\u001b[49m\u001b[43m \u001b[49m\u001b[43mselector\u001b[49m\u001b[43m)\u001b[49m\u001b[43m)\u001b[49m\u001b[43m)\u001b[49m\n\u001b[1;32m     73\u001b[0m     \u001b[38;5;66;03m# Center element in viewport using smooth scrolling\u001b[39;00m\n\u001b[1;32m     74\u001b[0m     driver\u001b[38;5;241m.\u001b[39mexecute_script(\u001b[38;5;124m\"\"\"\u001b[39m\n\u001b[1;32m     75\u001b[0m \u001b[38;5;124m        arguments[0].scrollIntoView(\u001b[39m\u001b[38;5;124m{\u001b[39m\n\u001b[1;32m     76\u001b[0m \u001b[38;5;124m            behavior: \u001b[39m\u001b[38;5;124m'\u001b[39m\u001b[38;5;124minstant\u001b[39m\u001b[38;5;124m'\u001b[39m\u001b[38;5;124m,\u001b[39m\n\u001b[0;32m   (...)\u001b[0m\n\u001b[1;32m     79\u001b[0m \u001b[38;5;124m        });\u001b[39m\n\u001b[1;32m     80\u001b[0m \u001b[38;5;124m    \u001b[39m\u001b[38;5;124m\"\"\"\u001b[39m, element)\n",
      "File \u001b[0;32m~/opt/anaconda3/envs/pokemon_card/lib/python3.9/site-packages/selenium/webdriver/support/wait.py:104\u001b[0m, in \u001b[0;36mWebDriverWait.until\u001b[0;34m(self, method, message)\u001b[0m\n\u001b[1;32m    102\u001b[0m     \u001b[38;5;28;01mif\u001b[39;00m time\u001b[38;5;241m.\u001b[39mmonotonic() \u001b[38;5;241m>\u001b[39m end_time:\n\u001b[1;32m    103\u001b[0m         \u001b[38;5;28;01mbreak\u001b[39;00m\n\u001b[0;32m--> 104\u001b[0m     \u001b[43mtime\u001b[49m\u001b[38;5;241;43m.\u001b[39;49m\u001b[43msleep\u001b[49m\u001b[43m(\u001b[49m\u001b[38;5;28;43mself\u001b[39;49m\u001b[38;5;241;43m.\u001b[39;49m\u001b[43m_poll\u001b[49m\u001b[43m)\u001b[49m\n\u001b[1;32m    105\u001b[0m \u001b[38;5;28;01mraise\u001b[39;00m TimeoutException(message, screen, stacktrace)\n",
      "\u001b[0;31mKeyboardInterrupt\u001b[0m: "
     ]
    }
   ],
   "source": [
    "save_historic_prices(df)"
   ]
  },
  {
   "cell_type": "code",
   "execution_count": 4,
   "metadata": {},
   "outputs": [],
   "source": []
  },
  {
   "cell_type": "code",
   "execution_count": null,
   "metadata": {},
   "outputs": [],
   "source": []
  }
 ],
 "metadata": {
  "kernelspec": {
   "display_name": "pokemon_card",
   "language": "python",
   "name": "python3"
  },
  "language_info": {
   "codemirror_mode": {
    "name": "ipython",
    "version": 3
   },
   "file_extension": ".py",
   "mimetype": "text/x-python",
   "name": "python",
   "nbconvert_exporter": "python",
   "pygments_lexer": "ipython3",
   "version": "3.9.20"
  }
 },
 "nbformat": 4,
 "nbformat_minor": 2
}
