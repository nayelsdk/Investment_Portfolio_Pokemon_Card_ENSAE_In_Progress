{
 "cells": [
  {
   "cell_type": "code",
   "execution_count": 11,
   "metadata": {},
   "outputs": [],
   "source": [
    "from PokemonCardManager import *\n",
    "from GetHistoricCardPrices import sequential_price_extraction"
   ]
  },
  {
   "cell_type": "code",
   "execution_count": 9,
   "metadata": {},
   "outputs": [],
   "source": [
    "api=PokemonCardAPI()\n",
    "database=PokemonCardDatabase(api)"
   ]
  },
  {
   "cell_type": "code",
   "execution_count": 10,
   "metadata": {},
   "outputs": [
    {
     "name": "stderr",
     "output_type": "stream",
     "text": [
      "Importing cards: 100%|██████████| 75/75 [08:46<00:00,  7.02s/it]\n",
      "Processing cards: 100%|██████████| 18506/18506 [00:00<00:00, 31003.36it/s]\n",
      "Extracting data: 100%|██████████| 3/3 [00:00<00:00, 658.21it/s]\n",
      "Saving files: 100%|██████████| 2/2 [00:00<00:00, 39.64it/s]\n"
     ]
    }
   ],
   "source": [
    "df=database.update_database()"
   ]
  },
  {
   "cell_type": "code",
   "execution_count": 12,
   "metadata": {},
   "outputs": [
    {
     "name": "stderr",
     "output_type": "stream",
     "text": [
      "Price Extraction:   0%|          | 0/3739 [00:00<?, ?it/s]"
     ]
    },
    {
     "name": "stdout",
     "output_type": "stream",
     "text": [
      "Selecting Normal (Holofoil)\n",
      "Click failed for //span[@class=\"checkbox__option-value checkbox__option-value-mobile\" and text()=\"Normal\"]: Message: \n",
      "Stacktrace:\n",
      "0   chromedriver                        0x00000001015b7e82 chromedriver + 6696578\n",
      "1   chromedriver                        0x00000001015afc9a chromedriver + 6663322\n",
      "2   chromedriver                        0x0000000100fb7e3e chromedriver + 405054\n",
      "3   chromedriver                        0x0000000101008815 chromedriver + 735253\n",
      "4   chromedriver                        0x0000000101008d11 chromedriver + 736529\n",
      "5   chromedriver                        0x0000000101053314 chromedriver + 1041172\n",
      "6   chromedriver                        0x000000010102d89d chromedriver + 886941\n",
      "7   chromedriver                        0x00000001010503f4 chromedriver + 1029108\n",
      "8   chromedriver                        0x000000010102d613 chromedriver + 886291\n",
      "9   chromedriver                        0x0000000100ffa950 chromedriver + 678224\n",
      "10  chromedriver                        0x0000000100ffb34e chromedriver + 680782\n",
      "11  chromedriver                        0x0000000101585770 chromedriver + 6489968\n",
      "12  chromedriver                        0x0000000101588219 chromedriver + 6500889\n",
      "13  chromedriver                        0x0000000101587d3b chromedriver + 6499643\n",
      "14  chromedriver                        0x00000001015886a5 chromedriver + 6502053\n",
      "15  chromedriver                        0x0000000101570524 chromedriver + 6403364\n",
      "16  chromedriver                        0x000000010158898f chromedriver + 6502799\n",
      "17  chromedriver                        0x0000000101561954 chromedriver + 6342996\n",
      "18  chromedriver                        0x00000001015a0378 chromedriver + 6599544\n",
      "19  chromedriver                        0x00000001015a0535 chromedriver + 6599989\n",
      "20  chromedriver                        0x00000001015af868 chromedriver + 6662248\n",
      "21  libsystem_pthread.dylib             0x00007ff81275f253 _pthread_start + 99\n",
      "22  libsystem_pthread.dylib             0x00007ff81275abef thread_start + 15\n",
      "\n"
     ]
    },
    {
     "name": "stderr",
     "output_type": "stream",
     "text": [
      "Extraction successful for dp3-1:   0%|          | 1/3739 [01:58<123:05:33, 118.55s/it]"
     ]
    },
    {
     "name": "stdout",
     "output_type": "stream",
     "text": [
      "Browser session terminated\n",
      "Selecting Reverse Holofoil\n"
     ]
    },
    {
     "name": "stderr",
     "output_type": "stream",
     "text": [
      "Extraction successful for ex12-1:   0%|          | 2/3739 [03:22<102:08:27, 98.40s/it] "
     ]
    },
    {
     "name": "stdout",
     "output_type": "stream",
     "text": [
      "Browser session terminated\n",
      "Selecting Normal (Holofoil)\n",
      "Click failed for //span[@class=\"checkbox__option-value checkbox__option-value-mobile\" and text()=\"Normal\"]: Message: \n",
      "Stacktrace:\n",
      "0   chromedriver                        0x0000000100a9ae82 chromedriver + 6696578\n",
      "1   chromedriver                        0x0000000100a92c9a chromedriver + 6663322\n",
      "2   chromedriver                        0x000000010049ae3e chromedriver + 405054\n",
      "3   chromedriver                        0x00000001004eb815 chromedriver + 735253\n",
      "4   chromedriver                        0x00000001004ebd11 chromedriver + 736529\n",
      "5   chromedriver                        0x0000000100536314 chromedriver + 1041172\n",
      "6   chromedriver                        0x000000010051089d chromedriver + 886941\n",
      "7   chromedriver                        0x00000001005333f4 chromedriver + 1029108\n",
      "8   chromedriver                        0x0000000100510613 chromedriver + 886291\n",
      "9   chromedriver                        0x00000001004dd950 chromedriver + 678224\n",
      "10  chromedriver                        0x00000001004de34e chromedriver + 680782\n",
      "11  chromedriver                        0x0000000100a68770 chromedriver + 6489968\n",
      "12  chromedriver                        0x0000000100a6b219 chromedriver + 6500889\n",
      "13  chromedriver                        0x0000000100a6ad3b chromedriver + 6499643\n",
      "14  chromedriver                        0x0000000100a6b6a5 chromedriver + 6502053\n",
      "15  chromedriver                        0x0000000100a53524 chromedriver + 6403364\n",
      "16  chromedriver                        0x0000000100a6b98f chromedriver + 6502799\n",
      "17  chromedriver                        0x0000000100a44954 chromedriver + 6342996\n",
      "18  chromedriver                        0x0000000100a83378 chromedriver + 6599544\n",
      "19  chromedriver                        0x0000000100a83535 chromedriver + 6599989\n",
      "20  chromedriver                        0x0000000100a92868 chromedriver + 6662248\n",
      "21  libsystem_pthread.dylib             0x00007ff81275f253 _pthread_start + 99\n",
      "22  libsystem_pthread.dylib             0x00007ff81275abef thread_start + 15\n",
      "\n"
     ]
    },
    {
     "name": "stderr",
     "output_type": "stream",
     "text": [
      "Extraction successful for ex7-1:   0%|          | 3/3739 [05:15<109:05:06, 105.11s/it]"
     ]
    },
    {
     "name": "stdout",
     "output_type": "stream",
     "text": [
      "Browser session terminated\n",
      "Click failed for //span[@class=\"checkbox__option-value checkbox__option-value-mobile\" and text()=\"Normal\"]: Message: \n",
      "Stacktrace:\n",
      "0   chromedriver                        0x00000001047aee82 chromedriver + 6696578\n",
      "1   chromedriver                        0x00000001047a6c9a chromedriver + 6663322\n",
      "2   chromedriver                        0x00000001041aee3e chromedriver + 405054\n",
      "3   chromedriver                        0x00000001041ff815 chromedriver + 735253\n",
      "4   chromedriver                        0x00000001041ffd11 chromedriver + 736529\n",
      "5   chromedriver                        0x000000010424a314 chromedriver + 1041172\n",
      "6   chromedriver                        0x000000010422489d chromedriver + 886941\n",
      "7   chromedriver                        0x00000001042473f4 chromedriver + 1029108\n",
      "8   chromedriver                        0x0000000104224613 chromedriver + 886291\n",
      "9   chromedriver                        0x00000001041f1950 chromedriver + 678224\n",
      "10  chromedriver                        0x00000001041f234e chromedriver + 680782\n",
      "11  chromedriver                        0x000000010477c770 chromedriver + 6489968\n",
      "12  chromedriver                        0x000000010477f219 chromedriver + 6500889\n",
      "13  chromedriver                        0x000000010477ed3b chromedriver + 6499643\n",
      "14  chromedriver                        0x000000010477f6a5 chromedriver + 6502053\n",
      "15  chromedriver                        0x0000000104767524 chromedriver + 6403364\n",
      "16  chromedriver                        0x000000010477f98f chromedriver + 6502799\n",
      "17  chromedriver                        0x0000000104758954 chromedriver + 6342996\n",
      "18  chromedriver                        0x0000000104797378 chromedriver + 6599544\n",
      "19  chromedriver                        0x0000000104797535 chromedriver + 6599989\n",
      "20  chromedriver                        0x00000001047a6868 chromedriver + 6662248\n",
      "21  libsystem_pthread.dylib             0x00007ff81275f253 _pthread_start + 99\n",
      "22  libsystem_pthread.dylib             0x00007ff81275abef thread_start + 15\n",
      "\n"
     ]
    },
    {
     "name": "stderr",
     "output_type": "stream",
     "text": [
      "Extraction successful for sm9-1:   0%|          | 4/3739 [07:18<116:24:12, 112.20s/it]"
     ]
    },
    {
     "name": "stdout",
     "output_type": "stream",
     "text": [
      "Browser session terminated\n",
      "Selecting Normal (Holofoil)\n",
      "Click failed for //span[@class=\"checkbox__option-value checkbox__option-value-mobile\" and text()=\"Normal\"]: Message: \n",
      "Stacktrace:\n",
      "0   chromedriver                        0x00000001015d0e82 chromedriver + 6696578\n",
      "1   chromedriver                        0x00000001015c8c9a chromedriver + 6663322\n",
      "2   chromedriver                        0x0000000100fd0e3e chromedriver + 405054\n",
      "3   chromedriver                        0x0000000101021815 chromedriver + 735253\n",
      "4   chromedriver                        0x0000000101021d11 chromedriver + 736529\n",
      "5   chromedriver                        0x000000010106c314 chromedriver + 1041172\n",
      "6   chromedriver                        0x000000010104689d chromedriver + 886941\n",
      "7   chromedriver                        0x00000001010693f4 chromedriver + 1029108\n",
      "8   chromedriver                        0x0000000101046613 chromedriver + 886291\n",
      "9   chromedriver                        0x0000000101013950 chromedriver + 678224\n",
      "10  chromedriver                        0x000000010101434e chromedriver + 680782\n",
      "11  chromedriver                        0x000000010159e770 chromedriver + 6489968\n",
      "12  chromedriver                        0x00000001015a1219 chromedriver + 6500889\n",
      "13  chromedriver                        0x00000001015a0d3b chromedriver + 6499643\n",
      "14  chromedriver                        0x00000001015a16a5 chromedriver + 6502053\n",
      "15  chromedriver                        0x0000000101589524 chromedriver + 6403364\n",
      "16  chromedriver                        0x00000001015a198f chromedriver + 6502799\n",
      "17  chromedriver                        0x000000010157a954 chromedriver + 6342996\n",
      "18  chromedriver                        0x00000001015b9378 chromedriver + 6599544\n",
      "19  chromedriver                        0x00000001015b9535 chromedriver + 6599989\n",
      "20  chromedriver                        0x00000001015c8868 chromedriver + 6662248\n",
      "21  libsystem_pthread.dylib             0x00007ff81275f253 _pthread_start + 99\n",
      "22  libsystem_pthread.dylib             0x00007ff81275abef thread_start + 15\n",
      "\n"
     ]
    },
    {
     "name": "stderr",
     "output_type": "stream",
     "text": [
      "Extraction successful for pl1-2:   0%|          | 5/3739 [09:24<121:13:40, 116.88s/it]"
     ]
    },
    {
     "name": "stdout",
     "output_type": "stream",
     "text": [
      "Browser session terminated\n",
      "Selecting Normal (Holofoil)\n",
      "Click failed for //span[@class=\"checkbox__option-value checkbox__option-value-mobile\" and text()=\"Normal\"]: Message: \n",
      "Stacktrace:\n",
      "0   chromedriver                        0x0000000104a79e82 chromedriver + 6696578\n",
      "1   chromedriver                        0x0000000104a71c9a chromedriver + 6663322\n",
      "2   chromedriver                        0x0000000104479e3e chromedriver + 405054\n",
      "3   chromedriver                        0x00000001044ca815 chromedriver + 735253\n",
      "4   chromedriver                        0x00000001044cad11 chromedriver + 736529\n",
      "5   chromedriver                        0x0000000104515314 chromedriver + 1041172\n",
      "6   chromedriver                        0x00000001044ef89d chromedriver + 886941\n",
      "7   chromedriver                        0x00000001045123f4 chromedriver + 1029108\n",
      "8   chromedriver                        0x00000001044ef613 chromedriver + 886291\n",
      "9   chromedriver                        0x00000001044bc950 chromedriver + 678224\n",
      "10  chromedriver                        0x00000001044bd34e chromedriver + 680782\n",
      "11  chromedriver                        0x0000000104a47770 chromedriver + 6489968\n",
      "12  chromedriver                        0x0000000104a4a219 chromedriver + 6500889\n",
      "13  chromedriver                        0x0000000104a49d3b chromedriver + 6499643\n",
      "14  chromedriver                        0x0000000104a4a6a5 chromedriver + 6502053\n",
      "15  chromedriver                        0x0000000104a32524 chromedriver + 6403364\n",
      "16  chromedriver                        0x0000000104a4a98f chromedriver + 6502799\n",
      "17  chromedriver                        0x0000000104a23954 chromedriver + 6342996\n",
      "18  chromedriver                        0x0000000104a62378 chromedriver + 6599544\n",
      "19  chromedriver                        0x0000000104a62535 chromedriver + 6599989\n",
      "20  chromedriver                        0x0000000104a71868 chromedriver + 6662248\n",
      "21  libsystem_pthread.dylib             0x00007ff81275f253 _pthread_start + 99\n",
      "22  libsystem_pthread.dylib             0x00007ff81275abef thread_start + 15\n",
      "\n"
     ]
    },
    {
     "name": "stderr",
     "output_type": "stream",
     "text": [
      "Extraction successful for ex3-2:   0%|          | 6/3739 [11:17<120:03:21, 115.78s/it]"
     ]
    },
    {
     "name": "stdout",
     "output_type": "stream",
     "text": [
      "Browser session terminated\n",
      "Click failed for //span[@class=\"checkbox__option-value checkbox__option-value-mobile\" and text()=\"Normal\"]: Message: \n",
      "Stacktrace:\n",
      "0   chromedriver                        0x00000001014aae82 chromedriver + 6696578\n",
      "1   chromedriver                        0x00000001014a2c9a chromedriver + 6663322\n",
      "2   chromedriver                        0x0000000100eaae3e chromedriver + 405054\n",
      "3   chromedriver                        0x0000000100efb815 chromedriver + 735253\n",
      "4   chromedriver                        0x0000000100efbd11 chromedriver + 736529\n",
      "5   chromedriver                        0x0000000100f46314 chromedriver + 1041172\n",
      "6   chromedriver                        0x0000000100f2089d chromedriver + 886941\n",
      "7   chromedriver                        0x0000000100f433f4 chromedriver + 1029108\n",
      "8   chromedriver                        0x0000000100f20613 chromedriver + 886291\n",
      "9   chromedriver                        0x0000000100eed950 chromedriver + 678224\n",
      "10  chromedriver                        0x0000000100eee34e chromedriver + 680782\n",
      "11  chromedriver                        0x0000000101478770 chromedriver + 6489968\n",
      "12  chromedriver                        0x000000010147b219 chromedriver + 6500889\n",
      "13  chromedriver                        0x000000010147ad3b chromedriver + 6499643\n",
      "14  chromedriver                        0x000000010147b6a5 chromedriver + 6502053\n",
      "15  chromedriver                        0x0000000101463524 chromedriver + 6403364\n",
      "16  chromedriver                        0x000000010147b98f chromedriver + 6502799\n",
      "17  chromedriver                        0x0000000101454954 chromedriver + 6342996\n",
      "18  chromedriver                        0x0000000101493378 chromedriver + 6599544\n",
      "19  chromedriver                        0x0000000101493535 chromedriver + 6599989\n",
      "20  chromedriver                        0x00000001014a2868 chromedriver + 6662248\n",
      "21  libsystem_pthread.dylib             0x00007ff81275f253 _pthread_start + 99\n",
      "22  libsystem_pthread.dylib             0x00007ff81275abef thread_start + 15\n",
      "\n"
     ]
    },
    {
     "name": "stderr",
     "output_type": "stream",
     "text": [
      "Extraction successful for sm12-1:   0%|          | 7/3739 [13:09<118:45:58, 114.57s/it]"
     ]
    },
    {
     "name": "stdout",
     "output_type": "stream",
     "text": [
      "Browser session terminated\n"
     ]
    },
    {
     "name": "stderr",
     "output_type": "stream",
     "text": [
      "Extraction successful for pop7-1:   0%|          | 8/3739 [14:38<110:09:09, 106.28s/it]"
     ]
    },
    {
     "name": "stdout",
     "output_type": "stream",
     "text": [
      "Browser session terminated\n",
      "Click failed for //span[@class=\"checkbox__option-value checkbox__option-value-mobile\" and text()=\"Normal\"]: Message: \n",
      "Stacktrace:\n",
      "0   chromedriver                        0x0000000102c96e82 chromedriver + 6696578\n",
      "1   chromedriver                        0x0000000102c8ec9a chromedriver + 6663322\n",
      "2   chromedriver                        0x0000000102696e3e chromedriver + 405054\n",
      "3   chromedriver                        0x00000001026e7815 chromedriver + 735253\n",
      "4   chromedriver                        0x00000001026e7d11 chromedriver + 736529\n",
      "5   chromedriver                        0x0000000102732314 chromedriver + 1041172\n",
      "6   chromedriver                        0x000000010270c89d chromedriver + 886941\n",
      "7   chromedriver                        0x000000010272f3f4 chromedriver + 1029108\n",
      "8   chromedriver                        0x000000010270c613 chromedriver + 886291\n",
      "9   chromedriver                        0x00000001026d9950 chromedriver + 678224\n",
      "10  chromedriver                        0x00000001026da34e chromedriver + 680782\n",
      "11  chromedriver                        0x0000000102c64770 chromedriver + 6489968\n",
      "12  chromedriver                        0x0000000102c67219 chromedriver + 6500889\n",
      "13  chromedriver                        0x0000000102c66d3b chromedriver + 6499643\n",
      "14  chromedriver                        0x0000000102c676a5 chromedriver + 6502053\n",
      "15  chromedriver                        0x0000000102c4f524 chromedriver + 6403364\n",
      "16  chromedriver                        0x0000000102c6798f chromedriver + 6502799\n",
      "17  chromedriver                        0x0000000102c40954 chromedriver + 6342996\n",
      "18  chromedriver                        0x0000000102c7f378 chromedriver + 6599544\n",
      "19  chromedriver                        0x0000000102c7f535 chromedriver + 6599989\n",
      "20  chromedriver                        0x0000000102c8e868 chromedriver + 6662248\n",
      "21  libsystem_pthread.dylib             0x00007ff81275f253 _pthread_start + 99\n",
      "22  libsystem_pthread.dylib             0x00007ff81275abef thread_start + 15\n",
      "\n"
     ]
    },
    {
     "name": "stderr",
     "output_type": "stream",
     "text": [
      "Extraction successful for base4-3:   0%|          | 9/3739 [16:40<115:14:00, 111.22s/it]"
     ]
    },
    {
     "name": "stdout",
     "output_type": "stream",
     "text": [
      "Browser session terminated\n",
      "Selecting Reverse Holofoil\n"
     ]
    },
    {
     "name": "stderr",
     "output_type": "stream",
     "text": [
      "Extraction successful for ex7-3:   0%|          | 10/3739 [18:02<105:54:05, 102.24s/it] "
     ]
    },
    {
     "name": "stdout",
     "output_type": "stream",
     "text": [
      "Browser session terminated\n",
      "Selecting Normal (Holofoil)\n",
      "Click failed for //span[@class=\"checkbox__option-value checkbox__option-value-mobile\" and text()=\"Normal\"]: Message: \n",
      "Stacktrace:\n",
      "0   chromedriver                        0x0000000104d5fe82 chromedriver + 6696578\n",
      "1   chromedriver                        0x0000000104d57c9a chromedriver + 6663322\n",
      "2   chromedriver                        0x000000010475fe3e chromedriver + 405054\n",
      "3   chromedriver                        0x00000001047b0815 chromedriver + 735253\n",
      "4   chromedriver                        0x00000001047b0d11 chromedriver + 736529\n",
      "5   chromedriver                        0x00000001047fb314 chromedriver + 1041172\n",
      "6   chromedriver                        0x00000001047d589d chromedriver + 886941\n",
      "7   chromedriver                        0x00000001047f83f4 chromedriver + 1029108\n",
      "8   chromedriver                        0x00000001047d5613 chromedriver + 886291\n",
      "9   chromedriver                        0x00000001047a2950 chromedriver + 678224\n",
      "10  chromedriver                        0x00000001047a334e chromedriver + 680782\n",
      "11  chromedriver                        0x0000000104d2d770 chromedriver + 6489968\n",
      "12  chromedriver                        0x0000000104d30219 chromedriver + 6500889\n",
      "13  chromedriver                        0x0000000104d2fd3b chromedriver + 6499643\n",
      "14  chromedriver                        0x0000000104d306a5 chromedriver + 6502053\n",
      "15  chromedriver                        0x0000000104d18524 chromedriver + 6403364\n",
      "16  chromedriver                        0x0000000104d3098f chromedriver + 6502799\n",
      "17  chromedriver                        0x0000000104d09954 chromedriver + 6342996\n",
      "18  chromedriver                        0x0000000104d48378 chromedriver + 6599544\n",
      "19  chromedriver                        0x0000000104d48535 chromedriver + 6599989\n",
      "20  chromedriver                        0x0000000104d57868 chromedriver + 6662248\n",
      "21  libsystem_pthread.dylib             0x00007ff81275f253 _pthread_start + 99\n",
      "22  libsystem_pthread.dylib             0x00007ff81275abef thread_start + 15\n",
      "\n"
     ]
    },
    {
     "name": "stderr",
     "output_type": "stream",
     "text": [
      "Extraction successful for dp3-3:   0%|          | 11/3739 [19:56<109:35:18, 105.83s/it]"
     ]
    },
    {
     "name": "stdout",
     "output_type": "stream",
     "text": [
      "Browser session terminated\n",
      "Click failed for //span[@class=\"checkbox__option-value checkbox__option-value-mobile\" and text()=\"Normal\"]: Message: \n",
      "Stacktrace:\n",
      "0   chromedriver                        0x0000000102f7fe82 chromedriver + 6696578\n",
      "1   chromedriver                        0x0000000102f77c9a chromedriver + 6663322\n",
      "2   chromedriver                        0x000000010297fe3e chromedriver + 405054\n",
      "3   chromedriver                        0x00000001029d0815 chromedriver + 735253\n",
      "4   chromedriver                        0x00000001029d0d11 chromedriver + 736529\n",
      "5   chromedriver                        0x0000000102a1b314 chromedriver + 1041172\n",
      "6   chromedriver                        0x00000001029f589d chromedriver + 886941\n",
      "7   chromedriver                        0x0000000102a183f4 chromedriver + 1029108\n",
      "8   chromedriver                        0x00000001029f5613 chromedriver + 886291\n",
      "9   chromedriver                        0x00000001029c2950 chromedriver + 678224\n",
      "10  chromedriver                        0x00000001029c334e chromedriver + 680782\n",
      "11  chromedriver                        0x0000000102f4d770 chromedriver + 6489968\n",
      "12  chromedriver                        0x0000000102f50219 chromedriver + 6500889\n",
      "13  chromedriver                        0x0000000102f4fd3b chromedriver + 6499643\n",
      "14  chromedriver                        0x0000000102f506a5 chromedriver + 6502053\n",
      "15  chromedriver                        0x0000000102f38524 chromedriver + 6403364\n",
      "16  chromedriver                        0x0000000102f5098f chromedriver + 6502799\n",
      "17  chromedriver                        0x0000000102f29954 chromedriver + 6342996\n",
      "18  chromedriver                        0x0000000102f68378 chromedriver + 6599544\n",
      "19  chromedriver                        0x0000000102f68535 chromedriver + 6599989\n",
      "20  chromedriver                        0x0000000102f77868 chromedriver + 6662248\n",
      "21  libsystem_pthread.dylib             0x00007ff81275f253 _pthread_start + 99\n",
      "22  libsystem_pthread.dylib             0x00007ff81275abef thread_start + 15\n",
      "\n"
     ]
    },
    {
     "name": "stderr",
     "output_type": "stream",
     "text": [
      "Extraction successful for base1-1:   0%|          | 12/3739 [21:52<112:40:48, 108.84s/it]"
     ]
    },
    {
     "name": "stdout",
     "output_type": "stream",
     "text": [
      "Browser session terminated\n",
      "Selecting Reverse Holofoil\n"
     ]
    },
    {
     "name": "stderr",
     "output_type": "stream",
     "text": [
      "Extraction successful for ex8-1:   0%|          | 13/3739 [23:10<103:08:56, 99.66s/it]   "
     ]
    },
    {
     "name": "stdout",
     "output_type": "stream",
     "text": [
      "Browser session terminated\n"
     ]
    },
    {
     "name": "stderr",
     "output_type": "stream",
     "text": [
      "Extraction successful for pop5-1:   0%|          | 14/3739 [24:27<96:00:35, 92.79s/it] "
     ]
    },
    {
     "name": "stdout",
     "output_type": "stream",
     "text": [
      "Browser session terminated\n",
      "Click failed for //span[@class=\"checkbox__option-value checkbox__option-value-mobile\" and text()=\"Normal\"]: Message: \n",
      "Stacktrace:\n",
      "0   chromedriver                        0x0000000103601e82 chromedriver + 6696578\n",
      "1   chromedriver                        0x00000001035f9c9a chromedriver + 6663322\n",
      "2   chromedriver                        0x0000000103001e3e chromedriver + 405054\n",
      "3   chromedriver                        0x0000000103052815 chromedriver + 735253\n",
      "4   chromedriver                        0x0000000103052d11 chromedriver + 736529\n",
      "5   chromedriver                        0x000000010309d314 chromedriver + 1041172\n",
      "6   chromedriver                        0x000000010307789d chromedriver + 886941\n",
      "7   chromedriver                        0x000000010309a3f4 chromedriver + 1029108\n",
      "8   chromedriver                        0x0000000103077613 chromedriver + 886291\n",
      "9   chromedriver                        0x0000000103044950 chromedriver + 678224\n",
      "10  chromedriver                        0x000000010304534e chromedriver + 680782\n",
      "11  chromedriver                        0x00000001035cf770 chromedriver + 6489968\n",
      "12  chromedriver                        0x00000001035d2219 chromedriver + 6500889\n",
      "13  chromedriver                        0x00000001035d1d3b chromedriver + 6499643\n",
      "14  chromedriver                        0x00000001035d26a5 chromedriver + 6502053\n",
      "15  chromedriver                        0x00000001035ba524 chromedriver + 6403364\n",
      "16  chromedriver                        0x00000001035d298f chromedriver + 6502799\n",
      "17  chromedriver                        0x00000001035ab954 chromedriver + 6342996\n",
      "18  chromedriver                        0x00000001035ea378 chromedriver + 6599544\n",
      "19  chromedriver                        0x00000001035ea535 chromedriver + 6599989\n",
      "20  chromedriver                        0x00000001035f9868 chromedriver + 6662248\n",
      "21  libsystem_pthread.dylib             0x00007ff81275f253 _pthread_start + 99\n",
      "22  libsystem_pthread.dylib             0x00007ff81275abef thread_start + 15\n",
      "\n"
     ]
    },
    {
     "name": "stderr",
     "output_type": "stream",
     "text": [
      "Extraction successful for base4-1:   0%|          | 15/3739 [26:23<103:17:22, 99.85s/it]"
     ]
    },
    {
     "name": "stdout",
     "output_type": "stream",
     "text": [
      "Browser session terminated\n",
      "Selecting Reverse Holofoil\n"
     ]
    },
    {
     "name": "stderr",
     "output_type": "stream",
     "text": [
      "Extraction successful for ex11-1:   0%|          | 16/3739 [27:45<97:35:14, 94.36s/it]  "
     ]
    },
    {
     "name": "stdout",
     "output_type": "stream",
     "text": [
      "Browser session terminated\n",
      "Selecting Reverse Holofoil\n"
     ]
    },
    {
     "name": "stderr",
     "output_type": "stream",
     "text": [
      "Extraction successful for ex14-1:   0%|          | 17/3739 [29:04<92:42:38, 89.67s/it]"
     ]
    },
    {
     "name": "stdout",
     "output_type": "stream",
     "text": [
      "Browser session terminated\n",
      "Selecting Reverse Holofoil\n"
     ]
    },
    {
     "name": "stderr",
     "output_type": "stream",
     "text": [
      "Extraction successful for col1-1:   0%|          | 18/3739 [30:28<90:57:18, 88.00s/it]"
     ]
    },
    {
     "name": "stdout",
     "output_type": "stream",
     "text": [
      "Browser session terminated\n",
      "Selecting Reverse Holofoil\n"
     ]
    },
    {
     "name": "stderr",
     "output_type": "stream",
     "text": [
      "Extraction successful for ex9-1:   1%|          | 19/3739 [31:36<84:42:24, 81.97s/it] "
     ]
    },
    {
     "name": "stdout",
     "output_type": "stream",
     "text": [
      "Browser session terminated\n",
      "Selecting Reverse Holofoil\n"
     ]
    },
    {
     "name": "stderr",
     "output_type": "stream",
     "text": [
      "Extraction successful for ex9-2:   1%|          | 20/3739 [33:00<85:23:30, 82.66s/it]"
     ]
    },
    {
     "name": "stdout",
     "output_type": "stream",
     "text": [
      "Browser session terminated\n",
      "Selecting Reverse Holofoil\n"
     ]
    },
    {
     "name": "stderr",
     "output_type": "stream",
     "text": [
      "Extraction successful for ex12-3:   1%|          | 21/3739 [34:24<85:47:22, 83.07s/it]"
     ]
    },
    {
     "name": "stdout",
     "output_type": "stream",
     "text": [
      "Browser session terminated\n",
      "Selecting Normal (Holofoil)\n",
      "Click failed for //span[@class=\"checkbox__option-value checkbox__option-value-mobile\" and text()=\"Normal\"]: Message: \n",
      "Stacktrace:\n",
      "0   chromedriver                        0x00000001049e6e82 chromedriver + 6696578\n",
      "1   chromedriver                        0x00000001049dec9a chromedriver + 6663322\n",
      "2   chromedriver                        0x00000001043e6e3e chromedriver + 405054\n",
      "3   chromedriver                        0x0000000104437815 chromedriver + 735253\n",
      "4   chromedriver                        0x0000000104437d11 chromedriver + 736529\n",
      "5   chromedriver                        0x0000000104482314 chromedriver + 1041172\n",
      "6   chromedriver                        0x000000010445c89d chromedriver + 886941\n",
      "7   chromedriver                        0x000000010447f3f4 chromedriver + 1029108\n",
      "8   chromedriver                        0x000000010445c613 chromedriver + 886291\n",
      "9   chromedriver                        0x0000000104429950 chromedriver + 678224\n",
      "10  chromedriver                        0x000000010442a34e chromedriver + 680782\n",
      "11  chromedriver                        0x00000001049b4770 chromedriver + 6489968\n",
      "12  chromedriver                        0x00000001049b7219 chromedriver + 6500889\n",
      "13  chromedriver                        0x00000001049b6d3b chromedriver + 6499643\n",
      "14  chromedriver                        0x00000001049b76a5 chromedriver + 6502053\n",
      "15  chromedriver                        0x000000010499f524 chromedriver + 6403364\n",
      "16  chromedriver                        0x00000001049b798f chromedriver + 6502799\n",
      "17  chromedriver                        0x0000000104990954 chromedriver + 6342996\n",
      "18  chromedriver                        0x00000001049cf378 chromedriver + 6599544\n",
      "19  chromedriver                        0x00000001049cf535 chromedriver + 6599989\n",
      "20  chromedriver                        0x00000001049de868 chromedriver + 6662248\n",
      "21  libsystem_pthread.dylib             0x00007ff81275f253 _pthread_start + 99\n",
      "22  libsystem_pthread.dylib             0x00007ff81275abef thread_start + 15\n",
      "\n"
     ]
    },
    {
     "name": "stderr",
     "output_type": "stream",
     "text": [
      "Extraction successful for pl1-1:   1%|          | 22/3739 [36:24<97:15:30, 94.20s/it] "
     ]
    },
    {
     "name": "stdout",
     "output_type": "stream",
     "text": [
      "Browser session terminated\n",
      "Selecting Reverse Holofoil\n"
     ]
    },
    {
     "name": "stderr",
     "output_type": "stream",
     "text": [
      "Extraction successful for pl3-1:   1%|          | 23/3739 [37:51<94:51:39, 91.90s/it]"
     ]
    },
    {
     "name": "stdout",
     "output_type": "stream",
     "text": [
      "Browser session terminated\n",
      "Selecting Reverse Holofoil\n"
     ]
    },
    {
     "name": "stderr",
     "output_type": "stream",
     "text": [
      "Extraction successful for pl3-2:   1%|          | 24/3739 [39:13<91:44:00, 88.89s/it]"
     ]
    },
    {
     "name": "stdout",
     "output_type": "stream",
     "text": [
      "Browser session terminated\n",
      "Selecting Reverse Holofoil\n"
     ]
    },
    {
     "name": "stderr",
     "output_type": "stream",
     "text": [
      "Extraction successful for ex11-2:   1%|          | 25/3739 [40:38<90:29:07, 87.71s/it]"
     ]
    },
    {
     "name": "stdout",
     "output_type": "stream",
     "text": [
      "Browser session terminated\n",
      "Click failed for //span[@class=\"checkbox__option-value checkbox__option-value-mobile\" and text()=\"Normal\"]: Message: \n",
      "Stacktrace:\n",
      "0   chromedriver                        0x0000000103057e82 chromedriver + 6696578\n",
      "1   chromedriver                        0x000000010304fc9a chromedriver + 6663322\n",
      "2   chromedriver                        0x0000000102a57e3e chromedriver + 405054\n",
      "3   chromedriver                        0x0000000102aa8815 chromedriver + 735253\n",
      "4   chromedriver                        0x0000000102aa8d11 chromedriver + 736529\n",
      "5   chromedriver                        0x0000000102af3314 chromedriver + 1041172\n",
      "6   chromedriver                        0x0000000102acd89d chromedriver + 886941\n",
      "7   chromedriver                        0x0000000102af03f4 chromedriver + 1029108\n",
      "8   chromedriver                        0x0000000102acd613 chromedriver + 886291\n",
      "9   chromedriver                        0x0000000102a9a950 chromedriver + 678224\n",
      "10  chromedriver                        0x0000000102a9b34e chromedriver + 680782\n",
      "11  chromedriver                        0x0000000103025770 chromedriver + 6489968\n",
      "12  chromedriver                        0x0000000103028219 chromedriver + 6500889\n",
      "13  chromedriver                        0x0000000103027d3b chromedriver + 6499643\n",
      "14  chromedriver                        0x00000001030286a5 chromedriver + 6502053\n",
      "15  chromedriver                        0x0000000103010524 chromedriver + 6403364\n",
      "16  chromedriver                        0x000000010302898f chromedriver + 6502799\n",
      "17  chromedriver                        0x0000000103001954 chromedriver + 6342996\n",
      "18  chromedriver                        0x0000000103040378 chromedriver + 6599544\n",
      "19  chromedriver                        0x0000000103040535 chromedriver + 6599989\n",
      "20  chromedriver                        0x000000010304f868 chromedriver + 6662248\n",
      "21  libsystem_pthread.dylib             0x00007ff81275f253 _pthread_start + 99\n",
      "22  libsystem_pthread.dylib             0x00007ff81275abef thread_start + 15\n",
      "\n"
     ]
    },
    {
     "name": "stderr",
     "output_type": "stream",
     "text": [
      "Extraction successful for base4-2:   1%|          | 26/3739 [42:34<99:09:12, 96.14s/it]"
     ]
    },
    {
     "name": "stdout",
     "output_type": "stream",
     "text": [
      "Browser session terminated\n",
      "Selecting Reverse Holofoil\n"
     ]
    },
    {
     "name": "stderr",
     "output_type": "stream",
     "text": [
      "Extraction successful for ex12-2:   1%|          | 27/3739 [44:03<97:07:03, 94.19s/it] "
     ]
    },
    {
     "name": "stdout",
     "output_type": "stream",
     "text": [
      "Browser session terminated\n",
      "Selecting Reverse Holofoil\n"
     ]
    },
    {
     "name": "stderr",
     "output_type": "stream",
     "text": [
      "Extraction successful for ex7-2:   1%|          | 28/3739 [45:25<93:18:26, 90.52s/it] "
     ]
    },
    {
     "name": "stdout",
     "output_type": "stream",
     "text": [
      "Browser session terminated\n",
      "Selecting Reverse Holofoil\n"
     ]
    },
    {
     "name": "stderr",
     "output_type": "stream",
     "text": [
      "Extraction successful for ex13-1:   1%|          | 29/3739 [46:49<91:09:27, 88.45s/it]"
     ]
    },
    {
     "name": "stdout",
     "output_type": "stream",
     "text": [
      "Browser session terminated\n"
     ]
    },
    {
     "name": "stderr",
     "output_type": "stream",
     "text": [
      "Extraction successful for pop6-3:   1%|          | 30/3739 [48:14<90:08:12, 87.49s/it]"
     ]
    },
    {
     "name": "stdout",
     "output_type": "stream",
     "text": [
      "Browser session terminated\n",
      "Selecting Reverse Holofoil\n"
     ]
    },
    {
     "name": "stderr",
     "output_type": "stream",
     "text": [
      "Extraction successful for ex11-3:   1%|          | 31/3739 [49:34<87:40:33, 85.12s/it]"
     ]
    },
    {
     "name": "stdout",
     "output_type": "stream",
     "text": [
      "Browser session terminated\n",
      "Selecting Reverse Holofoil\n"
     ]
    },
    {
     "name": "stderr",
     "output_type": "stream",
     "text": [
      "Extraction successful for ex13-2:   1%|          | 32/3739 [50:54<86:19:16, 83.83s/it]"
     ]
    },
    {
     "name": "stdout",
     "output_type": "stream",
     "text": [
      "Browser session terminated\n",
      "Selecting Normal (Holofoil)\n",
      "Click failed for //span[@class=\"checkbox__option-value checkbox__option-value-mobile\" and text()=\"Normal\"]: Message: \n",
      "Stacktrace:\n",
      "0   chromedriver                        0x0000000102e1de82 chromedriver + 6696578\n",
      "1   chromedriver                        0x0000000102e15c9a chromedriver + 6663322\n",
      "2   chromedriver                        0x000000010281de3e chromedriver + 405054\n",
      "3   chromedriver                        0x000000010286e815 chromedriver + 735253\n",
      "4   chromedriver                        0x000000010286ed11 chromedriver + 736529\n",
      "5   chromedriver                        0x00000001028b9314 chromedriver + 1041172\n",
      "6   chromedriver                        0x000000010289389d chromedriver + 886941\n",
      "7   chromedriver                        0x00000001028b63f4 chromedriver + 1029108\n",
      "8   chromedriver                        0x0000000102893613 chromedriver + 886291\n",
      "9   chromedriver                        0x0000000102860950 chromedriver + 678224\n",
      "10  chromedriver                        0x000000010286134e chromedriver + 680782\n",
      "11  chromedriver                        0x0000000102deb770 chromedriver + 6489968\n",
      "12  chromedriver                        0x0000000102dee219 chromedriver + 6500889\n",
      "13  chromedriver                        0x0000000102dedd3b chromedriver + 6499643\n",
      "14  chromedriver                        0x0000000102dee6a5 chromedriver + 6502053\n",
      "15  chromedriver                        0x0000000102dd6524 chromedriver + 6403364\n",
      "16  chromedriver                        0x0000000102dee98f chromedriver + 6502799\n",
      "17  chromedriver                        0x0000000102dc7954 chromedriver + 6342996\n",
      "18  chromedriver                        0x0000000102e06378 chromedriver + 6599544\n",
      "19  chromedriver                        0x0000000102e06535 chromedriver + 6599989\n",
      "20  chromedriver                        0x0000000102e15868 chromedriver + 6662248\n",
      "21  libsystem_pthread.dylib             0x00007ff81275f253 _pthread_start + 99\n",
      "22  libsystem_pthread.dylib             0x00007ff81275abef thread_start + 15\n",
      "\n"
     ]
    },
    {
     "name": "stderr",
     "output_type": "stream",
     "text": [
      "Extraction successful for col1-2:   1%|          | 33/3739 [52:51<96:18:25, 93.55s/it]"
     ]
    },
    {
     "name": "stdout",
     "output_type": "stream",
     "text": [
      "Browser session terminated\n",
      "Selecting Normal (Holofoil)\n",
      "Click failed for //span[@class=\"checkbox__option-value checkbox__option-value-mobile\" and text()=\"Normal\"]: Message: \n",
      "Stacktrace:\n",
      "0   chromedriver                        0x0000000100d99e82 chromedriver + 6696578\n",
      "1   chromedriver                        0x0000000100d91c9a chromedriver + 6663322\n",
      "2   chromedriver                        0x0000000100799e3e chromedriver + 405054\n",
      "3   chromedriver                        0x00000001007ea815 chromedriver + 735253\n",
      "4   chromedriver                        0x00000001007ead11 chromedriver + 736529\n",
      "5   chromedriver                        0x0000000100835314 chromedriver + 1041172\n",
      "6   chromedriver                        0x000000010080f89d chromedriver + 886941\n",
      "7   chromedriver                        0x00000001008323f4 chromedriver + 1029108\n",
      "8   chromedriver                        0x000000010080f613 chromedriver + 886291\n",
      "9   chromedriver                        0x00000001007dc950 chromedriver + 678224\n",
      "10  chromedriver                        0x00000001007dd34e chromedriver + 680782\n",
      "11  chromedriver                        0x0000000100d67770 chromedriver + 6489968\n",
      "12  chromedriver                        0x0000000100d6a219 chromedriver + 6500889\n",
      "13  chromedriver                        0x0000000100d69d3b chromedriver + 6499643\n",
      "14  chromedriver                        0x0000000100d6a6a5 chromedriver + 6502053\n",
      "15  chromedriver                        0x0000000100d52524 chromedriver + 6403364\n",
      "16  chromedriver                        0x0000000100d6a98f chromedriver + 6502799\n",
      "17  chromedriver                        0x0000000100d43954 chromedriver + 6342996\n",
      "18  chromedriver                        0x0000000100d82378 chromedriver + 6599544\n",
      "19  chromedriver                        0x0000000100d82535 chromedriver + 6599989\n",
      "20  chromedriver                        0x0000000100d91868 chromedriver + 6662248\n",
      "21  libsystem_pthread.dylib             0x00007ff81275f253 _pthread_start + 99\n",
      "22  libsystem_pthread.dylib             0x00007ff81275abef thread_start + 15\n",
      "\n"
     ]
    },
    {
     "name": "stderr",
     "output_type": "stream",
     "text": [
      "Extraction successful for pl1-3:   1%|          | 34/3739 [54:47<103:27:30, 100.53s/it]"
     ]
    },
    {
     "name": "stdout",
     "output_type": "stream",
     "text": [
      "Browser session terminated\n",
      "Selecting Normal (Holofoil)\n",
      "Click failed for //span[@class=\"checkbox__option-value checkbox__option-value-mobile\" and text()=\"Normal\"]: Message: \n",
      "Stacktrace:\n",
      "0   chromedriver                        0x000000010129ae82 chromedriver + 6696578\n",
      "1   chromedriver                        0x0000000101292c9a chromedriver + 6663322\n",
      "2   chromedriver                        0x0000000100c9ae3e chromedriver + 405054\n",
      "3   chromedriver                        0x0000000100ceb815 chromedriver + 735253\n",
      "4   chromedriver                        0x0000000100cebd11 chromedriver + 736529\n",
      "5   chromedriver                        0x0000000100d36314 chromedriver + 1041172\n",
      "6   chromedriver                        0x0000000100d1089d chromedriver + 886941\n",
      "7   chromedriver                        0x0000000100d333f4 chromedriver + 1029108\n",
      "8   chromedriver                        0x0000000100d10613 chromedriver + 886291\n",
      "9   chromedriver                        0x0000000100cdd950 chromedriver + 678224\n",
      "10  chromedriver                        0x0000000100cde34e chromedriver + 680782\n",
      "11  chromedriver                        0x0000000101268770 chromedriver + 6489968\n",
      "12  chromedriver                        0x000000010126b219 chromedriver + 6500889\n",
      "13  chromedriver                        0x000000010126ad3b chromedriver + 6499643\n",
      "14  chromedriver                        0x000000010126b6a5 chromedriver + 6502053\n",
      "15  chromedriver                        0x0000000101253524 chromedriver + 6403364\n",
      "16  chromedriver                        0x000000010126b98f chromedriver + 6502799\n",
      "17  chromedriver                        0x0000000101244954 chromedriver + 6342996\n",
      "18  chromedriver                        0x0000000101283378 chromedriver + 6599544\n",
      "19  chromedriver                        0x0000000101283535 chromedriver + 6599989\n",
      "20  chromedriver                        0x0000000101292868 chromedriver + 6662248\n",
      "21  libsystem_pthread.dylib             0x00007ff81275f253 _pthread_start + 99\n",
      "22  libsystem_pthread.dylib             0x00007ff81275abef thread_start + 15\n",
      "\n"
     ]
    },
    {
     "name": "stderr",
     "output_type": "stream",
     "text": [
      "Extraction successful for ex4-1:   1%|          | 35/3739 [56:40<107:03:47, 104.06s/it]"
     ]
    },
    {
     "name": "stdout",
     "output_type": "stream",
     "text": [
      "Browser session terminated\n",
      "Selecting Normal (Holofoil)\n",
      "Click failed for //span[@class=\"checkbox__option-value checkbox__option-value-mobile\" and text()=\"Normal\"]: Message: \n",
      "Stacktrace:\n",
      "0   chromedriver                        0x0000000102d28e82 chromedriver + 6696578\n",
      "1   chromedriver                        0x0000000102d20c9a chromedriver + 6663322\n",
      "2   chromedriver                        0x0000000102728e3e chromedriver + 405054\n",
      "3   chromedriver                        0x0000000102779815 chromedriver + 735253\n",
      "4   chromedriver                        0x0000000102779d11 chromedriver + 736529\n",
      "5   chromedriver                        0x00000001027c4314 chromedriver + 1041172\n",
      "6   chromedriver                        0x000000010279e89d chromedriver + 886941\n",
      "7   chromedriver                        0x00000001027c13f4 chromedriver + 1029108\n",
      "8   chromedriver                        0x000000010279e613 chromedriver + 886291\n",
      "9   chromedriver                        0x000000010276b950 chromedriver + 678224\n",
      "10  chromedriver                        0x000000010276c34e chromedriver + 680782\n",
      "11  chromedriver                        0x0000000102cf6770 chromedriver + 6489968\n",
      "12  chromedriver                        0x0000000102cf9219 chromedriver + 6500889\n",
      "13  chromedriver                        0x0000000102cf8d3b chromedriver + 6499643\n",
      "14  chromedriver                        0x0000000102cf96a5 chromedriver + 6502053\n",
      "15  chromedriver                        0x0000000102ce1524 chromedriver + 6403364\n",
      "16  chromedriver                        0x0000000102cf998f chromedriver + 6502799\n",
      "17  chromedriver                        0x0000000102cd2954 chromedriver + 6342996\n",
      "18  chromedriver                        0x0000000102d11378 chromedriver + 6599544\n",
      "19  chromedriver                        0x0000000102d11535 chromedriver + 6599989\n",
      "20  chromedriver                        0x0000000102d20868 chromedriver + 6662248\n",
      "21  libsystem_pthread.dylib             0x00007ff81275f253 _pthread_start + 99\n",
      "22  libsystem_pthread.dylib             0x00007ff81275abef thread_start + 15\n",
      "\n"
     ]
    },
    {
     "name": "stderr",
     "output_type": "stream",
     "text": [
      "Extraction successful for ex3-1:   1%|          | 36/3739 [58:20<106:00:44, 103.06s/it]"
     ]
    },
    {
     "name": "stdout",
     "output_type": "stream",
     "text": [
      "Browser session terminated\n",
      "Selecting Normal (Holofoil)\n",
      "Click failed for //span[@class=\"checkbox__option-value checkbox__option-value-mobile\" and text()=\"Normal\"]: Message: \n",
      "Stacktrace:\n",
      "0   chromedriver                        0x00000001048d0e82 chromedriver + 6696578\n",
      "1   chromedriver                        0x00000001048c8c9a chromedriver + 6663322\n",
      "2   chromedriver                        0x00000001042d0e3e chromedriver + 405054\n",
      "3   chromedriver                        0x0000000104321815 chromedriver + 735253\n",
      "4   chromedriver                        0x0000000104321d11 chromedriver + 736529\n",
      "5   chromedriver                        0x000000010436c314 chromedriver + 1041172\n",
      "6   chromedriver                        0x000000010434689d chromedriver + 886941\n",
      "7   chromedriver                        0x00000001043693f4 chromedriver + 1029108\n",
      "8   chromedriver                        0x0000000104346613 chromedriver + 886291\n",
      "9   chromedriver                        0x0000000104313950 chromedriver + 678224\n",
      "10  chromedriver                        0x000000010431434e chromedriver + 680782\n",
      "11  chromedriver                        0x000000010489e770 chromedriver + 6489968\n",
      "12  chromedriver                        0x00000001048a1219 chromedriver + 6500889\n",
      "13  chromedriver                        0x00000001048a0d3b chromedriver + 6499643\n",
      "14  chromedriver                        0x00000001048a16a5 chromedriver + 6502053\n",
      "15  chromedriver                        0x0000000104889524 chromedriver + 6403364\n",
      "16  chromedriver                        0x00000001048a198f chromedriver + 6502799\n",
      "17  chromedriver                        0x000000010487a954 chromedriver + 6342996\n",
      "18  chromedriver                        0x00000001048b9378 chromedriver + 6599544\n",
      "19  chromedriver                        0x00000001048b9535 chromedriver + 6599989\n",
      "20  chromedriver                        0x00000001048c8868 chromedriver + 6662248\n",
      "21  libsystem_pthread.dylib             0x00007ff81275f253 _pthread_start + 99\n",
      "22  libsystem_pthread.dylib             0x00007ff81275abef thread_start + 15\n",
      "\n"
     ]
    },
    {
     "name": "stderr",
     "output_type": "stream",
     "text": [
      "Extraction successful for hgss1-1:   1%|          | 37/3739 [1:00:17<110:12:45, 107.18s/it]"
     ]
    },
    {
     "name": "stdout",
     "output_type": "stream",
     "text": [
      "Browser session terminated\n",
      "Selecting Normal (Holofoil)\n",
      "Click failed for //span[@class=\"checkbox__option-value checkbox__option-value-mobile\" and text()=\"Normal\"]: Message: \n",
      "Stacktrace:\n",
      "0   chromedriver                        0x0000000105257e82 chromedriver + 6696578\n",
      "1   chromedriver                        0x000000010524fc9a chromedriver + 6663322\n",
      "2   chromedriver                        0x0000000104c57e3e chromedriver + 405054\n",
      "3   chromedriver                        0x0000000104ca8815 chromedriver + 735253\n",
      "4   chromedriver                        0x0000000104ca8d11 chromedriver + 736529\n",
      "5   chromedriver                        0x0000000104cf3314 chromedriver + 1041172\n",
      "6   chromedriver                        0x0000000104ccd89d chromedriver + 886941\n",
      "7   chromedriver                        0x0000000104cf03f4 chromedriver + 1029108\n",
      "8   chromedriver                        0x0000000104ccd613 chromedriver + 886291\n",
      "9   chromedriver                        0x0000000104c9a950 chromedriver + 678224\n",
      "10  chromedriver                        0x0000000104c9b34e chromedriver + 680782\n",
      "11  chromedriver                        0x0000000105225770 chromedriver + 6489968\n",
      "12  chromedriver                        0x0000000105228219 chromedriver + 6500889\n",
      "13  chromedriver                        0x0000000105227d3b chromedriver + 6499643\n",
      "14  chromedriver                        0x00000001052286a5 chromedriver + 6502053\n",
      "15  chromedriver                        0x0000000105210524 chromedriver + 6403364\n",
      "16  chromedriver                        0x000000010522898f chromedriver + 6502799\n",
      "17  chromedriver                        0x0000000105201954 chromedriver + 6342996\n",
      "18  chromedriver                        0x0000000105240378 chromedriver + 6599544\n",
      "19  chromedriver                        0x0000000105240535 chromedriver + 6599989\n",
      "20  chromedriver                        0x000000010524f868 chromedriver + 6662248\n",
      "21  libsystem_pthread.dylib             0x00007ff81275f253 _pthread_start + 99\n",
      "22  libsystem_pthread.dylib             0x00007ff81275abef thread_start + 15\n",
      "\n"
     ]
    },
    {
     "name": "stderr",
     "output_type": "stream",
     "text": [
      "Extraction successful for dp3-2:   1%|          | 38/3739 [1:02:14<113:12:26, 110.12s/it]  "
     ]
    },
    {
     "name": "stdout",
     "output_type": "stream",
     "text": [
      "Browser session terminated\n",
      "Selecting Normal (Holofoil)\n",
      "Click failed for //span[@class=\"checkbox__option-value checkbox__option-value-mobile\" and text()=\"Normal\"]: Message: \n",
      "Stacktrace:\n",
      "0   chromedriver                        0x0000000105149e82 chromedriver + 6696578\n",
      "1   chromedriver                        0x0000000105141c9a chromedriver + 6663322\n",
      "2   chromedriver                        0x0000000104b49e3e chromedriver + 405054\n",
      "3   chromedriver                        0x0000000104b9a815 chromedriver + 735253\n",
      "4   chromedriver                        0x0000000104b9ad11 chromedriver + 736529\n",
      "5   chromedriver                        0x0000000104be5314 chromedriver + 1041172\n",
      "6   chromedriver                        0x0000000104bbf89d chromedriver + 886941\n",
      "7   chromedriver                        0x0000000104be23f4 chromedriver + 1029108\n",
      "8   chromedriver                        0x0000000104bbf613 chromedriver + 886291\n",
      "9   chromedriver                        0x0000000104b8c950 chromedriver + 678224\n",
      "10  chromedriver                        0x0000000104b8d34e chromedriver + 680782\n",
      "11  chromedriver                        0x0000000105117770 chromedriver + 6489968\n",
      "12  chromedriver                        0x000000010511a219 chromedriver + 6500889\n",
      "13  chromedriver                        0x0000000105119d3b chromedriver + 6499643\n",
      "14  chromedriver                        0x000000010511a6a5 chromedriver + 6502053\n",
      "15  chromedriver                        0x0000000105102524 chromedriver + 6403364\n",
      "16  chromedriver                        0x000000010511a98f chromedriver + 6502799\n",
      "17  chromedriver                        0x00000001050f3954 chromedriver + 6342996\n",
      "18  chromedriver                        0x0000000105132378 chromedriver + 6599544\n",
      "19  chromedriver                        0x0000000105132535 chromedriver + 6599989\n",
      "20  chromedriver                        0x0000000105141868 chromedriver + 6662248\n",
      "21  libsystem_pthread.dylib             0x00007ff81275f253 _pthread_start + 99\n",
      "22  libsystem_pthread.dylib             0x00007ff81275abef thread_start + 15\n",
      "\n"
     ]
    },
    {
     "name": "stderr",
     "output_type": "stream",
     "text": [
      "Extraction successful for dp1-1:   1%|          | 39/3739 [1:04:09<114:38:57, 111.55s/it]"
     ]
    },
    {
     "name": "stdout",
     "output_type": "stream",
     "text": [
      "Browser session terminated\n"
     ]
    },
    {
     "name": "stderr",
     "output_type": "stream",
     "text": [
      "Failed for pop3-1: object of type 'NoneType' has no len():   1%|          | 40/3739 [1:05:47<110:17:34, 107.34s/it]"
     ]
    },
    {
     "name": "stdout",
     "output_type": "stream",
     "text": [
      "Click failed for //label[span[text()=\"Near Mint\"]]: Message: \n",
      "Stacktrace:\n",
      "0   chromedriver                        0x0000000103285e82 chromedriver + 6696578\n",
      "1   chromedriver                        0x000000010327dc9a chromedriver + 6663322\n",
      "2   chromedriver                        0x0000000102c85e3e chromedriver + 405054\n",
      "3   chromedriver                        0x0000000102cd6815 chromedriver + 735253\n",
      "4   chromedriver                        0x0000000102cd6d11 chromedriver + 736529\n",
      "5   chromedriver                        0x0000000102d21314 chromedriver + 1041172\n",
      "6   chromedriver                        0x0000000102cfb89d chromedriver + 886941\n",
      "7   chromedriver                        0x0000000102d1e3f4 chromedriver + 1029108\n",
      "8   chromedriver                        0x0000000102cfb613 chromedriver + 886291\n",
      "9   chromedriver                        0x0000000102cc8950 chromedriver + 678224\n",
      "10  chromedriver                        0x0000000102cc934e chromedriver + 680782\n",
      "11  chromedriver                        0x0000000103253770 chromedriver + 6489968\n",
      "12  chromedriver                        0x0000000103256219 chromedriver + 6500889\n",
      "13  chromedriver                        0x0000000103255d3b chromedriver + 6499643\n",
      "14  chromedriver                        0x00000001032566a5 chromedriver + 6502053\n",
      "15  chromedriver                        0x000000010323e524 chromedriver + 6403364\n",
      "16  chromedriver                        0x000000010325698f chromedriver + 6502799\n",
      "17  chromedriver                        0x000000010322f954 chromedriver + 6342996\n",
      "18  chromedriver                        0x000000010326e378 chromedriver + 6599544\n",
      "19  chromedriver                        0x000000010326e535 chromedriver + 6599989\n",
      "20  chromedriver                        0x000000010327d868 chromedriver + 6662248\n",
      "21  libsystem_pthread.dylib             0x00007ff81275f253 _pthread_start + 99\n",
      "22  libsystem_pthread.dylib             0x00007ff81275abef thread_start + 15\n",
      "\n",
      "Click failed for selector: //label[span[text()=\"Near Mint\"]]\n",
      "Browser session terminated\n",
      "Selecting Normal (Holofoil)\n",
      "Click failed for //span[@class=\"checkbox__option-value checkbox__option-value-mobile\" and text()=\"Normal\"]: Message: \n",
      "Stacktrace:\n",
      "0   chromedriver                        0x0000000103087e82 chromedriver + 6696578\n",
      "1   chromedriver                        0x000000010307fc9a chromedriver + 6663322\n",
      "2   chromedriver                        0x0000000102a87e3e chromedriver + 405054\n",
      "3   chromedriver                        0x0000000102ad8815 chromedriver + 735253\n",
      "4   chromedriver                        0x0000000102ad8d11 chromedriver + 736529\n",
      "5   chromedriver                        0x0000000102b23314 chromedriver + 1041172\n",
      "6   chromedriver                        0x0000000102afd89d chromedriver + 886941\n",
      "7   chromedriver                        0x0000000102b203f4 chromedriver + 1029108\n",
      "8   chromedriver                        0x0000000102afd613 chromedriver + 886291\n",
      "9   chromedriver                        0x0000000102aca950 chromedriver + 678224\n",
      "10  chromedriver                        0x0000000102acb34e chromedriver + 680782\n",
      "11  chromedriver                        0x0000000103055770 chromedriver + 6489968\n",
      "12  chromedriver                        0x0000000103058219 chromedriver + 6500889\n",
      "13  chromedriver                        0x0000000103057d3b chromedriver + 6499643\n",
      "14  chromedriver                        0x00000001030586a5 chromedriver + 6502053\n",
      "15  chromedriver                        0x0000000103040524 chromedriver + 6403364\n",
      "16  chromedriver                        0x000000010305898f chromedriver + 6502799\n",
      "17  chromedriver                        0x0000000103031954 chromedriver + 6342996\n",
      "18  chromedriver                        0x0000000103070378 chromedriver + 6599544\n",
      "19  chromedriver                        0x0000000103070535 chromedriver + 6599989\n",
      "20  chromedriver                        0x000000010307f868 chromedriver + 6662248\n",
      "21  libsystem_pthread.dylib             0x00007ff81275f253 _pthread_start + 99\n",
      "22  libsystem_pthread.dylib             0x00007ff81275abef thread_start + 15\n",
      "\n"
     ]
    },
    {
     "name": "stderr",
     "output_type": "stream",
     "text": [
      "Extraction successful for dp4-1:   1%|          | 41/3739 [1:07:39<111:43:11, 108.76s/it]                          "
     ]
    },
    {
     "name": "stdout",
     "output_type": "stream",
     "text": [
      "Browser session terminated\n",
      "Click failed for //span[@class=\"checkbox__option-value checkbox__option-value-mobile\" and text()=\"Normal\"]: Message: \n",
      "Stacktrace:\n",
      "0   chromedriver                        0x0000000104b81e82 chromedriver + 6696578\n",
      "1   chromedriver                        0x0000000104b79c9a chromedriver + 6663322\n",
      "2   chromedriver                        0x0000000104581e3e chromedriver + 405054\n",
      "3   chromedriver                        0x00000001045d2815 chromedriver + 735253\n",
      "4   chromedriver                        0x00000001045d2d11 chromedriver + 736529\n",
      "5   chromedriver                        0x000000010461d314 chromedriver + 1041172\n",
      "6   chromedriver                        0x00000001045f789d chromedriver + 886941\n",
      "7   chromedriver                        0x000000010461a3f4 chromedriver + 1029108\n",
      "8   chromedriver                        0x00000001045f7613 chromedriver + 886291\n",
      "9   chromedriver                        0x00000001045c4950 chromedriver + 678224\n",
      "10  chromedriver                        0x00000001045c534e chromedriver + 680782\n",
      "11  chromedriver                        0x0000000104b4f770 chromedriver + 6489968\n",
      "12  chromedriver                        0x0000000104b52219 chromedriver + 6500889\n",
      "13  chromedriver                        0x0000000104b51d3b chromedriver + 6499643\n",
      "14  chromedriver                        0x0000000104b526a5 chromedriver + 6502053\n",
      "15  chromedriver                        0x0000000104b3a524 chromedriver + 6403364\n",
      "16  chromedriver                        0x0000000104b5298f chromedriver + 6502799\n",
      "17  chromedriver                        0x0000000104b2b954 chromedriver + 6342996\n",
      "18  chromedriver                        0x0000000104b6a378 chromedriver + 6599544\n",
      "19  chromedriver                        0x0000000104b6a535 chromedriver + 6599989\n",
      "20  chromedriver                        0x0000000104b79868 chromedriver + 6662248\n",
      "21  libsystem_pthread.dylib             0x00007ff81275f253 _pthread_start + 99\n",
      "22  libsystem_pthread.dylib             0x00007ff81275abef thread_start + 15\n",
      "\n"
     ]
    },
    {
     "name": "stderr",
     "output_type": "stream",
     "text": [
      "Extraction successful for dpp-DP01:   1%|          | 42/3739 [1:09:28<111:55:08, 108.98s/it]"
     ]
    },
    {
     "name": "stdout",
     "output_type": "stream",
     "text": [
      "Browser session terminated\n",
      "Click failed for //span[@class=\"checkbox__option-value checkbox__option-value-mobile\" and text()=\"Normal\"]: Message: \n",
      "Stacktrace:\n",
      "0   chromedriver                        0x0000000101647e82 chromedriver + 6696578\n",
      "1   chromedriver                        0x000000010163fc9a chromedriver + 6663322\n",
      "2   chromedriver                        0x0000000101047e3e chromedriver + 405054\n",
      "3   chromedriver                        0x0000000101098815 chromedriver + 735253\n",
      "4   chromedriver                        0x0000000101098d11 chromedriver + 736529\n",
      "5   chromedriver                        0x00000001010e3314 chromedriver + 1041172\n",
      "6   chromedriver                        0x00000001010bd89d chromedriver + 886941\n",
      "7   chromedriver                        0x00000001010e03f4 chromedriver + 1029108\n",
      "8   chromedriver                        0x00000001010bd613 chromedriver + 886291\n",
      "9   chromedriver                        0x000000010108a950 chromedriver + 678224\n",
      "10  chromedriver                        0x000000010108b34e chromedriver + 680782\n",
      "11  chromedriver                        0x0000000101615770 chromedriver + 6489968\n",
      "12  chromedriver                        0x0000000101618219 chromedriver + 6500889\n",
      "13  chromedriver                        0x0000000101617d3b chromedriver + 6499643\n",
      "14  chromedriver                        0x00000001016186a5 chromedriver + 6502053\n",
      "15  chromedriver                        0x0000000101600524 chromedriver + 6403364\n",
      "16  chromedriver                        0x000000010161898f chromedriver + 6502799\n",
      "17  chromedriver                        0x00000001015f1954 chromedriver + 6342996\n",
      "18  chromedriver                        0x0000000101630378 chromedriver + 6599544\n",
      "19  chromedriver                        0x0000000101630535 chromedriver + 6599989\n",
      "20  chromedriver                        0x000000010163f868 chromedriver + 6662248\n",
      "21  libsystem_pthread.dylib             0x00007ff81275f253 _pthread_start + 99\n",
      "22  libsystem_pthread.dylib             0x00007ff81275abef thread_start + 15\n",
      "\n"
     ]
    },
    {
     "name": "stderr",
     "output_type": "stream",
     "text": [
      "Extraction successful for base6-1:   1%|          | 43/3739 [1:11:18<112:16:07, 109.35s/it] "
     ]
    },
    {
     "name": "stdout",
     "output_type": "stream",
     "text": [
      "Browser session terminated\n"
     ]
    },
    {
     "name": "stderr",
     "output_type": "stream",
     "text": [
      "Extraction successful for pop4-2:   1%|          | 44/3739 [1:12:38<103:01:03, 100.37s/it] "
     ]
    },
    {
     "name": "stdout",
     "output_type": "stream",
     "text": [
      "Browser session terminated\n",
      "Selecting Reverse Holofoil\n"
     ]
    },
    {
     "name": "stderr",
     "output_type": "stream",
     "text": [
      "Extraction successful for ex12-4:   1%|          | 45/3739 [1:13:57<96:25:16, 93.97s/it]  "
     ]
    },
    {
     "name": "stdout",
     "output_type": "stream",
     "text": [
      "Browser session terminated\n",
      "Selecting Normal (Holofoil)\n",
      "Click failed for //span[@class=\"checkbox__option-value checkbox__option-value-mobile\" and text()=\"Normal\"]: Message: \n",
      "Stacktrace:\n",
      "0   chromedriver                        0x000000010128be82 chromedriver + 6696578\n",
      "1   chromedriver                        0x0000000101283c9a chromedriver + 6663322\n",
      "2   chromedriver                        0x0000000100c8be3e chromedriver + 405054\n",
      "3   chromedriver                        0x0000000100cdc815 chromedriver + 735253\n",
      "4   chromedriver                        0x0000000100cdcd11 chromedriver + 736529\n",
      "5   chromedriver                        0x0000000100d27314 chromedriver + 1041172\n",
      "6   chromedriver                        0x0000000100d0189d chromedriver + 886941\n",
      "7   chromedriver                        0x0000000100d243f4 chromedriver + 1029108\n",
      "8   chromedriver                        0x0000000100d01613 chromedriver + 886291\n",
      "9   chromedriver                        0x0000000100cce950 chromedriver + 678224\n",
      "10  chromedriver                        0x0000000100ccf34e chromedriver + 680782\n",
      "11  chromedriver                        0x0000000101259770 chromedriver + 6489968\n",
      "12  chromedriver                        0x000000010125c219 chromedriver + 6500889\n",
      "13  chromedriver                        0x000000010125bd3b chromedriver + 6499643\n",
      "14  chromedriver                        0x000000010125c6a5 chromedriver + 6502053\n",
      "15  chromedriver                        0x0000000101244524 chromedriver + 6403364\n",
      "16  chromedriver                        0x000000010125c98f chromedriver + 6502799\n",
      "17  chromedriver                        0x0000000101235954 chromedriver + 6342996\n",
      "18  chromedriver                        0x0000000101274378 chromedriver + 6599544\n",
      "19  chromedriver                        0x0000000101274535 chromedriver + 6599989\n",
      "20  chromedriver                        0x0000000101283868 chromedriver + 6662248\n",
      "21  libsystem_pthread.dylib             0x00007ff81275f253 _pthread_start + 99\n",
      "22  libsystem_pthread.dylib             0x00007ff81275abef thread_start + 15\n",
      "\n"
     ]
    },
    {
     "name": "stderr",
     "output_type": "stream",
     "text": [
      "Extraction successful for ex3-4:   1%|          | 46/3739 [1:15:47<101:30:04, 98.95s/it]"
     ]
    },
    {
     "name": "stdout",
     "output_type": "stream",
     "text": [
      "Browser session terminated\n",
      "Selecting Normal (Holofoil)\n",
      "Click failed for //span[@class=\"checkbox__option-value checkbox__option-value-mobile\" and text()=\"Normal\"]: Message: \n",
      "Stacktrace:\n",
      "0   chromedriver                        0x0000000100f5ce82 chromedriver + 6696578\n",
      "1   chromedriver                        0x0000000100f54c9a chromedriver + 6663322\n",
      "2   chromedriver                        0x000000010095ce3e chromedriver + 405054\n",
      "3   chromedriver                        0x00000001009ad815 chromedriver + 735253\n",
      "4   chromedriver                        0x00000001009add11 chromedriver + 736529\n",
      "5   chromedriver                        0x00000001009f8314 chromedriver + 1041172\n",
      "6   chromedriver                        0x00000001009d289d chromedriver + 886941\n",
      "7   chromedriver                        0x00000001009f53f4 chromedriver + 1029108\n",
      "8   chromedriver                        0x00000001009d2613 chromedriver + 886291\n",
      "9   chromedriver                        0x000000010099f950 chromedriver + 678224\n",
      "10  chromedriver                        0x00000001009a034e chromedriver + 680782\n",
      "11  chromedriver                        0x0000000100f2a770 chromedriver + 6489968\n",
      "12  chromedriver                        0x0000000100f2d219 chromedriver + 6500889\n",
      "13  chromedriver                        0x0000000100f2cd3b chromedriver + 6499643\n",
      "14  chromedriver                        0x0000000100f2d6a5 chromedriver + 6502053\n",
      "15  chromedriver                        0x0000000100f15524 chromedriver + 6403364\n",
      "16  chromedriver                        0x0000000100f2d98f chromedriver + 6502799\n",
      "17  chromedriver                        0x0000000100f06954 chromedriver + 6342996\n",
      "18  chromedriver                        0x0000000100f45378 chromedriver + 6599544\n",
      "19  chromedriver                        0x0000000100f45535 chromedriver + 6599989\n",
      "20  chromedriver                        0x0000000100f54868 chromedriver + 6662248\n",
      "21  libsystem_pthread.dylib             0x00007ff81275f253 _pthread_start + 99\n",
      "22  libsystem_pthread.dylib             0x00007ff81275abef thread_start + 15\n",
      "\n"
     ]
    },
    {
     "name": "stderr",
     "output_type": "stream",
     "text": [
      "Extraction successful for ex11-4:   1%|▏         | 47/3739 [1:17:32<103:08:50, 100.58s/it]"
     ]
    },
    {
     "name": "stdout",
     "output_type": "stream",
     "text": [
      "Browser session terminated\n",
      "Selecting Reverse Holofoil\n"
     ]
    },
    {
     "name": "stderr",
     "output_type": "stream",
     "text": [
      "Extraction successful for ex13-3:   1%|▏         | 48/3739 [1:18:46<94:59:45, 92.65s/it]  "
     ]
    },
    {
     "name": "stdout",
     "output_type": "stream",
     "text": [
      "Browser session terminated\n"
     ]
    },
    {
     "name": "stderr",
     "output_type": "stream",
     "text": [
      "Extraction successful for pop3-3:   1%|▏         | 49/3739 [1:20:10<92:21:15, 90.10s/it]"
     ]
    },
    {
     "name": "stdout",
     "output_type": "stream",
     "text": [
      "Browser session terminated\n",
      "Selecting Reverse Holofoil\n"
     ]
    },
    {
     "name": "stderr",
     "output_type": "stream",
     "text": [
      "Extraction successful for base6-3:   1%|▏         | 50/3739 [1:21:34<90:30:03, 88.32s/it]"
     ]
    },
    {
     "name": "stdout",
     "output_type": "stream",
     "text": [
      "Browser session terminated\n"
     ]
    },
    {
     "name": "stderr",
     "output_type": "stream",
     "text": [
      "Extraction successful for pop1-1:   1%|▏         | 51/3739 [1:22:57<88:37:31, 86.51s/it] "
     ]
    },
    {
     "name": "stdout",
     "output_type": "stream",
     "text": [
      "Browser session terminated\n"
     ]
    },
    {
     "name": "stderr",
     "output_type": "stream",
     "text": [
      "Failed for pop7-3: object of type 'NoneType' has no len():   1%|▏         | 52/3739 [1:24:42<94:19:56, 92.11s/it]"
     ]
    },
    {
     "name": "stdout",
     "output_type": "stream",
     "text": [
      "Click failed for //label[span[text()=\"Near Mint\"]]: Message: \n",
      "Stacktrace:\n",
      "0   chromedriver                        0x00000001027e7e82 chromedriver + 6696578\n",
      "1   chromedriver                        0x00000001027dfc9a chromedriver + 6663322\n",
      "2   chromedriver                        0x00000001021e7e3e chromedriver + 405054\n",
      "3   chromedriver                        0x0000000102238815 chromedriver + 735253\n",
      "4   chromedriver                        0x0000000102238d11 chromedriver + 736529\n",
      "5   chromedriver                        0x0000000102283314 chromedriver + 1041172\n",
      "6   chromedriver                        0x000000010225d89d chromedriver + 886941\n",
      "7   chromedriver                        0x00000001022803f4 chromedriver + 1029108\n",
      "8   chromedriver                        0x000000010225d613 chromedriver + 886291\n",
      "9   chromedriver                        0x000000010222a950 chromedriver + 678224\n",
      "10  chromedriver                        0x000000010222b34e chromedriver + 680782\n",
      "11  chromedriver                        0x00000001027b5770 chromedriver + 6489968\n",
      "12  chromedriver                        0x00000001027b8219 chromedriver + 6500889\n",
      "13  chromedriver                        0x00000001027b7d3b chromedriver + 6499643\n",
      "14  chromedriver                        0x00000001027b86a5 chromedriver + 6502053\n",
      "15  chromedriver                        0x00000001027a0524 chromedriver + 6403364\n",
      "16  chromedriver                        0x00000001027b898f chromedriver + 6502799\n",
      "17  chromedriver                        0x0000000102791954 chromedriver + 6342996\n",
      "18  chromedriver                        0x00000001027d0378 chromedriver + 6599544\n",
      "19  chromedriver                        0x00000001027d0535 chromedriver + 6599989\n",
      "20  chromedriver                        0x00000001027df868 chromedriver + 6662248\n",
      "21  libsystem_pthread.dylib             0x00007ff81275f253 _pthread_start + 99\n",
      "22  libsystem_pthread.dylib             0x00007ff81275abef thread_start + 15\n",
      "\n",
      "Click failed for selector: //label[span[text()=\"Near Mint\"]]\n",
      "Browser session terminated\n",
      "Selecting Reverse Holofoil\n"
     ]
    },
    {
     "name": "stderr",
     "output_type": "stream",
     "text": [
      "Extraction successful for hgss1-4:   1%|▏         | 53/3739 [1:26:03<90:58:51, 88.86s/it]                        "
     ]
    },
    {
     "name": "stdout",
     "output_type": "stream",
     "text": [
      "Browser session terminated\n",
      "Click failed for //span[@class=\"checkbox__option-value checkbox__option-value-mobile\" and text()=\"Normal\"]: Message: \n",
      "Stacktrace:\n",
      "0   chromedriver                        0x0000000103211e82 chromedriver + 6696578\n",
      "1   chromedriver                        0x0000000103209c9a chromedriver + 6663322\n",
      "2   chromedriver                        0x0000000102c11e3e chromedriver + 405054\n",
      "3   chromedriver                        0x0000000102c62815 chromedriver + 735253\n",
      "4   chromedriver                        0x0000000102c62d11 chromedriver + 736529\n",
      "5   chromedriver                        0x0000000102cad314 chromedriver + 1041172\n",
      "6   chromedriver                        0x0000000102c8789d chromedriver + 886941\n",
      "7   chromedriver                        0x0000000102caa3f4 chromedriver + 1029108\n",
      "8   chromedriver                        0x0000000102c87613 chromedriver + 886291\n",
      "9   chromedriver                        0x0000000102c54950 chromedriver + 678224\n",
      "10  chromedriver                        0x0000000102c5534e chromedriver + 680782\n",
      "11  chromedriver                        0x00000001031df770 chromedriver + 6489968\n",
      "12  chromedriver                        0x00000001031e2219 chromedriver + 6500889\n",
      "13  chromedriver                        0x00000001031e1d3b chromedriver + 6499643\n",
      "14  chromedriver                        0x00000001031e26a5 chromedriver + 6502053\n",
      "15  chromedriver                        0x00000001031ca524 chromedriver + 6403364\n",
      "16  chromedriver                        0x00000001031e298f chromedriver + 6502799\n",
      "17  chromedriver                        0x00000001031bb954 chromedriver + 6342996\n",
      "18  chromedriver                        0x00000001031fa378 chromedriver + 6599544\n",
      "19  chromedriver                        0x00000001031fa535 chromedriver + 6599989\n",
      "20  chromedriver                        0x0000000103209868 chromedriver + 6662248\n",
      "21  libsystem_pthread.dylib             0x00007ff81275f253 _pthread_start + 99\n",
      "22  libsystem_pthread.dylib             0x00007ff81275abef thread_start + 15\n",
      "\n"
     ]
    },
    {
     "name": "stderr",
     "output_type": "stream",
     "text": [
      "Extraction successful for xy1-2:   1%|▏         | 54/3739 [1:27:52<97:11:18, 94.95s/it]  "
     ]
    },
    {
     "name": "stdout",
     "output_type": "stream",
     "text": [
      "Browser session terminated\n",
      "Selecting Reverse Holofoil\n"
     ]
    },
    {
     "name": "stderr",
     "output_type": "stream",
     "text": [
      "Extraction successful for ex8-2:   1%|▏         | 55/3739 [1:29:19<94:37:59, 92.48s/it]"
     ]
    },
    {
     "name": "stdout",
     "output_type": "stream",
     "text": [
      "Browser session terminated\n",
      "Selecting Normal (Holofoil)\n",
      "Click failed for //span[@class=\"checkbox__option-value checkbox__option-value-mobile\" and text()=\"Normal\"]: Message: \n",
      "Stacktrace:\n",
      "0   chromedriver                        0x00000001013e5e82 chromedriver + 6696578\n",
      "1   chromedriver                        0x00000001013ddc9a chromedriver + 6663322\n",
      "2   chromedriver                        0x0000000100de5e3e chromedriver + 405054\n",
      "3   chromedriver                        0x0000000100e36815 chromedriver + 735253\n",
      "4   chromedriver                        0x0000000100e36d11 chromedriver + 736529\n",
      "5   chromedriver                        0x0000000100e81314 chromedriver + 1041172\n",
      "6   chromedriver                        0x0000000100e5b89d chromedriver + 886941\n",
      "7   chromedriver                        0x0000000100e7e3f4 chromedriver + 1029108\n",
      "8   chromedriver                        0x0000000100e5b613 chromedriver + 886291\n",
      "9   chromedriver                        0x0000000100e28950 chromedriver + 678224\n",
      "10  chromedriver                        0x0000000100e2934e chromedriver + 680782\n",
      "11  chromedriver                        0x00000001013b3770 chromedriver + 6489968\n",
      "12  chromedriver                        0x00000001013b6219 chromedriver + 6500889\n",
      "13  chromedriver                        0x00000001013b5d3b chromedriver + 6499643\n",
      "14  chromedriver                        0x00000001013b66a5 chromedriver + 6502053\n",
      "15  chromedriver                        0x000000010139e524 chromedriver + 6403364\n",
      "16  chromedriver                        0x00000001013b698f chromedriver + 6502799\n",
      "17  chromedriver                        0x000000010138f954 chromedriver + 6342996\n",
      "18  chromedriver                        0x00000001013ce378 chromedriver + 6599544\n",
      "19  chromedriver                        0x00000001013ce535 chromedriver + 6599989\n",
      "20  chromedriver                        0x00000001013dd868 chromedriver + 6662248\n",
      "21  libsystem_pthread.dylib             0x00007ff81275f253 _pthread_start + 99\n",
      "22  libsystem_pthread.dylib             0x00007ff81275abef thread_start + 15\n",
      "\n"
     ]
    },
    {
     "name": "stderr",
     "output_type": "stream",
     "text": [
      "Extraction successful for col1-3:   1%|▏         | 56/3739 [1:31:10<100:18:39, 98.05s/it]"
     ]
    },
    {
     "name": "stdout",
     "output_type": "stream",
     "text": [
      "Browser session terminated\n",
      "Selecting Reverse Holofoil\n"
     ]
    },
    {
     "name": "stderr",
     "output_type": "stream",
     "text": [
      "Extraction successful for base6-2:   2%|▏         | 57/3739 [1:32:31<95:11:03, 93.06s/it] "
     ]
    },
    {
     "name": "stdout",
     "output_type": "stream",
     "text": [
      "Browser session terminated\n",
      "Click failed for //span[@class=\"checkbox__option-value checkbox__option-value-mobile\" and text()=\"Normal\"]: Message: \n",
      "Stacktrace:\n",
      "0   chromedriver                        0x0000000100c75e82 chromedriver + 6696578\n",
      "1   chromedriver                        0x0000000100c6dc9a chromedriver + 6663322\n",
      "2   chromedriver                        0x0000000100675e3e chromedriver + 405054\n",
      "3   chromedriver                        0x00000001006c6815 chromedriver + 735253\n",
      "4   chromedriver                        0x00000001006c6d11 chromedriver + 736529\n",
      "5   chromedriver                        0x0000000100711314 chromedriver + 1041172\n",
      "6   chromedriver                        0x00000001006eb89d chromedriver + 886941\n",
      "7   chromedriver                        0x000000010070e3f4 chromedriver + 1029108\n",
      "8   chromedriver                        0x00000001006eb613 chromedriver + 886291\n",
      "9   chromedriver                        0x00000001006b8950 chromedriver + 678224\n",
      "10  chromedriver                        0x00000001006b934e chromedriver + 680782\n",
      "11  chromedriver                        0x0000000100c43770 chromedriver + 6489968\n",
      "12  chromedriver                        0x0000000100c46219 chromedriver + 6500889\n",
      "13  chromedriver                        0x0000000100c45d3b chromedriver + 6499643\n",
      "14  chromedriver                        0x0000000100c466a5 chromedriver + 6502053\n",
      "15  chromedriver                        0x0000000100c2e524 chromedriver + 6403364\n",
      "16  chromedriver                        0x0000000100c4698f chromedriver + 6502799\n",
      "17  chromedriver                        0x0000000100c1f954 chromedriver + 6342996\n",
      "18  chromedriver                        0x0000000100c5e378 chromedriver + 6599544\n",
      "19  chromedriver                        0x0000000100c5e535 chromedriver + 6599989\n",
      "20  chromedriver                        0x0000000100c6d868 chromedriver + 6662248\n",
      "21  libsystem_pthread.dylib             0x00007ff81275f253 _pthread_start + 99\n",
      "22  libsystem_pthread.dylib             0x00007ff81275abef thread_start + 15\n",
      "\n"
     ]
    },
    {
     "name": "stderr",
     "output_type": "stream",
     "text": [
      "Extraction successful for base4-4:   2%|▏         | 58/3739 [1:34:32<103:29:58, 101.22s/it]"
     ]
    },
    {
     "name": "stdout",
     "output_type": "stream",
     "text": [
      "Browser session terminated\n",
      "Selecting Reverse Holofoil\n"
     ]
    },
    {
     "name": "stderr",
     "output_type": "stream",
     "text": [
      "Extraction successful for ex7-4:   2%|▏         | 59/3739 [1:35:58<98:58:52, 96.83s/it]    "
     ]
    },
    {
     "name": "stdout",
     "output_type": "stream",
     "text": [
      "Browser session terminated\n",
      "Selecting Reverse Holofoil\n"
     ]
    },
    {
     "name": "stderr",
     "output_type": "stream",
     "text": [
      "Extraction successful for ex11-5:   2%|▏         | 60/3739 [1:37:23<95:20:57, 93.30s/it]"
     ]
    },
    {
     "name": "stdout",
     "output_type": "stream",
     "text": [
      "Browser session terminated\n",
      "Selecting Reverse Holofoil\n"
     ]
    },
    {
     "name": "stderr",
     "output_type": "stream",
     "text": [
      "Extraction successful for ex10-2:   2%|▏         | 61/3739 [1:38:49<93:05:08, 91.11s/it]"
     ]
    },
    {
     "name": "stdout",
     "output_type": "stream",
     "text": [
      "Browser session terminated\n",
      "Selecting Normal (Holofoil)\n",
      "Click failed for //span[@class=\"checkbox__option-value checkbox__option-value-mobile\" and text()=\"Normal\"]: Message: \n",
      "Stacktrace:\n",
      "0   chromedriver                        0x00000001046eae82 chromedriver + 6696578\n",
      "1   chromedriver                        0x00000001046e2c9a chromedriver + 6663322\n",
      "2   chromedriver                        0x00000001040eae3e chromedriver + 405054\n",
      "3   chromedriver                        0x000000010413b815 chromedriver + 735253\n",
      "4   chromedriver                        0x000000010413bd11 chromedriver + 736529\n",
      "5   chromedriver                        0x0000000104186314 chromedriver + 1041172\n",
      "6   chromedriver                        0x000000010416089d chromedriver + 886941\n",
      "7   chromedriver                        0x00000001041833f4 chromedriver + 1029108\n",
      "8   chromedriver                        0x0000000104160613 chromedriver + 886291\n",
      "9   chromedriver                        0x000000010412d950 chromedriver + 678224\n",
      "10  chromedriver                        0x000000010412e34e chromedriver + 680782\n",
      "11  chromedriver                        0x00000001046b8770 chromedriver + 6489968\n",
      "12  chromedriver                        0x00000001046bb219 chromedriver + 6500889\n",
      "13  chromedriver                        0x00000001046bad3b chromedriver + 6499643\n",
      "14  chromedriver                        0x00000001046bb6a5 chromedriver + 6502053\n",
      "15  chromedriver                        0x00000001046a3524 chromedriver + 6403364\n",
      "16  chromedriver                        0x00000001046bb98f chromedriver + 6502799\n",
      "17  chromedriver                        0x0000000104694954 chromedriver + 6342996\n",
      "18  chromedriver                        0x00000001046d3378 chromedriver + 6599544\n",
      "19  chromedriver                        0x00000001046d3535 chromedriver + 6599989\n",
      "20  chromedriver                        0x00000001046e2868 chromedriver + 6662248\n",
      "21  libsystem_pthread.dylib             0x00007ff81275f253 _pthread_start + 99\n",
      "22  libsystem_pthread.dylib             0x00007ff81275abef thread_start + 15\n",
      "\n"
     ]
    },
    {
     "name": "stderr",
     "output_type": "stream",
     "text": [
      "Extraction successful for pl1-5:   2%|▏         | 62/3739 [1:40:45<100:29:39, 98.39s/it]"
     ]
    },
    {
     "name": "stdout",
     "output_type": "stream",
     "text": [
      "Browser session terminated\n",
      "Selecting Reverse Holofoil\n"
     ]
    },
    {
     "name": "stderr",
     "output_type": "stream",
     "text": [
      "Extraction successful for hgss2-1:   2%|▏         | 63/3739 [1:42:12<97:01:49, 95.02s/it] "
     ]
    },
    {
     "name": "stdout",
     "output_type": "stream",
     "text": [
      "Browser session terminated\n",
      "Selecting Reverse Holofoil\n"
     ]
    },
    {
     "name": "stderr",
     "output_type": "stream",
     "text": [
      "Extraction successful for pl4-1:   2%|▏         | 64/3739 [1:43:40<94:51:25, 92.92s/it]  "
     ]
    },
    {
     "name": "stdout",
     "output_type": "stream",
     "text": [
      "Browser session terminated\n",
      "Selecting Normal (Holofoil)\n",
      "Click failed for //span[@class=\"checkbox__option-value checkbox__option-value-mobile\" and text()=\"Normal\"]: Message: \n",
      "Stacktrace:\n",
      "0   chromedriver                        0x00000001047c1e82 chromedriver + 6696578\n",
      "1   chromedriver                        0x00000001047b9c9a chromedriver + 6663322\n",
      "2   chromedriver                        0x00000001041c1e3e chromedriver + 405054\n",
      "3   chromedriver                        0x0000000104212815 chromedriver + 735253\n",
      "4   chromedriver                        0x0000000104212d11 chromedriver + 736529\n",
      "5   chromedriver                        0x000000010425d314 chromedriver + 1041172\n",
      "6   chromedriver                        0x000000010423789d chromedriver + 886941\n",
      "7   chromedriver                        0x000000010425a3f4 chromedriver + 1029108\n",
      "8   chromedriver                        0x0000000104237613 chromedriver + 886291\n",
      "9   chromedriver                        0x0000000104204950 chromedriver + 678224\n",
      "10  chromedriver                        0x000000010420534e chromedriver + 680782\n",
      "11  chromedriver                        0x000000010478f770 chromedriver + 6489968\n",
      "12  chromedriver                        0x0000000104792219 chromedriver + 6500889\n",
      "13  chromedriver                        0x0000000104791d3b chromedriver + 6499643\n",
      "14  chromedriver                        0x00000001047926a5 chromedriver + 6502053\n",
      "15  chromedriver                        0x000000010477a524 chromedriver + 6403364\n",
      "16  chromedriver                        0x000000010479298f chromedriver + 6502799\n",
      "17  chromedriver                        0x000000010476b954 chromedriver + 6342996\n",
      "18  chromedriver                        0x00000001047aa378 chromedriver + 6599544\n",
      "19  chromedriver                        0x00000001047aa535 chromedriver + 6599989\n",
      "20  chromedriver                        0x00000001047b9868 chromedriver + 6662248\n",
      "21  libsystem_pthread.dylib             0x00007ff81275f253 _pthread_start + 99\n",
      "22  libsystem_pthread.dylib             0x00007ff81275abef thread_start + 15\n",
      "\n"
     ]
    },
    {
     "name": "stderr",
     "output_type": "stream",
     "text": [
      "Extraction successful for ex9-3:   2%|▏         | 65/3739 [1:45:37<102:06:19, 100.05s/it]"
     ]
    },
    {
     "name": "stdout",
     "output_type": "stream",
     "text": [
      "Browser session terminated\n"
     ]
    }
   ],
   "source": [
    "sequential_price_extraction(df)"
   ]
  },
  {
   "cell_type": "code",
   "execution_count": null,
   "metadata": {},
   "outputs": [],
   "source": []
  },
  {
   "cell_type": "code",
   "execution_count": null,
   "metadata": {},
   "outputs": [],
   "source": []
  }
 ],
 "metadata": {
  "kernelspec": {
   "display_name": "pokemon_card",
   "language": "python",
   "name": "python3"
  },
  "language_info": {
   "codemirror_mode": {
    "name": "ipython",
    "version": 3
   },
   "file_extension": ".py",
   "mimetype": "text/x-python",
   "name": "python",
   "nbconvert_exporter": "python",
   "pygments_lexer": "ipython3",
   "version": "3.9.20"
  }
 },
 "nbformat": 4,
 "nbformat_minor": 2
}
