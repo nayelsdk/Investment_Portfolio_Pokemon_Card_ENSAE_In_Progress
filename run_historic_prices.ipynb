{
 "cells": [
  {
   "cell_type": "code",
   "execution_count": 2,
   "metadata": {},
   "outputs": [
    {
     "name": "stdout",
     "output_type": "stream",
     "text": [
      "Intel MKL WARNING: Support of Intel(R) Streaming SIMD Extensions 4.2 (Intel(R) SSE4.2) enabled only processors has been deprecated. Intel oneAPI Math Kernel Library 2025.0 will require Intel(R) Advanced Vector Extensions (Intel(R) AVX) instructions.\n",
      "Intel MKL WARNING: Support of Intel(R) Streaming SIMD Extensions 4.2 (Intel(R) SSE4.2) enabled only processors has been deprecated. Intel oneAPI Math Kernel Library 2025.0 will require Intel(R) Advanced Vector Extensions (Intel(R) AVX) instructions.\n"
     ]
    }
   ],
   "source": [
    "from PokemonCardManager import *\n",
    "from GetHistoricCardPrices import save_historic_prices"
   ]
  },
  {
   "cell_type": "code",
   "execution_count": 3,
   "metadata": {},
   "outputs": [],
   "source": [
    "df=pd.read_csv('pokemon_cards.csv')"
   ]
  },
  {
   "cell_type": "code",
   "execution_count": 4,
   "metadata": {},
   "outputs": [
    {
     "name": "stderr",
     "output_type": "stream",
     "text": [
      "Price Extraction:   3%|▎         | 130/3739 [03:04<2:14:42,  2.24s/it, Processing pop5-3]       "
     ]
    },
    {
     "name": "stdout",
     "output_type": "stream",
     "text": [
      "Click failed for //label[span[text()=\"Near Mint\"]]: Message: \n",
      "Stacktrace:\n",
      "0   chromedriver                        0x00000001008a7e82 chromedriver + 6696578\n",
      "1   chromedriver                        0x000000010089fc9a chromedriver + 6663322\n",
      "2   chromedriver                        0x00000001002a7e3e chromedriver + 405054\n",
      "3   chromedriver                        0x00000001002f8815 chromedriver + 735253\n",
      "4   chromedriver                        0x00000001002f8d11 chromedriver + 736529\n",
      "5   chromedriver                        0x0000000100343314 chromedriver + 1041172\n",
      "6   chromedriver                        0x000000010031d89d chromedriver + 886941\n",
      "7   chromedriver                        0x00000001003403f4 chromedriver + 1029108\n",
      "8   chromedriver                        0x000000010031d613 chromedriver + 886291\n",
      "9   chromedriver                        0x00000001002ea950 chromedriver + 678224\n",
      "10  chromedriver                        0x00000001002eb34e chromedriver + 680782\n",
      "11  chromedriver                        0x0000000100875770 chromedriver + 6489968\n",
      "12  chromedriver                        0x0000000100878219 chromedriver + 6500889\n",
      "13  chromedriver                        0x0000000100877d3b chromedriver + 6499643\n",
      "14  chromedriver                        0x00000001008786a5 chromedriver + 6502053\n",
      "15  chromedriver                        0x0000000100860524 chromedriver + 6403364\n",
      "16  chromedriver                        0x000000010087898f chromedriver + 6502799\n",
      "17  chromedriver                        0x0000000100851954 chromedriver + 6342996\n",
      "18  chromedriver                        0x0000000100890378 chromedriver + 6599544\n",
      "19  chromedriver                        0x0000000100890535 chromedriver + 6599989\n",
      "20  chromedriver                        0x000000010089f868 chromedriver + 6662248\n",
      "21  libsystem_pthread.dylib             0x00007ff80b5b7253 _pthread_start + 99\n",
      "22  libsystem_pthread.dylib             0x00007ff80b5b2bef thread_start + 15\n",
      "\n",
      "Click failed for selector: //label[span[text()=\"Near Mint\"]]\n"
     ]
    },
    {
     "name": "stderr",
     "output_type": "stream",
     "text": [
      "Price Extraction:  12%|█▏        | 458/3739 [12:50<5:52:47,  6.45s/it, Processing ecard2-H17]         "
     ]
    },
    {
     "name": "stdout",
     "output_type": "stream",
     "text": [
      "Click failed for //label[span[text()=\"Near Mint\"]]: Message: \n",
      "Stacktrace:\n",
      "0   chromedriver                        0x0000000100ee9e82 chromedriver + 6696578\n",
      "1   chromedriver                        0x0000000100ee1c9a chromedriver + 6663322\n",
      "2   chromedriver                        0x00000001008e9e3e chromedriver + 405054\n",
      "3   chromedriver                        0x000000010093a815 chromedriver + 735253\n",
      "4   chromedriver                        0x000000010093ad11 chromedriver + 736529\n",
      "5   chromedriver                        0x0000000100985314 chromedriver + 1041172\n",
      "6   chromedriver                        0x000000010095f89d chromedriver + 886941\n",
      "7   chromedriver                        0x00000001009823f4 chromedriver + 1029108\n",
      "8   chromedriver                        0x000000010095f613 chromedriver + 886291\n",
      "9   chromedriver                        0x000000010092c950 chromedriver + 678224\n",
      "10  chromedriver                        0x000000010092d34e chromedriver + 680782\n",
      "11  chromedriver                        0x0000000100eb7770 chromedriver + 6489968\n",
      "12  chromedriver                        0x0000000100eba219 chromedriver + 6500889\n",
      "13  chromedriver                        0x0000000100eb9d3b chromedriver + 6499643\n",
      "14  chromedriver                        0x0000000100eba6a5 chromedriver + 6502053\n",
      "15  chromedriver                        0x0000000100ea2524 chromedriver + 6403364\n",
      "16  chromedriver                        0x0000000100eba98f chromedriver + 6502799\n",
      "17  chromedriver                        0x0000000100e93954 chromedriver + 6342996\n",
      "18  chromedriver                        0x0000000100ed2378 chromedriver + 6599544\n",
      "19  chromedriver                        0x0000000100ed2535 chromedriver + 6599989\n",
      "20  chromedriver                        0x0000000100ee1868 chromedriver + 6662248\n",
      "21  libsystem_pthread.dylib             0x00007ff80b5b7253 _pthread_start + 99\n",
      "22  libsystem_pthread.dylib             0x00007ff80b5b2bef thread_start + 15\n",
      "\n",
      "Click failed for selector: //label[span[text()=\"Near Mint\"]]\n"
     ]
    },
    {
     "name": "stderr",
     "output_type": "stream",
     "text": [
      "Price Extraction:  14%|█▍        | 515/3739 [18:39<4:06:06,  4.58s/it, Processing dpp-DP18]        "
     ]
    },
    {
     "name": "stdout",
     "output_type": "stream",
     "text": [
      "Click failed for //label[span[text()=\"Near Mint\"]]: Message: \n",
      "Stacktrace:\n",
      "0   chromedriver                        0x00000001055b5e82 chromedriver + 6696578\n",
      "1   chromedriver                        0x00000001055adc9a chromedriver + 6663322\n",
      "2   chromedriver                        0x0000000104fb5e3e chromedriver + 405054\n",
      "3   chromedriver                        0x0000000105006815 chromedriver + 735253\n",
      "4   chromedriver                        0x0000000105006d11 chromedriver + 736529\n",
      "5   chromedriver                        0x0000000105051314 chromedriver + 1041172\n",
      "6   chromedriver                        0x000000010502b89d chromedriver + 886941\n",
      "7   chromedriver                        0x000000010504e3f4 chromedriver + 1029108\n",
      "8   chromedriver                        0x000000010502b613 chromedriver + 886291\n",
      "9   chromedriver                        0x0000000104ff8950 chromedriver + 678224\n",
      "10  chromedriver                        0x0000000104ff934e chromedriver + 680782\n",
      "11  chromedriver                        0x0000000105583770 chromedriver + 6489968\n",
      "12  chromedriver                        0x0000000105586219 chromedriver + 6500889\n",
      "13  chromedriver                        0x0000000105585d3b chromedriver + 6499643\n",
      "14  chromedriver                        0x00000001055866a5 chromedriver + 6502053\n",
      "15  chromedriver                        0x000000010556e524 chromedriver + 6403364\n",
      "16  chromedriver                        0x000000010558698f chromedriver + 6502799\n",
      "17  chromedriver                        0x000000010555f954 chromedriver + 6342996\n",
      "18  chromedriver                        0x000000010559e378 chromedriver + 6599544\n",
      "19  chromedriver                        0x000000010559e535 chromedriver + 6599989\n",
      "20  chromedriver                        0x00000001055ad868 chromedriver + 6662248\n",
      "21  libsystem_pthread.dylib             0x00007ff80b5b7253 _pthread_start + 99\n",
      "22  libsystem_pthread.dylib             0x00007ff80b5b2bef thread_start + 15\n",
      "\n",
      "Click failed for selector: //label[span[text()=\"Near Mint\"]]\n"
     ]
    },
    {
     "name": "stderr",
     "output_type": "stream",
     "text": [
      "Price Extraction:  14%|█▍        | 526/3739 [20:43<6:12:47,  6.96s/it, Processing pop1-17]         "
     ]
    },
    {
     "name": "stdout",
     "output_type": "stream",
     "text": [
      "Click failed for //label[span[text()=\"Near Mint\"]]: Message: \n",
      "Stacktrace:\n",
      "0   chromedriver                        0x0000000102665e82 chromedriver + 6696578\n",
      "1   chromedriver                        0x000000010265dc9a chromedriver + 6663322\n",
      "2   chromedriver                        0x0000000102065e3e chromedriver + 405054\n",
      "3   chromedriver                        0x00000001020b6815 chromedriver + 735253\n",
      "4   chromedriver                        0x00000001020b6d11 chromedriver + 736529\n",
      "5   chromedriver                        0x0000000102101314 chromedriver + 1041172\n",
      "6   chromedriver                        0x00000001020db89d chromedriver + 886941\n",
      "7   chromedriver                        0x00000001020fe3f4 chromedriver + 1029108\n",
      "8   chromedriver                        0x00000001020db613 chromedriver + 886291\n",
      "9   chromedriver                        0x00000001020a8950 chromedriver + 678224\n",
      "10  chromedriver                        0x00000001020a934e chromedriver + 680782\n",
      "11  chromedriver                        0x0000000102633770 chromedriver + 6489968\n",
      "12  chromedriver                        0x0000000102636219 chromedriver + 6500889\n",
      "13  chromedriver                        0x0000000102635d3b chromedriver + 6499643\n",
      "14  chromedriver                        0x00000001026366a5 chromedriver + 6502053\n",
      "15  chromedriver                        0x000000010261e524 chromedriver + 6403364\n",
      "16  chromedriver                        0x000000010263698f chromedriver + 6502799\n",
      "17  chromedriver                        0x000000010260f954 chromedriver + 6342996\n",
      "18  chromedriver                        0x000000010264e378 chromedriver + 6599544\n",
      "19  chromedriver                        0x000000010264e535 chromedriver + 6599989\n",
      "20  chromedriver                        0x000000010265d868 chromedriver + 6662248\n",
      "21  libsystem_pthread.dylib             0x00007ff80b5b7253 _pthread_start + 99\n",
      "22  libsystem_pthread.dylib             0x00007ff80b5b2bef thread_start + 15\n",
      "\n",
      "Click failed for selector: //label[span[text()=\"Near Mint\"]]\n"
     ]
    },
    {
     "name": "stderr",
     "output_type": "stream",
     "text": [
      "Price Extraction:  14%|█▍        | 529/3739 [22:48<11:28:33, 12.87s/it, Processing bw5-13]         "
     ]
    },
    {
     "name": "stdout",
     "output_type": "stream",
     "text": [
      "Click failed for //label[span[text()=\"Near Mint\"]]: Message: \n",
      "Stacktrace:\n",
      "0   chromedriver                        0x0000000102a17e82 chromedriver + 6696578\n",
      "1   chromedriver                        0x0000000102a0fc9a chromedriver + 6663322\n",
      "2   chromedriver                        0x0000000102417e3e chromedriver + 405054\n",
      "3   chromedriver                        0x0000000102468815 chromedriver + 735253\n",
      "4   chromedriver                        0x0000000102468d11 chromedriver + 736529\n",
      "5   chromedriver                        0x00000001024b3314 chromedriver + 1041172\n",
      "6   chromedriver                        0x000000010248d89d chromedriver + 886941\n",
      "7   chromedriver                        0x00000001024b03f4 chromedriver + 1029108\n",
      "8   chromedriver                        0x000000010248d613 chromedriver + 886291\n",
      "9   chromedriver                        0x000000010245a950 chromedriver + 678224\n",
      "10  chromedriver                        0x000000010245b34e chromedriver + 680782\n",
      "11  chromedriver                        0x00000001029e5770 chromedriver + 6489968\n",
      "12  chromedriver                        0x00000001029e8219 chromedriver + 6500889\n",
      "13  chromedriver                        0x00000001029e7d3b chromedriver + 6499643\n",
      "14  chromedriver                        0x00000001029e86a5 chromedriver + 6502053\n",
      "15  chromedriver                        0x00000001029d0524 chromedriver + 6403364\n",
      "16  chromedriver                        0x00000001029e898f chromedriver + 6502799\n",
      "17  chromedriver                        0x00000001029c1954 chromedriver + 6342996\n",
      "18  chromedriver                        0x0000000102a00378 chromedriver + 6599544\n",
      "19  chromedriver                        0x0000000102a00535 chromedriver + 6599989\n",
      "20  chromedriver                        0x0000000102a0f868 chromedriver + 6662248\n",
      "21  libsystem_pthread.dylib             0x00007ff80b5b7253 _pthread_start + 99\n",
      "22  libsystem_pthread.dylib             0x00007ff80b5b2bef thread_start + 15\n",
      "\n",
      "Click failed for selector: //label[span[text()=\"Near Mint\"]]\n"
     ]
    },
    {
     "name": "stderr",
     "output_type": "stream",
     "text": [
      "Price Extraction:  14%|█▍        | 536/3739 [24:50<13:29:00, 15.15s/it, Processing smp-SM11]    "
     ]
    },
    {
     "name": "stdout",
     "output_type": "stream",
     "text": [
      "Click failed for //label[span[text()=\"Near Mint\"]]: Message: \n",
      "Stacktrace:\n",
      "0   chromedriver                        0x00000001012e0e82 chromedriver + 6696578\n",
      "1   chromedriver                        0x00000001012d8c9a chromedriver + 6663322\n",
      "2   chromedriver                        0x0000000100ce0e3e chromedriver + 405054\n",
      "3   chromedriver                        0x0000000100d31815 chromedriver + 735253\n",
      "4   chromedriver                        0x0000000100d31d11 chromedriver + 736529\n",
      "5   chromedriver                        0x0000000100d7c314 chromedriver + 1041172\n",
      "6   chromedriver                        0x0000000100d5689d chromedriver + 886941\n",
      "7   chromedriver                        0x0000000100d793f4 chromedriver + 1029108\n",
      "8   chromedriver                        0x0000000100d56613 chromedriver + 886291\n",
      "9   chromedriver                        0x0000000100d23950 chromedriver + 678224\n",
      "10  chromedriver                        0x0000000100d2434e chromedriver + 680782\n",
      "11  chromedriver                        0x00000001012ae770 chromedriver + 6489968\n",
      "12  chromedriver                        0x00000001012b1219 chromedriver + 6500889\n",
      "13  chromedriver                        0x00000001012b0d3b chromedriver + 6499643\n",
      "14  chromedriver                        0x00000001012b16a5 chromedriver + 6502053\n",
      "15  chromedriver                        0x0000000101299524 chromedriver + 6403364\n",
      "16  chromedriver                        0x00000001012b198f chromedriver + 6502799\n",
      "17  chromedriver                        0x000000010128a954 chromedriver + 6342996\n",
      "18  chromedriver                        0x00000001012c9378 chromedriver + 6599544\n",
      "19  chromedriver                        0x00000001012c9535 chromedriver + 6599989\n",
      "20  chromedriver                        0x00000001012d8868 chromedriver + 6662248\n",
      "21  libsystem_pthread.dylib             0x00007ff80b5b7253 _pthread_start + 99\n",
      "22  libsystem_pthread.dylib             0x00007ff80b5b2bef thread_start + 15\n",
      "\n",
      "Click failed for selector: //label[span[text()=\"Near Mint\"]]\n"
     ]
    },
    {
     "name": "stderr",
     "output_type": "stream",
     "text": [
      "Price Extraction:  19%|█▉        | 724/3739 [31:36<3:40:06,  4.38s/it, Processing hsp-HGSS14]         "
     ]
    },
    {
     "name": "stdout",
     "output_type": "stream",
     "text": [
      "Click failed for //label[span[text()=\"Near Mint\"]]: Message: \n",
      "Stacktrace:\n",
      "0   chromedriver                        0x00000001054ebe82 chromedriver + 6696578\n",
      "1   chromedriver                        0x00000001054e3c9a chromedriver + 6663322\n",
      "2   chromedriver                        0x0000000104eebe3e chromedriver + 405054\n",
      "3   chromedriver                        0x0000000104f3c815 chromedriver + 735253\n",
      "4   chromedriver                        0x0000000104f3cd11 chromedriver + 736529\n",
      "5   chromedriver                        0x0000000104f87314 chromedriver + 1041172\n",
      "6   chromedriver                        0x0000000104f6189d chromedriver + 886941\n",
      "7   chromedriver                        0x0000000104f843f4 chromedriver + 1029108\n",
      "8   chromedriver                        0x0000000104f61613 chromedriver + 886291\n",
      "9   chromedriver                        0x0000000104f2e950 chromedriver + 678224\n",
      "10  chromedriver                        0x0000000104f2f34e chromedriver + 680782\n",
      "11  chromedriver                        0x00000001054b9770 chromedriver + 6489968\n",
      "12  chromedriver                        0x00000001054bc219 chromedriver + 6500889\n",
      "13  chromedriver                        0x00000001054bbd3b chromedriver + 6499643\n",
      "14  chromedriver                        0x00000001054bc6a5 chromedriver + 6502053\n",
      "15  chromedriver                        0x00000001054a4524 chromedriver + 6403364\n",
      "16  chromedriver                        0x00000001054bc98f chromedriver + 6502799\n",
      "17  chromedriver                        0x0000000105495954 chromedriver + 6342996\n",
      "18  chromedriver                        0x00000001054d4378 chromedriver + 6599544\n",
      "19  chromedriver                        0x00000001054d4535 chromedriver + 6599989\n",
      "20  chromedriver                        0x00000001054e3868 chromedriver + 6662248\n",
      "21  libsystem_pthread.dylib             0x00007ff80b5b7253 _pthread_start + 99\n",
      "22  libsystem_pthread.dylib             0x00007ff80b5b2bef thread_start + 15\n",
      "\n",
      "Click failed for selector: //label[span[text()=\"Near Mint\"]]\n"
     ]
    },
    {
     "name": "stderr",
     "output_type": "stream",
     "text": [
      "Price Extraction:  20%|█▉        | 736/3739 [33:41<5:15:34,  6.31s/it, Processing ecard3-H23]      "
     ]
    },
    {
     "name": "stdout",
     "output_type": "stream",
     "text": [
      "Click failed for //label[span[text()=\"Near Mint\"]]: Message: \n",
      "Stacktrace:\n",
      "0   chromedriver                        0x0000000104a6fe82 chromedriver + 6696578\n",
      "1   chromedriver                        0x0000000104a67c9a chromedriver + 6663322\n",
      "2   chromedriver                        0x000000010446fe3e chromedriver + 405054\n",
      "3   chromedriver                        0x00000001044c0815 chromedriver + 735253\n",
      "4   chromedriver                        0x00000001044c0d11 chromedriver + 736529\n",
      "5   chromedriver                        0x000000010450b314 chromedriver + 1041172\n",
      "6   chromedriver                        0x00000001044e589d chromedriver + 886941\n",
      "7   chromedriver                        0x00000001045083f4 chromedriver + 1029108\n",
      "8   chromedriver                        0x00000001044e5613 chromedriver + 886291\n",
      "9   chromedriver                        0x00000001044b2950 chromedriver + 678224\n",
      "10  chromedriver                        0x00000001044b334e chromedriver + 680782\n",
      "11  chromedriver                        0x0000000104a3d770 chromedriver + 6489968\n",
      "12  chromedriver                        0x0000000104a40219 chromedriver + 6500889\n",
      "13  chromedriver                        0x0000000104a3fd3b chromedriver + 6499643\n",
      "14  chromedriver                        0x0000000104a406a5 chromedriver + 6502053\n",
      "15  chromedriver                        0x0000000104a28524 chromedriver + 6403364\n",
      "16  chromedriver                        0x0000000104a4098f chromedriver + 6502799\n",
      "17  chromedriver                        0x0000000104a19954 chromedriver + 6342996\n",
      "18  chromedriver                        0x0000000104a58378 chromedriver + 6599544\n",
      "19  chromedriver                        0x0000000104a58535 chromedriver + 6599989\n",
      "20  chromedriver                        0x0000000104a67868 chromedriver + 6662248\n",
      "21  libsystem_pthread.dylib             0x00007ff80b5b7253 _pthread_start + 99\n",
      "22  libsystem_pthread.dylib             0x00007ff80b5b2bef thread_start + 15\n",
      "\n",
      "Click failed for selector: //label[span[text()=\"Near Mint\"]]\n"
     ]
    },
    {
     "name": "stderr",
     "output_type": "stream",
     "text": [
      "Price Extraction:  20%|██        | 755/3739 [37:47<7:39:46,  9.24s/it, Processing dp7-18]           "
     ]
    },
    {
     "name": "stdout",
     "output_type": "stream",
     "text": [
      "Click failed for //label[span[text()=\"Near Mint\"]]: Message: \n",
      "Stacktrace:\n",
      "0   chromedriver                        0x0000000102fb0e82 chromedriver + 6696578\n",
      "1   chromedriver                        0x0000000102fa8c9a chromedriver + 6663322\n",
      "2   chromedriver                        0x00000001029b0e3e chromedriver + 405054\n",
      "3   chromedriver                        0x0000000102a01815 chromedriver + 735253\n",
      "4   chromedriver                        0x0000000102a01d11 chromedriver + 736529\n",
      "5   chromedriver                        0x0000000102a4c314 chromedriver + 1041172\n",
      "6   chromedriver                        0x0000000102a2689d chromedriver + 886941\n",
      "7   chromedriver                        0x0000000102a493f4 chromedriver + 1029108\n",
      "8   chromedriver                        0x0000000102a26613 chromedriver + 886291\n",
      "9   chromedriver                        0x00000001029f3950 chromedriver + 678224\n",
      "10  chromedriver                        0x00000001029f434e chromedriver + 680782\n",
      "11  chromedriver                        0x0000000102f7e770 chromedriver + 6489968\n",
      "12  chromedriver                        0x0000000102f81219 chromedriver + 6500889\n",
      "13  chromedriver                        0x0000000102f80d3b chromedriver + 6499643\n",
      "14  chromedriver                        0x0000000102f816a5 chromedriver + 6502053\n",
      "15  chromedriver                        0x0000000102f69524 chromedriver + 6403364\n",
      "16  chromedriver                        0x0000000102f8198f chromedriver + 6502799\n",
      "17  chromedriver                        0x0000000102f5a954 chromedriver + 6342996\n",
      "18  chromedriver                        0x0000000102f99378 chromedriver + 6599544\n",
      "19  chromedriver                        0x0000000102f99535 chromedriver + 6599989\n",
      "20  chromedriver                        0x0000000102fa8868 chromedriver + 6662248\n",
      "21  libsystem_pthread.dylib             0x00007ff80b5b7253 _pthread_start + 99\n",
      "22  libsystem_pthread.dylib             0x00007ff80b5b2bef thread_start + 15\n",
      "\n",
      "Click failed for selector: //label[span[text()=\"Near Mint\"]]\n"
     ]
    },
    {
     "name": "stderr",
     "output_type": "stream",
     "text": [
      "Price Extraction:  22%|██▏       | 824/3739 [41:56<4:41:30,  5.79s/it, Processing dpp-DP28]        "
     ]
    },
    {
     "name": "stdout",
     "output_type": "stream",
     "text": [
      "Click failed for //label[span[text()=\"Near Mint\"]]: Message: \n",
      "Stacktrace:\n",
      "0   chromedriver                        0x0000000105315e82 chromedriver + 6696578\n",
      "1   chromedriver                        0x000000010530dc9a chromedriver + 6663322\n",
      "2   chromedriver                        0x0000000104d15e3e chromedriver + 405054\n",
      "3   chromedriver                        0x0000000104d66815 chromedriver + 735253\n",
      "4   chromedriver                        0x0000000104d66d11 chromedriver + 736529\n",
      "5   chromedriver                        0x0000000104db1314 chromedriver + 1041172\n",
      "6   chromedriver                        0x0000000104d8b89d chromedriver + 886941\n",
      "7   chromedriver                        0x0000000104dae3f4 chromedriver + 1029108\n",
      "8   chromedriver                        0x0000000104d8b613 chromedriver + 886291\n",
      "9   chromedriver                        0x0000000104d58950 chromedriver + 678224\n",
      "10  chromedriver                        0x0000000104d5934e chromedriver + 680782\n",
      "11  chromedriver                        0x00000001052e3770 chromedriver + 6489968\n",
      "12  chromedriver                        0x00000001052e6219 chromedriver + 6500889\n",
      "13  chromedriver                        0x00000001052e5d3b chromedriver + 6499643\n",
      "14  chromedriver                        0x00000001052e66a5 chromedriver + 6502053\n",
      "15  chromedriver                        0x00000001052ce524 chromedriver + 6403364\n",
      "16  chromedriver                        0x00000001052e698f chromedriver + 6502799\n",
      "17  chromedriver                        0x00000001052bf954 chromedriver + 6342996\n",
      "18  chromedriver                        0x00000001052fe378 chromedriver + 6599544\n",
      "19  chromedriver                        0x00000001052fe535 chromedriver + 6599989\n",
      "20  chromedriver                        0x000000010530d868 chromedriver + 6662248\n",
      "21  libsystem_pthread.dylib             0x00007ff80b5b7253 _pthread_start + 99\n",
      "22  libsystem_pthread.dylib             0x00007ff80b5b2bef thread_start + 15\n",
      "\n",
      "Click failed for selector: //label[span[text()=\"Near Mint\"]]\n"
     ]
    },
    {
     "name": "stderr",
     "output_type": "stream",
     "text": [
      "Price Extraction:  22%|██▏       | 825/3739 [42:11<4:31:52,  5.60s/it, Processing ecard2-H32]  "
     ]
    },
    {
     "name": "stdout",
     "output_type": "stream",
     "text": [
      "Click failed for //label[span[text()=\"Near Mint\"]]: Message: \n",
      "Stacktrace:\n",
      "0   chromedriver                        0x00000001006fee82 chromedriver + 6696578\n",
      "1   chromedriver                        0x00000001006f6c9a chromedriver + 6663322\n",
      "2   chromedriver                        0x00000001000fee3e chromedriver + 405054\n",
      "3   chromedriver                        0x000000010014f815 chromedriver + 735253\n",
      "4   chromedriver                        0x000000010014fd11 chromedriver + 736529\n",
      "5   chromedriver                        0x000000010019a314 chromedriver + 1041172\n",
      "6   chromedriver                        0x000000010017489d chromedriver + 886941\n",
      "7   chromedriver                        0x00000001001973f4 chromedriver + 1029108\n",
      "8   chromedriver                        0x0000000100174613 chromedriver + 886291\n",
      "9   chromedriver                        0x0000000100141950 chromedriver + 678224\n",
      "10  chromedriver                        0x000000010014234e chromedriver + 680782\n",
      "11  chromedriver                        0x00000001006cc770 chromedriver + 6489968\n",
      "12  chromedriver                        0x00000001006cf219 chromedriver + 6500889\n",
      "13  chromedriver                        0x00000001006ced3b chromedriver + 6499643\n",
      "14  chromedriver                        0x00000001006cf6a5 chromedriver + 6502053\n",
      "15  chromedriver                        0x00000001006b7524 chromedriver + 6403364\n",
      "16  chromedriver                        0x00000001006cf98f chromedriver + 6502799\n",
      "17  chromedriver                        0x00000001006a8954 chromedriver + 6342996\n",
      "18  chromedriver                        0x00000001006e7378 chromedriver + 6599544\n",
      "19  chromedriver                        0x00000001006e7535 chromedriver + 6599989\n",
      "20  chromedriver                        0x00000001006f6868 chromedriver + 6662248\n",
      "21  libsystem_pthread.dylib             0x00007ff80b5b7253 _pthread_start + 99\n",
      "22  libsystem_pthread.dylib             0x00007ff80b5b2bef thread_start + 15\n",
      "\n",
      "Click failed for selector: //label[span[text()=\"Near Mint\"]]\n"
     ]
    },
    {
     "name": "stderr",
     "output_type": "stream",
     "text": [
      "Price Extraction:  22%|██▏       | 833/3739 [45:50<11:30:16, 14.25s/it, Processing ecard3-H27]     "
     ]
    },
    {
     "name": "stdout",
     "output_type": "stream",
     "text": [
      "Click failed for //label[span[text()=\"Near Mint\"]]: Message: \n",
      "Stacktrace:\n",
      "0   chromedriver                        0x0000000101651e82 chromedriver + 6696578\n",
      "1   chromedriver                        0x0000000101649c9a chromedriver + 6663322\n",
      "2   chromedriver                        0x0000000101051e3e chromedriver + 405054\n",
      "3   chromedriver                        0x00000001010a2815 chromedriver + 735253\n",
      "4   chromedriver                        0x00000001010a2d11 chromedriver + 736529\n",
      "5   chromedriver                        0x00000001010ed314 chromedriver + 1041172\n",
      "6   chromedriver                        0x00000001010c789d chromedriver + 886941\n",
      "7   chromedriver                        0x00000001010ea3f4 chromedriver + 1029108\n",
      "8   chromedriver                        0x00000001010c7613 chromedriver + 886291\n",
      "9   chromedriver                        0x0000000101094950 chromedriver + 678224\n",
      "10  chromedriver                        0x000000010109534e chromedriver + 680782\n",
      "11  chromedriver                        0x000000010161f770 chromedriver + 6489968\n",
      "12  chromedriver                        0x0000000101622219 chromedriver + 6500889\n",
      "13  chromedriver                        0x0000000101621d3b chromedriver + 6499643\n",
      "14  chromedriver                        0x00000001016226a5 chromedriver + 6502053\n",
      "15  chromedriver                        0x000000010160a524 chromedriver + 6403364\n",
      "16  chromedriver                        0x000000010162298f chromedriver + 6502799\n",
      "17  chromedriver                        0x00000001015fb954 chromedriver + 6342996\n",
      "18  chromedriver                        0x000000010163a378 chromedriver + 6599544\n",
      "19  chromedriver                        0x000000010163a535 chromedriver + 6599989\n",
      "20  chromedriver                        0x0000000101649868 chromedriver + 6662248\n",
      "21  libsystem_pthread.dylib             0x00007ff80b5b7253 _pthread_start + 99\n",
      "22  libsystem_pthread.dylib             0x00007ff80b5b2bef thread_start + 15\n",
      "\n",
      "Click failed for selector: //label[span[text()=\"Near Mint\"]]\n"
     ]
    },
    {
     "name": "stderr",
     "output_type": "stream",
     "text": [
      "Price Extraction:  24%|██▍       | 902/3739 [47:01<1:15:56,  1.61s/it, Processing dpp-DP31]           "
     ]
    },
    {
     "name": "stdout",
     "output_type": "stream",
     "text": [
      "Click failed for //label[span[text()=\"Near Mint\"]]: Message: \n",
      "Stacktrace:\n",
      "0   chromedriver                        0x0000000104d7fe82 chromedriver + 6696578\n",
      "1   chromedriver                        0x0000000104d77c9a chromedriver + 6663322\n",
      "2   chromedriver                        0x000000010477fe3e chromedriver + 405054\n",
      "3   chromedriver                        0x00000001047d0815 chromedriver + 735253\n",
      "4   chromedriver                        0x00000001047d0d11 chromedriver + 736529\n",
      "5   chromedriver                        0x000000010481b314 chromedriver + 1041172\n",
      "6   chromedriver                        0x00000001047f589d chromedriver + 886941\n",
      "7   chromedriver                        0x00000001048183f4 chromedriver + 1029108\n",
      "8   chromedriver                        0x00000001047f5613 chromedriver + 886291\n",
      "9   chromedriver                        0x00000001047c2950 chromedriver + 678224\n",
      "10  chromedriver                        0x00000001047c334e chromedriver + 680782\n",
      "11  chromedriver                        0x0000000104d4d770 chromedriver + 6489968\n",
      "12  chromedriver                        0x0000000104d50219 chromedriver + 6500889\n",
      "13  chromedriver                        0x0000000104d4fd3b chromedriver + 6499643\n",
      "14  chromedriver                        0x0000000104d506a5 chromedriver + 6502053\n",
      "15  chromedriver                        0x0000000104d38524 chromedriver + 6403364\n",
      "16  chromedriver                        0x0000000104d5098f chromedriver + 6502799\n",
      "17  chromedriver                        0x0000000104d29954 chromedriver + 6342996\n",
      "18  chromedriver                        0x0000000104d68378 chromedriver + 6599544\n",
      "19  chromedriver                        0x0000000104d68535 chromedriver + 6599989\n",
      "20  chromedriver                        0x0000000104d77868 chromedriver + 6662248\n",
      "21  libsystem_pthread.dylib             0x00007ff80b5b7253 _pthread_start + 99\n",
      "22  libsystem_pthread.dylib             0x00007ff80b5b2bef thread_start + 15\n",
      "\n",
      "Click failed for selector: //label[span[text()=\"Near Mint\"]]\n"
     ]
    },
    {
     "name": "stderr",
     "output_type": "stream",
     "text": [
      "Price Extraction:  24%|██▍       | 909/3739 [50:54<5:58:44,  7.61s/it, Processing bw5-26]         "
     ]
    },
    {
     "name": "stdout",
     "output_type": "stream",
     "text": [
      "Click failed for //label[span[text()=\"Near Mint\"]]: Message: \n",
      "Stacktrace:\n",
      "0   chromedriver                        0x00000001028ece82 chromedriver + 6696578\n",
      "1   chromedriver                        0x00000001028e4c9a chromedriver + 6663322\n",
      "2   chromedriver                        0x00000001022ece3e chromedriver + 405054\n",
      "3   chromedriver                        0x000000010233d815 chromedriver + 735253\n",
      "4   chromedriver                        0x000000010233dd11 chromedriver + 736529\n",
      "5   chromedriver                        0x0000000102388314 chromedriver + 1041172\n",
      "6   chromedriver                        0x000000010236289d chromedriver + 886941\n",
      "7   chromedriver                        0x00000001023853f4 chromedriver + 1029108\n",
      "8   chromedriver                        0x0000000102362613 chromedriver + 886291\n",
      "9   chromedriver                        0x000000010232f950 chromedriver + 678224\n",
      "10  chromedriver                        0x000000010233034e chromedriver + 680782\n",
      "11  chromedriver                        0x00000001028ba770 chromedriver + 6489968\n",
      "12  chromedriver                        0x00000001028bd219 chromedriver + 6500889\n",
      "13  chromedriver                        0x00000001028bcd3b chromedriver + 6499643\n",
      "14  chromedriver                        0x00000001028bd6a5 chromedriver + 6502053\n",
      "15  chromedriver                        0x00000001028a5524 chromedriver + 6403364\n",
      "16  chromedriver                        0x00000001028bd98f chromedriver + 6502799\n",
      "17  chromedriver                        0x0000000102896954 chromedriver + 6342996\n",
      "18  chromedriver                        0x00000001028d5378 chromedriver + 6599544\n",
      "19  chromedriver                        0x00000001028d5535 chromedriver + 6599989\n",
      "20  chromedriver                        0x00000001028e4868 chromedriver + 6662248\n",
      "21  libsystem_pthread.dylib             0x00007ff80b5b7253 _pthread_start + 99\n",
      "22  libsystem_pthread.dylib             0x00007ff80b5b2bef thread_start + 15\n",
      "\n",
      "Click failed for selector: //label[span[text()=\"Near Mint\"]]\n"
     ]
    },
    {
     "name": "stderr",
     "output_type": "stream",
     "text": [
      "Price Extraction:  27%|██▋       | 1006/3739 [56:01<3:13:51,  4.26s/it, Processing ex4-35]            "
     ]
    },
    {
     "name": "stdout",
     "output_type": "stream",
     "text": [
      "Click failed for //label[span[text()=\"Near Mint\"]]: Message: \n",
      "Stacktrace:\n",
      "0   chromedriver                        0x000000010277ce82 chromedriver + 6696578\n",
      "1   chromedriver                        0x0000000102774c9a chromedriver + 6663322\n",
      "2   chromedriver                        0x000000010217ce3e chromedriver + 405054\n",
      "3   chromedriver                        0x00000001021cd815 chromedriver + 735253\n",
      "4   chromedriver                        0x00000001021cdd11 chromedriver + 736529\n",
      "5   chromedriver                        0x0000000102218314 chromedriver + 1041172\n",
      "6   chromedriver                        0x00000001021f289d chromedriver + 886941\n",
      "7   chromedriver                        0x00000001022153f4 chromedriver + 1029108\n",
      "8   chromedriver                        0x00000001021f2613 chromedriver + 886291\n",
      "9   chromedriver                        0x00000001021bf950 chromedriver + 678224\n",
      "10  chromedriver                        0x00000001021c034e chromedriver + 680782\n",
      "11  chromedriver                        0x000000010274a770 chromedriver + 6489968\n",
      "12  chromedriver                        0x000000010274d219 chromedriver + 6500889\n",
      "13  chromedriver                        0x000000010274cd3b chromedriver + 6499643\n",
      "14  chromedriver                        0x000000010274d6a5 chromedriver + 6502053\n",
      "15  chromedriver                        0x0000000102735524 chromedriver + 6403364\n",
      "16  chromedriver                        0x000000010274d98f chromedriver + 6502799\n",
      "17  chromedriver                        0x0000000102726954 chromedriver + 6342996\n",
      "18  chromedriver                        0x0000000102765378 chromedriver + 6599544\n",
      "19  chromedriver                        0x0000000102765535 chromedriver + 6599989\n",
      "20  chromedriver                        0x0000000102774868 chromedriver + 6662248\n",
      "21  libsystem_pthread.dylib             0x00007ff80b5b7253 _pthread_start + 99\n",
      "22  libsystem_pthread.dylib             0x00007ff80b5b2bef thread_start + 15\n",
      "\n",
      "Click failed for selector: //label[span[text()=\"Near Mint\"]]\n"
     ]
    },
    {
     "name": "stderr",
     "output_type": "stream",
     "text": [
      "Price Extraction:  27%|██▋       | 1024/3739 [57:53<3:54:14,  5.18s/it, Processing xyp-XY27]       "
     ]
    },
    {
     "name": "stdout",
     "output_type": "stream",
     "text": [
      "Click failed for //label[span[text()=\"Near Mint\"]]: Message: \n",
      "Stacktrace:\n",
      "0   chromedriver                        0x000000010356fe82 chromedriver + 6696578\n",
      "1   chromedriver                        0x0000000103567c9a chromedriver + 6663322\n",
      "2   chromedriver                        0x0000000102f6fe3e chromedriver + 405054\n",
      "3   chromedriver                        0x0000000102fc0815 chromedriver + 735253\n",
      "4   chromedriver                        0x0000000102fc0d11 chromedriver + 736529\n",
      "5   chromedriver                        0x000000010300b314 chromedriver + 1041172\n",
      "6   chromedriver                        0x0000000102fe589d chromedriver + 886941\n",
      "7   chromedriver                        0x00000001030083f4 chromedriver + 1029108\n",
      "8   chromedriver                        0x0000000102fe5613 chromedriver + 886291\n",
      "9   chromedriver                        0x0000000102fb2950 chromedriver + 678224\n",
      "10  chromedriver                        0x0000000102fb334e chromedriver + 680782\n",
      "11  chromedriver                        0x000000010353d770 chromedriver + 6489968\n",
      "12  chromedriver                        0x0000000103540219 chromedriver + 6500889\n",
      "13  chromedriver                        0x000000010353fd3b chromedriver + 6499643\n",
      "14  chromedriver                        0x00000001035406a5 chromedriver + 6502053\n",
      "15  chromedriver                        0x0000000103528524 chromedriver + 6403364\n",
      "16  chromedriver                        0x000000010354098f chromedriver + 6502799\n",
      "17  chromedriver                        0x0000000103519954 chromedriver + 6342996\n",
      "18  chromedriver                        0x0000000103558378 chromedriver + 6599544\n",
      "19  chromedriver                        0x0000000103558535 chromedriver + 6599989\n",
      "20  chromedriver                        0x0000000103567868 chromedriver + 6662248\n",
      "21  libsystem_pthread.dylib             0x00007ff80b5b7253 _pthread_start + 99\n",
      "22  libsystem_pthread.dylib             0x00007ff80b5b2bef thread_start + 15\n",
      "\n",
      "Click failed for selector: //label[span[text()=\"Near Mint\"]]\n"
     ]
    },
    {
     "name": "stderr",
     "output_type": "stream",
     "text": [
      "Price Extraction:  28%|██▊       | 1050/3739 [59:50<3:36:08,  4.82s/it, Processing ex11-36]         "
     ]
    },
    {
     "name": "stdout",
     "output_type": "stream",
     "text": [
      "Click failed for //label[span[text()=\"Near Mint\"]]: Message: \n",
      "Stacktrace:\n",
      "0   chromedriver                        0x0000000102a87e82 chromedriver + 6696578\n",
      "1   chromedriver                        0x0000000102a7fc9a chromedriver + 6663322\n",
      "2   chromedriver                        0x0000000102487e3e chromedriver + 405054\n",
      "3   chromedriver                        0x00000001024d8815 chromedriver + 735253\n",
      "4   chromedriver                        0x00000001024d8d11 chromedriver + 736529\n",
      "5   chromedriver                        0x0000000102523314 chromedriver + 1041172\n",
      "6   chromedriver                        0x00000001024fd89d chromedriver + 886941\n",
      "7   chromedriver                        0x00000001025203f4 chromedriver + 1029108\n",
      "8   chromedriver                        0x00000001024fd613 chromedriver + 886291\n",
      "9   chromedriver                        0x00000001024ca950 chromedriver + 678224\n",
      "10  chromedriver                        0x00000001024cb34e chromedriver + 680782\n",
      "11  chromedriver                        0x0000000102a55770 chromedriver + 6489968\n",
      "12  chromedriver                        0x0000000102a58219 chromedriver + 6500889\n",
      "13  chromedriver                        0x0000000102a57d3b chromedriver + 6499643\n",
      "14  chromedriver                        0x0000000102a586a5 chromedriver + 6502053\n",
      "15  chromedriver                        0x0000000102a40524 chromedriver + 6403364\n",
      "16  chromedriver                        0x0000000102a5898f chromedriver + 6502799\n",
      "17  chromedriver                        0x0000000102a31954 chromedriver + 6342996\n",
      "18  chromedriver                        0x0000000102a70378 chromedriver + 6599544\n",
      "19  chromedriver                        0x0000000102a70535 chromedriver + 6599989\n",
      "20  chromedriver                        0x0000000102a7f868 chromedriver + 6662248\n",
      "21  libsystem_pthread.dylib             0x00007ff80b5b7253 _pthread_start + 99\n",
      "22  libsystem_pthread.dylib             0x00007ff80b5b2bef thread_start + 15\n",
      "\n",
      "Click failed for selector: //label[span[text()=\"Near Mint\"]]\n"
     ]
    },
    {
     "name": "stderr",
     "output_type": "stream",
     "text": [
      "Price Extraction:  30%|██▉       | 1112/3739 [1:00:02<1:30:57,  2.08s/it, Processing bwp-BW29]         "
     ]
    },
    {
     "name": "stdout",
     "output_type": "stream",
     "text": [
      "An error occurred: Message: \n",
      "Stacktrace:\n",
      "0   chromedriver                        0x0000000102b07e82 chromedriver + 6696578\n",
      "1   chromedriver                        0x0000000102affc9a chromedriver + 6663322\n",
      "2   chromedriver                        0x0000000102507e3e chromedriver + 405054\n",
      "3   chromedriver                        0x0000000102558815 chromedriver + 735253\n",
      "4   chromedriver                        0x0000000102558d11 chromedriver + 736529\n",
      "5   chromedriver                        0x00000001025a3314 chromedriver + 1041172\n",
      "6   chromedriver                        0x000000010257d89d chromedriver + 886941\n",
      "7   chromedriver                        0x00000001025a03f4 chromedriver + 1029108\n",
      "8   chromedriver                        0x000000010257d613 chromedriver + 886291\n",
      "9   chromedriver                        0x000000010254a950 chromedriver + 678224\n",
      "10  chromedriver                        0x000000010254b34e chromedriver + 680782\n",
      "11  chromedriver                        0x0000000102ad5770 chromedriver + 6489968\n",
      "12  chromedriver                        0x0000000102ad8219 chromedriver + 6500889\n",
      "13  chromedriver                        0x0000000102ad7d3b chromedriver + 6499643\n",
      "14  chromedriver                        0x0000000102ad86a5 chromedriver + 6502053\n",
      "15  chromedriver                        0x0000000102ac0524 chromedriver + 6403364\n",
      "16  chromedriver                        0x0000000102ad898f chromedriver + 6502799\n",
      "17  chromedriver                        0x0000000102ab1954 chromedriver + 6342996\n",
      "18  chromedriver                        0x0000000102af0378 chromedriver + 6599544\n",
      "19  chromedriver                        0x0000000102af0535 chromedriver + 6599989\n",
      "20  chromedriver                        0x0000000102aff868 chromedriver + 6662248\n",
      "21  libsystem_pthread.dylib             0x00007ff80b5b7253 _pthread_start + 99\n",
      "22  libsystem_pthread.dylib             0x00007ff80b5b2bef thread_start + 15\n",
      "\n"
     ]
    },
    {
     "name": "stderr",
     "output_type": "stream",
     "text": [
      "Price Extraction:  32%|███▏      | 1205/3739 [1:02:12<36:02,  1.17it/s, Processing np-37]                "
     ]
    },
    {
     "name": "stdout",
     "output_type": "stream",
     "text": [
      "Click failed for //label[span[text()=\"Near Mint\"]]: Message: \n",
      "Stacktrace:\n",
      "0   chromedriver                        0x0000000104bbce82 chromedriver + 6696578\n",
      "1   chromedriver                        0x0000000104bb4c9a chromedriver + 6663322\n",
      "2   chromedriver                        0x00000001045bce3e chromedriver + 405054\n",
      "3   chromedriver                        0x000000010460d815 chromedriver + 735253\n",
      "4   chromedriver                        0x000000010460dd11 chromedriver + 736529\n",
      "5   chromedriver                        0x0000000104658314 chromedriver + 1041172\n",
      "6   chromedriver                        0x000000010463289d chromedriver + 886941\n",
      "7   chromedriver                        0x00000001046553f4 chromedriver + 1029108\n",
      "8   chromedriver                        0x0000000104632613 chromedriver + 886291\n",
      "9   chromedriver                        0x00000001045ff950 chromedriver + 678224\n",
      "10  chromedriver                        0x000000010460034e chromedriver + 680782\n",
      "11  chromedriver                        0x0000000104b8a770 chromedriver + 6489968\n",
      "12  chromedriver                        0x0000000104b8d219 chromedriver + 6500889\n",
      "13  chromedriver                        0x0000000104b8cd3b chromedriver + 6499643\n",
      "14  chromedriver                        0x0000000104b8d6a5 chromedriver + 6502053\n",
      "15  chromedriver                        0x0000000104b75524 chromedriver + 6403364\n",
      "16  chromedriver                        0x0000000104b8d98f chromedriver + 6502799\n",
      "17  chromedriver                        0x0000000104b66954 chromedriver + 6342996\n",
      "18  chromedriver                        0x0000000104ba5378 chromedriver + 6599544\n",
      "19  chromedriver                        0x0000000104ba5535 chromedriver + 6599989\n",
      "20  chromedriver                        0x0000000104bb4868 chromedriver + 6662248\n",
      "21  libsystem_pthread.dylib             0x00007ff80b5b7253 _pthread_start + 99\n",
      "22  libsystem_pthread.dylib             0x00007ff80b5b2bef thread_start + 15\n",
      "\n",
      "Click failed for selector: //label[span[text()=\"Near Mint\"]]\n"
     ]
    },
    {
     "name": "stderr",
     "output_type": "stream",
     "text": [
      "Price Extraction:  33%|███▎      | 1218/3739 [1:04:22<1:55:17,  2.74s/it, Processing xyp-XY34]       "
     ]
    },
    {
     "name": "stdout",
     "output_type": "stream",
     "text": [
      "Click failed for //label[span[text()=\"Near Mint\"]]: Message: \n",
      "Stacktrace:\n",
      "0   chromedriver                        0x000000010074fe82 chromedriver + 6696578\n",
      "1   chromedriver                        0x0000000100747c9a chromedriver + 6663322\n",
      "2   chromedriver                        0x000000010014fe3e chromedriver + 405054\n",
      "3   chromedriver                        0x00000001001a0815 chromedriver + 735253\n",
      "4   chromedriver                        0x00000001001a0d11 chromedriver + 736529\n",
      "5   chromedriver                        0x00000001001eb314 chromedriver + 1041172\n",
      "6   chromedriver                        0x00000001001c589d chromedriver + 886941\n",
      "7   chromedriver                        0x00000001001e83f4 chromedriver + 1029108\n",
      "8   chromedriver                        0x00000001001c5613 chromedriver + 886291\n",
      "9   chromedriver                        0x0000000100192950 chromedriver + 678224\n",
      "10  chromedriver                        0x000000010019334e chromedriver + 680782\n",
      "11  chromedriver                        0x000000010071d770 chromedriver + 6489968\n",
      "12  chromedriver                        0x0000000100720219 chromedriver + 6500889\n",
      "13  chromedriver                        0x000000010071fd3b chromedriver + 6499643\n",
      "14  chromedriver                        0x00000001007206a5 chromedriver + 6502053\n",
      "15  chromedriver                        0x0000000100708524 chromedriver + 6403364\n",
      "16  chromedriver                        0x000000010072098f chromedriver + 6502799\n",
      "17  chromedriver                        0x00000001006f9954 chromedriver + 6342996\n",
      "18  chromedriver                        0x0000000100738378 chromedriver + 6599544\n",
      "19  chromedriver                        0x0000000100738535 chromedriver + 6599989\n",
      "20  chromedriver                        0x0000000100747868 chromedriver + 6662248\n",
      "21  libsystem_pthread.dylib             0x00007ff80b5b7253 _pthread_start + 99\n",
      "22  libsystem_pthread.dylib             0x00007ff80b5b2bef thread_start + 15\n",
      "\n",
      "Click failed for selector: //label[span[text()=\"Near Mint\"]]\n"
     ]
    },
    {
     "name": "stderr",
     "output_type": "stream",
     "text": [
      "Price Extraction:  34%|███▎      | 1256/3739 [1:08:05<2:50:36,  4.12s/it, Processing ecard2-21]          "
     ]
    },
    {
     "name": "stdout",
     "output_type": "stream",
     "text": [
      "Click failed for //label[span[text()=\"Near Mint\"]]: Message: \n",
      "Stacktrace:\n",
      "0   chromedriver                        0x0000000102d40e82 chromedriver + 6696578\n",
      "1   chromedriver                        0x0000000102d38c9a chromedriver + 6663322\n",
      "2   chromedriver                        0x0000000102740e3e chromedriver + 405054\n",
      "3   chromedriver                        0x0000000102791815 chromedriver + 735253\n",
      "4   chromedriver                        0x0000000102791d11 chromedriver + 736529\n",
      "5   chromedriver                        0x00000001027dc314 chromedriver + 1041172\n",
      "6   chromedriver                        0x00000001027b689d chromedriver + 886941\n",
      "7   chromedriver                        0x00000001027d93f4 chromedriver + 1029108\n",
      "8   chromedriver                        0x00000001027b6613 chromedriver + 886291\n",
      "9   chromedriver                        0x0000000102783950 chromedriver + 678224\n",
      "10  chromedriver                        0x000000010278434e chromedriver + 680782\n",
      "11  chromedriver                        0x0000000102d0e770 chromedriver + 6489968\n",
      "12  chromedriver                        0x0000000102d11219 chromedriver + 6500889\n",
      "13  chromedriver                        0x0000000102d10d3b chromedriver + 6499643\n",
      "14  chromedriver                        0x0000000102d116a5 chromedriver + 6502053\n",
      "15  chromedriver                        0x0000000102cf9524 chromedriver + 6403364\n",
      "16  chromedriver                        0x0000000102d1198f chromedriver + 6502799\n",
      "17  chromedriver                        0x0000000102cea954 chromedriver + 6342996\n",
      "18  chromedriver                        0x0000000102d29378 chromedriver + 6599544\n",
      "19  chromedriver                        0x0000000102d29535 chromedriver + 6599989\n",
      "20  chromedriver                        0x0000000102d38868 chromedriver + 6662248\n",
      "21  libsystem_pthread.dylib             0x00007ff80b5b7253 _pthread_start + 99\n",
      "22  libsystem_pthread.dylib             0x00007ff80b5b2bef thread_start + 15\n",
      "\n",
      "Click failed for selector: //label[span[text()=\"Near Mint\"]]\n"
     ]
    },
    {
     "name": "stderr",
     "output_type": "stream",
     "text": [
      "Price Extraction:  35%|███▌      | 1327/3739 [1:08:22<1:08:52,  1.71s/it, Processing bwp-BW43]       "
     ]
    },
    {
     "name": "stdout",
     "output_type": "stream",
     "text": [
      "Click failed for //label[span[text()=\"Near Mint\"]]: Message: \n",
      "Stacktrace:\n",
      "0   chromedriver                        0x000000010272ce82 chromedriver + 6696578\n",
      "1   chromedriver                        0x0000000102724c9a chromedriver + 6663322\n",
      "2   chromedriver                        0x000000010212ce3e chromedriver + 405054\n",
      "3   chromedriver                        0x000000010217d815 chromedriver + 735253\n",
      "4   chromedriver                        0x000000010217dd11 chromedriver + 736529\n",
      "5   chromedriver                        0x00000001021c8314 chromedriver + 1041172\n",
      "6   chromedriver                        0x00000001021a289d chromedriver + 886941\n",
      "7   chromedriver                        0x00000001021c53f4 chromedriver + 1029108\n",
      "8   chromedriver                        0x00000001021a2613 chromedriver + 886291\n",
      "9   chromedriver                        0x000000010216f950 chromedriver + 678224\n",
      "10  chromedriver                        0x000000010217034e chromedriver + 680782\n",
      "11  chromedriver                        0x00000001026fa770 chromedriver + 6489968\n",
      "12  chromedriver                        0x00000001026fd219 chromedriver + 6500889\n",
      "13  chromedriver                        0x00000001026fcd3b chromedriver + 6499643\n",
      "14  chromedriver                        0x00000001026fd6a5 chromedriver + 6502053\n",
      "15  chromedriver                        0x00000001026e5524 chromedriver + 6403364\n",
      "16  chromedriver                        0x00000001026fd98f chromedriver + 6502799\n",
      "17  chromedriver                        0x00000001026d6954 chromedriver + 6342996\n",
      "18  chromedriver                        0x0000000102715378 chromedriver + 6599544\n",
      "19  chromedriver                        0x0000000102715535 chromedriver + 6599989\n",
      "20  chromedriver                        0x0000000102724868 chromedriver + 6662248\n",
      "21  libsystem_pthread.dylib             0x00007ff80b5b7253 _pthread_start + 99\n",
      "22  libsystem_pthread.dylib             0x00007ff80b5b2bef thread_start + 15\n",
      "\n",
      "Click failed for selector: //label[span[text()=\"Near Mint\"]]\n"
     ]
    },
    {
     "name": "stderr",
     "output_type": "stream",
     "text": [
      "Price Extraction:  40%|███▉      | 1484/3739 [1:14:12<35:37,  1.05it/s, Processing xyp-XY57]           "
     ]
    },
    {
     "name": "stdout",
     "output_type": "stream",
     "text": [
      "Click failed for //label[span[text()=\"Near Mint\"]]: Message: \n",
      "Stacktrace:\n",
      "0   chromedriver                        0x00000001055d6e82 chromedriver + 6696578\n",
      "1   chromedriver                        0x00000001055cec9a chromedriver + 6663322\n",
      "2   chromedriver                        0x0000000104fd6e3e chromedriver + 405054\n",
      "3   chromedriver                        0x0000000105027815 chromedriver + 735253\n",
      "4   chromedriver                        0x0000000105027d11 chromedriver + 736529\n",
      "5   chromedriver                        0x0000000105072314 chromedriver + 1041172\n",
      "6   chromedriver                        0x000000010504c89d chromedriver + 886941\n",
      "7   chromedriver                        0x000000010506f3f4 chromedriver + 1029108\n",
      "8   chromedriver                        0x000000010504c613 chromedriver + 886291\n",
      "9   chromedriver                        0x0000000105019950 chromedriver + 678224\n",
      "10  chromedriver                        0x000000010501a34e chromedriver + 680782\n",
      "11  chromedriver                        0x00000001055a4770 chromedriver + 6489968\n",
      "12  chromedriver                        0x00000001055a7219 chromedriver + 6500889\n",
      "13  chromedriver                        0x00000001055a6d3b chromedriver + 6499643\n",
      "14  chromedriver                        0x00000001055a76a5 chromedriver + 6502053\n",
      "15  chromedriver                        0x000000010558f524 chromedriver + 6403364\n",
      "16  chromedriver                        0x00000001055a798f chromedriver + 6502799\n",
      "17  chromedriver                        0x0000000105580954 chromedriver + 6342996\n",
      "18  chromedriver                        0x00000001055bf378 chromedriver + 6599544\n",
      "19  chromedriver                        0x00000001055bf535 chromedriver + 6599989\n",
      "20  chromedriver                        0x00000001055ce868 chromedriver + 6662248\n",
      "21  libsystem_pthread.dylib             0x00007ff80b5b7253 _pthread_start + 99\n",
      "22  libsystem_pthread.dylib             0x00007ff80b5b2bef thread_start + 15\n",
      "\n",
      "Click failed for selector: //label[span[text()=\"Near Mint\"]]\n"
     ]
    },
    {
     "name": "stderr",
     "output_type": "stream",
     "text": [
      "Price Extraction:  40%|███▉      | 1487/3739 [1:17:57<3:48:40,  6.09s/it, Processing ecard2-40]      "
     ]
    },
    {
     "name": "stdout",
     "output_type": "stream",
     "text": [
      "Click failed for //label[span[text()=\"Near Mint\"]]: Message: \n",
      "Stacktrace:\n",
      "0   chromedriver                        0x00000001047c0e82 chromedriver + 6696578\n",
      "1   chromedriver                        0x00000001047b8c9a chromedriver + 6663322\n",
      "2   chromedriver                        0x00000001041c0e3e chromedriver + 405054\n",
      "3   chromedriver                        0x0000000104211815 chromedriver + 735253\n",
      "4   chromedriver                        0x0000000104211d11 chromedriver + 736529\n",
      "5   chromedriver                        0x000000010425c314 chromedriver + 1041172\n",
      "6   chromedriver                        0x000000010423689d chromedriver + 886941\n",
      "7   chromedriver                        0x00000001042593f4 chromedriver + 1029108\n",
      "8   chromedriver                        0x0000000104236613 chromedriver + 886291\n",
      "9   chromedriver                        0x0000000104203950 chromedriver + 678224\n",
      "10  chromedriver                        0x000000010420434e chromedriver + 680782\n",
      "11  chromedriver                        0x000000010478e770 chromedriver + 6489968\n",
      "12  chromedriver                        0x0000000104791219 chromedriver + 6500889\n",
      "13  chromedriver                        0x0000000104790d3b chromedriver + 6499643\n",
      "14  chromedriver                        0x00000001047916a5 chromedriver + 6502053\n",
      "15  chromedriver                        0x0000000104779524 chromedriver + 6403364\n",
      "16  chromedriver                        0x000000010479198f chromedriver + 6502799\n",
      "17  chromedriver                        0x000000010476a954 chromedriver + 6342996\n",
      "18  chromedriver                        0x00000001047a9378 chromedriver + 6599544\n",
      "19  chromedriver                        0x00000001047a9535 chromedriver + 6599989\n",
      "20  chromedriver                        0x00000001047b8868 chromedriver + 6662248\n",
      "21  libsystem_pthread.dylib             0x00007ff80b5b7253 _pthread_start + 99\n",
      "22  libsystem_pthread.dylib             0x00007ff80b5b2bef thread_start + 15\n",
      "\n",
      "Click failed for selector: //label[span[text()=\"Near Mint\"]]\n"
     ]
    },
    {
     "name": "stderr",
     "output_type": "stream",
     "text": [
      "Price Extraction:  42%|████▏     | 1576/3739 [2:30:32<50:41:36, 84.37s/it, Processing bwp-BW66]      "
     ]
    },
    {
     "name": "stdout",
     "output_type": "stream",
     "text": [
      "Click failed for //label[span[text()=\"Near Mint\"]]: Message: \n",
      "Stacktrace:\n",
      "0   chromedriver                        0x00000001028c3e82 chromedriver + 6696578\n",
      "1   chromedriver                        0x00000001028bbc9a chromedriver + 6663322\n",
      "2   chromedriver                        0x00000001022c3e3e chromedriver + 405054\n",
      "3   chromedriver                        0x0000000102314815 chromedriver + 735253\n",
      "4   chromedriver                        0x0000000102314d11 chromedriver + 736529\n",
      "5   chromedriver                        0x000000010235f314 chromedriver + 1041172\n",
      "6   chromedriver                        0x000000010233989d chromedriver + 886941\n",
      "7   chromedriver                        0x000000010235c3f4 chromedriver + 1029108\n",
      "8   chromedriver                        0x0000000102339613 chromedriver + 886291\n",
      "9   chromedriver                        0x0000000102306950 chromedriver + 678224\n",
      "10  chromedriver                        0x000000010230734e chromedriver + 680782\n",
      "11  chromedriver                        0x0000000102891770 chromedriver + 6489968\n",
      "12  chromedriver                        0x0000000102894219 chromedriver + 6500889\n",
      "13  chromedriver                        0x0000000102893d3b chromedriver + 6499643\n",
      "14  chromedriver                        0x00000001028946a5 chromedriver + 6502053\n",
      "15  chromedriver                        0x000000010287c524 chromedriver + 6403364\n",
      "16  chromedriver                        0x000000010289498f chromedriver + 6502799\n",
      "17  chromedriver                        0x000000010286d954 chromedriver + 6342996\n",
      "18  chromedriver                        0x00000001028ac378 chromedriver + 6599544\n",
      "19  chromedriver                        0x00000001028ac535 chromedriver + 6599989\n",
      "20  chromedriver                        0x00000001028bb868 chromedriver + 6662248\n",
      "21  libsystem_pthread.dylib             0x00007ff80b5b7253 _pthread_start + 99\n",
      "22  libsystem_pthread.dylib             0x00007ff80b5b2bef thread_start + 15\n",
      "\n",
      "Click failed for selector: //label[span[text()=\"Near Mint\"]]\n"
     ]
    },
    {
     "name": "stderr",
     "output_type": "stream",
     "text": [
      "Price Extraction:  42%|████▏     | 1578/3739 [2:34:46<63:54:21, 106.46s/it, Processing xyp-XY69]"
     ]
    },
    {
     "name": "stdout",
     "output_type": "stream",
     "text": [
      "Click failed for //label[span[text()=\"Near Mint\"]]: Message: \n",
      "Stacktrace:\n",
      "0   chromedriver                        0x0000000100ff1e82 chromedriver + 6696578\n",
      "1   chromedriver                        0x0000000100fe9c9a chromedriver + 6663322\n",
      "2   chromedriver                        0x00000001009f1e3e chromedriver + 405054\n",
      "3   chromedriver                        0x0000000100a42815 chromedriver + 735253\n",
      "4   chromedriver                        0x0000000100a42d11 chromedriver + 736529\n",
      "5   chromedriver                        0x0000000100a8d314 chromedriver + 1041172\n",
      "6   chromedriver                        0x0000000100a6789d chromedriver + 886941\n",
      "7   chromedriver                        0x0000000100a8a3f4 chromedriver + 1029108\n",
      "8   chromedriver                        0x0000000100a67613 chromedriver + 886291\n",
      "9   chromedriver                        0x0000000100a34950 chromedriver + 678224\n",
      "10  chromedriver                        0x0000000100a3534e chromedriver + 680782\n",
      "11  chromedriver                        0x0000000100fbf770 chromedriver + 6489968\n",
      "12  chromedriver                        0x0000000100fc2219 chromedriver + 6500889\n",
      "13  chromedriver                        0x0000000100fc1d3b chromedriver + 6499643\n",
      "14  chromedriver                        0x0000000100fc26a5 chromedriver + 6502053\n",
      "15  chromedriver                        0x0000000100faa524 chromedriver + 6403364\n",
      "16  chromedriver                        0x0000000100fc298f chromedriver + 6502799\n",
      "17  chromedriver                        0x0000000100f9b954 chromedriver + 6342996\n",
      "18  chromedriver                        0x0000000100fda378 chromedriver + 6599544\n",
      "19  chromedriver                        0x0000000100fda535 chromedriver + 6599989\n",
      "20  chromedriver                        0x0000000100fe9868 chromedriver + 6662248\n",
      "21  libsystem_pthread.dylib             0x00007ff80b5b7253 _pthread_start + 99\n",
      "22  libsystem_pthread.dylib             0x00007ff80b5b2bef thread_start + 15\n",
      "\n",
      "Click failed for selector: //label[span[text()=\"Near Mint\"]]\n"
     ]
    },
    {
     "name": "stderr",
     "output_type": "stream",
     "text": [
      "Price Extraction:  42%|████▏     | 1584/3739 [2:43:03<56:03:35, 93.65s/it, Processing xyp-XY70] "
     ]
    },
    {
     "name": "stdout",
     "output_type": "stream",
     "text": [
      "Click failed for //label[span[text()=\"Near Mint\"]]: Message: \n",
      "Stacktrace:\n",
      "0   chromedriver                        0x00000001035c9e82 chromedriver + 6696578\n",
      "1   chromedriver                        0x00000001035c1c9a chromedriver + 6663322\n",
      "2   chromedriver                        0x0000000102fc9e3e chromedriver + 405054\n",
      "3   chromedriver                        0x000000010301a815 chromedriver + 735253\n",
      "4   chromedriver                        0x000000010301ad11 chromedriver + 736529\n",
      "5   chromedriver                        0x0000000103065314 chromedriver + 1041172\n",
      "6   chromedriver                        0x000000010303f89d chromedriver + 886941\n",
      "7   chromedriver                        0x00000001030623f4 chromedriver + 1029108\n",
      "8   chromedriver                        0x000000010303f613 chromedriver + 886291\n",
      "9   chromedriver                        0x000000010300c950 chromedriver + 678224\n",
      "10  chromedriver                        0x000000010300d34e chromedriver + 680782\n",
      "11  chromedriver                        0x0000000103597770 chromedriver + 6489968\n",
      "12  chromedriver                        0x000000010359a219 chromedriver + 6500889\n",
      "13  chromedriver                        0x0000000103599d3b chromedriver + 6499643\n",
      "14  chromedriver                        0x000000010359a6a5 chromedriver + 6502053\n",
      "15  chromedriver                        0x0000000103582524 chromedriver + 6403364\n",
      "16  chromedriver                        0x000000010359a98f chromedriver + 6502799\n",
      "17  chromedriver                        0x0000000103573954 chromedriver + 6342996\n",
      "18  chromedriver                        0x00000001035b2378 chromedriver + 6599544\n",
      "19  chromedriver                        0x00000001035b2535 chromedriver + 6599989\n",
      "20  chromedriver                        0x00000001035c1868 chromedriver + 6662248\n",
      "21  libsystem_pthread.dylib             0x00007ff80b5b7253 _pthread_start + 99\n",
      "22  libsystem_pthread.dylib             0x00007ff80b5b2bef thread_start + 15\n",
      "\n",
      "Click failed for selector: //label[span[text()=\"Near Mint\"]]\n"
     ]
    },
    {
     "name": "stderr",
     "output_type": "stream",
     "text": [
      "Price Extraction:  44%|████▍     | 1641/3739 [3:59:24<5:06:05,  8.75s/it, Processing xyp-XY74]      \n"
     ]
    },
    {
     "ename": "KeyboardInterrupt",
     "evalue": "",
     "output_type": "error",
     "traceback": [
      "\u001b[0;31m---------------------------------------------------------------------------\u001b[0m",
      "\u001b[0;31mKeyboardInterrupt\u001b[0m                         Traceback (most recent call last)",
      "Cell \u001b[0;32mIn[4], line 1\u001b[0m\n\u001b[0;32m----> 1\u001b[0m \u001b[43msave_historic_prices\u001b[49m\u001b[43m(\u001b[49m\u001b[43mdf\u001b[49m\u001b[43m)\u001b[49m\n",
      "File \u001b[0;32m~/GitProjects/Portfolio_Pokemon_Card/GetHistoricCardPrices.py:368\u001b[0m, in \u001b[0;36msave_historic_prices\u001b[0;34m(cards_df, output_dir)\u001b[0m\n\u001b[1;32m    365\u001b[0m     \u001b[38;5;28;01mcontinue\u001b[39;00m\n\u001b[1;32m    367\u001b[0m \u001b[38;5;28;01mtry\u001b[39;00m:\n\u001b[0;32m--> 368\u001b[0m     html_content, card_state \u001b[38;5;241m=\u001b[39m \u001b[43mget_html_content\u001b[49m\u001b[43m(\u001b[49m\n\u001b[1;32m    369\u001b[0m \u001b[43m        \u001b[49m\u001b[38;5;124;43mf\u001b[39;49m\u001b[38;5;124;43m\"\u001b[39;49m\u001b[38;5;124;43mhttps://prices.pokemontcg.io/tcgplayer/\u001b[39;49m\u001b[38;5;132;43;01m{\u001b[39;49;00m\u001b[43mcard_id\u001b[49m\u001b[38;5;132;43;01m}\u001b[39;49;00m\u001b[38;5;124;43m\"\u001b[39;49m\u001b[43m)\u001b[49m\n\u001b[1;32m    371\u001b[0m     \u001b[38;5;28;01mif\u001b[39;00m html_content \u001b[38;5;129;01mand\u001b[39;00m card_state:\n\u001b[1;32m    372\u001b[0m         price_history \u001b[38;5;241m=\u001b[39m extract_price_history(html_content, card_state)\n",
      "File \u001b[0;32m~/GitProjects/Portfolio_Pokemon_Card/GetHistoricCardPrices.py:220\u001b[0m, in \u001b[0;36mget_html_content\u001b[0;34m(website)\u001b[0m\n\u001b[1;32m    217\u001b[0m driver\u001b[38;5;241m.\u001b[39mget(website)\n\u001b[1;32m    218\u001b[0m wait\u001b[38;5;241m.\u001b[39muntil(EC\u001b[38;5;241m.\u001b[39mpresence_of_element_located((By\u001b[38;5;241m.\u001b[39mTAG_NAME, \u001b[38;5;124m\"\u001b[39m\u001b[38;5;124mbody\u001b[39m\u001b[38;5;124m\"\u001b[39m)))\n\u001b[0;32m--> 220\u001b[0m selected_state, highest_price \u001b[38;5;241m=\u001b[39m \u001b[43mget_near_mint_prices\u001b[49m\u001b[43m(\u001b[49m\u001b[43mdriver\u001b[49m\u001b[43m,\u001b[49m\u001b[43m \u001b[49m\u001b[43mwait\u001b[49m\u001b[43m)\u001b[49m\n\u001b[1;32m    221\u001b[0m \u001b[38;5;28;01mif\u001b[39;00m \u001b[38;5;129;01mnot\u001b[39;00m selected_state:\n\u001b[1;32m    222\u001b[0m     \u001b[38;5;28;01mreturn\u001b[39;00m \u001b[38;5;28;01mNone\u001b[39;00m, \u001b[38;5;28;01mNone\u001b[39;00m\n",
      "File \u001b[0;32m~/GitProjects/Portfolio_Pokemon_Card/GetHistoricCardPrices.py:167\u001b[0m, in \u001b[0;36mget_near_mint_prices\u001b[0;34m(driver, wait)\u001b[0m\n\u001b[1;32m    138\u001b[0m \u001b[38;5;28;01mdef\u001b[39;00m \u001b[38;5;21mget_near_mint_prices\u001b[39m(driver, wait):\n\u001b[1;32m    139\u001b[0m \u001b[38;5;250m    \u001b[39m\u001b[38;5;124;03m\"\"\"\u001b[39;00m\n\u001b[1;32m    140\u001b[0m \u001b[38;5;124;03m    Extracts prices and states from the Near Mint Comparison Prices table.\u001b[39;00m\n\u001b[1;32m    141\u001b[0m \u001b[38;5;124;03m    \u001b[39;00m\n\u001b[0;32m   (...)\u001b[0m\n\u001b[1;32m    165\u001b[0m \u001b[38;5;124;03m        - Handles both single and multiple variant cases\u001b[39;00m\n\u001b[1;32m    166\u001b[0m \u001b[38;5;124;03m    \"\"\"\u001b[39;00m\n\u001b[0;32m--> 167\u001b[0m     \u001b[43mwait\u001b[49m\u001b[38;5;241;43m.\u001b[39;49m\u001b[43muntil\u001b[49m\u001b[43m(\u001b[49m\u001b[43mEC\u001b[49m\u001b[38;5;241;43m.\u001b[39;49m\u001b[43mpresence_of_element_located\u001b[49m\u001b[43m(\u001b[49m\u001b[43m(\u001b[49m\u001b[43mBy\u001b[49m\u001b[38;5;241;43m.\u001b[39;49m\u001b[43mCLASS_NAME\u001b[49m\u001b[43m,\u001b[49m\u001b[43m \u001b[49m\u001b[38;5;124;43m\"\u001b[39;49m\u001b[38;5;124;43mnear-mint-table\u001b[39;49m\u001b[38;5;124;43m\"\u001b[39;49m\u001b[43m)\u001b[49m\u001b[43m)\u001b[49m\u001b[43m)\u001b[49m\n\u001b[1;32m    169\u001b[0m     states_prices \u001b[38;5;241m=\u001b[39m {}\n\u001b[1;32m    170\u001b[0m     cells \u001b[38;5;241m=\u001b[39m driver\u001b[38;5;241m.\u001b[39mfind_elements(By\u001b[38;5;241m.\u001b[39mCSS_SELECTOR, \u001b[38;5;124m\"\u001b[39m\u001b[38;5;124mtd[data-v-762a0eeb]\u001b[39m\u001b[38;5;124m\"\u001b[39m)\n",
      "File \u001b[0;32m~/opt/anaconda3/envs/pokemon_card/lib/python3.9/site-packages/selenium/webdriver/support/wait.py:96\u001b[0m, in \u001b[0;36mWebDriverWait.until\u001b[0;34m(self, method, message)\u001b[0m\n\u001b[1;32m     94\u001b[0m \u001b[38;5;28;01mwhile\u001b[39;00m \u001b[38;5;28;01mTrue\u001b[39;00m:\n\u001b[1;32m     95\u001b[0m     \u001b[38;5;28;01mtry\u001b[39;00m:\n\u001b[0;32m---> 96\u001b[0m         value \u001b[38;5;241m=\u001b[39m \u001b[43mmethod\u001b[49m\u001b[43m(\u001b[49m\u001b[38;5;28;43mself\u001b[39;49m\u001b[38;5;241;43m.\u001b[39;49m\u001b[43m_driver\u001b[49m\u001b[43m)\u001b[49m\n\u001b[1;32m     97\u001b[0m         \u001b[38;5;28;01mif\u001b[39;00m value:\n\u001b[1;32m     98\u001b[0m             \u001b[38;5;28;01mreturn\u001b[39;00m value\n",
      "File \u001b[0;32m~/opt/anaconda3/envs/pokemon_card/lib/python3.9/site-packages/selenium/webdriver/support/expected_conditions.py:84\u001b[0m, in \u001b[0;36mpresence_of_element_located.<locals>._predicate\u001b[0;34m(driver)\u001b[0m\n\u001b[1;32m     83\u001b[0m \u001b[38;5;28;01mdef\u001b[39;00m \u001b[38;5;21m_predicate\u001b[39m(driver: WebDriverOrWebElement):\n\u001b[0;32m---> 84\u001b[0m     \u001b[38;5;28;01mreturn\u001b[39;00m \u001b[43mdriver\u001b[49m\u001b[38;5;241;43m.\u001b[39;49m\u001b[43mfind_element\u001b[49m\u001b[43m(\u001b[49m\u001b[38;5;241;43m*\u001b[39;49m\u001b[43mlocator\u001b[49m\u001b[43m)\u001b[49m\n",
      "File \u001b[0;32m~/opt/anaconda3/envs/pokemon_card/lib/python3.9/site-packages/selenium/webdriver/remote/webdriver.py:770\u001b[0m, in \u001b[0;36mWebDriver.find_element\u001b[0;34m(self, by, value)\u001b[0m\n\u001b[1;32m    767\u001b[0m         \u001b[38;5;28;01mraise\u001b[39;00m NoSuchElementException(\u001b[38;5;124mf\u001b[39m\u001b[38;5;124m\"\u001b[39m\u001b[38;5;124mCannot locate relative element with: \u001b[39m\u001b[38;5;132;01m{\u001b[39;00mby\u001b[38;5;241m.\u001b[39mroot\u001b[38;5;132;01m}\u001b[39;00m\u001b[38;5;124m\"\u001b[39m)\n\u001b[1;32m    768\u001b[0m     \u001b[38;5;28;01mreturn\u001b[39;00m elements[\u001b[38;5;241m0\u001b[39m]\n\u001b[0;32m--> 770\u001b[0m \u001b[38;5;28;01mreturn\u001b[39;00m \u001b[38;5;28;43mself\u001b[39;49m\u001b[38;5;241;43m.\u001b[39;49m\u001b[43mexecute\u001b[49m\u001b[43m(\u001b[49m\u001b[43mCommand\u001b[49m\u001b[38;5;241;43m.\u001b[39;49m\u001b[43mFIND_ELEMENT\u001b[49m\u001b[43m,\u001b[49m\u001b[43m \u001b[49m\u001b[43m{\u001b[49m\u001b[38;5;124;43m\"\u001b[39;49m\u001b[38;5;124;43musing\u001b[39;49m\u001b[38;5;124;43m\"\u001b[39;49m\u001b[43m:\u001b[49m\u001b[43m \u001b[49m\u001b[43mby\u001b[49m\u001b[43m,\u001b[49m\u001b[43m \u001b[49m\u001b[38;5;124;43m\"\u001b[39;49m\u001b[38;5;124;43mvalue\u001b[39;49m\u001b[38;5;124;43m\"\u001b[39;49m\u001b[43m:\u001b[49m\u001b[43m \u001b[49m\u001b[43mvalue\u001b[49m\u001b[43m}\u001b[49m\u001b[43m)\u001b[49m[\u001b[38;5;124m\"\u001b[39m\u001b[38;5;124mvalue\u001b[39m\u001b[38;5;124m\"\u001b[39m]\n",
      "File \u001b[0;32m~/opt/anaconda3/envs/pokemon_card/lib/python3.9/site-packages/selenium/webdriver/remote/webdriver.py:382\u001b[0m, in \u001b[0;36mWebDriver.execute\u001b[0;34m(self, driver_command, params)\u001b[0m\n\u001b[1;32m    379\u001b[0m     \u001b[38;5;28;01melif\u001b[39;00m \u001b[38;5;124m\"\u001b[39m\u001b[38;5;124msessionId\u001b[39m\u001b[38;5;124m\"\u001b[39m \u001b[38;5;129;01mnot\u001b[39;00m \u001b[38;5;129;01min\u001b[39;00m params:\n\u001b[1;32m    380\u001b[0m         params[\u001b[38;5;124m\"\u001b[39m\u001b[38;5;124msessionId\u001b[39m\u001b[38;5;124m\"\u001b[39m] \u001b[38;5;241m=\u001b[39m \u001b[38;5;28mself\u001b[39m\u001b[38;5;241m.\u001b[39msession_id\n\u001b[0;32m--> 382\u001b[0m response \u001b[38;5;241m=\u001b[39m \u001b[38;5;28;43mself\u001b[39;49m\u001b[38;5;241;43m.\u001b[39;49m\u001b[43mcommand_executor\u001b[49m\u001b[38;5;241;43m.\u001b[39;49m\u001b[43mexecute\u001b[49m\u001b[43m(\u001b[49m\u001b[43mdriver_command\u001b[49m\u001b[43m,\u001b[49m\u001b[43m \u001b[49m\u001b[43mparams\u001b[49m\u001b[43m)\u001b[49m\n\u001b[1;32m    383\u001b[0m \u001b[38;5;28;01mif\u001b[39;00m response:\n\u001b[1;32m    384\u001b[0m     \u001b[38;5;28mself\u001b[39m\u001b[38;5;241m.\u001b[39merror_handler\u001b[38;5;241m.\u001b[39mcheck_response(response)\n",
      "File \u001b[0;32m~/opt/anaconda3/envs/pokemon_card/lib/python3.9/site-packages/selenium/webdriver/remote/remote_connection.py:404\u001b[0m, in \u001b[0;36mRemoteConnection.execute\u001b[0;34m(self, command, params)\u001b[0m\n\u001b[1;32m    402\u001b[0m trimmed \u001b[38;5;241m=\u001b[39m \u001b[38;5;28mself\u001b[39m\u001b[38;5;241m.\u001b[39m_trim_large_entries(params)\n\u001b[1;32m    403\u001b[0m LOGGER\u001b[38;5;241m.\u001b[39mdebug(\u001b[38;5;124m\"\u001b[39m\u001b[38;5;132;01m%s\u001b[39;00m\u001b[38;5;124m \u001b[39m\u001b[38;5;132;01m%s\u001b[39;00m\u001b[38;5;124m \u001b[39m\u001b[38;5;132;01m%s\u001b[39;00m\u001b[38;5;124m\"\u001b[39m, command_info[\u001b[38;5;241m0\u001b[39m], url, \u001b[38;5;28mstr\u001b[39m(trimmed))\n\u001b[0;32m--> 404\u001b[0m \u001b[38;5;28;01mreturn\u001b[39;00m \u001b[38;5;28;43mself\u001b[39;49m\u001b[38;5;241;43m.\u001b[39;49m\u001b[43m_request\u001b[49m\u001b[43m(\u001b[49m\u001b[43mcommand_info\u001b[49m\u001b[43m[\u001b[49m\u001b[38;5;241;43m0\u001b[39;49m\u001b[43m]\u001b[49m\u001b[43m,\u001b[49m\u001b[43m \u001b[49m\u001b[43murl\u001b[49m\u001b[43m,\u001b[49m\u001b[43m \u001b[49m\u001b[43mbody\u001b[49m\u001b[38;5;241;43m=\u001b[39;49m\u001b[43mdata\u001b[49m\u001b[43m)\u001b[49m\n",
      "File \u001b[0;32m~/opt/anaconda3/envs/pokemon_card/lib/python3.9/site-packages/selenium/webdriver/remote/remote_connection.py:428\u001b[0m, in \u001b[0;36mRemoteConnection._request\u001b[0;34m(self, method, url, body)\u001b[0m\n\u001b[1;32m    425\u001b[0m     body \u001b[38;5;241m=\u001b[39m \u001b[38;5;28;01mNone\u001b[39;00m\n\u001b[1;32m    427\u001b[0m \u001b[38;5;28;01mif\u001b[39;00m \u001b[38;5;28mself\u001b[39m\u001b[38;5;241m.\u001b[39m_client_config\u001b[38;5;241m.\u001b[39mkeep_alive:\n\u001b[0;32m--> 428\u001b[0m     response \u001b[38;5;241m=\u001b[39m \u001b[38;5;28;43mself\u001b[39;49m\u001b[38;5;241;43m.\u001b[39;49m\u001b[43m_conn\u001b[49m\u001b[38;5;241;43m.\u001b[39;49m\u001b[43mrequest\u001b[49m\u001b[43m(\u001b[49m\u001b[43mmethod\u001b[49m\u001b[43m,\u001b[49m\u001b[43m \u001b[49m\u001b[43murl\u001b[49m\u001b[43m,\u001b[49m\u001b[43m \u001b[49m\u001b[43mbody\u001b[49m\u001b[38;5;241;43m=\u001b[39;49m\u001b[43mbody\u001b[49m\u001b[43m,\u001b[49m\u001b[43m \u001b[49m\u001b[43mheaders\u001b[49m\u001b[38;5;241;43m=\u001b[39;49m\u001b[43mheaders\u001b[49m\u001b[43m,\u001b[49m\u001b[43m \u001b[49m\u001b[43mtimeout\u001b[49m\u001b[38;5;241;43m=\u001b[39;49m\u001b[38;5;28;43mself\u001b[39;49m\u001b[38;5;241;43m.\u001b[39;49m\u001b[43m_client_config\u001b[49m\u001b[38;5;241;43m.\u001b[39;49m\u001b[43mtimeout\u001b[49m\u001b[43m)\u001b[49m\n\u001b[1;32m    429\u001b[0m     statuscode \u001b[38;5;241m=\u001b[39m response\u001b[38;5;241m.\u001b[39mstatus\n\u001b[1;32m    430\u001b[0m \u001b[38;5;28;01melse\u001b[39;00m:\n",
      "File \u001b[0;32m~/opt/anaconda3/envs/pokemon_card/lib/python3.9/site-packages/urllib3/_request_methods.py:143\u001b[0m, in \u001b[0;36mRequestMethods.request\u001b[0;34m(self, method, url, body, fields, headers, json, **urlopen_kw)\u001b[0m\n\u001b[1;32m    135\u001b[0m     \u001b[38;5;28;01mreturn\u001b[39;00m \u001b[38;5;28mself\u001b[39m\u001b[38;5;241m.\u001b[39mrequest_encode_url(\n\u001b[1;32m    136\u001b[0m         method,\n\u001b[1;32m    137\u001b[0m         url,\n\u001b[0;32m   (...)\u001b[0m\n\u001b[1;32m    140\u001b[0m         \u001b[38;5;241m*\u001b[39m\u001b[38;5;241m*\u001b[39murlopen_kw,\n\u001b[1;32m    141\u001b[0m     )\n\u001b[1;32m    142\u001b[0m \u001b[38;5;28;01melse\u001b[39;00m:\n\u001b[0;32m--> 143\u001b[0m     \u001b[38;5;28;01mreturn\u001b[39;00m \u001b[38;5;28;43mself\u001b[39;49m\u001b[38;5;241;43m.\u001b[39;49m\u001b[43mrequest_encode_body\u001b[49m\u001b[43m(\u001b[49m\n\u001b[1;32m    144\u001b[0m \u001b[43m        \u001b[49m\u001b[43mmethod\u001b[49m\u001b[43m,\u001b[49m\u001b[43m \u001b[49m\u001b[43murl\u001b[49m\u001b[43m,\u001b[49m\u001b[43m \u001b[49m\u001b[43mfields\u001b[49m\u001b[38;5;241;43m=\u001b[39;49m\u001b[43mfields\u001b[49m\u001b[43m,\u001b[49m\u001b[43m \u001b[49m\u001b[43mheaders\u001b[49m\u001b[38;5;241;43m=\u001b[39;49m\u001b[43mheaders\u001b[49m\u001b[43m,\u001b[49m\u001b[43m \u001b[49m\u001b[38;5;241;43m*\u001b[39;49m\u001b[38;5;241;43m*\u001b[39;49m\u001b[43murlopen_kw\u001b[49m\n\u001b[1;32m    145\u001b[0m \u001b[43m    \u001b[49m\u001b[43m)\u001b[49m\n",
      "File \u001b[0;32m~/opt/anaconda3/envs/pokemon_card/lib/python3.9/site-packages/urllib3/_request_methods.py:278\u001b[0m, in \u001b[0;36mRequestMethods.request_encode_body\u001b[0;34m(self, method, url, fields, headers, encode_multipart, multipart_boundary, **urlopen_kw)\u001b[0m\n\u001b[1;32m    274\u001b[0m     extra_kw[\u001b[38;5;124m\"\u001b[39m\u001b[38;5;124mheaders\u001b[39m\u001b[38;5;124m\"\u001b[39m]\u001b[38;5;241m.\u001b[39msetdefault(\u001b[38;5;124m\"\u001b[39m\u001b[38;5;124mContent-Type\u001b[39m\u001b[38;5;124m\"\u001b[39m, content_type)\n\u001b[1;32m    276\u001b[0m extra_kw\u001b[38;5;241m.\u001b[39mupdate(urlopen_kw)\n\u001b[0;32m--> 278\u001b[0m \u001b[38;5;28;01mreturn\u001b[39;00m \u001b[38;5;28;43mself\u001b[39;49m\u001b[38;5;241;43m.\u001b[39;49m\u001b[43murlopen\u001b[49m\u001b[43m(\u001b[49m\u001b[43mmethod\u001b[49m\u001b[43m,\u001b[49m\u001b[43m \u001b[49m\u001b[43murl\u001b[49m\u001b[43m,\u001b[49m\u001b[43m \u001b[49m\u001b[38;5;241;43m*\u001b[39;49m\u001b[38;5;241;43m*\u001b[39;49m\u001b[43mextra_kw\u001b[49m\u001b[43m)\u001b[49m\n",
      "File \u001b[0;32m~/opt/anaconda3/envs/pokemon_card/lib/python3.9/site-packages/urllib3/poolmanager.py:443\u001b[0m, in \u001b[0;36mPoolManager.urlopen\u001b[0;34m(self, method, url, redirect, **kw)\u001b[0m\n\u001b[1;32m    441\u001b[0m     response \u001b[38;5;241m=\u001b[39m conn\u001b[38;5;241m.\u001b[39murlopen(method, url, \u001b[38;5;241m*\u001b[39m\u001b[38;5;241m*\u001b[39mkw)\n\u001b[1;32m    442\u001b[0m \u001b[38;5;28;01melse\u001b[39;00m:\n\u001b[0;32m--> 443\u001b[0m     response \u001b[38;5;241m=\u001b[39m \u001b[43mconn\u001b[49m\u001b[38;5;241;43m.\u001b[39;49m\u001b[43murlopen\u001b[49m\u001b[43m(\u001b[49m\u001b[43mmethod\u001b[49m\u001b[43m,\u001b[49m\u001b[43m \u001b[49m\u001b[43mu\u001b[49m\u001b[38;5;241;43m.\u001b[39;49m\u001b[43mrequest_uri\u001b[49m\u001b[43m,\u001b[49m\u001b[43m \u001b[49m\u001b[38;5;241;43m*\u001b[39;49m\u001b[38;5;241;43m*\u001b[39;49m\u001b[43mkw\u001b[49m\u001b[43m)\u001b[49m\n\u001b[1;32m    445\u001b[0m redirect_location \u001b[38;5;241m=\u001b[39m redirect \u001b[38;5;129;01mand\u001b[39;00m response\u001b[38;5;241m.\u001b[39mget_redirect_location()\n\u001b[1;32m    446\u001b[0m \u001b[38;5;28;01mif\u001b[39;00m \u001b[38;5;129;01mnot\u001b[39;00m redirect_location:\n",
      "File \u001b[0;32m~/opt/anaconda3/envs/pokemon_card/lib/python3.9/site-packages/urllib3/connectionpool.py:789\u001b[0m, in \u001b[0;36mHTTPConnectionPool.urlopen\u001b[0;34m(self, method, url, body, headers, retries, redirect, assert_same_host, timeout, pool_timeout, release_conn, chunked, body_pos, preload_content, decode_content, **response_kw)\u001b[0m\n\u001b[1;32m    786\u001b[0m response_conn \u001b[38;5;241m=\u001b[39m conn \u001b[38;5;28;01mif\u001b[39;00m \u001b[38;5;129;01mnot\u001b[39;00m release_conn \u001b[38;5;28;01melse\u001b[39;00m \u001b[38;5;28;01mNone\u001b[39;00m\n\u001b[1;32m    788\u001b[0m \u001b[38;5;66;03m# Make the request on the HTTPConnection object\u001b[39;00m\n\u001b[0;32m--> 789\u001b[0m response \u001b[38;5;241m=\u001b[39m \u001b[38;5;28;43mself\u001b[39;49m\u001b[38;5;241;43m.\u001b[39;49m\u001b[43m_make_request\u001b[49m\u001b[43m(\u001b[49m\n\u001b[1;32m    790\u001b[0m \u001b[43m    \u001b[49m\u001b[43mconn\u001b[49m\u001b[43m,\u001b[49m\n\u001b[1;32m    791\u001b[0m \u001b[43m    \u001b[49m\u001b[43mmethod\u001b[49m\u001b[43m,\u001b[49m\n\u001b[1;32m    792\u001b[0m \u001b[43m    \u001b[49m\u001b[43murl\u001b[49m\u001b[43m,\u001b[49m\n\u001b[1;32m    793\u001b[0m \u001b[43m    \u001b[49m\u001b[43mtimeout\u001b[49m\u001b[38;5;241;43m=\u001b[39;49m\u001b[43mtimeout_obj\u001b[49m\u001b[43m,\u001b[49m\n\u001b[1;32m    794\u001b[0m \u001b[43m    \u001b[49m\u001b[43mbody\u001b[49m\u001b[38;5;241;43m=\u001b[39;49m\u001b[43mbody\u001b[49m\u001b[43m,\u001b[49m\n\u001b[1;32m    795\u001b[0m \u001b[43m    \u001b[49m\u001b[43mheaders\u001b[49m\u001b[38;5;241;43m=\u001b[39;49m\u001b[43mheaders\u001b[49m\u001b[43m,\u001b[49m\n\u001b[1;32m    796\u001b[0m \u001b[43m    \u001b[49m\u001b[43mchunked\u001b[49m\u001b[38;5;241;43m=\u001b[39;49m\u001b[43mchunked\u001b[49m\u001b[43m,\u001b[49m\n\u001b[1;32m    797\u001b[0m \u001b[43m    \u001b[49m\u001b[43mretries\u001b[49m\u001b[38;5;241;43m=\u001b[39;49m\u001b[43mretries\u001b[49m\u001b[43m,\u001b[49m\n\u001b[1;32m    798\u001b[0m \u001b[43m    \u001b[49m\u001b[43mresponse_conn\u001b[49m\u001b[38;5;241;43m=\u001b[39;49m\u001b[43mresponse_conn\u001b[49m\u001b[43m,\u001b[49m\n\u001b[1;32m    799\u001b[0m \u001b[43m    \u001b[49m\u001b[43mpreload_content\u001b[49m\u001b[38;5;241;43m=\u001b[39;49m\u001b[43mpreload_content\u001b[49m\u001b[43m,\u001b[49m\n\u001b[1;32m    800\u001b[0m \u001b[43m    \u001b[49m\u001b[43mdecode_content\u001b[49m\u001b[38;5;241;43m=\u001b[39;49m\u001b[43mdecode_content\u001b[49m\u001b[43m,\u001b[49m\n\u001b[1;32m    801\u001b[0m \u001b[43m    \u001b[49m\u001b[38;5;241;43m*\u001b[39;49m\u001b[38;5;241;43m*\u001b[39;49m\u001b[43mresponse_kw\u001b[49m\u001b[43m,\u001b[49m\n\u001b[1;32m    802\u001b[0m \u001b[43m\u001b[49m\u001b[43m)\u001b[49m\n\u001b[1;32m    804\u001b[0m \u001b[38;5;66;03m# Everything went great!\u001b[39;00m\n\u001b[1;32m    805\u001b[0m clean_exit \u001b[38;5;241m=\u001b[39m \u001b[38;5;28;01mTrue\u001b[39;00m\n",
      "File \u001b[0;32m~/opt/anaconda3/envs/pokemon_card/lib/python3.9/site-packages/urllib3/connectionpool.py:536\u001b[0m, in \u001b[0;36mHTTPConnectionPool._make_request\u001b[0;34m(self, conn, method, url, body, headers, retries, timeout, chunked, response_conn, preload_content, decode_content, enforce_content_length)\u001b[0m\n\u001b[1;32m    534\u001b[0m \u001b[38;5;66;03m# Receive the response from the server\u001b[39;00m\n\u001b[1;32m    535\u001b[0m \u001b[38;5;28;01mtry\u001b[39;00m:\n\u001b[0;32m--> 536\u001b[0m     response \u001b[38;5;241m=\u001b[39m \u001b[43mconn\u001b[49m\u001b[38;5;241;43m.\u001b[39;49m\u001b[43mgetresponse\u001b[49m\u001b[43m(\u001b[49m\u001b[43m)\u001b[49m\n\u001b[1;32m    537\u001b[0m \u001b[38;5;28;01mexcept\u001b[39;00m (BaseSSLError, \u001b[38;5;167;01mOSError\u001b[39;00m) \u001b[38;5;28;01mas\u001b[39;00m e:\n\u001b[1;32m    538\u001b[0m     \u001b[38;5;28mself\u001b[39m\u001b[38;5;241m.\u001b[39m_raise_timeout(err\u001b[38;5;241m=\u001b[39me, url\u001b[38;5;241m=\u001b[39murl, timeout_value\u001b[38;5;241m=\u001b[39mread_timeout)\n",
      "File \u001b[0;32m~/opt/anaconda3/envs/pokemon_card/lib/python3.9/site-packages/urllib3/connection.py:507\u001b[0m, in \u001b[0;36mHTTPConnection.getresponse\u001b[0;34m(self)\u001b[0m\n\u001b[1;32m    504\u001b[0m \u001b[38;5;28;01mfrom\u001b[39;00m \u001b[38;5;21;01m.\u001b[39;00m\u001b[38;5;21;01mresponse\u001b[39;00m \u001b[38;5;28;01mimport\u001b[39;00m HTTPResponse\n\u001b[1;32m    506\u001b[0m \u001b[38;5;66;03m# Get the response from http.client.HTTPConnection\u001b[39;00m\n\u001b[0;32m--> 507\u001b[0m httplib_response \u001b[38;5;241m=\u001b[39m \u001b[38;5;28;43msuper\u001b[39;49m\u001b[43m(\u001b[49m\u001b[43m)\u001b[49m\u001b[38;5;241;43m.\u001b[39;49m\u001b[43mgetresponse\u001b[49m\u001b[43m(\u001b[49m\u001b[43m)\u001b[49m\n\u001b[1;32m    509\u001b[0m \u001b[38;5;28;01mtry\u001b[39;00m:\n\u001b[1;32m    510\u001b[0m     assert_header_parsing(httplib_response\u001b[38;5;241m.\u001b[39mmsg)\n",
      "File \u001b[0;32m~/opt/anaconda3/envs/pokemon_card/lib/python3.9/http/client.py:1377\u001b[0m, in \u001b[0;36mHTTPConnection.getresponse\u001b[0;34m(self)\u001b[0m\n\u001b[1;32m   1375\u001b[0m \u001b[38;5;28;01mtry\u001b[39;00m:\n\u001b[1;32m   1376\u001b[0m     \u001b[38;5;28;01mtry\u001b[39;00m:\n\u001b[0;32m-> 1377\u001b[0m         \u001b[43mresponse\u001b[49m\u001b[38;5;241;43m.\u001b[39;49m\u001b[43mbegin\u001b[49m\u001b[43m(\u001b[49m\u001b[43m)\u001b[49m\n\u001b[1;32m   1378\u001b[0m     \u001b[38;5;28;01mexcept\u001b[39;00m \u001b[38;5;167;01mConnectionError\u001b[39;00m:\n\u001b[1;32m   1379\u001b[0m         \u001b[38;5;28mself\u001b[39m\u001b[38;5;241m.\u001b[39mclose()\n",
      "File \u001b[0;32m~/opt/anaconda3/envs/pokemon_card/lib/python3.9/http/client.py:320\u001b[0m, in \u001b[0;36mHTTPResponse.begin\u001b[0;34m(self)\u001b[0m\n\u001b[1;32m    318\u001b[0m \u001b[38;5;66;03m# read until we get a non-100 response\u001b[39;00m\n\u001b[1;32m    319\u001b[0m \u001b[38;5;28;01mwhile\u001b[39;00m \u001b[38;5;28;01mTrue\u001b[39;00m:\n\u001b[0;32m--> 320\u001b[0m     version, status, reason \u001b[38;5;241m=\u001b[39m \u001b[38;5;28;43mself\u001b[39;49m\u001b[38;5;241;43m.\u001b[39;49m\u001b[43m_read_status\u001b[49m\u001b[43m(\u001b[49m\u001b[43m)\u001b[49m\n\u001b[1;32m    321\u001b[0m     \u001b[38;5;28;01mif\u001b[39;00m status \u001b[38;5;241m!=\u001b[39m CONTINUE:\n\u001b[1;32m    322\u001b[0m         \u001b[38;5;28;01mbreak\u001b[39;00m\n",
      "File \u001b[0;32m~/opt/anaconda3/envs/pokemon_card/lib/python3.9/http/client.py:281\u001b[0m, in \u001b[0;36mHTTPResponse._read_status\u001b[0;34m(self)\u001b[0m\n\u001b[1;32m    280\u001b[0m \u001b[38;5;28;01mdef\u001b[39;00m \u001b[38;5;21m_read_status\u001b[39m(\u001b[38;5;28mself\u001b[39m):\n\u001b[0;32m--> 281\u001b[0m     line \u001b[38;5;241m=\u001b[39m \u001b[38;5;28mstr\u001b[39m(\u001b[38;5;28;43mself\u001b[39;49m\u001b[38;5;241;43m.\u001b[39;49m\u001b[43mfp\u001b[49m\u001b[38;5;241;43m.\u001b[39;49m\u001b[43mreadline\u001b[49m\u001b[43m(\u001b[49m\u001b[43m_MAXLINE\u001b[49m\u001b[43m \u001b[49m\u001b[38;5;241;43m+\u001b[39;49m\u001b[43m \u001b[49m\u001b[38;5;241;43m1\u001b[39;49m\u001b[43m)\u001b[49m, \u001b[38;5;124m\"\u001b[39m\u001b[38;5;124miso-8859-1\u001b[39m\u001b[38;5;124m\"\u001b[39m)\n\u001b[1;32m    282\u001b[0m     \u001b[38;5;28;01mif\u001b[39;00m \u001b[38;5;28mlen\u001b[39m(line) \u001b[38;5;241m>\u001b[39m _MAXLINE:\n\u001b[1;32m    283\u001b[0m         \u001b[38;5;28;01mraise\u001b[39;00m LineTooLong(\u001b[38;5;124m\"\u001b[39m\u001b[38;5;124mstatus line\u001b[39m\u001b[38;5;124m\"\u001b[39m)\n",
      "File \u001b[0;32m~/opt/anaconda3/envs/pokemon_card/lib/python3.9/socket.py:716\u001b[0m, in \u001b[0;36mSocketIO.readinto\u001b[0;34m(self, b)\u001b[0m\n\u001b[1;32m    714\u001b[0m \u001b[38;5;28;01mwhile\u001b[39;00m \u001b[38;5;28;01mTrue\u001b[39;00m:\n\u001b[1;32m    715\u001b[0m     \u001b[38;5;28;01mtry\u001b[39;00m:\n\u001b[0;32m--> 716\u001b[0m         \u001b[38;5;28;01mreturn\u001b[39;00m \u001b[38;5;28;43mself\u001b[39;49m\u001b[38;5;241;43m.\u001b[39;49m\u001b[43m_sock\u001b[49m\u001b[38;5;241;43m.\u001b[39;49m\u001b[43mrecv_into\u001b[49m\u001b[43m(\u001b[49m\u001b[43mb\u001b[49m\u001b[43m)\u001b[49m\n\u001b[1;32m    717\u001b[0m     \u001b[38;5;28;01mexcept\u001b[39;00m timeout:\n\u001b[1;32m    718\u001b[0m         \u001b[38;5;28mself\u001b[39m\u001b[38;5;241m.\u001b[39m_timeout_occurred \u001b[38;5;241m=\u001b[39m \u001b[38;5;28;01mTrue\u001b[39;00m\n",
      "\u001b[0;31mKeyboardInterrupt\u001b[0m: "
     ]
    }
   ],
   "source": [
    "save_historic_prices(df)"
   ]
  },
  {
   "cell_type": "code",
   "execution_count": null,
   "metadata": {},
   "outputs": [],
   "source": []
  },
  {
   "cell_type": "code",
   "execution_count": null,
   "metadata": {},
   "outputs": [],
   "source": []
  },
  {
   "cell_type": "code",
   "execution_count": null,
   "metadata": {},
   "outputs": [],
   "source": []
  }
 ],
 "metadata": {
  "kernelspec": {
   "display_name": "pokemon_card",
   "language": "python",
   "name": "python3"
  },
  "language_info": {
   "codemirror_mode": {
    "name": "ipython",
    "version": 3
   },
   "file_extension": ".py",
   "mimetype": "text/x-python",
   "name": "python",
   "nbconvert_exporter": "python",
   "pygments_lexer": "ipython3",
   "version": "3.9.20"
  }
 },
 "nbformat": 4,
 "nbformat_minor": 2
}
