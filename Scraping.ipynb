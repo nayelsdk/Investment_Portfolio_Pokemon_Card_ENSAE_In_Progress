{
 "cells": [
  {
   "cell_type": "code",
   "execution_count": 1,
   "metadata": {},
   "outputs": [
    {
     "name": "stdout",
     "output_type": "stream",
     "text": [
      "Intel MKL WARNING: Support of Intel(R) Streaming SIMD Extensions 4.2 (Intel(R) SSE4.2) enabled only processors has been deprecated. Intel oneAPI Math Kernel Library 2025.0 will require Intel(R) Advanced Vector Extensions (Intel(R) AVX) instructions.\n",
      "Intel MKL WARNING: Support of Intel(R) Streaming SIMD Extensions 4.2 (Intel(R) SSE4.2) enabled only processors has been deprecated. Intel oneAPI Math Kernel Library 2025.0 will require Intel(R) Advanced Vector Extensions (Intel(R) AVX) instructions.\n"
     ]
    }
   ],
   "source": [
    "import requests\n",
    "from bs4 import BeautifulSoup\n",
    "import pandas as pd"
   ]
  },
  {
   "cell_type": "code",
   "execution_count": 46,
   "metadata": {},
   "outputs": [],
   "source": [
    "from scraping_cleaning_data import import_data, get_prices, filter_holofoil_data"
   ]
  },
  {
   "cell_type": "code",
   "execution_count": 47,
   "metadata": {},
   "outputs": [],
   "source": [
    "df1=import_data()\n",
    "df=filter_holofoil_data(df1)"
   ]
  },
  {
   "cell_type": "code",
   "execution_count": 48,
   "metadata": {},
   "outputs": [
    {
     "data": {
      "text/html": [
       "<div>\n",
       "<style scoped>\n",
       "    .dataframe tbody tr th:only-of-type {\n",
       "        vertical-align: middle;\n",
       "    }\n",
       "\n",
       "    .dataframe tbody tr th {\n",
       "        vertical-align: top;\n",
       "    }\n",
       "\n",
       "    .dataframe thead th {\n",
       "        text-align: right;\n",
       "    }\n",
       "</style>\n",
       "<table border=\"1\" class=\"dataframe\">\n",
       "  <thead>\n",
       "    <tr style=\"text-align: right;\">\n",
       "      <th></th>\n",
       "      <th>id</th>\n",
       "      <th>name</th>\n",
       "      <th>rarity</th>\n",
       "      <th>collection</th>\n",
       "      <th>series</th>\n",
       "      <th>holofoil_price</th>\n",
       "      <th>reverse_holofoil_price</th>\n",
       "      <th>url</th>\n",
       "      <th>nationalPokedexNumbers</th>\n",
       "      <th>artist</th>\n",
       "    </tr>\n",
       "  </thead>\n",
       "  <tbody>\n",
       "    <tr>\n",
       "      <th>0</th>\n",
       "      <td>dp3-1</td>\n",
       "      <td>Ampharos</td>\n",
       "      <td>Rare Holo</td>\n",
       "      <td>Secret Wonders</td>\n",
       "      <td>Diamond &amp; Pearl</td>\n",
       "      <td>14.02</td>\n",
       "      <td>11.17</td>\n",
       "      <td>https://prices.pokemontcg.io/tcgplayer/dp3-1</td>\n",
       "      <td>[181]</td>\n",
       "      <td>Kouki Saitou</td>\n",
       "    </tr>\n",
       "    <tr>\n",
       "      <th>1</th>\n",
       "      <td>ex12-1</td>\n",
       "      <td>Aerodactyl</td>\n",
       "      <td>Rare Holo</td>\n",
       "      <td>Legend Maker</td>\n",
       "      <td>EX</td>\n",
       "      <td>20.76</td>\n",
       "      <td>32.49</td>\n",
       "      <td>https://prices.pokemontcg.io/tcgplayer/ex12-1</td>\n",
       "      <td>[142]</td>\n",
       "      <td>Hajime Kusajima</td>\n",
       "    </tr>\n",
       "    <tr>\n",
       "      <th>3</th>\n",
       "      <td>ex7-1</td>\n",
       "      <td>Azumarill</td>\n",
       "      <td>Rare Holo</td>\n",
       "      <td>Team Rocket Returns</td>\n",
       "      <td>EX</td>\n",
       "      <td>24.88</td>\n",
       "      <td>15.29</td>\n",
       "      <td>https://prices.pokemontcg.io/tcgplayer/ex7-1</td>\n",
       "      <td>[184]</td>\n",
       "      <td>Sumiyoshi Kizuki</td>\n",
       "    </tr>\n",
       "    <tr>\n",
       "      <th>4</th>\n",
       "      <td>sm9-1</td>\n",
       "      <td>Celebi &amp; Venusaur-GX</td>\n",
       "      <td>Rare Holo GX</td>\n",
       "      <td>Team Up</td>\n",
       "      <td>Sun &amp; Moon</td>\n",
       "      <td>11.91</td>\n",
       "      <td>NaN</td>\n",
       "      <td>https://prices.pokemontcg.io/tcgplayer/sm9-1</td>\n",
       "      <td>[3, 251]</td>\n",
       "      <td>Mitsuhiro Arita</td>\n",
       "    </tr>\n",
       "    <tr>\n",
       "      <th>5</th>\n",
       "      <td>pl1-2</td>\n",
       "      <td>Blastoise</td>\n",
       "      <td>Rare Holo</td>\n",
       "      <td>Platinum</td>\n",
       "      <td>Platinum</td>\n",
       "      <td>20.01</td>\n",
       "      <td>12.34</td>\n",
       "      <td>https://prices.pokemontcg.io/tcgplayer/pl1-2</td>\n",
       "      <td>[9]</td>\n",
       "      <td>Kagemaru Himeno</td>\n",
       "    </tr>\n",
       "    <tr>\n",
       "      <th>...</th>\n",
       "      <td>...</td>\n",
       "      <td>...</td>\n",
       "      <td>...</td>\n",
       "      <td>...</td>\n",
       "      <td>...</td>\n",
       "      <td>...</td>\n",
       "      <td>...</td>\n",
       "      <td>...</td>\n",
       "      <td>...</td>\n",
       "      <td>...</td>\n",
       "    </tr>\n",
       "    <tr>\n",
       "      <th>968</th>\n",
       "      <td>base4-11</td>\n",
       "      <td>Nidoking</td>\n",
       "      <td>Rare Holo</td>\n",
       "      <td>Base Set 2</td>\n",
       "      <td>Base</td>\n",
       "      <td>18.22</td>\n",
       "      <td>NaN</td>\n",
       "      <td>https://prices.pokemontcg.io/tcgplayer/base4-11</td>\n",
       "      <td>[34]</td>\n",
       "      <td>Ken Sugimori</td>\n",
       "    </tr>\n",
       "    <tr>\n",
       "      <th>969</th>\n",
       "      <td>ex4-12</td>\n",
       "      <td>Team Magma's Torkoal</td>\n",
       "      <td>Rare Holo</td>\n",
       "      <td>Team Magma vs Team Aqua</td>\n",
       "      <td>EX</td>\n",
       "      <td>14.10</td>\n",
       "      <td>8.14</td>\n",
       "      <td>https://prices.pokemontcg.io/tcgplayer/ex4-12</td>\n",
       "      <td>[324]</td>\n",
       "      <td>K. Hoshiba</td>\n",
       "    </tr>\n",
       "    <tr>\n",
       "      <th>981</th>\n",
       "      <td>ex12-13</td>\n",
       "      <td>Victreebel</td>\n",
       "      <td>Rare Holo</td>\n",
       "      <td>Legend Maker</td>\n",
       "      <td>EX</td>\n",
       "      <td>7.79</td>\n",
       "      <td>15.22</td>\n",
       "      <td>https://prices.pokemontcg.io/tcgplayer/ex12-13</td>\n",
       "      <td>[71]</td>\n",
       "      <td>Sumiyoshi Kizuki</td>\n",
       "    </tr>\n",
       "    <tr>\n",
       "      <th>994</th>\n",
       "      <td>dpp-DP11</td>\n",
       "      <td>Empoleon LV.X</td>\n",
       "      <td>Promo</td>\n",
       "      <td>DP Black Star Promos</td>\n",
       "      <td>Diamond &amp; Pearl</td>\n",
       "      <td>15.24</td>\n",
       "      <td>NaN</td>\n",
       "      <td>https://prices.pokemontcg.io/tcgplayer/dpp-DP11</td>\n",
       "      <td>[395]</td>\n",
       "      <td>Shizurow</td>\n",
       "    </tr>\n",
       "    <tr>\n",
       "      <th>996</th>\n",
       "      <td>base1-11</td>\n",
       "      <td>Nidoking</td>\n",
       "      <td>Rare Holo</td>\n",
       "      <td>Base</td>\n",
       "      <td>Base</td>\n",
       "      <td>27.44</td>\n",
       "      <td>NaN</td>\n",
       "      <td>https://prices.pokemontcg.io/tcgplayer/base1-11</td>\n",
       "      <td>[34]</td>\n",
       "      <td>Ken Sugimori</td>\n",
       "    </tr>\n",
       "  </tbody>\n",
       "</table>\n",
       "<p>222 rows × 10 columns</p>\n",
       "</div>"
      ],
      "text/plain": [
       "           id                  name        rarity               collection  \\\n",
       "0       dp3-1              Ampharos     Rare Holo           Secret Wonders   \n",
       "1      ex12-1            Aerodactyl     Rare Holo             Legend Maker   \n",
       "3       ex7-1             Azumarill     Rare Holo      Team Rocket Returns   \n",
       "4       sm9-1  Celebi & Venusaur-GX  Rare Holo GX                  Team Up   \n",
       "5       pl1-2             Blastoise     Rare Holo                 Platinum   \n",
       "..        ...                   ...           ...                      ...   \n",
       "968  base4-11              Nidoking     Rare Holo               Base Set 2   \n",
       "969    ex4-12  Team Magma's Torkoal     Rare Holo  Team Magma vs Team Aqua   \n",
       "981   ex12-13            Victreebel     Rare Holo             Legend Maker   \n",
       "994  dpp-DP11         Empoleon LV.X         Promo     DP Black Star Promos   \n",
       "996  base1-11              Nidoking     Rare Holo                     Base   \n",
       "\n",
       "              series  holofoil_price  reverse_holofoil_price  \\\n",
       "0    Diamond & Pearl           14.02                   11.17   \n",
       "1                 EX           20.76                   32.49   \n",
       "3                 EX           24.88                   15.29   \n",
       "4         Sun & Moon           11.91                     NaN   \n",
       "5           Platinum           20.01                   12.34   \n",
       "..               ...             ...                     ...   \n",
       "968             Base           18.22                     NaN   \n",
       "969               EX           14.10                    8.14   \n",
       "981               EX            7.79                   15.22   \n",
       "994  Diamond & Pearl           15.24                     NaN   \n",
       "996             Base           27.44                     NaN   \n",
       "\n",
       "                                                 url nationalPokedexNumbers  \\\n",
       "0       https://prices.pokemontcg.io/tcgplayer/dp3-1                  [181]   \n",
       "1      https://prices.pokemontcg.io/tcgplayer/ex12-1                  [142]   \n",
       "3       https://prices.pokemontcg.io/tcgplayer/ex7-1                  [184]   \n",
       "4       https://prices.pokemontcg.io/tcgplayer/sm9-1               [3, 251]   \n",
       "5       https://prices.pokemontcg.io/tcgplayer/pl1-2                    [9]   \n",
       "..                                               ...                    ...   \n",
       "968  https://prices.pokemontcg.io/tcgplayer/base4-11                   [34]   \n",
       "969    https://prices.pokemontcg.io/tcgplayer/ex4-12                  [324]   \n",
       "981   https://prices.pokemontcg.io/tcgplayer/ex12-13                   [71]   \n",
       "994  https://prices.pokemontcg.io/tcgplayer/dpp-DP11                  [395]   \n",
       "996  https://prices.pokemontcg.io/tcgplayer/base1-11                   [34]   \n",
       "\n",
       "               artist  \n",
       "0        Kouki Saitou  \n",
       "1     Hajime Kusajima  \n",
       "3    Sumiyoshi Kizuki  \n",
       "4     Mitsuhiro Arita  \n",
       "5     Kagemaru Himeno  \n",
       "..                ...  \n",
       "968      Ken Sugimori  \n",
       "969        K. Hoshiba  \n",
       "981  Sumiyoshi Kizuki  \n",
       "994          Shizurow  \n",
       "996      Ken Sugimori  \n",
       "\n",
       "[222 rows x 10 columns]"
      ]
     },
     "execution_count": 48,
     "metadata": {},
     "output_type": "execute_result"
    }
   ],
   "source": [
    "df"
   ]
  },
  {
   "cell_type": "code",
   "execution_count": 3,
   "metadata": {},
   "outputs": [
    {
     "data": {
      "text/plain": [
       "Index(['id', 'name', 'rarity', 'collection', 'series', 'holofoil_price',\n",
       "       'reverse_holofoil_price', 'url', 'nationalPokedexNumbers', 'artist'],\n",
       "      dtype='object')"
      ]
     },
     "execution_count": 3,
     "metadata": {},
     "output_type": "execute_result"
    }
   ],
   "source": [
    "df.columns"
   ]
  },
  {
   "cell_type": "code",
   "execution_count": 10,
   "metadata": {},
   "outputs": [],
   "source": [
    "import time\n",
    "from selenium import webdriver\n",
    "from selenium.webdriver.chrome.service import Service\n",
    "from selenium.webdriver.chrome.options import Options\n",
    "from webdriver_manager.chrome import ChromeDriverManager\n",
    "\n",
    "website = 'https://prices.pokemontcg.io/tcgplayer/ex12-1'\n",
    "service = Service(ChromeDriverManager().install())\n",
    "\n",
    "chrome_options = Options()\n",
    "chrome_options.add_argument(\"--disable-gpu\")\n",
    "chrome_options.add_argument(\"--no-sandbox\")\n",
    "chrome_options.add_argument(\"--headless\")  # Supprimez cette ligne pour afficher le navigateur\n",
    "\n",
    "driver = webdriver.Chrome(service=service, options=chrome_options)\n",
    "\n",
    "driver.get(website)\n",
    "time.sleep(5)  \n",
    "html_code = driver.page_source\n",
    "driver.quit()\n",
    "\n",
    "\n",
    "with open(\"page_complete.html\", \"w\", encoding=\"utf-8\") as f:\n",
    "    f.write(html_code)\n"
   ]
  },
  {
   "cell_type": "code",
   "execution_count": 11,
   "metadata": {},
   "outputs": [],
   "source": [
    "soup=BeautifulSoup(html_code,'html5lib')"
   ]
  },
  {
   "cell_type": "code",
   "execution_count": 12,
   "metadata": {},
   "outputs": [
    {
     "data": {
      "text/plain": [
       "' -  - '"
      ]
     },
     "execution_count": 12,
     "metadata": {},
     "output_type": "execute_result"
    }
   ],
   "source": [
    "titre=soup.find(\"title\").text\n",
    "titre"
   ]
  },
  {
   "cell_type": "code",
   "execution_count": 54,
   "metadata": {},
   "outputs": [
    {
     "name": "stdout",
     "output_type": "stream",
     "text": [
      "Erreur d'attente pour le chargement de la page : Message: \n",
      "Stacktrace:\n",
      "0   chromedriver                        0x0000000102b25e82 chromedriver + 6696578\n",
      "1   chromedriver                        0x0000000102b1dc9a chromedriver + 6663322\n",
      "2   chromedriver                        0x0000000102525e3e chromedriver + 405054\n",
      "3   chromedriver                        0x0000000102576815 chromedriver + 735253\n",
      "4   chromedriver                        0x0000000102576d11 chromedriver + 736529\n",
      "5   chromedriver                        0x00000001025c1314 chromedriver + 1041172\n",
      "6   chromedriver                        0x000000010259b89d chromedriver + 886941\n",
      "7   chromedriver                        0x00000001025be3f4 chromedriver + 1029108\n",
      "8   chromedriver                        0x000000010259b613 chromedriver + 886291\n",
      "9   chromedriver                        0x0000000102568950 chromedriver + 678224\n",
      "10  chromedriver                        0x000000010256934e chromedriver + 680782\n",
      "11  chromedriver                        0x0000000102af3770 chromedriver + 6489968\n",
      "12  chromedriver                        0x0000000102af6219 chromedriver + 6500889\n",
      "13  chromedriver                        0x0000000102af5d3b chromedriver + 6499643\n",
      "14  chromedriver                        0x0000000102af66a5 chromedriver + 6502053\n",
      "15  chromedriver                        0x0000000102ade524 chromedriver + 6403364\n",
      "16  chromedriver                        0x0000000102af698f chromedriver + 6502799\n",
      "17  chromedriver                        0x0000000102acf954 chromedriver + 6342996\n",
      "18  chromedriver                        0x0000000102b0e378 chromedriver + 6599544\n",
      "19  chromedriver                        0x0000000102b0e535 chromedriver + 6599989\n",
      "20  chromedriver                        0x0000000102b1d868 chromedriver + 6662248\n",
      "21  libsystem_pthread.dylib             0x00007ff8159b3253 _pthread_start + 99\n",
      "22  libsystem_pthread.dylib             0x00007ff8159aebef thread_start + 15\n",
      "\n"
     ]
    }
   ],
   "source": [
    "import time\n",
    "from selenium import webdriver\n",
    "from selenium.webdriver.chrome.service import Service\n",
    "from selenium.webdriver.chrome.options import Options\n",
    "from selenium.webdriver.common.by import By\n",
    "from selenium.webdriver.support.ui import WebDriverWait\n",
    "from selenium.webdriver.support import expected_conditions as EC\n",
    "from webdriver_manager.chrome import ChromeDriverManager\n",
    "from bs4 import BeautifulSoup\n",
    "\n",
    "# URL du site à scraper\n",
    "website = 'https://prices.pokemontcg.io/tcgplayer/ex7-1'\n",
    "\n",
    "# Configurer le service et les options du WebDriver\n",
    "service = Service(ChromeDriverManager().install())\n",
    "\n",
    "chrome_options = Options()\n",
    "chrome_options.add_argument(\"--disable-gpu\")\n",
    "chrome_options.add_argument(\"--no-sandbox\")\n",
    "#chrome_options.add_argument(\"--headless\")  # Supprimez cette ligne pour afficher le navigateur\n",
    "\n",
    "# Initialiser le WebDriver\n",
    "driver = webdriver.Chrome(service=service, options=chrome_options)\n",
    "\n",
    "# Accéder au site\n",
    "driver.get(website)\n",
    "\n",
    "try:\n",
    "    WebDriverWait(driver, 10).until(\n",
    "        EC.presence_of_element_located((By.CLASS_NAME, 'price-table'))  # Attendre que la table soit visible\n",
    "    )\n",
    "except Exception as e:\n",
    "    print(f\"Erreur d'attente pour le chargement de la page : {e}\")\n",
    "\n",
    "# Récupérer le code HTML final\n",
    "html_code = driver.page_source\n",
    "\n",
    "\n",
    "with open(\"page_complete_test.html\", \"w\", encoding=\"utf-8\") as f:\n",
    "    f.write(html_code)\n",
    "driver.quit()\n"
   ]
  },
  {
   "cell_type": "code",
   "execution_count": 50,
   "metadata": {},
   "outputs": [],
   "source": [
    "# Utiliser BeautifulSoup pour analyser le code HTML\n",
    "soup = BeautifulSoup(html_code, 'html5lib')"
   ]
  },
  {
   "cell_type": "code",
   "execution_count": 52,
   "metadata": {},
   "outputs": [
    {
     "data": {
      "text/plain": [
       "[]"
      ]
     },
     "execution_count": 52,
     "metadata": {},
     "output_type": "execute_result"
    }
   ],
   "source": [
    "titre=soup.find_all(\"tbody\")\n",
    "titre"
   ]
  },
  {
   "cell_type": "code",
   "execution_count": null,
   "metadata": {},
   "outputs": [],
   "source": []
  }
 ],
 "metadata": {
  "kernelspec": {
   "display_name": "pokemon_card",
   "language": "python",
   "name": "python3"
  },
  "language_info": {
   "codemirror_mode": {
    "name": "ipython",
    "version": 3
   },
   "file_extension": ".py",
   "mimetype": "text/x-python",
   "name": "python",
   "nbconvert_exporter": "python",
   "pygments_lexer": "ipython3",
   "version": "3.9.20"
  }
 },
 "nbformat": 4,
 "nbformat_minor": 2
}
