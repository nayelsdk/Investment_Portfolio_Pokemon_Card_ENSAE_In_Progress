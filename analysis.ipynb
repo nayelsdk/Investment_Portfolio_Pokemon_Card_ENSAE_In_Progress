{
  "cells": [
    {
      "cell_type": "markdown",
      "metadata": {},
      "source": [
        "# **Data Analysis & Statistics 🔎**"
      ]
    },
    {
      "cell_type": "markdown",
      "metadata": {},
      "source": [
        "This notebook contains a comprehensive statistical analysis of the `pokemon_cards.csv` dataset. The dataset encompasses detailed information about Pokémon trading cards, including card names, rarity classifications, pricing data (holofoil and reverse holofoil variants), release dates, and popularity rankings.\n",
        "\n",
        "Here are the main steps of the analysis : \n",
        "1. Lasso Regression with cross-validation on specific parameters\n",
        "2. Top 10 Series with the Most Expensive Cards\n",
        "3. Top 10 Rarities with the Most Expensive Cards\n",
        "4. Relationship between Popularity and Holofoil Price\n",
        "5. Correlation Between Release Date and Holofoil Price\n",
        "6. Top 10 Artists with the Most Expensive Cards\n",
        "7. Top 10 Artists with Most Popular Cards"
      ]
    },
    {
      "cell_type": "markdown",
      "metadata": {
        "id": "-SPvSWkTzYHE"
      },
      "source": [
        "Importing Libraries and Loading the Pokémon Card Dataset\n"
      ]
    },
    {
      "cell_type": "code",
      "execution_count": 3,
      "metadata": {
        "id": "-NaRZChqzXEC"
      },
      "outputs": [],
      "source": [
        "import pandas as pd\n",
        "import numpy as np\n",
        "import seaborn as sns\n",
        "import matplotlib.pyplot as plt\n",
        "from sklearn.linear_model import LinearRegression\n",
        "from sklearn.model_selection import train_test_split\n",
        "from sklearn.metrics import mean_squared_error, r2_score\n",
        "from sklearn.preprocessing import OneHotEncoder, StandardScaler\n",
        "from sklearn.compose import ColumnTransformer\n",
        "from sklearn.linear_model import LassoCV\n",
        "import plotly.express as px\n",
        "import matplotlib.font_manager as fm\n",
        "\n",
        "\n",
        "file_path = \"datas/pokemon_cards.csv\"\n",
        "data = pd.read_csv(file_path)\n"
      ]
    },
    {
      "cell_type": "markdown",
      "metadata": {
        "id": "d9_Dojdc0kkU"
      },
      "source": [
        "Previewing the Dataset"
      ]
    },
    {
      "cell_type": "code",
      "execution_count": 17,
      "metadata": {
        "colab": {
          "base_uri": "https://localhost:8080/",
          "height": 246
        },
        "id": "Z6jxPemM0lSe",
        "outputId": "42e14108-7dcf-4b31-8235-8343d83c4644"
      },
      "outputs": [
        {
          "data": {
            "text/html": [
              "<div>\n",
              "<style scoped>\n",
              "    .dataframe tbody tr th:only-of-type {\n",
              "        vertical-align: middle;\n",
              "    }\n",
              "\n",
              "    .dataframe tbody tr th {\n",
              "        vertical-align: top;\n",
              "    }\n",
              "\n",
              "    .dataframe thead th {\n",
              "        text-align: right;\n",
              "    }\n",
              "</style>\n",
              "<table border=\"1\" class=\"dataframe\">\n",
              "  <thead>\n",
              "    <tr style=\"text-align: right;\">\n",
              "      <th></th>\n",
              "      <th>id</th>\n",
              "      <th>name</th>\n",
              "      <th>rarity</th>\n",
              "      <th>collection</th>\n",
              "      <th>series</th>\n",
              "      <th>holofoil_price</th>\n",
              "      <th>reverse_holofoil_price</th>\n",
              "      <th>release_date</th>\n",
              "      <th>nationalPokedexNumbers</th>\n",
              "      <th>artist</th>\n",
              "      <th>images_url</th>\n",
              "      <th>popularity_rank</th>\n",
              "      <th>average_price</th>\n",
              "      <th>processed_popularity</th>\n",
              "    </tr>\n",
              "  </thead>\n",
              "  <tbody>\n",
              "    <tr>\n",
              "      <th>0</th>\n",
              "      <td>dp3-1</td>\n",
              "      <td>Ampharos</td>\n",
              "      <td>Rare Holo</td>\n",
              "      <td>Secret Wonders</td>\n",
              "      <td>Diamond &amp; Pearl</td>\n",
              "      <td>14.73</td>\n",
              "      <td>9.99</td>\n",
              "      <td>2007-11-01</td>\n",
              "      <td>[181]</td>\n",
              "      <td>Kouki Saitou</td>\n",
              "      <td>https://images.pokemontcg.io/dp3/1_hires.png</td>\n",
              "      <td>#41</td>\n",
              "      <td>12.36</td>\n",
              "      <td>41.0</td>\n",
              "    </tr>\n",
              "    <tr>\n",
              "      <th>3</th>\n",
              "      <td>sm9-1</td>\n",
              "      <td>Celebi &amp; Venusaur-GX</td>\n",
              "      <td>Rare Holo GX</td>\n",
              "      <td>Team Up</td>\n",
              "      <td>Sun &amp; Moon</td>\n",
              "      <td>12.45</td>\n",
              "      <td>NaN</td>\n",
              "      <td>2019-02-01</td>\n",
              "      <td>[3, 251]</td>\n",
              "      <td>Mitsuhiro Arita</td>\n",
              "      <td>https://images.pokemontcg.io/sm9/1_hires.png</td>\n",
              "      <td>#84</td>\n",
              "      <td>12.45</td>\n",
              "      <td>84.0</td>\n",
              "    </tr>\n",
              "    <tr>\n",
              "      <th>4</th>\n",
              "      <td>pl1-2</td>\n",
              "      <td>Blastoise</td>\n",
              "      <td>Rare Holo</td>\n",
              "      <td>Platinum</td>\n",
              "      <td>Platinum</td>\n",
              "      <td>20.42</td>\n",
              "      <td>12.34</td>\n",
              "      <td>2009-02-11</td>\n",
              "      <td>[9]</td>\n",
              "      <td>Kagemaru Himeno</td>\n",
              "      <td>https://images.pokemontcg.io/pl1/2_hires.png</td>\n",
              "      <td>#106</td>\n",
              "      <td>16.38</td>\n",
              "      <td>106.0</td>\n",
              "    </tr>\n",
              "  </tbody>\n",
              "</table>\n",
              "</div>"
            ],
            "text/plain": [
              "      id                  name        rarity      collection           series  \\\n",
              "0  dp3-1              Ampharos     Rare Holo  Secret Wonders  Diamond & Pearl   \n",
              "3  sm9-1  Celebi & Venusaur-GX  Rare Holo GX         Team Up       Sun & Moon   \n",
              "4  pl1-2             Blastoise     Rare Holo        Platinum         Platinum   \n",
              "\n",
              "   holofoil_price  reverse_holofoil_price release_date nationalPokedexNumbers  \\\n",
              "0           14.73                    9.99   2007-11-01                  [181]   \n",
              "3           12.45                     NaN   2019-02-01               [3, 251]   \n",
              "4           20.42                   12.34   2009-02-11                    [9]   \n",
              "\n",
              "            artist                                    images_url  \\\n",
              "0     Kouki Saitou  https://images.pokemontcg.io/dp3/1_hires.png   \n",
              "3  Mitsuhiro Arita  https://images.pokemontcg.io/sm9/1_hires.png   \n",
              "4  Kagemaru Himeno  https://images.pokemontcg.io/pl1/2_hires.png   \n",
              "\n",
              "  popularity_rank  average_price  processed_popularity  \n",
              "0             #41          12.36                  41.0  \n",
              "3             #84          12.45                  84.0  \n",
              "4            #106          16.38                 106.0  "
            ]
          },
          "execution_count": 17,
          "metadata": {},
          "output_type": "execute_result"
        }
      ],
      "source": [
        "data.head(3)"
      ]
    },
    {
      "cell_type": "markdown",
      "metadata": {
        "id": "0qfbU4Y812K-"
      },
      "source": [
        "# **Useful Functions**\n",
        "The `calculate_avg_price` function computes the average of the two prices, `holofoil_price` and `reverse_holofoil_price`, if both are available. If one of the prices is missing, it returns the available price.\n"
      ]
    },
    {
      "cell_type": "code",
      "execution_count": 5,
      "metadata": {
        "id": "iUAxtKkm1MMw"
      },
      "outputs": [],
      "source": [
        "def calculate_avg_price(row):\n",
        "    \"\"\"\n",
        "    Calculate the average price for a Pokémon card.\n",
        "\n",
        "    Parameters:\n",
        "        row (pd.Series): A row from the DataFrame containing 'holofoil_price' and 'reverse_holofoil_price'.\n",
        "\n",
        "    Returns:\n",
        "        float: The average price if both prices are available.\n",
        "               If only one price is available, returns that price.\n",
        "               Returns NaN if both prices are missing.\n",
        "    \"\"\"\n",
        "    if pd.notnull(row['holofoil_price']) and pd.notnull(row['reverse_holofoil_price']):\n",
        "        return (row['holofoil_price'] + row['reverse_holofoil_price']) / 2\n",
        "    elif pd.notnull(row['holofoil_price']):\n",
        "        return row['holofoil_price']\n",
        "        return row['reverse_holofoil_price']\n",
        "\n"
      ]
    },
    {
      "cell_type": "markdown",
      "metadata": {
        "id": "rM9o_pD62RNq"
      },
      "source": [
        "The function `preprocess_popularity` processes the `popularite` column by handling non-referenced values and extracting numeric rankings."
      ]
    },
    {
      "cell_type": "code",
      "execution_count": 6,
      "metadata": {
        "id": "rb3Jw6uN2R1M"
      },
      "outputs": [],
      "source": [
        "def preprocess_popularity(value):\n",
        "    \"\"\"\n",
        "    Process the 'popularite' column to handle non-referenced values and extract rankings.\n",
        "\n",
        "    Parameters:\n",
        "        value (str): The raw value from the 'popularite' column.\n",
        "\n",
        "    Returns:\n",
        "        int or float: The processed popularity ranking.\n",
        "                     -1 for non-referenced cards, integer rank for valid ranks, or NaN for invalid values.\n",
        "    \"\"\"\n",
        "    if value == \"Non référencé\":\n",
        "        return -1\n",
        "    elif isinstance(value, str) and value.startswith(\"#\"):\n",
        "        return int(value[1:])\n",
        "    else:\n",
        "        return np.nan\n"
      ]
    },
    {
      "cell_type": "markdown",
      "metadata": {
        "id": "6xzib0OsHFHh"
      },
      "source": [
        "Visualization of the dataset after modifications"
      ]
    },
    {
      "cell_type": "code",
      "execution_count": 8,
      "metadata": {
        "colab": {
          "base_uri": "https://localhost:8080/",
          "height": 330
        },
        "id": "3AQH-6ZA3jbL",
        "outputId": "3a1ebd92-1a21-42af-bfb4-7d055b7d42bb"
      },
      "outputs": [
        {
          "data": {
            "text/html": [
              "<div>\n",
              "<style scoped>\n",
              "    .dataframe tbody tr th:only-of-type {\n",
              "        vertical-align: middle;\n",
              "    }\n",
              "\n",
              "    .dataframe tbody tr th {\n",
              "        vertical-align: top;\n",
              "    }\n",
              "\n",
              "    .dataframe thead th {\n",
              "        text-align: right;\n",
              "    }\n",
              "</style>\n",
              "<table border=\"1\" class=\"dataframe\">\n",
              "  <thead>\n",
              "    <tr style=\"text-align: right;\">\n",
              "      <th></th>\n",
              "      <th>id</th>\n",
              "      <th>name</th>\n",
              "      <th>rarity</th>\n",
              "      <th>collection</th>\n",
              "      <th>series</th>\n",
              "      <th>holofoil_price</th>\n",
              "      <th>reverse_holofoil_price</th>\n",
              "      <th>release_date</th>\n",
              "      <th>nationalPokedexNumbers</th>\n",
              "      <th>artist</th>\n",
              "      <th>images_url</th>\n",
              "      <th>popularity_rank</th>\n",
              "      <th>average_price</th>\n",
              "      <th>processed_popularity</th>\n",
              "    </tr>\n",
              "  </thead>\n",
              "  <tbody>\n",
              "    <tr>\n",
              "      <th>0</th>\n",
              "      <td>dp3-1</td>\n",
              "      <td>Ampharos</td>\n",
              "      <td>Rare Holo</td>\n",
              "      <td>Secret Wonders</td>\n",
              "      <td>Diamond &amp; Pearl</td>\n",
              "      <td>14.73</td>\n",
              "      <td>9.99</td>\n",
              "      <td>2007-11-01</td>\n",
              "      <td>[181]</td>\n",
              "      <td>Kouki Saitou</td>\n",
              "      <td>https://images.pokemontcg.io/dp3/1_hires.png</td>\n",
              "      <td>#41</td>\n",
              "      <td>12.36</td>\n",
              "      <td>41.0</td>\n",
              "    </tr>\n",
              "    <tr>\n",
              "      <th>3</th>\n",
              "      <td>sm9-1</td>\n",
              "      <td>Celebi &amp; Venusaur-GX</td>\n",
              "      <td>Rare Holo GX</td>\n",
              "      <td>Team Up</td>\n",
              "      <td>Sun &amp; Moon</td>\n",
              "      <td>12.45</td>\n",
              "      <td>NaN</td>\n",
              "      <td>2019-02-01</td>\n",
              "      <td>[3, 251]</td>\n",
              "      <td>Mitsuhiro Arita</td>\n",
              "      <td>https://images.pokemontcg.io/sm9/1_hires.png</td>\n",
              "      <td>#84</td>\n",
              "      <td>12.45</td>\n",
              "      <td>84.0</td>\n",
              "    </tr>\n",
              "    <tr>\n",
              "      <th>4</th>\n",
              "      <td>pl1-2</td>\n",
              "      <td>Blastoise</td>\n",
              "      <td>Rare Holo</td>\n",
              "      <td>Platinum</td>\n",
              "      <td>Platinum</td>\n",
              "      <td>20.42</td>\n",
              "      <td>12.34</td>\n",
              "      <td>2009-02-11</td>\n",
              "      <td>[9]</td>\n",
              "      <td>Kagemaru Himeno</td>\n",
              "      <td>https://images.pokemontcg.io/pl1/2_hires.png</td>\n",
              "      <td>#106</td>\n",
              "      <td>16.38</td>\n",
              "      <td>106.0</td>\n",
              "    </tr>\n",
              "    <tr>\n",
              "      <th>5</th>\n",
              "      <td>ex3-2</td>\n",
              "      <td>Altaria</td>\n",
              "      <td>Rare Holo</td>\n",
              "      <td>Dragon</td>\n",
              "      <td>EX</td>\n",
              "      <td>20.35</td>\n",
              "      <td>14.97</td>\n",
              "      <td>2003-11-24</td>\n",
              "      <td>[334]</td>\n",
              "      <td>Atsuko Nishida</td>\n",
              "      <td>https://images.pokemontcg.io/ex3/2_hires.png</td>\n",
              "      <td>#105</td>\n",
              "      <td>17.66</td>\n",
              "      <td>105.0</td>\n",
              "    </tr>\n",
              "    <tr>\n",
              "      <th>6</th>\n",
              "      <td>sm12-1</td>\n",
              "      <td>Venusaur &amp; Snivy-GX</td>\n",
              "      <td>Rare Holo GX</td>\n",
              "      <td>Cosmic Eclipse</td>\n",
              "      <td>Sun &amp; Moon</td>\n",
              "      <td>8.31</td>\n",
              "      <td>NaN</td>\n",
              "      <td>2019-11-01</td>\n",
              "      <td>[3, 495]</td>\n",
              "      <td>Mitsuhiro Arita</td>\n",
              "      <td>https://images.pokemontcg.io/sm12/1_hires.png</td>\n",
              "      <td>#104</td>\n",
              "      <td>8.31</td>\n",
              "      <td>104.0</td>\n",
              "    </tr>\n",
              "  </tbody>\n",
              "</table>\n",
              "</div>"
            ],
            "text/plain": [
              "       id                  name        rarity      collection  \\\n",
              "0   dp3-1              Ampharos     Rare Holo  Secret Wonders   \n",
              "3   sm9-1  Celebi & Venusaur-GX  Rare Holo GX         Team Up   \n",
              "4   pl1-2             Blastoise     Rare Holo        Platinum   \n",
              "5   ex3-2               Altaria     Rare Holo          Dragon   \n",
              "6  sm12-1   Venusaur & Snivy-GX  Rare Holo GX  Cosmic Eclipse   \n",
              "\n",
              "            series  holofoil_price  reverse_holofoil_price release_date  \\\n",
              "0  Diamond & Pearl           14.73                    9.99   2007-11-01   \n",
              "3       Sun & Moon           12.45                     NaN   2019-02-01   \n",
              "4         Platinum           20.42                   12.34   2009-02-11   \n",
              "5               EX           20.35                   14.97   2003-11-24   \n",
              "6       Sun & Moon            8.31                     NaN   2019-11-01   \n",
              "\n",
              "  nationalPokedexNumbers           artist  \\\n",
              "0                  [181]     Kouki Saitou   \n",
              "3               [3, 251]  Mitsuhiro Arita   \n",
              "4                    [9]  Kagemaru Himeno   \n",
              "5                  [334]   Atsuko Nishida   \n",
              "6               [3, 495]  Mitsuhiro Arita   \n",
              "\n",
              "                                      images_url popularity_rank  \\\n",
              "0   https://images.pokemontcg.io/dp3/1_hires.png             #41   \n",
              "3   https://images.pokemontcg.io/sm9/1_hires.png             #84   \n",
              "4   https://images.pokemontcg.io/pl1/2_hires.png            #106   \n",
              "5   https://images.pokemontcg.io/ex3/2_hires.png            #105   \n",
              "6  https://images.pokemontcg.io/sm12/1_hires.png            #104   \n",
              "\n",
              "   average_price  processed_popularity  \n",
              "0          12.36                  41.0  \n",
              "3          12.45                  84.0  \n",
              "4          16.38                 106.0  \n",
              "5          17.66                 105.0  \n",
              "6           8.31                 104.0  "
            ]
          },
          "execution_count": 8,
          "metadata": {},
          "output_type": "execute_result"
        }
      ],
      "source": [
        "\n",
        "# Apply the function to calculate the average price\n",
        "data['average_price'] = data.apply(calculate_avg_price, axis=1)\n",
        "\n",
        "# Apply the function to preprocess the popularity column\n",
        "data['processed_popularity'] = data['popularity_rank'].apply(preprocess_popularity)\n",
        "\n",
        "# Convert release_date to datetime\n",
        "data['release_date'] = pd.to_datetime(data['release_date'], errors='coerce')\n",
        "\n",
        "# Drop rows with completely missing values for key features\n",
        "data = data.dropna(subset=['average_price', 'processed_popularity', 'release_date'])\n",
        "\n",
        "data.head()"
      ]
    },
    {
      "cell_type": "markdown",
      "metadata": {
        "id": "iR9OwbMQ8qbj"
      },
      "source": [
        "# **Lasso Regression with cross-validation on specific parameters**"
      ]
    },
    {
      "cell_type": "code",
      "execution_count": 9,
      "metadata": {
        "colab": {
          "base_uri": "https://localhost:8080/"
        },
        "id": "rt1MSbLM6BLF",
        "outputId": "79f42071-70b9-46f2-a845-770d08398c26"
      },
      "outputs": [
        {
          "name": "stderr",
          "output_type": "stream",
          "text": [
            "/var/folders/sg/lshv0q7145ggm8z9kc3b1y4r0000gn/T/ipykernel_24898/266759006.py:5: SettingWithCopyWarning: \n",
            "A value is trying to be set on a copy of a slice from a DataFrame\n",
            "\n",
            "See the caveats in the documentation: https://pandas.pydata.org/pandas-docs/stable/user_guide/indexing.html#returning-a-view-versus-a-copy\n",
            "  data.dropna(subset=features + [target], inplace=True)\n"
          ]
        },
        {
          "name": "stdout",
          "output_type": "stream",
          "text": [
            "\n",
            "=== Model Results ===\n",
            "Mean Squared Error (MSE): 8804.88\n",
            "Coefficient of Determination (R^2): 0.46\n",
            "\n",
            "Feature Importance:\n",
            "                   Feature  Importance\n",
            "13   rarity_Rare Holo Star  418.535563\n",
            "162          series_E-Card  145.483609\n",
            "246    artist_Naoyo Kimura  118.509583\n",
            "20      rarity_Rare Secret   61.068008\n",
            "33    collection_Aquapolis   31.362585\n",
            "..                     ...         ...\n",
            "172              series_XY  -12.514299\n",
            "327   processed_popularity  -15.994976\n",
            "5             rarity_Promo  -22.008551\n",
            "326           release_date  -24.357213\n",
            "9         rarity_Rare Holo  -51.228491\n",
            "\n",
            "[328 rows x 2 columns]\n",
            "\n",
            "Predictions for Example Cards:\n",
            "Card 1: Predicted Price = 131.12\n",
            "Card 2: Predicted Price = 116.58\n"
          ]
        }
      ],
      "source": [
        "\n",
        "features = ['rarity', 'collection', 'series', 'release_date', 'artist', 'processed_popularity']\n",
        "target = 'average_price'\n",
        "\n",
        "\n",
        "data.dropna(subset=features + [target], inplace=True)\n",
        "\n",
        "\n",
        "data_filtered = data[data['processed_popularity'] != -1]\n",
        "\n",
        "\n",
        "if 'release_date' in features:\n",
        "    data_filtered['release_date'] = pd.to_datetime(data_filtered['release_date'], errors='coerce').dt.year\n",
        "\n",
        "\n",
        "categorical_features = ['rarity', 'collection', 'series', 'artist']\n",
        "numerical_features = ['release_date', 'processed_popularity']\n",
        "\n",
        "\n",
        "preprocessor = ColumnTransformer(\n",
        "    transformers=[\n",
        "        ('cat', OneHotEncoder(handle_unknown='ignore'), categorical_features),\n",
        "        ('num', StandardScaler(), numerical_features)\n",
        "    ]\n",
        ")\n",
        "\n",
        "\n",
        "X = data_filtered[features]\n",
        "y = data_filtered[target]\n",
        "X_train, X_test, y_train, y_test = train_test_split(X, y, test_size=0.2, random_state=42)\n",
        "\n",
        "\n",
        "X_train_transformed = preprocessor.fit_transform(X_train)\n",
        "X_test_transformed = preprocessor.transform(X_test)\n",
        "\n",
        "\n",
        "lasso = LassoCV(cv=5, random_state=42)\n",
        "lasso.fit(X_train_transformed, y_train)\n",
        "\n",
        "\n",
        "y_pred = lasso.predict(X_test_transformed)\n",
        "\n",
        "\n",
        "mse = mean_squared_error(y_test, y_pred)\n",
        "r2 = r2_score(y_test, y_pred)\n",
        "\n",
        "print(\"\\n=== Model Results ===\")\n",
        "print(f\"Mean Squared Error (MSE): {mse:.2f}\")\n",
        "print(f\"Coefficient of Determination (R^2): {r2:.2f}\")\n",
        "\n",
        "\n",
        "feature_names = preprocessor.named_transformers_['cat'].get_feature_names_out(categorical_features).tolist() + numerical_features\n",
        "importance = pd.DataFrame({\"Feature\": feature_names, \"Importance\": lasso.coef_}).sort_values(by=\"Importance\", ascending=False)\n",
        "print(\"\\nFeature Importance:\")\n",
        "print(importance)\n",
        "\n",
        "\n",
        "example_cards = pd.DataFrame({\n",
        "    'rarity': ['Rare', 'Ultra Rare'],\n",
        "    'collection': ['Base Set', 'Fossil'],\n",
        "    'series': ['Original Series', 'Original Series'],\n",
        "    'release_date': [1999, 2000],\n",
        "    'artist': ['Ken Sugimori', 'Mitsuhiro Arita'],\n",
        "    'processed_popularity': [8, 50]\n",
        "})\n",
        "\n",
        "\n",
        "example_transformed = preprocessor.transform(example_cards)\n",
        "predictions = lasso.predict(example_transformed)\n",
        "\n",
        "\n",
        "print(\"\\nPredictions for Example Cards:\")\n",
        "for i, pred in enumerate(predictions):\n",
        "    print(f\"Card {i+1}: Predicted Price = {pred:.2f}\")\n"
      ]
    },
    {
      "cell_type": "markdown",
      "metadata": {
        "id": "xKF-pI7yA9dj"
      },
      "source": [
        "**Model Performance:**\n",
        "\n",
        " - The model provides a moderate R² value of 0.46, suggesting it captures some of the relationships between features and card prices but does not explain a large portion of the variance. The MSE of 8804.88 indicates moderate prediction accuracy.\n",
        "\n",
        " - In conclusion, we are unable to predict a card’s price with high accuracy by relying solely on the card’s characteristics or the popularity of the Pokémon. Therefore, it is not relevant to use these features to construct an investment portfolio. This is why, in the second part, we focus on using historical prices of cards to make more reliable predictions and, consequently, build a better investment portfolio."
      ]
    },
    {
      "cell_type": "markdown",
      "metadata": {
        "id": "h0CofZWA9oBU"
      },
      "source": [
        "**Top Features with Positive Importance:**\n",
        "\n",
        "  + rarity `Rare Holo Star` (418.53): The most important feature for predicting the price, suggesting that Pokémon cards with this rarity have a strong influence on the price. This may indicate that rare holo cards are more valuable.\n",
        "\n",
        "  + series `E-Card` (145.48): Cards from the E-Card series also seem to have a significant impact on the price.\n",
        "\n",
        "  + artist `Naoyo Kimura` (118.50): The positive coefficient for this artist indicates that cards illustrated by Naoyo Kimura tend to have higher predicted prices.\n",
        "\n",
        "**Features with Negative Importance:**\n",
        "\n",
        "  + `processed_popularity` (-15.65): The negative importance of popularity in the model suggests that higher popularity ranks (lower numerical values) tend to correlate with higher prices. Since the popularity rank is decreasing (with rank 1 being the most popular), a lower value for popularity means the card is more popular. Therefore, the negative coefficient suggests that more popular cards (lower popularity values) tend to have higher prices, which aligns with the expectation that highly sought-after cards are more valuable.\n",
        "\n",
        "  + `release_date` (-23.49): The negative coefficient suggests that older cards tend to have slightly higher predicted prices. This could be due to the fact that vintage cards often have a higher value due to their rarity and historical significance in the market."
      ]
    },
    {
      "cell_type": "markdown",
      "metadata": {
        "id": "tBJ7zVYAC6kB"
      },
      "source": [
        "Although the prediction may not seem highly accurate, this regression allows us to **identify the most influential characteristics on the price** (both positively and negatively). \n",
        "\n",
        "In the next section of the statistical analysis, we will specifically focus on the features that have the **greatest impact** (either positive or negative). We will not pay too much attention to features close to zero, as this suggests they have little influence. In the statistical analysis, we will assess how impactful the characteristics identified by the regression are and determine if they are relevant."
      ]
    },
    {
      "cell_type": "markdown",
      "metadata": {
        "id": "rV9Ds4ZME2a1"
      },
      "source": [
        "# **Statistical analysis**"
      ]
    },
    {
      "cell_type": "markdown",
      "metadata": {},
      "source": [
        "# **Top 10 Series with the Most Expensive Cards**"
      ]
    },
    {
      "cell_type": "code",
      "execution_count": 11,
      "metadata": {
        "colab": {
          "base_uri": "https://localhost:8080/",
          "height": 542
        },
        "id": "HggGAHjf_zTw",
        "outputId": "da0c5fa7-24c9-4ea5-af72-ce05c2a40123"
      },
      "outputs": [
        {
          "data": {
            "application/vnd.plotly.v1+json": {
              "config": {
                "plotlyServerURL": "https://plot.ly"
              },
              "data": [
                {
                  "alignmentgroup": "True",
                  "hovertemplate": "Average Price ($)=%{marker.color}<br>Series=%{y}<extra></extra>",
                  "insidetextanchor": "start",
                  "legendgroup": "",
                  "marker": {
                    "color": [
                      273.46642857142854,
                      184.00272727272727,
                      132.26149758454108,
                      85.77894736842104,
                      53.26571428571428,
                      50.004375,
                      48.90170403587444,
                      41.25283783783784,
                      35.596484375,
                      32.679836065573774
                    ],
                    "coloraxis": "coloraxis",
                    "pattern": {
                      "shape": ""
                    }
                  },
                  "name": "",
                  "offsetgroup": "",
                  "orientation": "h",
                  "showlegend": false,
                  "text": [
                    28,
                    11,
                    207,
                    19,
                    126,
                    16,
                    223,
                    74,
                    320,
                    61
                  ],
                  "textposition": "inside",
                  "type": "bar",
                  "x": [
                    273.46642857142854,
                    184.00272727272727,
                    132.26149758454108,
                    85.77894736842104,
                    53.26571428571428,
                    50.004375,
                    48.90170403587444,
                    41.25283783783784,
                    35.596484375,
                    32.679836065573774
                  ],
                  "xaxis": "x",
                  "y": [
                    "E-Card",
                    "Other",
                    "EX",
                    "Base",
                    "Black & White",
                    "NP",
                    "Sword & Shield",
                    "HeartGold & SoulSilver",
                    "Sun & Moon",
                    "Platinum"
                  ],
                  "yaxis": "y"
                }
              ],
              "layout": {
                "barmode": "relative",
                "coloraxis": {
                  "colorbar": {
                    "ticks": "outside",
                    "title": {
                      "text": "Price ($)"
                    }
                  },
                  "colorscale": [
                    [
                      0,
                      "#440154"
                    ],
                    [
                      0.1111111111111111,
                      "#482878"
                    ],
                    [
                      0.2222222222222222,
                      "#3e4989"
                    ],
                    [
                      0.3333333333333333,
                      "#31688e"
                    ],
                    [
                      0.4444444444444444,
                      "#26828e"
                    ],
                    [
                      0.5555555555555556,
                      "#1f9e89"
                    ],
                    [
                      0.6666666666666666,
                      "#35b779"
                    ],
                    [
                      0.7777777777777778,
                      "#6ece58"
                    ],
                    [
                      0.8888888888888888,
                      "#b5de2b"
                    ],
                    [
                      1,
                      "#fde725"
                    ]
                  ]
                },
                "legend": {
                  "tracegroupgap": 0
                },
                "paper_bgcolor": "rgba(240,248,255,0.9)",
                "plot_bgcolor": "rgba(0,0,0,0)",
                "template": {
                  "data": {
                    "bar": [
                      {
                        "error_x": {
                          "color": "#2a3f5f"
                        },
                        "error_y": {
                          "color": "#2a3f5f"
                        },
                        "marker": {
                          "line": {
                            "color": "#E5ECF6",
                            "width": 0.5
                          },
                          "pattern": {
                            "fillmode": "overlay",
                            "size": 10,
                            "solidity": 0.2
                          }
                        },
                        "type": "bar"
                      }
                    ],
                    "barpolar": [
                      {
                        "marker": {
                          "line": {
                            "color": "#E5ECF6",
                            "width": 0.5
                          },
                          "pattern": {
                            "fillmode": "overlay",
                            "size": 10,
                            "solidity": 0.2
                          }
                        },
                        "type": "barpolar"
                      }
                    ],
                    "carpet": [
                      {
                        "aaxis": {
                          "endlinecolor": "#2a3f5f",
                          "gridcolor": "white",
                          "linecolor": "white",
                          "minorgridcolor": "white",
                          "startlinecolor": "#2a3f5f"
                        },
                        "baxis": {
                          "endlinecolor": "#2a3f5f",
                          "gridcolor": "white",
                          "linecolor": "white",
                          "minorgridcolor": "white",
                          "startlinecolor": "#2a3f5f"
                        },
                        "type": "carpet"
                      }
                    ],
                    "choropleth": [
                      {
                        "colorbar": {
                          "outlinewidth": 0,
                          "ticks": ""
                        },
                        "type": "choropleth"
                      }
                    ],
                    "contour": [
                      {
                        "colorbar": {
                          "outlinewidth": 0,
                          "ticks": ""
                        },
                        "colorscale": [
                          [
                            0,
                            "#0d0887"
                          ],
                          [
                            0.1111111111111111,
                            "#46039f"
                          ],
                          [
                            0.2222222222222222,
                            "#7201a8"
                          ],
                          [
                            0.3333333333333333,
                            "#9c179e"
                          ],
                          [
                            0.4444444444444444,
                            "#bd3786"
                          ],
                          [
                            0.5555555555555556,
                            "#d8576b"
                          ],
                          [
                            0.6666666666666666,
                            "#ed7953"
                          ],
                          [
                            0.7777777777777778,
                            "#fb9f3a"
                          ],
                          [
                            0.8888888888888888,
                            "#fdca26"
                          ],
                          [
                            1,
                            "#f0f921"
                          ]
                        ],
                        "type": "contour"
                      }
                    ],
                    "contourcarpet": [
                      {
                        "colorbar": {
                          "outlinewidth": 0,
                          "ticks": ""
                        },
                        "type": "contourcarpet"
                      }
                    ],
                    "heatmap": [
                      {
                        "colorbar": {
                          "outlinewidth": 0,
                          "ticks": ""
                        },
                        "colorscale": [
                          [
                            0,
                            "#0d0887"
                          ],
                          [
                            0.1111111111111111,
                            "#46039f"
                          ],
                          [
                            0.2222222222222222,
                            "#7201a8"
                          ],
                          [
                            0.3333333333333333,
                            "#9c179e"
                          ],
                          [
                            0.4444444444444444,
                            "#bd3786"
                          ],
                          [
                            0.5555555555555556,
                            "#d8576b"
                          ],
                          [
                            0.6666666666666666,
                            "#ed7953"
                          ],
                          [
                            0.7777777777777778,
                            "#fb9f3a"
                          ],
                          [
                            0.8888888888888888,
                            "#fdca26"
                          ],
                          [
                            1,
                            "#f0f921"
                          ]
                        ],
                        "type": "heatmap"
                      }
                    ],
                    "heatmapgl": [
                      {
                        "colorbar": {
                          "outlinewidth": 0,
                          "ticks": ""
                        },
                        "colorscale": [
                          [
                            0,
                            "#0d0887"
                          ],
                          [
                            0.1111111111111111,
                            "#46039f"
                          ],
                          [
                            0.2222222222222222,
                            "#7201a8"
                          ],
                          [
                            0.3333333333333333,
                            "#9c179e"
                          ],
                          [
                            0.4444444444444444,
                            "#bd3786"
                          ],
                          [
                            0.5555555555555556,
                            "#d8576b"
                          ],
                          [
                            0.6666666666666666,
                            "#ed7953"
                          ],
                          [
                            0.7777777777777778,
                            "#fb9f3a"
                          ],
                          [
                            0.8888888888888888,
                            "#fdca26"
                          ],
                          [
                            1,
                            "#f0f921"
                          ]
                        ],
                        "type": "heatmapgl"
                      }
                    ],
                    "histogram": [
                      {
                        "marker": {
                          "pattern": {
                            "fillmode": "overlay",
                            "size": 10,
                            "solidity": 0.2
                          }
                        },
                        "type": "histogram"
                      }
                    ],
                    "histogram2d": [
                      {
                        "colorbar": {
                          "outlinewidth": 0,
                          "ticks": ""
                        },
                        "colorscale": [
                          [
                            0,
                            "#0d0887"
                          ],
                          [
                            0.1111111111111111,
                            "#46039f"
                          ],
                          [
                            0.2222222222222222,
                            "#7201a8"
                          ],
                          [
                            0.3333333333333333,
                            "#9c179e"
                          ],
                          [
                            0.4444444444444444,
                            "#bd3786"
                          ],
                          [
                            0.5555555555555556,
                            "#d8576b"
                          ],
                          [
                            0.6666666666666666,
                            "#ed7953"
                          ],
                          [
                            0.7777777777777778,
                            "#fb9f3a"
                          ],
                          [
                            0.8888888888888888,
                            "#fdca26"
                          ],
                          [
                            1,
                            "#f0f921"
                          ]
                        ],
                        "type": "histogram2d"
                      }
                    ],
                    "histogram2dcontour": [
                      {
                        "colorbar": {
                          "outlinewidth": 0,
                          "ticks": ""
                        },
                        "colorscale": [
                          [
                            0,
                            "#0d0887"
                          ],
                          [
                            0.1111111111111111,
                            "#46039f"
                          ],
                          [
                            0.2222222222222222,
                            "#7201a8"
                          ],
                          [
                            0.3333333333333333,
                            "#9c179e"
                          ],
                          [
                            0.4444444444444444,
                            "#bd3786"
                          ],
                          [
                            0.5555555555555556,
                            "#d8576b"
                          ],
                          [
                            0.6666666666666666,
                            "#ed7953"
                          ],
                          [
                            0.7777777777777778,
                            "#fb9f3a"
                          ],
                          [
                            0.8888888888888888,
                            "#fdca26"
                          ],
                          [
                            1,
                            "#f0f921"
                          ]
                        ],
                        "type": "histogram2dcontour"
                      }
                    ],
                    "mesh3d": [
                      {
                        "colorbar": {
                          "outlinewidth": 0,
                          "ticks": ""
                        },
                        "type": "mesh3d"
                      }
                    ],
                    "parcoords": [
                      {
                        "line": {
                          "colorbar": {
                            "outlinewidth": 0,
                            "ticks": ""
                          }
                        },
                        "type": "parcoords"
                      }
                    ],
                    "pie": [
                      {
                        "automargin": true,
                        "type": "pie"
                      }
                    ],
                    "scatter": [
                      {
                        "fillpattern": {
                          "fillmode": "overlay",
                          "size": 10,
                          "solidity": 0.2
                        },
                        "type": "scatter"
                      }
                    ],
                    "scatter3d": [
                      {
                        "line": {
                          "colorbar": {
                            "outlinewidth": 0,
                            "ticks": ""
                          }
                        },
                        "marker": {
                          "colorbar": {
                            "outlinewidth": 0,
                            "ticks": ""
                          }
                        },
                        "type": "scatter3d"
                      }
                    ],
                    "scattercarpet": [
                      {
                        "marker": {
                          "colorbar": {
                            "outlinewidth": 0,
                            "ticks": ""
                          }
                        },
                        "type": "scattercarpet"
                      }
                    ],
                    "scattergeo": [
                      {
                        "marker": {
                          "colorbar": {
                            "outlinewidth": 0,
                            "ticks": ""
                          }
                        },
                        "type": "scattergeo"
                      }
                    ],
                    "scattergl": [
                      {
                        "marker": {
                          "colorbar": {
                            "outlinewidth": 0,
                            "ticks": ""
                          }
                        },
                        "type": "scattergl"
                      }
                    ],
                    "scattermapbox": [
                      {
                        "marker": {
                          "colorbar": {
                            "outlinewidth": 0,
                            "ticks": ""
                          }
                        },
                        "type": "scattermapbox"
                      }
                    ],
                    "scatterpolar": [
                      {
                        "marker": {
                          "colorbar": {
                            "outlinewidth": 0,
                            "ticks": ""
                          }
                        },
                        "type": "scatterpolar"
                      }
                    ],
                    "scatterpolargl": [
                      {
                        "marker": {
                          "colorbar": {
                            "outlinewidth": 0,
                            "ticks": ""
                          }
                        },
                        "type": "scatterpolargl"
                      }
                    ],
                    "scatterternary": [
                      {
                        "marker": {
                          "colorbar": {
                            "outlinewidth": 0,
                            "ticks": ""
                          }
                        },
                        "type": "scatterternary"
                      }
                    ],
                    "surface": [
                      {
                        "colorbar": {
                          "outlinewidth": 0,
                          "ticks": ""
                        },
                        "colorscale": [
                          [
                            0,
                            "#0d0887"
                          ],
                          [
                            0.1111111111111111,
                            "#46039f"
                          ],
                          [
                            0.2222222222222222,
                            "#7201a8"
                          ],
                          [
                            0.3333333333333333,
                            "#9c179e"
                          ],
                          [
                            0.4444444444444444,
                            "#bd3786"
                          ],
                          [
                            0.5555555555555556,
                            "#d8576b"
                          ],
                          [
                            0.6666666666666666,
                            "#ed7953"
                          ],
                          [
                            0.7777777777777778,
                            "#fb9f3a"
                          ],
                          [
                            0.8888888888888888,
                            "#fdca26"
                          ],
                          [
                            1,
                            "#f0f921"
                          ]
                        ],
                        "type": "surface"
                      }
                    ],
                    "table": [
                      {
                        "cells": {
                          "fill": {
                            "color": "#EBF0F8"
                          },
                          "line": {
                            "color": "white"
                          }
                        },
                        "header": {
                          "fill": {
                            "color": "#C8D4E3"
                          },
                          "line": {
                            "color": "white"
                          }
                        },
                        "type": "table"
                      }
                    ]
                  },
                  "layout": {
                    "annotationdefaults": {
                      "arrowcolor": "#2a3f5f",
                      "arrowhead": 0,
                      "arrowwidth": 1
                    },
                    "autotypenumbers": "strict",
                    "coloraxis": {
                      "colorbar": {
                        "outlinewidth": 0,
                        "ticks": ""
                      }
                    },
                    "colorscale": {
                      "diverging": [
                        [
                          0,
                          "#8e0152"
                        ],
                        [
                          0.1,
                          "#c51b7d"
                        ],
                        [
                          0.2,
                          "#de77ae"
                        ],
                        [
                          0.3,
                          "#f1b6da"
                        ],
                        [
                          0.4,
                          "#fde0ef"
                        ],
                        [
                          0.5,
                          "#f7f7f7"
                        ],
                        [
                          0.6,
                          "#e6f5d0"
                        ],
                        [
                          0.7,
                          "#b8e186"
                        ],
                        [
                          0.8,
                          "#7fbc41"
                        ],
                        [
                          0.9,
                          "#4d9221"
                        ],
                        [
                          1,
                          "#276419"
                        ]
                      ],
                      "sequential": [
                        [
                          0,
                          "#0d0887"
                        ],
                        [
                          0.1111111111111111,
                          "#46039f"
                        ],
                        [
                          0.2222222222222222,
                          "#7201a8"
                        ],
                        [
                          0.3333333333333333,
                          "#9c179e"
                        ],
                        [
                          0.4444444444444444,
                          "#bd3786"
                        ],
                        [
                          0.5555555555555556,
                          "#d8576b"
                        ],
                        [
                          0.6666666666666666,
                          "#ed7953"
                        ],
                        [
                          0.7777777777777778,
                          "#fb9f3a"
                        ],
                        [
                          0.8888888888888888,
                          "#fdca26"
                        ],
                        [
                          1,
                          "#f0f921"
                        ]
                      ],
                      "sequentialminus": [
                        [
                          0,
                          "#0d0887"
                        ],
                        [
                          0.1111111111111111,
                          "#46039f"
                        ],
                        [
                          0.2222222222222222,
                          "#7201a8"
                        ],
                        [
                          0.3333333333333333,
                          "#9c179e"
                        ],
                        [
                          0.4444444444444444,
                          "#bd3786"
                        ],
                        [
                          0.5555555555555556,
                          "#d8576b"
                        ],
                        [
                          0.6666666666666666,
                          "#ed7953"
                        ],
                        [
                          0.7777777777777778,
                          "#fb9f3a"
                        ],
                        [
                          0.8888888888888888,
                          "#fdca26"
                        ],
                        [
                          1,
                          "#f0f921"
                        ]
                      ]
                    },
                    "colorway": [
                      "#636efa",
                      "#EF553B",
                      "#00cc96",
                      "#ab63fa",
                      "#FFA15A",
                      "#19d3f3",
                      "#FF6692",
                      "#B6E880",
                      "#FF97FF",
                      "#FECB52"
                    ],
                    "font": {
                      "color": "#2a3f5f"
                    },
                    "geo": {
                      "bgcolor": "white",
                      "lakecolor": "white",
                      "landcolor": "#E5ECF6",
                      "showlakes": true,
                      "showland": true,
                      "subunitcolor": "white"
                    },
                    "hoverlabel": {
                      "align": "left"
                    },
                    "hovermode": "closest",
                    "mapbox": {
                      "style": "light"
                    },
                    "paper_bgcolor": "white",
                    "plot_bgcolor": "#E5ECF6",
                    "polar": {
                      "angularaxis": {
                        "gridcolor": "white",
                        "linecolor": "white",
                        "ticks": ""
                      },
                      "bgcolor": "#E5ECF6",
                      "radialaxis": {
                        "gridcolor": "white",
                        "linecolor": "white",
                        "ticks": ""
                      }
                    },
                    "scene": {
                      "xaxis": {
                        "backgroundcolor": "#E5ECF6",
                        "gridcolor": "white",
                        "gridwidth": 2,
                        "linecolor": "white",
                        "showbackground": true,
                        "ticks": "",
                        "zerolinecolor": "white"
                      },
                      "yaxis": {
                        "backgroundcolor": "#E5ECF6",
                        "gridcolor": "white",
                        "gridwidth": 2,
                        "linecolor": "white",
                        "showbackground": true,
                        "ticks": "",
                        "zerolinecolor": "white"
                      },
                      "zaxis": {
                        "backgroundcolor": "#E5ECF6",
                        "gridcolor": "white",
                        "gridwidth": 2,
                        "linecolor": "white",
                        "showbackground": true,
                        "ticks": "",
                        "zerolinecolor": "white"
                      }
                    },
                    "shapedefaults": {
                      "line": {
                        "color": "#2a3f5f"
                      }
                    },
                    "ternary": {
                      "aaxis": {
                        "gridcolor": "white",
                        "linecolor": "white",
                        "ticks": ""
                      },
                      "baxis": {
                        "gridcolor": "white",
                        "linecolor": "white",
                        "ticks": ""
                      },
                      "bgcolor": "#E5ECF6",
                      "caxis": {
                        "gridcolor": "white",
                        "linecolor": "white",
                        "ticks": ""
                      }
                    },
                    "title": {
                      "x": 0.05
                    },
                    "xaxis": {
                      "automargin": true,
                      "gridcolor": "white",
                      "linecolor": "white",
                      "ticks": "",
                      "title": {
                        "standoff": 15
                      },
                      "zerolinecolor": "white",
                      "zerolinewidth": 2
                    },
                    "yaxis": {
                      "automargin": true,
                      "gridcolor": "white",
                      "linecolor": "white",
                      "ticks": "",
                      "title": {
                        "standoff": 15
                      },
                      "zerolinecolor": "white",
                      "zerolinewidth": 2
                    }
                  }
                },
                "title": {
                  "font": {
                    "color": "darkblue",
                    "family": "Arial",
                    "size": 20
                  },
                  "text": "Top 10 Series with the Most Expensive Cards"
                },
                "xaxis": {
                  "anchor": "y",
                  "domain": [
                    0,
                    1
                  ],
                  "tickfont": {
                    "size": 14
                  },
                  "title": {
                    "font": {
                      "size": 16
                    },
                    "text": "Average Price ($)"
                  }
                },
                "yaxis": {
                  "anchor": "x",
                  "domain": [
                    0,
                    1
                  ],
                  "tickfont": {
                    "size": 14
                  },
                  "title": {
                    "font": {
                      "size": 16
                    },
                    "text": "Series"
                  }
                }
              }
            }
          },
          "metadata": {},
          "output_type": "display_data"
        }
      ],
      "source": [
        "# Calculate the average price and the count of observations for each series\n",
        "series_stats = data.groupby('series').agg(\n",
        "    average_price=('average_price', 'mean'),\n",
        "    count=('average_price', 'size')\n",
        ").sort_values(by='average_price', ascending=False)\n",
        "\n",
        "# Get the top 10 series based on average price\n",
        "top_series = series_stats.head(10).reset_index()\n",
        "\n",
        "fig = px.bar(\n",
        "    top_series,\n",
        "    x='average_price',\n",
        "    y='series',\n",
        "    orientation='h',\n",
        "    color='average_price',\n",
        "    color_continuous_scale='Viridis',\n",
        "    title=\"Top 10 Series with the Most Expensive Cards\",\n",
        "    labels={'average_price': 'Average Price ($)', 'series': 'Series'}\n",
        ")\n",
        "\n",
        "# Add count of observations as text labels on the bars\n",
        "fig.update_traces(text=top_series['count'], textposition='inside', insidetextanchor='start')\n",
        "\n",
        "# Update the layout\n",
        "fig.update_layout(\n",
        "    title_font=dict(size=20, family='Arial', color='darkblue'),\n",
        "    xaxis=dict(title_font=dict(size=16), tickfont=dict(size=14)),\n",
        "    yaxis=dict(title_font=dict(size=16), tickfont=dict(size=14)),\n",
        "    coloraxis_colorbar=dict(title=\"Price ($)\", ticks=\"outside\"),\n",
        "    plot_bgcolor='rgba(0,0,0,0)',\n",
        "    paper_bgcolor='rgba(240,248,255,0.9)',\n",
        ")\n",
        "\n",
        "fig.show()\n",
        "\n"
      ]
    },
    {
      "cell_type": "markdown",
      "metadata": {
        "id": "1VvA_30MIl8w"
      },
      "source": [
        "It can be observed that the prices of cards from the E-card series are significantly higher than those from other series, with an average price of 161.64 USD, which is more than twice the average price of the second most expensive series, EX (80.56 USD). \n",
        "\n",
        "This confirms the high coefficient of the E-card series in the linear regression. Additionally, the number of observations is sufficiently large to suggest that this result is significant."
      ]
    },
    {
      "cell_type": "markdown",
      "metadata": {},
      "source": [
        "# **Top 10 Collections with the Most Expensive Cards**"
      ]
    },
    {
      "cell_type": "code",
      "execution_count": 12,
      "metadata": {
        "colab": {
          "base_uri": "https://localhost:8080/",
          "height": 542
        },
        "id": "FUgiWe9kJzUq",
        "outputId": "7c283052-2bee-4656-c466-b8e578a61620"
      },
      "outputs": [
        {
          "data": {
            "application/vnd.plotly.v1+json": {
              "config": {
                "plotlyServerURL": "https://plot.ly"
              },
              "data": [
                {
                  "alignmentgroup": "True",
                  "hovertemplate": "Average Price ($)=%{marker.color}<br>Collection=%{y}<extra></extra>",
                  "insidetextanchor": "start",
                  "legendgroup": "",
                  "marker": {
                    "color": [
                      434.89399999999995,
                      362.6275,
                      282.419,
                      262.673125,
                      185.299,
                      184.00272727272727,
                      182.78333333333336,
                      156.4042857142857,
                      147.03578947368422,
                      142.83807692307693
                    ],
                    "coloraxis": "coloraxis",
                    "pattern": {
                      "shape": ""
                    }
                  },
                  "name": "",
                  "offsetgroup": "",
                  "orientation": "h",
                  "showlegend": false,
                  "text": [
                    10,
                    4,
                    10,
                    16,
                    10,
                    11,
                    18,
                    7,
                    19,
                    13
                  ],
                  "textposition": "inside",
                  "type": "bar",
                  "x": [
                    434.89399999999995,
                    362.6275,
                    282.419,
                    262.673125,
                    185.299,
                    184.00272727272727,
                    182.78333333333336,
                    156.4042857142857,
                    147.03578947368422,
                    142.83807692307693
                  ],
                  "xaxis": "x",
                  "y": [
                    "Aquapolis",
                    "Skyridge",
                    "Team Rocket Returns",
                    "Deoxys",
                    "FireRed & LeafGreen",
                    "Legendary Collection",
                    "Unseen Forces",
                    "Plasma Storm",
                    "Dragon Frontiers",
                    "Power Keepers"
                  ],
                  "yaxis": "y"
                }
              ],
              "layout": {
                "barmode": "relative",
                "coloraxis": {
                  "colorbar": {
                    "ticks": "outside",
                    "title": {
                      "text": "Price ($)"
                    }
                  },
                  "colorscale": [
                    [
                      0,
                      "#440154"
                    ],
                    [
                      0.1111111111111111,
                      "#482878"
                    ],
                    [
                      0.2222222222222222,
                      "#3e4989"
                    ],
                    [
                      0.3333333333333333,
                      "#31688e"
                    ],
                    [
                      0.4444444444444444,
                      "#26828e"
                    ],
                    [
                      0.5555555555555556,
                      "#1f9e89"
                    ],
                    [
                      0.6666666666666666,
                      "#35b779"
                    ],
                    [
                      0.7777777777777778,
                      "#6ece58"
                    ],
                    [
                      0.8888888888888888,
                      "#b5de2b"
                    ],
                    [
                      1,
                      "#fde725"
                    ]
                  ]
                },
                "legend": {
                  "tracegroupgap": 0
                },
                "paper_bgcolor": "rgba(240,248,255,0.9)",
                "plot_bgcolor": "rgba(0,0,0,0)",
                "template": {
                  "data": {
                    "bar": [
                      {
                        "error_x": {
                          "color": "#2a3f5f"
                        },
                        "error_y": {
                          "color": "#2a3f5f"
                        },
                        "marker": {
                          "line": {
                            "color": "#E5ECF6",
                            "width": 0.5
                          },
                          "pattern": {
                            "fillmode": "overlay",
                            "size": 10,
                            "solidity": 0.2
                          }
                        },
                        "type": "bar"
                      }
                    ],
                    "barpolar": [
                      {
                        "marker": {
                          "line": {
                            "color": "#E5ECF6",
                            "width": 0.5
                          },
                          "pattern": {
                            "fillmode": "overlay",
                            "size": 10,
                            "solidity": 0.2
                          }
                        },
                        "type": "barpolar"
                      }
                    ],
                    "carpet": [
                      {
                        "aaxis": {
                          "endlinecolor": "#2a3f5f",
                          "gridcolor": "white",
                          "linecolor": "white",
                          "minorgridcolor": "white",
                          "startlinecolor": "#2a3f5f"
                        },
                        "baxis": {
                          "endlinecolor": "#2a3f5f",
                          "gridcolor": "white",
                          "linecolor": "white",
                          "minorgridcolor": "white",
                          "startlinecolor": "#2a3f5f"
                        },
                        "type": "carpet"
                      }
                    ],
                    "choropleth": [
                      {
                        "colorbar": {
                          "outlinewidth": 0,
                          "ticks": ""
                        },
                        "type": "choropleth"
                      }
                    ],
                    "contour": [
                      {
                        "colorbar": {
                          "outlinewidth": 0,
                          "ticks": ""
                        },
                        "colorscale": [
                          [
                            0,
                            "#0d0887"
                          ],
                          [
                            0.1111111111111111,
                            "#46039f"
                          ],
                          [
                            0.2222222222222222,
                            "#7201a8"
                          ],
                          [
                            0.3333333333333333,
                            "#9c179e"
                          ],
                          [
                            0.4444444444444444,
                            "#bd3786"
                          ],
                          [
                            0.5555555555555556,
                            "#d8576b"
                          ],
                          [
                            0.6666666666666666,
                            "#ed7953"
                          ],
                          [
                            0.7777777777777778,
                            "#fb9f3a"
                          ],
                          [
                            0.8888888888888888,
                            "#fdca26"
                          ],
                          [
                            1,
                            "#f0f921"
                          ]
                        ],
                        "type": "contour"
                      }
                    ],
                    "contourcarpet": [
                      {
                        "colorbar": {
                          "outlinewidth": 0,
                          "ticks": ""
                        },
                        "type": "contourcarpet"
                      }
                    ],
                    "heatmap": [
                      {
                        "colorbar": {
                          "outlinewidth": 0,
                          "ticks": ""
                        },
                        "colorscale": [
                          [
                            0,
                            "#0d0887"
                          ],
                          [
                            0.1111111111111111,
                            "#46039f"
                          ],
                          [
                            0.2222222222222222,
                            "#7201a8"
                          ],
                          [
                            0.3333333333333333,
                            "#9c179e"
                          ],
                          [
                            0.4444444444444444,
                            "#bd3786"
                          ],
                          [
                            0.5555555555555556,
                            "#d8576b"
                          ],
                          [
                            0.6666666666666666,
                            "#ed7953"
                          ],
                          [
                            0.7777777777777778,
                            "#fb9f3a"
                          ],
                          [
                            0.8888888888888888,
                            "#fdca26"
                          ],
                          [
                            1,
                            "#f0f921"
                          ]
                        ],
                        "type": "heatmap"
                      }
                    ],
                    "heatmapgl": [
                      {
                        "colorbar": {
                          "outlinewidth": 0,
                          "ticks": ""
                        },
                        "colorscale": [
                          [
                            0,
                            "#0d0887"
                          ],
                          [
                            0.1111111111111111,
                            "#46039f"
                          ],
                          [
                            0.2222222222222222,
                            "#7201a8"
                          ],
                          [
                            0.3333333333333333,
                            "#9c179e"
                          ],
                          [
                            0.4444444444444444,
                            "#bd3786"
                          ],
                          [
                            0.5555555555555556,
                            "#d8576b"
                          ],
                          [
                            0.6666666666666666,
                            "#ed7953"
                          ],
                          [
                            0.7777777777777778,
                            "#fb9f3a"
                          ],
                          [
                            0.8888888888888888,
                            "#fdca26"
                          ],
                          [
                            1,
                            "#f0f921"
                          ]
                        ],
                        "type": "heatmapgl"
                      }
                    ],
                    "histogram": [
                      {
                        "marker": {
                          "pattern": {
                            "fillmode": "overlay",
                            "size": 10,
                            "solidity": 0.2
                          }
                        },
                        "type": "histogram"
                      }
                    ],
                    "histogram2d": [
                      {
                        "colorbar": {
                          "outlinewidth": 0,
                          "ticks": ""
                        },
                        "colorscale": [
                          [
                            0,
                            "#0d0887"
                          ],
                          [
                            0.1111111111111111,
                            "#46039f"
                          ],
                          [
                            0.2222222222222222,
                            "#7201a8"
                          ],
                          [
                            0.3333333333333333,
                            "#9c179e"
                          ],
                          [
                            0.4444444444444444,
                            "#bd3786"
                          ],
                          [
                            0.5555555555555556,
                            "#d8576b"
                          ],
                          [
                            0.6666666666666666,
                            "#ed7953"
                          ],
                          [
                            0.7777777777777778,
                            "#fb9f3a"
                          ],
                          [
                            0.8888888888888888,
                            "#fdca26"
                          ],
                          [
                            1,
                            "#f0f921"
                          ]
                        ],
                        "type": "histogram2d"
                      }
                    ],
                    "histogram2dcontour": [
                      {
                        "colorbar": {
                          "outlinewidth": 0,
                          "ticks": ""
                        },
                        "colorscale": [
                          [
                            0,
                            "#0d0887"
                          ],
                          [
                            0.1111111111111111,
                            "#46039f"
                          ],
                          [
                            0.2222222222222222,
                            "#7201a8"
                          ],
                          [
                            0.3333333333333333,
                            "#9c179e"
                          ],
                          [
                            0.4444444444444444,
                            "#bd3786"
                          ],
                          [
                            0.5555555555555556,
                            "#d8576b"
                          ],
                          [
                            0.6666666666666666,
                            "#ed7953"
                          ],
                          [
                            0.7777777777777778,
                            "#fb9f3a"
                          ],
                          [
                            0.8888888888888888,
                            "#fdca26"
                          ],
                          [
                            1,
                            "#f0f921"
                          ]
                        ],
                        "type": "histogram2dcontour"
                      }
                    ],
                    "mesh3d": [
                      {
                        "colorbar": {
                          "outlinewidth": 0,
                          "ticks": ""
                        },
                        "type": "mesh3d"
                      }
                    ],
                    "parcoords": [
                      {
                        "line": {
                          "colorbar": {
                            "outlinewidth": 0,
                            "ticks": ""
                          }
                        },
                        "type": "parcoords"
                      }
                    ],
                    "pie": [
                      {
                        "automargin": true,
                        "type": "pie"
                      }
                    ],
                    "scatter": [
                      {
                        "fillpattern": {
                          "fillmode": "overlay",
                          "size": 10,
                          "solidity": 0.2
                        },
                        "type": "scatter"
                      }
                    ],
                    "scatter3d": [
                      {
                        "line": {
                          "colorbar": {
                            "outlinewidth": 0,
                            "ticks": ""
                          }
                        },
                        "marker": {
                          "colorbar": {
                            "outlinewidth": 0,
                            "ticks": ""
                          }
                        },
                        "type": "scatter3d"
                      }
                    ],
                    "scattercarpet": [
                      {
                        "marker": {
                          "colorbar": {
                            "outlinewidth": 0,
                            "ticks": ""
                          }
                        },
                        "type": "scattercarpet"
                      }
                    ],
                    "scattergeo": [
                      {
                        "marker": {
                          "colorbar": {
                            "outlinewidth": 0,
                            "ticks": ""
                          }
                        },
                        "type": "scattergeo"
                      }
                    ],
                    "scattergl": [
                      {
                        "marker": {
                          "colorbar": {
                            "outlinewidth": 0,
                            "ticks": ""
                          }
                        },
                        "type": "scattergl"
                      }
                    ],
                    "scattermapbox": [
                      {
                        "marker": {
                          "colorbar": {
                            "outlinewidth": 0,
                            "ticks": ""
                          }
                        },
                        "type": "scattermapbox"
                      }
                    ],
                    "scatterpolar": [
                      {
                        "marker": {
                          "colorbar": {
                            "outlinewidth": 0,
                            "ticks": ""
                          }
                        },
                        "type": "scatterpolar"
                      }
                    ],
                    "scatterpolargl": [
                      {
                        "marker": {
                          "colorbar": {
                            "outlinewidth": 0,
                            "ticks": ""
                          }
                        },
                        "type": "scatterpolargl"
                      }
                    ],
                    "scatterternary": [
                      {
                        "marker": {
                          "colorbar": {
                            "outlinewidth": 0,
                            "ticks": ""
                          }
                        },
                        "type": "scatterternary"
                      }
                    ],
                    "surface": [
                      {
                        "colorbar": {
                          "outlinewidth": 0,
                          "ticks": ""
                        },
                        "colorscale": [
                          [
                            0,
                            "#0d0887"
                          ],
                          [
                            0.1111111111111111,
                            "#46039f"
                          ],
                          [
                            0.2222222222222222,
                            "#7201a8"
                          ],
                          [
                            0.3333333333333333,
                            "#9c179e"
                          ],
                          [
                            0.4444444444444444,
                            "#bd3786"
                          ],
                          [
                            0.5555555555555556,
                            "#d8576b"
                          ],
                          [
                            0.6666666666666666,
                            "#ed7953"
                          ],
                          [
                            0.7777777777777778,
                            "#fb9f3a"
                          ],
                          [
                            0.8888888888888888,
                            "#fdca26"
                          ],
                          [
                            1,
                            "#f0f921"
                          ]
                        ],
                        "type": "surface"
                      }
                    ],
                    "table": [
                      {
                        "cells": {
                          "fill": {
                            "color": "#EBF0F8"
                          },
                          "line": {
                            "color": "white"
                          }
                        },
                        "header": {
                          "fill": {
                            "color": "#C8D4E3"
                          },
                          "line": {
                            "color": "white"
                          }
                        },
                        "type": "table"
                      }
                    ]
                  },
                  "layout": {
                    "annotationdefaults": {
                      "arrowcolor": "#2a3f5f",
                      "arrowhead": 0,
                      "arrowwidth": 1
                    },
                    "autotypenumbers": "strict",
                    "coloraxis": {
                      "colorbar": {
                        "outlinewidth": 0,
                        "ticks": ""
                      }
                    },
                    "colorscale": {
                      "diverging": [
                        [
                          0,
                          "#8e0152"
                        ],
                        [
                          0.1,
                          "#c51b7d"
                        ],
                        [
                          0.2,
                          "#de77ae"
                        ],
                        [
                          0.3,
                          "#f1b6da"
                        ],
                        [
                          0.4,
                          "#fde0ef"
                        ],
                        [
                          0.5,
                          "#f7f7f7"
                        ],
                        [
                          0.6,
                          "#e6f5d0"
                        ],
                        [
                          0.7,
                          "#b8e186"
                        ],
                        [
                          0.8,
                          "#7fbc41"
                        ],
                        [
                          0.9,
                          "#4d9221"
                        ],
                        [
                          1,
                          "#276419"
                        ]
                      ],
                      "sequential": [
                        [
                          0,
                          "#0d0887"
                        ],
                        [
                          0.1111111111111111,
                          "#46039f"
                        ],
                        [
                          0.2222222222222222,
                          "#7201a8"
                        ],
                        [
                          0.3333333333333333,
                          "#9c179e"
                        ],
                        [
                          0.4444444444444444,
                          "#bd3786"
                        ],
                        [
                          0.5555555555555556,
                          "#d8576b"
                        ],
                        [
                          0.6666666666666666,
                          "#ed7953"
                        ],
                        [
                          0.7777777777777778,
                          "#fb9f3a"
                        ],
                        [
                          0.8888888888888888,
                          "#fdca26"
                        ],
                        [
                          1,
                          "#f0f921"
                        ]
                      ],
                      "sequentialminus": [
                        [
                          0,
                          "#0d0887"
                        ],
                        [
                          0.1111111111111111,
                          "#46039f"
                        ],
                        [
                          0.2222222222222222,
                          "#7201a8"
                        ],
                        [
                          0.3333333333333333,
                          "#9c179e"
                        ],
                        [
                          0.4444444444444444,
                          "#bd3786"
                        ],
                        [
                          0.5555555555555556,
                          "#d8576b"
                        ],
                        [
                          0.6666666666666666,
                          "#ed7953"
                        ],
                        [
                          0.7777777777777778,
                          "#fb9f3a"
                        ],
                        [
                          0.8888888888888888,
                          "#fdca26"
                        ],
                        [
                          1,
                          "#f0f921"
                        ]
                      ]
                    },
                    "colorway": [
                      "#636efa",
                      "#EF553B",
                      "#00cc96",
                      "#ab63fa",
                      "#FFA15A",
                      "#19d3f3",
                      "#FF6692",
                      "#B6E880",
                      "#FF97FF",
                      "#FECB52"
                    ],
                    "font": {
                      "color": "#2a3f5f"
                    },
                    "geo": {
                      "bgcolor": "white",
                      "lakecolor": "white",
                      "landcolor": "#E5ECF6",
                      "showlakes": true,
                      "showland": true,
                      "subunitcolor": "white"
                    },
                    "hoverlabel": {
                      "align": "left"
                    },
                    "hovermode": "closest",
                    "mapbox": {
                      "style": "light"
                    },
                    "paper_bgcolor": "white",
                    "plot_bgcolor": "#E5ECF6",
                    "polar": {
                      "angularaxis": {
                        "gridcolor": "white",
                        "linecolor": "white",
                        "ticks": ""
                      },
                      "bgcolor": "#E5ECF6",
                      "radialaxis": {
                        "gridcolor": "white",
                        "linecolor": "white",
                        "ticks": ""
                      }
                    },
                    "scene": {
                      "xaxis": {
                        "backgroundcolor": "#E5ECF6",
                        "gridcolor": "white",
                        "gridwidth": 2,
                        "linecolor": "white",
                        "showbackground": true,
                        "ticks": "",
                        "zerolinecolor": "white"
                      },
                      "yaxis": {
                        "backgroundcolor": "#E5ECF6",
                        "gridcolor": "white",
                        "gridwidth": 2,
                        "linecolor": "white",
                        "showbackground": true,
                        "ticks": "",
                        "zerolinecolor": "white"
                      },
                      "zaxis": {
                        "backgroundcolor": "#E5ECF6",
                        "gridcolor": "white",
                        "gridwidth": 2,
                        "linecolor": "white",
                        "showbackground": true,
                        "ticks": "",
                        "zerolinecolor": "white"
                      }
                    },
                    "shapedefaults": {
                      "line": {
                        "color": "#2a3f5f"
                      }
                    },
                    "ternary": {
                      "aaxis": {
                        "gridcolor": "white",
                        "linecolor": "white",
                        "ticks": ""
                      },
                      "baxis": {
                        "gridcolor": "white",
                        "linecolor": "white",
                        "ticks": ""
                      },
                      "bgcolor": "#E5ECF6",
                      "caxis": {
                        "gridcolor": "white",
                        "linecolor": "white",
                        "ticks": ""
                      }
                    },
                    "title": {
                      "x": 0.05
                    },
                    "xaxis": {
                      "automargin": true,
                      "gridcolor": "white",
                      "linecolor": "white",
                      "ticks": "",
                      "title": {
                        "standoff": 15
                      },
                      "zerolinecolor": "white",
                      "zerolinewidth": 2
                    },
                    "yaxis": {
                      "automargin": true,
                      "gridcolor": "white",
                      "linecolor": "white",
                      "ticks": "",
                      "title": {
                        "standoff": 15
                      },
                      "zerolinecolor": "white",
                      "zerolinewidth": 2
                    }
                  }
                },
                "title": {
                  "font": {
                    "color": "darkblue",
                    "family": "Arial",
                    "size": 20
                  },
                  "text": "Top 10 Collections with the Most Expensive Cards"
                },
                "xaxis": {
                  "anchor": "y",
                  "domain": [
                    0,
                    1
                  ],
                  "tickfont": {
                    "size": 14
                  },
                  "title": {
                    "font": {
                      "size": 16
                    },
                    "text": "Average Price ($)"
                  }
                },
                "yaxis": {
                  "anchor": "x",
                  "domain": [
                    0,
                    1
                  ],
                  "tickfont": {
                    "size": 14
                  },
                  "title": {
                    "font": {
                      "size": 16
                    },
                    "text": "Collection"
                  }
                }
              }
            }
          },
          "metadata": {},
          "output_type": "display_data"
        }
      ],
      "source": [
        "\n",
        "collection_stats = data.groupby('collection').agg(\n",
        "    average_price=('average_price', 'mean'),\n",
        "    count=('average_price', 'size')\n",
        ").sort_values(by='average_price', ascending=False)\n",
        "\n",
        "\n",
        "top_collections = collection_stats.head(10).reset_index()\n",
        "\n",
        "\n",
        "fig = px.bar(\n",
        "    top_collections,\n",
        "    x='average_price',\n",
        "    y='collection',\n",
        "    orientation='h',\n",
        "    color='average_price',\n",
        "    color_continuous_scale='Viridis',\n",
        "    title=\"Top 10 Collections with the Most Expensive Cards\",\n",
        "    labels={'average_price': 'Average Price ($)', 'collection': 'Collection'}\n",
        ")\n",
        "\n",
        "\n",
        "fig.update_traces(text=top_collections['count'], textposition='inside', insidetextanchor='start')\n",
        "\n",
        "\n",
        "fig.update_layout(\n",
        "    title_font=dict(size=20, family='Arial', color='darkblue'),\n",
        "    xaxis=dict(title_font=dict(size=16), tickfont=dict(size=14)),\n",
        "    yaxis=dict(title_font=dict(size=16), tickfont=dict(size=14)),\n",
        "    coloraxis_colorbar=dict(title=\"Price ($)\", ticks=\"outside\"),\n",
        "    plot_bgcolor='rgba(0,0,0,0)',\n",
        "    paper_bgcolor='rgba(240,248,255,0.9)',\n",
        ")\n",
        "\n",
        "\n",
        "fig.show()\n"
      ]
    },
    {
      "cell_type": "markdown",
      "metadata": {
        "id": "NWil5i-2OXXo"
      },
      "source": [
        "We notice that the most expensive collection on average is Aquapolis, which is also present in the top 5 influential features on price according to the linear regression. However, in this case, we see that the top 5 most expensive collections have a price difference of around 50 USD, and the number of observations is under 30. Therefore, it is possible that the effect of the collection on the price may not be very significant.\n",
        "\n",
        "\n",
        "\n",
        "\n",
        "\n",
        "\n"
      ]
    },
    {
      "cell_type": "markdown",
      "metadata": {},
      "source": [
        "# **Top 10 Rarities with the Most Expensive Cards**"
      ]
    },
    {
      "cell_type": "code",
      "execution_count": 13,
      "metadata": {
        "colab": {
          "base_uri": "https://localhost:8080/",
          "height": 542
        },
        "id": "4Qh-57hyO8eT",
        "outputId": "b6759721-23b8-469d-8e40-8343111a495a"
      },
      "outputs": [
        {
          "data": {
            "application/vnd.plotly.v1+json": {
              "config": {
                "plotlyServerURL": "https://plot.ly"
              },
              "data": [
                {
                  "alignmentgroup": "True",
                  "hovertemplate": "<b>Rarity:</b> %{y}<br><b>Average Price:</b> $%{x:.2f}<br><b>Number of Cards:</b> %{text}<br>",
                  "legendgroup": "",
                  "marker": {
                    "color": [
                      719.6928571428571,
                      138.2388,
                      112.83749999999999,
                      85.47993421052632,
                      74.23388888888888,
                      65.216,
                      54.32759259259259,
                      52.70234513274336,
                      47.769706840390874,
                      45.69520000000001
                    ],
                    "coloraxis": "coloraxis",
                    "pattern": {
                      "shape": ""
                    }
                  },
                  "name": "",
                  "offsetgroup": "",
                  "orientation": "h",
                  "showlegend": false,
                  "text": [
                    14,
                    75,
                    12,
                    152,
                    18,
                    35,
                    162,
                    226,
                    307,
                    25
                  ],
                  "textposition": "outside",
                  "type": "bar",
                  "x": [
                    719.6928571428571,
                    138.2388,
                    112.83749999999999,
                    85.47993421052632,
                    74.23388888888888,
                    65.216,
                    54.32759259259259,
                    52.70234513274336,
                    47.769706840390874,
                    45.69520000000001
                  ],
                  "xaxis": "x",
                  "y": [
                    "Rare Holo Star",
                    "Rare Secret",
                    "Special Illustration Rare",
                    "Rare Holo EX",
                    "LEGEND",
                    "Rare Holo LV.X",
                    "Rare Rainbow",
                    "Rare Ultra",
                    "Rare Holo",
                    "Rare Shiny GX"
                  ],
                  "yaxis": "y"
                }
              ],
              "layout": {
                "barmode": "relative",
                "coloraxis": {
                  "colorbar": {
                    "ticks": "outside",
                    "title": {
                      "text": "Price ($)"
                    }
                  },
                  "colorscale": [
                    [
                      0,
                      "#440154"
                    ],
                    [
                      0.1111111111111111,
                      "#482878"
                    ],
                    [
                      0.2222222222222222,
                      "#3e4989"
                    ],
                    [
                      0.3333333333333333,
                      "#31688e"
                    ],
                    [
                      0.4444444444444444,
                      "#26828e"
                    ],
                    [
                      0.5555555555555556,
                      "#1f9e89"
                    ],
                    [
                      0.6666666666666666,
                      "#35b779"
                    ],
                    [
                      0.7777777777777778,
                      "#6ece58"
                    ],
                    [
                      0.8888888888888888,
                      "#b5de2b"
                    ],
                    [
                      1,
                      "#fde725"
                    ]
                  ]
                },
                "legend": {
                  "tracegroupgap": 0
                },
                "paper_bgcolor": "rgba(240,248,255,0.9)",
                "plot_bgcolor": "rgba(0,0,0,0)",
                "template": {
                  "data": {
                    "bar": [
                      {
                        "error_x": {
                          "color": "#2a3f5f"
                        },
                        "error_y": {
                          "color": "#2a3f5f"
                        },
                        "marker": {
                          "line": {
                            "color": "#E5ECF6",
                            "width": 0.5
                          },
                          "pattern": {
                            "fillmode": "overlay",
                            "size": 10,
                            "solidity": 0.2
                          }
                        },
                        "type": "bar"
                      }
                    ],
                    "barpolar": [
                      {
                        "marker": {
                          "line": {
                            "color": "#E5ECF6",
                            "width": 0.5
                          },
                          "pattern": {
                            "fillmode": "overlay",
                            "size": 10,
                            "solidity": 0.2
                          }
                        },
                        "type": "barpolar"
                      }
                    ],
                    "carpet": [
                      {
                        "aaxis": {
                          "endlinecolor": "#2a3f5f",
                          "gridcolor": "white",
                          "linecolor": "white",
                          "minorgridcolor": "white",
                          "startlinecolor": "#2a3f5f"
                        },
                        "baxis": {
                          "endlinecolor": "#2a3f5f",
                          "gridcolor": "white",
                          "linecolor": "white",
                          "minorgridcolor": "white",
                          "startlinecolor": "#2a3f5f"
                        },
                        "type": "carpet"
                      }
                    ],
                    "choropleth": [
                      {
                        "colorbar": {
                          "outlinewidth": 0,
                          "ticks": ""
                        },
                        "type": "choropleth"
                      }
                    ],
                    "contour": [
                      {
                        "colorbar": {
                          "outlinewidth": 0,
                          "ticks": ""
                        },
                        "colorscale": [
                          [
                            0,
                            "#0d0887"
                          ],
                          [
                            0.1111111111111111,
                            "#46039f"
                          ],
                          [
                            0.2222222222222222,
                            "#7201a8"
                          ],
                          [
                            0.3333333333333333,
                            "#9c179e"
                          ],
                          [
                            0.4444444444444444,
                            "#bd3786"
                          ],
                          [
                            0.5555555555555556,
                            "#d8576b"
                          ],
                          [
                            0.6666666666666666,
                            "#ed7953"
                          ],
                          [
                            0.7777777777777778,
                            "#fb9f3a"
                          ],
                          [
                            0.8888888888888888,
                            "#fdca26"
                          ],
                          [
                            1,
                            "#f0f921"
                          ]
                        ],
                        "type": "contour"
                      }
                    ],
                    "contourcarpet": [
                      {
                        "colorbar": {
                          "outlinewidth": 0,
                          "ticks": ""
                        },
                        "type": "contourcarpet"
                      }
                    ],
                    "heatmap": [
                      {
                        "colorbar": {
                          "outlinewidth": 0,
                          "ticks": ""
                        },
                        "colorscale": [
                          [
                            0,
                            "#0d0887"
                          ],
                          [
                            0.1111111111111111,
                            "#46039f"
                          ],
                          [
                            0.2222222222222222,
                            "#7201a8"
                          ],
                          [
                            0.3333333333333333,
                            "#9c179e"
                          ],
                          [
                            0.4444444444444444,
                            "#bd3786"
                          ],
                          [
                            0.5555555555555556,
                            "#d8576b"
                          ],
                          [
                            0.6666666666666666,
                            "#ed7953"
                          ],
                          [
                            0.7777777777777778,
                            "#fb9f3a"
                          ],
                          [
                            0.8888888888888888,
                            "#fdca26"
                          ],
                          [
                            1,
                            "#f0f921"
                          ]
                        ],
                        "type": "heatmap"
                      }
                    ],
                    "heatmapgl": [
                      {
                        "colorbar": {
                          "outlinewidth": 0,
                          "ticks": ""
                        },
                        "colorscale": [
                          [
                            0,
                            "#0d0887"
                          ],
                          [
                            0.1111111111111111,
                            "#46039f"
                          ],
                          [
                            0.2222222222222222,
                            "#7201a8"
                          ],
                          [
                            0.3333333333333333,
                            "#9c179e"
                          ],
                          [
                            0.4444444444444444,
                            "#bd3786"
                          ],
                          [
                            0.5555555555555556,
                            "#d8576b"
                          ],
                          [
                            0.6666666666666666,
                            "#ed7953"
                          ],
                          [
                            0.7777777777777778,
                            "#fb9f3a"
                          ],
                          [
                            0.8888888888888888,
                            "#fdca26"
                          ],
                          [
                            1,
                            "#f0f921"
                          ]
                        ],
                        "type": "heatmapgl"
                      }
                    ],
                    "histogram": [
                      {
                        "marker": {
                          "pattern": {
                            "fillmode": "overlay",
                            "size": 10,
                            "solidity": 0.2
                          }
                        },
                        "type": "histogram"
                      }
                    ],
                    "histogram2d": [
                      {
                        "colorbar": {
                          "outlinewidth": 0,
                          "ticks": ""
                        },
                        "colorscale": [
                          [
                            0,
                            "#0d0887"
                          ],
                          [
                            0.1111111111111111,
                            "#46039f"
                          ],
                          [
                            0.2222222222222222,
                            "#7201a8"
                          ],
                          [
                            0.3333333333333333,
                            "#9c179e"
                          ],
                          [
                            0.4444444444444444,
                            "#bd3786"
                          ],
                          [
                            0.5555555555555556,
                            "#d8576b"
                          ],
                          [
                            0.6666666666666666,
                            "#ed7953"
                          ],
                          [
                            0.7777777777777778,
                            "#fb9f3a"
                          ],
                          [
                            0.8888888888888888,
                            "#fdca26"
                          ],
                          [
                            1,
                            "#f0f921"
                          ]
                        ],
                        "type": "histogram2d"
                      }
                    ],
                    "histogram2dcontour": [
                      {
                        "colorbar": {
                          "outlinewidth": 0,
                          "ticks": ""
                        },
                        "colorscale": [
                          [
                            0,
                            "#0d0887"
                          ],
                          [
                            0.1111111111111111,
                            "#46039f"
                          ],
                          [
                            0.2222222222222222,
                            "#7201a8"
                          ],
                          [
                            0.3333333333333333,
                            "#9c179e"
                          ],
                          [
                            0.4444444444444444,
                            "#bd3786"
                          ],
                          [
                            0.5555555555555556,
                            "#d8576b"
                          ],
                          [
                            0.6666666666666666,
                            "#ed7953"
                          ],
                          [
                            0.7777777777777778,
                            "#fb9f3a"
                          ],
                          [
                            0.8888888888888888,
                            "#fdca26"
                          ],
                          [
                            1,
                            "#f0f921"
                          ]
                        ],
                        "type": "histogram2dcontour"
                      }
                    ],
                    "mesh3d": [
                      {
                        "colorbar": {
                          "outlinewidth": 0,
                          "ticks": ""
                        },
                        "type": "mesh3d"
                      }
                    ],
                    "parcoords": [
                      {
                        "line": {
                          "colorbar": {
                            "outlinewidth": 0,
                            "ticks": ""
                          }
                        },
                        "type": "parcoords"
                      }
                    ],
                    "pie": [
                      {
                        "automargin": true,
                        "type": "pie"
                      }
                    ],
                    "scatter": [
                      {
                        "fillpattern": {
                          "fillmode": "overlay",
                          "size": 10,
                          "solidity": 0.2
                        },
                        "type": "scatter"
                      }
                    ],
                    "scatter3d": [
                      {
                        "line": {
                          "colorbar": {
                            "outlinewidth": 0,
                            "ticks": ""
                          }
                        },
                        "marker": {
                          "colorbar": {
                            "outlinewidth": 0,
                            "ticks": ""
                          }
                        },
                        "type": "scatter3d"
                      }
                    ],
                    "scattercarpet": [
                      {
                        "marker": {
                          "colorbar": {
                            "outlinewidth": 0,
                            "ticks": ""
                          }
                        },
                        "type": "scattercarpet"
                      }
                    ],
                    "scattergeo": [
                      {
                        "marker": {
                          "colorbar": {
                            "outlinewidth": 0,
                            "ticks": ""
                          }
                        },
                        "type": "scattergeo"
                      }
                    ],
                    "scattergl": [
                      {
                        "marker": {
                          "colorbar": {
                            "outlinewidth": 0,
                            "ticks": ""
                          }
                        },
                        "type": "scattergl"
                      }
                    ],
                    "scattermapbox": [
                      {
                        "marker": {
                          "colorbar": {
                            "outlinewidth": 0,
                            "ticks": ""
                          }
                        },
                        "type": "scattermapbox"
                      }
                    ],
                    "scatterpolar": [
                      {
                        "marker": {
                          "colorbar": {
                            "outlinewidth": 0,
                            "ticks": ""
                          }
                        },
                        "type": "scatterpolar"
                      }
                    ],
                    "scatterpolargl": [
                      {
                        "marker": {
                          "colorbar": {
                            "outlinewidth": 0,
                            "ticks": ""
                          }
                        },
                        "type": "scatterpolargl"
                      }
                    ],
                    "scatterternary": [
                      {
                        "marker": {
                          "colorbar": {
                            "outlinewidth": 0,
                            "ticks": ""
                          }
                        },
                        "type": "scatterternary"
                      }
                    ],
                    "surface": [
                      {
                        "colorbar": {
                          "outlinewidth": 0,
                          "ticks": ""
                        },
                        "colorscale": [
                          [
                            0,
                            "#0d0887"
                          ],
                          [
                            0.1111111111111111,
                            "#46039f"
                          ],
                          [
                            0.2222222222222222,
                            "#7201a8"
                          ],
                          [
                            0.3333333333333333,
                            "#9c179e"
                          ],
                          [
                            0.4444444444444444,
                            "#bd3786"
                          ],
                          [
                            0.5555555555555556,
                            "#d8576b"
                          ],
                          [
                            0.6666666666666666,
                            "#ed7953"
                          ],
                          [
                            0.7777777777777778,
                            "#fb9f3a"
                          ],
                          [
                            0.8888888888888888,
                            "#fdca26"
                          ],
                          [
                            1,
                            "#f0f921"
                          ]
                        ],
                        "type": "surface"
                      }
                    ],
                    "table": [
                      {
                        "cells": {
                          "fill": {
                            "color": "#EBF0F8"
                          },
                          "line": {
                            "color": "white"
                          }
                        },
                        "header": {
                          "fill": {
                            "color": "#C8D4E3"
                          },
                          "line": {
                            "color": "white"
                          }
                        },
                        "type": "table"
                      }
                    ]
                  },
                  "layout": {
                    "annotationdefaults": {
                      "arrowcolor": "#2a3f5f",
                      "arrowhead": 0,
                      "arrowwidth": 1
                    },
                    "autotypenumbers": "strict",
                    "coloraxis": {
                      "colorbar": {
                        "outlinewidth": 0,
                        "ticks": ""
                      }
                    },
                    "colorscale": {
                      "diverging": [
                        [
                          0,
                          "#8e0152"
                        ],
                        [
                          0.1,
                          "#c51b7d"
                        ],
                        [
                          0.2,
                          "#de77ae"
                        ],
                        [
                          0.3,
                          "#f1b6da"
                        ],
                        [
                          0.4,
                          "#fde0ef"
                        ],
                        [
                          0.5,
                          "#f7f7f7"
                        ],
                        [
                          0.6,
                          "#e6f5d0"
                        ],
                        [
                          0.7,
                          "#b8e186"
                        ],
                        [
                          0.8,
                          "#7fbc41"
                        ],
                        [
                          0.9,
                          "#4d9221"
                        ],
                        [
                          1,
                          "#276419"
                        ]
                      ],
                      "sequential": [
                        [
                          0,
                          "#0d0887"
                        ],
                        [
                          0.1111111111111111,
                          "#46039f"
                        ],
                        [
                          0.2222222222222222,
                          "#7201a8"
                        ],
                        [
                          0.3333333333333333,
                          "#9c179e"
                        ],
                        [
                          0.4444444444444444,
                          "#bd3786"
                        ],
                        [
                          0.5555555555555556,
                          "#d8576b"
                        ],
                        [
                          0.6666666666666666,
                          "#ed7953"
                        ],
                        [
                          0.7777777777777778,
                          "#fb9f3a"
                        ],
                        [
                          0.8888888888888888,
                          "#fdca26"
                        ],
                        [
                          1,
                          "#f0f921"
                        ]
                      ],
                      "sequentialminus": [
                        [
                          0,
                          "#0d0887"
                        ],
                        [
                          0.1111111111111111,
                          "#46039f"
                        ],
                        [
                          0.2222222222222222,
                          "#7201a8"
                        ],
                        [
                          0.3333333333333333,
                          "#9c179e"
                        ],
                        [
                          0.4444444444444444,
                          "#bd3786"
                        ],
                        [
                          0.5555555555555556,
                          "#d8576b"
                        ],
                        [
                          0.6666666666666666,
                          "#ed7953"
                        ],
                        [
                          0.7777777777777778,
                          "#fb9f3a"
                        ],
                        [
                          0.8888888888888888,
                          "#fdca26"
                        ],
                        [
                          1,
                          "#f0f921"
                        ]
                      ]
                    },
                    "colorway": [
                      "#636efa",
                      "#EF553B",
                      "#00cc96",
                      "#ab63fa",
                      "#FFA15A",
                      "#19d3f3",
                      "#FF6692",
                      "#B6E880",
                      "#FF97FF",
                      "#FECB52"
                    ],
                    "font": {
                      "color": "#2a3f5f"
                    },
                    "geo": {
                      "bgcolor": "white",
                      "lakecolor": "white",
                      "landcolor": "#E5ECF6",
                      "showlakes": true,
                      "showland": true,
                      "subunitcolor": "white"
                    },
                    "hoverlabel": {
                      "align": "left"
                    },
                    "hovermode": "closest",
                    "mapbox": {
                      "style": "light"
                    },
                    "paper_bgcolor": "white",
                    "plot_bgcolor": "#E5ECF6",
                    "polar": {
                      "angularaxis": {
                        "gridcolor": "white",
                        "linecolor": "white",
                        "ticks": ""
                      },
                      "bgcolor": "#E5ECF6",
                      "radialaxis": {
                        "gridcolor": "white",
                        "linecolor": "white",
                        "ticks": ""
                      }
                    },
                    "scene": {
                      "xaxis": {
                        "backgroundcolor": "#E5ECF6",
                        "gridcolor": "white",
                        "gridwidth": 2,
                        "linecolor": "white",
                        "showbackground": true,
                        "ticks": "",
                        "zerolinecolor": "white"
                      },
                      "yaxis": {
                        "backgroundcolor": "#E5ECF6",
                        "gridcolor": "white",
                        "gridwidth": 2,
                        "linecolor": "white",
                        "showbackground": true,
                        "ticks": "",
                        "zerolinecolor": "white"
                      },
                      "zaxis": {
                        "backgroundcolor": "#E5ECF6",
                        "gridcolor": "white",
                        "gridwidth": 2,
                        "linecolor": "white",
                        "showbackground": true,
                        "ticks": "",
                        "zerolinecolor": "white"
                      }
                    },
                    "shapedefaults": {
                      "line": {
                        "color": "#2a3f5f"
                      }
                    },
                    "ternary": {
                      "aaxis": {
                        "gridcolor": "white",
                        "linecolor": "white",
                        "ticks": ""
                      },
                      "baxis": {
                        "gridcolor": "white",
                        "linecolor": "white",
                        "ticks": ""
                      },
                      "bgcolor": "#E5ECF6",
                      "caxis": {
                        "gridcolor": "white",
                        "linecolor": "white",
                        "ticks": ""
                      }
                    },
                    "title": {
                      "x": 0.05
                    },
                    "xaxis": {
                      "automargin": true,
                      "gridcolor": "white",
                      "linecolor": "white",
                      "ticks": "",
                      "title": {
                        "standoff": 15
                      },
                      "zerolinecolor": "white",
                      "zerolinewidth": 2
                    },
                    "yaxis": {
                      "automargin": true,
                      "gridcolor": "white",
                      "linecolor": "white",
                      "ticks": "",
                      "title": {
                        "standoff": 15
                      },
                      "zerolinecolor": "white",
                      "zerolinewidth": 2
                    }
                  }
                },
                "title": {
                  "font": {
                    "color": "darkblue",
                    "family": "Arial",
                    "size": 20
                  },
                  "text": "Top 10 Rarities with the Most Expensive Cards"
                },
                "xaxis": {
                  "anchor": "y",
                  "domain": [
                    0,
                    1
                  ],
                  "tickfont": {
                    "size": 14
                  },
                  "title": {
                    "font": {
                      "size": 16
                    },
                    "text": "Average Price ($)"
                  }
                },
                "yaxis": {
                  "anchor": "x",
                  "domain": [
                    0,
                    1
                  ],
                  "tickfont": {
                    "size": 14
                  },
                  "title": {
                    "font": {
                      "size": 16
                    },
                    "text": "Rarity"
                  }
                }
              }
            }
          },
          "metadata": {},
          "output_type": "display_data"
        }
      ],
      "source": [
        "\n",
        "rarity_stats = data.groupby('rarity').agg(\n",
        "    average_price=('average_price', 'mean'),\n",
        "    card_count=('average_price', 'count')\n",
        ").sort_values(by='average_price', ascending=False).reset_index()\n",
        "\n",
        "\n",
        "top_rarities = rarity_stats.head(10)\n",
        "\n",
        "\n",
        "fig = px.bar(\n",
        "    top_rarities,\n",
        "    x='average_price',\n",
        "    y='rarity',\n",
        "    orientation='h',\n",
        "    color='average_price',\n",
        "    color_continuous_scale='Viridis',\n",
        "    title=\"Top 10 Rarities with the Most Expensive Cards\",\n",
        "    labels={'average_price': 'Average Price ($)', 'rarity': 'Rarity'},\n",
        "    text='card_count')\n",
        "\n",
        "\n",
        "fig.update_traces(\n",
        "    hovertemplate='<b>Rarity:</b> %{y}<br>' +\n",
        "                  '<b>Average Price:</b> $%{x:.2f}<br>' +\n",
        "                  '<b>Number of Cards:</b> %{text}<br>',\n",
        "    textposition='outside')\n",
        "\n",
        "\n",
        "fig.update_layout(\n",
        "    title_font=dict(size=20, family='Arial', color='darkblue'),\n",
        "    xaxis=dict(title_font=dict(size=16), tickfont=dict(size=14)),\n",
        "    yaxis=dict(title_font=dict(size=16), tickfont=dict(size=14)),\n",
        "    coloraxis_colorbar=dict(title=\"Price ($)\", ticks=\"outside\"),\n",
        "    plot_bgcolor='rgba(0,0,0,0)',\n",
        "    paper_bgcolor='rgba(240,248,255,0.9)',)\n",
        "\n",
        "fig.show()\n"
      ]
    },
    {
      "cell_type": "markdown",
      "metadata": {
        "id": "b54jghPjPlWR"
      },
      "source": [
        "Regarding rarity, we notice a significant **difference between the price of Rare Holo Star cards and other rarities**, with an average price of **539 USD**, compared to 74 USD for the second rarity in the ranking. The number of observations for Rare Holo Star is very low (21 observations) compared to other rarities, which generally have more than 200 observations. This might lead us to believe that the rarity effect is biased by an overrepresentation of expensive cards, but this is not the case. Rare Holo Star cards are among the rarest, and it is logical that there are fewer copies in the database. \n",
        "\n",
        "In conclusion, the effect of rarity, specifically Rare Holo Star, is very significant, as indicated by the linear regression, which considers it the most influential feature on price. The low number of observations is justified by the rarity of this category."
      ]
    },
    {
      "cell_type": "markdown",
      "metadata": {},
      "source": [
        "# **Relationship between Popularity and Holofoil Price**"
      ]
    },
    {
      "cell_type": "code",
      "execution_count": 14,
      "metadata": {
        "colab": {
          "base_uri": "https://localhost:8080/",
          "height": 601
        },
        "id": "8HokkEVnSaRj",
        "outputId": "5c8ea5b9-2284-403a-8e38-13338d558ac7"
      },
      "outputs": [
        {
          "data": {
            "image/png": "[encoded data removed]",
            "text/plain": [
              "<Figure size 800x600 with 1 Axes>"
            ]
          },
          "metadata": {},
          "output_type": "display_data"
        }
      ],
      "source": [
        "df_filtered = data[data['processed_popularity'] != -1]\n",
        "\n",
        "\n",
        "sns.set_theme(style=\"darkgrid\")\n",
        "plt.figure(figsize=(8, 6))\n",
        "\n",
        "scatter = sns.scatterplot(\n",
        "    data=df_filtered,\n",
        "    x='processed_popularity',\n",
        "    y='holofoil_price',\n",
        "    size='holofoil_price',\n",
        "    sizes=(50, 300),\n",
        "    alpha=0.7,\n",
        "    hue='holofoil_price',\n",
        "    palette='viridis'\n",
        ")\n",
        "\n",
        "plt.title('Relationship between Popularity and Holofoil Price',\n",
        "    fontsize=14,\n",
        "    pad=15,\n",
        "    fontfamily='serif',\n",
        "    fontweight='normal')\n",
        "\n",
        "plt.xlabel('Popularity Index', fontsize=12)\n",
        "plt.ylabel('Holofoil Price ($)', fontsize=12)\n",
        "\n",
        "plt.legend(title='Price ($)', fontsize=10)\n",
        "plt.tight_layout()\n",
        "plt.show()"
      ]
    },
    {
      "cell_type": "markdown",
      "metadata": {
        "id": "5lAwfC6UXJcR"
      },
      "source": [
        "The graph shows a slight trend suggesting that the most popular cards are more likely to be very expensive. Most cards valued above $600 are within the top 25 of the popularity ranking and the top 3 most expensive cards are among the 20 most popular Pokémon. This indicates that the popularity of the Pokémon featured on the card can partially explain its price.\n",
        "\n",
        " This observation aligns with the linear regression results, which assign a negative coefficient to popularity. Since the \"popularity\" column represents a ranking, a lower rank corresponds to higher popularity, explaining the negative coefficient."
      ]
    },
    {
      "cell_type": "markdown",
      "metadata": {},
      "source": [
        "# **Correlation Between Release Date and Holofoil Price**"
      ]
    },
    {
      "cell_type": "code",
      "execution_count": 15,
      "metadata": {
        "colab": {
          "base_uri": "https://localhost:8080/",
          "height": 601
        },
        "id": "a__0skgapa8K",
        "outputId": "d258bb33-150d-424f-cb06-c62cb9200049"
      },
      "outputs": [
        {
          "data": {
            "image/png": "[encoded data removed]",
            "text/plain": [
              "<Figure size 800x600 with 1 Axes>"
            ]
          },
          "metadata": {},
          "output_type": "display_data"
        }
      ],
      "source": [
        "\n",
        "df_filtered = data[data['release_date'] != data['release_date'].max()]\n",
        "\n",
        "sns.set_theme(style=\"darkgrid\")\n",
        "\n",
        "plt.figure(figsize=(8, 6))\n",
        "\n",
        "scatter = sns.scatterplot(\n",
        "    data=df_filtered,\n",
        "    x='release_date',\n",
        "    y='holofoil_price',\n",
        "    size='holofoil_price',\n",
        "    sizes=(50, 300),\n",
        "    alpha=0.7,\n",
        "    hue='holofoil_price',\n",
        "    palette='viridis'\n",
        ")\n",
        "\n",
        "plt.axhline(y=600, color='blue', linestyle='--', label='Reference Line (300 $)')\n",
        "\n",
        "\n",
        "plt.title('Correlation Between Release Date and Holofoil Price',\n",
        "          fontsize=14,\n",
        "          pad=15,\n",
        "          fontfamily='serif',\n",
        "          fontweight='normal')\n",
        "plt.xlabel('Release Date', fontsize=12)\n",
        "plt.ylabel('Holofoil Price ($)', fontsize=12)\n",
        "\n",
        "plt.legend(title='Price ($)', fontsize=10)\n",
        "\n",
        "plt.tight_layout()\n",
        "\n",
        "plt.show()\n"
      ]
    },
    {
      "cell_type": "markdown",
      "metadata": {
        "id": "QMsSWY4_v0dw"
      },
      "source": [
        "We observe that most cards valued above 600 USD were produced between 2002 and 2007. Notably, three out of the five cards priced over 1,000 USD were produced during this period, as well as the only two cards exceeding 1,500 USD. Additionally, first editions are harder to find in good condition, which plays a significant role in determining a card's price. This could explain why the impact of a card's age on its price is not as pronounced as expected. In other words, older cards are more likely to be damaged, which reduces their value compared to their potential. Therefore, the effect of age on price is skewed by the card's condition."
      ]
    },
    {
      "cell_type": "markdown",
      "metadata": {},
      "source": [
        "# **Top 10 Artists with the Most Expensive Cards**"
      ]
    },
    {
      "cell_type": "code",
      "execution_count": 16,
      "metadata": {
        "colab": {
          "base_uri": "https://localhost:8080/",
          "height": 746
        },
        "id": "e7YwwRw7wC2n",
        "outputId": "53fe06df-0db8-4f40-8ce5-7fbec936c348"
      },
      "outputs": [
        {
          "name": "stderr",
          "output_type": "stream",
          "text": [
            "/var/folders/sg/lshv0q7145ggm8z9kc3b1y4r0000gn/T/ipykernel_24898/26429035.py:8: FutureWarning:\n",
            "\n",
            "\n",
            "\n",
            "Passing `palette` without assigning `hue` is deprecated and will be removed in v0.14.0. Assign the `x` variable to `hue` and set `legend=False` for the same effect.\n",
            "\n",
            "\n"
          ]
        },
        {
          "data": {
            "image/png": "[encoded data removed]",
            "text/plain": [
              "<Figure size 1200x600 with 1 Axes>"
            ]
          },
          "metadata": {},
          "output_type": "display_data"
        }
      ],
      "source": [
        "\n",
        "artist_stats = data.groupby('artist').agg(\n",
        "    holofoil_price_mean=('holofoil_price', 'mean'),\n",
        "    card_count=('holofoil_price', 'count')\n",
        ").sort_values('holofoil_price_mean', ascending=False).head(10).reset_index()\n",
        "\n",
        "\n",
        "plt.figure(figsize=(12, 6))\n",
        "barplot = sns.barplot(\n",
        "    x='artist',\n",
        "    y='holofoil_price_mean',\n",
        "    data=artist_stats,\n",
        "    palette='Reds_d'\n",
        ")\n",
        "\n",
        "\n",
        "for index, row in artist_stats.iterrows():\n",
        "    barplot.text(\n",
        "        index,\n",
        "        row['holofoil_price_mean'] + 10,\n",
        "        f\"{row['card_count']}\",\n",
        "        color='black',\n",
        "        ha='center',\n",
        "        fontsize=10\n",
        "    )\n",
        "\n",
        "\n",
        "plt.title('Top 10 Artists with the Most Expensive Cards', fontsize=16, weight='bold')\n",
        "plt.xlabel('Artist', fontsize=14)\n",
        "plt.ylabel('Average Holofoil Price ($)', fontsize=14)\n",
        "plt.xticks(rotation=45, ha='right', fontsize=12)\n",
        "plt.tight_layout()\n",
        "\n",
        "plt.show()\n"
      ]
    },
    {
      "cell_type": "markdown",
      "metadata": {
        "id": "gJ89gAKj13CR"
      },
      "source": [
        "We notice that among the top 10 artists with the highest average card prices, Naoyo Kimura stands out. Additionally, the number of observations in his column is 17, which is relatively significant compared to others with less than 4 observations."
      ]
    },
    {
      "cell_type": "markdown",
      "metadata": {},
      "source": [
        "# **Top 10 Artists with Most Popular Cards**"
      ]
    },
    {
      "cell_type": "code",
      "execution_count": 48,
      "metadata": {
        "colab": {
          "base_uri": "https://localhost:8080/",
          "height": 746
        },
        "id": "EoZ0Xcdxwr62",
        "outputId": "b6350417-d0e0-4fd4-e31c-d6ccff6d9015"
      },
      "outputs": [
        {
          "name": "stderr",
          "output_type": "stream",
          "text": [
            "<ipython-input-48-e5ed54810ae7>:9: FutureWarning:\n",
            "\n",
            "\n",
            "\n",
            "Passing `palette` without assigning `hue` is deprecated and will be removed in v0.14.0. Assign the `x` variable to `hue` and set `legend=False` for the same effect.\n",
            "\n",
            "\n"
          ]
        },
        {
          "data": {
            "image/png": "[encoded data removed]",
            "text/plain": [
              "<Figure size 1200x600 with 1 Axes>"
            ]
          },
          "metadata": {},
          "output_type": "display_data"
        }
      ],
      "source": [
        "\n",
        "artist_stats = data[data['processed_popularity'] != -1].groupby('artist').agg({\n",
        "    'processed_popularity': 'mean',\n",
        "    'name': 'count'\n",
        "}).reset_index()\n",
        "\n",
        "top_artists = artist_stats.nlargest(10, 'processed_popularity')\n",
        "\n",
        "plt.figure(figsize=(12, 6))\n",
        "sns.barplot(\n",
        "    x=top_artists['artist'],\n",
        "    y=top_artists['processed_popularity'],\n",
        "    palette='Blues_d'\n",
        ")\n",
        "\n",
        "plt.title('Top 10 Artists with Most Popular Cards')\n",
        "\n",
        "for i, (value, count) in enumerate(zip(top_artists['processed_popularity'], top_artists['name'])):\n",
        "    plt.text(i, value, f'{count}', ha='center', va='bottom')\n",
        "\n",
        "plt.xlabel('Artist', fontsize=16)\n",
        "plt.ylabel('Average Popularity Score', fontsize=16)\n",
        "plt.xticks(rotation=45, ha='right')\n",
        "plt.tight_layout()\n",
        "plt.show()"
      ]
    },
    {
      "cell_type": "markdown",
      "metadata": {
        "id": "DpWMNPZt3FD0"
      },
      "source": [
        "As for the top 10 artists with the most popular Pokémon, the study appears to be somewhat biased, as the artists in the top 10 have only one or two observations. For this reason, we are revisiting the study, this time focusing only on the artists who have at least five observations."
      ]
    },
    {
      "cell_type": "code",
      "execution_count": 55,
      "metadata": {
        "colab": {
          "base_uri": "https://localhost:8080/",
          "height": 746
        },
        "id": "Tn4fMrRIzUb8",
        "outputId": "6d4ce845-2a77-42b5-cf98-5eaf1c31ee64"
      },
      "outputs": [
        {
          "name": "stderr",
          "output_type": "stream",
          "text": [
            "<ipython-input-55-e30635139799>:12: FutureWarning:\n",
            "\n",
            "\n",
            "\n",
            "Passing `palette` without assigning `hue` is deprecated and will be removed in v0.14.0. Assign the `x` variable to `hue` and set `legend=False` for the same effect.\n",
            "\n",
            "\n"
          ]
        },
        {
          "data": {
            "image/png": "[encoded data removed]",
            "text/plain": [
              "<Figure size 1200x600 with 1 Axes>"
            ]
          },
          "metadata": {},
          "output_type": "display_data"
        }
      ],
      "source": [
        "\n",
        "artist_stats = data[data['processed_popularity'] != -1].groupby('artist').agg({\n",
        "    'processed_popularity': 'mean',\n",
        "    'name': 'count'\n",
        "}).reset_index()\n",
        "\n",
        "# Filtrer les artistes avec un nombre d'observations > 4\n",
        "filtered_artists = artist_stats[artist_stats['name'] > 4]\n",
        "\n",
        "top_artists = filtered_artists.nlargest(10, 'processed_popularity')\n",
        "\n",
        "plt.figure(figsize=(12, 6))\n",
        "sns.barplot(\n",
        "    x=top_artists['artist'],\n",
        "    y=top_artists['processed_popularity'],\n",
        "    palette='Blues_d'\n",
        ")\n",
        "\n",
        "plt.title('Top 10 Artists with Most Popular Cards (Observations > 6)', fontsize=16, weight='bold')\n",
        "\n",
        "for i, (value, count) in enumerate(zip(top_artists['processed_popularity'], top_artists['name'])):\n",
        "    plt.text(i, value, f'{count}', ha='center', va='bottom', fontsize=10, color='black')\n",
        "\n",
        "plt.xlabel('Artist', fontsize=14)\n",
        "plt.ylabel('Average Popularity Score', fontsize=14)\n",
        "\n",
        "plt.xticks(rotation=45, ha='right')\n",
        "plt.tight_layout()\n",
        "\n",
        "plt.show()\n"
      ]
    },
    {
      "cell_type": "markdown",
      "metadata": {
        "id": "PpbfkjrU4PpN"
      },
      "source": [
        "With this filtering, we find the artist Naoyo Kimura in the top 10. It is noteworthy that Naoyo Kimura appears in both the top 10 for price and popularity, which could suggest that if a card is produced by this artist, it tends to be both popular and expensive. This could partially explain the price of a card, and this is exactly what the linear regression analysis reveals from the data."
      ]
    }
  ],
  "metadata": {
    "colab": {
      "provenance": []
    },
    "kernelspec": {
      "display_name": "Python 3",
      "name": "python3"
    },
    "language_info": {
      "codemirror_mode": {
        "name": "ipython",
        "version": 3
      },
      "file_extension": ".py",
      "mimetype": "text/x-python",
      "name": "python",
      "nbconvert_exporter": "python",
      "pygments_lexer": "ipython3",
      "version": "3.9.20"
    }
  },
  "nbformat": 4,
  "nbformat_minor": 0
}
